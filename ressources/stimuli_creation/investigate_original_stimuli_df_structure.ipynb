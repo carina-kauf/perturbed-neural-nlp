{
 "cells": [
  {
   "cell_type": "markdown",
   "metadata": {},
   "source": [
    "# Script for creating sentence-meaning manipulation datasets from the Pereira2018 fMRI stimuli"
   ]
  },
  {
   "cell_type": "code",
   "execution_count": 1,
   "metadata": {},
   "outputs": [],
   "source": [
    "import re\n",
    "from pathlib import Path\n",
    "from os.path import abspath\n",
    "import os\n",
    "import numpy as np\n",
    "import random\n",
    "import pickle\n",
    "import csv\n",
    "import subprocess\n",
    "import collections\n",
    "from random import shuffle"
   ]
  },
  {
   "cell_type": "code",
   "execution_count": 2,
   "metadata": {},
   "outputs": [
    {
     "name": "stdout",
     "output_type": "stream",
     "text": [
      "/Users/gt/Documents/GitHub/perturbed-neural-nlp/ressources/stimuli_creation\n"
     ]
    }
   ],
   "source": [
    "print(os.getcwd())"
   ]
  },
  {
   "cell_type": "code",
   "execution_count": 3,
   "metadata": {},
   "outputs": [
    {
     "name": "stdout",
     "output_type": "stream",
     "text": [
      "/Users/gt/Documents/GitHub/perturbed-neural-nlp\n"
     ]
    }
   ],
   "source": [
    "importpath = abspath('../..')\n",
    "os.chdir(importpath)\n",
    "print(os.getcwd())"
   ]
  },
  {
   "cell_type": "code",
   "execution_count": 7,
   "metadata": {},
   "outputs": [],
   "source": [
    "#add seeds for reproducability\n",
    "np.random.seed(42)\n",
    "random.seed(42)\n",
    "\n",
    "# settings\n",
    "save = False # if storing pkl dataframes"
   ]
  },
  {
   "cell_type": "markdown",
   "metadata": {},
   "source": [
    "# Load base stimulus dataframe (Pereira 2018)"
   ]
  },
  {
   "cell_type": "code",
   "execution_count": 8,
   "metadata": {},
   "outputs": [
    {
     "data": {
      "text/html": [
       "<div>\n",
       "<style scoped>\n",
       "    .dataframe tbody tr th:only-of-type {\n",
       "        vertical-align: middle;\n",
       "    }\n",
       "\n",
       "    .dataframe tbody tr th {\n",
       "        vertical-align: top;\n",
       "    }\n",
       "\n",
       "    .dataframe thead th {\n",
       "        text-align: right;\n",
       "    }\n",
       "</style>\n",
       "<table border=\"1\" class=\"dataframe\">\n",
       "  <thead>\n",
       "    <tr style=\"text-align: right;\">\n",
       "      <th></th>\n",
       "      <th>sentence</th>\n",
       "      <th>sentence_num</th>\n",
       "      <th>stimulus_id</th>\n",
       "      <th>experiment</th>\n",
       "      <th>story</th>\n",
       "      <th>passage_index</th>\n",
       "      <th>passage_label</th>\n",
       "      <th>passage_category</th>\n",
       "    </tr>\n",
       "  </thead>\n",
       "  <tbody>\n",
       "    <tr>\n",
       "      <th>0</th>\n",
       "      <td>Beekeeping encourages the conservation of loca...</td>\n",
       "      <td>0</td>\n",
       "      <td>243sentences.0</td>\n",
       "      <td>243sentences</td>\n",
       "      <td>243sentences.beekeeping</td>\n",
       "      <td>1</td>\n",
       "      <td>beekeeping</td>\n",
       "      <td>beekeeping</td>\n",
       "    </tr>\n",
       "    <tr>\n",
       "      <th>1</th>\n",
       "      <td>It is in every beekeeper's interest to conserv...</td>\n",
       "      <td>1</td>\n",
       "      <td>243sentences.1</td>\n",
       "      <td>243sentences</td>\n",
       "      <td>243sentences.beekeeping</td>\n",
       "      <td>1</td>\n",
       "      <td>beekeeping</td>\n",
       "      <td>beekeeping</td>\n",
       "    </tr>\n",
       "    <tr>\n",
       "      <th>2</th>\n",
       "      <td>As a passive form of agriculture, it does not ...</td>\n",
       "      <td>2</td>\n",
       "      <td>243sentences.2</td>\n",
       "      <td>243sentences</td>\n",
       "      <td>243sentences.beekeeping</td>\n",
       "      <td>1</td>\n",
       "      <td>beekeeping</td>\n",
       "      <td>beekeeping</td>\n",
       "    </tr>\n",
       "    <tr>\n",
       "      <th>3</th>\n",
       "      <td>Beekeepers also discourage the use of pesticid...</td>\n",
       "      <td>3</td>\n",
       "      <td>243sentences.3</td>\n",
       "      <td>243sentences</td>\n",
       "      <td>243sentences.beekeeping</td>\n",
       "      <td>1</td>\n",
       "      <td>beekeeping</td>\n",
       "      <td>beekeeping</td>\n",
       "    </tr>\n",
       "    <tr>\n",
       "      <th>4</th>\n",
       "      <td>Artisanal beekeepers go to extremes for their ...</td>\n",
       "      <td>4</td>\n",
       "      <td>243sentences.4</td>\n",
       "      <td>243sentences</td>\n",
       "      <td>243sentences.beekeeping</td>\n",
       "      <td>2</td>\n",
       "      <td>beekeeping</td>\n",
       "      <td>beekeeping</td>\n",
       "    </tr>\n",
       "    <tr>\n",
       "      <th>...</th>\n",
       "      <td>...</td>\n",
       "      <td>...</td>\n",
       "      <td>...</td>\n",
       "      <td>...</td>\n",
       "      <td>...</td>\n",
       "      <td>...</td>\n",
       "      <td>...</td>\n",
       "      <td>...</td>\n",
       "    </tr>\n",
       "    <tr>\n",
       "      <th>622</th>\n",
       "      <td>Some windows have multiple panes to increase i...</td>\n",
       "      <td>379</td>\n",
       "      <td>384sentences.379</td>\n",
       "      <td>384sentences</td>\n",
       "      <td>384sentences.building_part</td>\n",
       "      <td>95</td>\n",
       "      <td>Window</td>\n",
       "      <td>building_part</td>\n",
       "    </tr>\n",
       "    <tr>\n",
       "      <th>623</th>\n",
       "      <td>A woman is a female human adult.</td>\n",
       "      <td>380</td>\n",
       "      <td>384sentences.380</td>\n",
       "      <td>384sentences</td>\n",
       "      <td>384sentences.human</td>\n",
       "      <td>96</td>\n",
       "      <td>Woman</td>\n",
       "      <td>human</td>\n",
       "    </tr>\n",
       "    <tr>\n",
       "      <th>624</th>\n",
       "      <td>A woman is stereotypically seen as a caregiver.</td>\n",
       "      <td>381</td>\n",
       "      <td>384sentences.381</td>\n",
       "      <td>384sentences</td>\n",
       "      <td>384sentences.human</td>\n",
       "      <td>96</td>\n",
       "      <td>Woman</td>\n",
       "      <td>human</td>\n",
       "    </tr>\n",
       "    <tr>\n",
       "      <th>625</th>\n",
       "      <td>A woman can become pregnant and bear children.</td>\n",
       "      <td>382</td>\n",
       "      <td>384sentences.382</td>\n",
       "      <td>384sentences</td>\n",
       "      <td>384sentences.human</td>\n",
       "      <td>96</td>\n",
       "      <td>Woman</td>\n",
       "      <td>human</td>\n",
       "    </tr>\n",
       "    <tr>\n",
       "      <th>626</th>\n",
       "      <td>A woman has different reproductive organs than...</td>\n",
       "      <td>383</td>\n",
       "      <td>384sentences.383</td>\n",
       "      <td>384sentences</td>\n",
       "      <td>384sentences.human</td>\n",
       "      <td>96</td>\n",
       "      <td>Woman</td>\n",
       "      <td>human</td>\n",
       "    </tr>\n",
       "  </tbody>\n",
       "</table>\n",
       "<p>627 rows × 8 columns</p>\n",
       "</div>"
      ],
      "text/plain": [
       "                                              sentence  sentence_num  \\\n",
       "0    Beekeeping encourages the conservation of loca...             0   \n",
       "1    It is in every beekeeper's interest to conserv...             1   \n",
       "2    As a passive form of agriculture, it does not ...             2   \n",
       "3    Beekeepers also discourage the use of pesticid...             3   \n",
       "4    Artisanal beekeepers go to extremes for their ...             4   \n",
       "..                                                 ...           ...   \n",
       "622  Some windows have multiple panes to increase i...           379   \n",
       "623                   A woman is a female human adult.           380   \n",
       "624    A woman is stereotypically seen as a caregiver.           381   \n",
       "625     A woman can become pregnant and bear children.           382   \n",
       "626  A woman has different reproductive organs than...           383   \n",
       "\n",
       "          stimulus_id    experiment                       story  \\\n",
       "0      243sentences.0  243sentences     243sentences.beekeeping   \n",
       "1      243sentences.1  243sentences     243sentences.beekeeping   \n",
       "2      243sentences.2  243sentences     243sentences.beekeeping   \n",
       "3      243sentences.3  243sentences     243sentences.beekeeping   \n",
       "4      243sentences.4  243sentences     243sentences.beekeeping   \n",
       "..                ...           ...                         ...   \n",
       "622  384sentences.379  384sentences  384sentences.building_part   \n",
       "623  384sentences.380  384sentences          384sentences.human   \n",
       "624  384sentences.381  384sentences          384sentences.human   \n",
       "625  384sentences.382  384sentences          384sentences.human   \n",
       "626  384sentences.383  384sentences          384sentences.human   \n",
       "\n",
       "     passage_index passage_label passage_category  \n",
       "0                1    beekeeping       beekeeping  \n",
       "1                1    beekeeping       beekeeping  \n",
       "2                1    beekeeping       beekeeping  \n",
       "3                1    beekeeping       beekeeping  \n",
       "4                2    beekeeping       beekeeping  \n",
       "..             ...           ...              ...  \n",
       "622             95        Window    building_part  \n",
       "623             96         Woman            human  \n",
       "624             96         Woman            human  \n",
       "625             96         Woman            human  \n",
       "626             96         Woman            human  \n",
       "\n",
       "[627 rows x 8 columns]"
      ]
     },
     "execution_count": 8,
     "metadata": {},
     "output_type": "execute_result"
    }
   ],
   "source": [
    "from neural_nlp.benchmarks.neural import *\n",
    "import neural_nlp\n",
    "from neural_nlp.stimuli import StimulusSet\n",
    "import xarray as xr\n",
    "\n",
    "benchmark_pool = [\n",
    "    # primary benchmarks\n",
    "    ('Pereira2018-encoding', PereiraEncoding),\n",
    "]\n",
    "benchmark_pool = {identifier: LazyLoad(lambda identifier=identifier, ctr=ctr: ctr(identifier=identifier))\n",
    "                  for identifier, ctr in benchmark_pool}\n",
    "\n",
    "# fetch stimulus set\n",
    "benchmark = benchmark_pool['Pereira2018-encoding']\n",
    "stimuli_df = benchmark._target_assembly.attrs['stimulus_set']\n",
    "stimuli_df"
   ]
  },
  {
   "cell_type": "code",
   "execution_count": 9,
   "metadata": {},
   "outputs": [
    {
     "data": {
      "text/plain": [
       "Coordinates:\n",
       "  * presentation      (presentation) MultiIndex\n",
       "  - stimulus_num      (presentation) int64 0 0 1 1 2 2 3 ... 12 12 13 13 14 14\n",
       "  - passage_index     (presentation) int64 1 1 1 1 1 1 1 1 2 ... 3 4 4 4 4 4 4 4\n",
       "  - passage_label     (presentation) object 'Accordion' ... 'dreams'\n",
       "  - passage_category  (presentation) object 'music' 'beekeeping' ... 'dreams'\n",
       "  - stimulus_id       (presentation) object '384sentences.0' ... '243sentences.14'\n",
       "  - story             (presentation) object '384sentences.music' ... '243sentences.dreams'\n",
       "  - experiment        (presentation) object '384sentences' ... '243sentences'\n",
       "  * neuroid           (neuroid) MultiIndex\n",
       "  - subject           (neuroid) object '018' '018' '018' ... '018' '018' '018'\n",
       "  - voxel_num         (neuroid) int64 28 29 31 32 38 42 ... 152 153 154 159 160\n",
       "  - atlas             (neuroid) object 'language' 'language' ... 'language'\n",
       "  - filter_strategy   (neuroid) object '' '' '' '' '' '' ... '' '' '' '' '' ''\n",
       "  - atlas_selection   (neuroid) object 'from90to100prcnt' ... 'from90to100prcnt'\n",
       "  - roi               (neuroid) object 'LH_AntTemp' ... 'LH_AntTemp'\n",
       "  - indices_in_3d     (neuroid) int64 72505 72506 72584 ... 87754 87831 87832\n",
       "  - col_to_coord_1    (neuroid) int64 62 63 62 63 63 63 63 ... 65 62 63 64 62 63\n",
       "  - col_to_coord_2    (neuroid) int64 63 63 64 64 65 66 63 ... 65 66 66 66 67 67\n",
       "  - col_to_coord_3    (neuroid) int64 10 10 10 10 10 10 11 ... 12 12 12 12 12 12\n",
       "  - neuroid_id        (neuroid) object '018.28' '018.29' ... '018.159' '018.160'"
      ]
     },
     "execution_count": 9,
     "metadata": {},
     "output_type": "execute_result"
    }
   ],
   "source": [
    "# benchmark content\n",
    "benchmark._target_assembly.values.shape\n",
    "benchmark._target_assembly.coords"
   ]
  },
  {
   "cell_type": "code",
   "execution_count": 10,
   "metadata": {},
   "outputs": [
    {
     "name": "stdout",
     "output_type": "stream",
     "text": [
      "/Users/gt/Documents/GitHub/perturbed-neural-nlp/ressources/stimuli_creation\n",
      "/Users/gt/Documents/GitHub/perturbed-neural-nlp/ressources/scrambled_stimuli_dfs\n"
     ]
    }
   ],
   "source": [
    "stimuli_path = os.path.join(os.getcwd(),'ressources/stimuli_creation')\n",
    "os.chdir(stimuli_path)\n",
    "print(os.getcwd())\n",
    "\n",
    "savedir = abspath('../scrambled_stimuli_dfs')\n",
    "print(savedir)\n",
    "os.makedirs(savedir, exist_ok=True)"
   ]
  },
  {
   "cell_type": "markdown",
   "metadata": {},
   "source": [
    "## Check how many topics there are"
   ]
  },
  {
   "cell_type": "code",
   "execution_count": 17,
   "metadata": {},
   "outputs": [
    {
     "data": {
      "text/html": [
       "<div>\n",
       "<style scoped>\n",
       "    .dataframe tbody tr th:only-of-type {\n",
       "        vertical-align: middle;\n",
       "    }\n",
       "\n",
       "    .dataframe tbody tr th {\n",
       "        vertical-align: top;\n",
       "    }\n",
       "\n",
       "    .dataframe thead th {\n",
       "        text-align: right;\n",
       "    }\n",
       "</style>\n",
       "<table border=\"1\" class=\"dataframe\">\n",
       "  <thead>\n",
       "    <tr style=\"text-align: right;\">\n",
       "      <th></th>\n",
       "      <th>sentence</th>\n",
       "      <th>sentence_num</th>\n",
       "      <th>stimulus_id</th>\n",
       "      <th>experiment</th>\n",
       "      <th>story</th>\n",
       "      <th>passage_index</th>\n",
       "      <th>passage_label</th>\n",
       "      <th>passage_category</th>\n",
       "    </tr>\n",
       "  </thead>\n",
       "  <tbody>\n",
       "    <tr>\n",
       "      <th>0</th>\n",
       "      <td>Beekeeping encourages the conservation of loca...</td>\n",
       "      <td>0</td>\n",
       "      <td>243sentences.0</td>\n",
       "      <td>243sentences</td>\n",
       "      <td>243sentences.beekeeping</td>\n",
       "      <td>1</td>\n",
       "      <td>beekeeping</td>\n",
       "      <td>beekeeping</td>\n",
       "    </tr>\n",
       "    <tr>\n",
       "      <th>1</th>\n",
       "      <td>It is in every beekeeper's interest to conserv...</td>\n",
       "      <td>1</td>\n",
       "      <td>243sentences.1</td>\n",
       "      <td>243sentences</td>\n",
       "      <td>243sentences.beekeeping</td>\n",
       "      <td>1</td>\n",
       "      <td>beekeeping</td>\n",
       "      <td>beekeeping</td>\n",
       "    </tr>\n",
       "    <tr>\n",
       "      <th>2</th>\n",
       "      <td>As a passive form of agriculture, it does not ...</td>\n",
       "      <td>2</td>\n",
       "      <td>243sentences.2</td>\n",
       "      <td>243sentences</td>\n",
       "      <td>243sentences.beekeeping</td>\n",
       "      <td>1</td>\n",
       "      <td>beekeeping</td>\n",
       "      <td>beekeeping</td>\n",
       "    </tr>\n",
       "    <tr>\n",
       "      <th>3</th>\n",
       "      <td>Beekeepers also discourage the use of pesticid...</td>\n",
       "      <td>3</td>\n",
       "      <td>243sentences.3</td>\n",
       "      <td>243sentences</td>\n",
       "      <td>243sentences.beekeeping</td>\n",
       "      <td>1</td>\n",
       "      <td>beekeeping</td>\n",
       "      <td>beekeeping</td>\n",
       "    </tr>\n",
       "    <tr>\n",
       "      <th>4</th>\n",
       "      <td>Artisanal beekeepers go to extremes for their ...</td>\n",
       "      <td>4</td>\n",
       "      <td>243sentences.4</td>\n",
       "      <td>243sentences</td>\n",
       "      <td>243sentences.beekeeping</td>\n",
       "      <td>2</td>\n",
       "      <td>beekeeping</td>\n",
       "      <td>beekeeping</td>\n",
       "    </tr>\n",
       "    <tr>\n",
       "      <th>...</th>\n",
       "      <td>...</td>\n",
       "      <td>...</td>\n",
       "      <td>...</td>\n",
       "      <td>...</td>\n",
       "      <td>...</td>\n",
       "      <td>...</td>\n",
       "      <td>...</td>\n",
       "      <td>...</td>\n",
       "    </tr>\n",
       "    <tr>\n",
       "      <th>622</th>\n",
       "      <td>Some windows have multiple panes to increase i...</td>\n",
       "      <td>379</td>\n",
       "      <td>384sentences.379</td>\n",
       "      <td>384sentences</td>\n",
       "      <td>384sentences.building_part</td>\n",
       "      <td>95</td>\n",
       "      <td>Window</td>\n",
       "      <td>building_part</td>\n",
       "    </tr>\n",
       "    <tr>\n",
       "      <th>623</th>\n",
       "      <td>A woman is a female human adult.</td>\n",
       "      <td>380</td>\n",
       "      <td>384sentences.380</td>\n",
       "      <td>384sentences</td>\n",
       "      <td>384sentences.human</td>\n",
       "      <td>96</td>\n",
       "      <td>Woman</td>\n",
       "      <td>human</td>\n",
       "    </tr>\n",
       "    <tr>\n",
       "      <th>624</th>\n",
       "      <td>A woman is stereotypically seen as a caregiver.</td>\n",
       "      <td>381</td>\n",
       "      <td>384sentences.381</td>\n",
       "      <td>384sentences</td>\n",
       "      <td>384sentences.human</td>\n",
       "      <td>96</td>\n",
       "      <td>Woman</td>\n",
       "      <td>human</td>\n",
       "    </tr>\n",
       "    <tr>\n",
       "      <th>625</th>\n",
       "      <td>A woman can become pregnant and bear children.</td>\n",
       "      <td>382</td>\n",
       "      <td>384sentences.382</td>\n",
       "      <td>384sentences</td>\n",
       "      <td>384sentences.human</td>\n",
       "      <td>96</td>\n",
       "      <td>Woman</td>\n",
       "      <td>human</td>\n",
       "    </tr>\n",
       "    <tr>\n",
       "      <th>626</th>\n",
       "      <td>A woman has different reproductive organs than...</td>\n",
       "      <td>383</td>\n",
       "      <td>384sentences.383</td>\n",
       "      <td>384sentences</td>\n",
       "      <td>384sentences.human</td>\n",
       "      <td>96</td>\n",
       "      <td>Woman</td>\n",
       "      <td>human</td>\n",
       "    </tr>\n",
       "  </tbody>\n",
       "</table>\n",
       "<p>627 rows × 8 columns</p>\n",
       "</div>"
      ],
      "text/plain": [
       "                                              sentence  sentence_num  \\\n",
       "0    Beekeeping encourages the conservation of loca...             0   \n",
       "1    It is in every beekeeper's interest to conserv...             1   \n",
       "2    As a passive form of agriculture, it does not ...             2   \n",
       "3    Beekeepers also discourage the use of pesticid...             3   \n",
       "4    Artisanal beekeepers go to extremes for their ...             4   \n",
       "..                                                 ...           ...   \n",
       "622  Some windows have multiple panes to increase i...           379   \n",
       "623                   A woman is a female human adult.           380   \n",
       "624    A woman is stereotypically seen as a caregiver.           381   \n",
       "625     A woman can become pregnant and bear children.           382   \n",
       "626  A woman has different reproductive organs than...           383   \n",
       "\n",
       "          stimulus_id    experiment                       story  \\\n",
       "0      243sentences.0  243sentences     243sentences.beekeeping   \n",
       "1      243sentences.1  243sentences     243sentences.beekeeping   \n",
       "2      243sentences.2  243sentences     243sentences.beekeeping   \n",
       "3      243sentences.3  243sentences     243sentences.beekeeping   \n",
       "4      243sentences.4  243sentences     243sentences.beekeeping   \n",
       "..                ...           ...                         ...   \n",
       "622  384sentences.379  384sentences  384sentences.building_part   \n",
       "623  384sentences.380  384sentences          384sentences.human   \n",
       "624  384sentences.381  384sentences          384sentences.human   \n",
       "625  384sentences.382  384sentences          384sentences.human   \n",
       "626  384sentences.383  384sentences          384sentences.human   \n",
       "\n",
       "     passage_index passage_label passage_category  \n",
       "0                1    beekeeping       beekeeping  \n",
       "1                1    beekeeping       beekeeping  \n",
       "2                1    beekeeping       beekeeping  \n",
       "3                1    beekeeping       beekeeping  \n",
       "4                2    beekeeping       beekeeping  \n",
       "..             ...           ...              ...  \n",
       "622             95        Window    building_part  \n",
       "623             96         Woman            human  \n",
       "624             96         Woman            human  \n",
       "625             96         Woman            human  \n",
       "626             96         Woman            human  \n",
       "\n",
       "[627 rows x 8 columns]"
      ]
     },
     "execution_count": 17,
     "metadata": {},
     "output_type": "execute_result"
    }
   ],
   "source": [
    "stimuli_df"
   ]
  },
  {
   "cell_type": "markdown",
   "metadata": {},
   "source": [
    "Check that number of passages is correct:"
   ]
  },
  {
   "cell_type": "code",
   "execution_count": 15,
   "metadata": {},
   "outputs": [
    {
     "data": {
      "text/plain": [
       "72"
      ]
     },
     "execution_count": 15,
     "metadata": {},
     "output_type": "execute_result"
    }
   ],
   "source": [
    "len(np.unique(stimuli_df.loc[stimuli_df.experiment == '243sentences'].passage_index))"
   ]
  },
  {
   "cell_type": "code",
   "execution_count": 24,
   "metadata": {},
   "outputs": [
    {
     "data": {
      "text/plain": [
       "array(['beekeeping', 'beekeeping', 'beekeeping', 'beekeeping',\n",
       "       'beekeeping', 'beekeeping', 'beekeeping', 'beekeeping',\n",
       "       'beekeeping', 'beekeeping', 'beekeeping', 'dreams', 'dreams',\n",
       "       'dreams', 'dreams', 'dreams', 'dreams', 'dreams', 'dreams',\n",
       "       'dreams', 'dreams', 'gambling', 'gambling', 'gambling', 'gambling',\n",
       "       'gambling', 'gambling', 'gambling', 'gambling', 'gambling',\n",
       "       'gambling', 'hurricane', 'hurricane', 'hurricane', 'hurricane',\n",
       "       'hurricane', 'hurricane', 'hurricane', 'hurricane', 'hurricane',\n",
       "       'hurricane', 'ice_cream', 'ice_cream', 'ice_cream', 'ice_cream',\n",
       "       'ice_cream', 'ice_cream', 'ice_cream', 'ice_cream', 'ice_cream',\n",
       "       'ice_cream', 'lawn_mower', 'lawn_mower', 'lawn_mower',\n",
       "       'lawn_mower', 'lawn_mower', 'lawn_mower', 'lawn_mower',\n",
       "       'lawn_mower', 'lawn_mower', 'lawn_mower', 'astronaut', 'astronaut',\n",
       "       'astronaut', 'astronaut', 'astronaut', 'astronaut', 'astronaut',\n",
       "       'astronaut', 'astronaut', 'astronaut', 'computer_graphics',\n",
       "       'computer_graphics', 'computer_graphics', 'computer_graphics',\n",
       "       'computer_graphics', 'computer_graphics', 'computer_graphics',\n",
       "       'computer_graphics', 'computer_graphics', 'computer_graphics',\n",
       "       'law_school', 'law_school', 'law_school', 'law_school',\n",
       "       'law_school', 'law_school', 'law_school', 'law_school',\n",
       "       'law_school', 'law_school', 'pharmacist', 'pharmacist',\n",
       "       'pharmacist', 'pharmacist', 'pharmacist', 'pharmacist',\n",
       "       'pharmacist', 'pharmacist', 'pharmacist', 'pharmacist', 'stress',\n",
       "       'stress', 'stress', 'stress', 'stress', 'stress', 'stress',\n",
       "       'stress', 'stress', 'stress', 'tuxedo', 'tuxedo', 'tuxedo',\n",
       "       'tuxedo', 'tuxedo', 'tuxedo', 'tuxedo', 'tuxedo', 'tuxedo',\n",
       "       'tuxedo', 'blindness', 'blindness', 'blindness', 'blindness',\n",
       "       'blindness', 'blindness', 'blindness', 'blindness', 'blindness',\n",
       "       'blindness', 'taste', 'taste', 'taste', 'taste', 'taste', 'taste',\n",
       "       'taste', 'taste', 'taste', 'bone_fracture', 'bone_fracture',\n",
       "       'bone_fracture', 'bone_fracture', 'bone_fracture', 'bone_fracture',\n",
       "       'bone_fracture', 'bone_fracture', 'bone_fracture', 'bone_fracture',\n",
       "       'bone_fracture', 'infection', 'infection', 'infection',\n",
       "       'infection', 'infection', 'infection', 'infection', 'infection',\n",
       "       'infection', 'infection', 'opera', 'opera', 'opera', 'opera',\n",
       "       'opera', 'opera', 'opera', 'opera', 'opera', 'opera', 'opera',\n",
       "       'painter', 'painter', 'painter', 'painter', 'painter', 'painter',\n",
       "       'painter', 'painter', 'painter', 'painter', 'owl', 'owl', 'owl',\n",
       "       'owl', 'owl', 'owl', 'owl', 'owl', 'owl', 'owl', 'polar_bear',\n",
       "       'polar_bear', 'polar_bear', 'polar_bear', 'polar_bear',\n",
       "       'polar_bear', 'polar_bear', 'polar_bear', 'polar_bear',\n",
       "       'polar_bear', 'castle', 'castle', 'castle', 'castle', 'castle',\n",
       "       'castle', 'castle', 'castle', 'castle', 'castle', 'pyramid',\n",
       "       'pyramid', 'pyramid', 'pyramid', 'pyramid', 'pyramid', 'pyramid',\n",
       "       'pyramid', 'pyramid', 'pyramid', 'rock_climbing', 'rock_climbing',\n",
       "       'rock_climbing', 'rock_climbing', 'rock_climbing', 'rock_climbing',\n",
       "       'rock_climbing', 'rock_climbing', 'rock_climbing', 'rock_climbing',\n",
       "       'rock_climbing', 'skiing', 'skiing', 'skiing', 'skiing', 'skiing',\n",
       "       'skiing', 'skiing', 'skiing', 'skiing', 'skiing'], dtype=object)"
      ]
     },
     "execution_count": 24,
     "metadata": {},
     "output_type": "execute_result"
    }
   ],
   "source": [
    "stimuli_df.loc[stimuli_df.experiment == '243sentences'].passage_label.values"
   ]
  },
  {
   "cell_type": "code",
   "execution_count": 16,
   "metadata": {},
   "outputs": [
    {
     "data": {
      "text/plain": [
       "96"
      ]
     },
     "execution_count": 16,
     "metadata": {},
     "output_type": "execute_result"
    }
   ],
   "source": [
    "len(np.unique(stimuli_df.loc[stimuli_df.experiment == '384sentences'].passage_index))"
   ]
  },
  {
   "cell_type": "code",
   "execution_count": 25,
   "metadata": {},
   "outputs": [
    {
     "data": {
      "text/plain": [
       "array(['Accordion', 'Accordion', 'Accordion', 'Accordion', 'Apartment',\n",
       "       'Apartment', 'Apartment', 'Apartment', 'Apple', 'Apple', 'Apple',\n",
       "       'Apple', 'Arson', 'Arson', 'Arson', 'Arson', 'Automobile',\n",
       "       'Automobile', 'Automobile', 'Automobile', 'Axe', 'Axe', 'Axe',\n",
       "       'Axe', 'Banana', 'Banana', 'Banana', 'Banana', 'Bed', 'Bed', 'Bed',\n",
       "       'Bed', 'Bee', 'Bee', 'Bee', 'Bee', 'Bicycle', 'Bicycle', 'Bicycle',\n",
       "       'Bicycle', 'Blacksmith', 'Blacksmith', 'Blacksmith', 'Blacksmith',\n",
       "       'Blender', 'Blender', 'Blender', 'Blender', 'Boy', 'Boy', 'Boy',\n",
       "       'Boy', 'Broccoli', 'Broccoli', 'Broccoli', 'Broccoli', 'Butterfly',\n",
       "       'Butterfly', 'Butterfly', 'Butterfly', 'Carpenter', 'Carpenter',\n",
       "       'Carpenter', 'Carpenter', 'Cat', 'Cat', 'Cat', 'Cat', 'Chair',\n",
       "       'Chair', 'Chair', 'Chair', 'Clarinet', 'Clarinet', 'Clarinet',\n",
       "       'Clarinet', 'Cod', 'Cod', 'Cod', 'Cod', 'Coffee', 'Coffee',\n",
       "       'Coffee', 'Coffee', 'Desert', 'Desert', 'Desert', 'Desert', 'Desk',\n",
       "       'Desk', 'Desk', 'Desk', 'Door', 'Door', 'Door', 'Door', 'Dress',\n",
       "       'Dress', 'Dress', 'Dress', 'Driving_under_the_influence',\n",
       "       'Driving_under_the_influence', 'Driving_under_the_influence',\n",
       "       'Driving_under_the_influence', 'Drought', 'Drought', 'Drought',\n",
       "       'Drought', 'Eagle', 'Eagle', 'Eagle', 'Eagle', 'Earthquake',\n",
       "       'Earthquake', 'Earthquake', 'Earthquake', 'Elephant', 'Elephant',\n",
       "       'Elephant', 'Elephant', 'Eye', 'Eye', 'Eye', 'Eye', 'Farm', 'Farm',\n",
       "       'Farm', 'Farm', 'Finger', 'Finger', 'Finger', 'Finger', 'Flood',\n",
       "       'Flood', 'Flood', 'Flood', 'Floor', 'Floor', 'Floor', 'Floor',\n",
       "       'Foot', 'Foot', 'Foot', 'Foot', 'Forest', 'Forest', 'Forest',\n",
       "       'Forest', 'Fork', 'Fork', 'Fork', 'Fork', 'Frying_pan',\n",
       "       'Frying_pan', 'Frying_pan', 'Frying_pan', 'Girl', 'Girl', 'Girl',\n",
       "       'Girl', 'Glove', 'Glove', 'Glove', 'Glove', 'Hammer', 'Hammer',\n",
       "       'Hammer', 'Hammer', 'Hand_grenade', 'Hand_grenade', 'Hand_grenade',\n",
       "       'Hand_grenade', 'Horse', 'Horse', 'Horse', 'Horse', 'Hospital',\n",
       "       'Hospital', 'Hospital', 'Hospital', 'House', 'House', 'House',\n",
       "       'House', 'Igloo', 'Igloo', 'Igloo', 'Igloo', 'Knife', 'Knife',\n",
       "       'Knife', 'Knife', 'Lentil', 'Lentil', 'Lentil', 'Lentil',\n",
       "       'Lettuce', 'Lettuce', 'Lettuce', 'Lettuce', 'Library', 'Library',\n",
       "       'Library', 'Library', 'Log_cabin', 'Log_cabin', 'Log_cabin',\n",
       "       'Log_cabin', 'Man', 'Man', 'Man', 'Man', 'Milk', 'Milk', 'Milk',\n",
       "       'Milk', 'Mosquito', 'Mosquito', 'Mosquito', 'Mosquito', 'Mountain',\n",
       "       'Mountain', 'Mountain', 'Mountain', 'Mouth', 'Mouth', 'Mouth',\n",
       "       'Mouth', 'Mug', 'Mug', 'Mug', 'Mug', 'Murder', 'Murder', 'Murder',\n",
       "       'Murder', 'Orange_juice', 'Orange_juice', 'Orange_juice',\n",
       "       'Orange_juice', 'Parrot', 'Parrot', 'Parrot', 'Parrot', 'Peach',\n",
       "       'Peach', 'Peach', 'Peach', 'Piano', 'Piano', 'Piano', 'Piano',\n",
       "       'Piranha', 'Piranha', 'Piranha', 'Piranha', 'Raspberry',\n",
       "       'Raspberry', 'Raspberry', 'Raspberry', 'Raven', 'Raven', 'Raven',\n",
       "       'Raven', 'Refrigerator', 'Refrigerator', 'Refrigerator',\n",
       "       'Refrigerator', 'Rifle', 'Rifle', 'Rifle', 'Rifle', 'Salmon',\n",
       "       'Salmon', 'Salmon', 'Salmon', 'Saw', 'Saw', 'Saw', 'Saw',\n",
       "       'Scientist', 'Scientist', 'Scientist', 'Scientist', 'Scissors',\n",
       "       'Scissors', 'Scissors', 'Scissors', 'Screwdriver', 'Screwdriver',\n",
       "       'Screwdriver', 'Screwdriver', 'Shark', 'Shark', 'Shark', 'Shark',\n",
       "       'Ship', 'Ship', 'Ship', 'Ship', 'Shoe', 'Shoe', 'Shoe', 'Shoe',\n",
       "       'Soldier', 'Soldier', 'Soldier', 'Soldier', 'Spear', 'Spear',\n",
       "       'Spear', 'Spear', 'Spider', 'Spider', 'Spider', 'Spider', 'Swamp',\n",
       "       'Swamp', 'Swamp', 'Swamp', 'Sweater', 'Sweater', 'Sweater',\n",
       "       'Sweater', 'Table_(furniture)', 'Table_(furniture)',\n",
       "       'Table_(furniture)', 'Table_(furniture)', 'Television',\n",
       "       'Television', 'Television', 'Television', 'Theft', 'Theft',\n",
       "       'Theft', 'Theft', 'Toaster', 'Toaster', 'Toaster', 'Toaster',\n",
       "       'Tomato', 'Tomato', 'Tomato', 'Tomato', 'Train', 'Train', 'Train',\n",
       "       'Train', 'Train_station', 'Train_station', 'Train_station',\n",
       "       'Train_station', 'Tropical_cyclone', 'Tropical_cyclone',\n",
       "       'Tropical_cyclone', 'Tropical_cyclone', 'Violin', 'Violin',\n",
       "       'Violin', 'Violin', 'Vulture', 'Vulture', 'Vulture', 'Vulture',\n",
       "       'Wall', 'Wall', 'Wall', 'Wall', 'Water', 'Water', 'Water', 'Water',\n",
       "       'Whale', 'Whale', 'Whale', 'Whale', 'Window', 'Window', 'Window',\n",
       "       'Window', 'Woman', 'Woman', 'Woman', 'Woman'], dtype=object)"
      ]
     },
     "execution_count": 25,
     "metadata": {},
     "output_type": "execute_result"
    }
   ],
   "source": [
    "stimuli_df.loc[stimuli_df.experiment == '384sentences'].passage_label.values"
   ]
  },
  {
   "cell_type": "markdown",
   "metadata": {},
   "source": [
    "Check topics (passage category)"
   ]
  },
  {
   "cell_type": "code",
   "execution_count": 19,
   "metadata": {},
   "outputs": [
    {
     "data": {
      "text/plain": [
       "24"
      ]
     },
     "execution_count": 19,
     "metadata": {},
     "output_type": "execute_result"
    }
   ],
   "source": [
    "len(np.unique(stimuli_df.loc[stimuli_df.experiment == '243sentences'].passage_category))"
   ]
  },
  {
   "cell_type": "code",
   "execution_count": 32,
   "metadata": {},
   "outputs": [
    {
     "data": {
      "text/plain": [
       "array(['astronaut', 'beekeeping', 'blindness', 'bone_fracture', 'castle',\n",
       "       'computer_graphics', 'dreams', 'gambling', 'hurricane',\n",
       "       'ice_cream', 'infection', 'law_school', 'lawn_mower', 'opera',\n",
       "       'owl', 'painter', 'pharmacist', 'polar_bear', 'pyramid',\n",
       "       'rock_climbing', 'skiing', 'stress', 'taste', 'tuxedo'],\n",
       "      dtype=object)"
      ]
     },
     "execution_count": 32,
     "metadata": {},
     "output_type": "execute_result"
    }
   ],
   "source": [
    "(np.unique(stimuli_df.loc[stimuli_df.experiment == '243sentences'].passage_category))"
   ]
  },
  {
   "cell_type": "code",
   "execution_count": 34,
   "metadata": {},
   "outputs": [
    {
     "data": {
      "text/plain": [
       "array(['Astronauts train a long time for their spacewalks.',\n",
       "       'Much of their training is conducted underwater.',\n",
       "       'They may spend 8 to 10 hours in the pool for every hour they will spend floating in space.',\n",
       "       'Astronauts practice to be able to perform construction and repair work on the outside of the space station.',\n",
       "       'The commanders of shuttle flights are always pilots, and many have backgrounds as military test pilots.',\n",
       "       'Other astronauts are trained as doctors, engineers, and scientists, who can run experiments in space.',\n",
       "       'Early crews were all young men, but astronauts now are much more diverse.',\n",
       "       'The team of astronauts floated out together to the exterior of the space shuttle.',\n",
       "       'They carried tools needed to repair the broken part on the huge telescope.',\n",
       "       'One astronaut loosened the bolts on the pipe, while the other fitted the replacement part into place.'],\n",
       "      dtype=object)"
      ]
     },
     "execution_count": 34,
     "metadata": {},
     "output_type": "execute_result"
    }
   ],
   "source": [
    "((stimuli_df.loc[stimuli_df.passage_category == 'astronaut'].sentence)).values"
   ]
  },
  {
   "cell_type": "code",
   "execution_count": 20,
   "metadata": {},
   "outputs": [
    {
     "data": {
      "text/plain": [
       "24"
      ]
     },
     "execution_count": 20,
     "metadata": {},
     "output_type": "execute_result"
    }
   ],
   "source": [
    "len(np.unique(stimuli_df.loc[stimuli_df.experiment == '384sentences'].passage_category))"
   ]
  },
  {
   "cell_type": "code",
   "execution_count": 26,
   "metadata": {},
   "outputs": [
    {
     "data": {
      "text/plain": [
       "array(['animal', 'appliance', 'bird', 'body_part', 'building_part',\n",
       "       'clothing', 'crime', 'disaster', 'drink_non_alcoholic', 'dwelling',\n",
       "       'fish', 'fruit', 'furniture', 'human', 'insect', 'kitchen_utensil',\n",
       "       'landscape', 'music', 'place', 'profession', 'tool', 'vegetable',\n",
       "       'vehicles_transport', 'weapon'], dtype=object)"
      ]
     },
     "execution_count": 26,
     "metadata": {},
     "output_type": "execute_result"
    }
   ],
   "source": [
    "(np.unique(stimuli_df.loc[stimuli_df.experiment == '384sentences'].passage_category))"
   ]
  },
  {
   "cell_type": "markdown",
   "metadata": {},
   "source": [
    "Get examples of passage labels (expt384)"
   ]
  },
  {
   "cell_type": "code",
   "execution_count": 29,
   "metadata": {},
   "outputs": [
    {
     "data": {
      "text/plain": [
       "array(['Cat', 'Elephant', 'Horse', 'Whale'], dtype=object)"
      ]
     },
     "execution_count": 29,
     "metadata": {},
     "output_type": "execute_result"
    }
   ],
   "source": [
    "(np.unique(stimuli_df.loc[stimuli_df.passage_category == 'animal'].passage_label))"
   ]
  },
  {
   "cell_type": "code",
   "execution_count": 31,
   "metadata": {},
   "outputs": [
    {
     "data": {
      "text/plain": [
       "array(['Dress', 'Glove', 'Shoe', 'Sweater'], dtype=object)"
      ]
     },
     "execution_count": 31,
     "metadata": {},
     "output_type": "execute_result"
    }
   ],
   "source": [
    "(np.unique(stimuli_df.loc[stimuli_df.passage_category == 'clothing'].passage_label))"
   ]
  },
  {
   "cell_type": "code",
   "execution_count": null,
   "metadata": {},
   "outputs": [],
   "source": []
  },
  {
   "cell_type": "code",
   "execution_count": null,
   "metadata": {},
   "outputs": [],
   "source": []
  }
 ],
 "metadata": {
  "kernelspec": {
   "display_name": "Python 3",
   "language": "python",
   "name": "python3"
  },
  "language_info": {
   "codemirror_mode": {
    "name": "ipython",
    "version": 3
   },
   "file_extension": ".py",
   "mimetype": "text/x-python",
   "name": "python",
   "nbconvert_exporter": "python",
   "pygments_lexer": "ipython3",
   "version": "3.8.3"
  }
 },
 "nbformat": 4,
 "nbformat_minor": 4
}
