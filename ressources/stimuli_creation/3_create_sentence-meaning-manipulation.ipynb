{
 "cells": [
  {
   "cell_type": "markdown",
   "metadata": {},
   "source": [
    "# Script for creating sentence-meaning manipulation datasets from the Pereira2018 fMRI stimuli"
   ]
  },
  {
   "cell_type": "code",
   "execution_count": 1,
   "metadata": {},
   "outputs": [],
   "source": [
    "import re\n",
    "from pathlib import Path\n",
    "from os.path import abspath\n",
    "import os\n",
    "import numpy as np\n",
    "import random\n",
    "import pickle\n",
    "import csv\n",
    "import subprocess\n",
    "from random import shuffle"
   ]
  },
  {
   "cell_type": "code",
   "execution_count": 2,
   "metadata": {},
   "outputs": [
    {
     "name": "stdout",
     "output_type": "stream",
     "text": [
      "/Users/gt/Documents/GitHub/perturbed-neural-nlp/ressources/stimuli_creation\n"
     ]
    }
   ],
   "source": [
    "print(os.getcwd())"
   ]
  },
  {
   "cell_type": "code",
   "execution_count": 3,
   "metadata": {},
   "outputs": [
    {
     "name": "stdout",
     "output_type": "stream",
     "text": [
      "/Users/gt/Documents/GitHub/perturbed-neural-nlp\n"
     ]
    }
   ],
   "source": [
    "importpath = abspath('../..')\n",
    "os.chdir(importpath)\n",
    "print(os.getcwd())"
   ]
  },
  {
   "cell_type": "code",
   "execution_count": 12,
   "metadata": {},
   "outputs": [],
   "source": [
    "#add seeds for reproducability\n",
    "np.random.seed(42)\n",
    "random.seed(42)\n",
    "\n",
    "# settings\n",
    "save = False # if storing pkl dataframes"
   ]
  },
  {
   "cell_type": "markdown",
   "metadata": {},
   "source": [
    "# Load base stimulus dataframe (Pereira 2018)"
   ]
  },
  {
   "cell_type": "code",
   "execution_count": 5,
   "metadata": {},
   "outputs": [
    {
     "name": "stderr",
     "output_type": "stream",
     "text": [
      "/opt/anaconda3/lib/python3.8/site-packages/xarray/core/merge.py:16: FutureWarning: The Panel class is removed from pandas. Accessing it from the top-level namespace will also be removed in the next version\n",
      "  PANDAS_TYPES = (pd.Series, pd.DataFrame, pd.Panel)\n"
     ]
    },
    {
     "name": "stdout",
     "output_type": "stream",
     "text": [
      "Loading lookup from /opt/anaconda3/lib/python3.8/site-packages/brainio_collection/lookup.csv\n",
      "/Users/gt/Documents/GitHub/perturbed-neural-nlp/neural_nlp/../ressources/stimuli\n",
      "\n",
      "\n",
      " We're running in the NEW version of the implementations.py script.\n",
      "\n",
      "\n"
     ]
    },
    {
     "name": "stderr",
     "output_type": "stream",
     "text": [
      "/opt/anaconda3/lib/python3.8/site-packages/brainio_base/assemblies.py:218: FutureWarning: The inplace argument has been deprecated and will be removed in a future version of xarray.\n",
      "  xr_data.set_index(append=True, inplace=True, **coords_d)\n",
      "/opt/anaconda3/lib/python3.8/site-packages/xarray/core/dataarray.py:218: FutureWarning: The Panel class is removed from pandas. Accessing it from the top-level namespace will also be removed in the next version\n",
      "  elif isinstance(data, pd.Panel):\n"
     ]
    },
    {
     "data": {
      "text/html": [
       "<div>\n",
       "<style scoped>\n",
       "    .dataframe tbody tr th:only-of-type {\n",
       "        vertical-align: middle;\n",
       "    }\n",
       "\n",
       "    .dataframe tbody tr th {\n",
       "        vertical-align: top;\n",
       "    }\n",
       "\n",
       "    .dataframe thead th {\n",
       "        text-align: right;\n",
       "    }\n",
       "</style>\n",
       "<table border=\"1\" class=\"dataframe\">\n",
       "  <thead>\n",
       "    <tr style=\"text-align: right;\">\n",
       "      <th></th>\n",
       "      <th>sentence</th>\n",
       "      <th>sentence_num</th>\n",
       "      <th>stimulus_id</th>\n",
       "      <th>experiment</th>\n",
       "      <th>story</th>\n",
       "      <th>passage_index</th>\n",
       "      <th>passage_label</th>\n",
       "      <th>passage_category</th>\n",
       "    </tr>\n",
       "  </thead>\n",
       "  <tbody>\n",
       "    <tr>\n",
       "      <th>0</th>\n",
       "      <td>Beekeeping encourages the conservation of loca...</td>\n",
       "      <td>0</td>\n",
       "      <td>243sentences.0</td>\n",
       "      <td>243sentences</td>\n",
       "      <td>243sentences.beekeeping</td>\n",
       "      <td>1</td>\n",
       "      <td>beekeeping</td>\n",
       "      <td>beekeeping</td>\n",
       "    </tr>\n",
       "    <tr>\n",
       "      <th>1</th>\n",
       "      <td>It is in every beekeeper's interest to conserv...</td>\n",
       "      <td>1</td>\n",
       "      <td>243sentences.1</td>\n",
       "      <td>243sentences</td>\n",
       "      <td>243sentences.beekeeping</td>\n",
       "      <td>1</td>\n",
       "      <td>beekeeping</td>\n",
       "      <td>beekeeping</td>\n",
       "    </tr>\n",
       "    <tr>\n",
       "      <th>2</th>\n",
       "      <td>As a passive form of agriculture, it does not ...</td>\n",
       "      <td>2</td>\n",
       "      <td>243sentences.2</td>\n",
       "      <td>243sentences</td>\n",
       "      <td>243sentences.beekeeping</td>\n",
       "      <td>1</td>\n",
       "      <td>beekeeping</td>\n",
       "      <td>beekeeping</td>\n",
       "    </tr>\n",
       "    <tr>\n",
       "      <th>3</th>\n",
       "      <td>Beekeepers also discourage the use of pesticid...</td>\n",
       "      <td>3</td>\n",
       "      <td>243sentences.3</td>\n",
       "      <td>243sentences</td>\n",
       "      <td>243sentences.beekeeping</td>\n",
       "      <td>1</td>\n",
       "      <td>beekeeping</td>\n",
       "      <td>beekeeping</td>\n",
       "    </tr>\n",
       "    <tr>\n",
       "      <th>4</th>\n",
       "      <td>Artisanal beekeepers go to extremes for their ...</td>\n",
       "      <td>4</td>\n",
       "      <td>243sentences.4</td>\n",
       "      <td>243sentences</td>\n",
       "      <td>243sentences.beekeeping</td>\n",
       "      <td>2</td>\n",
       "      <td>beekeeping</td>\n",
       "      <td>beekeeping</td>\n",
       "    </tr>\n",
       "    <tr>\n",
       "      <th>...</th>\n",
       "      <td>...</td>\n",
       "      <td>...</td>\n",
       "      <td>...</td>\n",
       "      <td>...</td>\n",
       "      <td>...</td>\n",
       "      <td>...</td>\n",
       "      <td>...</td>\n",
       "      <td>...</td>\n",
       "    </tr>\n",
       "    <tr>\n",
       "      <th>622</th>\n",
       "      <td>Some windows have multiple panes to increase i...</td>\n",
       "      <td>379</td>\n",
       "      <td>384sentences.379</td>\n",
       "      <td>384sentences</td>\n",
       "      <td>384sentences.building_part</td>\n",
       "      <td>95</td>\n",
       "      <td>Window</td>\n",
       "      <td>building_part</td>\n",
       "    </tr>\n",
       "    <tr>\n",
       "      <th>623</th>\n",
       "      <td>A woman is a female human adult.</td>\n",
       "      <td>380</td>\n",
       "      <td>384sentences.380</td>\n",
       "      <td>384sentences</td>\n",
       "      <td>384sentences.human</td>\n",
       "      <td>96</td>\n",
       "      <td>Woman</td>\n",
       "      <td>human</td>\n",
       "    </tr>\n",
       "    <tr>\n",
       "      <th>624</th>\n",
       "      <td>A woman is stereotypically seen as a caregiver.</td>\n",
       "      <td>381</td>\n",
       "      <td>384sentences.381</td>\n",
       "      <td>384sentences</td>\n",
       "      <td>384sentences.human</td>\n",
       "      <td>96</td>\n",
       "      <td>Woman</td>\n",
       "      <td>human</td>\n",
       "    </tr>\n",
       "    <tr>\n",
       "      <th>625</th>\n",
       "      <td>A woman can become pregnant and bear children.</td>\n",
       "      <td>382</td>\n",
       "      <td>384sentences.382</td>\n",
       "      <td>384sentences</td>\n",
       "      <td>384sentences.human</td>\n",
       "      <td>96</td>\n",
       "      <td>Woman</td>\n",
       "      <td>human</td>\n",
       "    </tr>\n",
       "    <tr>\n",
       "      <th>626</th>\n",
       "      <td>A woman has different reproductive organs than...</td>\n",
       "      <td>383</td>\n",
       "      <td>384sentences.383</td>\n",
       "      <td>384sentences</td>\n",
       "      <td>384sentences.human</td>\n",
       "      <td>96</td>\n",
       "      <td>Woman</td>\n",
       "      <td>human</td>\n",
       "    </tr>\n",
       "  </tbody>\n",
       "</table>\n",
       "<p>627 rows × 8 columns</p>\n",
       "</div>"
      ],
      "text/plain": [
       "                                              sentence  sentence_num  \\\n",
       "0    Beekeeping encourages the conservation of loca...             0   \n",
       "1    It is in every beekeeper's interest to conserv...             1   \n",
       "2    As a passive form of agriculture, it does not ...             2   \n",
       "3    Beekeepers also discourage the use of pesticid...             3   \n",
       "4    Artisanal beekeepers go to extremes for their ...             4   \n",
       "..                                                 ...           ...   \n",
       "622  Some windows have multiple panes to increase i...           379   \n",
       "623                   A woman is a female human adult.           380   \n",
       "624    A woman is stereotypically seen as a caregiver.           381   \n",
       "625     A woman can become pregnant and bear children.           382   \n",
       "626  A woman has different reproductive organs than...           383   \n",
       "\n",
       "          stimulus_id    experiment                       story  \\\n",
       "0      243sentences.0  243sentences     243sentences.beekeeping   \n",
       "1      243sentences.1  243sentences     243sentences.beekeeping   \n",
       "2      243sentences.2  243sentences     243sentences.beekeeping   \n",
       "3      243sentences.3  243sentences     243sentences.beekeeping   \n",
       "4      243sentences.4  243sentences     243sentences.beekeeping   \n",
       "..                ...           ...                         ...   \n",
       "622  384sentences.379  384sentences  384sentences.building_part   \n",
       "623  384sentences.380  384sentences          384sentences.human   \n",
       "624  384sentences.381  384sentences          384sentences.human   \n",
       "625  384sentences.382  384sentences          384sentences.human   \n",
       "626  384sentences.383  384sentences          384sentences.human   \n",
       "\n",
       "     passage_index passage_label passage_category  \n",
       "0                1    beekeeping       beekeeping  \n",
       "1                1    beekeeping       beekeeping  \n",
       "2                1    beekeeping       beekeeping  \n",
       "3                1    beekeeping       beekeeping  \n",
       "4                2    beekeeping       beekeeping  \n",
       "..             ...           ...              ...  \n",
       "622             95        Window    building_part  \n",
       "623             96         Woman            human  \n",
       "624             96         Woman            human  \n",
       "625             96         Woman            human  \n",
       "626             96         Woman            human  \n",
       "\n",
       "[627 rows x 8 columns]"
      ]
     },
     "execution_count": 5,
     "metadata": {},
     "output_type": "execute_result"
    }
   ],
   "source": [
    "from neural_nlp.benchmarks.neural import *\n",
    "import neural_nlp\n",
    "from neural_nlp.stimuli import StimulusSet\n",
    "import xarray as xr\n",
    "\n",
    "benchmark_pool = [\n",
    "    # primary benchmarks\n",
    "    ('Pereira2018-encoding', PereiraEncoding),\n",
    "]\n",
    "benchmark_pool = {identifier: LazyLoad(lambda identifier=identifier, ctr=ctr: ctr(identifier=identifier))\n",
    "                  for identifier, ctr in benchmark_pool}\n",
    "\n",
    "# fetch stimulus set\n",
    "benchmark = benchmark_pool['Pereira2018-encoding']\n",
    "stimuli_df = benchmark._target_assembly.attrs['stimulus_set']\n",
    "stimuli_df"
   ]
  },
  {
   "cell_type": "code",
   "execution_count": 6,
   "metadata": {},
   "outputs": [
    {
     "data": {
      "text/plain": [
       "Coordinates:\n",
       "  * presentation      (presentation) MultiIndex\n",
       "  - stimulus_num      (presentation) int64 0 0 1 1 2 2 3 ... 12 12 13 13 14 14\n",
       "  - passage_index     (presentation) int64 1 1 1 1 1 1 1 1 2 ... 3 4 4 4 4 4 4 4\n",
       "  - passage_label     (presentation) object 'Accordion' ... 'dreams'\n",
       "  - passage_category  (presentation) object 'music' 'beekeeping' ... 'dreams'\n",
       "  - stimulus_id       (presentation) object '384sentences.0' ... '243sentences.14'\n",
       "  - story             (presentation) object '384sentences.music' ... '243sentences.dreams'\n",
       "  - experiment        (presentation) object '384sentences' ... '243sentences'\n",
       "  * neuroid           (neuroid) MultiIndex\n",
       "  - subject           (neuroid) object '018' '018' '018' ... '018' '018' '018'\n",
       "  - voxel_num         (neuroid) int64 28 29 31 32 38 42 ... 152 153 154 159 160\n",
       "  - atlas             (neuroid) object 'language' 'language' ... 'language'\n",
       "  - filter_strategy   (neuroid) object '' '' '' '' '' '' ... '' '' '' '' '' ''\n",
       "  - atlas_selection   (neuroid) object 'from90to100prcnt' ... 'from90to100prcnt'\n",
       "  - roi               (neuroid) object 'LH_AntTemp' ... 'LH_AntTemp'\n",
       "  - indices_in_3d     (neuroid) int64 72505 72506 72584 ... 87754 87831 87832\n",
       "  - col_to_coord_1    (neuroid) int64 62 63 62 63 63 63 63 ... 65 62 63 64 62 63\n",
       "  - col_to_coord_2    (neuroid) int64 63 63 64 64 65 66 63 ... 65 66 66 66 67 67\n",
       "  - col_to_coord_3    (neuroid) int64 10 10 10 10 10 10 11 ... 12 12 12 12 12 12\n",
       "  - neuroid_id        (neuroid) object '018.28' '018.29' ... '018.159' '018.160'"
      ]
     },
     "execution_count": 6,
     "metadata": {},
     "output_type": "execute_result"
    }
   ],
   "source": [
    "# benchmark content\n",
    "benchmark._target_assembly.values.shape\n",
    "benchmark._target_assembly.coords"
   ]
  },
  {
   "cell_type": "code",
   "execution_count": 7,
   "metadata": {},
   "outputs": [
    {
     "name": "stdout",
     "output_type": "stream",
     "text": [
      "/Users/gt/Documents/GitHub/perturbed-neural-nlp/ressources/stimuli_creation\n",
      "/Users/gt/Documents/GitHub/perturbed-neural-nlp/ressources/scrambled_stimuli_dfs\n"
     ]
    }
   ],
   "source": [
    "stimuli_path = os.path.join(os.getcwd(),'ressources/stimuli_creation')\n",
    "os.chdir(stimuli_path)\n",
    "print(os.getcwd())\n",
    "\n",
    "savedir = abspath('../scrambled_stimuli_dfs')\n",
    "print(savedir)\n",
    "os.makedirs(savedir, exist_ok=True)"
   ]
  },
  {
   "cell_type": "markdown",
   "metadata": {},
   "source": [
    "# Create different perturbed versions of the benchmark"
   ]
  },
  {
   "cell_type": "markdown",
   "metadata": {},
   "source": [
    "`get original dataset in correct formatting. NOTE: \"stim_243sentences_scrambled.txt\" and \"stim_384sentences_scrambled.txt\" are created via running \"get_original_sentenceset.ipynb\"`"
   ]
  },
  {
   "cell_type": "code",
   "execution_count": 8,
   "metadata": {},
   "outputs": [],
   "source": [
    "def get_original_sentenceset(filename):\n",
    "    with open(os.path.join(stimuli_path,filename),\"r\") as f:\n",
    "        reader = csv.reader(f, delimiter=\"\\t\")\n",
    "        sentences = list(reader)\n",
    "    Original = [sentence[1] + '.' for sentence in sentences if int(sentence[0]) == 0]\n",
    "    \n",
    "    return Original"
   ]
  },
  {
   "cell_type": "code",
   "execution_count": 9,
   "metadata": {},
   "outputs": [],
   "source": [
    "Original_243 = get_original_sentenceset(\"stim_243sentences_scrambled.txt\")\n",
    "Original_384 = get_original_sentenceset(\"stim_384sentences_scrambled.txt\")\n",
    "\n",
    "Original = Original_243 + Original_384"
   ]
  },
  {
   "cell_type": "code",
   "execution_count": 10,
   "metadata": {},
   "outputs": [
    {
     "name": "stdout",
     "output_type": "stream",
     "text": [
      "['beekeeping encourages the conservation of local habitats.', \"it is in every beekeeper's interest to conserve local plants that produce pollen.\", 'as a passive form of agriculture it does not require that native vegetation be cleared to make way for crops.', 'beekeepers also discourage the use of pesticides on crops because they could kill the honeybees.', 'artisanal beekeepers go to extremes for their craft but their product is worth the effort.']\n"
     ]
    }
   ],
   "source": [
    "#This is the list of stimuli we create the perturbations from\n",
    "original_stimuli = Original\n",
    "print(original_stimuli[:5])"
   ]
  },
  {
   "cell_type": "markdown",
   "metadata": {},
   "source": [
    "## Create sentence shuffling conditions"
   ]
  },
  {
   "cell_type": "markdown",
   "metadata": {},
   "source": [
    "### 1. random shuffling of sentences across the dataset, not respecting passages, sentence length, etc."
   ]
  },
  {
   "cell_type": "code",
   "execution_count": 13,
   "metadata": {},
   "outputs": [
    {
     "name": "stdout",
     "output_type": "stream",
     "text": [
      "100\n",
      "106\n",
      "168\n",
      "372\n",
      "Done\n",
      "['gloves to protect against cold are made of wool or lined waterproof material.', 'the driver steers the car on roads other passengers just sit.', 'a knife can be used to attack by slashing stabbing or throwing.', 'the computer graphics specialist works with doctors to visualize medical conditions and surgical procedures.', 'i finally came to a stop at a flat part of the slope.']\n"
     ]
    },
    {
     "data": {
      "text/html": [
       "<div>\n",
       "<style scoped>\n",
       "    .dataframe tbody tr th:only-of-type {\n",
       "        vertical-align: middle;\n",
       "    }\n",
       "\n",
       "    .dataframe tbody tr th {\n",
       "        vertical-align: top;\n",
       "    }\n",
       "\n",
       "    .dataframe thead th {\n",
       "        text-align: right;\n",
       "    }\n",
       "</style>\n",
       "<table border=\"1\" class=\"dataframe\">\n",
       "  <thead>\n",
       "    <tr style=\"text-align: right;\">\n",
       "      <th></th>\n",
       "      <th>sentence</th>\n",
       "      <th>sentence_num</th>\n",
       "      <th>stimulus_id</th>\n",
       "      <th>experiment</th>\n",
       "      <th>story</th>\n",
       "      <th>passage_index</th>\n",
       "      <th>passage_label</th>\n",
       "      <th>passage_category</th>\n",
       "    </tr>\n",
       "  </thead>\n",
       "  <tbody>\n",
       "    <tr>\n",
       "      <th>0</th>\n",
       "      <td>gloves to protect against cold are made of woo...</td>\n",
       "      <td>0</td>\n",
       "      <td>243sentences.0</td>\n",
       "      <td>243sentences</td>\n",
       "      <td>243sentences.beekeeping</td>\n",
       "      <td>1</td>\n",
       "      <td>beekeeping</td>\n",
       "      <td>beekeeping</td>\n",
       "    </tr>\n",
       "    <tr>\n",
       "      <th>1</th>\n",
       "      <td>the driver steers the car on roads other passe...</td>\n",
       "      <td>1</td>\n",
       "      <td>243sentences.1</td>\n",
       "      <td>243sentences</td>\n",
       "      <td>243sentences.beekeeping</td>\n",
       "      <td>1</td>\n",
       "      <td>beekeeping</td>\n",
       "      <td>beekeeping</td>\n",
       "    </tr>\n",
       "    <tr>\n",
       "      <th>2</th>\n",
       "      <td>a knife can be used to attack by slashing stab...</td>\n",
       "      <td>2</td>\n",
       "      <td>243sentences.2</td>\n",
       "      <td>243sentences</td>\n",
       "      <td>243sentences.beekeeping</td>\n",
       "      <td>1</td>\n",
       "      <td>beekeeping</td>\n",
       "      <td>beekeeping</td>\n",
       "    </tr>\n",
       "    <tr>\n",
       "      <th>3</th>\n",
       "      <td>the computer graphics specialist works with do...</td>\n",
       "      <td>3</td>\n",
       "      <td>243sentences.3</td>\n",
       "      <td>243sentences</td>\n",
       "      <td>243sentences.beekeeping</td>\n",
       "      <td>1</td>\n",
       "      <td>beekeeping</td>\n",
       "      <td>beekeeping</td>\n",
       "    </tr>\n",
       "    <tr>\n",
       "      <th>4</th>\n",
       "      <td>i finally came to a stop at a flat part of the...</td>\n",
       "      <td>4</td>\n",
       "      <td>243sentences.4</td>\n",
       "      <td>243sentences</td>\n",
       "      <td>243sentences.beekeeping</td>\n",
       "      <td>2</td>\n",
       "      <td>beekeeping</td>\n",
       "      <td>beekeeping</td>\n",
       "    </tr>\n",
       "    <tr>\n",
       "      <th>...</th>\n",
       "      <td>...</td>\n",
       "      <td>...</td>\n",
       "      <td>...</td>\n",
       "      <td>...</td>\n",
       "      <td>...</td>\n",
       "      <td>...</td>\n",
       "      <td>...</td>\n",
       "      <td>...</td>\n",
       "    </tr>\n",
       "    <tr>\n",
       "      <th>622</th>\n",
       "      <td>the adults set up climbing routes appropriate ...</td>\n",
       "      <td>379</td>\n",
       "      <td>384sentences.379</td>\n",
       "      <td>384sentences</td>\n",
       "      <td>384sentences.building_part</td>\n",
       "      <td>95</td>\n",
       "      <td>Window</td>\n",
       "      <td>building_part</td>\n",
       "    </tr>\n",
       "    <tr>\n",
       "      <th>623</th>\n",
       "      <td>the building can have a garage a laundry facil...</td>\n",
       "      <td>380</td>\n",
       "      <td>384sentences.380</td>\n",
       "      <td>384sentences</td>\n",
       "      <td>384sentences.human</td>\n",
       "      <td>96</td>\n",
       "      <td>Woman</td>\n",
       "      <td>human</td>\n",
       "    </tr>\n",
       "    <tr>\n",
       "      <th>624</th>\n",
       "      <td>the wheels have rubber tires with an inner tub...</td>\n",
       "      <td>381</td>\n",
       "      <td>384sentences.381</td>\n",
       "      <td>384sentences</td>\n",
       "      <td>384sentences.human</td>\n",
       "      <td>96</td>\n",
       "      <td>Woman</td>\n",
       "      <td>human</td>\n",
       "    </tr>\n",
       "    <tr>\n",
       "      <th>625</th>\n",
       "      <td>good data on the social and economic effects o...</td>\n",
       "      <td>382</td>\n",
       "      <td>384sentences.382</td>\n",
       "      <td>384sentences</td>\n",
       "      <td>384sentences.human</td>\n",
       "      <td>96</td>\n",
       "      <td>Woman</td>\n",
       "      <td>human</td>\n",
       "    </tr>\n",
       "    <tr>\n",
       "      <th>626</th>\n",
       "      <td>it looked like something a professional stylis...</td>\n",
       "      <td>383</td>\n",
       "      <td>384sentences.383</td>\n",
       "      <td>384sentences</td>\n",
       "      <td>384sentences.human</td>\n",
       "      <td>96</td>\n",
       "      <td>Woman</td>\n",
       "      <td>human</td>\n",
       "    </tr>\n",
       "  </tbody>\n",
       "</table>\n",
       "<p>627 rows × 8 columns</p>\n",
       "</div>"
      ],
      "text/plain": [
       "                                              sentence  sentence_num  \\\n",
       "0    gloves to protect against cold are made of woo...             0   \n",
       "1    the driver steers the car on roads other passe...             1   \n",
       "2    a knife can be used to attack by slashing stab...             2   \n",
       "3    the computer graphics specialist works with do...             3   \n",
       "4    i finally came to a stop at a flat part of the...             4   \n",
       "..                                                 ...           ...   \n",
       "622  the adults set up climbing routes appropriate ...           379   \n",
       "623  the building can have a garage a laundry facil...           380   \n",
       "624  the wheels have rubber tires with an inner tub...           381   \n",
       "625  good data on the social and economic effects o...           382   \n",
       "626  it looked like something a professional stylis...           383   \n",
       "\n",
       "          stimulus_id    experiment                       story  \\\n",
       "0      243sentences.0  243sentences     243sentences.beekeeping   \n",
       "1      243sentences.1  243sentences     243sentences.beekeeping   \n",
       "2      243sentences.2  243sentences     243sentences.beekeeping   \n",
       "3      243sentences.3  243sentences     243sentences.beekeeping   \n",
       "4      243sentences.4  243sentences     243sentences.beekeeping   \n",
       "..                ...           ...                         ...   \n",
       "622  384sentences.379  384sentences  384sentences.building_part   \n",
       "623  384sentences.380  384sentences          384sentences.human   \n",
       "624  384sentences.381  384sentences          384sentences.human   \n",
       "625  384sentences.382  384sentences          384sentences.human   \n",
       "626  384sentences.383  384sentences          384sentences.human   \n",
       "\n",
       "     passage_index passage_label passage_category  \n",
       "0                1    beekeeping       beekeeping  \n",
       "1                1    beekeeping       beekeeping  \n",
       "2                1    beekeeping       beekeeping  \n",
       "3                1    beekeeping       beekeeping  \n",
       "4                2    beekeeping       beekeeping  \n",
       "..             ...           ...              ...  \n",
       "622             95        Window    building_part  \n",
       "623             96         Woman            human  \n",
       "624             96         Woman            human  \n",
       "625             96         Woman            human  \n",
       "626             96         Woman            human  \n",
       "\n",
       "[627 rows x 8 columns]"
      ]
     },
     "execution_count": 13,
     "metadata": {},
     "output_type": "execute_result"
    }
   ],
   "source": [
    "shuffled_sentences = original_stimuli.copy()\n",
    "shuffle(shuffled_sentences)\n",
    "\n",
    "#quick test that all sentences have been shuffled\n",
    "for ind in range(len(original_stimuli)):\n",
    "    if original_stimuli[ind] != shuffled_sentences[ind]:\n",
    "        continue\n",
    "    else:\n",
    "        print(ind)\n",
    "print(\"Done\")\n",
    "\n",
    "perturbed_df = stimuli_df.copy()\n",
    "perturbed_df[\"sentence\"] = shuffled_sentences\n",
    "\n",
    "if save:\n",
    "    fname = f\"{savedir}/stimuli_sentenceshuffle-random.pkl\"\n",
    "    with open(fname, 'wb') as fout:\n",
    "        pickle.dump(perturbed_df, fout)\n",
    "    \n",
    "print(shuffled_sentences[:5])\n",
    "perturbed_df"
   ]
  },
  {
   "cell_type": "markdown",
   "metadata": {},
   "source": [
    "### 1b. random shuffling of sentences across the dataset, making sure that sentences from the same topic are not placed in the original slot"
   ]
  },
  {
   "cell_type": "markdown",
   "metadata": {},
   "source": [
    "Info from Pereira et al., 2018: Experiment 2 used 96\n",
    "passages, each consisting of 4 sentences about a particular concept, spanning a\n",
    "broad range of content areas from 24 broad topics (e.g., professions, clothing, birds,\n",
    "musical instruments, natural disasters, crimes, etc.), with 4 passages per topic (e.g.,\n",
    "clarinet, accordion, piano, and violin for musical instruments; Supplementary\n",
    "Figure 1). All passages were Wikipedia-style texts that provided basic information\n",
    "about the relevant concept. Experiment 3 used 72 passages, each consisting of 3 or\n",
    "4 sentences about a particular concept. As in experiment 2, the passages spanned a\n",
    "broad range of content areas from 24 broad topics, unrelated to the topics in\n",
    "experiment 2 (e.g., skiing, dreams, opera, bone fractures, etc.), with 3 passages per\n",
    "topic"
   ]
  },
  {
   "cell_type": "code",
   "execution_count": 66,
   "metadata": {},
   "outputs": [],
   "source": [
    "avail_sents = stimuli_df.copy(deep=True) # for storing(=popping) which sentences have already been used\n",
    "stimuli_df_copy = stimuli_df.copy(deep=True)\n",
    "new_sents = []"
   ]
  },
  {
   "cell_type": "code",
   "execution_count": 41,
   "metadata": {},
   "outputs": [
    {
     "data": {
      "text/plain": [
       "120"
      ]
     },
     "execution_count": 41,
     "metadata": {},
     "output_type": "execute_result"
    }
   ],
   "source": [
    "len(np.unique(stimuli_df.passage_label))"
   ]
  },
  {
   "cell_type": "code",
   "execution_count": 42,
   "metadata": {},
   "outputs": [
    {
     "data": {
      "text/plain": [
       "48"
      ]
     },
     "execution_count": 42,
     "metadata": {},
     "output_type": "execute_result"
    }
   ],
   "source": [
    "len(np.unique(stimuli_df.passage_category))"
   ]
  },
  {
   "cell_type": "code",
   "execution_count": 43,
   "metadata": {},
   "outputs": [
    {
     "data": {
      "text/html": [
       "<div>\n",
       "<style scoped>\n",
       "    .dataframe tbody tr th:only-of-type {\n",
       "        vertical-align: middle;\n",
       "    }\n",
       "\n",
       "    .dataframe tbody tr th {\n",
       "        vertical-align: top;\n",
       "    }\n",
       "\n",
       "    .dataframe thead th {\n",
       "        text-align: right;\n",
       "    }\n",
       "</style>\n",
       "<table border=\"1\" class=\"dataframe\">\n",
       "  <thead>\n",
       "    <tr style=\"text-align: right;\">\n",
       "      <th></th>\n",
       "      <th>sentence</th>\n",
       "      <th>sentence_num</th>\n",
       "      <th>stimulus_id</th>\n",
       "      <th>experiment</th>\n",
       "      <th>story</th>\n",
       "      <th>passage_index</th>\n",
       "      <th>passage_label</th>\n",
       "      <th>passage_category</th>\n",
       "    </tr>\n",
       "  </thead>\n",
       "  <tbody>\n",
       "    <tr>\n",
       "      <th>0</th>\n",
       "      <td>Beekeeping encourages the conservation of loca...</td>\n",
       "      <td>0</td>\n",
       "      <td>243sentences.0</td>\n",
       "      <td>243sentences</td>\n",
       "      <td>243sentences.beekeeping</td>\n",
       "      <td>1</td>\n",
       "      <td>beekeeping</td>\n",
       "      <td>beekeeping</td>\n",
       "    </tr>\n",
       "    <tr>\n",
       "      <th>1</th>\n",
       "      <td>It is in every beekeeper's interest to conserv...</td>\n",
       "      <td>1</td>\n",
       "      <td>243sentences.1</td>\n",
       "      <td>243sentences</td>\n",
       "      <td>243sentences.beekeeping</td>\n",
       "      <td>1</td>\n",
       "      <td>beekeeping</td>\n",
       "      <td>beekeeping</td>\n",
       "    </tr>\n",
       "    <tr>\n",
       "      <th>2</th>\n",
       "      <td>As a passive form of agriculture, it does not ...</td>\n",
       "      <td>2</td>\n",
       "      <td>243sentences.2</td>\n",
       "      <td>243sentences</td>\n",
       "      <td>243sentences.beekeeping</td>\n",
       "      <td>1</td>\n",
       "      <td>beekeeping</td>\n",
       "      <td>beekeeping</td>\n",
       "    </tr>\n",
       "    <tr>\n",
       "      <th>3</th>\n",
       "      <td>Beekeepers also discourage the use of pesticid...</td>\n",
       "      <td>3</td>\n",
       "      <td>243sentences.3</td>\n",
       "      <td>243sentences</td>\n",
       "      <td>243sentences.beekeeping</td>\n",
       "      <td>1</td>\n",
       "      <td>beekeeping</td>\n",
       "      <td>beekeeping</td>\n",
       "    </tr>\n",
       "    <tr>\n",
       "      <th>4</th>\n",
       "      <td>Artisanal beekeepers go to extremes for their ...</td>\n",
       "      <td>4</td>\n",
       "      <td>243sentences.4</td>\n",
       "      <td>243sentences</td>\n",
       "      <td>243sentences.beekeeping</td>\n",
       "      <td>2</td>\n",
       "      <td>beekeeping</td>\n",
       "      <td>beekeeping</td>\n",
       "    </tr>\n",
       "    <tr>\n",
       "      <th>...</th>\n",
       "      <td>...</td>\n",
       "      <td>...</td>\n",
       "      <td>...</td>\n",
       "      <td>...</td>\n",
       "      <td>...</td>\n",
       "      <td>...</td>\n",
       "      <td>...</td>\n",
       "      <td>...</td>\n",
       "    </tr>\n",
       "    <tr>\n",
       "      <th>622</th>\n",
       "      <td>Some windows have multiple panes to increase i...</td>\n",
       "      <td>379</td>\n",
       "      <td>384sentences.379</td>\n",
       "      <td>384sentences</td>\n",
       "      <td>384sentences.building_part</td>\n",
       "      <td>95</td>\n",
       "      <td>Window</td>\n",
       "      <td>building_part</td>\n",
       "    </tr>\n",
       "    <tr>\n",
       "      <th>623</th>\n",
       "      <td>A woman is a female human adult.</td>\n",
       "      <td>380</td>\n",
       "      <td>384sentences.380</td>\n",
       "      <td>384sentences</td>\n",
       "      <td>384sentences.human</td>\n",
       "      <td>96</td>\n",
       "      <td>Woman</td>\n",
       "      <td>human</td>\n",
       "    </tr>\n",
       "    <tr>\n",
       "      <th>624</th>\n",
       "      <td>A woman is stereotypically seen as a caregiver.</td>\n",
       "      <td>381</td>\n",
       "      <td>384sentences.381</td>\n",
       "      <td>384sentences</td>\n",
       "      <td>384sentences.human</td>\n",
       "      <td>96</td>\n",
       "      <td>Woman</td>\n",
       "      <td>human</td>\n",
       "    </tr>\n",
       "    <tr>\n",
       "      <th>625</th>\n",
       "      <td>A woman can become pregnant and bear children.</td>\n",
       "      <td>382</td>\n",
       "      <td>384sentences.382</td>\n",
       "      <td>384sentences</td>\n",
       "      <td>384sentences.human</td>\n",
       "      <td>96</td>\n",
       "      <td>Woman</td>\n",
       "      <td>human</td>\n",
       "    </tr>\n",
       "    <tr>\n",
       "      <th>626</th>\n",
       "      <td>A woman has different reproductive organs than...</td>\n",
       "      <td>383</td>\n",
       "      <td>384sentences.383</td>\n",
       "      <td>384sentences</td>\n",
       "      <td>384sentences.human</td>\n",
       "      <td>96</td>\n",
       "      <td>Woman</td>\n",
       "      <td>human</td>\n",
       "    </tr>\n",
       "  </tbody>\n",
       "</table>\n",
       "<p>627 rows × 8 columns</p>\n",
       "</div>"
      ],
      "text/plain": [
       "                                              sentence  sentence_num  \\\n",
       "0    Beekeeping encourages the conservation of loca...             0   \n",
       "1    It is in every beekeeper's interest to conserv...             1   \n",
       "2    As a passive form of agriculture, it does not ...             2   \n",
       "3    Beekeepers also discourage the use of pesticid...             3   \n",
       "4    Artisanal beekeepers go to extremes for their ...             4   \n",
       "..                                                 ...           ...   \n",
       "622  Some windows have multiple panes to increase i...           379   \n",
       "623                   A woman is a female human adult.           380   \n",
       "624    A woman is stereotypically seen as a caregiver.           381   \n",
       "625     A woman can become pregnant and bear children.           382   \n",
       "626  A woman has different reproductive organs than...           383   \n",
       "\n",
       "          stimulus_id    experiment                       story  \\\n",
       "0      243sentences.0  243sentences     243sentences.beekeeping   \n",
       "1      243sentences.1  243sentences     243sentences.beekeeping   \n",
       "2      243sentences.2  243sentences     243sentences.beekeeping   \n",
       "3      243sentences.3  243sentences     243sentences.beekeeping   \n",
       "4      243sentences.4  243sentences     243sentences.beekeeping   \n",
       "..                ...           ...                         ...   \n",
       "622  384sentences.379  384sentences  384sentences.building_part   \n",
       "623  384sentences.380  384sentences          384sentences.human   \n",
       "624  384sentences.381  384sentences          384sentences.human   \n",
       "625  384sentences.382  384sentences          384sentences.human   \n",
       "626  384sentences.383  384sentences          384sentences.human   \n",
       "\n",
       "     passage_index passage_label passage_category  \n",
       "0                1    beekeeping       beekeeping  \n",
       "1                1    beekeeping       beekeeping  \n",
       "2                1    beekeeping       beekeeping  \n",
       "3                1    beekeeping       beekeeping  \n",
       "4                2    beekeeping       beekeeping  \n",
       "..             ...           ...              ...  \n",
       "622             95        Window    building_part  \n",
       "623             96         Woman            human  \n",
       "624             96         Woman            human  \n",
       "625             96         Woman            human  \n",
       "626             96         Woman            human  \n",
       "\n",
       "[627 rows x 8 columns]"
      ]
     },
     "execution_count": 43,
     "metadata": {},
     "output_type": "execute_result"
    }
   ],
   "source": [
    "stimuli_df"
   ]
  },
  {
   "cell_type": "code",
   "execution_count": 33,
   "metadata": {},
   "outputs": [
    {
     "name": "stdout",
     "output_type": "stream",
     "text": [
      "Pandas(Index=0, sentence='Beekeeping encourages the conservation of local habitats.', sentence_num=0, stimulus_id='243sentences.0', experiment='243sentences', story='243sentences.beekeeping', passage_index=1, passage_label='beekeeping', passage_category='beekeeping')\n",
      "Pandas(Index=1, sentence=\"It is in every beekeeper's interest to conserve local plants that produce pollen.\", sentence_num=1, stimulus_id='243sentences.1', experiment='243sentences', story='243sentences.beekeeping', passage_index=1, passage_label='beekeeping', passage_category='beekeeping')\n",
      "Pandas(Index=2, sentence='As a passive form of agriculture, it does not require that native vegetation be cleared to make way for crops.', sentence_num=2, stimulus_id='243sentences.2', experiment='243sentences', story='243sentences.beekeeping', passage_index=1, passage_label='beekeeping', passage_category='beekeeping')\n",
      "Pandas(Index=3, sentence='Beekeepers also discourage the use of pesticides on crops, because they could kill the honeybees.', sentence_num=3, stimulus_id='243sentences.3', experiment='243sentences', story='243sentences.beekeeping', passage_index=1, passage_label='beekeeping', passage_category='beekeeping')\n",
      "Pandas(Index=4, sentence='Artisanal beekeepers go to extremes for their craft, but their product is worth the effort.', sentence_num=4, stimulus_id='243sentences.4', experiment='243sentences', story='243sentences.beekeeping', passage_index=2, passage_label='beekeeping', passage_category='beekeeping')\n",
      "Pandas(Index=5, sentence='Artisanal honey-making emphasizes quality and character over quantity and consistency.', sentence_num=5, stimulus_id='243sentences.5', experiment='243sentences', story='243sentences.beekeeping', passage_index=2, passage_label='beekeeping', passage_category='beekeeping')\n",
      "Pandas(Index=6, sentence='To produce the finest honey, beekeepers become micromanagers of their honeybees.', sentence_num=6, stimulus_id='243sentences.6', experiment='243sentences', story='243sentences.beekeeping', passage_index=2, passage_label='beekeeping', passage_category='beekeeping')\n"
     ]
    }
   ],
   "source": [
    "for i, sent in enumerate(stimuli_df.itertuples()):\n",
    "    # find a sentence that is from a different topic & that has NOT been used before\n",
    "    \n",
    "    \n",
    "    \n",
    "    if i > 5:\n",
    "        break"
   ]
  },
  {
   "cell_type": "code",
   "execution_count": 34,
   "metadata": {},
   "outputs": [
    {
     "data": {
      "text/plain": [
       "Pandas(Index=6, sentence='To produce the finest honey, beekeepers become micromanagers of their honeybees.', sentence_num=6, stimulus_id='243sentences.6', experiment='243sentences', story='243sentences.beekeeping', passage_index=2, passage_label='beekeeping', passage_category='beekeeping')"
      ]
     },
     "execution_count": 34,
     "metadata": {},
     "output_type": "execute_result"
    }
   ],
   "source": [
    "sent"
   ]
  },
  {
   "cell_type": "code",
   "execution_count": 35,
   "metadata": {},
   "outputs": [
    {
     "data": {
      "text/plain": [
       "'To produce the finest honey, beekeepers become micromanagers of their honeybees.'"
      ]
     },
     "execution_count": 35,
     "metadata": {},
     "output_type": "execute_result"
    }
   ],
   "source": [
    "sent.sentence"
   ]
  },
  {
   "cell_type": "code",
   "execution_count": 36,
   "metadata": {},
   "outputs": [
    {
     "data": {
      "text/plain": [
       "'beekeeping'"
      ]
     },
     "execution_count": 36,
     "metadata": {},
     "output_type": "execute_result"
    }
   ],
   "source": [
    "sent.passage_category"
   ]
  },
  {
   "cell_type": "code",
   "execution_count": 67,
   "metadata": {},
   "outputs": [],
   "source": [
    "q_str = f'`passage_category` != \"{sent.passage_category}\"'\n",
    "sents_to_pick_from = avail_sents.query(q_str)\n",
    "\n",
    "# pick a random sentence \n",
    "rand_idx = np.random.choice(sents_to_pick_from.index.values)\n",
    "picked_sent = stimuli_df_copy.iloc[rand_idx]\n",
    "\n",
    "# remove from avail_sents\n",
    "avail_sents = avail_sents\n"
   ]
  },
  {
   "cell_type": "code",
   "execution_count": 65,
   "metadata": {},
   "outputs": [
    {
     "data": {
      "text/plain": [
       "sentence            A hammer is most often used to drive nails int...\n",
       "sentence_num                                                      165\n",
       "stimulus_id                                          384sentences.165\n",
       "experiment                                               384sentences\n",
       "story                                               384sentences.tool\n",
       "passage_index                                                      42\n",
       "passage_label                                                  Hammer\n",
       "passage_category                                                 tool\n",
       "Name: 408, dtype: object"
      ]
     },
     "execution_count": 65,
     "metadata": {},
     "output_type": "execute_result"
    }
   ],
   "source": [
    "sents_to_pick_from.iloc[rand_idx]\n"
   ]
  },
  {
   "cell_type": "code",
   "execution_count": 68,
   "metadata": {},
   "outputs": [
    {
     "data": {
      "text/plain": [
       "358"
      ]
     },
     "execution_count": 68,
     "metadata": {},
     "output_type": "execute_result"
    }
   ],
   "source": [
    "rand_idx"
   ]
  },
  {
   "cell_type": "code",
   "execution_count": 69,
   "metadata": {},
   "outputs": [
    {
     "data": {
      "text/plain": [
       "sentence            An earthquake at sea can displace the seabed a...\n",
       "sentence_num                                                      115\n",
       "stimulus_id                                          384sentences.115\n",
       "experiment                                               384sentences\n",
       "story                                           384sentences.disaster\n",
       "passage_index                                                      29\n",
       "passage_label                                              Earthquake\n",
       "passage_category                                             disaster\n",
       "Name: 358, dtype: object"
      ]
     },
     "execution_count": 69,
     "metadata": {},
     "output_type": "execute_result"
    }
   ],
   "source": [
    "stimuli_df.iloc[358]"
   ]
  },
  {
   "cell_type": "code",
   "execution_count": 70,
   "metadata": {},
   "outputs": [
    {
     "data": {
      "text/plain": [
       "sentence            An earthquake at sea can displace the seabed a...\n",
       "sentence_num                                                      115\n",
       "stimulus_id                                          384sentences.115\n",
       "experiment                                               384sentences\n",
       "story                                           384sentences.disaster\n",
       "passage_index                                                      29\n",
       "passage_label                                              Earthquake\n",
       "passage_category                                             disaster\n",
       "Name: 358, dtype: object"
      ]
     },
     "execution_count": 70,
     "metadata": {},
     "output_type": "execute_result"
    }
   ],
   "source": [
    "picked_sent\n"
   ]
  },
  {
   "cell_type": "code",
   "execution_count": 73,
   "metadata": {},
   "outputs": [],
   "source": [
    "a=avail_sents.drop(index=rand_idx)"
   ]
  },
  {
   "cell_type": "code",
   "execution_count": 75,
   "metadata": {},
   "outputs": [
    {
     "data": {
      "text/html": [
       "<div>\n",
       "<style scoped>\n",
       "    .dataframe tbody tr th:only-of-type {\n",
       "        vertical-align: middle;\n",
       "    }\n",
       "\n",
       "    .dataframe tbody tr th {\n",
       "        vertical-align: top;\n",
       "    }\n",
       "\n",
       "    .dataframe thead th {\n",
       "        text-align: right;\n",
       "    }\n",
       "</style>\n",
       "<table border=\"1\" class=\"dataframe\">\n",
       "  <thead>\n",
       "    <tr style=\"text-align: right;\">\n",
       "      <th></th>\n",
       "      <th>sentence</th>\n",
       "      <th>sentence_num</th>\n",
       "      <th>stimulus_id</th>\n",
       "      <th>experiment</th>\n",
       "      <th>story</th>\n",
       "      <th>passage_index</th>\n",
       "      <th>passage_label</th>\n",
       "      <th>passage_category</th>\n",
       "    </tr>\n",
       "  </thead>\n",
       "  <tbody>\n",
       "  </tbody>\n",
       "</table>\n",
       "</div>"
      ],
      "text/plain": [
       "Empty StimulusSet\n",
       "Columns: [sentence, sentence_num, stimulus_id, experiment, story, passage_index, passage_label, passage_category]\n",
       "Index: []"
      ]
     },
     "execution_count": 75,
     "metadata": {},
     "output_type": "execute_result"
    }
   ],
   "source": [
    "a.loc[a.index == rand_idx]"
   ]
  },
  {
   "cell_type": "code",
   "execution_count": null,
   "metadata": {},
   "outputs": [],
   "source": []
  },
  {
   "cell_type": "code",
   "execution_count": null,
   "metadata": {},
   "outputs": [],
   "source": []
  },
  {
   "cell_type": "code",
   "execution_count": null,
   "metadata": {},
   "outputs": [],
   "source": []
  },
  {
   "cell_type": "code",
   "execution_count": null,
   "metadata": {},
   "outputs": [],
   "source": []
  },
  {
   "cell_type": "code",
   "execution_count": null,
   "metadata": {},
   "outputs": [],
   "source": []
  },
  {
   "cell_type": "code",
   "execution_count": null,
   "metadata": {},
   "outputs": [],
   "source": [
    "#quick test that all sentences have been shuffled\n",
    "for ind in range(len(original_stimuli)):\n",
    "    if original_stimuli[ind] != shuffled_sentences[ind]:\n",
    "        continue\n",
    "    else:\n",
    "        print(ind)\n",
    "print(\"Done\")\n",
    "\n",
    "perturbed_df = stimuli_df.copy()\n",
    "perturbed_df[\"sentence\"] = shuffled_sentences\n",
    "\n",
    "if save:\n",
    "    fname = f\"{savedir}/stimuli_sentenceshuffle-random.pkl\"\n",
    "    with open(fname, 'wb') as fout:\n",
    "        pickle.dump(perturbed_df, fout)\n",
    "    \n",
    "print(shuffled_sentences[:5])\n",
    "perturbed_df"
   ]
  },
  {
   "cell_type": "code",
   "execution_count": null,
   "metadata": {},
   "outputs": [],
   "source": []
  },
  {
   "cell_type": "code",
   "execution_count": null,
   "metadata": {},
   "outputs": [],
   "source": []
  },
  {
   "cell_type": "code",
   "execution_count": null,
   "metadata": {},
   "outputs": [],
   "source": []
  },
  {
   "cell_type": "code",
   "execution_count": null,
   "metadata": {},
   "outputs": [],
   "source": []
  },
  {
   "cell_type": "code",
   "execution_count": null,
   "metadata": {},
   "outputs": [],
   "source": []
  },
  {
   "cell_type": "code",
   "execution_count": null,
   "metadata": {},
   "outputs": [],
   "source": []
  },
  {
   "cell_type": "code",
   "execution_count": null,
   "metadata": {},
   "outputs": [],
   "source": []
  },
  {
   "cell_type": "code",
   "execution_count": null,
   "metadata": {},
   "outputs": [],
   "source": []
  },
  {
   "cell_type": "code",
   "execution_count": null,
   "metadata": {},
   "outputs": [],
   "source": []
  },
  {
   "cell_type": "code",
   "execution_count": null,
   "metadata": {},
   "outputs": [],
   "source": []
  },
  {
   "cell_type": "code",
   "execution_count": null,
   "metadata": {},
   "outputs": [],
   "source": []
  },
  {
   "cell_type": "code",
   "execution_count": null,
   "metadata": {},
   "outputs": [],
   "source": []
  },
  {
   "cell_type": "markdown",
   "metadata": {},
   "source": [
    "### 2. random shuffling of sentences within a passage"
   ]
  },
  {
   "cell_type": "code",
   "execution_count": 14,
   "metadata": {},
   "outputs": [
    {
     "name": "stdout",
     "output_type": "stream",
     "text": [
      "['as a passive form of agriculture it does not require that native vegetation be cleared to make way for crops.', \"it is in every beekeeper's interest to conserve local plants that produce pollen.\", 'beekeepers also discourage the use of pesticides on crops because they could kill the honeybees.', 'beekeeping encourages the conservation of local habitats.', 'they scout the fields know when nectar flows and select the best ways to extract honey.']\n"
     ]
    },
    {
     "data": {
      "text/html": [
       "<div>\n",
       "<style scoped>\n",
       "    .dataframe tbody tr th:only-of-type {\n",
       "        vertical-align: middle;\n",
       "    }\n",
       "\n",
       "    .dataframe tbody tr th {\n",
       "        vertical-align: top;\n",
       "    }\n",
       "\n",
       "    .dataframe thead th {\n",
       "        text-align: right;\n",
       "    }\n",
       "</style>\n",
       "<table border=\"1\" class=\"dataframe\">\n",
       "  <thead>\n",
       "    <tr style=\"text-align: right;\">\n",
       "      <th></th>\n",
       "      <th>sentence</th>\n",
       "      <th>sentence_num</th>\n",
       "      <th>stimulus_id</th>\n",
       "      <th>experiment</th>\n",
       "      <th>story</th>\n",
       "      <th>passage_index</th>\n",
       "      <th>passage_label</th>\n",
       "      <th>passage_category</th>\n",
       "    </tr>\n",
       "  </thead>\n",
       "  <tbody>\n",
       "    <tr>\n",
       "      <th>0</th>\n",
       "      <td>as a passive form of agriculture it does not r...</td>\n",
       "      <td>0</td>\n",
       "      <td>243sentences.0</td>\n",
       "      <td>243sentences</td>\n",
       "      <td>243sentences.beekeeping</td>\n",
       "      <td>1</td>\n",
       "      <td>beekeeping</td>\n",
       "      <td>beekeeping</td>\n",
       "    </tr>\n",
       "    <tr>\n",
       "      <th>1</th>\n",
       "      <td>it is in every beekeeper's interest to conserv...</td>\n",
       "      <td>1</td>\n",
       "      <td>243sentences.1</td>\n",
       "      <td>243sentences</td>\n",
       "      <td>243sentences.beekeeping</td>\n",
       "      <td>1</td>\n",
       "      <td>beekeeping</td>\n",
       "      <td>beekeeping</td>\n",
       "    </tr>\n",
       "    <tr>\n",
       "      <th>2</th>\n",
       "      <td>beekeepers also discourage the use of pesticid...</td>\n",
       "      <td>2</td>\n",
       "      <td>243sentences.2</td>\n",
       "      <td>243sentences</td>\n",
       "      <td>243sentences.beekeeping</td>\n",
       "      <td>1</td>\n",
       "      <td>beekeeping</td>\n",
       "      <td>beekeeping</td>\n",
       "    </tr>\n",
       "    <tr>\n",
       "      <th>3</th>\n",
       "      <td>beekeeping encourages the conservation of loca...</td>\n",
       "      <td>3</td>\n",
       "      <td>243sentences.3</td>\n",
       "      <td>243sentences</td>\n",
       "      <td>243sentences.beekeeping</td>\n",
       "      <td>1</td>\n",
       "      <td>beekeeping</td>\n",
       "      <td>beekeeping</td>\n",
       "    </tr>\n",
       "    <tr>\n",
       "      <th>4</th>\n",
       "      <td>they scout the fields know when nectar flows a...</td>\n",
       "      <td>4</td>\n",
       "      <td>243sentences.4</td>\n",
       "      <td>243sentences</td>\n",
       "      <td>243sentences.beekeeping</td>\n",
       "      <td>2</td>\n",
       "      <td>beekeeping</td>\n",
       "      <td>beekeeping</td>\n",
       "    </tr>\n",
       "    <tr>\n",
       "      <th>...</th>\n",
       "      <td>...</td>\n",
       "      <td>...</td>\n",
       "      <td>...</td>\n",
       "      <td>...</td>\n",
       "      <td>...</td>\n",
       "      <td>...</td>\n",
       "      <td>...</td>\n",
       "      <td>...</td>\n",
       "    </tr>\n",
       "    <tr>\n",
       "      <th>622</th>\n",
       "      <td>some windows have multiple panes to increase i...</td>\n",
       "      <td>379</td>\n",
       "      <td>384sentences.379</td>\n",
       "      <td>384sentences</td>\n",
       "      <td>384sentences.building_part</td>\n",
       "      <td>95</td>\n",
       "      <td>Window</td>\n",
       "      <td>building_part</td>\n",
       "    </tr>\n",
       "    <tr>\n",
       "      <th>623</th>\n",
       "      <td>a woman can become pregnant and bear children.</td>\n",
       "      <td>380</td>\n",
       "      <td>384sentences.380</td>\n",
       "      <td>384sentences</td>\n",
       "      <td>384sentences.human</td>\n",
       "      <td>96</td>\n",
       "      <td>Woman</td>\n",
       "      <td>human</td>\n",
       "    </tr>\n",
       "    <tr>\n",
       "      <th>624</th>\n",
       "      <td>a woman is a female human adult.</td>\n",
       "      <td>381</td>\n",
       "      <td>384sentences.381</td>\n",
       "      <td>384sentences</td>\n",
       "      <td>384sentences.human</td>\n",
       "      <td>96</td>\n",
       "      <td>Woman</td>\n",
       "      <td>human</td>\n",
       "    </tr>\n",
       "    <tr>\n",
       "      <th>625</th>\n",
       "      <td>a woman is stereotypically seen as a caregiver.</td>\n",
       "      <td>382</td>\n",
       "      <td>384sentences.382</td>\n",
       "      <td>384sentences</td>\n",
       "      <td>384sentences.human</td>\n",
       "      <td>96</td>\n",
       "      <td>Woman</td>\n",
       "      <td>human</td>\n",
       "    </tr>\n",
       "    <tr>\n",
       "      <th>626</th>\n",
       "      <td>a woman has different reproductive organs than...</td>\n",
       "      <td>383</td>\n",
       "      <td>384sentences.383</td>\n",
       "      <td>384sentences</td>\n",
       "      <td>384sentences.human</td>\n",
       "      <td>96</td>\n",
       "      <td>Woman</td>\n",
       "      <td>human</td>\n",
       "    </tr>\n",
       "  </tbody>\n",
       "</table>\n",
       "<p>627 rows × 8 columns</p>\n",
       "</div>"
      ],
      "text/plain": [
       "                                              sentence  sentence_num  \\\n",
       "0    as a passive form of agriculture it does not r...             0   \n",
       "1    it is in every beekeeper's interest to conserv...             1   \n",
       "2    beekeepers also discourage the use of pesticid...             2   \n",
       "3    beekeeping encourages the conservation of loca...             3   \n",
       "4    they scout the fields know when nectar flows a...             4   \n",
       "..                                                 ...           ...   \n",
       "622  some windows have multiple panes to increase i...           379   \n",
       "623     a woman can become pregnant and bear children.           380   \n",
       "624                   a woman is a female human adult.           381   \n",
       "625    a woman is stereotypically seen as a caregiver.           382   \n",
       "626  a woman has different reproductive organs than...           383   \n",
       "\n",
       "          stimulus_id    experiment                       story  \\\n",
       "0      243sentences.0  243sentences     243sentences.beekeeping   \n",
       "1      243sentences.1  243sentences     243sentences.beekeeping   \n",
       "2      243sentences.2  243sentences     243sentences.beekeeping   \n",
       "3      243sentences.3  243sentences     243sentences.beekeeping   \n",
       "4      243sentences.4  243sentences     243sentences.beekeeping   \n",
       "..                ...           ...                         ...   \n",
       "622  384sentences.379  384sentences  384sentences.building_part   \n",
       "623  384sentences.380  384sentences          384sentences.human   \n",
       "624  384sentences.381  384sentences          384sentences.human   \n",
       "625  384sentences.382  384sentences          384sentences.human   \n",
       "626  384sentences.383  384sentences          384sentences.human   \n",
       "\n",
       "     passage_index passage_label passage_category  \n",
       "0                1    beekeeping       beekeeping  \n",
       "1                1    beekeeping       beekeeping  \n",
       "2                1    beekeeping       beekeeping  \n",
       "3                1    beekeeping       beekeeping  \n",
       "4                2    beekeeping       beekeeping  \n",
       "..             ...           ...              ...  \n",
       "622             95        Window    building_part  \n",
       "623             96         Woman            human  \n",
       "624             96         Woman            human  \n",
       "625             96         Woman            human  \n",
       "626             96         Woman            human  \n",
       "\n",
       "[627 rows x 8 columns]"
      ]
     },
     "execution_count": 14,
     "metadata": {},
     "output_type": "execute_result"
    }
   ],
   "source": [
    "#index by experiment and passage_label/passage_index >> shuffle within those\n",
    "def get_shuffled_within_passage(stimuli_df):\n",
    "    np.random.seed(42)\n",
    "    random.seed(42)\n",
    "\n",
    "    shuffled_sentences = []\n",
    "    for exp in list(np.unique(stimuli_df[\"experiment\"])):\n",
    "        for ind in list(np.unique(stimuli_df[\"passage_index\"])):\n",
    "            if exp == \"243sentences\" and ind > 72: #hot fix, 243sentences only has 72 passages\n",
    "                continue\n",
    "            else:\n",
    "                curr_df = stimuli_df.loc[(stimuli_df[\"experiment\"] == exp) & (stimuli_df[\"passage_index\"] == ind)]\n",
    "                curr_sent = list(curr_df[\"sentence\"])\n",
    "                while True:\n",
    "                    shuffle(curr_sent)\n",
    "                    if curr_sent != list(curr_df[\"sentence\"]):\n",
    "                        break\n",
    "                shuffled_sentences += curr_sent\n",
    "    return shuffled_sentences\n",
    "shuffled_sentences = get_shuffled_within_passage(stimuli_df)\n",
    "\n",
    "#assimilate sentences with Mollica-style (i.e., strip sentence-internal punctuation, lowercase)\n",
    "shuffled_sentences = [re.sub(r'[^\\w\\d\\s\\']+', '', sent.lower()) + \".\" for sent in shuffled_sentences]\n",
    "\n",
    "perturbed_df = stimuli_df.copy()\n",
    "perturbed_df[\"sentence\"] = shuffled_sentences\n",
    "\n",
    "if save:\n",
    "    fname = f\"{savedir}/stimuli_sentenceshuffle-withinpassage.pkl\"\n",
    "    with open(fname, 'wb') as fout:\n",
    "        pickle.dump(perturbed_df, fout)\n",
    "    \n",
    "print(shuffled_sentences[:5])\n",
    "perturbed_df"
   ]
  },
  {
   "cell_type": "code",
   "execution_count": null,
   "metadata": {},
   "outputs": [],
   "source": []
  }
 ],
 "metadata": {
  "kernelspec": {
   "display_name": "Python 3",
   "language": "python",
   "name": "python3"
  },
  "language_info": {
   "codemirror_mode": {
    "name": "ipython",
    "version": 3
   },
   "file_extension": ".py",
   "mimetype": "text/x-python",
   "name": "python",
   "nbconvert_exporter": "python",
   "pygments_lexer": "ipython3",
   "version": "3.8.3"
  }
 },
 "nbformat": 4,
 "nbformat_minor": 4
}
