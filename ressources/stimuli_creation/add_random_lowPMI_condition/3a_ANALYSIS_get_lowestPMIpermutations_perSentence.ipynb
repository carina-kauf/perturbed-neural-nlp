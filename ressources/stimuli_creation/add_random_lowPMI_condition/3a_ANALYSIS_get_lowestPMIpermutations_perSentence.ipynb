{
 "cells": [
  {
   "cell_type": "code",
   "execution_count": 20,
   "metadata": {},
   "outputs": [],
   "source": [
    "import seaborn as sns\n",
    "import matplotlib.pyplot as plt\n",
    "import pandas as pd\n",
    "import numpy as np\n",
    "import os"
   ]
  },
  {
   "cell_type": "code",
   "execution_count": 21,
   "metadata": {},
   "outputs": [
    {
     "name": "stdout",
     "output_type": "stream",
     "text": [
      "/om/user/ckauf/neural-nlp/neural_nlp/analyze/neural-scrambled/metric-validation/add_random_lowPMI_condition\n"
     ]
    },
    {
     "data": {
      "text/html": [
       "<div>\n",
       "<style scoped>\n",
       "    .dataframe tbody tr th:only-of-type {\n",
       "        vertical-align: middle;\n",
       "    }\n",
       "\n",
       "    .dataframe tbody tr th {\n",
       "        vertical-align: top;\n",
       "    }\n",
       "\n",
       "    .dataframe thead th {\n",
       "        text-align: right;\n",
       "    }\n",
       "</style>\n",
       "<table border=\"1\" class=\"dataframe\">\n",
       "  <thead>\n",
       "    <tr style=\"text-align: right;\">\n",
       "      <th></th>\n",
       "      <th>stimulus_id</th>\n",
       "      <th>stimulus</th>\n",
       "      <th>pPMI_lag2</th>\n",
       "    </tr>\n",
       "  </thead>\n",
       "  <tbody>\n",
       "    <tr>\n",
       "      <th>0</th>\n",
       "      <td>243sentences.0</td>\n",
       "      <td>habitats conservation encourages the beekeepin...</td>\n",
       "      <td>19.945917</td>\n",
       "    </tr>\n",
       "    <tr>\n",
       "      <th>1</th>\n",
       "      <td>243sentences.0</td>\n",
       "      <td>beekeeping the of local encourages habitats co...</td>\n",
       "      <td>31.486668</td>\n",
       "    </tr>\n",
       "    <tr>\n",
       "      <th>2</th>\n",
       "      <td>243sentences.0</td>\n",
       "      <td>of habitats conservation beekeeping the local ...</td>\n",
       "      <td>24.229510</td>\n",
       "    </tr>\n",
       "    <tr>\n",
       "      <th>3</th>\n",
       "      <td>243sentences.0</td>\n",
       "      <td>habitats encourages local beekeeping the conse...</td>\n",
       "      <td>28.632761</td>\n",
       "    </tr>\n",
       "    <tr>\n",
       "      <th>4</th>\n",
       "      <td>243sentences.0</td>\n",
       "      <td>encourages conservation local of the beekeepin...</td>\n",
       "      <td>30.838406</td>\n",
       "    </tr>\n",
       "  </tbody>\n",
       "</table>\n",
       "</div>"
      ],
      "text/plain": [
       "      stimulus_id                                           stimulus  \\\n",
       "0  243sentences.0  habitats conservation encourages the beekeepin...   \n",
       "1  243sentences.0  beekeeping the of local encourages habitats co...   \n",
       "2  243sentences.0  of habitats conservation beekeeping the local ...   \n",
       "3  243sentences.0  habitats encourages local beekeeping the conse...   \n",
       "4  243sentences.0  encourages conservation local of the beekeepin...   \n",
       "\n",
       "   pPMI_lag2  \n",
       "0  19.945917  \n",
       "1  31.486668  \n",
       "2  24.229510  \n",
       "3  28.632761  \n",
       "4  30.838406  "
      ]
     },
     "execution_count": 21,
     "metadata": {},
     "output_type": "execute_result"
    }
   ],
   "source": [
    "print(os.getcwd())\n",
    "df = pd.read_csv('2_pPMI_lag2_10rand.csv',header=None)\n",
    "del df[0]\n",
    "\n",
    "df.columns = ['stimulus_id', 'stimulus','pPMI_lag2']\n",
    "\n",
    "df.head()"
   ]
  },
  {
   "cell_type": "code",
   "execution_count": 22,
   "metadata": {},
   "outputs": [
    {
     "name": "stdout",
     "output_type": "stream",
     "text": [
      "627\n",
      "['243sentences.0', '243sentences.1', '243sentences.2', '243sentences.3', '243sentences.4', '243sentences.5', '243sentences.6', '243sentences.7', '243sentences.8', '243sentences.9', '243sentences.10', '243sentences.11', '243sentences.12', '243sentences.13', '243sentences.14', '243sentences.15', '243sentences.16', '243sentences.17', '243sentences.18', '243sentences.19', '243sentences.20', '243sentences.21', '243sentences.22', '243sentences.23', '243sentences.24', '243sentences.25', '243sentences.26', '243sentences.27', '243sentences.28', '243sentences.29', '243sentences.30', '243sentences.31', '243sentences.32', '243sentences.33', '243sentences.34', '243sentences.35', '243sentences.36', '243sentences.37', '243sentences.38', '243sentences.39', '243sentences.40', '243sentences.41', '243sentences.42', '243sentences.43', '243sentences.44', '243sentences.45', '243sentences.46', '243sentences.47', '243sentences.48', '243sentences.49', '243sentences.50', '243sentences.51', '243sentences.52', '243sentences.53', '243sentences.54', '243sentences.55', '243sentences.56', '243sentences.57', '243sentences.58', '243sentences.59', '243sentences.60', '243sentences.61', '243sentences.62', '243sentences.63', '243sentences.64', '243sentences.65', '243sentences.66', '243sentences.67', '243sentences.68', '243sentences.69', '243sentences.70', '243sentences.71', '243sentences.72', '243sentences.73', '243sentences.74', '243sentences.75', '243sentences.76', '243sentences.77', '243sentences.78', '243sentences.79', '243sentences.80', '243sentences.81', '243sentences.82', '243sentences.83', '243sentences.84', '243sentences.85', '243sentences.86', '243sentences.87', '243sentences.88', '243sentences.89', '243sentences.90', '243sentences.91', '243sentences.92', '243sentences.93', '243sentences.94', '243sentences.95', '243sentences.96', '243sentences.97', '243sentences.98', '243sentences.99', '243sentences.100', '243sentences.101', '243sentences.102', '243sentences.103', '243sentences.104', '243sentences.105', '243sentences.106', '243sentences.107', '243sentences.108', '243sentences.109', '243sentences.110', '243sentences.111', '243sentences.112', '243sentences.113', '243sentences.114', '243sentences.115', '243sentences.116', '243sentences.117', '243sentences.118', '243sentences.119', '243sentences.120', '243sentences.121', '243sentences.122', '243sentences.123', '243sentences.124', '243sentences.125', '243sentences.126', '243sentences.127', '243sentences.128', '243sentences.129', '243sentences.130', '243sentences.131', '243sentences.132', '243sentences.133', '243sentences.134', '243sentences.135', '243sentences.136', '243sentences.137', '243sentences.138', '243sentences.139', '243sentences.140', '243sentences.141', '243sentences.142', '243sentences.143', '243sentences.144', '243sentences.145', '243sentences.146', '243sentences.147', '243sentences.148', '243sentences.149', '243sentences.150', '243sentences.151', '243sentences.152', '243sentences.153', '243sentences.154', '243sentences.155', '243sentences.156', '243sentences.157', '243sentences.158', '243sentences.159', '243sentences.160', '243sentences.161', '243sentences.162', '243sentences.163', '243sentences.164', '243sentences.165', '243sentences.166', '243sentences.167', '243sentences.168', '243sentences.169', '243sentences.170', '243sentences.171', '243sentences.172', '243sentences.173', '243sentences.174', '243sentences.175', '243sentences.176', '243sentences.177', '243sentences.178', '243sentences.179', '243sentences.180', '243sentences.181', '243sentences.182', '243sentences.183', '243sentences.184', '243sentences.185', '243sentences.186', '243sentences.187', '243sentences.188', '243sentences.189', '243sentences.190', '243sentences.191', '243sentences.192', '243sentences.193', '243sentences.194', '243sentences.195', '243sentences.196', '243sentences.197', '243sentences.198', '243sentences.199', '243sentences.200', '243sentences.201', '243sentences.202', '243sentences.203', '243sentences.204', '243sentences.205', '243sentences.206', '243sentences.207', '243sentences.208', '243sentences.209', '243sentences.210', '243sentences.211', '243sentences.212', '243sentences.213', '243sentences.214', '243sentences.215', '243sentences.216', '243sentences.217', '243sentences.218', '243sentences.219', '243sentences.220', '243sentences.221', '243sentences.222', '243sentences.223', '243sentences.224', '243sentences.225', '243sentences.226', '243sentences.227', '243sentences.228', '243sentences.229', '243sentences.230', '243sentences.231', '243sentences.232', '243sentences.233', '243sentences.234', '243sentences.235', '243sentences.236', '243sentences.237', '243sentences.238', '243sentences.239', '243sentences.240', '243sentences.241', '243sentences.242', '384sentences.0', '384sentences.1', '384sentences.2', '384sentences.3', '384sentences.4', '384sentences.5', '384sentences.6', '384sentences.7', '384sentences.8', '384sentences.9', '384sentences.10', '384sentences.11', '384sentences.12', '384sentences.13', '384sentences.14', '384sentences.15', '384sentences.16', '384sentences.17', '384sentences.18', '384sentences.19', '384sentences.20', '384sentences.21', '384sentences.22', '384sentences.23', '384sentences.24', '384sentences.25', '384sentences.26', '384sentences.27', '384sentences.28', '384sentences.29', '384sentences.30', '384sentences.31', '384sentences.32', '384sentences.33', '384sentences.34', '384sentences.35', '384sentences.36', '384sentences.37', '384sentences.38', '384sentences.39', '384sentences.40', '384sentences.41', '384sentences.42', '384sentences.43', '384sentences.44', '384sentences.45', '384sentences.46', '384sentences.47', '384sentences.48', '384sentences.49', '384sentences.50', '384sentences.51', '384sentences.52', '384sentences.53', '384sentences.54', '384sentences.55', '384sentences.56', '384sentences.57', '384sentences.58', '384sentences.59', '384sentences.60', '384sentences.61', '384sentences.62', '384sentences.63', '384sentences.64', '384sentences.65', '384sentences.66', '384sentences.67', '384sentences.68', '384sentences.69', '384sentences.70', '384sentences.71', '384sentences.72', '384sentences.73', '384sentences.74', '384sentences.75', '384sentences.76', '384sentences.77', '384sentences.78', '384sentences.79', '384sentences.80', '384sentences.81', '384sentences.82', '384sentences.83', '384sentences.84', '384sentences.85', '384sentences.86', '384sentences.87', '384sentences.88', '384sentences.89', '384sentences.90', '384sentences.91', '384sentences.92', '384sentences.93', '384sentences.94', '384sentences.95', '384sentences.96', '384sentences.97', '384sentences.98', '384sentences.99', '384sentences.100', '384sentences.101', '384sentences.102', '384sentences.103', '384sentences.104', '384sentences.105', '384sentences.106', '384sentences.107', '384sentences.108', '384sentences.109', '384sentences.110', '384sentences.111', '384sentences.112', '384sentences.113', '384sentences.114', '384sentences.115', '384sentences.116', '384sentences.117', '384sentences.118', '384sentences.119', '384sentences.120', '384sentences.121', '384sentences.122', '384sentences.123', '384sentences.124', '384sentences.125', '384sentences.126', '384sentences.127', '384sentences.128', '384sentences.129', '384sentences.130', '384sentences.131', '384sentences.132', '384sentences.133', '384sentences.134', '384sentences.135', '384sentences.136', '384sentences.137', '384sentences.138', '384sentences.139', '384sentences.140', '384sentences.141', '384sentences.142', '384sentences.143', '384sentences.144', '384sentences.145', '384sentences.146', '384sentences.147', '384sentences.148', '384sentences.149', '384sentences.150', '384sentences.151', '384sentences.152', '384sentences.153', '384sentences.154', '384sentences.155', '384sentences.156', '384sentences.157', '384sentences.158', '384sentences.159', '384sentences.160', '384sentences.161', '384sentences.162', '384sentences.163', '384sentences.164', '384sentences.165', '384sentences.166', '384sentences.167', '384sentences.168', '384sentences.169', '384sentences.170', '384sentences.171', '384sentences.172', '384sentences.173', '384sentences.174', '384sentences.175', '384sentences.176', '384sentences.177', '384sentences.178', '384sentences.179', '384sentences.180', '384sentences.181', '384sentences.182', '384sentences.183', '384sentences.184', '384sentences.185', '384sentences.186', '384sentences.187', '384sentences.188', '384sentences.189', '384sentences.190', '384sentences.191', '384sentences.192', '384sentences.193', '384sentences.194', '384sentences.195', '384sentences.196', '384sentences.197', '384sentences.198', '384sentences.199', '384sentences.200', '384sentences.201', '384sentences.202', '384sentences.203', '384sentences.204', '384sentences.205', '384sentences.206', '384sentences.207', '384sentences.208', '384sentences.209', '384sentences.210', '384sentences.211', '384sentences.212', '384sentences.213', '384sentences.214', '384sentences.215', '384sentences.216', '384sentences.217', '384sentences.218', '384sentences.219', '384sentences.220', '384sentences.221', '384sentences.222', '384sentences.223', '384sentences.224', '384sentences.225', '384sentences.226', '384sentences.227', '384sentences.228', '384sentences.229', '384sentences.230', '384sentences.231', '384sentences.232', '384sentences.233', '384sentences.234', '384sentences.235', '384sentences.236', '384sentences.237', '384sentences.238', '384sentences.239', '384sentences.240', '384sentences.241', '384sentences.242', '384sentences.243', '384sentences.244', '384sentences.245', '384sentences.246', '384sentences.247', '384sentences.248', '384sentences.249', '384sentences.250', '384sentences.251', '384sentences.252', '384sentences.253', '384sentences.254', '384sentences.255', '384sentences.256', '384sentences.257', '384sentences.258', '384sentences.259', '384sentences.260', '384sentences.261', '384sentences.262', '384sentences.263', '384sentences.264', '384sentences.265', '384sentences.266', '384sentences.267', '384sentences.268', '384sentences.269', '384sentences.270', '384sentences.271', '384sentences.272', '384sentences.273', '384sentences.274', '384sentences.275', '384sentences.276', '384sentences.277', '384sentences.278', '384sentences.279', '384sentences.280', '384sentences.281', '384sentences.282', '384sentences.283', '384sentences.284', '384sentences.285', '384sentences.286', '384sentences.287', '384sentences.288', '384sentences.289', '384sentences.290', '384sentences.291', '384sentences.292', '384sentences.293', '384sentences.294', '384sentences.295', '384sentences.296', '384sentences.297', '384sentences.298', '384sentences.299', '384sentences.300', '384sentences.301', '384sentences.302', '384sentences.303', '384sentences.304', '384sentences.305', '384sentences.306', '384sentences.307', '384sentences.308', '384sentences.309', '384sentences.310', '384sentences.311', '384sentences.312', '384sentences.313', '384sentences.314', '384sentences.315', '384sentences.316', '384sentences.317', '384sentences.318', '384sentences.319', '384sentences.320', '384sentences.321', '384sentences.322', '384sentences.323', '384sentences.324', '384sentences.325', '384sentences.326', '384sentences.327', '384sentences.328', '384sentences.329', '384sentences.330', '384sentences.331', '384sentences.332', '384sentences.333', '384sentences.334', '384sentences.335', '384sentences.336', '384sentences.337', '384sentences.338', '384sentences.339', '384sentences.340', '384sentences.341', '384sentences.342', '384sentences.343', '384sentences.344', '384sentences.345', '384sentences.346', '384sentences.347', '384sentences.348', '384sentences.349', '384sentences.350', '384sentences.351', '384sentences.352', '384sentences.353', '384sentences.354', '384sentences.355', '384sentences.356', '384sentences.357', '384sentences.358', '384sentences.359', '384sentences.360', '384sentences.361', '384sentences.362', '384sentences.363', '384sentences.364', '384sentences.365', '384sentences.366', '384sentences.367', '384sentences.368', '384sentences.369', '384sentences.370', '384sentences.371', '384sentences.372', '384sentences.373', '384sentences.374', '384sentences.375', '384sentences.376', '384sentences.377', '384sentences.378', '384sentences.379', '384sentences.380', '384sentences.381', '384sentences.382', '384sentences.383']\n"
     ]
    }
   ],
   "source": [
    "#get unique ids, but do in this way to keep order instead of doing np.unique!\n",
    "all_ids = list(df['stimulus_id'])\n",
    "ids = []\n",
    "for elm in all_ids:\n",
    "    if elm not in ids:\n",
    "        ids.append(elm)\n",
    "\n",
    "print(len(ids))\n",
    "print(ids)"
   ]
  },
  {
   "cell_type": "code",
   "execution_count": 23,
   "metadata": {},
   "outputs": [
    {
     "name": "stdout",
     "output_type": "stream",
     "text": [
      "627\n"
     ]
    }
   ],
   "source": [
    "min_indices = []\n",
    "for elm in ids:\n",
    "    curr_df = df.loc[df['stimulus_id'] == elm]\n",
    "    min_indices.append(curr_df['pPMI_lag2'].idxmin())\n",
    "print(len(min_indices))"
   ]
  },
  {
   "cell_type": "code",
   "execution_count": 24,
   "metadata": {},
   "outputs": [
    {
     "name": "stderr",
     "output_type": "stream",
     "text": [
      "/om/user/ckauf/.conda/envs/brainmodeling/lib/python3.6/site-packages/ipykernel_launcher.py:1: FutureWarning: \n",
      ".ix is deprecated. Please use\n",
      ".loc for label based indexing or\n",
      ".iloc for positional indexing\n",
      "\n",
      "See the documentation here:\n",
      "http://pandas.pydata.org/pandas-docs/stable/user_guide/indexing.html#ix-indexer-is-deprecated\n",
      "  \"\"\"Entry point for launching an IPython kernel.\n"
     ]
    }
   ],
   "source": [
    "tenrand_lowPMI_df = df.ix[min_indices]"
   ]
  },
  {
   "cell_type": "code",
   "execution_count": 25,
   "metadata": {},
   "outputs": [
    {
     "data": {
      "text/html": [
       "<div>\n",
       "<style scoped>\n",
       "    .dataframe tbody tr th:only-of-type {\n",
       "        vertical-align: middle;\n",
       "    }\n",
       "\n",
       "    .dataframe tbody tr th {\n",
       "        vertical-align: top;\n",
       "    }\n",
       "\n",
       "    .dataframe thead th {\n",
       "        text-align: right;\n",
       "    }\n",
       "</style>\n",
       "<table border=\"1\" class=\"dataframe\">\n",
       "  <thead>\n",
       "    <tr style=\"text-align: right;\">\n",
       "      <th></th>\n",
       "      <th>stimulus_id</th>\n",
       "      <th>stimulus</th>\n",
       "      <th>pPMI_lag2</th>\n",
       "    </tr>\n",
       "  </thead>\n",
       "  <tbody>\n",
       "    <tr>\n",
       "      <th>0</th>\n",
       "      <td>243sentences.0</td>\n",
       "      <td>habitats conservation encourages the beekeepin...</td>\n",
       "      <td>19.945917</td>\n",
       "    </tr>\n",
       "    <tr>\n",
       "      <th>12</th>\n",
       "      <td>243sentences.1</td>\n",
       "      <td>to produce interest it plants every pollen is ...</td>\n",
       "      <td>27.958665</td>\n",
       "    </tr>\n",
       "    <tr>\n",
       "      <th>27</th>\n",
       "      <td>243sentences.2</td>\n",
       "      <td>that crops agriculture a of for form not way t...</td>\n",
       "      <td>55.247030</td>\n",
       "    </tr>\n",
       "    <tr>\n",
       "      <th>30</th>\n",
       "      <td>243sentences.3</td>\n",
       "      <td>kill also beekeepers the discourage of use cro...</td>\n",
       "      <td>46.634665</td>\n",
       "    </tr>\n",
       "    <tr>\n",
       "      <th>47</th>\n",
       "      <td>243sentences.4</td>\n",
       "      <td>product is go for artisanal but the to craft b...</td>\n",
       "      <td>29.738900</td>\n",
       "    </tr>\n",
       "    <tr>\n",
       "      <th>...</th>\n",
       "      <td>...</td>\n",
       "      <td>...</td>\n",
       "      <td>...</td>\n",
       "    </tr>\n",
       "    <tr>\n",
       "      <th>6221</th>\n",
       "      <td>384sentences.379</td>\n",
       "      <td>multiple to inside windows some have insulatio...</td>\n",
       "      <td>16.313816</td>\n",
       "    </tr>\n",
       "    <tr>\n",
       "      <th>6234</th>\n",
       "      <td>384sentences.380</td>\n",
       "      <td>female a a is human adult woman</td>\n",
       "      <td>24.829306</td>\n",
       "    </tr>\n",
       "    <tr>\n",
       "      <th>6246</th>\n",
       "      <td>384sentences.381</td>\n",
       "      <td>stereotypically caregiver as is woman a seen a</td>\n",
       "      <td>29.404718</td>\n",
       "    </tr>\n",
       "    <tr>\n",
       "      <th>6253</th>\n",
       "      <td>384sentences.382</td>\n",
       "      <td>a pregnant and children can become bear woman</td>\n",
       "      <td>23.906778</td>\n",
       "    </tr>\n",
       "    <tr>\n",
       "      <th>6266</th>\n",
       "      <td>384sentences.383</td>\n",
       "      <td>different a woman reproductive a has than orga...</td>\n",
       "      <td>25.274239</td>\n",
       "    </tr>\n",
       "  </tbody>\n",
       "</table>\n",
       "<p>627 rows × 3 columns</p>\n",
       "</div>"
      ],
      "text/plain": [
       "           stimulus_id                                           stimulus  \\\n",
       "0       243sentences.0  habitats conservation encourages the beekeepin...   \n",
       "12      243sentences.1  to produce interest it plants every pollen is ...   \n",
       "27      243sentences.2  that crops agriculture a of for form not way t...   \n",
       "30      243sentences.3  kill also beekeepers the discourage of use cro...   \n",
       "47      243sentences.4  product is go for artisanal but the to craft b...   \n",
       "...                ...                                                ...   \n",
       "6221  384sentences.379  multiple to inside windows some have insulatio...   \n",
       "6234  384sentences.380                    female a a is human adult woman   \n",
       "6246  384sentences.381     stereotypically caregiver as is woman a seen a   \n",
       "6253  384sentences.382      a pregnant and children can become bear woman   \n",
       "6266  384sentences.383  different a woman reproductive a has than orga...   \n",
       "\n",
       "      pPMI_lag2  \n",
       "0     19.945917  \n",
       "12    27.958665  \n",
       "27    55.247030  \n",
       "30    46.634665  \n",
       "47    29.738900  \n",
       "...         ...  \n",
       "6221  16.313816  \n",
       "6234  24.829306  \n",
       "6246  29.404718  \n",
       "6253  23.906778  \n",
       "6266  25.274239  \n",
       "\n",
       "[627 rows x 3 columns]"
      ]
     },
     "execution_count": 25,
     "metadata": {},
     "output_type": "execute_result"
    }
   ],
   "source": [
    "tenrand_lowPMI_df.reset_index()\n",
    "tenrand_lowPMI_df"
   ]
  },
  {
   "cell_type": "code",
   "execution_count": 26,
   "metadata": {},
   "outputs": [],
   "source": [
    "def flatten_array(liste):\n",
    "    liste_flatten = [item for sublist in liste for item in sublist]\n",
    "    return liste_flatten"
   ]
  },
  {
   "cell_type": "code",
   "execution_count": 27,
   "metadata": {},
   "outputs": [],
   "source": [
    "idx = 1\n",
    "new_col = flatten_array([['within_sent_random_lowPMI']*len(tenrand_lowPMI_df)])  # can be a list, a Series, an array or a scalar   \n",
    "tenrand_lowPMI_df.insert(loc=idx, column='condition', value=new_col)"
   ]
  },
  {
   "cell_type": "code",
   "execution_count": 28,
   "metadata": {},
   "outputs": [
    {
     "data": {
      "text/html": [
       "<div>\n",
       "<style scoped>\n",
       "    .dataframe tbody tr th:only-of-type {\n",
       "        vertical-align: middle;\n",
       "    }\n",
       "\n",
       "    .dataframe tbody tr th {\n",
       "        vertical-align: top;\n",
       "    }\n",
       "\n",
       "    .dataframe thead th {\n",
       "        text-align: right;\n",
       "    }\n",
       "</style>\n",
       "<table border=\"1\" class=\"dataframe\">\n",
       "  <thead>\n",
       "    <tr style=\"text-align: right;\">\n",
       "      <th></th>\n",
       "      <th>stimulus_id</th>\n",
       "      <th>condition</th>\n",
       "      <th>stimulus</th>\n",
       "      <th>pPMI_lag2</th>\n",
       "    </tr>\n",
       "  </thead>\n",
       "  <tbody>\n",
       "    <tr>\n",
       "      <th>0</th>\n",
       "      <td>243sentences.0</td>\n",
       "      <td>within_sent_random_lowPMI</td>\n",
       "      <td>habitats conservation encourages the beekeepin...</td>\n",
       "      <td>19.945917</td>\n",
       "    </tr>\n",
       "    <tr>\n",
       "      <th>12</th>\n",
       "      <td>243sentences.1</td>\n",
       "      <td>within_sent_random_lowPMI</td>\n",
       "      <td>to produce interest it plants every pollen is ...</td>\n",
       "      <td>27.958665</td>\n",
       "    </tr>\n",
       "    <tr>\n",
       "      <th>27</th>\n",
       "      <td>243sentences.2</td>\n",
       "      <td>within_sent_random_lowPMI</td>\n",
       "      <td>that crops agriculture a of for form not way t...</td>\n",
       "      <td>55.247030</td>\n",
       "    </tr>\n",
       "    <tr>\n",
       "      <th>30</th>\n",
       "      <td>243sentences.3</td>\n",
       "      <td>within_sent_random_lowPMI</td>\n",
       "      <td>kill also beekeepers the discourage of use cro...</td>\n",
       "      <td>46.634665</td>\n",
       "    </tr>\n",
       "    <tr>\n",
       "      <th>47</th>\n",
       "      <td>243sentences.4</td>\n",
       "      <td>within_sent_random_lowPMI</td>\n",
       "      <td>product is go for artisanal but the to craft b...</td>\n",
       "      <td>29.738900</td>\n",
       "    </tr>\n",
       "    <tr>\n",
       "      <th>...</th>\n",
       "      <td>...</td>\n",
       "      <td>...</td>\n",
       "      <td>...</td>\n",
       "      <td>...</td>\n",
       "    </tr>\n",
       "    <tr>\n",
       "      <th>6221</th>\n",
       "      <td>384sentences.379</td>\n",
       "      <td>within_sent_random_lowPMI</td>\n",
       "      <td>multiple to inside windows some have insulatio...</td>\n",
       "      <td>16.313816</td>\n",
       "    </tr>\n",
       "    <tr>\n",
       "      <th>6234</th>\n",
       "      <td>384sentences.380</td>\n",
       "      <td>within_sent_random_lowPMI</td>\n",
       "      <td>female a a is human adult woman</td>\n",
       "      <td>24.829306</td>\n",
       "    </tr>\n",
       "    <tr>\n",
       "      <th>6246</th>\n",
       "      <td>384sentences.381</td>\n",
       "      <td>within_sent_random_lowPMI</td>\n",
       "      <td>stereotypically caregiver as is woman a seen a</td>\n",
       "      <td>29.404718</td>\n",
       "    </tr>\n",
       "    <tr>\n",
       "      <th>6253</th>\n",
       "      <td>384sentences.382</td>\n",
       "      <td>within_sent_random_lowPMI</td>\n",
       "      <td>a pregnant and children can become bear woman</td>\n",
       "      <td>23.906778</td>\n",
       "    </tr>\n",
       "    <tr>\n",
       "      <th>6266</th>\n",
       "      <td>384sentences.383</td>\n",
       "      <td>within_sent_random_lowPMI</td>\n",
       "      <td>different a woman reproductive a has than orga...</td>\n",
       "      <td>25.274239</td>\n",
       "    </tr>\n",
       "  </tbody>\n",
       "</table>\n",
       "<p>627 rows × 4 columns</p>\n",
       "</div>"
      ],
      "text/plain": [
       "           stimulus_id                  condition  \\\n",
       "0       243sentences.0  within_sent_random_lowPMI   \n",
       "12      243sentences.1  within_sent_random_lowPMI   \n",
       "27      243sentences.2  within_sent_random_lowPMI   \n",
       "30      243sentences.3  within_sent_random_lowPMI   \n",
       "47      243sentences.4  within_sent_random_lowPMI   \n",
       "...                ...                        ...   \n",
       "6221  384sentences.379  within_sent_random_lowPMI   \n",
       "6234  384sentences.380  within_sent_random_lowPMI   \n",
       "6246  384sentences.381  within_sent_random_lowPMI   \n",
       "6253  384sentences.382  within_sent_random_lowPMI   \n",
       "6266  384sentences.383  within_sent_random_lowPMI   \n",
       "\n",
       "                                               stimulus  pPMI_lag2  \n",
       "0     habitats conservation encourages the beekeepin...  19.945917  \n",
       "12    to produce interest it plants every pollen is ...  27.958665  \n",
       "27    that crops agriculture a of for form not way t...  55.247030  \n",
       "30    kill also beekeepers the discourage of use cro...  46.634665  \n",
       "47    product is go for artisanal but the to craft b...  29.738900  \n",
       "...                                                 ...        ...  \n",
       "6221  multiple to inside windows some have insulatio...  16.313816  \n",
       "6234                    female a a is human adult woman  24.829306  \n",
       "6246     stereotypically caregiver as is woman a seen a  29.404718  \n",
       "6253      a pregnant and children can become bear woman  23.906778  \n",
       "6266  different a woman reproductive a has than orga...  25.274239  \n",
       "\n",
       "[627 rows x 4 columns]"
      ]
     },
     "execution_count": 28,
     "metadata": {},
     "output_type": "execute_result"
    }
   ],
   "source": [
    "tenrand_lowPMI_df"
   ]
  },
  {
   "cell_type": "code",
   "execution_count": 29,
   "metadata": {},
   "outputs": [],
   "source": [
    "tenrand_lowPMI_df.to_csv(\"3a_tenrand_lowPMI_pPMI_lag2.csv\", index=False)\n",
    "\n",
    "del tenrand_lowPMI_df['pPMI_lag2']"
   ]
  },
  {
   "cell_type": "markdown",
   "metadata": {},
   "source": [
    "# Create benchmark version"
   ]
  },
  {
   "cell_type": "code",
   "execution_count": null,
   "metadata": {},
   "outputs": [],
   "source": [
    "import re\n",
    "from pathlib import Path\n",
    "from os.path import abspath\n",
    "import os\n",
    "import numpy as np\n",
    "import random\n",
    "import pickle\n",
    "import csv\n",
    "import subprocess"
   ]
  },
  {
   "cell_type": "code",
   "execution_count": null,
   "metadata": {},
   "outputs": [],
   "source": [
    "print(os.getcwd())"
   ]
  },
  {
   "cell_type": "code",
   "execution_count": null,
   "metadata": {},
   "outputs": [],
   "source": [
    "importpath = abspath('../../..')\n",
    "os.chdir(importpath)\n",
    "print(os.getcwd())"
   ]
  },
  {
   "cell_type": "code",
   "execution_count": null,
   "metadata": {},
   "outputs": [],
   "source": [
    "from neural_nlp.benchmarks.neural import *\n",
    "import neural_nlp\n",
    "from neural_nlp.stimuli import StimulusSet\n",
    "import xarray as xr\n",
    "\n",
    "benchmark_pool = [\n",
    "    # primary benchmarks\n",
    "    ('Pereira2018-encoding', PereiraEncoding),\n",
    "]\n",
    "benchmark_pool = {identifier: LazyLoad(lambda identifier=identifier, ctr=ctr: ctr(identifier=identifier))\n",
    "                  for identifier, ctr in benchmark_pool}\n",
    "\n",
    "# fetch stimulus set\n",
    "benchmark = benchmark_pool['Pereira2018-encoding']\n",
    "stimuli_df = benchmark._target_assembly.attrs['stimulus_set']\n",
    "stimuli_df"
   ]
  },
  {
   "cell_type": "code",
   "execution_count": null,
   "metadata": {},
   "outputs": [],
   "source": [
    "stimuli_path = os.path.join(os.getcwd(),'ressources/stimuli_creation/add_random_lowPMI_condition')\n",
    "os.chdir(stimuli_path)\n",
    "print(os.getcwd())\n",
    "\n",
    "savedir = abspath('../../scrambled_stimuli_dfs')\n",
    "print(savedir)\n",
    "os.makedirs(savedir, exist_ok=True)"
   ]
  },
  {
   "cell_type": "code",
   "execution_count": 30,
   "metadata": {},
   "outputs": [],
   "source": [
    "stimuli_lowPMI_random = stimuli_df.copy()\n",
    "\n",
    "tenrand_lowPMI_sentences = tenrand_lowPMI_df[\"stimulus\"]\n",
    "stimuli_lowPMI_random[\"sentence\"] = tenrand_lowPMI_sentences\n",
    "\n",
    "fname = \"stimuli_lowPMI_random.pkl\"\n",
    "with open(fname, 'wb') as fout:\n",
    "    pickle.dump(stimuli_lowPMI_random, fout)"
   ]
  }
 ],
 "metadata": {
  "kernelspec": {
   "display_name": "Python 3",
   "language": "python",
   "name": "python3"
  },
  "language_info": {
   "codemirror_mode": {
    "name": "ipython",
    "version": 3
   },
   "file_extension": ".py",
   "mimetype": "text/x-python",
   "name": "python",
   "nbconvert_exporter": "python",
   "pygments_lexer": "ipython3",
   "version": "3.8.11"
  }
 },
 "nbformat": 4,
 "nbformat_minor": 2
}
