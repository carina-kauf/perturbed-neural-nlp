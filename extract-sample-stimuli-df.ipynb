{
 "cells": [
  {
   "cell_type": "code",
   "execution_count": 69,
   "id": "31e98ec7",
   "metadata": {},
   "outputs": [],
   "source": [
    "import pickle\n",
    "import pandas as pd\n",
    "import os"
   ]
  },
  {
   "cell_type": "code",
   "execution_count": 70,
   "id": "867ae5f7",
   "metadata": {},
   "outputs": [],
   "source": [
    "working_dir = \"/om2/user/ckauf/perturbed-neural-nlp/ressources/scrambled_stimuli_dfs/\""
   ]
  },
  {
   "cell_type": "code",
   "execution_count": 71,
   "id": "1da0eba0",
   "metadata": {},
   "outputs": [],
   "source": [
    "order = [\n",
    "'Original',\n",
    "'Scr1',\n",
    "'Scr3',\n",
    "'Scr5',\n",
    "'Scr7',\n",
    "'backward',\n",
    "'lowPMI',\n",
    "'random',\n",
    "'nouns',\n",
    "'nouns_delete50percent',\n",
    "'randomnouns',\n",
    "'nounsverbs',\n",
    "'nounsverbsadj',\n",
    "'contentwords',\n",
    "'functionwords',\n",
    "'sentenceshuffle-random',\n",
    "'sentenceshuffle-withinpassage',]"
   ]
  },
  {
   "cell_type": "code",
   "execution_count": 72,
   "id": "ae84a169",
   "metadata": {},
   "outputs": [],
   "source": [
    "scr_perturb = [\n",
    "\"original\",\n",
    "\"scrambled\",\n",
    "\"scrambled\",\n",
    "\"scrambled\",\n",
    "\"scrambled\",\n",
    "\"scrambled\",\n",
    "\"scrambled\",\n",
    "\"scrambled\",\n",
    "\"perturb\",\n",
    "\"perturb\",\n",
    "\"perturb\",\n",
    "\"perturb\",\n",
    "\"perturb\",\n",
    "\"perturb\",\n",
    "\"perturb\",\n",
    "\"perturb\",\n",
    "\"perturb\" \n",
    "]"
   ]
  },
  {
   "cell_type": "code",
   "execution_count": 73,
   "id": "d3205a47",
   "metadata": {},
   "outputs": [],
   "source": [
    "conditions = []\n",
    "sentences = []\n",
    "scr_perturb_final = []"
   ]
  },
  {
   "cell_type": "code",
   "execution_count": 74,
   "id": "3da1a8ac",
   "metadata": {},
   "outputs": [],
   "source": [
    "for ind, cond in enumerate(order):\n",
    "    for filename in os.listdir(working_dir):\n",
    "        if filename == f'stimuli_{cond}.pkl':\n",
    "\n",
    "            condition = \"_\".join(filename.split(\".pkl\")[0].split(\"_\")[1:])\n",
    "            if condition == \"random\":\n",
    "                condition = \"random-wl\"\n",
    "            conditions += [condition] * 4\n",
    "            scr_perturb_final += [scr_perturb[ind]] * 4\n",
    "            \n",
    "            with open(os.path.join(working_dir,filename), 'rb') as f:\n",
    "                df = pickle.load(f)\n",
    "            sentences += list(df[\"sentence\"])[:4]"
   ]
  },
  {
   "cell_type": "code",
   "execution_count": 75,
   "id": "d4756069",
   "metadata": {},
   "outputs": [
    {
     "name": "stdout",
     "output_type": "stream",
     "text": [
      "68 68 68\n"
     ]
    }
   ],
   "source": [
    "print(len(conditions), len(sentences), len(scr_perturb_final))"
   ]
  },
  {
   "cell_type": "code",
   "execution_count": 76,
   "id": "f1b8ff64",
   "metadata": {},
   "outputs": [],
   "source": [
    "sample_stim_df = pd.DataFrame({\n",
    "    'condition' : conditions,\n",
    "    'sample_stimuli': sentences,\n",
    "    'perturbation': scr_perturb_final\n",
    "})"
   ]
  },
  {
   "cell_type": "code",
   "execution_count": 77,
   "id": "568d3af0",
   "metadata": {},
   "outputs": [],
   "source": [
    "sample_stim_df.to_csv(\"sample_stimuli_per_condition2.csv\",index=False)"
   ]
  },
  {
   "cell_type": "code",
   "execution_count": null,
   "id": "8ecef3ff",
   "metadata": {},
   "outputs": [],
   "source": []
  }
 ],
 "metadata": {
  "kernelspec": {
   "display_name": "Python 3",
   "language": "python",
   "name": "python3"
  },
  "language_info": {
   "codemirror_mode": {
    "name": "ipython",
    "version": 3
   },
   "file_extension": ".py",
   "mimetype": "text/x-python",
   "name": "python",
   "nbconvert_exporter": "python",
   "pygments_lexer": "ipython3",
   "version": "3.6.2"
  }
 },
 "nbformat": 4,
 "nbformat_minor": 5
}
