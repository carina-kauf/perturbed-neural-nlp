{
 "cells": [
  {
   "cell_type": "code",
   "execution_count": 1,
   "id": "6c6385f8",
   "metadata": {},
   "outputs": [],
   "source": [
    "import pickle\n",
    "import pandas as pd\n",
    "import os"
   ]
  },
  {
   "cell_type": "code",
   "execution_count": 2,
   "id": "42b76549",
   "metadata": {},
   "outputs": [],
   "source": [
    "save = True"
   ]
  },
  {
   "cell_type": "code",
   "execution_count": 3,
   "id": "aff95a87",
   "metadata": {},
   "outputs": [],
   "source": [
    "working_dir = \"/om2/user/ckauf/perturbed-neural-nlp/ressources/scrambled_stimuli_dfs/\""
   ]
  },
  {
   "cell_type": "code",
   "execution_count": 4,
   "id": "45abe4e8",
   "metadata": {},
   "outputs": [],
   "source": [
    "conditions = [\n",
    "('Original', 'original'),\n",
    "    #\n",
    "('Scr1', 'scrambled'),\n",
    "('Scr3', 'scrambled'),\n",
    "('Scr5', 'scrambled'),\n",
    "('Scr7', 'scrambled'),\n",
    "('backward', 'scrambled'),\n",
    "('lowPMI', 'scrambled'),\n",
    "('lowPMI_random', 'scrambled'),\n",
    "('random', 'scrambled'),\n",
    "('random_poscontrolled', 'scrambled'),\n",
    "    #\n",
    "('nouns', 'perturbed'),\n",
    "('randomnouns', 'perturbed'),\n",
    "('nounsverbs', 'perturbed'),\n",
    "('nounsverbsadj', 'perturbed'),\n",
    "('contentwords', 'perturbed'),\n",
    "('functionwords', 'perturbed'),\n",
    "    #\n",
    "('sentenceshuffle-random', 'perturbed'),\n",
    "('sentenceshuffle-topic-criteria', 'perturbed'),\n",
    "('sentenceshuffle-topic-length-criteria', 'perturbed'),\n",
    "('sentenceshuffle-topic-length-criteria', 'perturbed'),\n",
    "('sentenceshuffle-withinpassage', 'perturbed'),\n",
    "('sentenceshuffle-withintopic', 'perturbed')\n",
    "]"
   ]
  },
  {
   "cell_type": "code",
   "execution_count": 5,
   "id": "1ce6fad7",
   "metadata": {},
   "outputs": [
    {
     "name": "stdout",
     "output_type": "stream",
     "text": [
      "('Original', 'original')\n",
      "('Scr1', 'scrambled')\n",
      "('Scr3', 'scrambled')\n",
      "('Scr5', 'scrambled')\n",
      "('Scr7', 'scrambled')\n",
      "('backward', 'scrambled')\n",
      "('lowPMI', 'scrambled')\n",
      "('lowPMI_random', 'scrambled')\n",
      "('random', 'scrambled')\n",
      "('random_poscontrolled', 'scrambled')\n",
      "('nouns', 'perturbed')\n",
      "('randomnouns', 'perturbed')\n",
      "('nounsverbs', 'perturbed')\n",
      "('nounsverbsadj', 'perturbed')\n",
      "('contentwords', 'perturbed')\n",
      "('functionwords', 'perturbed')\n",
      "('sentenceshuffle-random', 'perturbed')\n",
      "('sentenceshuffle-topic-criteria', 'perturbed')\n",
      "('sentenceshuffle-topic-length-criteria', 'perturbed')\n",
      "('sentenceshuffle-topic-length-criteria', 'perturbed')\n",
      "('sentenceshuffle-withinpassage', 'perturbed')\n",
      "('sentenceshuffle-withintopic', 'perturbed')\n"
     ]
    }
   ],
   "source": [
    "for elm in conditions:\n",
    "    print(elm)"
   ]
  },
  {
   "cell_type": "code",
   "execution_count": 6,
   "id": "e8f5d24e",
   "metadata": {},
   "outputs": [],
   "source": [
    "conds = []\n",
    "sentences = []\n",
    "scr_perturb_final = []"
   ]
  },
  {
   "cell_type": "code",
   "execution_count": 7,
   "id": "5aa16cea",
   "metadata": {},
   "outputs": [
    {
     "name": "stdout",
     "output_type": "stream",
     "text": [
      "Original\n",
      "Loading lookup from /om2/user/ckauf/anaconda/envs/perturbedenv/lib/python3.6/site-packages/brainio_collection/lookup.csv\n",
      "/rdma/vast-rdma/vast/cpl/ckauf/perturbed-neural-nlp/neural_nlp/../ressources/stimuli\n",
      "\n",
      "\n",
      " We're running in the NEW version of the implementations.py script.\n",
      "\n",
      "\n",
      "Scr1\n",
      "Scr3\n",
      "Scr5\n",
      "Scr7\n",
      "backward\n",
      "lowPMI\n",
      "lowPMI_random\n",
      "random\n",
      "random_poscontrolled\n",
      "nouns\n",
      "randomnouns\n",
      "nounsverbs\n",
      "nounsverbsadj\n",
      "contentwords\n",
      "functionwords\n",
      "sentenceshuffle-random\n",
      "sentenceshuffle-topic-criteria\n",
      "sentenceshuffle-topic-length-criteria\n",
      "sentenceshuffle-topic-length-criteria\n",
      "sentenceshuffle-withinpassage\n",
      "sentenceshuffle-withintopic\n"
     ]
    },
    {
     "name": "stderr",
     "output_type": "stream",
     "text": [
      "/om2/user/ckauf/anaconda/envs/perturbedenv/lib/python3.6/site-packages/brainio_base/assemblies.py:224: FutureWarning: The inplace argument has been deprecated and will be removed in a future version of xarray.\n",
      "  xr_data.set_index(append=True, inplace=True, **coords_d)\n"
     ]
    }
   ],
   "source": [
    "for ind, (cond, scr_perturb) in enumerate(conditions):\n",
    "    print(cond)\n",
    "    for filename in os.listdir(working_dir):\n",
    "        if filename == f'stimuli_{cond}.pkl':\n",
    "            condition = \"_\".join(filename.split(\".pkl\")[0].split(\"_\")[1:])\n",
    "            if condition == \"random\":\n",
    "                condition = \"random-wl\"\n",
    "            if condition == \"random_poscontrolled\":\n",
    "                condition = \"random-wl_poscontrolled\"\n",
    "            conds += [condition] * 4\n",
    "            scr_perturb_final += [scr_perturb] * 4\n",
    "            \n",
    "            with open(os.path.join(working_dir,filename), 'rb') as f:\n",
    "                df = pickle.load(f)\n",
    "            sentences += list(df[\"sentence\"])[:4]"
   ]
  },
  {
   "cell_type": "code",
   "execution_count": 8,
   "id": "94c85b8a",
   "metadata": {},
   "outputs": [
    {
     "name": "stdout",
     "output_type": "stream",
     "text": [
      "88 88 88\n"
     ]
    }
   ],
   "source": [
    "print(len(conds), len(sentences), len(scr_perturb_final))"
   ]
  },
  {
   "cell_type": "code",
   "execution_count": 9,
   "id": "bd31bb3e",
   "metadata": {},
   "outputs": [],
   "source": [
    "sample_stim_df = pd.DataFrame({\n",
    "    'condition' : conds,\n",
    "    'sample_stimuli': sentences,\n",
    "    'perturbation': scr_perturb_final\n",
    "})"
   ]
  },
  {
   "cell_type": "code",
   "execution_count": 10,
   "id": "9e16ecf8",
   "metadata": {},
   "outputs": [
    {
     "data": {
      "text/html": [
       "<div>\n",
       "<style scoped>\n",
       "    .dataframe tbody tr th:only-of-type {\n",
       "        vertical-align: middle;\n",
       "    }\n",
       "\n",
       "    .dataframe tbody tr th {\n",
       "        vertical-align: top;\n",
       "    }\n",
       "\n",
       "    .dataframe thead th {\n",
       "        text-align: right;\n",
       "    }\n",
       "</style>\n",
       "<table border=\"1\" class=\"dataframe\">\n",
       "  <thead>\n",
       "    <tr style=\"text-align: right;\">\n",
       "      <th></th>\n",
       "      <th>condition</th>\n",
       "      <th>sample_stimuli</th>\n",
       "      <th>perturbation</th>\n",
       "    </tr>\n",
       "  </thead>\n",
       "  <tbody>\n",
       "    <tr>\n",
       "      <th>0</th>\n",
       "      <td>Original</td>\n",
       "      <td>beekeeping encourages the conservation of loca...</td>\n",
       "      <td>original</td>\n",
       "    </tr>\n",
       "    <tr>\n",
       "      <th>1</th>\n",
       "      <td>Original</td>\n",
       "      <td>it is in every beekeeper's interest to conserv...</td>\n",
       "      <td>original</td>\n",
       "    </tr>\n",
       "    <tr>\n",
       "      <th>2</th>\n",
       "      <td>Original</td>\n",
       "      <td>as a passive form of agriculture it does not r...</td>\n",
       "      <td>original</td>\n",
       "    </tr>\n",
       "    <tr>\n",
       "      <th>3</th>\n",
       "      <td>Original</td>\n",
       "      <td>beekeepers also discourage the use of pesticid...</td>\n",
       "      <td>original</td>\n",
       "    </tr>\n",
       "    <tr>\n",
       "      <th>4</th>\n",
       "      <td>Scr1</td>\n",
       "      <td>beekeeping encourages the conservation of habi...</td>\n",
       "      <td>scrambled</td>\n",
       "    </tr>\n",
       "    <tr>\n",
       "      <th>...</th>\n",
       "      <td>...</td>\n",
       "      <td>...</td>\n",
       "      <td>...</td>\n",
       "    </tr>\n",
       "    <tr>\n",
       "      <th>83</th>\n",
       "      <td>sentenceshuffle-withinpassage</td>\n",
       "      <td>as a passive form of agriculture it does not r...</td>\n",
       "      <td>perturbed</td>\n",
       "    </tr>\n",
       "    <tr>\n",
       "      <th>84</th>\n",
       "      <td>sentenceshuffle-withintopic</td>\n",
       "      <td>artisanal honey-making emphasizes quality and ...</td>\n",
       "      <td>perturbed</td>\n",
       "    </tr>\n",
       "    <tr>\n",
       "      <th>85</th>\n",
       "      <td>sentenceshuffle-withintopic</td>\n",
       "      <td>beekeeping encourages the conservation of loca...</td>\n",
       "      <td>perturbed</td>\n",
       "    </tr>\n",
       "    <tr>\n",
       "      <th>86</th>\n",
       "      <td>sentenceshuffle-withintopic</td>\n",
       "      <td>the beekeeper checks honey stores pollen suppl...</td>\n",
       "      <td>perturbed</td>\n",
       "    </tr>\n",
       "    <tr>\n",
       "      <th>87</th>\n",
       "      <td>sentenceshuffle-withintopic</td>\n",
       "      <td>bees crawl across his bare arms and hands but ...</td>\n",
       "      <td>perturbed</td>\n",
       "    </tr>\n",
       "  </tbody>\n",
       "</table>\n",
       "<p>88 rows × 3 columns</p>\n",
       "</div>"
      ],
      "text/plain": [
       "                        condition  \\\n",
       "0                        Original   \n",
       "1                        Original   \n",
       "2                        Original   \n",
       "3                        Original   \n",
       "4                            Scr1   \n",
       "..                            ...   \n",
       "83  sentenceshuffle-withinpassage   \n",
       "84    sentenceshuffle-withintopic   \n",
       "85    sentenceshuffle-withintopic   \n",
       "86    sentenceshuffle-withintopic   \n",
       "87    sentenceshuffle-withintopic   \n",
       "\n",
       "                                       sample_stimuli perturbation  \n",
       "0   beekeeping encourages the conservation of loca...     original  \n",
       "1   it is in every beekeeper's interest to conserv...     original  \n",
       "2   as a passive form of agriculture it does not r...     original  \n",
       "3   beekeepers also discourage the use of pesticid...     original  \n",
       "4   beekeeping encourages the conservation of habi...    scrambled  \n",
       "..                                                ...          ...  \n",
       "83  as a passive form of agriculture it does not r...    perturbed  \n",
       "84  artisanal honey-making emphasizes quality and ...    perturbed  \n",
       "85  beekeeping encourages the conservation of loca...    perturbed  \n",
       "86  the beekeeper checks honey stores pollen suppl...    perturbed  \n",
       "87  bees crawl across his bare arms and hands but ...    perturbed  \n",
       "\n",
       "[88 rows x 3 columns]"
      ]
     },
     "execution_count": 10,
     "metadata": {},
     "output_type": "execute_result"
    }
   ],
   "source": [
    "sample_stim_df"
   ]
  },
  {
   "cell_type": "code",
   "execution_count": 11,
   "id": "f1c890b8",
   "metadata": {},
   "outputs": [],
   "source": [
    "if save:\n",
    "    sample_stim_df.to_csv(\"sample_stimuli_per_condition.csv\",index=False)"
   ]
  },
  {
   "cell_type": "code",
   "execution_count": null,
   "id": "70c81fe8",
   "metadata": {},
   "outputs": [],
   "source": []
  }
 ],
 "metadata": {
  "kernelspec": {
   "display_name": "Python 3",
   "language": "python",
   "name": "python3"
  },
  "language_info": {
   "codemirror_mode": {
    "name": "ipython",
    "version": 3
   },
   "file_extension": ".py",
   "mimetype": "text/x-python",
   "name": "python",
   "nbconvert_exporter": "python",
   "pygments_lexer": "ipython3",
   "version": "3.6.2"
  }
 },
 "nbformat": 4,
 "nbformat_minor": 5
}
