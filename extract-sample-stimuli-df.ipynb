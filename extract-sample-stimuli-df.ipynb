{
 "cells": [
  {
   "cell_type": "code",
   "execution_count": 1,
   "id": "7866a046",
   "metadata": {},
   "outputs": [],
   "source": [
    "import pickle\n",
    "import pandas as pd\n",
    "import os"
   ]
  },
  {
   "cell_type": "code",
   "execution_count": 2,
   "id": "6ce0d48a",
   "metadata": {},
   "outputs": [],
   "source": [
    "working_dir = \"/om2/user/ckauf/perturbed-neural-nlp/ressources/scrambled_stimuli_dfs/\""
   ]
  },
  {
   "cell_type": "code",
   "execution_count": 3,
   "id": "b9602f6f",
   "metadata": {},
   "outputs": [
    {
     "ename": "SyntaxError",
     "evalue": "invalid syntax (<ipython-input-3-5e134b3189b6>, line 2)",
     "output_type": "error",
     "traceback": [
      "\u001b[0;36m  File \u001b[0;32m\"<ipython-input-3-5e134b3189b6>\"\u001b[0;36m, line \u001b[0;32m2\u001b[0m\n\u001b[0;31m    'Original', \"original\"),\u001b[0m\n\u001b[0m                          ^\u001b[0m\n\u001b[0;31mSyntaxError\u001b[0m\u001b[0;31m:\u001b[0m invalid syntax\n"
     ]
    }
   ],
   "source": [
    "order = [\n",
    "'Original', \"original\"),\n",
    "'Scr1',\n",
    "'Scr3',\n",
    "'Scr5',\n",
    "'Scr7',\n",
    "'backward',\n",
    "'lowPMI',\n",
    "'lowPMI_random',\n",
    "'random',\n",
    "'nouns',\n",
    "'randomnouns',\n",
    "'nounsverbs',\n",
    "'nounsverbsadj',\n",
    "'contentwords',\n",
    "'functionwords',\n",
    "'sentenceshuffle-random',\n",
    "'sentenceshuffle-withinpassage',]"
   ]
  },
  {
   "cell_type": "code",
   "execution_count": null,
   "id": "2f86c606",
   "metadata": {},
   "outputs": [],
   "source": [
    "scr_perturb = [\n",
    "\"original\",\n",
    "\"scrambled\",\n",
    "\"scrambled\",\n",
    "\"scrambled\",\n",
    "\"scrambled\",\n",
    "\"scrambled\",\n",
    "\"scrambled\",\n",
    "\"scrambled\",\n",
    "\"scrambled\",\n",
    "\"perturb\",\n",
    "\"perturb\",\n",
    "\"perturb\",\n",
    "\"perturb\",\n",
    "\"perturb\",\n",
    "\"perturb\",\n",
    "\"perturb\",\n",
    "\"perturb\" \n",
    "]"
   ]
  },
  {
   "cell_type": "code",
   "execution_count": null,
   "id": "32e68324",
   "metadata": {},
   "outputs": [],
   "source": [
    "for elm in list(zip(order, scr_perturb)):\n",
    "    print(elm)"
   ]
  },
  {
   "cell_type": "code",
   "execution_count": null,
   "id": "8d76291f",
   "metadata": {},
   "outputs": [],
   "source": [
    "conditions = []\n",
    "sentences = []\n",
    "scr_perturb_final = []"
   ]
  },
  {
   "cell_type": "code",
   "execution_count": null,
   "id": "7ca4580b",
   "metadata": {},
   "outputs": [],
   "source": [
    "for ind, cond in enumerate(order):\n",
    "    for filename in os.listdir(working_dir):\n",
    "        if filename == f'stimuli_{cond}.pkl':\n",
    "\n",
    "            condition = \"_\".join(filename.split(\".pkl\")[0].split(\"_\")[1:])\n",
    "            if condition == \"random\":\n",
    "                condition = \"random-wl\"\n",
    "            conditions += [condition] * 4\n",
    "            scr_perturb_final += [scr_perturb[ind]] * 4\n",
    "            \n",
    "            with open(os.path.join(working_dir,filename), 'rb') as f:\n",
    "                df = pickle.load(f)\n",
    "            sentences += list(df[\"sentence\"])[:4]"
   ]
  },
  {
   "cell_type": "code",
   "execution_count": null,
   "id": "b2b26b6e",
   "metadata": {},
   "outputs": [],
   "source": [
    "print(len(conditions), len(sentences), len(scr_perturb_final))"
   ]
  },
  {
   "cell_type": "code",
   "execution_count": null,
   "id": "461c98c6",
   "metadata": {},
   "outputs": [],
   "source": [
    "sample_stim_df = pd.DataFrame({\n",
    "    'condition' : conditions,\n",
    "    'sample_stimuli': sentences,\n",
    "    'perturbation': scr_perturb_final\n",
    "})"
   ]
  },
  {
   "cell_type": "code",
   "execution_count": null,
   "id": "bb8b35ed",
   "metadata": {},
   "outputs": [],
   "source": [
    "sample_stim_df.to_csv(\"sample_stimuli_per_condition.csv\",index=False)"
   ]
  },
  {
   "cell_type": "code",
   "execution_count": null,
   "id": "54145d10",
   "metadata": {},
   "outputs": [],
   "source": []
  }
 ],
 "metadata": {
  "kernelspec": {
   "display_name": "Python 3",
   "language": "python",
   "name": "python3"
  },
  "language_info": {
   "codemirror_mode": {
    "name": "ipython",
    "version": 3
   },
   "file_extension": ".py",
   "mimetype": "text/x-python",
   "name": "python",
   "nbconvert_exporter": "python",
   "pygments_lexer": "ipython3",
   "version": "3.6.2"
  }
 },
 "nbformat": 4,
 "nbformat_minor": 5
}
