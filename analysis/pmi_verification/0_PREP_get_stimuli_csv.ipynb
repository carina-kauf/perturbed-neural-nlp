{
 "cells": [
  {
   "cell_type": "code",
   "execution_count": 1,
   "id": "2405a7b8",
   "metadata": {},
   "outputs": [],
   "source": [
    "import re\n",
    "from pathlib import Path\n",
    "from os.path import abspath\n",
    "import os\n",
    "import numpy as np\n",
    "import pandas as pd\n",
    "import random\n",
    "import pickle\n",
    "import csv\n",
    "import subprocess"
   ]
  },
  {
   "cell_type": "code",
   "execution_count": 2,
   "id": "7a4357b4",
   "metadata": {},
   "outputs": [
    {
     "name": "stdout",
     "output_type": "stream",
     "text": [
      "/rdma/vast-rdma/vast/cpl/ckauf/perturbed-neural-nlp/analysis/pmi_verification\n"
     ]
    }
   ],
   "source": [
    "print(os.getcwd())"
   ]
  },
  {
   "cell_type": "code",
   "execution_count": 3,
   "id": "c4b74e40",
   "metadata": {},
   "outputs": [
    {
     "name": "stdout",
     "output_type": "stream",
     "text": [
      "/rdma/vast-rdma/vast/cpl/ckauf/perturbed-neural-nlp/analysis/pmi_verification/stimuli_csvs\n"
     ]
    }
   ],
   "source": [
    "stimuli_path = abspath('../../ressources/scrambled_stimuli_dfs')\n",
    "print(stimuli_path)"
   ]
  },
  {
   "cell_type": "code",
   "execution_count": 5,
   "id": "f94cfda5",
   "metadata": {},
   "outputs": [
    {
     "data": {
      "text/html": [
       "<div>\n",
       "<style scoped>\n",
       "    .dataframe tbody tr th:only-of-type {\n",
       "        vertical-align: middle;\n",
       "    }\n",
       "\n",
       "    .dataframe tbody tr th {\n",
       "        vertical-align: top;\n",
       "    }\n",
       "\n",
       "    .dataframe thead th {\n",
       "        text-align: right;\n",
       "    }\n",
       "</style>\n",
       "<table border=\"1\" class=\"dataframe\">\n",
       "  <thead>\n",
       "    <tr style=\"text-align: right;\">\n",
       "      <th></th>\n",
       "      <th>0</th>\n",
       "      <th>1</th>\n",
       "      <th>2</th>\n",
       "      <th>3</th>\n",
       "    </tr>\n",
       "  </thead>\n",
       "  <tbody>\n",
       "    <tr>\n",
       "      <th>0</th>\n",
       "      <td>243sentences.0</td>\n",
       "      <td>Original</td>\n",
       "      <td>beekeeping encourages the conservation of loca...</td>\n",
       "      <td>1.084573</td>\n",
       "    </tr>\n",
       "    <tr>\n",
       "      <th>1</th>\n",
       "      <td>243sentences.1</td>\n",
       "      <td>Original</td>\n",
       "      <td>it is in every beekeeper's interest to conserv...</td>\n",
       "      <td>1.196020</td>\n",
       "    </tr>\n",
       "    <tr>\n",
       "      <th>2</th>\n",
       "      <td>243sentences.2</td>\n",
       "      <td>Original</td>\n",
       "      <td>as a passive form of agriculture it does not r...</td>\n",
       "      <td>1.417875</td>\n",
       "    </tr>\n",
       "    <tr>\n",
       "      <th>3</th>\n",
       "      <td>243sentences.3</td>\n",
       "      <td>Original</td>\n",
       "      <td>beekeepers also discourage the use of pesticid...</td>\n",
       "      <td>1.256986</td>\n",
       "    </tr>\n",
       "    <tr>\n",
       "      <th>4</th>\n",
       "      <td>243sentences.4</td>\n",
       "      <td>Original</td>\n",
       "      <td>artisanal beekeepers go to extremes for their ...</td>\n",
       "      <td>1.073480</td>\n",
       "    </tr>\n",
       "    <tr>\n",
       "      <th>...</th>\n",
       "      <td>...</td>\n",
       "      <td>...</td>\n",
       "      <td>...</td>\n",
       "      <td>...</td>\n",
       "    </tr>\n",
       "    <tr>\n",
       "      <th>622</th>\n",
       "      <td>384sentences.379</td>\n",
       "      <td>Original</td>\n",
       "      <td>some windows have multiple panes to increase i...</td>\n",
       "      <td>1.195439</td>\n",
       "    </tr>\n",
       "    <tr>\n",
       "      <th>623</th>\n",
       "      <td>384sentences.380</td>\n",
       "      <td>Original</td>\n",
       "      <td>a woman is a female human adult.</td>\n",
       "      <td>1.100778</td>\n",
       "    </tr>\n",
       "    <tr>\n",
       "      <th>624</th>\n",
       "      <td>384sentences.381</td>\n",
       "      <td>Original</td>\n",
       "      <td>a woman is stereotypically seen as a caregiver.</td>\n",
       "      <td>1.387173</td>\n",
       "    </tr>\n",
       "    <tr>\n",
       "      <th>625</th>\n",
       "      <td>384sentences.382</td>\n",
       "      <td>Original</td>\n",
       "      <td>a woman can become pregnant and bear children.</td>\n",
       "      <td>1.362809</td>\n",
       "    </tr>\n",
       "    <tr>\n",
       "      <th>626</th>\n",
       "      <td>384sentences.383</td>\n",
       "      <td>Original</td>\n",
       "      <td>a woman has different reproductive organs than...</td>\n",
       "      <td>1.324627</td>\n",
       "    </tr>\n",
       "  </tbody>\n",
       "</table>\n",
       "<p>627 rows × 4 columns</p>\n",
       "</div>"
      ],
      "text/plain": [
       "                    0         1  \\\n",
       "0      243sentences.0  Original   \n",
       "1      243sentences.1  Original   \n",
       "2      243sentences.2  Original   \n",
       "3      243sentences.3  Original   \n",
       "4      243sentences.4  Original   \n",
       "..                ...       ...   \n",
       "622  384sentences.379  Original   \n",
       "623  384sentences.380  Original   \n",
       "624  384sentences.381  Original   \n",
       "625  384sentences.382  Original   \n",
       "626  384sentences.383  Original   \n",
       "\n",
       "                                                     2         3  \n",
       "0    beekeeping encourages the conservation of loca...  1.084573  \n",
       "1    it is in every beekeeper's interest to conserv...  1.196020  \n",
       "2    as a passive form of agriculture it does not r...  1.417875  \n",
       "3    beekeepers also discourage the use of pesticid...  1.256986  \n",
       "4    artisanal beekeepers go to extremes for their ...  1.073480  \n",
       "..                                                 ...       ...  \n",
       "622  some windows have multiple panes to increase i...  1.195439  \n",
       "623                   a woman is a female human adult.  1.100778  \n",
       "624    a woman is stereotypically seen as a caregiver.  1.387173  \n",
       "625     a woman can become pregnant and bear children.  1.362809  \n",
       "626  a woman has different reproductive organs than...  1.324627  \n",
       "\n",
       "[627 rows x 4 columns]"
      ]
     },
     "execution_count": 5,
     "metadata": {},
     "output_type": "execute_result"
    }
   ],
   "source": [
    "fname = \"stimuli_Original.pkl\"\n",
    "with open(os.path.join(stimuli_path,fname), 'rb') as f:\n",
    "    df = pickle.load(f)\n",
    "df"
   ]
  },
  {
   "cell_type": "code",
   "execution_count": 80,
   "id": "1d4ea0e3",
   "metadata": {},
   "outputs": [],
   "source": [
    "# Mollica calculate PMI input style is:\n",
    "# * 1. column is stimulus_id\n",
    "# * 2. column is condition\n",
    "# * 3. column is sentence"
   ]
  },
  {
   "cell_type": "code",
   "execution_count": 81,
   "id": "07b57cf7",
   "metadata": {},
   "outputs": [],
   "source": [
    "conditions = ['Original', 'Scr1', 'Scr3', 'Scr5', 'Scr7', 'lowPMI', 'lowPMI_random', 'backward', 'random', 'random_poscontrolled', 'random_withreplacement']"
   ]
  },
  {
   "cell_type": "code",
   "execution_count": 82,
   "id": "1bb8b469",
   "metadata": {},
   "outputs": [
    {
     "name": "stdout",
     "output_type": "stream",
     "text": [
      "Original\n",
      "Scr1\n",
      "Scr3\n",
      "Scr5\n",
      "Scr7\n",
      "lowPMI\n",
      "lowPMI_random\n",
      "backward\n",
      "random\n",
      "random_poscontrolled\n",
      "random_withreplacement\n"
     ]
    }
   ],
   "source": [
    "frames = []\n",
    "\n",
    "savedir = abspath('./stimuli_csvs')\n",
    "os.makedirs(savedir, exist_ok=True)\n",
    "\n",
    "for cond in conditions:\n",
    "    for filename in os.listdir(stimuli_path):\n",
    "        if not \".pkl\" in filename:\n",
    "            continue\n",
    "        if filename.split(\".\")[0].split(\"stimuli_\")[1] == cond:\n",
    "            print(cond)\n",
    "            with open(os.path.join(stimuli_path,filename), 'rb') as f:\n",
    "                df = pickle.load(f)\n",
    "            ids = list(df[\"stimulus_id\"])\n",
    "            conds = list([cond]*len(ids))\n",
    "            sentences = list(df[\"sentence\"])\n",
    "            #print(ids[:5], conds[:5], sentences[:5])\n",
    "            #print(\"*\"*30)\n",
    "            curr_df = pd.DataFrame({\n",
    "                \"id\" : ids,\n",
    "                \"condition\" : conds,\n",
    "                \"sentence\" : sentences\n",
    "            })\n",
    "            \n",
    "    curr_df.to_csv(f\"{savedir}/stimuli_{cond}.csv\", header=None, index=False)\n",
    "    frames.append(curr_df)"
   ]
  },
  {
   "cell_type": "code",
   "execution_count": 83,
   "id": "7a4911c2",
   "metadata": {},
   "outputs": [
    {
     "data": {
      "text/html": [
       "<div>\n",
       "<style scoped>\n",
       "    .dataframe tbody tr th:only-of-type {\n",
       "        vertical-align: middle;\n",
       "    }\n",
       "\n",
       "    .dataframe tbody tr th {\n",
       "        vertical-align: top;\n",
       "    }\n",
       "\n",
       "    .dataframe thead th {\n",
       "        text-align: right;\n",
       "    }\n",
       "</style>\n",
       "<table border=\"1\" class=\"dataframe\">\n",
       "  <thead>\n",
       "    <tr style=\"text-align: right;\">\n",
       "      <th></th>\n",
       "      <th>id</th>\n",
       "      <th>condition</th>\n",
       "      <th>sentence</th>\n",
       "    </tr>\n",
       "  </thead>\n",
       "  <tbody>\n",
       "    <tr>\n",
       "      <th>0</th>\n",
       "      <td>243sentences.0</td>\n",
       "      <td>Original</td>\n",
       "      <td>beekeeping encourages the conservation of loca...</td>\n",
       "    </tr>\n",
       "    <tr>\n",
       "      <th>1</th>\n",
       "      <td>243sentences.1</td>\n",
       "      <td>Original</td>\n",
       "      <td>it is in every beekeeper's interest to conserv...</td>\n",
       "    </tr>\n",
       "    <tr>\n",
       "      <th>2</th>\n",
       "      <td>243sentences.2</td>\n",
       "      <td>Original</td>\n",
       "      <td>as a passive form of agriculture it does not r...</td>\n",
       "    </tr>\n",
       "    <tr>\n",
       "      <th>3</th>\n",
       "      <td>243sentences.3</td>\n",
       "      <td>Original</td>\n",
       "      <td>beekeepers also discourage the use of pesticid...</td>\n",
       "    </tr>\n",
       "    <tr>\n",
       "      <th>4</th>\n",
       "      <td>243sentences.4</td>\n",
       "      <td>Original</td>\n",
       "      <td>artisanal beekeepers go to extremes for their ...</td>\n",
       "    </tr>\n",
       "    <tr>\n",
       "      <th>...</th>\n",
       "      <td>...</td>\n",
       "      <td>...</td>\n",
       "      <td>...</td>\n",
       "    </tr>\n",
       "    <tr>\n",
       "      <th>622</th>\n",
       "      <td>384sentences.379</td>\n",
       "      <td>random_withreplacement</td>\n",
       "      <td>and the depending allow watching throwing ofte...</td>\n",
       "    </tr>\n",
       "    <tr>\n",
       "      <th>623</th>\n",
       "      <td>384sentences.380</td>\n",
       "      <td>random_withreplacement</td>\n",
       "      <td>used things that connected and a to.</td>\n",
       "    </tr>\n",
       "    <tr>\n",
       "      <th>624</th>\n",
       "      <td>384sentences.381</td>\n",
       "      <td>random_withreplacement</td>\n",
       "      <td>joined the the drunk the or have due.</td>\n",
       "    </tr>\n",
       "    <tr>\n",
       "      <th>625</th>\n",
       "      <td>384sentences.382</td>\n",
       "      <td>random_withreplacement</td>\n",
       "      <td>controlled barrier butterfat on articles their...</td>\n",
       "    </tr>\n",
       "    <tr>\n",
       "      <th>626</th>\n",
       "      <td>384sentences.383</td>\n",
       "      <td>random_withreplacement</td>\n",
       "      <td>when mix hurricanes such grenades realize in s...</td>\n",
       "    </tr>\n",
       "  </tbody>\n",
       "</table>\n",
       "<p>6897 rows × 3 columns</p>\n",
       "</div>"
      ],
      "text/plain": [
       "                   id               condition  \\\n",
       "0      243sentences.0                Original   \n",
       "1      243sentences.1                Original   \n",
       "2      243sentences.2                Original   \n",
       "3      243sentences.3                Original   \n",
       "4      243sentences.4                Original   \n",
       "..                ...                     ...   \n",
       "622  384sentences.379  random_withreplacement   \n",
       "623  384sentences.380  random_withreplacement   \n",
       "624  384sentences.381  random_withreplacement   \n",
       "625  384sentences.382  random_withreplacement   \n",
       "626  384sentences.383  random_withreplacement   \n",
       "\n",
       "                                              sentence  \n",
       "0    beekeeping encourages the conservation of loca...  \n",
       "1    it is in every beekeeper's interest to conserv...  \n",
       "2    as a passive form of agriculture it does not r...  \n",
       "3    beekeepers also discourage the use of pesticid...  \n",
       "4    artisanal beekeepers go to extremes for their ...  \n",
       "..                                                 ...  \n",
       "622  and the depending allow watching throwing ofte...  \n",
       "623               used things that connected and a to.  \n",
       "624              joined the the drunk the or have due.  \n",
       "625  controlled barrier butterfat on articles their...  \n",
       "626  when mix hurricanes such grenades realize in s...  \n",
       "\n",
       "[6897 rows x 3 columns]"
      ]
     },
     "execution_count": 83,
     "metadata": {},
     "output_type": "execute_result"
    }
   ],
   "source": [
    "full_df = pd.concat(frames)\n",
    "full_df"
   ]
  },
  {
   "cell_type": "code",
   "execution_count": 84,
   "id": "e8684c7c",
   "metadata": {},
   "outputs": [
    {
     "name": "stdout",
     "output_type": "stream",
     "text": [
      "['part go to silk and are impressive.', 'or inside air have bear spent is a internet 1970s gambling walls subject of.', 'cutting to predate which but india to even south presence use with hit a water cod lakes woodwind cooked made.', 'flood shots types be a the ice rain and have an or of quietly activity.', \"an small or in it compound 's live salmon trousers water the lot beak were.\"]\n"
     ]
    }
   ],
   "source": [
    "print(list(full_df.loc[full_df[\"condition\"] == \"random_poscontrolled\"][\"sentence\"])[:5])"
   ]
  },
  {
   "cell_type": "code",
   "execution_count": 85,
   "id": "6643df6e",
   "metadata": {},
   "outputs": [],
   "source": [
    "full_df.to_csv(f\"{savedir}/all_scrambled_stimuli.csv\", header=None, index=False)"
   ]
  },
  {
   "cell_type": "code",
   "execution_count": null,
   "id": "72e5b4f3",
   "metadata": {},
   "outputs": [],
   "source": []
  }
 ],
 "metadata": {
  "kernelspec": {
   "display_name": "Python 3",
   "language": "python",
   "name": "python3"
  },
  "language_info": {
   "codemirror_mode": {
    "name": "ipython",
    "version": 3
   },
   "file_extension": ".py",
   "mimetype": "text/x-python",
   "name": "python",
   "nbconvert_exporter": "python",
   "pygments_lexer": "ipython3",
   "version": "3.6.2"
  }
 },
 "nbformat": 4,
 "nbformat_minor": 5
}
