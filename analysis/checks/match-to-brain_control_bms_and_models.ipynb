{
 "cells": [
  {
   "cell_type": "code",
   "execution_count": 1,
   "id": "3445233b",
   "metadata": {},
   "outputs": [],
   "source": [
    "save = True"
   ]
  },
  {
   "cell_type": "code",
   "execution_count": 2,
   "id": "32966526",
   "metadata": {},
   "outputs": [],
   "source": [
    "import os\n",
    "import re\n",
    "import pickle\n",
    "import numpy as np\n",
    "import pandas as pd\n",
    "from tqdm import tqdm\n",
    "import seaborn as sns\n",
    "import matplotlib.pyplot as plt\n",
    "from datetime import date\n",
    "from os.path import abspath"
   ]
  },
  {
   "cell_type": "code",
   "execution_count": 3,
   "id": "8a33b04a",
   "metadata": {},
   "outputs": [],
   "source": [
    "working_dir = \"/om2/user/ckauf/.result_caching/neural_nlp.score\""
   ]
  },
  {
   "cell_type": "code",
   "execution_count": 4,
   "id": "60d6775f",
   "metadata": {},
   "outputs": [],
   "source": [
    "def get_max_score(matrix):\n",
    "    \"\"\"\n",
    "    input: result = out['data'].values matrix (e.g. for distilgpt2 a matrix of dimensions 7x2)\n",
    "    output: maximum score and associated error for this matrix.\n",
    "    \"\"\"\n",
    "    max_score, error = 0,0\n",
    "    for i in range(len(matrix)):\n",
    "        if matrix[i][0] > max_score:\n",
    "            max_score = matrix[i][0]\n",
    "            error = matrix[i][1]\n",
    "    return max_score, error"
   ]
  },
  {
   "cell_type": "code",
   "execution_count": 5,
   "id": "96c0b55e",
   "metadata": {},
   "outputs": [
    {
     "name": "stdout",
     "output_type": "stream",
     "text": [
      "Loading lookup from /om2/user/ckauf/anaconda/envs/perturbedenv/lib/python3.6/site-packages/brainio_collection/lookup.csv\n",
      "[[nan  0.]]\n",
      "(1, 13517)\n",
      "[nan nan nan ... nan nan nan]\n",
      "nan\n",
      "nan\n"
     ]
    },
    {
     "data": {
      "text/plain": [
       "(array([nan, nan, nan, ..., nan, nan, nan]), array([1, 1, 1, ..., 1, 1, 1]))"
      ]
     },
     "execution_count": 5,
     "metadata": {},
     "output_type": "execute_result"
    }
   ],
   "source": [
    "for filename in os.listdir(working_dir):\n",
    "    if \"same-units\" in filename:\n",
    "        file = os.path.join(working_dir, filename)\n",
    "        with open(file, 'rb') as f:\n",
    "            out = pickle.load(f)\n",
    "s = out['data']\n",
    "print(s.values)\n",
    "\n",
    "lang_raw = s.raw.raw\n",
    "all_raw = s.raw.raw.raw.values\n",
    "print(lang_raw.shape)\n",
    "\n",
    "lang = s.raw.raw.values.flatten().tolist()\n",
    "print(np.unique(lang))\n",
    "print(np.max(lang_raw.values.flatten()))\n",
    "print(np.min(lang_raw.values.flatten()))\n",
    "\n",
    "unique, counts = np.unique(lang_raw.values.flatten(), return_counts=True)\n",
    "unique, counts"
   ]
  },
  {
   "cell_type": "code",
   "execution_count": 6,
   "id": "f0611110",
   "metadata": {},
   "outputs": [],
   "source": [
    "def get_best_scores_df_controlmodels(control_model_list):\n",
    "    \"\"\"\n",
    "    input: model_identifier\n",
    "    output: dictionary containing the maximum score and associated error per condition.\n",
    "            structure of dictionary: condition --> {score --> max_score, error --> associated error}\n",
    "    \"\"\"\n",
    "    models = []\n",
    "    max_scores = []\n",
    "    errors = []\n",
    "    \n",
    "    for model_identifier in control_model_list:\n",
    "        for filename in os.listdir(working_dir):\n",
    "            if model_identifier in filename:\n",
    "                print(model_identifier)\n",
    "                file = os.path.join(working_dir,filename)\n",
    "                with open(file, 'rb') as f:\n",
    "                    out = pickle.load(f)\n",
    "                result = out['data'].values\n",
    "                print(result, '\\n\\n')\n",
    "                max_score, error = get_max_score(result)\n",
    "\n",
    "                max_scores.append(max_score)\n",
    "                errors.append(error)\n",
    "                model_identifier_sub = re.sub(\",model=gpt2,\",\"\",model_identifier)\n",
    "                models.append(model_identifier_sub)\n",
    "\n",
    "    import pandas as pd\n",
    "    scores_df = pd.DataFrame({'model':models,'score': max_scores,\n",
    "    'error': errors})\n",
    "    return scores_df"
   ]
  },
  {
   "cell_type": "code",
   "execution_count": 7,
   "id": "634eaa90",
   "metadata": {},
   "outputs": [
    {
     "name": "stdout",
     "output_type": "stream",
     "text": [
      "same-units\n",
      "[[nan  0.]] \n",
      "\n",
      "\n",
      "constant-units\n",
      "[[nan  0.]] \n",
      "\n",
      "\n",
      "length-control,model=gpt2,\n",
      "[[ 0.06086905  0.06879403]\n",
      " [ 0.02088826  0.0606234 ]\n",
      " [ 0.01389273  0.05467721]\n",
      " [ 0.03697791  0.05939874]\n",
      " [ 0.03480545  0.04030529]\n",
      " [-0.00112156  0.03054293]\n",
      " [-0.00120238  0.07022093]\n",
      " [ 0.00921724  0.05229485]\n",
      " [-0.0121605   0.05376402]\n",
      " [ 0.01913042  0.04292278]\n",
      " [-0.00552017  0.03169919]\n",
      " [ 0.03323068  0.0536829 ]\n",
      " [-0.00804421  0.04155009]] \n",
      "\n",
      "\n",
      "sentence-length\n",
      "[[0.17663553 0.11095928]] \n",
      "\n",
      "\n",
      "constant-control,model=gpt2,\n",
      "[[0.1360458  0.102507  ]\n",
      " [0.12078061 0.14064627]\n",
      " [0.16683575 0.13277714]\n",
      " [0.1339743  0.14748068]\n",
      " [0.14749068 0.11213016]\n",
      " [0.1612999  0.11574062]\n",
      " [0.1157601  0.09875055]\n",
      " [0.13081742 0.12462771]\n",
      " [0.14606063 0.09527505]\n",
      " [0.12164071 0.12939386]\n",
      " [0.12379642 0.08313806]\n",
      " [0.14458435 0.0908748 ]\n",
      " [0.08926984 0.10043876]] \n",
      "\n",
      "\n",
      "passage-position\n",
      "[[0.25483096 0.09970799]] \n",
      "\n",
      "\n",
      "original,model=gpt2,\n",
      "[[0.01513538 0.04571033]\n",
      " [0.56123138 0.1259047 ]\n",
      " [0.67228604 0.0755976 ]\n",
      " [0.61174773 0.07323607]\n",
      " [0.47956961 0.10310733]\n",
      " [0.49743609 0.0859492 ]\n",
      " [0.47568538 0.11072324]\n",
      " [0.55793906 0.16824178]\n",
      " [0.61512361 0.14229174]\n",
      " [0.68892719 0.10718622]\n",
      " [0.7124675  0.09231671]\n",
      " [0.84441671 0.08932685]\n",
      " [0.82698946 0.04830291]] \n",
      "\n",
      "\n"
     ]
    },
    {
     "data": {
      "text/html": [
       "<div>\n",
       "<style scoped>\n",
       "    .dataframe tbody tr th:only-of-type {\n",
       "        vertical-align: middle;\n",
       "    }\n",
       "\n",
       "    .dataframe tbody tr th {\n",
       "        vertical-align: top;\n",
       "    }\n",
       "\n",
       "    .dataframe thead th {\n",
       "        text-align: right;\n",
       "    }\n",
       "</style>\n",
       "<table border=\"1\" class=\"dataframe\">\n",
       "  <thead>\n",
       "    <tr style=\"text-align: right;\">\n",
       "      <th></th>\n",
       "      <th>model</th>\n",
       "      <th>score</th>\n",
       "      <th>error</th>\n",
       "    </tr>\n",
       "  </thead>\n",
       "  <tbody>\n",
       "    <tr>\n",
       "      <th>0</th>\n",
       "      <td>same-units</td>\n",
       "      <td>0.000000</td>\n",
       "      <td>0.000000</td>\n",
       "    </tr>\n",
       "    <tr>\n",
       "      <th>1</th>\n",
       "      <td>constant-units</td>\n",
       "      <td>0.000000</td>\n",
       "      <td>0.000000</td>\n",
       "    </tr>\n",
       "    <tr>\n",
       "      <th>2</th>\n",
       "      <td>length-control</td>\n",
       "      <td>0.060869</td>\n",
       "      <td>0.068794</td>\n",
       "    </tr>\n",
       "    <tr>\n",
       "      <th>3</th>\n",
       "      <td>sentence-length</td>\n",
       "      <td>0.176636</td>\n",
       "      <td>0.110959</td>\n",
       "    </tr>\n",
       "    <tr>\n",
       "      <th>4</th>\n",
       "      <td>constant-control</td>\n",
       "      <td>0.166836</td>\n",
       "      <td>0.132777</td>\n",
       "    </tr>\n",
       "    <tr>\n",
       "      <th>5</th>\n",
       "      <td>passage-position</td>\n",
       "      <td>0.254831</td>\n",
       "      <td>0.099708</td>\n",
       "    </tr>\n",
       "    <tr>\n",
       "      <th>6</th>\n",
       "      <td>original</td>\n",
       "      <td>0.844417</td>\n",
       "      <td>0.089327</td>\n",
       "    </tr>\n",
       "  </tbody>\n",
       "</table>\n",
       "</div>"
      ],
      "text/plain": [
       "              model     score     error\n",
       "0        same-units  0.000000  0.000000\n",
       "1    constant-units  0.000000  0.000000\n",
       "2    length-control  0.060869  0.068794\n",
       "3   sentence-length  0.176636  0.110959\n",
       "4  constant-control  0.166836  0.132777\n",
       "5  passage-position  0.254831  0.099708\n",
       "6          original  0.844417  0.089327"
      ]
     },
     "execution_count": 7,
     "metadata": {},
     "output_type": "execute_result"
    }
   ],
   "source": [
    "scores_df = get_best_scores_df_controlmodels(['same-units', 'constant-units', 'length-control,model=gpt2,', 'sentence-length','constant-control,model=gpt2,',  'passage-position','original,model=gpt2,'])\n",
    "scores_df"
   ]
  },
  {
   "cell_type": "code",
   "execution_count": 8,
   "id": "92306fc8",
   "metadata": {},
   "outputs": [
    {
     "data": {
      "image/png": "[encoded data removed]",
      "text/plain": [
       "<Figure size 432x288 with 1 Axes>"
      ]
     },
     "metadata": {
      "needs_background": "light"
     },
     "output_type": "display_data"
    }
   ],
   "source": [
    "colors = sns.color_palette(\"rocket\")\n",
    "x_pos = np.arange(len(scores_df))\n",
    "scores = scores_df['score']\n",
    "errors = scores_df['error']\n",
    "models = scores_df['model']\n",
    "\n",
    "curr_colors = [colors[0]]*2 + [colors[2]]*2 + [colors[3]]*2 + [colors[1]]\n",
    "fig, ax = plt.subplots()\n",
    "ax.bar(x_pos, scores,\n",
    "   yerr=errors,\n",
    "   align='center',\n",
    "   alpha=0.8,\n",
    "   ecolor='black',\n",
    "   capsize=5,\n",
    "   color=curr_colors)\n",
    "ax.set_ylabel('ceiled score',fontsize=12)\n",
    "ax.set_xticks(x_pos)\n",
    "ax.set_xticklabels(models, rotation=90)\n",
    "ax.yaxis.grid(True)\n",
    "plt.title(\"Control match-to-brain results\")\n",
    "if save:\n",
    "    savename = \"match-to-brain_control_bms_models.png\"\n",
    "    savepath = abspath(\"../fig\")\n",
    "    plt.savefig(os.path.join(savepath,savename), bbox_inches='tight', dpi=240)\n",
    "plt.show()"
   ]
  },
  {
   "cell_type": "markdown",
   "id": "129f9168",
   "metadata": {},
   "source": [
    "The above figure shows a mix of control benchmarks & control models. Specifically:\n",
    "\n",
    "* `same-units`: Control model with the same, random unit values for each sentence representation\n",
    "* `constant-units`: Control model which has a constant unit value (1) for each unit & all sentences\n",
    "* `length-control`: Benchmark (here: for GPT2-lasttoken), which replaces each word in each sentence by \"the\"\n",
    "* `sentence-length`: Control model which represents each sentence as the number of words in it.\n",
    "* `constant-control`: Benchmark (here: for GPT2-lasttoken), which replaces each sentence by \"the.\"\n",
    "* `passage-position`: Control model which represents each sentence as its index in the passage\n",
    "* `original`: GPT2-lasttoken results for Pereira-scrambled-original."
   ]
  },
  {
   "cell_type": "code",
   "execution_count": 9,
   "id": "639bd158",
   "metadata": {},
   "outputs": [
    {
     "name": "stdout",
     "output_type": "stream",
     "text": [
      "random-wl,model=random-embedding\n",
      "[[0.02782505 0.10407149]] \n",
      "\n",
      "\n",
      "random-wl,model=gpt2,\n",
      "[[0.06453948 0.04670325]\n",
      " [0.44623506 0.07696377]\n",
      " [0.49621829 0.10233879]\n",
      " [0.36756514 0.09241315]\n",
      " [0.32076421 0.07507392]\n",
      " [0.28485868 0.09084854]\n",
      " [0.35558501 0.05283439]\n",
      " [0.35386223 0.08821882]\n",
      " [0.4095304  0.05293519]\n",
      " [0.42339728 0.02652898]\n",
      " [0.47006753 0.08849396]\n",
      " [0.53015222 0.0623832 ]\n",
      " [0.66203336 0.08560733]] \n",
      "\n",
      "\n",
      "original,model=gpt2,\n",
      "[[0.01513538 0.04571033]\n",
      " [0.56123138 0.1259047 ]\n",
      " [0.67228604 0.0755976 ]\n",
      " [0.61174773 0.07323607]\n",
      " [0.47956961 0.10310733]\n",
      " [0.49743609 0.0859492 ]\n",
      " [0.47568538 0.11072324]\n",
      " [0.55793906 0.16824178]\n",
      " [0.61512361 0.14229174]\n",
      " [0.68892719 0.10718622]\n",
      " [0.7124675  0.09231671]\n",
      " [0.84441671 0.08932685]\n",
      " [0.82698946 0.04830291]] \n",
      "\n",
      "\n"
     ]
    },
    {
     "data": {
      "text/html": [
       "<div>\n",
       "<style scoped>\n",
       "    .dataframe tbody tr th:only-of-type {\n",
       "        vertical-align: middle;\n",
       "    }\n",
       "\n",
       "    .dataframe tbody tr th {\n",
       "        vertical-align: top;\n",
       "    }\n",
       "\n",
       "    .dataframe thead th {\n",
       "        text-align: right;\n",
       "    }\n",
       "</style>\n",
       "<table border=\"1\" class=\"dataframe\">\n",
       "  <thead>\n",
       "    <tr style=\"text-align: right;\">\n",
       "      <th></th>\n",
       "      <th>model</th>\n",
       "      <th>score</th>\n",
       "      <th>error</th>\n",
       "    </tr>\n",
       "  </thead>\n",
       "  <tbody>\n",
       "    <tr>\n",
       "      <th>0</th>\n",
       "      <td>random-wl,model=random-embedding</td>\n",
       "      <td>0.027825</td>\n",
       "      <td>0.104071</td>\n",
       "    </tr>\n",
       "    <tr>\n",
       "      <th>1</th>\n",
       "      <td>random-wl</td>\n",
       "      <td>0.662033</td>\n",
       "      <td>0.085607</td>\n",
       "    </tr>\n",
       "    <tr>\n",
       "      <th>2</th>\n",
       "      <td>original</td>\n",
       "      <td>0.844417</td>\n",
       "      <td>0.089327</td>\n",
       "    </tr>\n",
       "  </tbody>\n",
       "</table>\n",
       "</div>"
      ],
      "text/plain": [
       "                              model     score     error\n",
       "0  random-wl,model=random-embedding  0.027825  0.104071\n",
       "1                         random-wl  0.662033  0.085607\n",
       "2                          original  0.844417  0.089327"
      ]
     },
     "execution_count": 9,
     "metadata": {},
     "output_type": "execute_result"
    }
   ],
   "source": [
    "scores_df = get_best_scores_df_controlmodels(['random-wl,model=random-embedding', 'random-wl,model=gpt2,','original,model=gpt2,'])\n",
    "scores_df"
   ]
  },
  {
   "cell_type": "code",
   "execution_count": 10,
   "id": "b4cbdf34",
   "metadata": {},
   "outputs": [
    {
     "data": {
      "image/png": "[encoded data removed]",
      "text/plain": [
       "<Figure size 432x288 with 1 Axes>"
      ]
     },
     "metadata": {
      "needs_background": "light"
     },
     "output_type": "display_data"
    }
   ],
   "source": [
    "colors = sns.color_palette(\"rocket\")\n",
    "x_pos = np.arange(len(scores_df))\n",
    "scores = scores_df['score']\n",
    "errors = scores_df['error']\n",
    "models = scores_df['model']\n",
    "\n",
    "curr_colors = [colors[0]]*2 + [colors[1]]\n",
    "fig, ax = plt.subplots()\n",
    "ax.bar(x_pos, scores,\n",
    "   yerr=errors,\n",
    "   align='center',\n",
    "   alpha=0.8,\n",
    "   ecolor='black',\n",
    "   capsize=5,\n",
    "   color=curr_colors)\n",
    "ax.set_ylabel('ceiled score',fontsize=12)\n",
    "ax.set_xticks(x_pos)\n",
    "ax.set_xticklabels(models, rotation=90)\n",
    "ax.yaxis.grid(True)\n",
    "plt.title(\"Control match-to-brain results\")\n",
    "if save:\n",
    "    savename = \"match-to-brain_control_random_wl.png\"\n",
    "    savepath = abspath(\"../fig\")\n",
    "    plt.savefig(os.path.join(savepath,savename), bbox_inches='tight', dpi=240)\n",
    "plt.show()"
   ]
  },
  {
   "cell_type": "markdown",
   "id": "6100831a",
   "metadata": {},
   "source": [
    "# check for different split_coordinate"
   ]
  },
  {
   "cell_type": "code",
   "execution_count": 11,
   "id": "7a8c738a",
   "metadata": {},
   "outputs": [],
   "source": [
    "model_list = [elm for elm in os.listdir(working_dir) if \"passagesplit\" in elm]"
   ]
  },
  {
   "cell_type": "code",
   "execution_count": 12,
   "id": "c6f692d2",
   "metadata": {},
   "outputs": [
    {
     "name": "stdout",
     "output_type": "stream",
     "text": [
      "benchmark=Pereira2018-encoding-perturb-functionwords-passagesplit,model=distilgpt2,subsample=None.pkl\n",
      "[[0.90795852 0.05974642]\n",
      " [3.01938117 0.02528412]\n",
      " [3.06158347 0.0096182 ]\n",
      " [3.05636474 0.01232238]\n",
      " [2.71830191 0.21962195]\n",
      " [2.73328286 0.16445892]\n",
      " [3.0571076  0.02364063]] \n",
      "\n",
      "\n",
      "benchmark=Pereira2018-encoding-perturb-nouns-passagesplit,model=distilgpt2,subsample=None.pkl\n",
      "[[0.97061695 0.06991569]\n",
      " [3.094139   0.01028386]\n",
      " [3.11419372 0.00921812]\n",
      " [3.11393548 0.00621593]\n",
      " [3.10777733 0.01074182]\n",
      " [3.10419306 0.01338628]\n",
      " [3.1038096  0.01644528]] \n",
      "\n",
      "\n",
      "benchmark=Pereira2018-encoding-perturb-random-nouns-passagesplit,model=distilgpt2,subsample=None.pkl\n",
      "[[0.97008045 0.10187023]\n",
      " [3.10025247 0.01317694]\n",
      " [3.10726035 0.00601885]\n",
      " [3.11067918 0.00747641]\n",
      " [3.1096969  0.0078107 ]\n",
      " [3.1028526  0.01164038]\n",
      " [3.10658747 0.00700705]] \n",
      "\n",
      "\n",
      "benchmark=Pereira2018-encoding-perturb-sentenceshuffle_passage-passagesplit,model=distilgpt2,subsample=None.pkl\n",
      "[[1.31812258 0.14365459]\n",
      " [3.098827   0.01093676]\n",
      " [3.10908724 0.00848274]\n",
      " [3.11222246 0.00795813]\n",
      " [3.11169492 0.00960363]\n",
      " [3.10988385 0.00629366]\n",
      " [3.10135814 0.01211597]] \n",
      "\n",
      "\n",
      "benchmark=Pereira2018-encoding-perturb-sentenceshuffle_random-passagesplit,model=distilgpt2,subsample=None.pkl\n",
      "[[1.39906134 0.0606782 ]\n",
      " [3.09390053 0.01834363]\n",
      " [3.10132665 0.00958705]\n",
      " [3.10837229 0.01134486]\n",
      " [3.10616692 0.0127705 ]\n",
      " [3.09209599 0.01952178]\n",
      " [3.0867176  0.03226993]] \n",
      "\n",
      "\n",
      "benchmark=Pereira2018-encoding-scrambled-original-passagesplit,model=distilgpt2,subsample=None.pkl\n",
      "[[1.37437591 0.08091395]\n",
      " [3.10412828 0.00886134]\n",
      " [3.10951617 0.0076946 ]\n",
      " [3.11421647 0.00767451]\n",
      " [3.11081817 0.01043125]\n",
      " [3.10788003 0.01237772]\n",
      " [3.09983621 0.01381036]] \n",
      "\n",
      "\n",
      "benchmark=Pereira2018-encoding-scrambled-random-wl-passagesplit,model=distilgpt2,subsample=None.pkl\n",
      "[[1.35282533 0.13067483]\n",
      " [3.09594967 0.0065932 ]\n",
      " [3.09916432 0.00910453]\n",
      " [3.11000102 0.00718567]\n",
      " [3.11026175 0.01201974]\n",
      " [3.10307475 0.00662456]\n",
      " [3.09647681 0.01510926]] \n",
      "\n",
      "\n",
      "benchmark=Pereira2018-encoding-scrambled7-passagesplit,model=distilgpt2,subsample=None.pkl\n",
      "[[1.37388973 0.17719961]\n",
      " [3.10328852 0.00740471]\n",
      " [3.11348595 0.00483265]\n",
      " [3.11428654 0.00775649]\n",
      " [3.11193238 0.00701079]\n",
      " [3.11150135 0.0104502 ]\n",
      " [3.09515431 0.01486072]] \n",
      "\n",
      "\n"
     ]
    },
    {
     "data": {
      "text/html": [
       "<div>\n",
       "<style scoped>\n",
       "    .dataframe tbody tr th:only-of-type {\n",
       "        vertical-align: middle;\n",
       "    }\n",
       "\n",
       "    .dataframe tbody tr th {\n",
       "        vertical-align: top;\n",
       "    }\n",
       "\n",
       "    .dataframe thead th {\n",
       "        text-align: right;\n",
       "    }\n",
       "</style>\n",
       "<table border=\"1\" class=\"dataframe\">\n",
       "  <thead>\n",
       "    <tr style=\"text-align: right;\">\n",
       "      <th></th>\n",
       "      <th>model</th>\n",
       "      <th>score</th>\n",
       "      <th>error</th>\n",
       "    </tr>\n",
       "  </thead>\n",
       "  <tbody>\n",
       "    <tr>\n",
       "      <th>0</th>\n",
       "      <td>benchmark=Pereira2018-encoding-perturb-functio...</td>\n",
       "      <td>3.061583</td>\n",
       "      <td>0.009618</td>\n",
       "    </tr>\n",
       "    <tr>\n",
       "      <th>1</th>\n",
       "      <td>benchmark=Pereira2018-encoding-perturb-nouns-p...</td>\n",
       "      <td>3.114194</td>\n",
       "      <td>0.009218</td>\n",
       "    </tr>\n",
       "    <tr>\n",
       "      <th>2</th>\n",
       "      <td>benchmark=Pereira2018-encoding-perturb-random-...</td>\n",
       "      <td>3.110679</td>\n",
       "      <td>0.007476</td>\n",
       "    </tr>\n",
       "    <tr>\n",
       "      <th>3</th>\n",
       "      <td>benchmark=Pereira2018-encoding-perturb-sentenc...</td>\n",
       "      <td>3.112222</td>\n",
       "      <td>0.007958</td>\n",
       "    </tr>\n",
       "    <tr>\n",
       "      <th>4</th>\n",
       "      <td>benchmark=Pereira2018-encoding-perturb-sentenc...</td>\n",
       "      <td>3.108372</td>\n",
       "      <td>0.011345</td>\n",
       "    </tr>\n",
       "    <tr>\n",
       "      <th>5</th>\n",
       "      <td>benchmark=Pereira2018-encoding-scrambled-origi...</td>\n",
       "      <td>3.114216</td>\n",
       "      <td>0.007675</td>\n",
       "    </tr>\n",
       "    <tr>\n",
       "      <th>6</th>\n",
       "      <td>benchmark=Pereira2018-encoding-scrambled-rando...</td>\n",
       "      <td>3.110262</td>\n",
       "      <td>0.012020</td>\n",
       "    </tr>\n",
       "    <tr>\n",
       "      <th>7</th>\n",
       "      <td>benchmark=Pereira2018-encoding-scrambled7-pass...</td>\n",
       "      <td>3.114287</td>\n",
       "      <td>0.007756</td>\n",
       "    </tr>\n",
       "  </tbody>\n",
       "</table>\n",
       "</div>"
      ],
      "text/plain": [
       "                                               model     score     error\n",
       "0  benchmark=Pereira2018-encoding-perturb-functio...  3.061583  0.009618\n",
       "1  benchmark=Pereira2018-encoding-perturb-nouns-p...  3.114194  0.009218\n",
       "2  benchmark=Pereira2018-encoding-perturb-random-...  3.110679  0.007476\n",
       "3  benchmark=Pereira2018-encoding-perturb-sentenc...  3.112222  0.007958\n",
       "4  benchmark=Pereira2018-encoding-perturb-sentenc...  3.108372  0.011345\n",
       "5  benchmark=Pereira2018-encoding-scrambled-origi...  3.114216  0.007675\n",
       "6  benchmark=Pereira2018-encoding-scrambled-rando...  3.110262  0.012020\n",
       "7  benchmark=Pereira2018-encoding-scrambled7-pass...  3.114287  0.007756"
      ]
     },
     "execution_count": 12,
     "metadata": {},
     "output_type": "execute_result"
    }
   ],
   "source": [
    "scores_df = get_best_scores_df_controlmodels(model_list)\n",
    "scores_df"
   ]
  },
  {
   "cell_type": "code",
   "execution_count": 13,
   "id": "0e3867e4",
   "metadata": {},
   "outputs": [
    {
     "data": {
      "text/plain": [
       "Text(0.5, 1.0, 'Control match-to-brain results | split_coordinate = passage_index')"
      ]
     },
     "execution_count": 13,
     "metadata": {},
     "output_type": "execute_result"
    },
    {
     "data": {
      "image/png": "[encoded data removed]",
      "text/plain": [
       "<Figure size 432x288 with 1 Axes>"
      ]
     },
     "metadata": {
      "needs_background": "light"
     },
     "output_type": "display_data"
    }
   ],
   "source": [
    "colors = sns.color_palette(\"rocket\")\n",
    "x_pos = np.arange(len(scores_df))\n",
    "scores = scores_df['score']\n",
    "errors = scores_df['error']\n",
    "models = scores_df['model']\n",
    "\n",
    "models = [re.sub(\"benchmark=Pereira2018-encoding-\",\"\",elm) for elm in models]\n",
    "models = [re.sub(\"-passagesplit,model=distilgpt2,subsample=None.pkl\",\"\",elm) for elm in models]\n",
    "\n",
    "curr_colors = [colors[0]]*2 + [colors[2]]*2 + [colors[3]]*2 + [colors[1]]\n",
    "fig, ax = plt.subplots()\n",
    "ax.bar(x_pos, scores,\n",
    "   yerr=errors,\n",
    "   align='center',\n",
    "   alpha=0.8,\n",
    "   ecolor='black',\n",
    "   capsize=5,\n",
    "   color=colors[1])\n",
    "ax.set_ylabel('ceiled score',fontsize=12)\n",
    "ax.set_xticks(x_pos)\n",
    "ax.set_xticklabels(models, rotation=90)\n",
    "ax.yaxis.grid(True)\n",
    "plt.title(\"Control match-to-brain results | split_coordinate = passage_index\")"
   ]
  },
  {
   "cell_type": "code",
   "execution_count": 14,
   "id": "0c038a28",
   "metadata": {},
   "outputs": [
    {
     "data": {
      "text/plain": [
       "['perturb-functionwords',\n",
       " 'perturb-nouns',\n",
       " 'perturb-random-nouns',\n",
       " 'perturb-sentenceshuffle_passage',\n",
       " 'perturb-sentenceshuffle_random',\n",
       " 'scrambled-original',\n",
       " 'scrambled-random-wl',\n",
       " 'scrambled7']"
      ]
     },
     "execution_count": 14,
     "metadata": {},
     "output_type": "execute_result"
    }
   ],
   "source": [
    "models"
   ]
  },
  {
   "cell_type": "markdown",
   "id": "cc8eb06a",
   "metadata": {},
   "source": [
    "# Passage_index as split_coord"
   ]
  },
  {
   "cell_type": "code",
   "execution_count": 15,
   "id": "5d57c03f",
   "metadata": {},
   "outputs": [
    {
     "name": "stdout",
     "output_type": "stream",
     "text": [
      "benchmark=Pereira2018-encoding-scrambled-original-topicsplit,model=distilgpt2,subsample=None.pkl\n",
      "[[1.38848158e+00 5.89635708e-02]\n",
      " [3.13905751e+00 4.76980678e-09]\n",
      " [3.13905752e+00 3.38111182e-10]\n",
      " [3.13905752e+00 2.55865366e-10]\n",
      " [3.13905752e+00 3.14545281e-11]\n",
      " [3.13905752e+00 7.04334140e-11]\n",
      " [3.13905750e+00 8.59077279e-09]] \n",
      "\n",
      "\n",
      "benchmark=Pereira2018-encoding-scrambled-random-wl-topicsplit,model=distilgpt2,subsample=None.pkl\n",
      "[[1.36564647e+00 1.19023907e-01]\n",
      " [3.13905750e+00 1.03632952e-08]\n",
      " [3.13905752e+00 2.94415913e-10]\n",
      " [3.13905752e+00 1.97550237e-11]\n",
      " [3.13905752e+00 5.04799798e-11]\n",
      " [3.13905752e+00 2.59788625e-11]\n",
      " [3.13905751e+00 3.89623982e-09]] \n",
      "\n",
      "\n"
     ]
    },
    {
     "data": {
      "text/html": [
       "<div>\n",
       "<style scoped>\n",
       "    .dataframe tbody tr th:only-of-type {\n",
       "        vertical-align: middle;\n",
       "    }\n",
       "\n",
       "    .dataframe tbody tr th {\n",
       "        vertical-align: top;\n",
       "    }\n",
       "\n",
       "    .dataframe thead th {\n",
       "        text-align: right;\n",
       "    }\n",
       "</style>\n",
       "<table border=\"1\" class=\"dataframe\">\n",
       "  <thead>\n",
       "    <tr style=\"text-align: right;\">\n",
       "      <th></th>\n",
       "      <th>model</th>\n",
       "      <th>score</th>\n",
       "      <th>error</th>\n",
       "    </tr>\n",
       "  </thead>\n",
       "  <tbody>\n",
       "    <tr>\n",
       "      <th>0</th>\n",
       "      <td>benchmark=Pereira2018-encoding-scrambled-origi...</td>\n",
       "      <td>3.139058</td>\n",
       "      <td>3.145453e-11</td>\n",
       "    </tr>\n",
       "    <tr>\n",
       "      <th>1</th>\n",
       "      <td>benchmark=Pereira2018-encoding-scrambled-rando...</td>\n",
       "      <td>3.139058</td>\n",
       "      <td>1.975502e-11</td>\n",
       "    </tr>\n",
       "  </tbody>\n",
       "</table>\n",
       "</div>"
      ],
      "text/plain": [
       "                                               model     score         error\n",
       "0  benchmark=Pereira2018-encoding-scrambled-origi...  3.139058  3.145453e-11\n",
       "1  benchmark=Pereira2018-encoding-scrambled-rando...  3.139058  1.975502e-11"
      ]
     },
     "execution_count": 15,
     "metadata": {},
     "output_type": "execute_result"
    }
   ],
   "source": [
    "model_list = [elm for elm in os.listdir(working_dir) if \"topicsplit\" in elm]\n",
    "scores_df = get_best_scores_df_controlmodels(model_list)\n",
    "scores_df"
   ]
  },
  {
   "cell_type": "code",
   "execution_count": 16,
   "id": "e5ed646d",
   "metadata": {},
   "outputs": [
    {
     "data": {
      "text/plain": [
       "Text(0.5, 1.0, 'Control match-to-brain results | split_coordinate = passage_category')"
      ]
     },
     "execution_count": 16,
     "metadata": {},
     "output_type": "execute_result"
    },
    {
     "data": {
      "image/png": "[encoded data removed]",
      "text/plain": [
       "<Figure size 432x288 with 1 Axes>"
      ]
     },
     "metadata": {
      "needs_background": "light"
     },
     "output_type": "display_data"
    }
   ],
   "source": [
    "colors = sns.color_palette(\"rocket\")\n",
    "x_pos = np.arange(len(scores_df))\n",
    "scores = scores_df['score']\n",
    "errors = scores_df['error']\n",
    "models = scores_df['model']\n",
    "\n",
    "models = [re.sub(\"benchmark=Pereira2018-encoding-\",\"\",elm) for elm in models]\n",
    "models = [re.sub(\"-topicsplit,model=distilgpt2,subsample=None.pkl\",\"\",elm) for elm in models]\n",
    "\n",
    "curr_colors = [colors[0]]*2 + [colors[2]]*2 + [colors[3]]*2 + [colors[1]]\n",
    "fig, ax = plt.subplots()\n",
    "ax.bar(x_pos, scores,\n",
    "   yerr=errors,\n",
    "   align='center',\n",
    "   alpha=0.8,\n",
    "   ecolor='black',\n",
    "   capsize=5,\n",
    "   color=colors[1])\n",
    "ax.set_ylabel('ceiled score',fontsize=12)\n",
    "ax.set_xticks(x_pos)\n",
    "ax.set_xticklabels(models, rotation=90)\n",
    "ax.yaxis.grid(True)\n",
    "plt.title(\"Control match-to-brain results | split_coordinate = passage_category\")"
   ]
  }
 ],
 "metadata": {
  "kernelspec": {
   "display_name": "Python 3",
   "language": "python",
   "name": "python3"
  },
  "language_info": {
   "codemirror_mode": {
    "name": "ipython",
    "version": 3
   },
   "file_extension": ".py",
   "mimetype": "text/x-python",
   "name": "python",
   "nbconvert_exporter": "python",
   "pygments_lexer": "ipython3",
   "version": "3.6.2"
  }
 },
 "nbformat": 4,
 "nbformat_minor": 5
}
