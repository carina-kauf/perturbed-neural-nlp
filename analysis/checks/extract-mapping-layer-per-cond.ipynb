{
 "cells": [
  {
   "cell_type": "code",
   "execution_count": 1,
   "id": "f599d02a",
   "metadata": {},
   "outputs": [],
   "source": [
    "from os.path import abspath\n",
    "import os\n",
    "import pickle\n",
    "import pandas as pd\n",
    "import seaborn as sns\n",
    "import numpy as np\n",
    "from scipy.stats import linregress\n",
    "from scipy.stats import pearsonr\n",
    "from tqdm.notebook import tqdm\n",
    "import re"
   ]
  },
  {
   "cell_type": "code",
   "execution_count": 2,
   "id": "a4299460",
   "metadata": {},
   "outputs": [],
   "source": [
    "working_dir = \"/om2/user/ckauf/.result_caching/neural_nlp.score\""
   ]
  },
  {
   "cell_type": "code",
   "execution_count": 3,
   "id": "c5fb2075",
   "metadata": {},
   "outputs": [],
   "source": [
    "categories_control = ['original',\n",
    "                      'length-control',\n",
    "                      'constant-control']\n",
    "\n",
    "categories_scrambled = ['original',\n",
    "                        'Scr1',\n",
    "                        'Scr3',\n",
    "                        'Scr5',\n",
    "                        'Scr7',\n",
    "                        'lowPMI',\n",
    "                        'lowPMI-random',\n",
    "                        'backward',\n",
    "                        'random-wl',\n",
    "                        'random-wl-samepos']\n",
    "\n",
    "categories_perturb_loss = ['original',\n",
    "                           'nouns',\n",
    "                           'nounsverbs',\n",
    "                           'nounsverbsadj',\n",
    "                           'contentwords',\n",
    "                           'random-nouns',\n",
    "                           'functionwords']\n",
    "\n",
    "categories_perturb_meaning = ['sentenceshuffle_passage',\n",
    "                              'sentenceshuffle_topic',\n",
    "                              'sentenceshuffle_random']\n",
    "                              #'sentenceshuffle_random-topic-criteria',\n",
    "                              #'sentenceshuffle_random-topic-length-criteria']\n",
    "\n",
    "categories_perturb = categories_perturb_loss + categories_perturb_meaning\n",
    "\n",
    "categories = [categories_perturb, categories_scrambled, categories_control]\n",
    "keys = [\"perturb\", \"scrambled\", \"control\"]\n",
    "\n",
    "categories_dict = dict(zip(keys, categories))"
   ]
  },
  {
   "cell_type": "code",
   "execution_count": 4,
   "id": "00f39051",
   "metadata": {},
   "outputs": [
    {
     "name": "stdout",
     "output_type": "stream",
     "text": [
      "Loading lookup from /om2/user/ckauf/anaconda/envs/perturbedenv/lib/python3.6/site-packages/brainio_collection/lookup.csv\n"
     ]
    },
    {
     "data": {
      "text/plain": [
       "{'data': <xarray.Score (layer: 13, aggregation: 2)>\n",
       " array([[0.005489, 0.101422],\n",
       "        [0.394926, 0.064149],\n",
       "        [0.502185, 0.116105],\n",
       "        [0.432593, 0.097443],\n",
       "        [0.331035, 0.098538],\n",
       "        [0.306578, 0.094   ],\n",
       "        [0.307025, 0.059281],\n",
       "        [0.291988, 0.040568],\n",
       "        [0.379571, 0.06638 ],\n",
       "        [0.403858, 0.115814],\n",
       "        [0.448345, 0.063882],\n",
       "        [0.55929 , 0.019229],\n",
       "        [0.626428, 0.070506]])\n",
       " Coordinates:\n",
       "   * layer        (layer) object 'drop' 'encoder.h.0' ... 'encoder.h.11'\n",
       "   * aggregation  (aggregation) <U6 'center' 'error'\n",
       " Attributes:\n",
       "     raw:          <xarray.Score (layer: 13, aggregation: 2)>\\narray([[0.00174...\n",
       "     ceiling:      <xarray.Score (aggregation: 3)>\\narray([0.318567, 0.012958,...\n",
       "     description:  ceiling-normalized score\n",
       "     model:        gpt2\n",
       "     benchmark:    Pereira2018-encoding-scrambled-random-wl-samepos}"
      ]
     },
     "execution_count": 4,
     "metadata": {},
     "output_type": "execute_result"
    }
   ],
   "source": [
    "#example structure\n",
    "with open(os.path.join(working_dir,\"benchmark=Pereira2018-encoding-scrambled-random-wl-samepos,model=gpt2,subsample=None.pkl\"), \"rb\") as f:\n",
    "    df = pickle.load(f)\n",
    "df"
   ]
  },
  {
   "cell_type": "code",
   "execution_count": 5,
   "id": "74c8686a",
   "metadata": {},
   "outputs": [],
   "source": [
    "def get_max_score(matrix):\n",
    "    \"\"\"\n",
    "    input: result = out['data'].values matrix (e.g. for distilgpt2 a matrix of dimensions 7x2)\n",
    "    output: maximum score and associated error for this matrix.\n",
    "    \"\"\"\n",
    "    max_score, error = 0,0\n",
    "    idx = 0\n",
    "    for i in range(len(matrix)):\n",
    "        if matrix[i][0] > max_score:\n",
    "            max_score = matrix[i][0]\n",
    "            error = matrix[i][1]\n",
    "            idx = i\n",
    "    return idx, max_score, error"
   ]
  },
  {
   "cell_type": "code",
   "execution_count": 6,
   "id": "96db6c8b",
   "metadata": {},
   "outputs": [],
   "source": [
    "def get_best_layer(model_identifier, scr_perturb=None):\n",
    "    \n",
    "    best_layer_dict = {}\n",
    "    \n",
    "    for filename in os.listdir(working_dir):\n",
    "        if os.path.isdir(os.path.join(working_dir,filename)):\n",
    "            continue\n",
    "        if 'nouns-delete50percent' in filename:\n",
    "            continue\n",
    "        include_condition = False\n",
    "        model_name = filename.split(\",\")[1]\n",
    "        if \"model=\" + model_identifier == model_name:\n",
    "\n",
    "            if (f\"-encoding-{scr_perturb}\" in filename) or (\"-encoding-scrambled-original\" in filename):\n",
    "                include_condition = True\n",
    "\n",
    "            if include_condition == True:\n",
    "                condition = filename.split(\",\")[0].split(\"Pereira2018-encoding-\")[-1]\n",
    "\n",
    "                if scr_perturb == \"perturb\":\n",
    "                    condition = re.sub(\"perturb-\",\"\",condition)\n",
    "                    condition = re.sub(\"scrambled-\",\"\",condition)\n",
    "\n",
    "                elif scr_perturb == \"scrambled\":\n",
    "                    if not any(x in condition for x in [\"1\", \"3\", \"5\", \"7\"]):\n",
    "                        condition = re.sub(\"scrambled-\",\"\",condition)\n",
    "                    else:\n",
    "                        condition = condition\n",
    "\n",
    "                elif scr_perturb == \"control\":\n",
    "                    condition = re.sub(\"scrambled-\",\"\",condition)\n",
    "\n",
    "                file = os.path.join(working_dir,filename)\n",
    "                with open(file, 'rb') as f:\n",
    "                    out = pickle.load(f)\n",
    "                result = out['data'].values\n",
    "                \n",
    "                layers = list(out[\"data\"].layer.values)\n",
    "                idx, max_score, error = get_max_score(result)\n",
    "                best_layer = layers[idx]\n",
    "                \n",
    "                best_layer_dict[condition] = best_layer\n",
    "    return best_layer_dict"
   ]
  },
  {
   "cell_type": "markdown",
   "id": "edf4356c",
   "metadata": {},
   "source": [
    "`gpt2`"
   ]
  },
  {
   "cell_type": "code",
   "execution_count": 7,
   "id": "0ccc8a80",
   "metadata": {},
   "outputs": [
    {
     "data": {
      "text/plain": [
       "{'original': 'encoder.h.10'}"
      ]
     },
     "execution_count": 7,
     "metadata": {},
     "output_type": "execute_result"
    }
   ],
   "source": [
    "best_layer_control = get_best_layer(model_identifier=\"gpt2\", scr_perturb=\"control\")\n",
    "best_layer_control"
   ]
  },
  {
   "cell_type": "code",
   "execution_count": 8,
   "id": "78cf7b36",
   "metadata": {},
   "outputs": [
    {
     "data": {
      "text/plain": [
       "{'contentwords': 'encoder.h.11',\n",
       " 'functionwords': 'encoder.h.11',\n",
       " 'nouns': 'encoder.h.11',\n",
       " 'nounsverbs': 'encoder.h.11',\n",
       " 'nounsverbsadj': 'encoder.h.11',\n",
       " 'random-nouns': 'encoder.h.11',\n",
       " 'random-nouns-controlled': 'encoder.h.1',\n",
       " 'sentenceshuffle_passage': 'encoder.h.11',\n",
       " 'sentenceshuffle_random': 'encoder.h.11',\n",
       " 'sentenceshuffle_random-topic-criteria': 'encoder.h.11',\n",
       " 'sentenceshuffle_random-topic-length-criteria': 'encoder.h.11',\n",
       " 'sentenceshuffle_topic': 'encoder.h.11',\n",
       " 'original': 'encoder.h.10'}"
      ]
     },
     "execution_count": 8,
     "metadata": {},
     "output_type": "execute_result"
    }
   ],
   "source": [
    "best_layer_perturb = get_best_layer(model_identifier=\"gpt2\", scr_perturb=\"perturb\")\n",
    "best_layer_perturb"
   ]
  },
  {
   "cell_type": "code",
   "execution_count": 9,
   "id": "5939aaf1",
   "metadata": {},
   "outputs": [
    {
     "data": {
      "text/plain": [
       "{'backward': 'encoder.h.11',\n",
       " 'lowpmi': 'encoder.h.11',\n",
       " 'lowpmi-random': 'encoder.h.11',\n",
       " 'original': 'encoder.h.10',\n",
       " 'random-wl': 'encoder.h.11',\n",
       " 'random-wl-samepos': 'encoder.h.11',\n",
       " 'scrambled1': 'encoder.h.11',\n",
       " 'scrambled3': 'encoder.h.11',\n",
       " 'scrambled5': 'encoder.h.11',\n",
       " 'scrambled7': 'encoder.h.11'}"
      ]
     },
     "execution_count": 9,
     "metadata": {},
     "output_type": "execute_result"
    }
   ],
   "source": [
    "best_layer_scrambled = get_best_layer(model_identifier=\"gpt2\", scr_perturb=\"scrambled\")\n",
    "best_layer_scrambled"
   ]
  },
  {
   "cell_type": "code",
   "execution_count": 10,
   "id": "f5bedd19",
   "metadata": {},
   "outputs": [
    {
     "data": {
      "text/html": [
       "<div>\n",
       "<style scoped>\n",
       "    .dataframe tbody tr th:only-of-type {\n",
       "        vertical-align: middle;\n",
       "    }\n",
       "\n",
       "    .dataframe tbody tr th {\n",
       "        vertical-align: top;\n",
       "    }\n",
       "\n",
       "    .dataframe thead th {\n",
       "        text-align: right;\n",
       "    }\n",
       "</style>\n",
       "<table border=\"1\" class=\"dataframe\">\n",
       "  <thead>\n",
       "    <tr style=\"text-align: right;\">\n",
       "      <th></th>\n",
       "      <th>manipulation_category</th>\n",
       "      <th>manipulation</th>\n",
       "      <th>best_layer</th>\n",
       "    </tr>\n",
       "  </thead>\n",
       "  <tbody>\n",
       "    <tr>\n",
       "      <th>0</th>\n",
       "      <td>perturb</td>\n",
       "      <td>contentwords</td>\n",
       "      <td>encoder.h.11</td>\n",
       "    </tr>\n",
       "    <tr>\n",
       "      <th>1</th>\n",
       "      <td>perturb</td>\n",
       "      <td>functionwords</td>\n",
       "      <td>encoder.h.11</td>\n",
       "    </tr>\n",
       "    <tr>\n",
       "      <th>2</th>\n",
       "      <td>perturb</td>\n",
       "      <td>nouns</td>\n",
       "      <td>encoder.h.11</td>\n",
       "    </tr>\n",
       "    <tr>\n",
       "      <th>3</th>\n",
       "      <td>perturb</td>\n",
       "      <td>nounsverbs</td>\n",
       "      <td>encoder.h.11</td>\n",
       "    </tr>\n",
       "    <tr>\n",
       "      <th>4</th>\n",
       "      <td>perturb</td>\n",
       "      <td>nounsverbsadj</td>\n",
       "      <td>encoder.h.11</td>\n",
       "    </tr>\n",
       "    <tr>\n",
       "      <th>5</th>\n",
       "      <td>perturb</td>\n",
       "      <td>random-nouns</td>\n",
       "      <td>encoder.h.11</td>\n",
       "    </tr>\n",
       "    <tr>\n",
       "      <th>6</th>\n",
       "      <td>perturb</td>\n",
       "      <td>random-nouns-controlled</td>\n",
       "      <td>encoder.h.1</td>\n",
       "    </tr>\n",
       "    <tr>\n",
       "      <th>7</th>\n",
       "      <td>perturb</td>\n",
       "      <td>sentenceshuffle_passage</td>\n",
       "      <td>encoder.h.11</td>\n",
       "    </tr>\n",
       "    <tr>\n",
       "      <th>8</th>\n",
       "      <td>perturb</td>\n",
       "      <td>sentenceshuffle_random</td>\n",
       "      <td>encoder.h.11</td>\n",
       "    </tr>\n",
       "    <tr>\n",
       "      <th>9</th>\n",
       "      <td>perturb</td>\n",
       "      <td>sentenceshuffle_random-topic-criteria</td>\n",
       "      <td>encoder.h.11</td>\n",
       "    </tr>\n",
       "    <tr>\n",
       "      <th>10</th>\n",
       "      <td>perturb</td>\n",
       "      <td>sentenceshuffle_random-topic-length-criteria</td>\n",
       "      <td>encoder.h.11</td>\n",
       "    </tr>\n",
       "    <tr>\n",
       "      <th>11</th>\n",
       "      <td>perturb</td>\n",
       "      <td>sentenceshuffle_topic</td>\n",
       "      <td>encoder.h.11</td>\n",
       "    </tr>\n",
       "    <tr>\n",
       "      <th>12</th>\n",
       "      <td>perturb</td>\n",
       "      <td>original</td>\n",
       "      <td>encoder.h.10</td>\n",
       "    </tr>\n",
       "    <tr>\n",
       "      <th>13</th>\n",
       "      <td>scrambled</td>\n",
       "      <td>backward</td>\n",
       "      <td>encoder.h.11</td>\n",
       "    </tr>\n",
       "    <tr>\n",
       "      <th>14</th>\n",
       "      <td>scrambled</td>\n",
       "      <td>lowpmi</td>\n",
       "      <td>encoder.h.11</td>\n",
       "    </tr>\n",
       "    <tr>\n",
       "      <th>15</th>\n",
       "      <td>scrambled</td>\n",
       "      <td>lowpmi-random</td>\n",
       "      <td>encoder.h.11</td>\n",
       "    </tr>\n",
       "    <tr>\n",
       "      <th>16</th>\n",
       "      <td>scrambled</td>\n",
       "      <td>original</td>\n",
       "      <td>encoder.h.10</td>\n",
       "    </tr>\n",
       "    <tr>\n",
       "      <th>17</th>\n",
       "      <td>scrambled</td>\n",
       "      <td>random-wl</td>\n",
       "      <td>encoder.h.11</td>\n",
       "    </tr>\n",
       "    <tr>\n",
       "      <th>18</th>\n",
       "      <td>scrambled</td>\n",
       "      <td>random-wl-samepos</td>\n",
       "      <td>encoder.h.11</td>\n",
       "    </tr>\n",
       "    <tr>\n",
       "      <th>19</th>\n",
       "      <td>scrambled</td>\n",
       "      <td>scrambled1</td>\n",
       "      <td>encoder.h.11</td>\n",
       "    </tr>\n",
       "    <tr>\n",
       "      <th>20</th>\n",
       "      <td>scrambled</td>\n",
       "      <td>scrambled3</td>\n",
       "      <td>encoder.h.11</td>\n",
       "    </tr>\n",
       "    <tr>\n",
       "      <th>21</th>\n",
       "      <td>scrambled</td>\n",
       "      <td>scrambled5</td>\n",
       "      <td>encoder.h.11</td>\n",
       "    </tr>\n",
       "    <tr>\n",
       "      <th>22</th>\n",
       "      <td>scrambled</td>\n",
       "      <td>scrambled7</td>\n",
       "      <td>encoder.h.11</td>\n",
       "    </tr>\n",
       "    <tr>\n",
       "      <th>23</th>\n",
       "      <td>control</td>\n",
       "      <td>original</td>\n",
       "      <td>encoder.h.10</td>\n",
       "    </tr>\n",
       "  </tbody>\n",
       "</table>\n",
       "</div>"
      ],
      "text/plain": [
       "   manipulation_category                                  manipulation  \\\n",
       "0                perturb                                  contentwords   \n",
       "1                perturb                                 functionwords   \n",
       "2                perturb                                         nouns   \n",
       "3                perturb                                    nounsverbs   \n",
       "4                perturb                                 nounsverbsadj   \n",
       "5                perturb                                  random-nouns   \n",
       "6                perturb                       random-nouns-controlled   \n",
       "7                perturb                       sentenceshuffle_passage   \n",
       "8                perturb                        sentenceshuffle_random   \n",
       "9                perturb         sentenceshuffle_random-topic-criteria   \n",
       "10               perturb  sentenceshuffle_random-topic-length-criteria   \n",
       "11               perturb                         sentenceshuffle_topic   \n",
       "12               perturb                                      original   \n",
       "13             scrambled                                      backward   \n",
       "14             scrambled                                        lowpmi   \n",
       "15             scrambled                                 lowpmi-random   \n",
       "16             scrambled                                      original   \n",
       "17             scrambled                                     random-wl   \n",
       "18             scrambled                             random-wl-samepos   \n",
       "19             scrambled                                    scrambled1   \n",
       "20             scrambled                                    scrambled3   \n",
       "21             scrambled                                    scrambled5   \n",
       "22             scrambled                                    scrambled7   \n",
       "23               control                                      original   \n",
       "\n",
       "      best_layer  \n",
       "0   encoder.h.11  \n",
       "1   encoder.h.11  \n",
       "2   encoder.h.11  \n",
       "3   encoder.h.11  \n",
       "4   encoder.h.11  \n",
       "5   encoder.h.11  \n",
       "6    encoder.h.1  \n",
       "7   encoder.h.11  \n",
       "8   encoder.h.11  \n",
       "9   encoder.h.11  \n",
       "10  encoder.h.11  \n",
       "11  encoder.h.11  \n",
       "12  encoder.h.10  \n",
       "13  encoder.h.11  \n",
       "14  encoder.h.11  \n",
       "15  encoder.h.11  \n",
       "16  encoder.h.10  \n",
       "17  encoder.h.11  \n",
       "18  encoder.h.11  \n",
       "19  encoder.h.11  \n",
       "20  encoder.h.11  \n",
       "21  encoder.h.11  \n",
       "22  encoder.h.11  \n",
       "23  encoder.h.10  "
      ]
     },
     "execution_count": 10,
     "metadata": {},
     "output_type": "execute_result"
    }
   ],
   "source": [
    "# gather into table\n",
    "\n",
    "manipulation = []\n",
    "best_layer = []\n",
    "category = []\n",
    "\n",
    "for ind, dictionary in enumerate([best_layer_perturb, best_layer_scrambled, best_layer_control]):\n",
    "    manipulation += list(dictionary.keys())\n",
    "    best_layer += list(dictionary.values())\n",
    "    if ind == 0:\n",
    "        t = [[\"perturb\"]*len(dictionary)]\n",
    "    elif ind == 1:\n",
    "        t = [[\"scrambled\"]*len(dictionary)]\n",
    "    else:\n",
    "        t = [[\"control\"]*len(dictionary)]\n",
    "    flat_list = [item for sublist in t for item in sublist]\n",
    "    category += flat_list\n",
    "        \n",
    "best_layer_df = pd.DataFrame({\n",
    "    \"manipulation_category\" : category,\n",
    "    \"manipulation\": manipulation,\n",
    "    \"best_layer\" : best_layer\n",
    "})\n",
    "\n",
    "best_layer_df"
   ]
  },
  {
   "cell_type": "code",
   "execution_count": 11,
   "id": "6ac7834f",
   "metadata": {},
   "outputs": [],
   "source": [
    "best_layer_df.to_csv(\"best_layer_per_condition_gpt2.csv\",index=None)"
   ]
  },
  {
   "cell_type": "markdown",
   "id": "67247cc4",
   "metadata": {},
   "source": [
    "`gpt2-avgtoken`"
   ]
  },
  {
   "cell_type": "code",
   "execution_count": 12,
   "id": "fcd3b190",
   "metadata": {},
   "outputs": [
    {
     "data": {
      "text/plain": [
       "{'original': 'encoder.h.10'}"
      ]
     },
     "execution_count": 12,
     "metadata": {},
     "output_type": "execute_result"
    }
   ],
   "source": [
    "best_layer_control_avg = get_best_layer(model_identifier=\"gpt2\", scr_perturb=\"control\")\n",
    "best_layer_control_avg"
   ]
  },
  {
   "cell_type": "code",
   "execution_count": 13,
   "id": "30ff7fb4",
   "metadata": {},
   "outputs": [
    {
     "data": {
      "text/plain": [
       "{'contentwords': 'encoder.h.11',\n",
       " 'functionwords': 'encoder.h.11',\n",
       " 'nouns': 'encoder.h.11',\n",
       " 'nounsverbs': 'encoder.h.11',\n",
       " 'nounsverbsadj': 'encoder.h.11',\n",
       " 'random-nouns': 'encoder.h.11',\n",
       " 'random-nouns-controlled': 'encoder.h.1',\n",
       " 'sentenceshuffle_passage': 'encoder.h.11',\n",
       " 'sentenceshuffle_random': 'encoder.h.11',\n",
       " 'sentenceshuffle_random-topic-criteria': 'encoder.h.11',\n",
       " 'sentenceshuffle_random-topic-length-criteria': 'encoder.h.11',\n",
       " 'sentenceshuffle_topic': 'encoder.h.11',\n",
       " 'original': 'encoder.h.10'}"
      ]
     },
     "execution_count": 13,
     "metadata": {},
     "output_type": "execute_result"
    }
   ],
   "source": [
    "best_layer_perturb_avg = get_best_layer(model_identifier=\"gpt2\", scr_perturb=\"perturb\")\n",
    "best_layer_perturb_avg"
   ]
  },
  {
   "cell_type": "code",
   "execution_count": 14,
   "id": "38b9dc85",
   "metadata": {},
   "outputs": [
    {
     "data": {
      "text/plain": [
       "{'backward': 'encoder.h.11',\n",
       " 'lowpmi': 'encoder.h.11',\n",
       " 'lowpmi-random': 'encoder.h.11',\n",
       " 'original': 'encoder.h.10',\n",
       " 'random-wl': 'encoder.h.11',\n",
       " 'random-wl-samepos': 'encoder.h.11',\n",
       " 'scrambled1': 'encoder.h.11',\n",
       " 'scrambled3': 'encoder.h.11',\n",
       " 'scrambled5': 'encoder.h.11',\n",
       " 'scrambled7': 'encoder.h.11'}"
      ]
     },
     "execution_count": 14,
     "metadata": {},
     "output_type": "execute_result"
    }
   ],
   "source": [
    "best_layer_scrambled_avg = get_best_layer(model_identifier=\"gpt2\", scr_perturb=\"scrambled\")\n",
    "best_layer_scrambled_avg"
   ]
  },
  {
   "cell_type": "code",
   "execution_count": null,
   "id": "c894c3d3",
   "metadata": {},
   "outputs": [],
   "source": []
  }
 ],
 "metadata": {
  "kernelspec": {
   "display_name": "Python 3",
   "language": "python",
   "name": "python3"
  },
  "language_info": {
   "codemirror_mode": {
    "name": "ipython",
    "version": 3
   },
   "file_extension": ".py",
   "mimetype": "text/x-python",
   "name": "python",
   "nbconvert_exporter": "python",
   "pygments_lexer": "ipython3",
   "version": "3.6.2"
  }
 },
 "nbformat": 4,
 "nbformat_minor": 5
}
