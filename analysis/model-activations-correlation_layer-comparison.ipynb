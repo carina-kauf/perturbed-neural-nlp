{
 "cells": [
  {
   "cell_type": "code",
   "execution_count": 1,
   "id": "b21eca7e",
   "metadata": {},
   "outputs": [],
   "source": [
    "import os\n",
    "import re\n",
    "import pickle\n",
    "import numpy as np\n",
    "import pandas as pd\n",
    "from tqdm.notebook import tqdm\n",
    "import seaborn as sns\n",
    "import matplotlib.pyplot as plt\n",
    "from datetime import date"
   ]
  },
  {
   "cell_type": "code",
   "execution_count": 2,
   "id": "5b3a5023",
   "metadata": {},
   "outputs": [],
   "source": [
    "working_dir = \"/om2/user/ckauf/.result_caching/neural_nlp.models.wrapper.core.ActivationsExtractorHelper._from_sentences_stored\""
   ]
  },
  {
   "cell_type": "code",
   "execution_count": 3,
   "id": "369b11ad",
   "metadata": {},
   "outputs": [],
   "source": [
    "#random low-pmi condition missing\n",
    "categories_perturb = ['original', 'nouns', 'nouns-delete50percent', 'random-nouns', 'nounsverbs', 'nounsverbsadj', 'contentwords', 'functionwords', 'passageshuffle','randomsentenceshuffle']\n",
    "categories_scrambled = ['original', 'scrambled1', 'scrambled3', 'scrambled5', 'scrambled7', 'lowpmi', 'backward', 'random-wl']#, random-lowpmi]\n",
    "\n",
    "categories = [categories_perturb, categories_scrambled]\n",
    "keys = [\"perturb\", \"scrambled\"]\n",
    "\n",
    "categories_dict = dict(zip(keys, categories))"
   ]
  },
  {
   "cell_type": "code",
   "execution_count": 4,
   "id": "e795c7dc",
   "metadata": {},
   "outputs": [],
   "source": [
    "def get_last_layer(model_identifier,categories_dict,scr_perturb=None):\n",
    "    \"\"\"\n",
    "    input: model_identifier of model of which we want to find the last layer\n",
    "    output: last layer identifier\n",
    "    \"\"\"\n",
    "    for ind,filename in enumerate(os.listdir(working_dir)):\n",
    "        model_name = filename.split(\",\")[0]\n",
    "        if \"identifier=\" + model_identifier == model_name:\n",
    "            if any(substring in filename for substring in categories_dict[scr_perturb]):\n",
    "                file = os.path.join(working_dir,filename)\n",
    "                with open(file, 'rb') as f:\n",
    "                    result = pickle.load(f)\n",
    "                result = result['data']\n",
    "                layer_list = np.unique(result.layer)\n",
    "                #order double-digit layers at end of list\n",
    "                double_digits = []\n",
    "                if model_identifier in ['distilgpt2','gpt2']:\n",
    "                    double_digits = [elm for elm in layer_list if 'encoder.h.' in elm and len(elm.split('.h.')[-1]) > 1]\n",
    "                if model_identifier == 'albert-xxlarge-v2':\n",
    "                    double_digits = [elm for elm in layer_list if 'encoder.albert_layer_groups.' in elm and len(elm.split('.albert_layer_groups.')[-1]) > 1]\n",
    "                if model_identifier == 'xlnet-large-cased':\n",
    "                    double_digits = [elm for elm in layer_list if 'encoder.layer.' in elm and len(elm.split('.layer.')[-1]) > 1]\n",
    "                layers = [e for e in layer_list if e not in double_digits] + double_digits\n",
    "                final_layer = layers[-1]\n",
    "                return final_layer\n",
    "                break"
   ]
  },
  {
   "cell_type": "code",
   "execution_count": 5,
   "id": "f116a1d3",
   "metadata": {},
   "outputs": [],
   "source": [
    "def get_all_layers(model_identifier,categories_dict,scr_perturb=None):\n",
    "    \"\"\"\n",
    "    input: model_identifier of model of which we want to find the layers\n",
    "    output: np.array of all unique layer identifiers, ordered by position\n",
    "    \"\"\"\n",
    "    for ind,filename in enumerate(os.listdir(working_dir)):\n",
    "        if \"identifier=\" + model_identifier in filename:\n",
    "            #print(filename)\n",
    "            if any(substring in filename for substring in categories_dict[scr_perturb]):\n",
    "                file = os.path.join(working_dir,filename)\n",
    "                with open(file, 'rb') as f:\n",
    "                    result = pickle.load(f)\n",
    "                result = result['data']\n",
    "                layer_list = np.unique(result.layer)\n",
    "                #order double-digit layers at end of list\n",
    "                double_digits = []\n",
    "                if model_identifier in ['gpt2','distilgpt2']:\n",
    "                    double_digits = [elm for elm in layer_list if 'encoder.h.' in elm and len(elm.split('.h.')[-1]) > 1]\n",
    "                if model_identifier == 'albert-xxlarge-v2':\n",
    "                    double_digits = [elm for elm in layer_list if 'encoder.albert_layer_groups.' in elm and len(elm.split('.albert_layer_groups.')[-1]) > 1]\n",
    "                if model_identifier == 'xlnet-large-cased':\n",
    "                    double_digits = [elm for elm in layer_list if 'encoder.layer.' in elm and len(elm.split('.layer.')[-1]) > 1]\n",
    "                if model_identifier == 'bert-large-uncased-whole-word-masking':\n",
    "                    double_digits = [elm for elm in layer_list if '.layer.' in elm and len(elm.split('.layer.')[-1].split('.')[0]) > 1]\n",
    "                layers = [e for e in layer_list if e not in double_digits] + double_digits\n",
    "                return layers\n",
    "                break"
   ]
  },
  {
   "cell_type": "code",
   "execution_count": 6,
   "id": "55497df5",
   "metadata": {},
   "outputs": [],
   "source": [
    "def get_passage_identifier(filename):\n",
    "    \"\"\"\n",
    "    get passage identifier to be used as key for the dictionary.\n",
    "    important step: fill the identifier with 0s for single-digit passage numbers\n",
    "    \"\"\"\n",
    "    passage = filename.split(\"-\")[-1].split(\".\")[0]\n",
    "    number = passage.split(\"sentences\")[-1]\n",
    "    if len(number) == 1:\n",
    "        passage_identifier = passage[:-1] + number.zfill(2)\n",
    "    else:\n",
    "        passage_identifier = passage\n",
    "    return passage_identifier"
   ]
  },
  {
   "cell_type": "code",
   "execution_count": 7,
   "id": "9ae5f955",
   "metadata": {},
   "outputs": [],
   "source": [
    "def get_dictionary(model_identifier,categories_dict,scr_perturb=None,layer_identifier=None):\n",
    "    \"\"\"\n",
    "    input: model identifier\n",
    "    output: populated model dictionary with data of just the selected layer\n",
    "    dictionary structure: passage_identifier --> condition identifier --> data\n",
    "    \"\"\"\n",
    "    \n",
    "    model_dictionary = model_identifier + \"_dict\"\n",
    "    model_dictionary = {}\n",
    "    \n",
    "    #look at last layer by default\n",
    "    if layer_identifier == None:\n",
    "        layer_identifier = get_last_layer(model_identifier,categories_dict,scr_perturb=scr_perturb)\n",
    "    else:\n",
    "        layer_identifier = layer_identifier\n",
    "    print(\"This is the layer I'm looking at: \", layer_identifier)\n",
    "    \n",
    "    for filename in tqdm(os.listdir(working_dir)):\n",
    "        model_name = filename.split(\",\")[0]\n",
    "        if (\"identifier=\" + model_identifier == model_name):\n",
    "            if (any(substring in filename for substring in categories_dict[scr_perturb])) or (\"Original\" in filename):\n",
    "                passage_identifier = get_passage_identifier(filename)\n",
    "\n",
    "                condition = filename.split(\"Pereira2018\")[1]\n",
    "                if \"avgtoken\" in model_identifier:\n",
    "                    condition = condition.split(\"avgtoken\")[0]\n",
    "                else:\n",
    "                    condition = condition.split(\"lasttoken\")[0]\n",
    "                condition = condition.lstrip(\"-\").rstrip(\"-\")\n",
    "                #print(condition)\n",
    "\n",
    "                file = os.path.join(working_dir,filename)\n",
    "                with open(file, 'rb') as f:\n",
    "                    out = pickle.load(f)\n",
    "                result = out['data']\n",
    "                data = result[{\"neuroid\": [layer == layer_identifier for layer in result[\"layer\"].values]}]\n",
    "\n",
    "                if not passage_identifier in model_dictionary:\n",
    "                    model_dictionary[passage_identifier] = {}\n",
    "                model_dictionary[passage_identifier][condition] = data\n",
    "    \n",
    "    return model_dictionary"
   ]
  },
  {
   "cell_type": "code",
   "execution_count": 8,
   "id": "577212cc",
   "metadata": {},
   "outputs": [
    {
     "name": "stdout",
     "output_type": "stream",
     "text": [
      "This is the layer I'm looking at:  encoder.h.5\n"
     ]
    },
    {
     "data": {
      "application/vnd.jupyter.widget-view+json": {
       "model_id": "53d0936f089c4cb29f15029de3c3fec3",
       "version_major": 2,
       "version_minor": 0
      },
      "text/plain": [
       "HBox(children=(IntProgress(value=0, max=11425), HTML(value='')))"
      ]
     },
     "metadata": {},
     "output_type": "display_data"
    },
    {
     "name": "stdout",
     "output_type": "stream",
     "text": [
      "\n"
     ]
    }
   ],
   "source": [
    "model_dictionary = get_dictionary(\"distilgpt2\",categories_dict,scr_perturb=\"perturb\",layer_identifier=None)"
   ]
  },
  {
   "cell_type": "code",
   "execution_count": 9,
   "id": "1ac657b7",
   "metadata": {},
   "outputs": [
    {
     "data": {
      "text/plain": [
       "dict_keys(['Original', 'contentwords', 'functionwords', 'nouns-delete50percent', 'nouns', 'nounsverbs', 'nounsverbsadj', 'passageshuffle', 'random-nouns', 'randomsentenceshuffle'])"
      ]
     },
     "execution_count": 9,
     "metadata": {},
     "output_type": "execute_result"
    }
   ],
   "source": [
    "model_dictionary['243sentences01'].keys()"
   ]
  },
  {
   "cell_type": "code",
   "execution_count": 10,
   "id": "3b203a36",
   "metadata": {},
   "outputs": [],
   "source": [
    "def get_arrays(dictionary,categories_dict,scr_perturb=None):\n",
    "    #sort dictionary by passage identifier\n",
    "    sorted_dict = dict(sorted(dictionary.items()))\n",
    "    #create empty arrays\n",
    "    \n",
    "    if scr_perturb == \"scrambled\":\n",
    "        original, scrambled1, scrambled3, scrambled5, scrambled7, lowpmi, backward, random_wl = ([] for i in range(len(categories_dict[scr_perturb])))\n",
    "        for key, value in sorted_dict.items(): #key is passage, value is dic from cond to xarray data\n",
    "            #print(list(value.keys()))\n",
    "            original.append(value['Original'].values)\n",
    "            scrambled1.append(value['Scr1'].values)\n",
    "            scrambled3.append(value['Scr3'].values)\n",
    "            scrambled5.append(value['Scr5'].values)\n",
    "            scrambled7.append(value['Scr7'].values)\n",
    "            lowpmi.append(value['lowPMI'].values)\n",
    "            backward.append(value['backward'].values)\n",
    "            random_wl.append(value['random-wl'].values)\n",
    "        \n",
    "        return original,scrambled1,scrambled3,scrambled5,scrambled7,lowpmi,backward,random_wl\n",
    "            \n",
    "    elif scr_perturb == \"perturb\":\n",
    "        original,nouns,nouns_del50,random_nouns,nounsverbs,nounsverbsadj,contentwords,functionwords,passageshuffle,random_sent = ([] for i in range(len(categories_dict[scr_perturb])))\n",
    "        #\n",
    "        for key, value in sorted_dict.items(): #key is passage, value is dic from cond to xarray data\n",
    "            #print(list(value.keys()))\n",
    "            original.append(value['Original'].values)\n",
    "            nouns.append(value['nouns'].values)\n",
    "            nouns_del50.append(value['nouns-delete50percent'].values)\n",
    "            random_nouns.append(value['random-nouns'].values)\n",
    "            nounsverbs.append(value['nounsverbs'].values)\n",
    "            nounsverbsadj.append(value['nounsverbsadj'].values)\n",
    "            contentwords.append(value['contentwords'].values)\n",
    "            functionwords.append(value['functionwords'].values)\n",
    "            passageshuffle.append(value['passageshuffle'].values)\n",
    "            random_sent.append(value['randomsentenceshuffle'].values)\n",
    "        \n",
    "        #print(np.shape(original))\n",
    "        #print(np.shape(original[0]))\n",
    "        return original,nouns,nouns_del50,random_nouns,nounsverbs,nounsverbsadj,contentwords,functionwords,passageshuffle,random_sent"
   ]
  },
  {
   "cell_type": "code",
   "execution_count": 11,
   "id": "22622a61",
   "metadata": {},
   "outputs": [],
   "source": [
    "original,nouns,nouns_del50,random_nouns,nounsverbs,nounsverbsadj,contentwords,functionwords,passageshuffle,random_sent = get_arrays(model_dictionary,categories_dict,scr_perturb=\"perturb\") "
   ]
  },
  {
   "cell_type": "code",
   "execution_count": 12,
   "id": "4c4309c5",
   "metadata": {},
   "outputs": [],
   "source": [
    "def flatten_array(liste):\n",
    "    liste_flatten = [item for sublist in liste for item in sublist]\n",
    "    return liste_flatten"
   ]
  },
  {
   "cell_type": "code",
   "execution_count": 13,
   "id": "842615ea",
   "metadata": {},
   "outputs": [],
   "source": [
    "#def prepare_dataframe(original,scr1,scr3,scr5,scr7,lowpmi,backward,random,flatten=True):\n",
    "def prepare_dataframe_perturb(original,nouns,nouns_del50,random_nouns,nounsverbs,nounsverbsadj,contentwords,functionwords,passageshuffle,random_sent,flatten=True):\n",
    "    \n",
    "    if flatten:\n",
    "        df = pd.DataFrame(data={'original':np.asarray(flatten_array(original)).flatten(),\n",
    "                               'nouns':np.asarray(flatten_array(nouns)).flatten(),\n",
    "                              'nouns_del50' :np.asarray(flatten_array(nouns_del50)).flatten(),\n",
    "                              'random-nouns' :np.asarray(flatten_array(random_nouns)).flatten(),\n",
    "                              'nounsverbs':np.asarray(flatten_array(nounsverbs)).flatten(),\n",
    "                              'nounsverbsadj':np.asarray(flatten_array(nounsverbsadj)).flatten(),\n",
    "                              'contentwords':np.asarray(flatten_array(contentwords)).flatten(),\n",
    "                              'functionwords':np.asarray(flatten_array(functionwords)).flatten(),\n",
    "                               'passageshuffle': np.asarray(flatten_array(passageshuffle)).flatten(),\n",
    "                               'random-sent' : np.asarray(flatten_array(random_sent)).flatten()\n",
    "                               })\n",
    "    if not flatten:\n",
    "        # print(np.shape(np.asarray(flatten_array(random))))\n",
    "        df = {}\n",
    "        df = {'original':flatten_array(original),\n",
    "             'nouns':flatten_array(nouns),\n",
    "              'nouns_del50' : flatten_array(nouns_del50),\n",
    "              'random-nouns' : flatten_array(random_nouns),\n",
    "              'nounsverbs':flatten_array(nounsverbs),\n",
    "              'nounsverbsadj':flatten_array(nounsverbsadj),\n",
    "              'contentwords':flatten_array(contentwords),\n",
    "              'functionwords':flatten_array(functionwords),\n",
    "              'passageshuffle':flatten_array(passageshuffle),\n",
    "              'random-sent': flatten_array(random_sent)}\n",
    "    return df"
   ]
  },
  {
   "cell_type": "code",
   "execution_count": 14,
   "id": "9ea57086",
   "metadata": {},
   "outputs": [
    {
     "data": {
      "text/html": [
       "<div>\n",
       "<style scoped>\n",
       "    .dataframe tbody tr th:only-of-type {\n",
       "        vertical-align: middle;\n",
       "    }\n",
       "\n",
       "    .dataframe tbody tr th {\n",
       "        vertical-align: top;\n",
       "    }\n",
       "\n",
       "    .dataframe thead th {\n",
       "        text-align: right;\n",
       "    }\n",
       "</style>\n",
       "<table border=\"1\" class=\"dataframe\">\n",
       "  <thead>\n",
       "    <tr style=\"text-align: right;\">\n",
       "      <th></th>\n",
       "      <th>original</th>\n",
       "      <th>nouns</th>\n",
       "      <th>nouns_del50</th>\n",
       "      <th>random-nouns</th>\n",
       "      <th>nounsverbs</th>\n",
       "      <th>nounsverbsadj</th>\n",
       "      <th>contentwords</th>\n",
       "      <th>functionwords</th>\n",
       "      <th>passageshuffle</th>\n",
       "      <th>random-sent</th>\n",
       "    </tr>\n",
       "  </thead>\n",
       "  <tbody>\n",
       "    <tr>\n",
       "      <th>0</th>\n",
       "      <td>0.157137</td>\n",
       "      <td>0.087634</td>\n",
       "      <td>0.124145</td>\n",
       "      <td>0.378715</td>\n",
       "      <td>0.166208</td>\n",
       "      <td>0.183235</td>\n",
       "      <td>0.183235</td>\n",
       "      <td>-0.158862</td>\n",
       "      <td>0.372150</td>\n",
       "      <td>0.529517</td>\n",
       "    </tr>\n",
       "    <tr>\n",
       "      <th>1</th>\n",
       "      <td>0.039157</td>\n",
       "      <td>0.391039</td>\n",
       "      <td>0.181035</td>\n",
       "      <td>-0.090973</td>\n",
       "      <td>0.110387</td>\n",
       "      <td>0.013478</td>\n",
       "      <td>0.013478</td>\n",
       "      <td>-0.011141</td>\n",
       "      <td>-0.160889</td>\n",
       "      <td>-0.361754</td>\n",
       "    </tr>\n",
       "    <tr>\n",
       "      <th>2</th>\n",
       "      <td>-0.165235</td>\n",
       "      <td>-0.394410</td>\n",
       "      <td>-0.355700</td>\n",
       "      <td>-0.525980</td>\n",
       "      <td>-0.161259</td>\n",
       "      <td>-0.147288</td>\n",
       "      <td>-0.147288</td>\n",
       "      <td>-0.162715</td>\n",
       "      <td>-0.542245</td>\n",
       "      <td>-0.890810</td>\n",
       "    </tr>\n",
       "    <tr>\n",
       "      <th>3</th>\n",
       "      <td>-0.040554</td>\n",
       "      <td>0.044066</td>\n",
       "      <td>-0.058999</td>\n",
       "      <td>-0.081273</td>\n",
       "      <td>-0.044962</td>\n",
       "      <td>-0.039471</td>\n",
       "      <td>-0.039471</td>\n",
       "      <td>-0.131549</td>\n",
       "      <td>0.070502</td>\n",
       "      <td>0.021272</td>\n",
       "    </tr>\n",
       "    <tr>\n",
       "      <th>4</th>\n",
       "      <td>-0.348345</td>\n",
       "      <td>-0.206511</td>\n",
       "      <td>-0.136470</td>\n",
       "      <td>0.039779</td>\n",
       "      <td>-0.307872</td>\n",
       "      <td>-0.387656</td>\n",
       "      <td>-0.387656</td>\n",
       "      <td>-0.030751</td>\n",
       "      <td>0.131184</td>\n",
       "      <td>-0.295929</td>\n",
       "    </tr>\n",
       "    <tr>\n",
       "      <th>...</th>\n",
       "      <td>...</td>\n",
       "      <td>...</td>\n",
       "      <td>...</td>\n",
       "      <td>...</td>\n",
       "      <td>...</td>\n",
       "      <td>...</td>\n",
       "      <td>...</td>\n",
       "      <td>...</td>\n",
       "      <td>...</td>\n",
       "      <td>...</td>\n",
       "    </tr>\n",
       "    <tr>\n",
       "      <th>481531</th>\n",
       "      <td>0.020904</td>\n",
       "      <td>-0.127285</td>\n",
       "      <td>-0.187012</td>\n",
       "      <td>-0.049272</td>\n",
       "      <td>-0.208518</td>\n",
       "      <td>-0.161087</td>\n",
       "      <td>-0.138193</td>\n",
       "      <td>0.307889</td>\n",
       "      <td>-0.002647</td>\n",
       "      <td>0.284726</td>\n",
       "    </tr>\n",
       "    <tr>\n",
       "      <th>481532</th>\n",
       "      <td>0.755128</td>\n",
       "      <td>0.195054</td>\n",
       "      <td>-0.031146</td>\n",
       "      <td>0.134493</td>\n",
       "      <td>0.367035</td>\n",
       "      <td>0.357453</td>\n",
       "      <td>0.262214</td>\n",
       "      <td>0.550689</td>\n",
       "      <td>0.686998</td>\n",
       "      <td>0.433470</td>\n",
       "    </tr>\n",
       "    <tr>\n",
       "      <th>481533</th>\n",
       "      <td>0.479245</td>\n",
       "      <td>0.451410</td>\n",
       "      <td>0.224684</td>\n",
       "      <td>0.017915</td>\n",
       "      <td>0.448269</td>\n",
       "      <td>0.431976</td>\n",
       "      <td>0.450672</td>\n",
       "      <td>0.387620</td>\n",
       "      <td>0.496711</td>\n",
       "      <td>0.091878</td>\n",
       "    </tr>\n",
       "    <tr>\n",
       "      <th>481534</th>\n",
       "      <td>-0.056658</td>\n",
       "      <td>0.123373</td>\n",
       "      <td>-0.076192</td>\n",
       "      <td>-0.191281</td>\n",
       "      <td>0.032783</td>\n",
       "      <td>0.026130</td>\n",
       "      <td>0.087394</td>\n",
       "      <td>-0.152493</td>\n",
       "      <td>-0.040658</td>\n",
       "      <td>-0.275234</td>\n",
       "    </tr>\n",
       "    <tr>\n",
       "      <th>481535</th>\n",
       "      <td>0.334810</td>\n",
       "      <td>0.245181</td>\n",
       "      <td>0.076781</td>\n",
       "      <td>0.478863</td>\n",
       "      <td>0.116846</td>\n",
       "      <td>0.034774</td>\n",
       "      <td>0.056397</td>\n",
       "      <td>0.174367</td>\n",
       "      <td>0.341207</td>\n",
       "      <td>-0.356850</td>\n",
       "    </tr>\n",
       "  </tbody>\n",
       "</table>\n",
       "<p>481536 rows × 10 columns</p>\n",
       "</div>"
      ],
      "text/plain": [
       "        original     nouns  nouns_del50  random-nouns  nounsverbs  \\\n",
       "0       0.157137  0.087634     0.124145      0.378715    0.166208   \n",
       "1       0.039157  0.391039     0.181035     -0.090973    0.110387   \n",
       "2      -0.165235 -0.394410    -0.355700     -0.525980   -0.161259   \n",
       "3      -0.040554  0.044066    -0.058999     -0.081273   -0.044962   \n",
       "4      -0.348345 -0.206511    -0.136470      0.039779   -0.307872   \n",
       "...          ...       ...          ...           ...         ...   \n",
       "481531  0.020904 -0.127285    -0.187012     -0.049272   -0.208518   \n",
       "481532  0.755128  0.195054    -0.031146      0.134493    0.367035   \n",
       "481533  0.479245  0.451410     0.224684      0.017915    0.448269   \n",
       "481534 -0.056658  0.123373    -0.076192     -0.191281    0.032783   \n",
       "481535  0.334810  0.245181     0.076781      0.478863    0.116846   \n",
       "\n",
       "        nounsverbsadj  contentwords  functionwords  passageshuffle  \\\n",
       "0            0.183235      0.183235      -0.158862        0.372150   \n",
       "1            0.013478      0.013478      -0.011141       -0.160889   \n",
       "2           -0.147288     -0.147288      -0.162715       -0.542245   \n",
       "3           -0.039471     -0.039471      -0.131549        0.070502   \n",
       "4           -0.387656     -0.387656      -0.030751        0.131184   \n",
       "...               ...           ...            ...             ...   \n",
       "481531      -0.161087     -0.138193       0.307889       -0.002647   \n",
       "481532       0.357453      0.262214       0.550689        0.686998   \n",
       "481533       0.431976      0.450672       0.387620        0.496711   \n",
       "481534       0.026130      0.087394      -0.152493       -0.040658   \n",
       "481535       0.034774      0.056397       0.174367        0.341207   \n",
       "\n",
       "        random-sent  \n",
       "0          0.529517  \n",
       "1         -0.361754  \n",
       "2         -0.890810  \n",
       "3          0.021272  \n",
       "4         -0.295929  \n",
       "...             ...  \n",
       "481531     0.284726  \n",
       "481532     0.433470  \n",
       "481533     0.091878  \n",
       "481534    -0.275234  \n",
       "481535    -0.356850  \n",
       "\n",
       "[481536 rows x 10 columns]"
      ]
     },
     "execution_count": 14,
     "metadata": {},
     "output_type": "execute_result"
    }
   ],
   "source": [
    "df = prepare_dataframe_perturb(original,nouns,nouns_del50,random_nouns,nounsverbs,nounsverbsadj,contentwords,functionwords,passageshuffle,random_sent,flatten=True)\n",
    "df"
   ]
  },
  {
   "cell_type": "code",
   "execution_count": 15,
   "id": "e5ec2f7f",
   "metadata": {},
   "outputs": [],
   "source": [
    "def prepare_dataframe_scrambled(original,scrambled1,scrambled3,scrambled5,scrambled7,lowpmi,backward,random_wl,flatten=True):\n",
    "    \n",
    "    if flatten:\n",
    "        df = pd.DataFrame(data={'original':np.asarray(flatten_array(original)).flatten(),\n",
    "                               'scrambled1':np.asarray(flatten_array(scrambled1)).flatten(),\n",
    "                              'scrambled3' :np.asarray(flatten_array(scrambled3)).flatten(),\n",
    "                              'scrambled5' :np.asarray(flatten_array(scrambled5)).flatten(),\n",
    "                              'scrambled7':np.asarray(flatten_array(scrambled7)).flatten(),\n",
    "                              'lowpmi':np.asarray(flatten_array(lowpmi)).flatten(),\n",
    "                              'backward':np.asarray(flatten_array(backward)).flatten(),\n",
    "                              'random-wl':np.asarray(flatten_array(random_wl)).flatten()\n",
    "                               })\n",
    "    if not flatten:\n",
    "        # print(np.shape(np.asarray(flatten_array(random))))\n",
    "        df = {}\n",
    "        df = {'original':flatten_array(original),\n",
    "             'scrambled1':flatten_array(scrambled1),\n",
    "              'scrambled3' : flatten_array(scrambled3),\n",
    "              'scrambled5' : flatten_array(scrambled5),\n",
    "              'scrambled7':flatten_array(scrambled7),\n",
    "              'lowpmi':flatten_array(lowpmi),\n",
    "              'backward':flatten_array(backward),\n",
    "              'random-wl':flatten_array(random_wl)\n",
    "             }\n",
    "    return df"
   ]
  },
  {
   "cell_type": "code",
   "execution_count": 16,
   "id": "2cfd5542",
   "metadata": {},
   "outputs": [],
   "source": [
    "def main_df_for_plotting(model_identifier, scr_perturb=None, layer_identifier=None, flatten=True):\n",
    "    model_dict = get_dictionary(model_identifier, categories_dict, scr_perturb=scr_perturb, layer_identifier=layer_identifier)\n",
    "    if scr_perturb == \"perturb\":\n",
    "        df = prepare_dataframe_perturb(*get_arrays(model_dict,categories_dict,scr_perturb=scr_perturb), flatten=flatten) #*flattens the tuple\n",
    "    elif scr_perturb == \"scrambled\":\n",
    "        df = prepare_dataframe_scrambled(*get_arrays(model_dict,categories_dict,scr_perturb=scr_perturb), flatten=flatten) #*flattens the tuple\n",
    "    return df"
   ]
  },
  {
   "cell_type": "code",
   "execution_count": 17,
   "id": "72f75b43",
   "metadata": {},
   "outputs": [
    {
     "name": "stdout",
     "output_type": "stream",
     "text": [
      "This is the layer I'm looking at:  encoder.h.5\n"
     ]
    },
    {
     "data": {
      "application/vnd.jupyter.widget-view+json": {
       "model_id": "dd3bd147ee52485eaf1996366ab4189b",
       "version_major": 2,
       "version_minor": 0
      },
      "text/plain": [
       "HBox(children=(IntProgress(value=0, max=11425), HTML(value='')))"
      ]
     },
     "metadata": {},
     "output_type": "display_data"
    },
    {
     "name": "stdout",
     "output_type": "stream",
     "text": [
      "\n"
     ]
    },
    {
     "data": {
      "text/html": [
       "<div>\n",
       "<style scoped>\n",
       "    .dataframe tbody tr th:only-of-type {\n",
       "        vertical-align: middle;\n",
       "    }\n",
       "\n",
       "    .dataframe tbody tr th {\n",
       "        vertical-align: top;\n",
       "    }\n",
       "\n",
       "    .dataframe thead th {\n",
       "        text-align: right;\n",
       "    }\n",
       "</style>\n",
       "<table border=\"1\" class=\"dataframe\">\n",
       "  <thead>\n",
       "    <tr style=\"text-align: right;\">\n",
       "      <th></th>\n",
       "      <th>original</th>\n",
       "      <th>nouns</th>\n",
       "      <th>nouns_del50</th>\n",
       "      <th>random-nouns</th>\n",
       "      <th>nounsverbs</th>\n",
       "      <th>nounsverbsadj</th>\n",
       "      <th>contentwords</th>\n",
       "      <th>functionwords</th>\n",
       "      <th>passageshuffle</th>\n",
       "      <th>random-sent</th>\n",
       "    </tr>\n",
       "  </thead>\n",
       "  <tbody>\n",
       "    <tr>\n",
       "      <th>0</th>\n",
       "      <td>0.157137</td>\n",
       "      <td>0.087634</td>\n",
       "      <td>0.124145</td>\n",
       "      <td>0.378715</td>\n",
       "      <td>0.166208</td>\n",
       "      <td>0.183235</td>\n",
       "      <td>0.183235</td>\n",
       "      <td>-0.158862</td>\n",
       "      <td>0.372150</td>\n",
       "      <td>0.529517</td>\n",
       "    </tr>\n",
       "    <tr>\n",
       "      <th>1</th>\n",
       "      <td>0.039157</td>\n",
       "      <td>0.391039</td>\n",
       "      <td>0.181035</td>\n",
       "      <td>-0.090973</td>\n",
       "      <td>0.110387</td>\n",
       "      <td>0.013478</td>\n",
       "      <td>0.013478</td>\n",
       "      <td>-0.011141</td>\n",
       "      <td>-0.160889</td>\n",
       "      <td>-0.361754</td>\n",
       "    </tr>\n",
       "    <tr>\n",
       "      <th>2</th>\n",
       "      <td>-0.165235</td>\n",
       "      <td>-0.394410</td>\n",
       "      <td>-0.355700</td>\n",
       "      <td>-0.525980</td>\n",
       "      <td>-0.161259</td>\n",
       "      <td>-0.147288</td>\n",
       "      <td>-0.147288</td>\n",
       "      <td>-0.162715</td>\n",
       "      <td>-0.542245</td>\n",
       "      <td>-0.890810</td>\n",
       "    </tr>\n",
       "    <tr>\n",
       "      <th>3</th>\n",
       "      <td>-0.040554</td>\n",
       "      <td>0.044066</td>\n",
       "      <td>-0.058999</td>\n",
       "      <td>-0.081273</td>\n",
       "      <td>-0.044962</td>\n",
       "      <td>-0.039471</td>\n",
       "      <td>-0.039471</td>\n",
       "      <td>-0.131549</td>\n",
       "      <td>0.070502</td>\n",
       "      <td>0.021272</td>\n",
       "    </tr>\n",
       "    <tr>\n",
       "      <th>4</th>\n",
       "      <td>-0.348345</td>\n",
       "      <td>-0.206511</td>\n",
       "      <td>-0.136470</td>\n",
       "      <td>0.039779</td>\n",
       "      <td>-0.307872</td>\n",
       "      <td>-0.387656</td>\n",
       "      <td>-0.387656</td>\n",
       "      <td>-0.030751</td>\n",
       "      <td>0.131184</td>\n",
       "      <td>-0.295929</td>\n",
       "    </tr>\n",
       "    <tr>\n",
       "      <th>...</th>\n",
       "      <td>...</td>\n",
       "      <td>...</td>\n",
       "      <td>...</td>\n",
       "      <td>...</td>\n",
       "      <td>...</td>\n",
       "      <td>...</td>\n",
       "      <td>...</td>\n",
       "      <td>...</td>\n",
       "      <td>...</td>\n",
       "      <td>...</td>\n",
       "    </tr>\n",
       "    <tr>\n",
       "      <th>481531</th>\n",
       "      <td>0.020904</td>\n",
       "      <td>-0.127285</td>\n",
       "      <td>-0.187012</td>\n",
       "      <td>-0.049272</td>\n",
       "      <td>-0.208518</td>\n",
       "      <td>-0.161087</td>\n",
       "      <td>-0.138193</td>\n",
       "      <td>0.307889</td>\n",
       "      <td>-0.002647</td>\n",
       "      <td>0.284726</td>\n",
       "    </tr>\n",
       "    <tr>\n",
       "      <th>481532</th>\n",
       "      <td>0.755128</td>\n",
       "      <td>0.195054</td>\n",
       "      <td>-0.031146</td>\n",
       "      <td>0.134493</td>\n",
       "      <td>0.367035</td>\n",
       "      <td>0.357453</td>\n",
       "      <td>0.262214</td>\n",
       "      <td>0.550689</td>\n",
       "      <td>0.686998</td>\n",
       "      <td>0.433470</td>\n",
       "    </tr>\n",
       "    <tr>\n",
       "      <th>481533</th>\n",
       "      <td>0.479245</td>\n",
       "      <td>0.451410</td>\n",
       "      <td>0.224684</td>\n",
       "      <td>0.017915</td>\n",
       "      <td>0.448269</td>\n",
       "      <td>0.431976</td>\n",
       "      <td>0.450672</td>\n",
       "      <td>0.387620</td>\n",
       "      <td>0.496711</td>\n",
       "      <td>0.091878</td>\n",
       "    </tr>\n",
       "    <tr>\n",
       "      <th>481534</th>\n",
       "      <td>-0.056658</td>\n",
       "      <td>0.123373</td>\n",
       "      <td>-0.076192</td>\n",
       "      <td>-0.191281</td>\n",
       "      <td>0.032783</td>\n",
       "      <td>0.026130</td>\n",
       "      <td>0.087394</td>\n",
       "      <td>-0.152493</td>\n",
       "      <td>-0.040658</td>\n",
       "      <td>-0.275234</td>\n",
       "    </tr>\n",
       "    <tr>\n",
       "      <th>481535</th>\n",
       "      <td>0.334810</td>\n",
       "      <td>0.245181</td>\n",
       "      <td>0.076781</td>\n",
       "      <td>0.478863</td>\n",
       "      <td>0.116846</td>\n",
       "      <td>0.034774</td>\n",
       "      <td>0.056397</td>\n",
       "      <td>0.174367</td>\n",
       "      <td>0.341207</td>\n",
       "      <td>-0.356850</td>\n",
       "    </tr>\n",
       "  </tbody>\n",
       "</table>\n",
       "<p>481536 rows × 10 columns</p>\n",
       "</div>"
      ],
      "text/plain": [
       "        original     nouns  nouns_del50  random-nouns  nounsverbs  \\\n",
       "0       0.157137  0.087634     0.124145      0.378715    0.166208   \n",
       "1       0.039157  0.391039     0.181035     -0.090973    0.110387   \n",
       "2      -0.165235 -0.394410    -0.355700     -0.525980   -0.161259   \n",
       "3      -0.040554  0.044066    -0.058999     -0.081273   -0.044962   \n",
       "4      -0.348345 -0.206511    -0.136470      0.039779   -0.307872   \n",
       "...          ...       ...          ...           ...         ...   \n",
       "481531  0.020904 -0.127285    -0.187012     -0.049272   -0.208518   \n",
       "481532  0.755128  0.195054    -0.031146      0.134493    0.367035   \n",
       "481533  0.479245  0.451410     0.224684      0.017915    0.448269   \n",
       "481534 -0.056658  0.123373    -0.076192     -0.191281    0.032783   \n",
       "481535  0.334810  0.245181     0.076781      0.478863    0.116846   \n",
       "\n",
       "        nounsverbsadj  contentwords  functionwords  passageshuffle  \\\n",
       "0            0.183235      0.183235      -0.158862        0.372150   \n",
       "1            0.013478      0.013478      -0.011141       -0.160889   \n",
       "2           -0.147288     -0.147288      -0.162715       -0.542245   \n",
       "3           -0.039471     -0.039471      -0.131549        0.070502   \n",
       "4           -0.387656     -0.387656      -0.030751        0.131184   \n",
       "...               ...           ...            ...             ...   \n",
       "481531      -0.161087     -0.138193       0.307889       -0.002647   \n",
       "481532       0.357453      0.262214       0.550689        0.686998   \n",
       "481533       0.431976      0.450672       0.387620        0.496711   \n",
       "481534       0.026130      0.087394      -0.152493       -0.040658   \n",
       "481535       0.034774      0.056397       0.174367        0.341207   \n",
       "\n",
       "        random-sent  \n",
       "0          0.529517  \n",
       "1         -0.361754  \n",
       "2         -0.890810  \n",
       "3          0.021272  \n",
       "4         -0.295929  \n",
       "...             ...  \n",
       "481531     0.284726  \n",
       "481532     0.433470  \n",
       "481533     0.091878  \n",
       "481534    -0.275234  \n",
       "481535    -0.356850  \n",
       "\n",
       "[481536 rows x 10 columns]"
      ]
     },
     "execution_count": 17,
     "metadata": {},
     "output_type": "execute_result"
    }
   ],
   "source": [
    "#function check\n",
    "df = main_df_for_plotting(\"distilgpt2\", scr_perturb = \"perturb\")\n",
    "df"
   ]
  },
  {
   "cell_type": "code",
   "execution_count": 18,
   "id": "9c199eda",
   "metadata": {},
   "outputs": [],
   "source": [
    "def get_activation_dfs_for_all_layers(model_identifier, categories_dict, scr_perturb=None, flatten=True):\n",
    "    \"\"\"\n",
    "    input: model_identifier, whether to flatten (i.e. all sentence reps in one vector or leave 627*hidden size)\n",
    "    output: dictionary: layer --> dataframe (conditions as column names, column values are flattened or unflattened activations)\n",
    "    \"\"\"\n",
    "    layers = get_all_layers(model_identifier,categories_dict,scr_perturb=scr_perturb)\n",
    "    print(f\"Available layers: {layers}\")\n",
    "    df_dict = {}\n",
    "    for ind,elm in enumerate(layers):\n",
    "        df_dict[elm] = main_df_for_plotting(model_identifier,scr_perturb=scr_perturb,layer_identifier=elm,flatten=flatten)\n",
    "    return df_dict"
   ]
  },
  {
   "cell_type": "code",
   "execution_count": 19,
   "id": "f5c4b9d5",
   "metadata": {},
   "outputs": [],
   "source": [
    "# function check\n",
    "#distilgpt2_correlation_dict = get_activation_dfs_for_all_layers(\"distilgpt2\",categories_dict, scr_perturb=\"perturb\")"
   ]
  },
  {
   "cell_type": "code",
   "execution_count": 20,
   "id": "9a496abe",
   "metadata": {},
   "outputs": [],
   "source": [
    "def get_correlations_df_dict(model_identifier, categories_dict, scr_perturb=None): #maybe pass activations dict as input so it doesn't have to recompute\n",
    "    layers = get_all_layers(model_identifier, categories_dict, scr_perturb=scr_perturb)\n",
    "    activations_dict = get_activation_dfs_for_all_layers(model_identifier, categories_dict, scr_perturb=scr_perturb)\n",
    "    \n",
    "    conditions = list(activations_dict[layers[0]].columns)\n",
    "    \n",
    "    correlations_df_dict = {}\n",
    "    for layer in layers:\n",
    "        orig_column = activations_dict[layer]['original']\n",
    "        correlations = [orig_column.corr(activations_dict[layer][elm]) for elm in conditions]\n",
    "        correlations_df_dict[layer] = correlations\n",
    "    \n",
    "    return layers, conditions, correlations_df_dict"
   ]
  },
  {
   "cell_type": "code",
   "execution_count": 21,
   "id": "3ad6446c",
   "metadata": {},
   "outputs": [],
   "source": [
    "def plot_correlations_lineplot(model_identifier, layers, conditions, correlations_dict,scr_perturb=None):\n",
    "    fig, ax = plt.subplots()\n",
    "    line_colors = sns.color_palette(\"rocket\") + sns.color_palette(\"GnBu_d\") + [sns.color_palette(\"PRGn\", 10)[2]] + [sns.color_palette(\"PuOr\", 10)[0]]\n",
    "    if model_identifier in ['xlnet-large-cased','bert-large-uncased-whole-word-masking']:\n",
    "        line_colors = sns.color_palette(\"rocket\") + sns.color_palette(\"GnBu_d\") + sns.color_palette(\"PRGn\", 10) + sns.color_palette(\"YlOrBr\", 10)\n",
    "    \n",
    "    layers = layers\n",
    "    conditions = conditions\n",
    "    \n",
    "    counter = 0\n",
    "    for key,value in correlations_dict.items():\n",
    "        ax.plot(conditions,value, '-o',color=line_colors[counter])\n",
    "        counter += 1\n",
    "        \n",
    "    if len(model_identifier.split(\"-\")) == 1:\n",
    "        model_identifier += \"-lasttoken\"\n",
    "\n",
    "    ax.set_title(f'{model_identifier} | Layer model activation correlation with model activations for original sentence across conditions')\n",
    "    if not model_identifier in ['xlnet-large-cased', 'albert-xxlarge-v2', 'bert-large-uncased-whole-word-masking']:\n",
    "        ax.legend(layers)\n",
    "    else:\n",
    "        ax.legend(layers, bbox_to_anchor=(1.05, 1), loc='upper left')\n",
    "    ax.yaxis.set_label_text('Pearson p')\n",
    "    ax.legend(layers, bbox_to_anchor=(1.05, 1), loc='upper left')\n",
    "    ax.set_ylim([0, 1])\n",
    "    plt.xticks(rotation= 90)\n",
    "    \n",
    "    if not os.path.isdir(\"fig\"):\n",
    "        os.mkdir(\"fig\")\n",
    "    savename = f'fig/{date.today()}_model-activation-correlation_{model_identifier}_{scr_perturb}.png'\n",
    "    #plt.savefig(savename, bbox_inches='tight', dpi=240)"
   ]
  },
  {
   "cell_type": "code",
   "execution_count": 22,
   "id": "98558c9b",
   "metadata": {},
   "outputs": [
    {
     "name": "stdout",
     "output_type": "stream",
     "text": [
      "Available layers: ['drop', 'encoder.h.0', 'encoder.h.1', 'encoder.h.2', 'encoder.h.3', 'encoder.h.4', 'encoder.h.5']\n",
      "This is the layer I'm looking at:  drop\n"
     ]
    },
    {
     "data": {
      "application/vnd.jupyter.widget-view+json": {
       "model_id": "5679ebe260ea41fc858e098e32aa8aef",
       "version_major": 2,
       "version_minor": 0
      },
      "text/plain": [
       "HBox(children=(IntProgress(value=0, max=11425), HTML(value='')))"
      ]
     },
     "metadata": {},
     "output_type": "display_data"
    },
    {
     "name": "stdout",
     "output_type": "stream",
     "text": [
      "\n",
      "This is the layer I'm looking at:  encoder.h.0\n"
     ]
    },
    {
     "data": {
      "application/vnd.jupyter.widget-view+json": {
       "model_id": "ae736da50ce44a8091e6556ad0a231a6",
       "version_major": 2,
       "version_minor": 0
      },
      "text/plain": [
       "HBox(children=(IntProgress(value=0, max=11425), HTML(value='')))"
      ]
     },
     "metadata": {},
     "output_type": "display_data"
    },
    {
     "name": "stdout",
     "output_type": "stream",
     "text": [
      "\n",
      "This is the layer I'm looking at:  encoder.h.1\n"
     ]
    },
    {
     "data": {
      "application/vnd.jupyter.widget-view+json": {
       "model_id": "0d580397b72a44b5b2b05ccf02092f27",
       "version_major": 2,
       "version_minor": 0
      },
      "text/plain": [
       "HBox(children=(IntProgress(value=0, max=11425), HTML(value='')))"
      ]
     },
     "metadata": {},
     "output_type": "display_data"
    },
    {
     "name": "stdout",
     "output_type": "stream",
     "text": [
      "\n",
      "This is the layer I'm looking at:  encoder.h.2\n"
     ]
    },
    {
     "data": {
      "application/vnd.jupyter.widget-view+json": {
       "model_id": "de52db65889f4d479822e6daf9119799",
       "version_major": 2,
       "version_minor": 0
      },
      "text/plain": [
       "HBox(children=(IntProgress(value=0, max=11425), HTML(value='')))"
      ]
     },
     "metadata": {},
     "output_type": "display_data"
    },
    {
     "name": "stdout",
     "output_type": "stream",
     "text": [
      "\n",
      "This is the layer I'm looking at:  encoder.h.3\n"
     ]
    },
    {
     "data": {
      "application/vnd.jupyter.widget-view+json": {
       "model_id": "21b923a5bfec4fcfb6e6d05dc60287e5",
       "version_major": 2,
       "version_minor": 0
      },
      "text/plain": [
       "HBox(children=(IntProgress(value=0, max=11425), HTML(value='')))"
      ]
     },
     "metadata": {},
     "output_type": "display_data"
    },
    {
     "name": "stdout",
     "output_type": "stream",
     "text": [
      "\n",
      "This is the layer I'm looking at:  encoder.h.4\n"
     ]
    },
    {
     "data": {
      "application/vnd.jupyter.widget-view+json": {
       "model_id": "5527e2d701044e6f8f8646b495c88ba1",
       "version_major": 2,
       "version_minor": 0
      },
      "text/plain": [
       "HBox(children=(IntProgress(value=0, max=11425), HTML(value='')))"
      ]
     },
     "metadata": {},
     "output_type": "display_data"
    },
    {
     "name": "stdout",
     "output_type": "stream",
     "text": [
      "\n",
      "This is the layer I'm looking at:  encoder.h.5\n"
     ]
    },
    {
     "data": {
      "application/vnd.jupyter.widget-view+json": {
       "model_id": "712835cafab84182bdccca48493aa950",
       "version_major": 2,
       "version_minor": 0
      },
      "text/plain": [
       "HBox(children=(IntProgress(value=0, max=11425), HTML(value='')))"
      ]
     },
     "metadata": {},
     "output_type": "display_data"
    },
    {
     "name": "stdout",
     "output_type": "stream",
     "text": [
      "\n"
     ]
    },
    {
     "data": {
      "image/png": "[encoded data removed]",
      "text/plain": [
       "<Figure size 432x288 with 1 Axes>"
      ]
     },
     "metadata": {
      "needs_background": "light"
     },
     "output_type": "display_data"
    }
   ],
   "source": [
    "distilgpt2_avg_layers, distilgpt2_avg_conditions, distilgpt2_avg_corr_dict = get_correlations_df_dict(\"distilgpt2-avgtoken\",categories_dict, scr_perturb=\"perturb\")\n",
    "plot_correlations_lineplot(\"distilgpt2-avgtoken\", distilgpt2_avg_layers, distilgpt2_avg_conditions, distilgpt2_avg_corr_dict,scr_perturb=\"perturb\")"
   ]
  },
  {
   "cell_type": "markdown",
   "id": "84d658b3",
   "metadata": {},
   "source": [
    "# Loop over models"
   ]
  },
  {
   "cell_type": "code",
   "execution_count": 23,
   "id": "cef1050a",
   "metadata": {},
   "outputs": [],
   "source": [
    "import math\n",
    "from matplotlib.gridspec import GridSpec\n",
    "\n",
    "def get_corr_lineplots_loop(model_list, scr_perturb=None):\n",
    "    nsubplots = len(model_list)\n",
    "    nrows = math.ceil(nsubplots/2)\n",
    "    #line_colors = sns.color_palette(\"rocket\") + [sns.color_palette(\"PRGn\", 10)[2]] + [sns.color_palette(\"PuOr\", 10)[0]] + sns.color_palette(\"GnBu_d\")\n",
    "    #line_colors = sns.color_palette(\"rocket\") + sns.color_palette(\"GnBu_d\") + [sns.color_palette(\"PRGn\", 10)[2]] + [sns.color_palette(\"PuOr\", 10)[0]]\n",
    "    #if model_identifier in ['xlnet-large-cased','bert-large-uncased-whole-word-masking']:\n",
    "    #    line_colors = sns.color_palette(\"rocket\") + sns.color_palette(\"GnBu_d\") + sns.color_palette(\"PRGn\", 10) + sns.color_palette(\"YlOrBr\", 10)\n",
    "    \n",
    "    \n",
    "    fig2 = plt.figure(constrained_layout=True, figsize=(15, 5*nrows))\n",
    "    fig2.suptitle(f'Layer model activation correlation with model activations for unperturbed sentence across conditions | {scr_perturb}', fontsize=22, y=1.05)\n",
    "    spec2 = GridSpec(ncols=2, nrows=nrows, figure=fig2)\n",
    "    f2_ax = []\n",
    "    \n",
    "    model_counter = 0\n",
    "    for i in range(nrows):\n",
    "        for j in range(2):\n",
    "            if model_counter + 1 > nsubplots:\n",
    "                break\n",
    "            else:\n",
    "                model_identifier = model_list[model_counter]\n",
    "                line_colors = sns.color_palette(\"rocket\") + sns.color_palette(\"GnBu_d\") + [sns.color_palette(\"PRGn\", 10)[2]] + [sns.color_palette(\"PuOr\", 10)[0]]\n",
    "                if model_identifier in ['xlnet-large-cased','bert-large-uncased-whole-word-masking']:\n",
    "                    line_colors = sns.color_palette(\"rocket\") + sns.color_palette(\"GnBu_d\") + sns.color_palette(\"PRGn\", 10) + sns.color_palette(\"YlOrBr\", 10)\n",
    "                layers, conditions, correlations_df_dict = get_correlations_df_dict(model_identifier,categories_dict, scr_perturb=\"perturb\")\n",
    "                f2_ax.append(fig2.add_subplot(spec2[i, j]))\n",
    "                \n",
    "                counter = 0\n",
    "                for key,value in correlations_df_dict.items():\n",
    "                    f2_ax[-1].plot(conditions,value, '-o',color=line_colors[counter])\n",
    "                    counter += 1\n",
    "                if len(model_identifier.split(\"-\")) == 1:\n",
    "                    model_identifier = model_identifier + \"-lasttoken\"\n",
    "                f2_ax[-1].set_title(f'{model_identifier}',fontsize=18)\n",
    "                f2_ax[-1].yaxis.set_label_text('Pearson p')\n",
    "                #shorten names for legend\n",
    "                if model_identifier == 'lm_1b':\n",
    "                    layers = [layer.split('/')[1] for layer in layers]\n",
    "                if 'albert' in model_identifier:\n",
    "                    layers = [re.sub('.albert_layer_groups.','.h.', layer) for layer in layers]\n",
    "                if model_identifier == 'bert-large-uncased-whole-word-masking':\n",
    "                    layers = ['.'.join(layer.split('.')[:-1]) if '.' in layer else layer for layer in layers]\n",
    "                f2_ax[-1].legend(layers, bbox_to_anchor=(1.05, 1), loc='upper left')\n",
    "                f2_ax[-1].set_ylim([0, 1])\n",
    "                plt.xticks(rotation= 90)\n",
    "                model_counter += 1\n",
    "    fig2.savefig(f'fig/{date.today()}_activations-layer-comparison_loop_{scr_perturb}.png', bbox_inches='tight', dpi=240)"
   ]
  },
  {
   "cell_type": "code",
   "execution_count": null,
   "id": "86cd671e",
   "metadata": {},
   "outputs": [
    {
     "name": "stdout",
     "output_type": "stream",
     "text": [
      "Available layers: ['drop', 'encoder.h.0', 'encoder.h.1', 'encoder.h.2', 'encoder.h.3', 'encoder.h.4', 'encoder.h.5']\n",
      "This is the layer I'm looking at:  drop\n"
     ]
    },
    {
     "data": {
      "application/vnd.jupyter.widget-view+json": {
       "model_id": "c25cdc81748a45118022b0e63c2e2d6e",
       "version_major": 2,
       "version_minor": 0
      },
      "text/plain": [
       "HBox(children=(IntProgress(value=0, max=11425), HTML(value='')))"
      ]
     },
     "metadata": {},
     "output_type": "display_data"
    },
    {
     "name": "stdout",
     "output_type": "stream",
     "text": [
      "\n",
      "This is the layer I'm looking at:  encoder.h.0\n"
     ]
    },
    {
     "data": {
      "application/vnd.jupyter.widget-view+json": {
       "model_id": "7f236462b2224412b303845e9754fb7e",
       "version_major": 2,
       "version_minor": 0
      },
      "text/plain": [
       "HBox(children=(IntProgress(value=0, max=11425), HTML(value='')))"
      ]
     },
     "metadata": {},
     "output_type": "display_data"
    },
    {
     "name": "stdout",
     "output_type": "stream",
     "text": [
      "\n",
      "This is the layer I'm looking at:  encoder.h.1\n"
     ]
    },
    {
     "data": {
      "application/vnd.jupyter.widget-view+json": {
       "model_id": "f1a0535ef330495fae8606418372a0b8",
       "version_major": 2,
       "version_minor": 0
      },
      "text/plain": [
       "HBox(children=(IntProgress(value=0, max=11425), HTML(value='')))"
      ]
     },
     "metadata": {},
     "output_type": "display_data"
    },
    {
     "name": "stdout",
     "output_type": "stream",
     "text": [
      "\n",
      "This is the layer I'm looking at:  encoder.h.2\n"
     ]
    },
    {
     "data": {
      "application/vnd.jupyter.widget-view+json": {
       "model_id": "7f11fbbcc8cd41a5b046863ee873620a",
       "version_major": 2,
       "version_minor": 0
      },
      "text/plain": [
       "HBox(children=(IntProgress(value=0, max=11425), HTML(value='')))"
      ]
     },
     "metadata": {},
     "output_type": "display_data"
    },
    {
     "name": "stdout",
     "output_type": "stream",
     "text": [
      "\n",
      "This is the layer I'm looking at:  encoder.h.3\n"
     ]
    },
    {
     "data": {
      "application/vnd.jupyter.widget-view+json": {
       "model_id": "66e5b417b17c4713a315b040389d2efc",
       "version_major": 2,
       "version_minor": 0
      },
      "text/plain": [
       "HBox(children=(IntProgress(value=0, max=11425), HTML(value='')))"
      ]
     },
     "metadata": {},
     "output_type": "display_data"
    },
    {
     "name": "stdout",
     "output_type": "stream",
     "text": [
      "\n",
      "This is the layer I'm looking at:  encoder.h.4\n"
     ]
    },
    {
     "data": {
      "application/vnd.jupyter.widget-view+json": {
       "model_id": "9c68c0c29cbc42aebd51fd764416d2e2",
       "version_major": 2,
       "version_minor": 0
      },
      "text/plain": [
       "HBox(children=(IntProgress(value=0, max=11425), HTML(value='')))"
      ]
     },
     "metadata": {},
     "output_type": "display_data"
    },
    {
     "name": "stdout",
     "output_type": "stream",
     "text": [
      "\n",
      "This is the layer I'm looking at:  encoder.h.5\n"
     ]
    },
    {
     "data": {
      "application/vnd.jupyter.widget-view+json": {
       "model_id": "a8106803f7be4495af4a426fb85409e6",
       "version_major": 2,
       "version_minor": 0
      },
      "text/plain": [
       "HBox(children=(IntProgress(value=0, max=11425), HTML(value='')))"
      ]
     },
     "metadata": {},
     "output_type": "display_data"
    },
    {
     "name": "stdout",
     "output_type": "stream",
     "text": [
      "\n",
      "Available layers: ['drop', 'encoder.h.0', 'encoder.h.1', 'encoder.h.2', 'encoder.h.3', 'encoder.h.4', 'encoder.h.5']\n",
      "This is the layer I'm looking at:  drop\n"
     ]
    },
    {
     "data": {
      "application/vnd.jupyter.widget-view+json": {
       "model_id": "a509de61ded34a28b559da3281a041c2",
       "version_major": 2,
       "version_minor": 0
      },
      "text/plain": [
       "HBox(children=(IntProgress(value=0, max=11425), HTML(value='')))"
      ]
     },
     "metadata": {},
     "output_type": "display_data"
    },
    {
     "name": "stdout",
     "output_type": "stream",
     "text": [
      "\n",
      "This is the layer I'm looking at:  encoder.h.0\n"
     ]
    },
    {
     "data": {
      "application/vnd.jupyter.widget-view+json": {
       "model_id": "4381b85cb8c14a12b06a25c94753444a",
       "version_major": 2,
       "version_minor": 0
      },
      "text/plain": [
       "HBox(children=(IntProgress(value=0, max=11425), HTML(value='')))"
      ]
     },
     "metadata": {},
     "output_type": "display_data"
    },
    {
     "name": "stdout",
     "output_type": "stream",
     "text": [
      "\n",
      "This is the layer I'm looking at:  encoder.h.1\n"
     ]
    },
    {
     "data": {
      "application/vnd.jupyter.widget-view+json": {
       "model_id": "0ce8d9b7afcb41949cfa4416f400cd4c",
       "version_major": 2,
       "version_minor": 0
      },
      "text/plain": [
       "HBox(children=(IntProgress(value=0, max=11425), HTML(value='')))"
      ]
     },
     "metadata": {},
     "output_type": "display_data"
    },
    {
     "name": "stdout",
     "output_type": "stream",
     "text": [
      "\n",
      "This is the layer I'm looking at:  encoder.h.2\n"
     ]
    },
    {
     "data": {
      "application/vnd.jupyter.widget-view+json": {
       "model_id": "d7c79b8d86a749fc901e61f25044de02",
       "version_major": 2,
       "version_minor": 0
      },
      "text/plain": [
       "HBox(children=(IntProgress(value=0, max=11425), HTML(value='')))"
      ]
     },
     "metadata": {},
     "output_type": "display_data"
    },
    {
     "name": "stdout",
     "output_type": "stream",
     "text": [
      "\n",
      "This is the layer I'm looking at:  encoder.h.3\n"
     ]
    },
    {
     "data": {
      "application/vnd.jupyter.widget-view+json": {
       "model_id": "91d643a39570420d81619eabbddf0c00",
       "version_major": 2,
       "version_minor": 0
      },
      "text/plain": [
       "HBox(children=(IntProgress(value=0, max=11425), HTML(value='')))"
      ]
     },
     "metadata": {},
     "output_type": "display_data"
    },
    {
     "name": "stdout",
     "output_type": "stream",
     "text": [
      "\n",
      "This is the layer I'm looking at:  encoder.h.4\n"
     ]
    },
    {
     "data": {
      "application/vnd.jupyter.widget-view+json": {
       "model_id": "f7e4e8bd885e4241aea164c8ef23b5c3",
       "version_major": 2,
       "version_minor": 0
      },
      "text/plain": [
       "HBox(children=(IntProgress(value=0, max=11425), HTML(value='')))"
      ]
     },
     "metadata": {},
     "output_type": "display_data"
    },
    {
     "name": "stdout",
     "output_type": "stream",
     "text": [
      "\n",
      "This is the layer I'm looking at:  encoder.h.5\n"
     ]
    },
    {
     "data": {
      "application/vnd.jupyter.widget-view+json": {
       "model_id": "4580bd8610fe488ba61df03132ab9753",
       "version_major": 2,
       "version_minor": 0
      },
      "text/plain": [
       "HBox(children=(IntProgress(value=0, max=11425), HTML(value='')))"
      ]
     },
     "metadata": {},
     "output_type": "display_data"
    },
    {
     "name": "stdout",
     "output_type": "stream",
     "text": [
      "\n",
      "Available layers: ['drop', 'encoder.h.0', 'encoder.h.1', 'encoder.h.2', 'encoder.h.3', 'encoder.h.4', 'encoder.h.5', 'encoder.h.6', 'encoder.h.7', 'encoder.h.8', 'encoder.h.9', 'encoder.h.10', 'encoder.h.11']\n",
      "This is the layer I'm looking at:  drop\n"
     ]
    },
    {
     "data": {
      "application/vnd.jupyter.widget-view+json": {
       "model_id": "6fb60ccd6ab24fa3a30a62e4564f8624",
       "version_major": 2,
       "version_minor": 0
      },
      "text/plain": [
       "HBox(children=(IntProgress(value=0, max=11425), HTML(value='')))"
      ]
     },
     "metadata": {},
     "output_type": "display_data"
    },
    {
     "name": "stdout",
     "output_type": "stream",
     "text": [
      "\n",
      "This is the layer I'm looking at:  encoder.h.0\n"
     ]
    },
    {
     "data": {
      "application/vnd.jupyter.widget-view+json": {
       "model_id": "8dce7afff5814f3c9ce7973046909f03",
       "version_major": 2,
       "version_minor": 0
      },
      "text/plain": [
       "HBox(children=(IntProgress(value=0, max=11425), HTML(value='')))"
      ]
     },
     "metadata": {},
     "output_type": "display_data"
    },
    {
     "name": "stdout",
     "output_type": "stream",
     "text": [
      "\n",
      "This is the layer I'm looking at:  encoder.h.1\n"
     ]
    },
    {
     "data": {
      "application/vnd.jupyter.widget-view+json": {
       "model_id": "3fd2bc0750dc41aebcfce10085742c12",
       "version_major": 2,
       "version_minor": 0
      },
      "text/plain": [
       "HBox(children=(IntProgress(value=0, max=11425), HTML(value='')))"
      ]
     },
     "metadata": {},
     "output_type": "display_data"
    },
    {
     "name": "stdout",
     "output_type": "stream",
     "text": [
      "\n",
      "This is the layer I'm looking at:  encoder.h.2\n"
     ]
    },
    {
     "data": {
      "application/vnd.jupyter.widget-view+json": {
       "model_id": "818e6668ddbc47bdbe8653d8e7dc6846",
       "version_major": 2,
       "version_minor": 0
      },
      "text/plain": [
       "HBox(children=(IntProgress(value=0, max=11425), HTML(value='')))"
      ]
     },
     "metadata": {},
     "output_type": "display_data"
    },
    {
     "name": "stdout",
     "output_type": "stream",
     "text": [
      "\n",
      "This is the layer I'm looking at:  encoder.h.3\n"
     ]
    },
    {
     "data": {
      "application/vnd.jupyter.widget-view+json": {
       "model_id": "bc910fc3cd3844e0b3b5ef0874099e9f",
       "version_major": 2,
       "version_minor": 0
      },
      "text/plain": [
       "HBox(children=(IntProgress(value=0, max=11425), HTML(value='')))"
      ]
     },
     "metadata": {},
     "output_type": "display_data"
    },
    {
     "name": "stdout",
     "output_type": "stream",
     "text": [
      "\n",
      "This is the layer I'm looking at:  encoder.h.4\n"
     ]
    },
    {
     "data": {
      "application/vnd.jupyter.widget-view+json": {
       "model_id": "6f3ecf814a734bfd9dd2f4a5db785da8",
       "version_major": 2,
       "version_minor": 0
      },
      "text/plain": [
       "HBox(children=(IntProgress(value=0, max=11425), HTML(value='')))"
      ]
     },
     "metadata": {},
     "output_type": "display_data"
    },
    {
     "name": "stdout",
     "output_type": "stream",
     "text": [
      "\n",
      "This is the layer I'm looking at:  encoder.h.5\n"
     ]
    },
    {
     "data": {
      "application/vnd.jupyter.widget-view+json": {
       "model_id": "e64dba14d1464f60be7a6d3edb27b513",
       "version_major": 2,
       "version_minor": 0
      },
      "text/plain": [
       "HBox(children=(IntProgress(value=0, max=11425), HTML(value='')))"
      ]
     },
     "metadata": {},
     "output_type": "display_data"
    }
   ],
   "source": [
    "get_corr_lineplots_loop([\"distilgpt2\", \"distilgpt2-avgtoken\", \"gpt2\", \"gpt2-avgtoken\"], scr_perturb=\"perturb\")"
   ]
  },
  {
   "cell_type": "code",
   "execution_count": null,
   "id": "a38f342c",
   "metadata": {},
   "outputs": [],
   "source": [
    "get_corr_lineplots_loop([\"distilgpt2\", \"distilgpt2-avgtoken\", \"gpt2\", \"gpt2-avgtoken\"], scr_perturb=\"scrambled\")"
   ]
  },
  {
   "cell_type": "code",
   "execution_count": null,
   "id": "64adba91",
   "metadata": {},
   "outputs": [],
   "source": []
  }
 ],
 "metadata": {
  "kernelspec": {
   "display_name": "Python 3",
   "language": "python",
   "name": "python3"
  },
  "language_info": {
   "codemirror_mode": {
    "name": "ipython",
    "version": 3
   },
   "file_extension": ".py",
   "mimetype": "text/x-python",
   "name": "python",
   "nbconvert_exporter": "python",
   "pygments_lexer": "ipython3",
   "version": "3.6.2"
  }
 },
 "nbformat": 4,
 "nbformat_minor": 5
}
