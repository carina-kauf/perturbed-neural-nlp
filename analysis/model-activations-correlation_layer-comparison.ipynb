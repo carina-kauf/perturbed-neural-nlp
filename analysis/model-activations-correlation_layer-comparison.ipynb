{
 "cells": [
  {
   "cell_type": "code",
   "execution_count": 1,
   "id": "10776e3d",
   "metadata": {},
   "outputs": [],
   "source": [
    "import os\n",
    "import re\n",
    "import pickle\n",
    "import numpy as np\n",
    "import pandas as pd\n",
    "from tqdm.notebook import tqdm\n",
    "import seaborn as sns\n",
    "import matplotlib.pyplot as plt\n",
    "from datetime import date"
   ]
  },
  {
   "cell_type": "code",
   "execution_count": 2,
   "id": "5ff9a035",
   "metadata": {},
   "outputs": [],
   "source": [
    "working_dir = \"/om2/user/ckauf/.result_caching/neural_nlp.models.wrapper.core.ActivationsExtractorHelper._from_sentences_stored\""
   ]
  },
  {
   "cell_type": "code",
   "execution_count": 3,
   "id": "db2f26a8",
   "metadata": {},
   "outputs": [],
   "source": [
    "#random low-pmi condition missing\n",
    "categories_perturb = ['original', 'nouns', 'random-nouns', 'nounsverbs', 'nounsverbsadj', 'contentwords', 'functionwords', 'passageshuffle','randomsentenceshuffle']\n",
    "categories_scrambled = ['original', 'Scr1', 'Scr3', 'Scr5', 'Scr7', 'lowPMI', 'backward', 'random-wl']#, random-lowpmi]\n",
    "\n",
    "categories = [categories_perturb, categories_scrambled]\n",
    "keys = [\"perturb\", \"scrambled\"]\n",
    "\n",
    "categories_dict = dict(zip(keys, categories))"
   ]
  },
  {
   "cell_type": "code",
   "execution_count": 4,
   "id": "6afc2c3d",
   "metadata": {},
   "outputs": [],
   "source": [
    "def get_last_layer(model_identifier,categories_dict,scr_perturb=None):\n",
    "    \"\"\"\n",
    "    input: model_identifier of model of which we want to find the last layer\n",
    "    output: last layer identifier\n",
    "    \"\"\"\n",
    "    for ind,filename in enumerate(os.listdir(working_dir)):\n",
    "        model_name = filename.split(\",\")[0]\n",
    "        if \"identifier=\" + model_identifier == model_name:\n",
    "            if any(substring in filename for substring in categories_dict[scr_perturb]):\n",
    "                file = os.path.join(working_dir,filename)\n",
    "                with open(file, 'rb') as f:\n",
    "                    result = pickle.load(f)\n",
    "                result = result['data']\n",
    "                layer_list = np.unique(result.layer)\n",
    "                #order double-digit layers at end of list\n",
    "                double_digits = []\n",
    "                if model_identifier in ['distilgpt2','gpt2']:\n",
    "                    double_digits = [elm for elm in layer_list if 'encoder.h.' in elm and len(elm.split('.h.')[-1]) > 1]\n",
    "                if model_identifier == 'albert-xxlarge-v2':\n",
    "                    double_digits = [elm for elm in layer_list if 'encoder.albert_layer_groups.' in elm and len(elm.split('.albert_layer_groups.')[-1]) > 1]\n",
    "                if model_identifier == 'xlnet-large-cased':\n",
    "                    double_digits = [elm for elm in layer_list if 'encoder.layer.' in elm and len(elm.split('.layer.')[-1]) > 1]\n",
    "                layers = [e for e in layer_list if e not in double_digits] + double_digits\n",
    "                final_layer = layers[-1]\n",
    "                return final_layer\n",
    "                break"
   ]
  },
  {
   "cell_type": "code",
   "execution_count": 5,
   "id": "1adc2f96",
   "metadata": {},
   "outputs": [],
   "source": [
    "def get_all_layers(model_identifier,categories_dict,scr_perturb=None):\n",
    "    \"\"\"\n",
    "    input: model_identifier of model of which we want to find the layers\n",
    "    output: np.array of all unique layer identifiers, ordered by position\n",
    "    \"\"\"\n",
    "    for ind,filename in enumerate(os.listdir(working_dir)):\n",
    "        if \"identifier=\" + model_identifier in filename:\n",
    "            #print(filename)\n",
    "            if any(substring in filename for substring in categories_dict[scr_perturb]):\n",
    "                file = os.path.join(working_dir,filename)\n",
    "                with open(file, 'rb') as f:\n",
    "                    result = pickle.load(f)\n",
    "                result = result['data']\n",
    "                layer_list = np.unique(result.layer)\n",
    "                #order double-digit layers at end of list\n",
    "                double_digits = []\n",
    "                if model_identifier in ['gpt2','distilgpt2']:\n",
    "                    double_digits = [elm for elm in layer_list if 'encoder.h.' in elm and len(elm.split('.h.')[-1]) > 1]\n",
    "                if model_identifier == 'albert-xxlarge-v2':\n",
    "                    double_digits = [elm for elm in layer_list if 'encoder.albert_layer_groups.' in elm and len(elm.split('.albert_layer_groups.')[-1]) > 1]\n",
    "                if model_identifier == 'xlnet-large-cased':\n",
    "                    double_digits = [elm for elm in layer_list if 'encoder.layer.' in elm and len(elm.split('.layer.')[-1]) > 1]\n",
    "                if model_identifier == 'bert-large-uncased-whole-word-masking':\n",
    "                    double_digits = [elm for elm in layer_list if '.layer.' in elm and len(elm.split('.layer.')[-1].split('.')[0]) > 1]\n",
    "                layers = [e for e in layer_list if e not in double_digits] + double_digits\n",
    "                return layers\n",
    "                break"
   ]
  },
  {
   "cell_type": "code",
   "execution_count": 6,
   "id": "a8bf33f9",
   "metadata": {},
   "outputs": [],
   "source": [
    "def get_passage_identifier(filename):\n",
    "    \"\"\"\n",
    "    get passage identifier to be used as key for the dictionary.\n",
    "    important step: fill the identifier with 0s for single-digit passage numbers\n",
    "    \"\"\"\n",
    "    passage = filename.split(\"-\")[-1].split(\".\")[0]\n",
    "    number = passage.split(\"sentences\")[-1]\n",
    "    if len(number) == 1:\n",
    "        passage_identifier = passage[:-1] + number.zfill(2)\n",
    "    else:\n",
    "        passage_identifier = passage\n",
    "    return passage_identifier"
   ]
  },
  {
   "cell_type": "code",
   "execution_count": 7,
   "id": "7663816e",
   "metadata": {},
   "outputs": [],
   "source": [
    "def get_dictionary(model_identifier,categories_dict,scr_perturb=None,layer_identifier=None):\n",
    "    \"\"\"\n",
    "    input: model identifier\n",
    "    output: populated model dictionary with data of just the selected layer\n",
    "    dictionary structure: passage_identifier --> condition identifier --> data\n",
    "    \"\"\"\n",
    "    \n",
    "    model_dictionary = model_identifier + \"_dict\"\n",
    "    model_dictionary = {}\n",
    "    \n",
    "    #look at last layer by default\n",
    "    if layer_identifier == None:\n",
    "        layer_identifier = get_last_layer(model_identifier,categories_dict,scr_perturb=scr_perturb)\n",
    "    else:\n",
    "        layer_identifier = layer_identifier\n",
    "    print(\"This is the layer I'm looking at: \", layer_identifier)\n",
    "    \n",
    "    for filename in tqdm(os.listdir(working_dir)):\n",
    "        model_name = filename.split(\",\")[0]\n",
    "        if (\"identifier=\" + model_identifier == model_name):\n",
    "            if (any(substring in filename for substring in categories_dict[scr_perturb])) or (\"Original\" in filename):\n",
    "                if \"nouns-delete50percent\" in filename:\n",
    "                    continue\n",
    "                passage_identifier = get_passage_identifier(filename)\n",
    "\n",
    "                condition = filename.split(\"Pereira2018\")[1]\n",
    "                if \"avgtoken\" in model_identifier:\n",
    "                    condition = condition.split(\"avgtoken\")[0]\n",
    "                else:\n",
    "                    condition = condition.split(\"lasttoken\")[0]\n",
    "                condition = condition.lstrip(\"-\").rstrip(\"-\")\n",
    "                #print(condition)\n",
    "\n",
    "                file = os.path.join(working_dir,filename)\n",
    "                with open(file, 'rb') as f:\n",
    "                    out = pickle.load(f)\n",
    "                result = out['data']\n",
    "                data = result[{\"neuroid\": [layer == layer_identifier for layer in result[\"layer\"].values]}]\n",
    "\n",
    "                if not passage_identifier in model_dictionary:\n",
    "                    model_dictionary[passage_identifier] = {}\n",
    "                model_dictionary[passage_identifier][condition] = data\n",
    "    \n",
    "    return model_dictionary"
   ]
  },
  {
   "cell_type": "code",
   "execution_count": 8,
   "id": "7a45fced",
   "metadata": {},
   "outputs": [
    {
     "name": "stdout",
     "output_type": "stream",
     "text": [
      "This is the layer I'm looking at:  encoder.h.5\n"
     ]
    },
    {
     "data": {
      "application/vnd.jupyter.widget-view+json": {
       "model_id": "dc556ae7829a487c88dd2d88ec938e7b",
       "version_major": 2,
       "version_minor": 0
      },
      "text/plain": [
       "HBox(children=(IntProgress(value=0, max=11425), HTML(value='')))"
      ]
     },
     "metadata": {},
     "output_type": "display_data"
    },
    {
     "name": "stdout",
     "output_type": "stream",
     "text": [
      "\n"
     ]
    },
    {
     "data": {
      "text/plain": [
       "dict_keys(['Original', 'contentwords', 'functionwords', 'nouns', 'nounsverbs', 'nounsverbsadj', 'passageshuffle', 'random-nouns', 'randomsentenceshuffle'])"
      ]
     },
     "execution_count": 8,
     "metadata": {},
     "output_type": "execute_result"
    }
   ],
   "source": [
    "model_dictionary = get_dictionary(\"distilgpt2\",categories_dict,scr_perturb=\"perturb\",layer_identifier=None)\n",
    "model_dictionary['243sentences01'].keys()"
   ]
  },
  {
   "cell_type": "code",
   "execution_count": 9,
   "id": "e2586a07",
   "metadata": {},
   "outputs": [],
   "source": [
    "def get_arrays(dictionary,categories_dict,scr_perturb=None):\n",
    "    #sort dictionary by passage identifier\n",
    "    sorted_dict = dict(sorted(dictionary.items()))\n",
    "    #create empty arrays\n",
    "    \n",
    "    if scr_perturb == \"scrambled\":\n",
    "        original, scrambled1, scrambled3, scrambled5, scrambled7, lowpmi, backward, random_wl = ([] for i in range(len(categories_dict[scr_perturb])))\n",
    "        for key, value in sorted_dict.items(): #key is passage, value is dic from cond to xarray data\n",
    "            #print(list(value.keys()))\n",
    "            original.append(value['Original'].values)\n",
    "            scrambled1.append(value['Scr1'].values)\n",
    "            scrambled3.append(value['Scr3'].values)\n",
    "            scrambled5.append(value['Scr5'].values)\n",
    "            scrambled7.append(value['Scr7'].values)\n",
    "            lowpmi.append(value['lowPMI'].values)\n",
    "            backward.append(value['backward'].values)\n",
    "            random_wl.append(value['random-wl'].values)\n",
    "        \n",
    "        return original,scrambled1,scrambled3,scrambled5,scrambled7,lowpmi,backward,random_wl\n",
    "            \n",
    "    elif scr_perturb == \"perturb\":\n",
    "        original,nouns,random_nouns,nounsverbs,nounsverbsadj,contentwords,functionwords,passageshuffle,random_sent = ([] for i in range(len(categories_dict[scr_perturb])))\n",
    "        #\n",
    "        for key, value in sorted_dict.items(): #key is passage, value is dic from cond to xarray data\n",
    "            #print(list(value.keys()))\n",
    "            original.append(value['Original'].values)\n",
    "            nouns.append(value['nouns'].values)\n",
    "            random_nouns.append(value['random-nouns'].values)\n",
    "            nounsverbs.append(value['nounsverbs'].values)\n",
    "            nounsverbsadj.append(value['nounsverbsadj'].values)\n",
    "            contentwords.append(value['contentwords'].values)\n",
    "            functionwords.append(value['functionwords'].values)\n",
    "            passageshuffle.append(value['passageshuffle'].values)\n",
    "            random_sent.append(value['randomsentenceshuffle'].values)\n",
    "        \n",
    "        #print(np.shape(original))\n",
    "        #print(np.shape(original[0]))\n",
    "        return original,nouns,random_nouns,nounsverbs,nounsverbsadj,contentwords,functionwords,passageshuffle,random_sent"
   ]
  },
  {
   "cell_type": "code",
   "execution_count": 10,
   "id": "e210c904",
   "metadata": {},
   "outputs": [],
   "source": [
    "original,nouns,random_nouns,nounsverbs,nounsverbsadj,contentwords,functionwords,passageshuffle,random_sent = get_arrays(model_dictionary,categories_dict,scr_perturb=\"perturb\") "
   ]
  },
  {
   "cell_type": "code",
   "execution_count": 11,
   "id": "ee272f39",
   "metadata": {},
   "outputs": [],
   "source": [
    "def flatten_array(liste):\n",
    "    liste_flatten = [item for sublist in liste for item in sublist]\n",
    "    return liste_flatten"
   ]
  },
  {
   "cell_type": "code",
   "execution_count": 12,
   "id": "4c12cb06",
   "metadata": {},
   "outputs": [],
   "source": [
    "#def prepare_dataframe(original,scr1,scr3,scr5,scr7,lowpmi,backward,random,flatten=True):\n",
    "def prepare_dataframe_perturb(original,nouns,random_nouns,nounsverbs,nounsverbsadj,contentwords,functionwords,passageshuffle,random_sent,flatten=True):\n",
    "    \n",
    "    if flatten:\n",
    "        df = pd.DataFrame(data={'original':np.asarray(flatten_array(original)).flatten(),\n",
    "                               'nouns':np.asarray(flatten_array(nouns)).flatten(),\n",
    "                              'random-nouns' :np.asarray(flatten_array(random_nouns)).flatten(),\n",
    "                              'nounsverbs':np.asarray(flatten_array(nounsverbs)).flatten(),\n",
    "                              'nounsverbsadj':np.asarray(flatten_array(nounsverbsadj)).flatten(),\n",
    "                              'contentwords':np.asarray(flatten_array(contentwords)).flatten(),\n",
    "                              'functionwords':np.asarray(flatten_array(functionwords)).flatten(),\n",
    "                               'passageshuffle': np.asarray(flatten_array(passageshuffle)).flatten(),\n",
    "                               'random-sent' : np.asarray(flatten_array(random_sent)).flatten()\n",
    "                               })\n",
    "    if not flatten:\n",
    "        # print(np.shape(np.asarray(flatten_array(random))))\n",
    "        df = {}\n",
    "        df = {'original':flatten_array(original),\n",
    "             'nouns':flatten_array(nouns),\n",
    "              'random-nouns' : flatten_array(random_nouns),\n",
    "              'nounsverbs':flatten_array(nounsverbs),\n",
    "              'nounsverbsadj':flatten_array(nounsverbsadj),\n",
    "              'contentwords':flatten_array(contentwords),\n",
    "              'functionwords':flatten_array(functionwords),\n",
    "              'passageshuffle':flatten_array(passageshuffle),\n",
    "              'random-sent': flatten_array(random_sent)}\n",
    "    return df"
   ]
  },
  {
   "cell_type": "code",
   "execution_count": 13,
   "id": "0e6ed3ac",
   "metadata": {},
   "outputs": [
    {
     "data": {
      "text/html": [
       "<div>\n",
       "<style scoped>\n",
       "    .dataframe tbody tr th:only-of-type {\n",
       "        vertical-align: middle;\n",
       "    }\n",
       "\n",
       "    .dataframe tbody tr th {\n",
       "        vertical-align: top;\n",
       "    }\n",
       "\n",
       "    .dataframe thead th {\n",
       "        text-align: right;\n",
       "    }\n",
       "</style>\n",
       "<table border=\"1\" class=\"dataframe\">\n",
       "  <thead>\n",
       "    <tr style=\"text-align: right;\">\n",
       "      <th></th>\n",
       "      <th>original</th>\n",
       "      <th>nouns</th>\n",
       "      <th>random-nouns</th>\n",
       "      <th>nounsverbs</th>\n",
       "      <th>nounsverbsadj</th>\n",
       "      <th>contentwords</th>\n",
       "      <th>functionwords</th>\n",
       "      <th>passageshuffle</th>\n",
       "      <th>random-sent</th>\n",
       "    </tr>\n",
       "  </thead>\n",
       "  <tbody>\n",
       "    <tr>\n",
       "      <th>0</th>\n",
       "      <td>0.157137</td>\n",
       "      <td>0.087634</td>\n",
       "      <td>0.378715</td>\n",
       "      <td>0.166208</td>\n",
       "      <td>0.183235</td>\n",
       "      <td>0.183235</td>\n",
       "      <td>-0.158862</td>\n",
       "      <td>0.372150</td>\n",
       "      <td>0.529517</td>\n",
       "    </tr>\n",
       "    <tr>\n",
       "      <th>1</th>\n",
       "      <td>0.039157</td>\n",
       "      <td>0.391039</td>\n",
       "      <td>-0.090973</td>\n",
       "      <td>0.110387</td>\n",
       "      <td>0.013478</td>\n",
       "      <td>0.013478</td>\n",
       "      <td>-0.011141</td>\n",
       "      <td>-0.160889</td>\n",
       "      <td>-0.361754</td>\n",
       "    </tr>\n",
       "    <tr>\n",
       "      <th>2</th>\n",
       "      <td>-0.165235</td>\n",
       "      <td>-0.394410</td>\n",
       "      <td>-0.525980</td>\n",
       "      <td>-0.161259</td>\n",
       "      <td>-0.147288</td>\n",
       "      <td>-0.147288</td>\n",
       "      <td>-0.162715</td>\n",
       "      <td>-0.542245</td>\n",
       "      <td>-0.890810</td>\n",
       "    </tr>\n",
       "    <tr>\n",
       "      <th>3</th>\n",
       "      <td>-0.040554</td>\n",
       "      <td>0.044066</td>\n",
       "      <td>-0.081273</td>\n",
       "      <td>-0.044962</td>\n",
       "      <td>-0.039471</td>\n",
       "      <td>-0.039471</td>\n",
       "      <td>-0.131549</td>\n",
       "      <td>0.070502</td>\n",
       "      <td>0.021272</td>\n",
       "    </tr>\n",
       "    <tr>\n",
       "      <th>4</th>\n",
       "      <td>-0.348345</td>\n",
       "      <td>-0.206511</td>\n",
       "      <td>0.039779</td>\n",
       "      <td>-0.307872</td>\n",
       "      <td>-0.387656</td>\n",
       "      <td>-0.387656</td>\n",
       "      <td>-0.030751</td>\n",
       "      <td>0.131184</td>\n",
       "      <td>-0.295929</td>\n",
       "    </tr>\n",
       "    <tr>\n",
       "      <th>...</th>\n",
       "      <td>...</td>\n",
       "      <td>...</td>\n",
       "      <td>...</td>\n",
       "      <td>...</td>\n",
       "      <td>...</td>\n",
       "      <td>...</td>\n",
       "      <td>...</td>\n",
       "      <td>...</td>\n",
       "      <td>...</td>\n",
       "    </tr>\n",
       "    <tr>\n",
       "      <th>481531</th>\n",
       "      <td>0.020904</td>\n",
       "      <td>-0.127285</td>\n",
       "      <td>-0.049272</td>\n",
       "      <td>-0.208518</td>\n",
       "      <td>-0.161087</td>\n",
       "      <td>-0.138193</td>\n",
       "      <td>0.307889</td>\n",
       "      <td>-0.002647</td>\n",
       "      <td>0.284726</td>\n",
       "    </tr>\n",
       "    <tr>\n",
       "      <th>481532</th>\n",
       "      <td>0.755128</td>\n",
       "      <td>0.195054</td>\n",
       "      <td>0.134493</td>\n",
       "      <td>0.367035</td>\n",
       "      <td>0.357453</td>\n",
       "      <td>0.262214</td>\n",
       "      <td>0.550689</td>\n",
       "      <td>0.686998</td>\n",
       "      <td>0.433470</td>\n",
       "    </tr>\n",
       "    <tr>\n",
       "      <th>481533</th>\n",
       "      <td>0.479245</td>\n",
       "      <td>0.451410</td>\n",
       "      <td>0.017915</td>\n",
       "      <td>0.448269</td>\n",
       "      <td>0.431976</td>\n",
       "      <td>0.450672</td>\n",
       "      <td>0.387620</td>\n",
       "      <td>0.496711</td>\n",
       "      <td>0.091878</td>\n",
       "    </tr>\n",
       "    <tr>\n",
       "      <th>481534</th>\n",
       "      <td>-0.056658</td>\n",
       "      <td>0.123373</td>\n",
       "      <td>-0.191281</td>\n",
       "      <td>0.032783</td>\n",
       "      <td>0.026130</td>\n",
       "      <td>0.087394</td>\n",
       "      <td>-0.152493</td>\n",
       "      <td>-0.040658</td>\n",
       "      <td>-0.275234</td>\n",
       "    </tr>\n",
       "    <tr>\n",
       "      <th>481535</th>\n",
       "      <td>0.334810</td>\n",
       "      <td>0.245181</td>\n",
       "      <td>0.478863</td>\n",
       "      <td>0.116846</td>\n",
       "      <td>0.034774</td>\n",
       "      <td>0.056397</td>\n",
       "      <td>0.174367</td>\n",
       "      <td>0.341207</td>\n",
       "      <td>-0.356850</td>\n",
       "    </tr>\n",
       "  </tbody>\n",
       "</table>\n",
       "<p>481536 rows × 9 columns</p>\n",
       "</div>"
      ],
      "text/plain": [
       "        original     nouns  random-nouns  nounsverbs  nounsverbsadj  \\\n",
       "0       0.157137  0.087634      0.378715    0.166208       0.183235   \n",
       "1       0.039157  0.391039     -0.090973    0.110387       0.013478   \n",
       "2      -0.165235 -0.394410     -0.525980   -0.161259      -0.147288   \n",
       "3      -0.040554  0.044066     -0.081273   -0.044962      -0.039471   \n",
       "4      -0.348345 -0.206511      0.039779   -0.307872      -0.387656   \n",
       "...          ...       ...           ...         ...            ...   \n",
       "481531  0.020904 -0.127285     -0.049272   -0.208518      -0.161087   \n",
       "481532  0.755128  0.195054      0.134493    0.367035       0.357453   \n",
       "481533  0.479245  0.451410      0.017915    0.448269       0.431976   \n",
       "481534 -0.056658  0.123373     -0.191281    0.032783       0.026130   \n",
       "481535  0.334810  0.245181      0.478863    0.116846       0.034774   \n",
       "\n",
       "        contentwords  functionwords  passageshuffle  random-sent  \n",
       "0           0.183235      -0.158862        0.372150     0.529517  \n",
       "1           0.013478      -0.011141       -0.160889    -0.361754  \n",
       "2          -0.147288      -0.162715       -0.542245    -0.890810  \n",
       "3          -0.039471      -0.131549        0.070502     0.021272  \n",
       "4          -0.387656      -0.030751        0.131184    -0.295929  \n",
       "...              ...            ...             ...          ...  \n",
       "481531     -0.138193       0.307889       -0.002647     0.284726  \n",
       "481532      0.262214       0.550689        0.686998     0.433470  \n",
       "481533      0.450672       0.387620        0.496711     0.091878  \n",
       "481534      0.087394      -0.152493       -0.040658    -0.275234  \n",
       "481535      0.056397       0.174367        0.341207    -0.356850  \n",
       "\n",
       "[481536 rows x 9 columns]"
      ]
     },
     "execution_count": 13,
     "metadata": {},
     "output_type": "execute_result"
    }
   ],
   "source": [
    "df = prepare_dataframe_perturb(original,nouns,random_nouns,nounsverbs,nounsverbsadj,contentwords,functionwords,passageshuffle,random_sent,flatten=True)\n",
    "df"
   ]
  },
  {
   "cell_type": "code",
   "execution_count": 14,
   "id": "a51390cc",
   "metadata": {},
   "outputs": [],
   "source": [
    "def prepare_dataframe_scrambled(original,scrambled1,scrambled3,scrambled5,scrambled7,lowpmi,backward,random_wl,flatten=True):\n",
    "    \n",
    "    if flatten:\n",
    "        df = pd.DataFrame(data={'original':np.asarray(flatten_array(original)).flatten(),\n",
    "                               'scrambled1':np.asarray(flatten_array(scrambled1)).flatten(),\n",
    "                              'scrambled3' :np.asarray(flatten_array(scrambled3)).flatten(),\n",
    "                              'scrambled5' :np.asarray(flatten_array(scrambled5)).flatten(),\n",
    "                              'scrambled7':np.asarray(flatten_array(scrambled7)).flatten(),\n",
    "                              'lowpmi':np.asarray(flatten_array(lowpmi)).flatten(),\n",
    "                              'backward':np.asarray(flatten_array(backward)).flatten(),\n",
    "                              'random-wl':np.asarray(flatten_array(random_wl)).flatten()\n",
    "                               })\n",
    "    if not flatten:\n",
    "        # print(np.shape(np.asarray(flatten_array(random))))\n",
    "        df = {}\n",
    "        df = {'original':flatten_array(original),\n",
    "             'scrambled1':flatten_array(scrambled1),\n",
    "              'scrambled3' : flatten_array(scrambled3),\n",
    "              'scrambled5' : flatten_array(scrambled5),\n",
    "              'scrambled7':flatten_array(scrambled7),\n",
    "              'lowpmi':flatten_array(lowpmi),\n",
    "              'backward':flatten_array(backward),\n",
    "              'random-wl':flatten_array(random_wl)\n",
    "             }\n",
    "    return df"
   ]
  },
  {
   "cell_type": "code",
   "execution_count": 15,
   "id": "71facc54",
   "metadata": {},
   "outputs": [],
   "source": [
    "def main_df_for_plotting(model_identifier, scr_perturb=None, layer_identifier=None, flatten=True):\n",
    "    model_dict = get_dictionary(model_identifier, categories_dict, scr_perturb=scr_perturb, layer_identifier=layer_identifier)\n",
    "    if scr_perturb == \"perturb\":\n",
    "        df = prepare_dataframe_perturb(*get_arrays(model_dict,categories_dict,scr_perturb=scr_perturb), flatten=flatten) #*flattens the tuple\n",
    "    elif scr_perturb == \"scrambled\":\n",
    "        df = prepare_dataframe_scrambled(*get_arrays(model_dict,categories_dict,scr_perturb=scr_perturb), flatten=flatten) #*flattens the tuple\n",
    "    return df"
   ]
  },
  {
   "cell_type": "code",
   "execution_count": 16,
   "id": "999d2c40",
   "metadata": {},
   "outputs": [
    {
     "name": "stdout",
     "output_type": "stream",
     "text": [
      "This is the layer I'm looking at:  encoder.h.5\n"
     ]
    },
    {
     "data": {
      "application/vnd.jupyter.widget-view+json": {
       "model_id": "b861727c38d4445c9daafbbdcdd841cd",
       "version_major": 2,
       "version_minor": 0
      },
      "text/plain": [
       "HBox(children=(IntProgress(value=0, max=11425), HTML(value='')))"
      ]
     },
     "metadata": {},
     "output_type": "display_data"
    },
    {
     "name": "stdout",
     "output_type": "stream",
     "text": [
      "\n"
     ]
    },
    {
     "data": {
      "text/html": [
       "<div>\n",
       "<style scoped>\n",
       "    .dataframe tbody tr th:only-of-type {\n",
       "        vertical-align: middle;\n",
       "    }\n",
       "\n",
       "    .dataframe tbody tr th {\n",
       "        vertical-align: top;\n",
       "    }\n",
       "\n",
       "    .dataframe thead th {\n",
       "        text-align: right;\n",
       "    }\n",
       "</style>\n",
       "<table border=\"1\" class=\"dataframe\">\n",
       "  <thead>\n",
       "    <tr style=\"text-align: right;\">\n",
       "      <th></th>\n",
       "      <th>original</th>\n",
       "      <th>nouns</th>\n",
       "      <th>random-nouns</th>\n",
       "      <th>nounsverbs</th>\n",
       "      <th>nounsverbsadj</th>\n",
       "      <th>contentwords</th>\n",
       "      <th>functionwords</th>\n",
       "      <th>passageshuffle</th>\n",
       "      <th>random-sent</th>\n",
       "    </tr>\n",
       "  </thead>\n",
       "  <tbody>\n",
       "    <tr>\n",
       "      <th>0</th>\n",
       "      <td>0.157137</td>\n",
       "      <td>0.087634</td>\n",
       "      <td>0.378715</td>\n",
       "      <td>0.166208</td>\n",
       "      <td>0.183235</td>\n",
       "      <td>0.183235</td>\n",
       "      <td>-0.158862</td>\n",
       "      <td>0.372150</td>\n",
       "      <td>0.529517</td>\n",
       "    </tr>\n",
       "    <tr>\n",
       "      <th>1</th>\n",
       "      <td>0.039157</td>\n",
       "      <td>0.391039</td>\n",
       "      <td>-0.090973</td>\n",
       "      <td>0.110387</td>\n",
       "      <td>0.013478</td>\n",
       "      <td>0.013478</td>\n",
       "      <td>-0.011141</td>\n",
       "      <td>-0.160889</td>\n",
       "      <td>-0.361754</td>\n",
       "    </tr>\n",
       "    <tr>\n",
       "      <th>2</th>\n",
       "      <td>-0.165235</td>\n",
       "      <td>-0.394410</td>\n",
       "      <td>-0.525980</td>\n",
       "      <td>-0.161259</td>\n",
       "      <td>-0.147288</td>\n",
       "      <td>-0.147288</td>\n",
       "      <td>-0.162715</td>\n",
       "      <td>-0.542245</td>\n",
       "      <td>-0.890810</td>\n",
       "    </tr>\n",
       "    <tr>\n",
       "      <th>3</th>\n",
       "      <td>-0.040554</td>\n",
       "      <td>0.044066</td>\n",
       "      <td>-0.081273</td>\n",
       "      <td>-0.044962</td>\n",
       "      <td>-0.039471</td>\n",
       "      <td>-0.039471</td>\n",
       "      <td>-0.131549</td>\n",
       "      <td>0.070502</td>\n",
       "      <td>0.021272</td>\n",
       "    </tr>\n",
       "    <tr>\n",
       "      <th>4</th>\n",
       "      <td>-0.348345</td>\n",
       "      <td>-0.206511</td>\n",
       "      <td>0.039779</td>\n",
       "      <td>-0.307872</td>\n",
       "      <td>-0.387656</td>\n",
       "      <td>-0.387656</td>\n",
       "      <td>-0.030751</td>\n",
       "      <td>0.131184</td>\n",
       "      <td>-0.295929</td>\n",
       "    </tr>\n",
       "    <tr>\n",
       "      <th>...</th>\n",
       "      <td>...</td>\n",
       "      <td>...</td>\n",
       "      <td>...</td>\n",
       "      <td>...</td>\n",
       "      <td>...</td>\n",
       "      <td>...</td>\n",
       "      <td>...</td>\n",
       "      <td>...</td>\n",
       "      <td>...</td>\n",
       "    </tr>\n",
       "    <tr>\n",
       "      <th>481531</th>\n",
       "      <td>0.020904</td>\n",
       "      <td>-0.127285</td>\n",
       "      <td>-0.049272</td>\n",
       "      <td>-0.208518</td>\n",
       "      <td>-0.161087</td>\n",
       "      <td>-0.138193</td>\n",
       "      <td>0.307889</td>\n",
       "      <td>-0.002647</td>\n",
       "      <td>0.284726</td>\n",
       "    </tr>\n",
       "    <tr>\n",
       "      <th>481532</th>\n",
       "      <td>0.755128</td>\n",
       "      <td>0.195054</td>\n",
       "      <td>0.134493</td>\n",
       "      <td>0.367035</td>\n",
       "      <td>0.357453</td>\n",
       "      <td>0.262214</td>\n",
       "      <td>0.550689</td>\n",
       "      <td>0.686998</td>\n",
       "      <td>0.433470</td>\n",
       "    </tr>\n",
       "    <tr>\n",
       "      <th>481533</th>\n",
       "      <td>0.479245</td>\n",
       "      <td>0.451410</td>\n",
       "      <td>0.017915</td>\n",
       "      <td>0.448269</td>\n",
       "      <td>0.431976</td>\n",
       "      <td>0.450672</td>\n",
       "      <td>0.387620</td>\n",
       "      <td>0.496711</td>\n",
       "      <td>0.091878</td>\n",
       "    </tr>\n",
       "    <tr>\n",
       "      <th>481534</th>\n",
       "      <td>-0.056658</td>\n",
       "      <td>0.123373</td>\n",
       "      <td>-0.191281</td>\n",
       "      <td>0.032783</td>\n",
       "      <td>0.026130</td>\n",
       "      <td>0.087394</td>\n",
       "      <td>-0.152493</td>\n",
       "      <td>-0.040658</td>\n",
       "      <td>-0.275234</td>\n",
       "    </tr>\n",
       "    <tr>\n",
       "      <th>481535</th>\n",
       "      <td>0.334810</td>\n",
       "      <td>0.245181</td>\n",
       "      <td>0.478863</td>\n",
       "      <td>0.116846</td>\n",
       "      <td>0.034774</td>\n",
       "      <td>0.056397</td>\n",
       "      <td>0.174367</td>\n",
       "      <td>0.341207</td>\n",
       "      <td>-0.356850</td>\n",
       "    </tr>\n",
       "  </tbody>\n",
       "</table>\n",
       "<p>481536 rows × 9 columns</p>\n",
       "</div>"
      ],
      "text/plain": [
       "        original     nouns  random-nouns  nounsverbs  nounsverbsadj  \\\n",
       "0       0.157137  0.087634      0.378715    0.166208       0.183235   \n",
       "1       0.039157  0.391039     -0.090973    0.110387       0.013478   \n",
       "2      -0.165235 -0.394410     -0.525980   -0.161259      -0.147288   \n",
       "3      -0.040554  0.044066     -0.081273   -0.044962      -0.039471   \n",
       "4      -0.348345 -0.206511      0.039779   -0.307872      -0.387656   \n",
       "...          ...       ...           ...         ...            ...   \n",
       "481531  0.020904 -0.127285     -0.049272   -0.208518      -0.161087   \n",
       "481532  0.755128  0.195054      0.134493    0.367035       0.357453   \n",
       "481533  0.479245  0.451410      0.017915    0.448269       0.431976   \n",
       "481534 -0.056658  0.123373     -0.191281    0.032783       0.026130   \n",
       "481535  0.334810  0.245181      0.478863    0.116846       0.034774   \n",
       "\n",
       "        contentwords  functionwords  passageshuffle  random-sent  \n",
       "0           0.183235      -0.158862        0.372150     0.529517  \n",
       "1           0.013478      -0.011141       -0.160889    -0.361754  \n",
       "2          -0.147288      -0.162715       -0.542245    -0.890810  \n",
       "3          -0.039471      -0.131549        0.070502     0.021272  \n",
       "4          -0.387656      -0.030751        0.131184    -0.295929  \n",
       "...              ...            ...             ...          ...  \n",
       "481531     -0.138193       0.307889       -0.002647     0.284726  \n",
       "481532      0.262214       0.550689        0.686998     0.433470  \n",
       "481533      0.450672       0.387620        0.496711     0.091878  \n",
       "481534      0.087394      -0.152493       -0.040658    -0.275234  \n",
       "481535      0.056397       0.174367        0.341207    -0.356850  \n",
       "\n",
       "[481536 rows x 9 columns]"
      ]
     },
     "execution_count": 16,
     "metadata": {},
     "output_type": "execute_result"
    }
   ],
   "source": [
    "#function check\n",
    "df = main_df_for_plotting(\"distilgpt2\", scr_perturb = \"perturb\")\n",
    "df"
   ]
  },
  {
   "cell_type": "code",
   "execution_count": 17,
   "id": "cbeb1a4e",
   "metadata": {},
   "outputs": [
    {
     "name": "stdout",
     "output_type": "stream",
     "text": [
      "This is the layer I'm looking at:  encoder.h.5\n"
     ]
    },
    {
     "data": {
      "application/vnd.jupyter.widget-view+json": {
       "model_id": "9e1ee514e0b04250843435318625546f",
       "version_major": 2,
       "version_minor": 0
      },
      "text/plain": [
       "HBox(children=(IntProgress(value=0, max=11425), HTML(value='')))"
      ]
     },
     "metadata": {},
     "output_type": "display_data"
    },
    {
     "name": "stdout",
     "output_type": "stream",
     "text": [
      "\n"
     ]
    },
    {
     "data": {
      "text/html": [
       "<div>\n",
       "<style scoped>\n",
       "    .dataframe tbody tr th:only-of-type {\n",
       "        vertical-align: middle;\n",
       "    }\n",
       "\n",
       "    .dataframe tbody tr th {\n",
       "        vertical-align: top;\n",
       "    }\n",
       "\n",
       "    .dataframe thead th {\n",
       "        text-align: right;\n",
       "    }\n",
       "</style>\n",
       "<table border=\"1\" class=\"dataframe\">\n",
       "  <thead>\n",
       "    <tr style=\"text-align: right;\">\n",
       "      <th></th>\n",
       "      <th>original</th>\n",
       "      <th>scrambled1</th>\n",
       "      <th>scrambled3</th>\n",
       "      <th>scrambled5</th>\n",
       "      <th>scrambled7</th>\n",
       "      <th>lowpmi</th>\n",
       "      <th>backward</th>\n",
       "      <th>random-wl</th>\n",
       "    </tr>\n",
       "  </thead>\n",
       "  <tbody>\n",
       "    <tr>\n",
       "      <th>0</th>\n",
       "      <td>0.157137</td>\n",
       "      <td>0.165240</td>\n",
       "      <td>0.187839</td>\n",
       "      <td>0.040140</td>\n",
       "      <td>0.248826</td>\n",
       "      <td>0.257015</td>\n",
       "      <td>0.182173</td>\n",
       "      <td>-0.126603</td>\n",
       "    </tr>\n",
       "    <tr>\n",
       "      <th>1</th>\n",
       "      <td>0.039157</td>\n",
       "      <td>0.071287</td>\n",
       "      <td>0.024007</td>\n",
       "      <td>0.106974</td>\n",
       "      <td>0.120092</td>\n",
       "      <td>-0.053317</td>\n",
       "      <td>-0.186933</td>\n",
       "      <td>-0.067200</td>\n",
       "    </tr>\n",
       "    <tr>\n",
       "      <th>2</th>\n",
       "      <td>-0.165235</td>\n",
       "      <td>-0.059367</td>\n",
       "      <td>-0.078838</td>\n",
       "      <td>-0.277095</td>\n",
       "      <td>-0.150478</td>\n",
       "      <td>-0.062283</td>\n",
       "      <td>-0.510508</td>\n",
       "      <td>-0.433323</td>\n",
       "    </tr>\n",
       "    <tr>\n",
       "      <th>3</th>\n",
       "      <td>-0.040554</td>\n",
       "      <td>0.018579</td>\n",
       "      <td>0.040115</td>\n",
       "      <td>-0.022876</td>\n",
       "      <td>0.027980</td>\n",
       "      <td>0.040331</td>\n",
       "      <td>-0.096763</td>\n",
       "      <td>-0.014498</td>\n",
       "    </tr>\n",
       "    <tr>\n",
       "      <th>4</th>\n",
       "      <td>-0.348345</td>\n",
       "      <td>-0.279867</td>\n",
       "      <td>-0.300627</td>\n",
       "      <td>-0.139111</td>\n",
       "      <td>-0.260678</td>\n",
       "      <td>-0.372817</td>\n",
       "      <td>-0.406894</td>\n",
       "      <td>-0.177814</td>\n",
       "    </tr>\n",
       "    <tr>\n",
       "      <th>...</th>\n",
       "      <td>...</td>\n",
       "      <td>...</td>\n",
       "      <td>...</td>\n",
       "      <td>...</td>\n",
       "      <td>...</td>\n",
       "      <td>...</td>\n",
       "      <td>...</td>\n",
       "      <td>...</td>\n",
       "    </tr>\n",
       "    <tr>\n",
       "      <th>481531</th>\n",
       "      <td>0.020904</td>\n",
       "      <td>-0.035551</td>\n",
       "      <td>-0.019380</td>\n",
       "      <td>-0.213151</td>\n",
       "      <td>-0.024457</td>\n",
       "      <td>-0.046720</td>\n",
       "      <td>-0.010700</td>\n",
       "      <td>-0.058250</td>\n",
       "    </tr>\n",
       "    <tr>\n",
       "      <th>481532</th>\n",
       "      <td>0.755128</td>\n",
       "      <td>0.687897</td>\n",
       "      <td>0.647296</td>\n",
       "      <td>0.592118</td>\n",
       "      <td>0.566285</td>\n",
       "      <td>0.170302</td>\n",
       "      <td>-0.014956</td>\n",
       "      <td>0.122065</td>\n",
       "    </tr>\n",
       "    <tr>\n",
       "      <th>481533</th>\n",
       "      <td>0.479245</td>\n",
       "      <td>0.469931</td>\n",
       "      <td>0.320537</td>\n",
       "      <td>0.049942</td>\n",
       "      <td>0.288949</td>\n",
       "      <td>0.352047</td>\n",
       "      <td>0.277717</td>\n",
       "      <td>-0.122605</td>\n",
       "    </tr>\n",
       "    <tr>\n",
       "      <th>481534</th>\n",
       "      <td>-0.056658</td>\n",
       "      <td>-0.035280</td>\n",
       "      <td>0.086528</td>\n",
       "      <td>-0.062243</td>\n",
       "      <td>0.084464</td>\n",
       "      <td>0.195761</td>\n",
       "      <td>-0.070525</td>\n",
       "      <td>-0.011339</td>\n",
       "    </tr>\n",
       "    <tr>\n",
       "      <th>481535</th>\n",
       "      <td>0.334810</td>\n",
       "      <td>0.373485</td>\n",
       "      <td>0.239123</td>\n",
       "      <td>0.054534</td>\n",
       "      <td>0.269560</td>\n",
       "      <td>0.011768</td>\n",
       "      <td>0.031352</td>\n",
       "      <td>-0.137525</td>\n",
       "    </tr>\n",
       "  </tbody>\n",
       "</table>\n",
       "<p>481536 rows × 8 columns</p>\n",
       "</div>"
      ],
      "text/plain": [
       "        original  scrambled1  scrambled3  scrambled5  scrambled7    lowpmi  \\\n",
       "0       0.157137    0.165240    0.187839    0.040140    0.248826  0.257015   \n",
       "1       0.039157    0.071287    0.024007    0.106974    0.120092 -0.053317   \n",
       "2      -0.165235   -0.059367   -0.078838   -0.277095   -0.150478 -0.062283   \n",
       "3      -0.040554    0.018579    0.040115   -0.022876    0.027980  0.040331   \n",
       "4      -0.348345   -0.279867   -0.300627   -0.139111   -0.260678 -0.372817   \n",
       "...          ...         ...         ...         ...         ...       ...   \n",
       "481531  0.020904   -0.035551   -0.019380   -0.213151   -0.024457 -0.046720   \n",
       "481532  0.755128    0.687897    0.647296    0.592118    0.566285  0.170302   \n",
       "481533  0.479245    0.469931    0.320537    0.049942    0.288949  0.352047   \n",
       "481534 -0.056658   -0.035280    0.086528   -0.062243    0.084464  0.195761   \n",
       "481535  0.334810    0.373485    0.239123    0.054534    0.269560  0.011768   \n",
       "\n",
       "        backward  random-wl  \n",
       "0       0.182173  -0.126603  \n",
       "1      -0.186933  -0.067200  \n",
       "2      -0.510508  -0.433323  \n",
       "3      -0.096763  -0.014498  \n",
       "4      -0.406894  -0.177814  \n",
       "...          ...        ...  \n",
       "481531 -0.010700  -0.058250  \n",
       "481532 -0.014956   0.122065  \n",
       "481533  0.277717  -0.122605  \n",
       "481534 -0.070525  -0.011339  \n",
       "481535  0.031352  -0.137525  \n",
       "\n",
       "[481536 rows x 8 columns]"
      ]
     },
     "execution_count": 17,
     "metadata": {},
     "output_type": "execute_result"
    }
   ],
   "source": [
    "#function check\n",
    "df = main_df_for_plotting(\"distilgpt2\", scr_perturb = \"scrambled\")\n",
    "df"
   ]
  },
  {
   "cell_type": "code",
   "execution_count": 18,
   "id": "dbccf4af",
   "metadata": {},
   "outputs": [],
   "source": [
    "def get_activation_dfs_for_all_layers(model_identifier, categories_dict, scr_perturb=None, flatten=True):\n",
    "    \"\"\"\n",
    "    input: model_identifier, whether to flatten (i.e. all sentence reps in one vector or leave 627*hidden size)\n",
    "    output: dictionary: layer --> dataframe (conditions as column names, column values are flattened or unflattened activations)\n",
    "    \"\"\"\n",
    "    layers = get_all_layers(model_identifier,categories_dict,scr_perturb=scr_perturb)\n",
    "    print(f\"Available layers: {layers}\")\n",
    "    df_dict = {}\n",
    "    for ind,elm in enumerate(layers):\n",
    "        df_dict[elm] = main_df_for_plotting(model_identifier,scr_perturb=scr_perturb,layer_identifier=elm,flatten=flatten)\n",
    "    return df_dict"
   ]
  },
  {
   "cell_type": "code",
   "execution_count": 19,
   "id": "9cafaa32",
   "metadata": {},
   "outputs": [],
   "source": [
    "# function check\n",
    "#distilgpt2_correlation_dict = get_activation_dfs_for_all_layers(\"distilgpt2\",categories_dict, scr_perturb=\"perturb\")"
   ]
  },
  {
   "cell_type": "code",
   "execution_count": 20,
   "id": "5ec794c0",
   "metadata": {},
   "outputs": [],
   "source": [
    "def get_correlations_df_dict(model_identifier, categories_dict, scr_perturb=None): #maybe pass activations dict as input so it doesn't have to recompute\n",
    "    layers = get_all_layers(model_identifier, categories_dict, scr_perturb=scr_perturb)\n",
    "    activations_dict = get_activation_dfs_for_all_layers(model_identifier, categories_dict, scr_perturb=scr_perturb)\n",
    "    \n",
    "    conditions = list(activations_dict[layers[0]].columns)\n",
    "    \n",
    "    correlations_df_dict = {}\n",
    "    for layer in layers:\n",
    "        orig_column = activations_dict[layer]['original']\n",
    "        correlations = [orig_column.corr(activations_dict[layer][elm]) for elm in conditions]\n",
    "        correlations_df_dict[layer] = correlations\n",
    "    \n",
    "    return layers, conditions, correlations_df_dict"
   ]
  },
  {
   "cell_type": "code",
   "execution_count": 21,
   "id": "dad64bab",
   "metadata": {},
   "outputs": [],
   "source": [
    "def plot_correlations_lineplot(model_identifier, layers, conditions, correlations_dict,scr_perturb=None):\n",
    "    fig, ax = plt.subplots()\n",
    "    line_colors = sns.color_palette(\"rocket\") + sns.color_palette(\"GnBu_d\") + [sns.color_palette(\"PRGn\", 10)[2]] + [sns.color_palette(\"PuOr\", 10)[0]]\n",
    "    if model_identifier in ['xlnet-large-cased','bert-large-uncased-whole-word-masking']:\n",
    "        line_colors = sns.color_palette(\"rocket\") + sns.color_palette(\"GnBu_d\") + sns.color_palette(\"PRGn\", 10) + sns.color_palette(\"YlOrBr\", 10)\n",
    "    \n",
    "    layers = layers\n",
    "    conditions = conditions\n",
    "    \n",
    "    counter = 0\n",
    "    for key,value in correlations_dict.items():\n",
    "        ax.plot(conditions,value, '-o',color=line_colors[counter])\n",
    "        counter += 1\n",
    "        \n",
    "    if len(model_identifier.split(\"-\")) == 1:\n",
    "        model_identifier += \"-lasttoken\"\n",
    "\n",
    "    ax.set_title(f'{model_identifier} | Layer model activation correlation with model activations for original sentence across conditions')\n",
    "    if not model_identifier in ['xlnet-large-cased', 'albert-xxlarge-v2', 'bert-large-uncased-whole-word-masking']:\n",
    "        ax.legend(layers)\n",
    "    else:\n",
    "        ax.legend(layers, bbox_to_anchor=(1.05, 1), loc='upper left')\n",
    "    ax.yaxis.set_label_text('Pearson p')\n",
    "    ax.legend(layers, bbox_to_anchor=(1.05, 1), loc='upper left')\n",
    "    ax.set_ylim([0, 1])\n",
    "    plt.xticks(rotation= 90)\n",
    "    \n",
    "    if not os.path.isdir(\"fig\"):\n",
    "        os.mkdir(\"fig\")\n",
    "    savename = f'fig/{date.today()}_model-activation-correlation_{model_identifier}_{scr_perturb}.png'\n",
    "    #plt.savefig(savename, bbox_inches='tight', dpi=240)"
   ]
  },
  {
   "cell_type": "code",
   "execution_count": 22,
   "id": "e441225c",
   "metadata": {},
   "outputs": [
    {
     "name": "stdout",
     "output_type": "stream",
     "text": [
      "Available layers: ['drop', 'encoder.h.0', 'encoder.h.1', 'encoder.h.2', 'encoder.h.3', 'encoder.h.4', 'encoder.h.5']\n",
      "This is the layer I'm looking at:  drop\n"
     ]
    },
    {
     "data": {
      "application/vnd.jupyter.widget-view+json": {
       "model_id": "2aa64fe00d2348e39aa2123c11a4ceb9",
       "version_major": 2,
       "version_minor": 0
      },
      "text/plain": [
       "HBox(children=(IntProgress(value=0, max=11425), HTML(value='')))"
      ]
     },
     "metadata": {},
     "output_type": "display_data"
    },
    {
     "name": "stdout",
     "output_type": "stream",
     "text": [
      "\n",
      "This is the layer I'm looking at:  encoder.h.0\n"
     ]
    },
    {
     "data": {
      "application/vnd.jupyter.widget-view+json": {
       "model_id": "aea9c2738dea4e6c9303bb6ad910f342",
       "version_major": 2,
       "version_minor": 0
      },
      "text/plain": [
       "HBox(children=(IntProgress(value=0, max=11425), HTML(value='')))"
      ]
     },
     "metadata": {},
     "output_type": "display_data"
    },
    {
     "name": "stdout",
     "output_type": "stream",
     "text": [
      "\n",
      "This is the layer I'm looking at:  encoder.h.1\n"
     ]
    },
    {
     "data": {
      "application/vnd.jupyter.widget-view+json": {
       "model_id": "5525bf2d970240a786a6d349da24d754",
       "version_major": 2,
       "version_minor": 0
      },
      "text/plain": [
       "HBox(children=(IntProgress(value=0, max=11425), HTML(value='')))"
      ]
     },
     "metadata": {},
     "output_type": "display_data"
    },
    {
     "name": "stdout",
     "output_type": "stream",
     "text": [
      "\n",
      "This is the layer I'm looking at:  encoder.h.2\n"
     ]
    },
    {
     "data": {
      "application/vnd.jupyter.widget-view+json": {
       "model_id": "c22bf3583b74467b9fc22aee2c9255d2",
       "version_major": 2,
       "version_minor": 0
      },
      "text/plain": [
       "HBox(children=(IntProgress(value=0, max=11425), HTML(value='')))"
      ]
     },
     "metadata": {},
     "output_type": "display_data"
    },
    {
     "name": "stdout",
     "output_type": "stream",
     "text": [
      "\n",
      "This is the layer I'm looking at:  encoder.h.3\n"
     ]
    },
    {
     "data": {
      "application/vnd.jupyter.widget-view+json": {
       "model_id": "6efce87004804991b7223f83f8754d56",
       "version_major": 2,
       "version_minor": 0
      },
      "text/plain": [
       "HBox(children=(IntProgress(value=0, max=11425), HTML(value='')))"
      ]
     },
     "metadata": {},
     "output_type": "display_data"
    },
    {
     "name": "stdout",
     "output_type": "stream",
     "text": [
      "\n",
      "This is the layer I'm looking at:  encoder.h.4\n"
     ]
    },
    {
     "data": {
      "application/vnd.jupyter.widget-view+json": {
       "model_id": "994cbb39ad8c4755828f321cd6afbf88",
       "version_major": 2,
       "version_minor": 0
      },
      "text/plain": [
       "HBox(children=(IntProgress(value=0, max=11425), HTML(value='')))"
      ]
     },
     "metadata": {},
     "output_type": "display_data"
    },
    {
     "name": "stdout",
     "output_type": "stream",
     "text": [
      "\n",
      "This is the layer I'm looking at:  encoder.h.5\n"
     ]
    },
    {
     "data": {
      "application/vnd.jupyter.widget-view+json": {
       "model_id": "2aac2e975c914efaac576b9dc4408cdd",
       "version_major": 2,
       "version_minor": 0
      },
      "text/plain": [
       "HBox(children=(IntProgress(value=0, max=11425), HTML(value='')))"
      ]
     },
     "metadata": {},
     "output_type": "display_data"
    },
    {
     "name": "stdout",
     "output_type": "stream",
     "text": [
      "\n"
     ]
    },
    {
     "data": {
      "image/png": "[encoded data removed]",
      "text/plain": [
       "<Figure size 432x288 with 1 Axes>"
      ]
     },
     "metadata": {
      "needs_background": "light"
     },
     "output_type": "display_data"
    }
   ],
   "source": [
    "distilgpt2_avg_layers, distilgpt2_avg_conditions, distilgpt2_avg_corr_dict = get_correlations_df_dict(\"distilgpt2-avgtoken\",categories_dict, scr_perturb=\"perturb\")\n",
    "plot_correlations_lineplot(\"distilgpt2-avgtoken\", distilgpt2_avg_layers, distilgpt2_avg_conditions, distilgpt2_avg_corr_dict,scr_perturb=\"perturb\")"
   ]
  },
  {
   "cell_type": "markdown",
   "id": "1051d6de",
   "metadata": {},
   "source": [
    "# Loop over models"
   ]
  },
  {
   "cell_type": "code",
   "execution_count": 26,
   "id": "aa3cb2af",
   "metadata": {},
   "outputs": [],
   "source": [
    "import math\n",
    "from matplotlib.gridspec import GridSpec\n",
    "\n",
    "def get_corr_lineplots_loop(model_list, scr_perturb=None):\n",
    "    nsubplots = len(model_list)\n",
    "    nrows = math.ceil(nsubplots/2)\n",
    "    #line_colors = sns.color_palette(\"rocket\") + [sns.color_palette(\"PRGn\", 10)[2]] + [sns.color_palette(\"PuOr\", 10)[0]] + sns.color_palette(\"GnBu_d\")\n",
    "    #line_colors = sns.color_palette(\"rocket\") + sns.color_palette(\"GnBu_d\") + [sns.color_palette(\"PRGn\", 10)[2]] + [sns.color_palette(\"PuOr\", 10)[0]]\n",
    "    #if model_identifier in ['xlnet-large-cased','bert-large-uncased-whole-word-masking']:\n",
    "    #    line_colors = sns.color_palette(\"rocket\") + sns.color_palette(\"GnBu_d\") + sns.color_palette(\"PRGn\", 10) + sns.color_palette(\"YlOrBr\", 10)\n",
    "    \n",
    "    \n",
    "    fig2 = plt.figure(constrained_layout=True, figsize=(15, 5*nrows))\n",
    "    fig2.suptitle(f'Layer model activation correlation with model activations for unperturbed sentence across conditions | {scr_perturb}', fontsize=22, y=1.05)\n",
    "    spec2 = GridSpec(ncols=2, nrows=nrows, figure=fig2)\n",
    "    f2_ax = []\n",
    "    \n",
    "    model_counter = 0\n",
    "    for i in range(nrows):\n",
    "        for j in range(2):\n",
    "            if model_counter + 1 > nsubplots:\n",
    "                break\n",
    "            else:\n",
    "                model_identifier = model_list[model_counter]\n",
    "                line_colors = sns.color_palette(\"rocket\") + sns.color_palette(\"GnBu_d\") + [sns.color_palette(\"PRGn\", 10)[2]] + [sns.color_palette(\"PuOr\", 10)[0]]\n",
    "                if model_identifier in ['xlnet-large-cased','bert-large-uncased-whole-word-masking']:\n",
    "                    line_colors = sns.color_palette(\"rocket\") + sns.color_palette(\"GnBu_d\") + sns.color_palette(\"PRGn\", 10) + sns.color_palette(\"YlOrBr\", 10)\n",
    "                layers, conditions, correlations_df_dict = get_correlations_df_dict(model_identifier,categories_dict, scr_perturb=scr_perturb)\n",
    "                f2_ax.append(fig2.add_subplot(spec2[i, j]))\n",
    "                \n",
    "                counter = 0\n",
    "                for key,value in correlations_df_dict.items():\n",
    "                    f2_ax[-1].plot(conditions,value, '-o',color=line_colors[counter])\n",
    "                    counter += 1\n",
    "                if len(model_identifier.split(\"-\")) == 1:\n",
    "                    model_identifier = model_identifier + \"-lasttoken\"\n",
    "                f2_ax[-1].set_title(f'{model_identifier}',fontsize=18)\n",
    "                f2_ax[-1].yaxis.set_label_text('Pearson p')\n",
    "                #shorten names for legend\n",
    "                if model_identifier == 'lm_1b':\n",
    "                    layers = [layer.split('/')[1] for layer in layers]\n",
    "                if 'albert' in model_identifier:\n",
    "                    layers = [re.sub('.albert_layer_groups.','.h.', layer) for layer in layers]\n",
    "                if model_identifier == 'bert-large-uncased-whole-word-masking':\n",
    "                    layers = ['.'.join(layer.split('.')[:-1]) if '.' in layer else layer for layer in layers]\n",
    "                f2_ax[-1].legend(layers, bbox_to_anchor=(1.05, 1), loc='upper left')\n",
    "                f2_ax[-1].set_ylim([0, 1])\n",
    "                plt.xticks(rotation= 90)\n",
    "                model_counter += 1\n",
    "    fig2.savefig(f'fig/{date.today()}_activations-layer-comparison_loop_{scr_perturb}.png', bbox_inches='tight', dpi=240)"
   ]
  },
  {
   "cell_type": "code",
   "execution_count": 24,
   "id": "0d151f0a",
   "metadata": {},
   "outputs": [
    {
     "name": "stdout",
     "output_type": "stream",
     "text": [
      "Available layers: ['drop', 'encoder.h.0', 'encoder.h.1', 'encoder.h.2', 'encoder.h.3', 'encoder.h.4', 'encoder.h.5']\n",
      "This is the layer I'm looking at:  drop\n"
     ]
    },
    {
     "data": {
      "application/vnd.jupyter.widget-view+json": {
       "model_id": "979266eecf7544b6832b4114cf3583f4",
       "version_major": 2,
       "version_minor": 0
      },
      "text/plain": [
       "HBox(children=(IntProgress(value=0, max=11425), HTML(value='')))"
      ]
     },
     "metadata": {},
     "output_type": "display_data"
    },
    {
     "name": "stdout",
     "output_type": "stream",
     "text": [
      "\n",
      "This is the layer I'm looking at:  encoder.h.0\n"
     ]
    },
    {
     "data": {
      "application/vnd.jupyter.widget-view+json": {
       "model_id": "fb95adebe8284052a6b0ea720573ea53",
       "version_major": 2,
       "version_minor": 0
      },
      "text/plain": [
       "HBox(children=(IntProgress(value=0, max=11425), HTML(value='')))"
      ]
     },
     "metadata": {},
     "output_type": "display_data"
    },
    {
     "name": "stdout",
     "output_type": "stream",
     "text": [
      "\n",
      "This is the layer I'm looking at:  encoder.h.1\n"
     ]
    },
    {
     "data": {
      "application/vnd.jupyter.widget-view+json": {
       "model_id": "b1a1a295e34a4e7fbd20494331dca052",
       "version_major": 2,
       "version_minor": 0
      },
      "text/plain": [
       "HBox(children=(IntProgress(value=0, max=11425), HTML(value='')))"
      ]
     },
     "metadata": {},
     "output_type": "display_data"
    },
    {
     "name": "stdout",
     "output_type": "stream",
     "text": [
      "\n",
      "This is the layer I'm looking at:  encoder.h.2\n"
     ]
    },
    {
     "data": {
      "application/vnd.jupyter.widget-view+json": {
       "model_id": "76a80cebf61b4b50b8a9f18d766372d7",
       "version_major": 2,
       "version_minor": 0
      },
      "text/plain": [
       "HBox(children=(IntProgress(value=0, max=11425), HTML(value='')))"
      ]
     },
     "metadata": {},
     "output_type": "display_data"
    },
    {
     "name": "stdout",
     "output_type": "stream",
     "text": [
      "\n",
      "This is the layer I'm looking at:  encoder.h.3\n"
     ]
    },
    {
     "data": {
      "application/vnd.jupyter.widget-view+json": {
       "model_id": "a4cbdb0a7d364c748fdecf7fd46292f6",
       "version_major": 2,
       "version_minor": 0
      },
      "text/plain": [
       "HBox(children=(IntProgress(value=0, max=11425), HTML(value='')))"
      ]
     },
     "metadata": {},
     "output_type": "display_data"
    },
    {
     "name": "stdout",
     "output_type": "stream",
     "text": [
      "\n",
      "This is the layer I'm looking at:  encoder.h.4\n"
     ]
    },
    {
     "data": {
      "application/vnd.jupyter.widget-view+json": {
       "model_id": "9ce59f4b0e5a430db98b14cf0cb38b78",
       "version_major": 2,
       "version_minor": 0
      },
      "text/plain": [
       "HBox(children=(IntProgress(value=0, max=11425), HTML(value='')))"
      ]
     },
     "metadata": {},
     "output_type": "display_data"
    },
    {
     "name": "stdout",
     "output_type": "stream",
     "text": [
      "\n",
      "This is the layer I'm looking at:  encoder.h.5\n"
     ]
    },
    {
     "data": {
      "application/vnd.jupyter.widget-view+json": {
       "model_id": "ddd13ac5fe504ca7bd22560d48b672fc",
       "version_major": 2,
       "version_minor": 0
      },
      "text/plain": [
       "HBox(children=(IntProgress(value=0, max=11425), HTML(value='')))"
      ]
     },
     "metadata": {},
     "output_type": "display_data"
    },
    {
     "name": "stdout",
     "output_type": "stream",
     "text": [
      "\n",
      "Available layers: ['drop', 'encoder.h.0', 'encoder.h.1', 'encoder.h.2', 'encoder.h.3', 'encoder.h.4', 'encoder.h.5']\n",
      "This is the layer I'm looking at:  drop\n"
     ]
    },
    {
     "data": {
      "application/vnd.jupyter.widget-view+json": {
       "model_id": "159a1c7e5b5d49f882fd8c63ca3dc60e",
       "version_major": 2,
       "version_minor": 0
      },
      "text/plain": [
       "HBox(children=(IntProgress(value=0, max=11425), HTML(value='')))"
      ]
     },
     "metadata": {},
     "output_type": "display_data"
    },
    {
     "name": "stdout",
     "output_type": "stream",
     "text": [
      "\n",
      "This is the layer I'm looking at:  encoder.h.0\n"
     ]
    },
    {
     "data": {
      "application/vnd.jupyter.widget-view+json": {
       "model_id": "538e262b9bc74dbeb9eae4b810545cb6",
       "version_major": 2,
       "version_minor": 0
      },
      "text/plain": [
       "HBox(children=(IntProgress(value=0, max=11425), HTML(value='')))"
      ]
     },
     "metadata": {},
     "output_type": "display_data"
    },
    {
     "name": "stdout",
     "output_type": "stream",
     "text": [
      "\n",
      "This is the layer I'm looking at:  encoder.h.1\n"
     ]
    },
    {
     "data": {
      "application/vnd.jupyter.widget-view+json": {
       "model_id": "0f8a0c92313249faafde046dd15b51ba",
       "version_major": 2,
       "version_minor": 0
      },
      "text/plain": [
       "HBox(children=(IntProgress(value=0, max=11425), HTML(value='')))"
      ]
     },
     "metadata": {},
     "output_type": "display_data"
    },
    {
     "name": "stdout",
     "output_type": "stream",
     "text": [
      "\n",
      "This is the layer I'm looking at:  encoder.h.2\n"
     ]
    },
    {
     "data": {
      "application/vnd.jupyter.widget-view+json": {
       "model_id": "65a7334248464a16ad9bd5d95259b965",
       "version_major": 2,
       "version_minor": 0
      },
      "text/plain": [
       "HBox(children=(IntProgress(value=0, max=11425), HTML(value='')))"
      ]
     },
     "metadata": {},
     "output_type": "display_data"
    },
    {
     "name": "stdout",
     "output_type": "stream",
     "text": [
      "\n",
      "This is the layer I'm looking at:  encoder.h.3\n"
     ]
    },
    {
     "data": {
      "application/vnd.jupyter.widget-view+json": {
       "model_id": "6f2aae1be57643a697543b933d0f9144",
       "version_major": 2,
       "version_minor": 0
      },
      "text/plain": [
       "HBox(children=(IntProgress(value=0, max=11425), HTML(value='')))"
      ]
     },
     "metadata": {},
     "output_type": "display_data"
    },
    {
     "name": "stdout",
     "output_type": "stream",
     "text": [
      "\n",
      "This is the layer I'm looking at:  encoder.h.4\n"
     ]
    },
    {
     "data": {
      "application/vnd.jupyter.widget-view+json": {
       "model_id": "a5461f9d46f74985a13dfafc6fb59904",
       "version_major": 2,
       "version_minor": 0
      },
      "text/plain": [
       "HBox(children=(IntProgress(value=0, max=11425), HTML(value='')))"
      ]
     },
     "metadata": {},
     "output_type": "display_data"
    },
    {
     "name": "stdout",
     "output_type": "stream",
     "text": [
      "\n",
      "This is the layer I'm looking at:  encoder.h.5\n"
     ]
    },
    {
     "data": {
      "application/vnd.jupyter.widget-view+json": {
       "model_id": "18d1900427684d4ba294fb1efc28347f",
       "version_major": 2,
       "version_minor": 0
      },
      "text/plain": [
       "HBox(children=(IntProgress(value=0, max=11425), HTML(value='')))"
      ]
     },
     "metadata": {},
     "output_type": "display_data"
    },
    {
     "name": "stdout",
     "output_type": "stream",
     "text": [
      "\n",
      "Available layers: ['drop', 'encoder.h.0', 'encoder.h.1', 'encoder.h.2', 'encoder.h.3', 'encoder.h.4', 'encoder.h.5', 'encoder.h.6', 'encoder.h.7', 'encoder.h.8', 'encoder.h.9', 'encoder.h.10', 'encoder.h.11']\n",
      "This is the layer I'm looking at:  drop\n"
     ]
    },
    {
     "data": {
      "application/vnd.jupyter.widget-view+json": {
       "model_id": "bb2dcc997d7a4334ba51cff2f108485d",
       "version_major": 2,
       "version_minor": 0
      },
      "text/plain": [
       "HBox(children=(IntProgress(value=0, max=11425), HTML(value='')))"
      ]
     },
     "metadata": {},
     "output_type": "display_data"
    },
    {
     "name": "stdout",
     "output_type": "stream",
     "text": [
      "\n",
      "This is the layer I'm looking at:  encoder.h.0\n"
     ]
    },
    {
     "data": {
      "application/vnd.jupyter.widget-view+json": {
       "model_id": "5beafa48956842769b3a79fb8cb92cc1",
       "version_major": 2,
       "version_minor": 0
      },
      "text/plain": [
       "HBox(children=(IntProgress(value=0, max=11425), HTML(value='')))"
      ]
     },
     "metadata": {},
     "output_type": "display_data"
    },
    {
     "name": "stdout",
     "output_type": "stream",
     "text": [
      "\n",
      "This is the layer I'm looking at:  encoder.h.1\n"
     ]
    },
    {
     "data": {
      "application/vnd.jupyter.widget-view+json": {
       "model_id": "6566101ae1244eb69e865afac5986eaf",
       "version_major": 2,
       "version_minor": 0
      },
      "text/plain": [
       "HBox(children=(IntProgress(value=0, max=11425), HTML(value='')))"
      ]
     },
     "metadata": {},
     "output_type": "display_data"
    },
    {
     "name": "stdout",
     "output_type": "stream",
     "text": [
      "\n",
      "This is the layer I'm looking at:  encoder.h.2\n"
     ]
    },
    {
     "data": {
      "application/vnd.jupyter.widget-view+json": {
       "model_id": "71e51719d2264ab69287d329db11e12a",
       "version_major": 2,
       "version_minor": 0
      },
      "text/plain": [
       "HBox(children=(IntProgress(value=0, max=11425), HTML(value='')))"
      ]
     },
     "metadata": {},
     "output_type": "display_data"
    },
    {
     "name": "stdout",
     "output_type": "stream",
     "text": [
      "\n",
      "This is the layer I'm looking at:  encoder.h.3\n"
     ]
    },
    {
     "data": {
      "application/vnd.jupyter.widget-view+json": {
       "model_id": "3826c579611744f0857613215a6095e7",
       "version_major": 2,
       "version_minor": 0
      },
      "text/plain": [
       "HBox(children=(IntProgress(value=0, max=11425), HTML(value='')))"
      ]
     },
     "metadata": {},
     "output_type": "display_data"
    },
    {
     "name": "stdout",
     "output_type": "stream",
     "text": [
      "\n",
      "This is the layer I'm looking at:  encoder.h.4\n"
     ]
    },
    {
     "data": {
      "application/vnd.jupyter.widget-view+json": {
       "model_id": "9a49cc2714624637a312d72f8f626d4e",
       "version_major": 2,
       "version_minor": 0
      },
      "text/plain": [
       "HBox(children=(IntProgress(value=0, max=11425), HTML(value='')))"
      ]
     },
     "metadata": {},
     "output_type": "display_data"
    },
    {
     "name": "stdout",
     "output_type": "stream",
     "text": [
      "\n",
      "This is the layer I'm looking at:  encoder.h.5\n"
     ]
    },
    {
     "data": {
      "application/vnd.jupyter.widget-view+json": {
       "model_id": "677a8ab6841d46a386ed0d2758b5f2ce",
       "version_major": 2,
       "version_minor": 0
      },
      "text/plain": [
       "HBox(children=(IntProgress(value=0, max=11425), HTML(value='')))"
      ]
     },
     "metadata": {},
     "output_type": "display_data"
    },
    {
     "name": "stdout",
     "output_type": "stream",
     "text": [
      "\n",
      "This is the layer I'm looking at:  encoder.h.6\n"
     ]
    },
    {
     "data": {
      "application/vnd.jupyter.widget-view+json": {
       "model_id": "efe1780f61da43438138df48570701d3",
       "version_major": 2,
       "version_minor": 0
      },
      "text/plain": [
       "HBox(children=(IntProgress(value=0, max=11425), HTML(value='')))"
      ]
     },
     "metadata": {},
     "output_type": "display_data"
    },
    {
     "name": "stdout",
     "output_type": "stream",
     "text": [
      "\n",
      "This is the layer I'm looking at:  encoder.h.7\n"
     ]
    },
    {
     "data": {
      "application/vnd.jupyter.widget-view+json": {
       "model_id": "2b034b914aba4453a9d272e5889a67c1",
       "version_major": 2,
       "version_minor": 0
      },
      "text/plain": [
       "HBox(children=(IntProgress(value=0, max=11425), HTML(value='')))"
      ]
     },
     "metadata": {},
     "output_type": "display_data"
    },
    {
     "name": "stdout",
     "output_type": "stream",
     "text": [
      "\n",
      "This is the layer I'm looking at:  encoder.h.8\n"
     ]
    },
    {
     "data": {
      "application/vnd.jupyter.widget-view+json": {
       "model_id": "edf45afc58fd479b8efd5aad6ef17bc7",
       "version_major": 2,
       "version_minor": 0
      },
      "text/plain": [
       "HBox(children=(IntProgress(value=0, max=11425), HTML(value='')))"
      ]
     },
     "metadata": {},
     "output_type": "display_data"
    },
    {
     "name": "stdout",
     "output_type": "stream",
     "text": [
      "\n",
      "This is the layer I'm looking at:  encoder.h.9\n"
     ]
    },
    {
     "data": {
      "application/vnd.jupyter.widget-view+json": {
       "model_id": "1f4f578acf6a46f982fd0d4d28a8f8e2",
       "version_major": 2,
       "version_minor": 0
      },
      "text/plain": [
       "HBox(children=(IntProgress(value=0, max=11425), HTML(value='')))"
      ]
     },
     "metadata": {},
     "output_type": "display_data"
    },
    {
     "name": "stdout",
     "output_type": "stream",
     "text": [
      "\n",
      "This is the layer I'm looking at:  encoder.h.10\n"
     ]
    },
    {
     "data": {
      "application/vnd.jupyter.widget-view+json": {
       "model_id": "7c22d7cfe6ff441a940c5bb0e2a795a0",
       "version_major": 2,
       "version_minor": 0
      },
      "text/plain": [
       "HBox(children=(IntProgress(value=0, max=11425), HTML(value='')))"
      ]
     },
     "metadata": {},
     "output_type": "display_data"
    },
    {
     "name": "stdout",
     "output_type": "stream",
     "text": [
      "\n",
      "This is the layer I'm looking at:  encoder.h.11\n"
     ]
    },
    {
     "data": {
      "application/vnd.jupyter.widget-view+json": {
       "model_id": "12801778b3a34ab584baedd424337978",
       "version_major": 2,
       "version_minor": 0
      },
      "text/plain": [
       "HBox(children=(IntProgress(value=0, max=11425), HTML(value='')))"
      ]
     },
     "metadata": {},
     "output_type": "display_data"
    },
    {
     "name": "stdout",
     "output_type": "stream",
     "text": [
      "\n",
      "Available layers: ['drop', 'encoder.h.0', 'encoder.h.1', 'encoder.h.10', 'encoder.h.11', 'encoder.h.2', 'encoder.h.3', 'encoder.h.4', 'encoder.h.5', 'encoder.h.6', 'encoder.h.7', 'encoder.h.8', 'encoder.h.9']\n",
      "This is the layer I'm looking at:  drop\n"
     ]
    },
    {
     "data": {
      "application/vnd.jupyter.widget-view+json": {
       "model_id": "32b12182996a424b858ef476ecc6ce81",
       "version_major": 2,
       "version_minor": 0
      },
      "text/plain": [
       "HBox(children=(IntProgress(value=0, max=11425), HTML(value='')))"
      ]
     },
     "metadata": {},
     "output_type": "display_data"
    },
    {
     "name": "stdout",
     "output_type": "stream",
     "text": [
      "\n",
      "This is the layer I'm looking at:  encoder.h.0\n"
     ]
    },
    {
     "data": {
      "application/vnd.jupyter.widget-view+json": {
       "model_id": "7ddc4337f6c947d9b118d896e8d909ef",
       "version_major": 2,
       "version_minor": 0
      },
      "text/plain": [
       "HBox(children=(IntProgress(value=0, max=11425), HTML(value='')))"
      ]
     },
     "metadata": {},
     "output_type": "display_data"
    },
    {
     "name": "stdout",
     "output_type": "stream",
     "text": [
      "\n",
      "This is the layer I'm looking at:  encoder.h.1\n"
     ]
    },
    {
     "data": {
      "application/vnd.jupyter.widget-view+json": {
       "model_id": "3f82c24ad5bc4b8eb1d4aca73bb20347",
       "version_major": 2,
       "version_minor": 0
      },
      "text/plain": [
       "HBox(children=(IntProgress(value=0, max=11425), HTML(value='')))"
      ]
     },
     "metadata": {},
     "output_type": "display_data"
    },
    {
     "name": "stdout",
     "output_type": "stream",
     "text": [
      "\n",
      "This is the layer I'm looking at:  encoder.h.10\n"
     ]
    },
    {
     "data": {
      "application/vnd.jupyter.widget-view+json": {
       "model_id": "068b8fb4ed674b96af9155bfe1ad8a2c",
       "version_major": 2,
       "version_minor": 0
      },
      "text/plain": [
       "HBox(children=(IntProgress(value=0, max=11425), HTML(value='')))"
      ]
     },
     "metadata": {},
     "output_type": "display_data"
    },
    {
     "name": "stdout",
     "output_type": "stream",
     "text": [
      "\n",
      "This is the layer I'm looking at:  encoder.h.11\n"
     ]
    },
    {
     "data": {
      "application/vnd.jupyter.widget-view+json": {
       "model_id": "24a8929a8dea4a7d87d86c687503d735",
       "version_major": 2,
       "version_minor": 0
      },
      "text/plain": [
       "HBox(children=(IntProgress(value=0, max=11425), HTML(value='')))"
      ]
     },
     "metadata": {},
     "output_type": "display_data"
    },
    {
     "name": "stdout",
     "output_type": "stream",
     "text": [
      "\n",
      "This is the layer I'm looking at:  encoder.h.2\n"
     ]
    },
    {
     "data": {
      "application/vnd.jupyter.widget-view+json": {
       "model_id": "44da28ea037e4252868db0ccc7e93d5f",
       "version_major": 2,
       "version_minor": 0
      },
      "text/plain": [
       "HBox(children=(IntProgress(value=0, max=11425), HTML(value='')))"
      ]
     },
     "metadata": {},
     "output_type": "display_data"
    },
    {
     "name": "stdout",
     "output_type": "stream",
     "text": [
      "\n",
      "This is the layer I'm looking at:  encoder.h.3\n"
     ]
    },
    {
     "data": {
      "application/vnd.jupyter.widget-view+json": {
       "model_id": "51d4f4986a16450aa8c4d00153a58fbc",
       "version_major": 2,
       "version_minor": 0
      },
      "text/plain": [
       "HBox(children=(IntProgress(value=0, max=11425), HTML(value='')))"
      ]
     },
     "metadata": {},
     "output_type": "display_data"
    },
    {
     "name": "stdout",
     "output_type": "stream",
     "text": [
      "\n",
      "This is the layer I'm looking at:  encoder.h.4\n"
     ]
    },
    {
     "data": {
      "application/vnd.jupyter.widget-view+json": {
       "model_id": "dda6634639ff4105a4ee1010428bd997",
       "version_major": 2,
       "version_minor": 0
      },
      "text/plain": [
       "HBox(children=(IntProgress(value=0, max=11425), HTML(value='')))"
      ]
     },
     "metadata": {},
     "output_type": "display_data"
    },
    {
     "name": "stdout",
     "output_type": "stream",
     "text": [
      "\n",
      "This is the layer I'm looking at:  encoder.h.5\n"
     ]
    },
    {
     "data": {
      "application/vnd.jupyter.widget-view+json": {
       "model_id": "f4ffc8d11826458b92731ce5d2cc50c8",
       "version_major": 2,
       "version_minor": 0
      },
      "text/plain": [
       "HBox(children=(IntProgress(value=0, max=11425), HTML(value='')))"
      ]
     },
     "metadata": {},
     "output_type": "display_data"
    },
    {
     "name": "stdout",
     "output_type": "stream",
     "text": [
      "\n",
      "This is the layer I'm looking at:  encoder.h.6\n"
     ]
    },
    {
     "data": {
      "application/vnd.jupyter.widget-view+json": {
       "model_id": "abad9bec3f94403b93c0f66c627dc7e3",
       "version_major": 2,
       "version_minor": 0
      },
      "text/plain": [
       "HBox(children=(IntProgress(value=0, max=11425), HTML(value='')))"
      ]
     },
     "metadata": {},
     "output_type": "display_data"
    },
    {
     "name": "stdout",
     "output_type": "stream",
     "text": [
      "\n",
      "This is the layer I'm looking at:  encoder.h.7\n"
     ]
    },
    {
     "data": {
      "application/vnd.jupyter.widget-view+json": {
       "model_id": "81b61718c5f740eabf6cae4348f353a9",
       "version_major": 2,
       "version_minor": 0
      },
      "text/plain": [
       "HBox(children=(IntProgress(value=0, max=11425), HTML(value='')))"
      ]
     },
     "metadata": {},
     "output_type": "display_data"
    },
    {
     "name": "stdout",
     "output_type": "stream",
     "text": [
      "\n",
      "This is the layer I'm looking at:  encoder.h.8\n"
     ]
    },
    {
     "data": {
      "application/vnd.jupyter.widget-view+json": {
       "model_id": "80223df9105348ce9870f460a0fbe4a6",
       "version_major": 2,
       "version_minor": 0
      },
      "text/plain": [
       "HBox(children=(IntProgress(value=0, max=11425), HTML(value='')))"
      ]
     },
     "metadata": {},
     "output_type": "display_data"
    },
    {
     "name": "stdout",
     "output_type": "stream",
     "text": [
      "\n",
      "This is the layer I'm looking at:  encoder.h.9\n"
     ]
    },
    {
     "data": {
      "application/vnd.jupyter.widget-view+json": {
       "model_id": "ca1e125e2d0441b086ffe587c7e445ed",
       "version_major": 2,
       "version_minor": 0
      },
      "text/plain": [
       "HBox(children=(IntProgress(value=0, max=11425), HTML(value='')))"
      ]
     },
     "metadata": {},
     "output_type": "display_data"
    },
    {
     "name": "stdout",
     "output_type": "stream",
     "text": [
      "\n"
     ]
    },
    {
     "data": {
      "image/png": "[encoded data removed]",
      "text/plain": [
       "<Figure size 1080x720 with 4 Axes>"
      ]
     },
     "metadata": {
      "needs_background": "light"
     },
     "output_type": "display_data"
    }
   ],
   "source": [
    "get_corr_lineplots_loop([\"distilgpt2\", \"distilgpt2-avgtoken\", \"gpt2\", \"gpt2-avgtoken\"], scr_perturb=\"perturb\")"
   ]
  },
  {
   "cell_type": "code",
   "execution_count": 27,
   "id": "e84fab9d",
   "metadata": {},
   "outputs": [
    {
     "name": "stdout",
     "output_type": "stream",
     "text": [
      "Available layers: ['drop', 'encoder.h.0', 'encoder.h.1', 'encoder.h.2', 'encoder.h.3', 'encoder.h.4', 'encoder.h.5']\n",
      "This is the layer I'm looking at:  drop\n"
     ]
    },
    {
     "data": {
      "application/vnd.jupyter.widget-view+json": {
       "model_id": "c9218538e59d4ebd9b67f4e17141e1e3",
       "version_major": 2,
       "version_minor": 0
      },
      "text/plain": [
       "HBox(children=(IntProgress(value=0, max=11425), HTML(value='')))"
      ]
     },
     "metadata": {},
     "output_type": "display_data"
    },
    {
     "name": "stdout",
     "output_type": "stream",
     "text": [
      "\n",
      "This is the layer I'm looking at:  encoder.h.0\n"
     ]
    },
    {
     "data": {
      "application/vnd.jupyter.widget-view+json": {
       "model_id": "66f00e6c326c4637af29e279fe45229f",
       "version_major": 2,
       "version_minor": 0
      },
      "text/plain": [
       "HBox(children=(IntProgress(value=0, max=11425), HTML(value='')))"
      ]
     },
     "metadata": {},
     "output_type": "display_data"
    },
    {
     "name": "stdout",
     "output_type": "stream",
     "text": [
      "\n",
      "This is the layer I'm looking at:  encoder.h.1\n"
     ]
    },
    {
     "data": {
      "application/vnd.jupyter.widget-view+json": {
       "model_id": "383c54c6b8154f9aad416faf842ad8e7",
       "version_major": 2,
       "version_minor": 0
      },
      "text/plain": [
       "HBox(children=(IntProgress(value=0, max=11425), HTML(value='')))"
      ]
     },
     "metadata": {},
     "output_type": "display_data"
    },
    {
     "name": "stdout",
     "output_type": "stream",
     "text": [
      "\n",
      "This is the layer I'm looking at:  encoder.h.2\n"
     ]
    },
    {
     "data": {
      "application/vnd.jupyter.widget-view+json": {
       "model_id": "8b913b5c97b9432c810405ff7f6bd4d5",
       "version_major": 2,
       "version_minor": 0
      },
      "text/plain": [
       "HBox(children=(IntProgress(value=0, max=11425), HTML(value='')))"
      ]
     },
     "metadata": {},
     "output_type": "display_data"
    },
    {
     "name": "stdout",
     "output_type": "stream",
     "text": [
      "\n",
      "This is the layer I'm looking at:  encoder.h.3\n"
     ]
    },
    {
     "data": {
      "application/vnd.jupyter.widget-view+json": {
       "model_id": "fa66f7624c6e47e28e7434ac9d952380",
       "version_major": 2,
       "version_minor": 0
      },
      "text/plain": [
       "HBox(children=(IntProgress(value=0, max=11425), HTML(value='')))"
      ]
     },
     "metadata": {},
     "output_type": "display_data"
    },
    {
     "name": "stdout",
     "output_type": "stream",
     "text": [
      "\n",
      "This is the layer I'm looking at:  encoder.h.4\n"
     ]
    },
    {
     "data": {
      "application/vnd.jupyter.widget-view+json": {
       "model_id": "96099eea08c44d4b92ed3e37e2782d8a",
       "version_major": 2,
       "version_minor": 0
      },
      "text/plain": [
       "HBox(children=(IntProgress(value=0, max=11425), HTML(value='')))"
      ]
     },
     "metadata": {},
     "output_type": "display_data"
    },
    {
     "name": "stdout",
     "output_type": "stream",
     "text": [
      "\n",
      "This is the layer I'm looking at:  encoder.h.5\n"
     ]
    },
    {
     "data": {
      "application/vnd.jupyter.widget-view+json": {
       "model_id": "c4fd20b2d1864ddba19d1130674a5345",
       "version_major": 2,
       "version_minor": 0
      },
      "text/plain": [
       "HBox(children=(IntProgress(value=0, max=11425), HTML(value='')))"
      ]
     },
     "metadata": {},
     "output_type": "display_data"
    },
    {
     "name": "stdout",
     "output_type": "stream",
     "text": [
      "\n",
      "Available layers: ['drop', 'encoder.h.0', 'encoder.h.1', 'encoder.h.2', 'encoder.h.3', 'encoder.h.4', 'encoder.h.5']\n",
      "This is the layer I'm looking at:  drop\n"
     ]
    },
    {
     "data": {
      "application/vnd.jupyter.widget-view+json": {
       "model_id": "b877d8d7eee94ff88b4208b6cf176ca9",
       "version_major": 2,
       "version_minor": 0
      },
      "text/plain": [
       "HBox(children=(IntProgress(value=0, max=11425), HTML(value='')))"
      ]
     },
     "metadata": {},
     "output_type": "display_data"
    },
    {
     "name": "stdout",
     "output_type": "stream",
     "text": [
      "\n",
      "This is the layer I'm looking at:  encoder.h.0\n"
     ]
    },
    {
     "data": {
      "application/vnd.jupyter.widget-view+json": {
       "model_id": "1c859f1fbf6f4253a39ec8c43c76e9bd",
       "version_major": 2,
       "version_minor": 0
      },
      "text/plain": [
       "HBox(children=(IntProgress(value=0, max=11425), HTML(value='')))"
      ]
     },
     "metadata": {},
     "output_type": "display_data"
    },
    {
     "name": "stdout",
     "output_type": "stream",
     "text": [
      "\n",
      "This is the layer I'm looking at:  encoder.h.1\n"
     ]
    },
    {
     "data": {
      "application/vnd.jupyter.widget-view+json": {
       "model_id": "afbeae5b085547ebafac5c9ebecabbaf",
       "version_major": 2,
       "version_minor": 0
      },
      "text/plain": [
       "HBox(children=(IntProgress(value=0, max=11425), HTML(value='')))"
      ]
     },
     "metadata": {},
     "output_type": "display_data"
    },
    {
     "name": "stdout",
     "output_type": "stream",
     "text": [
      "\n",
      "This is the layer I'm looking at:  encoder.h.2\n"
     ]
    },
    {
     "data": {
      "application/vnd.jupyter.widget-view+json": {
       "model_id": "f643bfaa89974ad496fbc32807061543",
       "version_major": 2,
       "version_minor": 0
      },
      "text/plain": [
       "HBox(children=(IntProgress(value=0, max=11425), HTML(value='')))"
      ]
     },
     "metadata": {},
     "output_type": "display_data"
    },
    {
     "name": "stdout",
     "output_type": "stream",
     "text": [
      "\n",
      "This is the layer I'm looking at:  encoder.h.3\n"
     ]
    },
    {
     "data": {
      "application/vnd.jupyter.widget-view+json": {
       "model_id": "256960e4bafe4e0d8f286931b631bd9c",
       "version_major": 2,
       "version_minor": 0
      },
      "text/plain": [
       "HBox(children=(IntProgress(value=0, max=11425), HTML(value='')))"
      ]
     },
     "metadata": {},
     "output_type": "display_data"
    },
    {
     "name": "stdout",
     "output_type": "stream",
     "text": [
      "\n",
      "This is the layer I'm looking at:  encoder.h.4\n"
     ]
    },
    {
     "data": {
      "application/vnd.jupyter.widget-view+json": {
       "model_id": "c6fa0f25882f4265a595c72dd306b14f",
       "version_major": 2,
       "version_minor": 0
      },
      "text/plain": [
       "HBox(children=(IntProgress(value=0, max=11425), HTML(value='')))"
      ]
     },
     "metadata": {},
     "output_type": "display_data"
    },
    {
     "name": "stdout",
     "output_type": "stream",
     "text": [
      "\n",
      "This is the layer I'm looking at:  encoder.h.5\n"
     ]
    },
    {
     "data": {
      "application/vnd.jupyter.widget-view+json": {
       "model_id": "5a5be1fbdb4c42e5a7c399ffc142ac50",
       "version_major": 2,
       "version_minor": 0
      },
      "text/plain": [
       "HBox(children=(IntProgress(value=0, max=11425), HTML(value='')))"
      ]
     },
     "metadata": {},
     "output_type": "display_data"
    },
    {
     "name": "stdout",
     "output_type": "stream",
     "text": [
      "\n",
      "Available layers: ['drop', 'encoder.h.0', 'encoder.h.1', 'encoder.h.2', 'encoder.h.3', 'encoder.h.4', 'encoder.h.5', 'encoder.h.6', 'encoder.h.7', 'encoder.h.8', 'encoder.h.9', 'encoder.h.10', 'encoder.h.11']\n",
      "This is the layer I'm looking at:  drop\n"
     ]
    },
    {
     "data": {
      "application/vnd.jupyter.widget-view+json": {
       "model_id": "c6e34757e23044429a3a2d5451317121",
       "version_major": 2,
       "version_minor": 0
      },
      "text/plain": [
       "HBox(children=(IntProgress(value=0, max=11425), HTML(value='')))"
      ]
     },
     "metadata": {},
     "output_type": "display_data"
    },
    {
     "name": "stdout",
     "output_type": "stream",
     "text": [
      "\n",
      "This is the layer I'm looking at:  encoder.h.0\n"
     ]
    },
    {
     "data": {
      "application/vnd.jupyter.widget-view+json": {
       "model_id": "d73983f1fb2a46c29ad6c738ec235fec",
       "version_major": 2,
       "version_minor": 0
      },
      "text/plain": [
       "HBox(children=(IntProgress(value=0, max=11425), HTML(value='')))"
      ]
     },
     "metadata": {},
     "output_type": "display_data"
    },
    {
     "name": "stdout",
     "output_type": "stream",
     "text": [
      "\n",
      "This is the layer I'm looking at:  encoder.h.1\n"
     ]
    },
    {
     "data": {
      "application/vnd.jupyter.widget-view+json": {
       "model_id": "0363c1a1aa99494aafe9ea6d547fc4fe",
       "version_major": 2,
       "version_minor": 0
      },
      "text/plain": [
       "HBox(children=(IntProgress(value=0, max=11425), HTML(value='')))"
      ]
     },
     "metadata": {},
     "output_type": "display_data"
    },
    {
     "name": "stdout",
     "output_type": "stream",
     "text": [
      "\n",
      "This is the layer I'm looking at:  encoder.h.2\n"
     ]
    },
    {
     "data": {
      "application/vnd.jupyter.widget-view+json": {
       "model_id": "c7c75b8655f547059f2f6a1c8bbfd97a",
       "version_major": 2,
       "version_minor": 0
      },
      "text/plain": [
       "HBox(children=(IntProgress(value=0, max=11425), HTML(value='')))"
      ]
     },
     "metadata": {},
     "output_type": "display_data"
    },
    {
     "name": "stdout",
     "output_type": "stream",
     "text": [
      "\n",
      "This is the layer I'm looking at:  encoder.h.3\n"
     ]
    },
    {
     "data": {
      "application/vnd.jupyter.widget-view+json": {
       "model_id": "7fd5de5eeecd4e18a2ae89ba6166f78a",
       "version_major": 2,
       "version_minor": 0
      },
      "text/plain": [
       "HBox(children=(IntProgress(value=0, max=11425), HTML(value='')))"
      ]
     },
     "metadata": {},
     "output_type": "display_data"
    },
    {
     "name": "stdout",
     "output_type": "stream",
     "text": [
      "\n",
      "This is the layer I'm looking at:  encoder.h.4\n"
     ]
    },
    {
     "data": {
      "application/vnd.jupyter.widget-view+json": {
       "model_id": "08b02ec7d88d415cb986955ea9b6f841",
       "version_major": 2,
       "version_minor": 0
      },
      "text/plain": [
       "HBox(children=(IntProgress(value=0, max=11425), HTML(value='')))"
      ]
     },
     "metadata": {},
     "output_type": "display_data"
    },
    {
     "name": "stdout",
     "output_type": "stream",
     "text": [
      "\n",
      "This is the layer I'm looking at:  encoder.h.5\n"
     ]
    },
    {
     "data": {
      "application/vnd.jupyter.widget-view+json": {
       "model_id": "e236bbfdccde4bd2ad7be6e08c8c2411",
       "version_major": 2,
       "version_minor": 0
      },
      "text/plain": [
       "HBox(children=(IntProgress(value=0, max=11425), HTML(value='')))"
      ]
     },
     "metadata": {},
     "output_type": "display_data"
    },
    {
     "name": "stdout",
     "output_type": "stream",
     "text": [
      "\n",
      "This is the layer I'm looking at:  encoder.h.6\n"
     ]
    },
    {
     "data": {
      "application/vnd.jupyter.widget-view+json": {
       "model_id": "2ef2077d371b4e8bb0797e2d13f92a43",
       "version_major": 2,
       "version_minor": 0
      },
      "text/plain": [
       "HBox(children=(IntProgress(value=0, max=11425), HTML(value='')))"
      ]
     },
     "metadata": {},
     "output_type": "display_data"
    },
    {
     "name": "stdout",
     "output_type": "stream",
     "text": [
      "\n",
      "This is the layer I'm looking at:  encoder.h.7\n"
     ]
    },
    {
     "data": {
      "application/vnd.jupyter.widget-view+json": {
       "model_id": "fc83bef7734447feaf9a4a2672591d90",
       "version_major": 2,
       "version_minor": 0
      },
      "text/plain": [
       "HBox(children=(IntProgress(value=0, max=11425), HTML(value='')))"
      ]
     },
     "metadata": {},
     "output_type": "display_data"
    },
    {
     "name": "stdout",
     "output_type": "stream",
     "text": [
      "\n",
      "This is the layer I'm looking at:  encoder.h.8\n"
     ]
    },
    {
     "data": {
      "application/vnd.jupyter.widget-view+json": {
       "model_id": "49760429d2d1461e8781343ef9a02656",
       "version_major": 2,
       "version_minor": 0
      },
      "text/plain": [
       "HBox(children=(IntProgress(value=0, max=11425), HTML(value='')))"
      ]
     },
     "metadata": {},
     "output_type": "display_data"
    },
    {
     "name": "stdout",
     "output_type": "stream",
     "text": [
      "\n",
      "This is the layer I'm looking at:  encoder.h.9\n"
     ]
    },
    {
     "data": {
      "application/vnd.jupyter.widget-view+json": {
       "model_id": "0d1d262a94d74fd38639febec27f417f",
       "version_major": 2,
       "version_minor": 0
      },
      "text/plain": [
       "HBox(children=(IntProgress(value=0, max=11425), HTML(value='')))"
      ]
     },
     "metadata": {},
     "output_type": "display_data"
    },
    {
     "name": "stdout",
     "output_type": "stream",
     "text": [
      "\n",
      "This is the layer I'm looking at:  encoder.h.10\n"
     ]
    },
    {
     "data": {
      "application/vnd.jupyter.widget-view+json": {
       "model_id": "ede5eae608874ae695cbe41a71dc91e0",
       "version_major": 2,
       "version_minor": 0
      },
      "text/plain": [
       "HBox(children=(IntProgress(value=0, max=11425), HTML(value='')))"
      ]
     },
     "metadata": {},
     "output_type": "display_data"
    },
    {
     "name": "stdout",
     "output_type": "stream",
     "text": [
      "\n",
      "This is the layer I'm looking at:  encoder.h.11\n"
     ]
    },
    {
     "data": {
      "application/vnd.jupyter.widget-view+json": {
       "model_id": "80d628c1a6af46a29c5ea7cc1fdb4a46",
       "version_major": 2,
       "version_minor": 0
      },
      "text/plain": [
       "HBox(children=(IntProgress(value=0, max=11425), HTML(value='')))"
      ]
     },
     "metadata": {},
     "output_type": "display_data"
    },
    {
     "name": "stdout",
     "output_type": "stream",
     "text": [
      "\n",
      "Available layers: ['drop', 'encoder.h.0', 'encoder.h.1', 'encoder.h.10', 'encoder.h.11', 'encoder.h.2', 'encoder.h.3', 'encoder.h.4', 'encoder.h.5', 'encoder.h.6', 'encoder.h.7', 'encoder.h.8', 'encoder.h.9']\n",
      "This is the layer I'm looking at:  drop\n"
     ]
    },
    {
     "data": {
      "application/vnd.jupyter.widget-view+json": {
       "model_id": "3b8aa33e24c04ddab155aedc64e7db0c",
       "version_major": 2,
       "version_minor": 0
      },
      "text/plain": [
       "HBox(children=(IntProgress(value=0, max=11425), HTML(value='')))"
      ]
     },
     "metadata": {},
     "output_type": "display_data"
    },
    {
     "name": "stdout",
     "output_type": "stream",
     "text": [
      "\n",
      "This is the layer I'm looking at:  encoder.h.0\n"
     ]
    },
    {
     "data": {
      "application/vnd.jupyter.widget-view+json": {
       "model_id": "7ce960ae814747468738d3332a83a664",
       "version_major": 2,
       "version_minor": 0
      },
      "text/plain": [
       "HBox(children=(IntProgress(value=0, max=11425), HTML(value='')))"
      ]
     },
     "metadata": {},
     "output_type": "display_data"
    },
    {
     "name": "stdout",
     "output_type": "stream",
     "text": [
      "\n",
      "This is the layer I'm looking at:  encoder.h.1\n"
     ]
    },
    {
     "data": {
      "application/vnd.jupyter.widget-view+json": {
       "model_id": "001e5851af7c4197b94dae9e5169e91d",
       "version_major": 2,
       "version_minor": 0
      },
      "text/plain": [
       "HBox(children=(IntProgress(value=0, max=11425), HTML(value='')))"
      ]
     },
     "metadata": {},
     "output_type": "display_data"
    },
    {
     "name": "stdout",
     "output_type": "stream",
     "text": [
      "\n",
      "This is the layer I'm looking at:  encoder.h.10\n"
     ]
    },
    {
     "data": {
      "application/vnd.jupyter.widget-view+json": {
       "model_id": "e57ac155ec954685bc4327234acde17a",
       "version_major": 2,
       "version_minor": 0
      },
      "text/plain": [
       "HBox(children=(IntProgress(value=0, max=11425), HTML(value='')))"
      ]
     },
     "metadata": {},
     "output_type": "display_data"
    },
    {
     "name": "stdout",
     "output_type": "stream",
     "text": [
      "\n",
      "This is the layer I'm looking at:  encoder.h.11\n"
     ]
    },
    {
     "data": {
      "application/vnd.jupyter.widget-view+json": {
       "model_id": "11926bd7ecf0428d826419a39e36d7d1",
       "version_major": 2,
       "version_minor": 0
      },
      "text/plain": [
       "HBox(children=(IntProgress(value=0, max=11425), HTML(value='')))"
      ]
     },
     "metadata": {},
     "output_type": "display_data"
    },
    {
     "name": "stdout",
     "output_type": "stream",
     "text": [
      "\n",
      "This is the layer I'm looking at:  encoder.h.2\n"
     ]
    },
    {
     "data": {
      "application/vnd.jupyter.widget-view+json": {
       "model_id": "907450d970a44a029de47d37f8230b6b",
       "version_major": 2,
       "version_minor": 0
      },
      "text/plain": [
       "HBox(children=(IntProgress(value=0, max=11425), HTML(value='')))"
      ]
     },
     "metadata": {},
     "output_type": "display_data"
    },
    {
     "name": "stdout",
     "output_type": "stream",
     "text": [
      "\n",
      "This is the layer I'm looking at:  encoder.h.3\n"
     ]
    },
    {
     "data": {
      "application/vnd.jupyter.widget-view+json": {
       "model_id": "3609e0bbf4d7481e96b805601ca83494",
       "version_major": 2,
       "version_minor": 0
      },
      "text/plain": [
       "HBox(children=(IntProgress(value=0, max=11425), HTML(value='')))"
      ]
     },
     "metadata": {},
     "output_type": "display_data"
    },
    {
     "name": "stdout",
     "output_type": "stream",
     "text": [
      "\n",
      "This is the layer I'm looking at:  encoder.h.4\n"
     ]
    },
    {
     "data": {
      "application/vnd.jupyter.widget-view+json": {
       "model_id": "c3b0292ab19e40fbbc3e96d096544fa1",
       "version_major": 2,
       "version_minor": 0
      },
      "text/plain": [
       "HBox(children=(IntProgress(value=0, max=11425), HTML(value='')))"
      ]
     },
     "metadata": {},
     "output_type": "display_data"
    },
    {
     "name": "stdout",
     "output_type": "stream",
     "text": [
      "\n",
      "This is the layer I'm looking at:  encoder.h.5\n"
     ]
    },
    {
     "data": {
      "application/vnd.jupyter.widget-view+json": {
       "model_id": "729b16ed35c9496db899ec8468adec48",
       "version_major": 2,
       "version_minor": 0
      },
      "text/plain": [
       "HBox(children=(IntProgress(value=0, max=11425), HTML(value='')))"
      ]
     },
     "metadata": {},
     "output_type": "display_data"
    },
    {
     "name": "stdout",
     "output_type": "stream",
     "text": [
      "\n",
      "This is the layer I'm looking at:  encoder.h.6\n"
     ]
    },
    {
     "data": {
      "application/vnd.jupyter.widget-view+json": {
       "model_id": "d1237a17f1d64722a8c110983e0c9b76",
       "version_major": 2,
       "version_minor": 0
      },
      "text/plain": [
       "HBox(children=(IntProgress(value=0, max=11425), HTML(value='')))"
      ]
     },
     "metadata": {},
     "output_type": "display_data"
    },
    {
     "name": "stdout",
     "output_type": "stream",
     "text": [
      "\n",
      "This is the layer I'm looking at:  encoder.h.7\n"
     ]
    },
    {
     "data": {
      "application/vnd.jupyter.widget-view+json": {
       "model_id": "a38e0960f4e5482fb42bf63a15c9d33f",
       "version_major": 2,
       "version_minor": 0
      },
      "text/plain": [
       "HBox(children=(IntProgress(value=0, max=11425), HTML(value='')))"
      ]
     },
     "metadata": {},
     "output_type": "display_data"
    },
    {
     "name": "stdout",
     "output_type": "stream",
     "text": [
      "\n",
      "This is the layer I'm looking at:  encoder.h.8\n"
     ]
    },
    {
     "data": {
      "application/vnd.jupyter.widget-view+json": {
       "model_id": "095d9129b0444fed9b360fd3ce7c782b",
       "version_major": 2,
       "version_minor": 0
      },
      "text/plain": [
       "HBox(children=(IntProgress(value=0, max=11425), HTML(value='')))"
      ]
     },
     "metadata": {},
     "output_type": "display_data"
    },
    {
     "name": "stdout",
     "output_type": "stream",
     "text": [
      "\n",
      "This is the layer I'm looking at:  encoder.h.9\n"
     ]
    },
    {
     "data": {
      "application/vnd.jupyter.widget-view+json": {
       "model_id": "678303307d324511b34f0c951ebdcabe",
       "version_major": 2,
       "version_minor": 0
      },
      "text/plain": [
       "HBox(children=(IntProgress(value=0, max=11425), HTML(value='')))"
      ]
     },
     "metadata": {},
     "output_type": "display_data"
    },
    {
     "name": "stdout",
     "output_type": "stream",
     "text": [
      "\n"
     ]
    },
    {
     "data": {
      "image/png": "[encoded data removed]",
      "text/plain": [
       "<Figure size 1080x720 with 4 Axes>"
      ]
     },
     "metadata": {
      "needs_background": "light"
     },
     "output_type": "display_data"
    }
   ],
   "source": [
    "get_corr_lineplots_loop([\"distilgpt2\", \"distilgpt2-avgtoken\", \"gpt2\", \"gpt2-avgtoken\"], scr_perturb=\"scrambled\")"
   ]
  },
  {
   "cell_type": "code",
   "execution_count": null,
   "id": "31d8e4a2",
   "metadata": {},
   "outputs": [],
   "source": []
  }
 ],
 "metadata": {
  "kernelspec": {
   "display_name": "Python 3",
   "language": "python",
   "name": "python3"
  },
  "language_info": {
   "codemirror_mode": {
    "name": "ipython",
    "version": 3
   },
   "file_extension": ".py",
   "mimetype": "text/x-python",
   "name": "python",
   "nbconvert_exporter": "python",
   "pygments_lexer": "ipython3",
   "version": "3.6.2"
  }
 },
 "nbformat": 4,
 "nbformat_minor": 5
}
