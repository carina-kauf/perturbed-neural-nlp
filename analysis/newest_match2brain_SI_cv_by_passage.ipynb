{
 "cells": [
  {
   "cell_type": "markdown",
   "id": "be5f1845",
   "metadata": {},
   "source": [
    "# Main plotting script MATCH2BRAIN -- USED FOR CV-by-passage SI figure"
   ]
  },
  {
   "cell_type": "markdown",
   "id": "39a1d174",
   "metadata": {},
   "source": [
    "## Import packages"
   ]
  },
  {
   "cell_type": "code",
   "execution_count": 1,
   "id": "2e4156fd",
   "metadata": {},
   "outputs": [],
   "source": [
    "save = True"
   ]
  },
  {
   "cell_type": "code",
   "execution_count": 2,
   "id": "2ba42b8d",
   "metadata": {},
   "outputs": [],
   "source": [
    "#import packages\n",
    "import os\n",
    "from tqdm import tqdm\n",
    "import seaborn as sns\n",
    "import matplotlib.pyplot as plt\n",
    "from datetime import date\n",
    "import numpy as np\n",
    "import pandas as pd\n",
    "from matplotlib.gridspec import GridSpec\n",
    "import json\n",
    "from scipy import stats"
   ]
  },
  {
   "cell_type": "code",
   "execution_count": 3,
   "id": "cf67c1c0",
   "metadata": {},
   "outputs": [],
   "source": [
    "# import from other scripts\n",
    "import plot_utils\n",
    "import stats_utils"
   ]
  },
  {
   "cell_type": "markdown",
   "id": "bca4839a",
   "metadata": {},
   "source": [
    "## Define approach configuration"
   ]
  },
  {
   "cell_type": "code",
   "execution_count": 4,
   "id": "ffda07f5",
   "metadata": {},
   "outputs": [],
   "source": [
    "model_identifier=\"gpt2-xl\""
   ]
  },
  {
   "cell_type": "code",
   "execution_count": 5,
   "id": "3f917a5c",
   "metadata": {},
   "outputs": [],
   "source": [
    "#whether or not to include control condition random nouns (used for SI)\n",
    "randomnouns=False\n",
    "length_control=False"
   ]
  },
  {
   "cell_type": "code",
   "execution_count": 6,
   "id": "d403735b",
   "metadata": {},
   "outputs": [
    {
     "data": {
      "text/plain": [
       "['TrainIntact-TestPerturbed:contextualized',\n",
       " 'TrainIntact-TestPerturbed:decontextualized',\n",
       " 'TrainPerturbed-TestPerturbed:contextualized',\n",
       " 'TrainPerturbed-TestPerturbed:decontextualized',\n",
       " 'TrainPerturbed-TestPerturbed:cv-by-passage']"
      ]
     },
     "execution_count": 6,
     "metadata": {},
     "output_type": "execute_result"
    }
   ],
   "source": [
    "#load configuration\n",
    "with open('configurations.json', 'r') as f:\n",
    "    config = json.load(f)\n",
    "    \n",
    "list(config.keys())"
   ]
  },
  {
   "cell_type": "markdown",
   "id": "68a1bb39",
   "metadata": {},
   "source": [
    "## Get results"
   ]
  },
  {
   "cell_type": "code",
   "execution_count": 7,
   "id": "34659de9",
   "metadata": {},
   "outputs": [
    {
     "name": "stdout",
     "output_type": "stream",
     "text": [
      "TrainPerturbed-TestPerturbed:contextualized\n",
      "TrainPerturbed-TestPerturbed:decontextualized\n",
      "TrainPerturbed-TestPerturbed:cv-by-passage\n"
     ]
    },
    {
     "data": {
      "text/html": [
       "<div>\n",
       "<style scoped>\n",
       "    .dataframe tbody tr th:only-of-type {\n",
       "        vertical-align: middle;\n",
       "    }\n",
       "\n",
       "    .dataframe tbody tr th {\n",
       "        vertical-align: top;\n",
       "    }\n",
       "\n",
       "    .dataframe thead th {\n",
       "        text-align: right;\n",
       "    }\n",
       "</style>\n",
       "<table border=\"1\" class=\"dataframe\">\n",
       "  <thead>\n",
       "    <tr style=\"text-align: right;\">\n",
       "      <th></th>\n",
       "      <th>score</th>\n",
       "      <th>error</th>\n",
       "      <th>embedding context</th>\n",
       "      <th>condition</th>\n",
       "      <th>cross-validation</th>\n",
       "    </tr>\n",
       "  </thead>\n",
       "  <tbody>\n",
       "    <tr>\n",
       "      <th>0</th>\n",
       "      <td>0.352717</td>\n",
       "      <td>0.045185</td>\n",
       "      <td>Passage</td>\n",
       "      <td>original</td>\n",
       "      <td>by-sentence</td>\n",
       "    </tr>\n",
       "    <tr>\n",
       "      <th>0</th>\n",
       "      <td>0.262592</td>\n",
       "      <td>0.040933</td>\n",
       "      <td>Sentence</td>\n",
       "      <td>original</td>\n",
       "      <td>by-sentence</td>\n",
       "    </tr>\n",
       "    <tr>\n",
       "      <th>0</th>\n",
       "      <td>0.098130</td>\n",
       "      <td>0.050681</td>\n",
       "      <td>Passage</td>\n",
       "      <td>original</td>\n",
       "      <td>by-passage</td>\n",
       "    </tr>\n",
       "  </tbody>\n",
       "</table>\n",
       "</div>"
      ],
      "text/plain": [
       "      score     error embedding context condition cross-validation\n",
       "0  0.352717  0.045185           Passage  original      by-sentence\n",
       "0  0.262592  0.040933          Sentence  original      by-sentence\n",
       "0  0.098130  0.050681           Passage  original       by-passage"
      ]
     },
     "execution_count": 7,
     "metadata": {},
     "output_type": "execute_result"
    }
   ],
   "source": [
    "frames = []\n",
    "for approach in [\"TrainPerturbed-TestPerturbed:contextualized\",\n",
    "                \"TrainPerturbed-TestPerturbed:decontextualized\",\n",
    "                \"TrainPerturbed-TestPerturbed:cv-by-passage\"]:\n",
    "    print(approach)\n",
    "    emb_context=config[approach][\"emb_context\"]\n",
    "    split_coord=config[approach][\"split_coord\"]\n",
    "    testonperturbed=config[approach][\"testonperturbed\"]\n",
    "\n",
    "    scores_df = plot_utils.get_best_scores_df(model_identifier, emb_context=emb_context, split_coord=split_coord,\n",
    "                                                 testonperturbed=testonperturbed,\n",
    "                                                 which_df = 'stats')\n",
    "    scores_df = scores_df.drop(columns=['category_group'])\n",
    "    scores_df = scores_df.drop_duplicates()\n",
    "    scores_df = scores_df.loc[scores_df[\"condition\"]==\"original\"]\n",
    "    score = scores_df['values'].median()\n",
    "    error = stats.median_abs_deviation(list(scores_df['values']), scale='normal')\n",
    "    plot_df = pd.DataFrame({\n",
    "        'score' : [score],\n",
    "        'error' : [error],\n",
    "        'embedding context' : [emb_context],\n",
    "        'condition' : ['original']  \n",
    "    })\n",
    "    \n",
    "    if 'cv-by-passage' in approach:\n",
    "        plot_df[\"cross-validation\"] = \"by-passage\"\n",
    "    else:\n",
    "        plot_df[\"cross-validation\"] = \"by-sentence\"\n",
    "    frames.append(plot_df)\n",
    "full_df = pd.concat(frames)\n",
    "full_df"
   ]
  },
  {
   "cell_type": "code",
   "execution_count": 12,
   "id": "030cf33d",
   "metadata": {},
   "outputs": [],
   "source": [
    "#Rename conditions according to new names:\n",
    "full_df['condition'] = full_df['condition'].map(plot_utils.COND2LABEL)\n",
    "full_df[\"embedding context\"] = full_df[\"embedding context\"].str.lower()"
   ]
  },
  {
   "cell_type": "markdown",
   "id": "2123bd51",
   "metadata": {},
   "source": [
    "## Plot"
   ]
  },
  {
   "cell_type": "code",
   "execution_count": 13,
   "id": "df02d8a4",
   "metadata": {
    "scrolled": false
   },
   "outputs": [],
   "source": [
    "#define global figure settings\n",
    "import matplotlib\n",
    "matplotlib.rcParams['pdf.fonttype'] = 42\n",
    "matplotlib.rcParams['ps.fonttype'] = 42\n",
    "matplotlib.rcParams['svg.fonttype'] = 'none'\n",
    "\n",
    "custom_params = {\"axes.spines.right\": False,\n",
    "                 \"axes.spines.top\": False,\n",
    "                 'ytick.left': True,\n",
    "                 'xtick.bottom': True,\n",
    "                'grid.linestyle': \"\" #gets rid of horizontal lines\n",
    "                }\n",
    "sns.set_theme(font_scale=1.4, style=\"white\", rc=custom_params)"
   ]
  },
  {
   "cell_type": "code",
   "execution_count": 14,
   "id": "bd18c154",
   "metadata": {},
   "outputs": [],
   "source": [
    "CV2COLOR = {\n",
    "    \"by-sentence\" : \"lightgray\",\n",
    "    \"by-passage\" : \"dimgray\"\n",
    "}\n",
    "\n",
    "CV2HATCH = {\n",
    "    \"sentence\" : \"///\",\n",
    "    \"passage\" : \"..\"\n",
    "}"
   ]
  },
  {
   "cell_type": "code",
   "execution_count": 15,
   "id": "ef92782d",
   "metadata": {
    "scrolled": false
   },
   "outputs": [
    {
     "data": {
      "image/png": "[encoded data removed]",
      "text/plain": [
       "<Figure size 864x504 with 1 Axes>"
      ]
     },
     "metadata": {},
     "output_type": "display_data"
    }
   ],
   "source": [
    "num_bars = 3\n",
    "nrows = 1\n",
    "\n",
    "fig2 = plt.figure(constrained_layout=True, figsize=(12, 7), facecolor='white')\n",
    "spec2 = GridSpec(ncols=1, nrows=nrows, figure=fig2)\n",
    "f2_ax = []\n",
    "\n",
    "f2_ax.append(fig2.add_subplot(spec2[0, 0]))\n",
    "\n",
    "x_pos = np.arange(len(full_df))\n",
    "scores = list(full_df['score'])\n",
    "errors = list(full_df['error'])\n",
    "conditions = list(full_df['condition'])\n",
    "cvs = list(full_df['cross-validation'])\n",
    "emb_contexts = list(full_df['embedding context'])\n",
    "\n",
    "colors = [CV2COLOR[elm] for elm in cvs]\n",
    "hatches = [CV2HATCH[elm] for elm in emb_contexts]\n",
    "\n",
    "f2_ax[-1].bar(x_pos, scores,\n",
    "    yerr=errors,\n",
    "    align='center',\n",
    "    alpha=0.9, #color intensity\n",
    "    ecolor='black',\n",
    "    capsize=5, #error-bar width\n",
    "    color=colors,\n",
    "    hatch=hatches)\n",
    "\n",
    "\n",
    "f2_ax[-1].axhline(y=0, color=\"black\")\n",
    "\n",
    "# map names to colors\n",
    "cmap = dict(zip(cvs, colors))\n",
    "cmap = {k: v for k, v in cmap.items()}\n",
    "# create the rectangles for the legend\n",
    "from matplotlib.patches import Patch\n",
    "\n",
    "patches = [Patch(color=v, label=k, alpha=0.8) for k, v in cmap.items()]\n",
    "\n",
    "# add the legend\n",
    "first_legend = f2_ax[-1].legend(title=f'Cross-validation', labels=cmap.keys(), handles=patches, bbox_to_anchor=(1.05, 0.5),\n",
    "             loc='center left', title_fontsize=15, prop={'size': 13.5})\n",
    "plt.gca().add_artist(first_legend)\n",
    "\n",
    "# add second legend\n",
    "hatchmap = dict(zip(emb_contexts, hatches))\n",
    "hatchmap = {k: v for k, v in hatchmap.items()}\n",
    "patches2 = [Patch(edgecolor=\"black\", facecolor=\"white\", hatch=v, label=k, alpha=0.8) for k, v in hatchmap.items()]\n",
    "f2_ax[-1].legend(title=f'Contextualization', labels=hatchmap.keys(), handles=patches2, bbox_to_anchor=(1.05, 0.25),\n",
    "             loc='center left', title_fontsize=15, prop={'size': 13.5}) \n",
    "\n",
    "# TICKS\n",
    "## to get current ones: f2_ax[-1].get_yticks()\n",
    "yticks = [0, 0.1, 0.2, 0.3, 0.4]\n",
    "f2_ax[-1].set_yticks(yticks)\n",
    "#set yticks\n",
    "f2_ax[-1].set_xticks(list(range(num_bars)))\n",
    "xticknames = [\"\\nFrom\".join(elm.split(\"From\")) for elm in conditions]\n",
    "f2_ax[-1].set_xticklabels([x for x in xticknames if x], rotation=70, ha=\"right\", rotation_mode=\"anchor\")\n",
    "\n",
    "f2_ax[-1].set_ylabel('Brain predictivity')\n",
    "f2_ax[-1].set_title('TrainPerturbed-TestPerturbed')\n",
    "\n",
    "plt.tight_layout()\n",
    "plt.savefig('results_paper_revision/SupplementaryInformation/cv_by_passage.svg', dpi=300)\n",
    "plt.savefig('results_paper_revision/SupplementaryInformation/cv_by_passage.png', dpi=300)"
   ]
  },
  {
   "cell_type": "code",
   "execution_count": null,
   "id": "8e0813dc",
   "metadata": {},
   "outputs": [],
   "source": []
  },
  {
   "cell_type": "code",
   "execution_count": null,
   "id": "e6a9c687",
   "metadata": {},
   "outputs": [],
   "source": []
  }
 ],
 "metadata": {
  "kernelspec": {
   "display_name": "Python 3",
   "language": "python",
   "name": "python3"
  },
  "language_info": {
   "codemirror_mode": {
    "name": "ipython",
    "version": 3
   },
   "file_extension": ".py",
   "mimetype": "text/x-python",
   "name": "python",
   "nbconvert_exporter": "python",
   "pygments_lexer": "ipython3",
   "version": "3.8.13"
  }
 },
 "nbformat": 4,
 "nbformat_minor": 5
}
