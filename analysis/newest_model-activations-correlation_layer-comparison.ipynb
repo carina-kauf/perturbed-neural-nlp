{
 "cells": [
  {
   "cell_type": "code",
   "execution_count": 1,
   "id": "b725d00f",
   "metadata": {},
   "outputs": [],
   "source": [
    "import os\n",
    "import re\n",
    "import pickle\n",
    "import numpy as np\n",
    "import pandas as pd\n",
    "from tqdm.notebook import tqdm\n",
    "import seaborn as sns\n",
    "import matplotlib.pyplot as plt\n",
    "from datetime import date"
   ]
  },
  {
   "cell_type": "code",
   "execution_count": 2,
   "id": "58ab3470",
   "metadata": {},
   "outputs": [],
   "source": [
    "import plot_utils"
   ]
  },
  {
   "cell_type": "code",
   "execution_count": 3,
   "id": "25d0de85",
   "metadata": {},
   "outputs": [],
   "source": [
    "working_dir = \"/om2/user/ckauf/.result_caching/neural_nlp.models.wrapper.core.ActivationsExtractorHelper._from_sentences_stored\""
   ]
  },
  {
   "cell_type": "code",
   "execution_count": 4,
   "id": "83b7d6c2",
   "metadata": {},
   "outputs": [],
   "source": [
    "model_identifier = 'gpt2-xl'\n",
    "emb_context = 'Passage'\n",
    "split_coord = \"Sentence\"\n",
    "testonperturbed = True\n",
    "randomnouns = False"
   ]
  },
  {
   "cell_type": "code",
   "execution_count": 5,
   "id": "02c62e2a",
   "metadata": {},
   "outputs": [],
   "source": [
    "# assimilate names between surpisals and brainscores\n",
    "\n",
    "CONDMAP = {\n",
    "    'Original': f'original',\n",
    "    #\n",
    "    'Scr1': f'scrambled1',  # different for teston, there teston:scr1\n",
    "    'Scr3': f'scrambled3',\n",
    "    'Scr5': f'scrambled5',\n",
    "    'Scr7': f'scrambled7',\n",
    "    'backward': f'backward',\n",
    "    'lowPMI': f'lowpmi',\n",
    "    'lowPMI-random': f'lowpmi-random',\n",
    "    #\n",
    "    'nouns': f'nouns',\n",
    "    #'randomnouns': f'random-nouns',\n",
    "    'nounsverbs': f'nounsverbs',\n",
    "    'nounsverbsadj': f'nounsverbsadj',\n",
    "    'contentwords': f'contentwords',\n",
    "    'functionwords': f'functionwords',\n",
    "    #\n",
    "    'sentenceshuffle_passage': f'sent_passage',\n",
    "    'sentenceshuffle_topic': f'sent_topic',\n",
    "    'sentenceshuffle_random': f'sent_random',\n",
    "    #\n",
    "    'random-wl': f'random-wl'\n",
    "}"
   ]
  },
  {
   "cell_type": "code",
   "execution_count": 6,
   "id": "a78044bd",
   "metadata": {},
   "outputs": [],
   "source": [
    "def get_layers(model_identifier, which_layer=\"last\"):\n",
    "    \"\"\"\n",
    "    input: model_identifier of model of which we want to find the layers\n",
    "    output: np.array of all unique layer identifiers, ordered by position\n",
    "    \"\"\"\n",
    "    for ind,filename in enumerate(os.listdir(working_dir)):\n",
    "        if \"identifier=\" + model_identifier in filename:\n",
    "            file = os.path.join(working_dir,filename)\n",
    "            with open(file, 'rb') as f:\n",
    "                result = pickle.load(f)\n",
    "            result = result['data']\n",
    "            layer_list = np.unique(result.layer)\n",
    "            #order double-digit layers at end of list\n",
    "            double_digits = [elm for elm in layer_list if 'encoder.h.' in elm and len(elm.split('.h.')[-1]) > 1]\n",
    "            layers = [e for e in layer_list if e not in double_digits] + double_digits\n",
    "            \n",
    "            if which_layer==\"last\":\n",
    "                final_layer = layers[-1]\n",
    "                return final_layer\n",
    "            else:\n",
    "                return layers\n",
    "            break"
   ]
  },
  {
   "cell_type": "code",
   "execution_count": 7,
   "id": "7fa30e3b",
   "metadata": {},
   "outputs": [],
   "source": [
    "def get_passage_identifier(filename):\n",
    "    \"\"\"\n",
    "    get passage identifier to be used as key for the dictionary.\n",
    "    important step: fill the identifier with 0s for single-digit passage numbers\n",
    "    \"\"\"\n",
    "    passage = filename.split(\"-\")[-1].split(\".\")[0]\n",
    "    number = passage.split(\"sentences\")[-1]\n",
    "    if len(number) == 1:\n",
    "        passage_identifier = passage[:-1] + number.zfill(2)\n",
    "    else:\n",
    "        passage_identifier = passage\n",
    "    return passage_identifier"
   ]
  },
  {
   "cell_type": "code",
   "execution_count": 8,
   "id": "6b9f2dc3",
   "metadata": {},
   "outputs": [],
   "source": [
    "from tqdm.notebook import tqdm\n",
    "\n",
    "def get_dictionary(model_identifier, emb_context=None):\n",
    "    \"\"\"\n",
    "    input: model identifier\n",
    "    output: populated model dictionary with data of just the selected layer (default: last_layer)\n",
    "    dictionary structure: passage_identifier --> condition identifier --> data\n",
    "    \"\"\"\n",
    "    \n",
    "    model_dictionary = model_identifier + \"_dict\"\n",
    "    model_dictionary = {}\n",
    "    \n",
    "    #look at last layer by default\n",
    "    layer_identifier = get_layers(model_identifier, which_layer=\"last\")\n",
    "\n",
    "    print(\"This is the layer I'm looking at: \", layer_identifier)\n",
    "    print(f\"This is the emb_context={emb_context}\")\n",
    "    \n",
    "    for cond in tqdm(CONDMAP.keys()):\n",
    "        print(cond)\n",
    "        for filename in tqdm(os.listdir(working_dir)):\n",
    "            if f\"identifier={model_identifier},stimuli_identifier=Pereira2018-{cond}-lasttoken,emb_context={emb_context}\" in filename:\n",
    "                passage_identifier = get_passage_identifier(filename)\n",
    "\n",
    "                file = os.path.join(working_dir,filename)\n",
    "                with open(file, 'rb') as f:\n",
    "                    out = pickle.load(f)\n",
    "                result = out['data']\n",
    "                data = result[{\"neuroid\": [layer == layer_identifier for layer in result[\"layer\"].values]}]\n",
    "\n",
    "                if not cond in model_dictionary:\n",
    "                    model_dictionary[cond] = {}\n",
    "                model_dictionary[cond][passage_identifier] = data\n",
    "    \n",
    "    return model_dictionary"
   ]
  },
  {
   "cell_type": "code",
   "execution_count": null,
   "id": "8aa264b1",
   "metadata": {},
   "outputs": [
    {
     "name": "stderr",
     "output_type": "stream",
     "text": [
      "/om2/user/ckauf/anaconda39/envs/perturbed3.8/lib/python3.8/site-packages/xarray/core/merge.py:17: FutureWarning: The Panel class is removed from pandas. Accessing it from the top-level namespace will also be removed in the next version\n",
      "  PANDAS_TYPES = (pd.Series, pd.DataFrame, pd.Panel)\n"
     ]
    },
    {
     "name": "stdout",
     "output_type": "stream",
     "text": [
      "This is the layer I'm looking at:  encoder.h.47\n",
      "This is the emb_context=Passage\n"
     ]
    },
    {
     "data": {
      "application/vnd.jupyter.widget-view+json": {
       "model_id": "961f674eeae64febb19cfa489364eb41",
       "version_major": 2,
       "version_minor": 0
      },
      "text/plain": [
       "  0%|          | 0/17 [00:00<?, ?it/s]"
      ]
     },
     "metadata": {},
     "output_type": "display_data"
    },
    {
     "name": "stdout",
     "output_type": "stream",
     "text": [
      "Original\n"
     ]
    },
    {
     "data": {
      "application/vnd.jupyter.widget-view+json": {
       "model_id": "5d95d8ee876d4a268c6c8ee7c33386ae",
       "version_major": 2,
       "version_minor": 0
      },
      "text/plain": [
       "  0%|          | 0/63407 [00:00<?, ?it/s]"
      ]
     },
     "metadata": {},
     "output_type": "display_data"
    },
    {
     "name": "stdout",
     "output_type": "stream",
     "text": [
      "Scr1\n"
     ]
    },
    {
     "data": {
      "application/vnd.jupyter.widget-view+json": {
       "model_id": "57ff92a2dedf4413be7aee7ab051ac87",
       "version_major": 2,
       "version_minor": 0
      },
      "text/plain": [
       "  0%|          | 0/63407 [00:00<?, ?it/s]"
      ]
     },
     "metadata": {},
     "output_type": "display_data"
    },
    {
     "name": "stdout",
     "output_type": "stream",
     "text": [
      "Scr3\n"
     ]
    },
    {
     "data": {
      "application/vnd.jupyter.widget-view+json": {
       "model_id": "bcee18a44db94dc2b1cb90ee1eb1c669",
       "version_major": 2,
       "version_minor": 0
      },
      "text/plain": [
       "  0%|          | 0/63407 [00:00<?, ?it/s]"
      ]
     },
     "metadata": {},
     "output_type": "display_data"
    },
    {
     "name": "stdout",
     "output_type": "stream",
     "text": [
      "Scr5\n"
     ]
    },
    {
     "data": {
      "application/vnd.jupyter.widget-view+json": {
       "model_id": "88872784e5f94be38af1354db6735ba4",
       "version_major": 2,
       "version_minor": 0
      },
      "text/plain": [
       "  0%|          | 0/63407 [00:00<?, ?it/s]"
      ]
     },
     "metadata": {},
     "output_type": "display_data"
    },
    {
     "name": "stdout",
     "output_type": "stream",
     "text": [
      "Scr7\n"
     ]
    },
    {
     "data": {
      "application/vnd.jupyter.widget-view+json": {
       "model_id": "db94582f689246e490250ea626577bf9",
       "version_major": 2,
       "version_minor": 0
      },
      "text/plain": [
       "  0%|          | 0/63407 [00:00<?, ?it/s]"
      ]
     },
     "metadata": {},
     "output_type": "display_data"
    },
    {
     "name": "stdout",
     "output_type": "stream",
     "text": [
      "backward\n"
     ]
    },
    {
     "data": {
      "application/vnd.jupyter.widget-view+json": {
       "model_id": "af7015cac2f94352a55e6be7b50e8a39",
       "version_major": 2,
       "version_minor": 0
      },
      "text/plain": [
       "  0%|          | 0/63407 [00:00<?, ?it/s]"
      ]
     },
     "metadata": {},
     "output_type": "display_data"
    },
    {
     "name": "stdout",
     "output_type": "stream",
     "text": [
      "lowPMI\n"
     ]
    },
    {
     "data": {
      "application/vnd.jupyter.widget-view+json": {
       "model_id": "7661699e0a3b4bf3b5c4db52aa3d1c13",
       "version_major": 2,
       "version_minor": 0
      },
      "text/plain": [
       "  0%|          | 0/63407 [00:00<?, ?it/s]"
      ]
     },
     "metadata": {},
     "output_type": "display_data"
    },
    {
     "name": "stdout",
     "output_type": "stream",
     "text": [
      "lowPMI-random\n"
     ]
    },
    {
     "data": {
      "application/vnd.jupyter.widget-view+json": {
       "model_id": "6d72e446fc4c44008c046de2cbe5c1ba",
       "version_major": 2,
       "version_minor": 0
      },
      "text/plain": [
       "  0%|          | 0/63407 [00:00<?, ?it/s]"
      ]
     },
     "metadata": {},
     "output_type": "display_data"
    },
    {
     "name": "stdout",
     "output_type": "stream",
     "text": [
      "nouns\n"
     ]
    },
    {
     "data": {
      "application/vnd.jupyter.widget-view+json": {
       "model_id": "ad36bae17f5e4494a1bf2e4337a63d3e",
       "version_major": 2,
       "version_minor": 0
      },
      "text/plain": [
       "  0%|          | 0/63407 [00:00<?, ?it/s]"
      ]
     },
     "metadata": {},
     "output_type": "display_data"
    },
    {
     "name": "stdout",
     "output_type": "stream",
     "text": [
      "nounsverbs\n"
     ]
    },
    {
     "data": {
      "application/vnd.jupyter.widget-view+json": {
       "model_id": "5c0f74745dcb43c99ea03a7b8d00513a",
       "version_major": 2,
       "version_minor": 0
      },
      "text/plain": [
       "  0%|          | 0/63407 [00:00<?, ?it/s]"
      ]
     },
     "metadata": {},
     "output_type": "display_data"
    },
    {
     "name": "stdout",
     "output_type": "stream",
     "text": [
      "nounsverbsadj\n"
     ]
    },
    {
     "data": {
      "application/vnd.jupyter.widget-view+json": {
       "model_id": "0149e336380d491594ff4b98ad3e575f",
       "version_major": 2,
       "version_minor": 0
      },
      "text/plain": [
       "  0%|          | 0/63407 [00:00<?, ?it/s]"
      ]
     },
     "metadata": {},
     "output_type": "display_data"
    },
    {
     "name": "stdout",
     "output_type": "stream",
     "text": [
      "contentwords\n"
     ]
    },
    {
     "data": {
      "application/vnd.jupyter.widget-view+json": {
       "model_id": "d2fa11c99d2d434ca661059741b0abe9",
       "version_major": 2,
       "version_minor": 0
      },
      "text/plain": [
       "  0%|          | 0/63407 [00:00<?, ?it/s]"
      ]
     },
     "metadata": {},
     "output_type": "display_data"
    },
    {
     "name": "stdout",
     "output_type": "stream",
     "text": [
      "functionwords\n"
     ]
    },
    {
     "data": {
      "application/vnd.jupyter.widget-view+json": {
       "model_id": "52579ac92fbb4793a2114a7a80ed6180",
       "version_major": 2,
       "version_minor": 0
      },
      "text/plain": [
       "  0%|          | 0/63407 [00:00<?, ?it/s]"
      ]
     },
     "metadata": {},
     "output_type": "display_data"
    },
    {
     "name": "stdout",
     "output_type": "stream",
     "text": [
      "sentenceshuffle_passage\n"
     ]
    },
    {
     "data": {
      "application/vnd.jupyter.widget-view+json": {
       "model_id": "6f5a669e20494358a09f095b8a68c572",
       "version_major": 2,
       "version_minor": 0
      },
      "text/plain": [
       "  0%|          | 0/63407 [00:00<?, ?it/s]"
      ]
     },
     "metadata": {},
     "output_type": "display_data"
    },
    {
     "name": "stdout",
     "output_type": "stream",
     "text": [
      "sentenceshuffle_topic\n"
     ]
    },
    {
     "data": {
      "application/vnd.jupyter.widget-view+json": {
       "model_id": "efd61b1104d643889b51956a8bede556",
       "version_major": 2,
       "version_minor": 0
      },
      "text/plain": [
       "  0%|          | 0/63407 [00:00<?, ?it/s]"
      ]
     },
     "metadata": {},
     "output_type": "display_data"
    },
    {
     "name": "stdout",
     "output_type": "stream",
     "text": [
      "sentenceshuffle_random\n"
     ]
    },
    {
     "data": {
      "application/vnd.jupyter.widget-view+json": {
       "model_id": "a23413ca2ba64d62bce76d6e368ffb27",
       "version_major": 2,
       "version_minor": 0
      },
      "text/plain": [
       "  0%|          | 0/63407 [00:00<?, ?it/s]"
      ]
     },
     "metadata": {},
     "output_type": "display_data"
    },
    {
     "name": "stdout",
     "output_type": "stream",
     "text": [
      "random-wl\n"
     ]
    },
    {
     "data": {
      "application/vnd.jupyter.widget-view+json": {
       "model_id": "8aa3585f4f774be0b81a8601c8eb3a11",
       "version_major": 2,
       "version_minor": 0
      },
      "text/plain": [
       "  0%|          | 0/63407 [00:00<?, ?it/s]"
      ]
     },
     "metadata": {},
     "output_type": "display_data"
    }
   ],
   "source": [
    "model_activations_dictionary = get_dictionary(model_identifier=model_identifier, emb_context=emb_context)"
   ]
  },
  {
   "cell_type": "code",
   "execution_count": null,
   "id": "71f9e8f5",
   "metadata": {},
   "outputs": [],
   "source": [
    "assert model_activations_dictionary[\"Original\"].keys() == model_activations_dictionary[\"Scr1\"].keys()\n",
    "print(\"Same\")"
   ]
  },
  {
   "cell_type": "code",
   "execution_count": null,
   "id": "4fe5206f",
   "metadata": {},
   "outputs": [],
   "source": [
    "model_activations_dictionary[\"Original\"].keys()"
   ]
  },
  {
   "cell_type": "code",
   "execution_count": null,
   "id": "7c8dd69c",
   "metadata": {},
   "outputs": [],
   "source": [
    "print(len(model_activations_dictionary[\"Original\"]))\n",
    "print(len(model_activations_dictionary[\"Original\"][\"243sentences01\"]))\n",
    "print(len(model_activations_dictionary[\"Original\"][\"243sentences01\"][0]))"
   ]
  },
  {
   "cell_type": "code",
   "execution_count": null,
   "id": "ed8b8ea3",
   "metadata": {},
   "outputs": [],
   "source": [
    "def flatten_array(liste):\n",
    "    liste_flatten = [item for sublist in liste for item in sublist]\n",
    "    return liste_flatten"
   ]
  },
  {
   "cell_type": "code",
   "execution_count": null,
   "id": "127687f4",
   "metadata": {},
   "outputs": [],
   "source": [
    "model_activations_dictionary.keys()"
   ]
  },
  {
   "cell_type": "code",
   "execution_count": null,
   "id": "b39be5ca",
   "metadata": {},
   "outputs": [],
   "source": [
    "flatten_dict = {}\n",
    "for cond in tqdm(CONDMAP.keys()):\n",
    "    flatten_array_passage = flatten_array(model_activations_dictionary[f\"{cond}\"].values())\n",
    "    flatten_array_activations = np.asarray(flatten_array_passage).flatten()\n",
    "    flatten_dict[cond] = flatten_array_activations\n",
    "flatten_dict.keys()\n",
    "assert len(flatten_dict[\"Original\"]) == (627 * 1600)\n",
    "print(\"Asserted!\")"
   ]
  },
  {
   "cell_type": "code",
   "execution_count": null,
   "id": "7cfeade4",
   "metadata": {},
   "outputs": [],
   "source": [
    "from scipy import stats\n",
    "def get_correlations_df_dict(flatten_dict):\n",
    "    \n",
    "    correlations_df_dict = {}\n",
    "    for cond in tqdm(CONDMAP.keys()):\n",
    "        orig_column = flatten_dict['Original']\n",
    "        correlation = stats.spearmanr(orig_column,flatten_dict[cond])[0]\n",
    "        correlations_df_dict[cond] = correlation\n",
    "    \n",
    "    return correlations_df_dict"
   ]
  },
  {
   "cell_type": "code",
   "execution_count": null,
   "id": "15162b0a",
   "metadata": {},
   "outputs": [],
   "source": [
    "correlations_df_dict = get_correlations_df_dict(flatten_dict)"
   ]
  },
  {
   "cell_type": "code",
   "execution_count": null,
   "id": "750d7d3c",
   "metadata": {},
   "outputs": [],
   "source": [
    "correlations_df_dict"
   ]
  },
  {
   "cell_type": "markdown",
   "id": "bce5d8b1",
   "metadata": {},
   "source": [
    "# Plot"
   ]
  },
  {
   "cell_type": "code",
   "execution_count": null,
   "id": "f7080ab8",
   "metadata": {},
   "outputs": [],
   "source": [
    "CAT2COND , COND2CAT = plot_utils.get_conditions(testonperturbed=False)"
   ]
  },
  {
   "cell_type": "code",
   "execution_count": null,
   "id": "d007ebdb",
   "metadata": {},
   "outputs": [],
   "source": [
    "# super ugly - redo!\n",
    "correlations_df = pd.DataFrame.from_dict([correlations_df_dict]).T.reset_index()\n",
    "correlations_df.columns = [\"condition\", \"Spearman correlation\"]\n",
    "#Rename conditions\n",
    "correlations_df['condition'] = correlations_df['condition'].map(CONDMAP)\n",
    "correlations_df['condition'] = correlations_df['condition'].replace(\n",
    "        {'sent_random': 'sentenceshuffle_random',\n",
    "    'sent_passage': 'sentenceshuffle_passage',\n",
    "    'sent_topic': 'sentenceshuffle_topic'})\n",
    "correlations_df['category'] = correlations_df['condition'].map(COND2CAT)\n",
    "#Rename conditions according to new names\n",
    "correlations_df['condition'] = correlations_df['condition'].replace(\n",
    "        {'sentenceshuffle_random': 'sent_random',\n",
    "    'sentenceshuffle_passage': 'sent_passage',\n",
    "    'sentenceshuffle_topic': 'sent_topic'})\n",
    "correlations_df['condition'] = correlations_df['condition'].map(plot_utils.COND2LABEL)\n",
    "correlations_df"
   ]
  },
  {
   "cell_type": "code",
   "execution_count": null,
   "id": "024a652a",
   "metadata": {},
   "outputs": [],
   "source": [
    "correlations_df.to_csv(\"last_layer_correlations.csv\", index=False)"
   ]
  },
  {
   "cell_type": "code",
   "execution_count": null,
   "id": "41c5715f",
   "metadata": {},
   "outputs": [],
   "source": [
    "import matplotlib\n",
    "matplotlib.rcParams['pdf.fonttype'] = 42\n",
    "matplotlib.rcParams['ps.fonttype'] = 42\n",
    "matplotlib.rcParams['svg.fonttype'] = 'none'\n",
    "\n",
    "custom_params = {\"axes.spines.right\": False,\n",
    "                 \"axes.spines.top\": False,\n",
    "                 'ytick.left': True,\n",
    "                 'xtick.bottom': True,\n",
    "                'grid.linestyle': \"\", #gets rid of horizontal lines\n",
    "                 # set tick width\n",
    "                'xtick.major.size' : 20,\n",
    "                'xtick.major.width': 4,\n",
    "                'xtick.minor.size' : 10,\n",
    "                'xtick.minor.width' : 2,\n",
    "                'ytick.major.size' : 20,\n",
    "                'ytick.major.width': 4,\n",
    "                'ytick.minor.size' : 10,\n",
    "                'ytick.minor.width' : 2\n",
    "                }\n",
    "\n",
    "sns.set_theme(font_scale=2.5, style=\"white\", rc=custom_params)"
   ]
  },
  {
   "cell_type": "code",
   "execution_count": null,
   "id": "c70685e4",
   "metadata": {},
   "outputs": [],
   "source": [
    "def func(string):\n",
    "    return \"\\n\".join(string.split(\"From\"))\n",
    "\n",
    "correlations_df['condition'] = correlations_df['condition'].apply(func)"
   ]
  },
  {
   "cell_type": "code",
   "execution_count": null,
   "id": "baa74534",
   "metadata": {},
   "outputs": [],
   "source": [
    "#get proportions for subplot width\n",
    "categories = CAT2COND.keys()\n",
    "props = [len(correlations_df.loc[correlations_df[\"category\"] == cat])/len(correlations_df) for cat in categories]\n",
    "\n",
    "palette = sns.color_palette('magma')\n",
    "\n",
    "g = sns.FacetGrid(correlations_df, col=\"category\", sharex=False,\n",
    "                  gridspec_kws={\"width_ratios\": props},\n",
    "                  height=10, aspect=0.5)\n",
    "\n",
    "g.map(sns.lineplot, \"condition\", \"Spearman correlation\", alpha=0.8, markersize=14, marker=\"o\", linewidth=2.5, color=palette[0])\n",
    "g.set_xlabels(\"\")\n",
    "g.set_ylabels(\"Spearman's rho\")\n",
    "g.set(ylim=(0, 1.05))\n",
    "g.set_titles(col_template=\"{col_name}\", pad=0.1)\n",
    "g.set_xticklabels(rotation=80)\n",
    "\n",
    "g.fig.tight_layout()\n",
    "\n",
    "plt.savefig(f'results_paper/correlations2brainscore/last-layer-correlations.png', bbox_inches='tight', dpi=300)\n",
    "plt.savefig(f'results_paper/correlations2brainscore/last-layer-correlations.svg', bbox_inches='tight', dpi=300)\n",
    "\n",
    "plt.show()"
   ]
  },
  {
   "cell_type": "code",
   "execution_count": null,
   "id": "43d189c2",
   "metadata": {},
   "outputs": [],
   "source": []
  },
  {
   "cell_type": "code",
   "execution_count": null,
   "id": "c95acf7c",
   "metadata": {},
   "outputs": [],
   "source": [
    "break"
   ]
  },
  {
   "cell_type": "code",
   "execution_count": null,
   "id": "070e081a",
   "metadata": {},
   "outputs": [],
   "source": [
    "def plot_correlations_lineplot(model_identifier, layers, conditions, correlations_dict,scr_perturb=None,\n",
    "                              emb_context=None):\n",
    "    fig, ax = plt.subplots()\n",
    "    line_colors = sns.color_palette(\"rocket\") + sns.color_palette(\"GnBu_d\") + sns.color_palette(\"PRGn\", 10) + sns.color_palette(\"YlOrBr\", 10)\n",
    "    \n",
    "    counter = 0\n",
    "    for key,value in correlations_dict.items():\n",
    "        ax.plot(conditions,value, '-o',color=line_colors[counter])\n",
    "        counter += 1\n",
    "\n",
    "    ax.set_title(f'{model_identifier} | Layer model activation correlation with model activations for original sentence across conditions')\n",
    "    ax.legend(layers)\n",
    "    ax.yaxis.set_label_text('Spearman rho')\n",
    "    #ax.yaxis.set_label_text('Pearson p')\n",
    "    ax.legend(layers, bbox_to_anchor=(1.05, 1), loc='upper left')\n",
    "    ax.set_ylim([0, 1])\n",
    "    plt.xticks(rotation= 90)\n",
    "    \n",
    "    if not os.path.isdir(\"fig\"):\n",
    "        os.mkdir(\"fig\")\n",
    "    savename = f'fig/{date.today()}_model-activation-correlation_{model_identifier}_{scr_perturb}.png'\n",
    "    #plt.savefig(savename, bbox_inches='tight', dpi=240)"
   ]
  },
  {
   "cell_type": "code",
   "execution_count": null,
   "id": "01124197",
   "metadata": {},
   "outputs": [],
   "source": [
    "emb_context=\"Passage\""
   ]
  },
  {
   "cell_type": "code",
   "execution_count": null,
   "id": "8d7037b1",
   "metadata": {},
   "outputs": [],
   "source": [
    "layers, conditions, corr_dict = get_correlations_df_dict(\"gpt2-xl\",categories_dict, scr_perturb=\"perturb\", emb_context=emb_context)\n",
    "plot_correlations_lineplot(\"gpt2-xl\", layers, conditions, corr_dict, scr_perturb=\"perturb\", emb_context=emb_context)"
   ]
  },
  {
   "cell_type": "code",
   "execution_count": null,
   "id": "a64d0f7c",
   "metadata": {},
   "outputs": [],
   "source": [
    "layers, conditions, corr_dict = get_correlations_df_dict(\"gpt2-xl\",categories_dict, scr_perturb=\"scrambled\", emb_context=emb_context)\n",
    "plot_correlations_lineplot(\"gpt2-xl\", layers, conditions, corr_dict, scr_perturb=\"scrambled\", emb_context=emb_context)"
   ]
  },
  {
   "cell_type": "code",
   "execution_count": null,
   "id": "8248a92c",
   "metadata": {},
   "outputs": [],
   "source": [
    "# layers, conditions, corr_dict = get_correlations_df_dict(\"gpt2-xl\",categories_dict, scr_perturb=\"perturb\", emb_context=\"Passage\")\n",
    "# plot_correlations_lineplot(\"gpt2-xl\", layers, conditions, corr_dict, scr_perturb=\"perturb\")"
   ]
  },
  {
   "cell_type": "code",
   "execution_count": null,
   "id": "32353f83",
   "metadata": {},
   "outputs": [],
   "source": []
  },
  {
   "cell_type": "code",
   "execution_count": null,
   "id": "5f0a2ff2",
   "metadata": {},
   "outputs": [],
   "source": []
  }
 ],
 "metadata": {
  "kernelspec": {
   "display_name": "Python 3",
   "language": "python",
   "name": "python3"
  },
  "language_info": {
   "codemirror_mode": {
    "name": "ipython",
    "version": 3
   },
   "file_extension": ".py",
   "mimetype": "text/x-python",
   "name": "python",
   "nbconvert_exporter": "python",
   "pygments_lexer": "ipython3",
   "version": "3.8.13"
  }
 },
 "nbformat": 4,
 "nbformat_minor": 5
}
