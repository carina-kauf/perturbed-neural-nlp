{
 "cells": [
  {
   "cell_type": "code",
   "execution_count": 1,
   "id": "1dfc6795",
   "metadata": {},
   "outputs": [],
   "source": [
    "import os\n",
    "import re\n",
    "import pickle\n",
    "import numpy as np\n",
    "import pandas as pd\n",
    "from tqdm import tqdm\n",
    "import seaborn as sns\n",
    "import matplotlib.pyplot as plt\n",
    "from datetime import date"
   ]
  },
  {
   "cell_type": "code",
   "execution_count": 2,
   "id": "dfec69ce",
   "metadata": {},
   "outputs": [],
   "source": [
    "working_dir = \"/om2/user/ckauf/.result_caching/neural_nlp.score\""
   ]
  },
  {
   "cell_type": "code",
   "execution_count": 3,
   "id": "7c3a4e20",
   "metadata": {},
   "outputs": [],
   "source": [
    "#random low-pmi condition missing\n",
    "categories_perturb = ['original', 'nouns', 'nouns-del50%', 'random-nouns', 'nounsverbs', 'nounsverbsadj', 'contentwords', 'functionwords', 'passageshuffle','random-sent']\n",
    "categories_scrambled = ['original', 'scrambled1', 'scrambled3', 'scrambled5', 'scrambled7', 'lowpmi', 'backward', 'random-wl']#, random-lowpmi]\n",
    "\n",
    "categories = [categories_perturb, categories_scrambled]\n",
    "keys = [\"perturb\", \"scrambled\"]\n",
    "\n",
    "categories_dict = dict(zip(keys, categories))"
   ]
  },
  {
   "cell_type": "markdown",
   "id": "11463f53",
   "metadata": {},
   "source": [
    "# Get best model scores"
   ]
  },
  {
   "cell_type": "code",
   "execution_count": 4,
   "id": "bd45a729",
   "metadata": {},
   "outputs": [],
   "source": [
    "def get_max_score(matrix):\n",
    "    \"\"\"\n",
    "    input: result = out['data'].values matrix (e.g. for distilgpt2 a matrix of dimensions 7x2)\n",
    "    output: maximum score and associated error for this matrix.\n",
    "    \"\"\"\n",
    "    max_score, error = 0,0\n",
    "    for i in range(len(matrix)):\n",
    "        if matrix[i][0] > max_score:\n",
    "            max_score = matrix[i][0]\n",
    "            error = matrix[i][1]\n",
    "    return max_score, error"
   ]
  },
  {
   "cell_type": "code",
   "execution_count": 5,
   "id": "cc5223e7",
   "metadata": {},
   "outputs": [],
   "source": [
    "# #not used currently\n",
    "# def get_best_score_dict(model_identifier):\n",
    "#     \"\"\"\n",
    "#     input: model_identifier\n",
    "#     output: dictionary containing the maximum score and associated error per condition.\n",
    "#             structure of dictionary: condition --> {score --> max_score, error --> associated error}\n",
    "#     \"\"\"\n",
    "#     score_dict = {}\n",
    "#     for filename in os.listdir(working_dir):\n",
    "#         model_name = filename.split(\",\")[1]\n",
    "#         if \"model=\" + model_identifier == model_name:\n",
    "#             if (\"-encoding-perturb\" in filename) or (\"encoding-scrambled\" in filename):\n",
    "#                 condition = filename.split(\",\")[0].split(\"Pereira2018-encoding-\")[-1]\n",
    "#                 print(condition)\n",
    "#                 if not condition in score_dict:\n",
    "#                     score_dict[condition] = {}\n",
    "#                 file = os.path.join(working_dir,filename)\n",
    "#                 with open(file, 'rb') as f:\n",
    "#                     out = pickle.load(f)\n",
    "#                 result = out['data'].values\n",
    "#                 #print(result, '\\n\\n')\n",
    "#                 max_score, error = get_max_score(result)\n",
    "#                 score_dict[condition]['score'] = max_score\n",
    "#                 score_dict[condition]['error'] = error\n",
    "#     return score_dict"
   ]
  },
  {
   "cell_type": "code",
   "execution_count": 6,
   "id": "a0460098",
   "metadata": {},
   "outputs": [],
   "source": [
    "def get_best_scores_df(model_identifier,categories_dict,scr_perturb=None):\n",
    "    \"\"\"\n",
    "    input: model_identifier\n",
    "    output: dictionary containing the maximum score and associated error per condition.\n",
    "            structure of dictionary: condition --> {score --> max_score, error --> associated error}\n",
    "    \"\"\"\n",
    "    conditions = []\n",
    "    max_scores = []\n",
    "    errors = []\n",
    "    \n",
    "    for filename in os.listdir(working_dir):\n",
    "        if os.path.isdir(os.path.join(working_dir,filename)):\n",
    "            continue\n",
    "        model_name = filename.split(\",\")[1]\n",
    "        if \"model=\" + model_identifier == model_name:\n",
    "            if (f\"-encoding-{scr_perturb}\" in filename) or (\"-encoding-scrambled-original\" in filename):\n",
    "                \n",
    "                condition = filename.split(\",\")[0].split(\"Pereira2018-encoding-\")[-1]\n",
    "                \n",
    "                if scr_perturb == \"perturb\":\n",
    "                    condition = re.sub(\"perturb-\",\"\",condition)\n",
    "                    condition = re.sub(\"scrambled-\",\"\",condition)\n",
    "                    if condition == \"randomsentenceshuffle\":\n",
    "                        condition = \"random-sent\"\n",
    "                    if condition == \"nouns-delete50percent\":\n",
    "                        condition = \"nouns-del50%\"\n",
    "                    \n",
    "                elif scr_perturb == \"scrambled\":\n",
    "                    if not any(x in condition for x in [\"1\", \"3\", \"5\", \"7\"]):\n",
    "                        condition = re.sub(\"scrambled-\",\"\",condition)\n",
    "                    else:\n",
    "                        condition = condition\n",
    "                print(condition)\n",
    "\n",
    "                file = os.path.join(working_dir,filename)\n",
    "                with open(file, 'rb') as f:\n",
    "                    out = pickle.load(f)\n",
    "                result = out['data'].values\n",
    "                #print(result, '\\n\\n')\n",
    "                max_score, error = get_max_score(result)\n",
    "                \n",
    "                conditions.append(condition)\n",
    "                max_scores.append(max_score)\n",
    "                errors.append(error)\n",
    "                \n",
    "    import pandas as pd\n",
    "    index = conditions\n",
    "    df = pd.DataFrame({'score': max_scores,\n",
    "    'error': errors, 'condition': conditions})\n",
    "    df['condition'] = pd.Categorical(df['condition'], categories=categories_dict[scr_perturb])\n",
    "    scores_df = df.sort_values(by='condition')\n",
    "    return scores_df"
   ]
  },
  {
   "cell_type": "code",
   "execution_count": 7,
   "id": "f1f620c0",
   "metadata": {},
   "outputs": [],
   "source": [
    "# def get_last_scores_df(model_identifier):\n",
    "#     \"\"\"\n",
    "#     input: model_identifier\n",
    "#     output: dictionary containing the last score and associated error per condition.\n",
    "#             structure of dictionary: condition --> {score --> max_score, error --> associated error}\n",
    "#     \"\"\"\n",
    "#     conditions = []\n",
    "#     last_scores = []\n",
    "#     errors = []\n",
    "#     for filename in os.listdir(working_dir):\n",
    "#         model_name = filename.split(\",\")[1]\n",
    "#         if \"model=\" + model_identifier == model_name:\n",
    "#             if (\"encoding-perturb\" in filename) or (\"encoding-scrambled\" in filename):\n",
    "#                 condition = filename.split(\",\")[0].split(\"Pereira2018-encoding-\")[-1]\n",
    "#                 condition = re.sub(\"ablation-\",\"\",condition)\n",
    "#                 condition = re.sub(\"scrambled-\",\"\",condition)\n",
    "\n",
    "#                 file = os.path.join(working_dir,filename)\n",
    "#                 with open(file, 'rb') as f:\n",
    "#                     out = pickle.load(f)\n",
    "#                 result = out['data'].values\n",
    "#                 #print(result, '\\n\\n')\n",
    "#                 last_score, error = last_score, error = result[-1][0], result[-1][1]\n",
    "#                 conditions.append(condition)\n",
    "#                 last_scores.append(last_score)\n",
    "#                 errors.append(error)\n",
    "#     import pandas as pd\n",
    "#     index = conditions\n",
    "#     df = pd.DataFrame({'score': last_scores,\n",
    "#     'error': errors, 'condition': conditions})\n",
    "#     df['condition'] = pd.Categorical(df['condition'], categories=['original', 'nouns', 'nounsverbs', 'nounsverbsadj', 'contentwords', 'functionwords', 'passageshuffle','nouns-delete50percent','random-lowPMI','random-nouns'])\n",
    "#     #df['condition'] = pd.Categorical(df['condition'], categories=['original', 'scrambled1', 'scrambled3', 'scrambled5', 'scrambled7', 'lowpmi', 'backward', 'random'])\n",
    "#     scores_df = df.sort_values(by='condition')\n",
    "#     return scores_df"
   ]
  },
  {
   "cell_type": "code",
   "execution_count": 8,
   "id": "99d9694b",
   "metadata": {},
   "outputs": [
    {
     "name": "stdout",
     "output_type": "stream",
     "text": [
      "lowpmi\n",
      "Loading lookup from /om2/user/ckauf/anaconda/envs/perturbedenv/lib/python3.6/site-packages/brainio_collection/lookup.csv\n",
      "original\n",
      "random-wl\n",
      "scrambled1\n",
      "scrambled3\n",
      "scrambled5\n",
      "scrambled7\n"
     ]
    },
    {
     "data": {
      "text/html": [
       "<div>\n",
       "<style scoped>\n",
       "    .dataframe tbody tr th:only-of-type {\n",
       "        vertical-align: middle;\n",
       "    }\n",
       "\n",
       "    .dataframe tbody tr th {\n",
       "        vertical-align: top;\n",
       "    }\n",
       "\n",
       "    .dataframe thead th {\n",
       "        text-align: right;\n",
       "    }\n",
       "</style>\n",
       "<table border=\"1\" class=\"dataframe\">\n",
       "  <thead>\n",
       "    <tr style=\"text-align: right;\">\n",
       "      <th></th>\n",
       "      <th>score</th>\n",
       "      <th>error</th>\n",
       "      <th>condition</th>\n",
       "    </tr>\n",
       "  </thead>\n",
       "  <tbody>\n",
       "    <tr>\n",
       "      <th>1</th>\n",
       "      <td>0.852923</td>\n",
       "      <td>0.070897</td>\n",
       "      <td>original</td>\n",
       "    </tr>\n",
       "    <tr>\n",
       "      <th>3</th>\n",
       "      <td>0.874679</td>\n",
       "      <td>0.042050</td>\n",
       "      <td>scrambled1</td>\n",
       "    </tr>\n",
       "    <tr>\n",
       "      <th>4</th>\n",
       "      <td>0.872582</td>\n",
       "      <td>0.036818</td>\n",
       "      <td>scrambled3</td>\n",
       "    </tr>\n",
       "    <tr>\n",
       "      <th>5</th>\n",
       "      <td>0.860335</td>\n",
       "      <td>0.043322</td>\n",
       "      <td>scrambled5</td>\n",
       "    </tr>\n",
       "    <tr>\n",
       "      <th>6</th>\n",
       "      <td>0.886425</td>\n",
       "      <td>0.096339</td>\n",
       "      <td>scrambled7</td>\n",
       "    </tr>\n",
       "    <tr>\n",
       "      <th>0</th>\n",
       "      <td>0.827481</td>\n",
       "      <td>0.069628</td>\n",
       "      <td>lowpmi</td>\n",
       "    </tr>\n",
       "    <tr>\n",
       "      <th>2</th>\n",
       "      <td>0.288239</td>\n",
       "      <td>0.074456</td>\n",
       "      <td>random-wl</td>\n",
       "    </tr>\n",
       "  </tbody>\n",
       "</table>\n",
       "</div>"
      ],
      "text/plain": [
       "      score     error   condition\n",
       "1  0.852923  0.070897    original\n",
       "3  0.874679  0.042050  scrambled1\n",
       "4  0.872582  0.036818  scrambled3\n",
       "5  0.860335  0.043322  scrambled5\n",
       "6  0.886425  0.096339  scrambled7\n",
       "0  0.827481  0.069628      lowpmi\n",
       "2  0.288239  0.074456   random-wl"
      ]
     },
     "execution_count": 8,
     "metadata": {},
     "output_type": "execute_result"
    }
   ],
   "source": [
    "#function check\n",
    "scores_df = get_best_scores_df(\"distilgpt2\",categories_dict,scr_perturb=\"scrambled\")\n",
    "scores_df"
   ]
  },
  {
   "cell_type": "markdown",
   "id": "4cd2981f",
   "metadata": {},
   "source": [
    "# Prepare plotting"
   ]
  },
  {
   "cell_type": "code",
   "execution_count": 9,
   "id": "d7ac8110",
   "metadata": {},
   "outputs": [],
   "source": [
    "def bar_plot(model_identifier, scores_df, scr_perturb=None):\n",
    "    colors = sns.color_palette(\"rocket\")\n",
    "    x_pos = np.arange(len(scores_df))\n",
    "    scores = scores_df['score']\n",
    "    errors = scores_df['error']\n",
    "    conditions = scores_df['condition']\n",
    "    fig, ax = plt.subplots()\n",
    "    ax.bar(x_pos, scores,\n",
    "       yerr=errors,\n",
    "       align='center',\n",
    "       alpha=0.8, #color intensity\n",
    "       ecolor='black',\n",
    "       capsize=5, #error bar width\n",
    "       color=colors[1]) #if you put just color=colors, you get the bar plots in different rocket palette colors\n",
    "    ax.set_ylabel('ceiled score',fontsize=12)\n",
    "    ax.set_xticks(x_pos)\n",
    "    ax.set_xticklabels(conditions, rotation=60)\n",
    "    \n",
    "    if len(model_identifier.split(\"-\")) == 1:\n",
    "        model_identifier += \"-lasttoken\"\n",
    "    ax.set_title('{}'.format(model_identifier),fontsize=18)\n",
    "    ax.yaxis.grid(True)\n",
    "    ax.set_ylim([0,1])\n",
    "    \n",
    "    if not os.path.isdir(\"fig\"):\n",
    "        os.mkdir(\"fig\")\n",
    "    savename = f'fig/{date.today()}_match-to-brain_{scr_perturb}_{model_identifier}.png'\n",
    "    plt.savefig(savename, bbox_inches='tight', dpi=240)\n",
    "    plt.show()"
   ]
  },
  {
   "cell_type": "code",
   "execution_count": 10,
   "id": "09875838",
   "metadata": {},
   "outputs": [],
   "source": [
    "def main_plot(model_identifier,categories_dict,scr_perturb=\"scrambled\"):\n",
    "    scores_df = get_best_scores_df(model_identifier,categories_dict,scr_perturb=scr_perturb)\n",
    "    bar_plot(model_identifier,scores_df,scr_perturb=scr_perturb)"
   ]
  },
  {
   "cell_type": "markdown",
   "id": "bfd0e75b",
   "metadata": {},
   "source": [
    "# Ready to plot!"
   ]
  },
  {
   "cell_type": "code",
   "execution_count": 11,
   "id": "2b507645",
   "metadata": {},
   "outputs": [
    {
     "name": "stdout",
     "output_type": "stream",
     "text": [
      "lowpmi\n",
      "original\n",
      "random-wl\n",
      "scrambled1\n",
      "scrambled3\n",
      "scrambled5\n",
      "scrambled7\n"
     ]
    },
    {
     "data": {
      "image/png": "[encoded data removed]",
      "text/plain": [
       "<Figure size 432x288 with 1 Axes>"
      ]
     },
     "metadata": {
      "needs_background": "light"
     },
     "output_type": "display_data"
    }
   ],
   "source": [
    "main_plot('distilgpt2',categories_dict,scr_perturb=\"scrambled\")"
   ]
  },
  {
   "cell_type": "code",
   "execution_count": 12,
   "id": "3cb95e6c",
   "metadata": {},
   "outputs": [
    {
     "name": "stdout",
     "output_type": "stream",
     "text": [
      "contentwords\n",
      "functionwords\n",
      "nouns\n",
      "nouns-del50%\n",
      "nounsverbs\n",
      "nounsverbsadj\n",
      "passageshuffle\n",
      "random-nouns\n",
      "random-sent\n",
      "original\n"
     ]
    },
    {
     "data": {
      "image/png": "[encoded data removed]",
      "text/plain": [
       "<Figure size 432x288 with 1 Axes>"
      ]
     },
     "metadata": {
      "needs_background": "light"
     },
     "output_type": "display_data"
    }
   ],
   "source": [
    "main_plot('distilgpt2',categories_dict,scr_perturb=\"perturb\")"
   ]
  },
  {
   "cell_type": "code",
   "execution_count": 13,
   "id": "ec4593cd",
   "metadata": {},
   "outputs": [
    {
     "name": "stdout",
     "output_type": "stream",
     "text": [
      "lowpmi\n",
      "original\n",
      "random-wl\n",
      "scrambled1\n",
      "scrambled3\n",
      "scrambled5\n",
      "scrambled7\n"
     ]
    },
    {
     "data": {
      "image/png": "[encoded data removed]",
      "text/plain": [
       "<Figure size 432x288 with 1 Axes>"
      ]
     },
     "metadata": {
      "needs_background": "light"
     },
     "output_type": "display_data"
    }
   ],
   "source": [
    "main_plot('distilgpt2-avgtoken',categories_dict,scr_perturb=\"scrambled\")"
   ]
  },
  {
   "cell_type": "code",
   "execution_count": 14,
   "id": "6da89732",
   "metadata": {},
   "outputs": [
    {
     "name": "stdout",
     "output_type": "stream",
     "text": [
      "contentwords\n",
      "functionwords\n",
      "nouns\n",
      "nouns-del50%\n",
      "nounsverbs\n",
      "nounsverbsadj\n",
      "passageshuffle\n",
      "random-nouns\n",
      "random-sent\n",
      "original\n"
     ]
    },
    {
     "data": {
      "image/png": "[encoded data removed]",
      "text/plain": [
       "<Figure size 432x288 with 1 Axes>"
      ]
     },
     "metadata": {
      "needs_background": "light"
     },
     "output_type": "display_data"
    }
   ],
   "source": [
    "main_plot('distilgpt2-avgtoken',categories_dict,scr_perturb=\"perturb\")"
   ]
  },
  {
   "cell_type": "code",
   "execution_count": null,
   "id": "d1f4eeeb",
   "metadata": {},
   "outputs": [],
   "source": []
  }
 ],
 "metadata": {
  "kernelspec": {
   "display_name": "Python 3",
   "language": "python",
   "name": "python3"
  },
  "language_info": {
   "codemirror_mode": {
    "name": "ipython",
    "version": 3
   },
   "file_extension": ".py",
   "mimetype": "text/x-python",
   "name": "python",
   "nbconvert_exporter": "python",
   "pygments_lexer": "ipython3",
   "version": "3.6.2"
  }
 },
 "nbformat": 4,
 "nbformat_minor": 5
}
