{
 "cells": [
  {
   "cell_type": "code",
   "execution_count": 1,
   "id": "0701b8b2",
   "metadata": {},
   "outputs": [],
   "source": [
    "import os\n",
    "import re\n",
    "import pickle\n",
    "import numpy as np\n",
    "import pandas as pd\n",
    "from tqdm import tqdm\n",
    "import seaborn as sns\n",
    "import matplotlib.pyplot as plt\n",
    "from datetime import date"
   ]
  },
  {
   "cell_type": "code",
   "execution_count": 2,
   "id": "d4f9c1ce",
   "metadata": {},
   "outputs": [],
   "source": [
    "save = True\n",
    "only_controlled_random = False #whether to include only 1 out of the 3 random sentence shuffling conditions\n",
    "# includes the random sentence shuffling ensuring a pick from a different topic & length-match"
   ]
  },
  {
   "cell_type": "code",
   "execution_count": 3,
   "id": "cbed3a7c",
   "metadata": {},
   "outputs": [],
   "source": [
    "working_dir = \"/om2/user/ckauf/.result_caching/neural_nlp.score\""
   ]
  },
  {
   "cell_type": "code",
   "execution_count": 4,
   "id": "e484fc04",
   "metadata": {},
   "outputs": [],
   "source": [
    "categories_control = ['original',\n",
    "                      'length-control',\n",
    "                      'constant-control']\n",
    "                      \n",
    "\n",
    "categories_scrambled = ['original',\n",
    "                        'length-control',\n",
    "                        'constant-control',\n",
    "                        'scrambled1',\n",
    "                        'scrambled3',\n",
    "                        'scrambled5',\n",
    "                        'scrambled7',\n",
    "                        'lowpmi',\n",
    "                        'lowpmi-random',\n",
    "                        'backward',\n",
    "                        'random-wl',\n",
    "                        'random-wl-samepos']\n",
    "\n",
    "categories_perturb_loss = ['original',\n",
    "                           'length-control',\n",
    "                           'constant-control',\n",
    "                           'nouns',\n",
    "                           'nounsverbs',\n",
    "                           'nounsverbsadj',\n",
    "                           'contentwords',\n",
    "                           'random-nouns',\n",
    "                           'random-nouns-controlled',\n",
    "                           'functionwords']\n",
    "\n",
    "categories_perturb_meaning = ['sentenceshuffle_passage',\n",
    "                              'sentenceshuffle_topic',\n",
    "                              'sentenceshuffle_random',\n",
    "                              'sentenceshuffle_random-topic-criteria',\n",
    "                              'sentenceshuffle_random-topic-length-criteria']\n",
    "\n",
    "categories_perturb = categories_perturb_loss + categories_perturb_meaning\n",
    "\n",
    "categories = [categories_perturb, categories_scrambled, categories_control]\n",
    "keys = [\"perturb\", \"scrambled\", \"control\"]\n",
    "\n",
    "categories_dict = dict(zip(keys, categories))"
   ]
  },
  {
   "cell_type": "markdown",
   "id": "e8236df7",
   "metadata": {},
   "source": [
    "# Get best model scores"
   ]
  },
  {
   "cell_type": "code",
   "execution_count": 5,
   "id": "4482af40",
   "metadata": {},
   "outputs": [],
   "source": [
    "def get_max_score(matrix):\n",
    "    \"\"\"\n",
    "    input: result = out['data'].values matrix (e.g. for distilgpt2 a matrix of dimensions 7x2)\n",
    "    output: maximum score and associated error for this matrix.\n",
    "    \"\"\"\n",
    "    max_score, error = 0,0\n",
    "    for i in range(len(matrix)):\n",
    "        if matrix[i][0] > max_score:\n",
    "            max_score = matrix[i][0]\n",
    "            error = matrix[i][1]\n",
    "    return max_score, error"
   ]
  },
  {
   "cell_type": "code",
   "execution_count": 6,
   "id": "bdc93521",
   "metadata": {},
   "outputs": [],
   "source": [
    "# #not used currently\n",
    "# def get_best_score_dict(model_identifier):\n",
    "#     \"\"\"\n",
    "#     input: model_identifier\n",
    "#     output: dictionary containing the maximum score and associated error per condition.\n",
    "#             structure of dictionary: condition --> {score --> max_score, error --> associated error}\n",
    "#     \"\"\"\n",
    "#     score_dict = {}\n",
    "#     for filename in os.listdir(working_dir):\n",
    "#         model_name = filename.split(\",\")[1]\n",
    "#         if \"model=\" + model_identifier == model_name:\n",
    "#             if (\"-encoding-perturb\" in filename) or (\"encoding-scrambled\" in filename):\n",
    "#                 condition = filename.split(\",\")[0].split(\"Pereira2018-encoding-\")[-1]\n",
    "#                 print(condition)\n",
    "#                 if not condition in score_dict:\n",
    "#                     score_dict[condition] = {}\n",
    "#                 file = os.path.join(working_dir,filename)\n",
    "#                 with open(file, 'rb') as f:\n",
    "#                     out = pickle.load(f)\n",
    "#                 result = out['data'].values\n",
    "#                 #print(result, '\\n\\n')\n",
    "#                 max_score, error = get_max_score(result)\n",
    "#                 score_dict[condition]['score'] = max_score\n",
    "#                 score_dict[condition]['error'] = error\n",
    "#     return score_dict"
   ]
  },
  {
   "cell_type": "code",
   "execution_count": 7,
   "id": "ea6597fe",
   "metadata": {},
   "outputs": [],
   "source": [
    "def get_best_scores_df(model_identifier,categories_dict,scr_perturb=None):\n",
    "    \"\"\"\n",
    "    input: model_identifier\n",
    "    output: dictionary containing the maximum score and associated error per condition.\n",
    "            structure of dictionary: condition --> {score --> max_score, error --> associated error}\n",
    "    \"\"\"\n",
    "    conditions = []\n",
    "    max_scores = []\n",
    "    errors = []\n",
    "    \n",
    "    for filename in os.listdir(working_dir):\n",
    "        if os.path.isdir(os.path.join(working_dir,filename)):\n",
    "            continue\n",
    "        if 'nouns-delete50percent' in filename:\n",
    "            continue\n",
    "        include_condition = False\n",
    "        model_name = filename.split(\",\")[1]\n",
    "        if \"model=\" + model_identifier == model_name:\n",
    "            \n",
    "            if (f\"-encoding-{scr_perturb}\" in filename) or (\"-encoding-scrambled-original\" in filename):\n",
    "                include_condition = True\n",
    "            elif (\"length-control\" in filename) or (\"constant-control\" in filename):\n",
    "                include_condition = True\n",
    "            \n",
    "            if include_condition == True:\n",
    "                condition = filename.split(\",\")[0].split(\"Pereira2018-encoding-\")[-1]\n",
    "                \n",
    "                if scr_perturb == \"perturb\":\n",
    "                    condition = re.sub(\"perturb-\",\"\",condition)\n",
    "                    condition = re.sub(\"scrambled-\",\"\",condition)\n",
    "                    \n",
    "                elif scr_perturb == \"scrambled\":\n",
    "                    if not any(x in condition for x in [\"1\", \"3\", \"5\", \"7\"]):\n",
    "                        condition = re.sub(\"scrambled-\",\"\",condition)\n",
    "                    else:\n",
    "                        condition = condition\n",
    "                \n",
    "                elif scr_perturb == \"control\":\n",
    "                    condition = re.sub(\"scrambled-\",\"\",condition)\n",
    "\n",
    "                file = os.path.join(working_dir,filename)\n",
    "                with open(file, 'rb') as f:\n",
    "                    out = pickle.load(f)\n",
    "                result = out['data'].values\n",
    "                #print(result, '\\n\\n')\n",
    "                max_score, error = get_max_score(result)\n",
    "                \n",
    "                conditions.append(condition)\n",
    "                max_scores.append(max_score)\n",
    "                errors.append(error)\n",
    "                \n",
    "    import pandas as pd\n",
    "    index = conditions\n",
    "    df = pd.DataFrame({'score': max_scores,\n",
    "    'error': errors, 'condition': conditions})\n",
    "    df['condition'] = pd.Categorical(df['condition'], categories=categories_dict[scr_perturb])\n",
    "    scores_df = df.sort_values(by='condition')\n",
    "    return scores_df"
   ]
  },
  {
   "cell_type": "code",
   "execution_count": 8,
   "id": "92a6805a",
   "metadata": {},
   "outputs": [],
   "source": [
    "# def get_last_scores_df(model_identifier):\n",
    "#     \"\"\"\n",
    "#     input: model_identifier\n",
    "#     output: dictionary containing the last score and associated error per condition.\n",
    "#             structure of dictionary: condition --> {score --> max_score, error --> associated error}\n",
    "#     \"\"\"\n",
    "#     conditions = []\n",
    "#     last_scores = []\n",
    "#     errors = []\n",
    "#     for filename in os.listdir(working_dir):\n",
    "#         model_name = filename.split(\",\")[1]\n",
    "#         if \"model=\" + model_identifier == model_name:\n",
    "#             if (\"encoding-perturb\" in filename) or (\"encoding-scrambled\" in filename):\n",
    "#                 condition = filename.split(\",\")[0].split(\"Pereira2018-encoding-\")[-1]\n",
    "#                 condition = re.sub(\"ablation-\",\"\",condition)\n",
    "#                 condition = re.sub(\"scrambled-\",\"\",condition)\n",
    "\n",
    "#                 file = os.path.join(working_dir,filename)\n",
    "#                 with open(file, 'rb') as f:\n",
    "#                     out = pickle.load(f)\n",
    "#                 result = out['data'].values\n",
    "#                 #print(result, '\\n\\n')\n",
    "#                 last_score, error = last_score, error = result[-1][0], result[-1][1]\n",
    "#                 conditions.append(condition)\n",
    "#                 last_scores.append(last_score)\n",
    "#                 errors.append(error)\n",
    "#     import pandas as pd\n",
    "#     index = conditions\n",
    "#     df = pd.DataFrame({'score': last_scores,\n",
    "#     'error': errors, 'condition': conditions})\n",
    "#     df['condition'] = pd.Categorical(df['condition'], categories=['original', 'nouns', 'nounsverbs', 'nounsverbsadj', 'contentwords', 'functionwords', 'passageshuffle','nouns-delete50percent','random-lowPMI','random-nouns'])\n",
    "#     #df['condition'] = pd.Categorical(df['condition'], categories=['original', 'scrambled1', 'scrambled3', 'scrambled5', 'scrambled7', 'lowpmi', 'backward', 'random'])\n",
    "#     scores_df = df.sort_values(by='condition')\n",
    "#     return scores_df"
   ]
  },
  {
   "cell_type": "code",
   "execution_count": 9,
   "id": "73b8f1a9",
   "metadata": {},
   "outputs": [
    {
     "name": "stdout",
     "output_type": "stream",
     "text": [
      "Loading lookup from /om2/user/ckauf/anaconda/envs/perturbedenv/lib/python3.6/site-packages/brainio_collection/lookup.csv\n"
     ]
    },
    {
     "data": {
      "text/html": [
       "<div>\n",
       "<style scoped>\n",
       "    .dataframe tbody tr th:only-of-type {\n",
       "        vertical-align: middle;\n",
       "    }\n",
       "\n",
       "    .dataframe tbody tr th {\n",
       "        vertical-align: top;\n",
       "    }\n",
       "\n",
       "    .dataframe thead th {\n",
       "        text-align: right;\n",
       "    }\n",
       "</style>\n",
       "<table border=\"1\" class=\"dataframe\">\n",
       "  <thead>\n",
       "    <tr style=\"text-align: right;\">\n",
       "      <th></th>\n",
       "      <th>score</th>\n",
       "      <th>error</th>\n",
       "      <th>condition</th>\n",
       "    </tr>\n",
       "  </thead>\n",
       "  <tbody>\n",
       "    <tr>\n",
       "      <th>2</th>\n",
       "      <td>0.844417</td>\n",
       "      <td>0.089327</td>\n",
       "      <td>original</td>\n",
       "    </tr>\n",
       "    <tr>\n",
       "      <th>1</th>\n",
       "      <td>0.060869</td>\n",
       "      <td>0.068794</td>\n",
       "      <td>length-control</td>\n",
       "    </tr>\n",
       "    <tr>\n",
       "      <th>0</th>\n",
       "      <td>0.166836</td>\n",
       "      <td>0.132777</td>\n",
       "      <td>constant-control</td>\n",
       "    </tr>\n",
       "  </tbody>\n",
       "</table>\n",
       "</div>"
      ],
      "text/plain": [
       "      score     error         condition\n",
       "2  0.844417  0.089327          original\n",
       "1  0.060869  0.068794    length-control\n",
       "0  0.166836  0.132777  constant-control"
      ]
     },
     "execution_count": 9,
     "metadata": {},
     "output_type": "execute_result"
    }
   ],
   "source": [
    "#function check\n",
    "scores_df = get_best_scores_df(\"gpt2\",categories_dict,scr_perturb=\"control\")\n",
    "scores_df"
   ]
  },
  {
   "cell_type": "code",
   "execution_count": 10,
   "id": "39469d57",
   "metadata": {},
   "outputs": [
    {
     "data": {
      "text/html": [
       "<div>\n",
       "<style scoped>\n",
       "    .dataframe tbody tr th:only-of-type {\n",
       "        vertical-align: middle;\n",
       "    }\n",
       "\n",
       "    .dataframe tbody tr th {\n",
       "        vertical-align: top;\n",
       "    }\n",
       "\n",
       "    .dataframe thead th {\n",
       "        text-align: right;\n",
       "    }\n",
       "</style>\n",
       "<table border=\"1\" class=\"dataframe\">\n",
       "  <thead>\n",
       "    <tr style=\"text-align: right;\">\n",
       "      <th></th>\n",
       "      <th>score</th>\n",
       "      <th>error</th>\n",
       "      <th>condition</th>\n",
       "    </tr>\n",
       "  </thead>\n",
       "  <tbody>\n",
       "    <tr>\n",
       "      <th>3</th>\n",
       "      <td>0.848717</td>\n",
       "      <td>0.076104</td>\n",
       "      <td>original</td>\n",
       "    </tr>\n",
       "    <tr>\n",
       "      <th>6</th>\n",
       "      <td>0.874679</td>\n",
       "      <td>0.042050</td>\n",
       "      <td>scrambled1</td>\n",
       "    </tr>\n",
       "    <tr>\n",
       "      <th>7</th>\n",
       "      <td>0.872889</td>\n",
       "      <td>0.039745</td>\n",
       "      <td>scrambled3</td>\n",
       "    </tr>\n",
       "    <tr>\n",
       "      <th>8</th>\n",
       "      <td>0.860897</td>\n",
       "      <td>0.049623</td>\n",
       "      <td>scrambled5</td>\n",
       "    </tr>\n",
       "    <tr>\n",
       "      <th>9</th>\n",
       "      <td>0.885838</td>\n",
       "      <td>0.092969</td>\n",
       "      <td>scrambled7</td>\n",
       "    </tr>\n",
       "    <tr>\n",
       "      <th>1</th>\n",
       "      <td>0.885118</td>\n",
       "      <td>0.095730</td>\n",
       "      <td>lowpmi</td>\n",
       "    </tr>\n",
       "    <tr>\n",
       "      <th>2</th>\n",
       "      <td>0.850448</td>\n",
       "      <td>0.092606</td>\n",
       "      <td>lowpmi-random</td>\n",
       "    </tr>\n",
       "    <tr>\n",
       "      <th>0</th>\n",
       "      <td>0.794462</td>\n",
       "      <td>0.075474</td>\n",
       "      <td>backward</td>\n",
       "    </tr>\n",
       "    <tr>\n",
       "      <th>4</th>\n",
       "      <td>0.662659</td>\n",
       "      <td>0.104281</td>\n",
       "      <td>random-wl</td>\n",
       "    </tr>\n",
       "    <tr>\n",
       "      <th>5</th>\n",
       "      <td>0.708431</td>\n",
       "      <td>0.085303</td>\n",
       "      <td>random-wl-samepos</td>\n",
       "    </tr>\n",
       "  </tbody>\n",
       "</table>\n",
       "</div>"
      ],
      "text/plain": [
       "      score     error          condition\n",
       "3  0.848717  0.076104           original\n",
       "6  0.874679  0.042050         scrambled1\n",
       "7  0.872889  0.039745         scrambled3\n",
       "8  0.860897  0.049623         scrambled5\n",
       "9  0.885838  0.092969         scrambled7\n",
       "1  0.885118  0.095730             lowpmi\n",
       "2  0.850448  0.092606      lowpmi-random\n",
       "0  0.794462  0.075474           backward\n",
       "4  0.662659  0.104281          random-wl\n",
       "5  0.708431  0.085303  random-wl-samepos"
      ]
     },
     "execution_count": 10,
     "metadata": {},
     "output_type": "execute_result"
    }
   ],
   "source": [
    "#function check\n",
    "scores_df = get_best_scores_df(\"distilgpt2\",categories_dict,scr_perturb=\"scrambled\")\n",
    "scores_df"
   ]
  },
  {
   "cell_type": "markdown",
   "id": "782bc12f",
   "metadata": {},
   "source": [
    "# Prepare plotting"
   ]
  },
  {
   "cell_type": "code",
   "execution_count": 11,
   "id": "b2ba7257",
   "metadata": {},
   "outputs": [],
   "source": [
    "def bar_plot(model_identifier, scores_df, scr_perturb=None):\n",
    "    colors = sns.color_palette(\"rocket\")\n",
    "    x_pos = np.arange(len(scores_df))\n",
    "    scores = scores_df['score']\n",
    "    errors = scores_df['error']\n",
    "    conditions = scores_df['condition']\n",
    "    \n",
    "    print(np.unique(list(conditions)))\n",
    "    \n",
    "    # abbreviate condition names for perturb\n",
    "    new_conditions = []\n",
    "    for elm in conditions:\n",
    "        if \"sentenceshuffle_random\" in elm:\n",
    "            elm = re.sub(\"sentenceshuffle_random\",\"sent_random\",elm)\n",
    "        if \"topic-length-criteria\" in elm:\n",
    "            elm = re.sub(\"topic-length-criteria\",\"diffT-sameL\",elm)\n",
    "        elif \"topic-criteria\" in elm:\n",
    "            elm = re.sub(\"topic-criteria\",\"diffT\",elm)\n",
    "        if elm == \"sentenceshuffle_passage\":\n",
    "            elm = re.sub(\"sentenceshuffle_passage\",\"sent_passage\",elm)\n",
    "        if elm == \"sentenceshuffle_topic\":\n",
    "            elm = re.sub(\"sentenceshuffle_topic\",\"sent_topic\",elm)\n",
    "        if elm == \"random-nouns-controlled\":\n",
    "            elm = re.sub(\"random-nouns-controlled\",\"random-nouns-contr.\",elm)\n",
    "        new_conditions.append(elm)\n",
    "    conditions = new_conditions\n",
    "    \n",
    "    fig, ax = plt.subplots()\n",
    "    ax.bar(x_pos, scores,\n",
    "       yerr=errors,\n",
    "       align='center',\n",
    "       alpha=0.8, #color intensity\n",
    "       ecolor='black',\n",
    "       capsize=5, #error bar width\n",
    "       color=colors[1]) #if you put just color=colors, you get the bar plots in different rocket palette colors\n",
    "    ax.set_ylabel('ceiled score',fontsize=12)\n",
    "    ax.set_xticks(x_pos)\n",
    "    ax.set_xticklabels(conditions, rotation=90)\n",
    "    \n",
    "    if len(model_identifier.split(\"-\")) == 1:\n",
    "        model_identifier += \"-lasttoken\"\n",
    "    ax.set_title('{}'.format(model_identifier),fontsize=18)\n",
    "    ax.yaxis.grid(True)\n",
    "    ax.set_ylim([0,1])\n",
    "    \n",
    "    if not os.path.isdir(\"fig\"):\n",
    "        os.mkdir(\"fig\")\n",
    "    if save:\n",
    "        savename = f'fig/match-to-brain_{scr_perturb}_{model_identifier}.png'\n",
    "        plt.savefig(savename, bbox_inches='tight', dpi=240)\n",
    "    plt.show()"
   ]
  },
  {
   "cell_type": "code",
   "execution_count": 12,
   "id": "851f104e",
   "metadata": {},
   "outputs": [],
   "source": [
    "def main_plot(model_identifier,categories_dict,scr_perturb=\"scrambled\"):\n",
    "    scores_df = get_best_scores_df(model_identifier,categories_dict,scr_perturb=scr_perturb)\n",
    "    bar_plot(model_identifier,scores_df,scr_perturb=scr_perturb)"
   ]
  },
  {
   "cell_type": "markdown",
   "id": "d69f4d41",
   "metadata": {},
   "source": [
    "# Ready to plot!"
   ]
  },
  {
   "cell_type": "code",
   "execution_count": 13,
   "id": "fa462446",
   "metadata": {},
   "outputs": [
    {
     "name": "stdout",
     "output_type": "stream",
     "text": [
      "['constant-control' 'length-control' 'original']\n"
     ]
    },
    {
     "data": {
      "image/png": "[encoded data removed]",
      "text/plain": [
       "<Figure size 432x288 with 1 Axes>"
      ]
     },
     "metadata": {
      "needs_background": "light"
     },
     "output_type": "display_data"
    }
   ],
   "source": [
    "main_plot('gpt2',categories_dict,scr_perturb=\"control\")"
   ]
  },
  {
   "cell_type": "code",
   "execution_count": 14,
   "id": "9aca24f9",
   "metadata": {},
   "outputs": [
    {
     "name": "stdout",
     "output_type": "stream",
     "text": [
      "['backward' 'lowpmi' 'lowpmi-random' 'original' 'random-wl'\n",
      " 'random-wl-samepos' 'scrambled1' 'scrambled3' 'scrambled5' 'scrambled7']\n"
     ]
    },
    {
     "data": {
      "image/png": "[encoded data removed]",
      "text/plain": [
       "<Figure size 432x288 with 1 Axes>"
      ]
     },
     "metadata": {
      "needs_background": "light"
     },
     "output_type": "display_data"
    }
   ],
   "source": [
    "main_plot('distilgpt2',categories_dict,scr_perturb=\"scrambled\")"
   ]
  },
  {
   "cell_type": "code",
   "execution_count": 15,
   "id": "68a6641d",
   "metadata": {},
   "outputs": [
    {
     "name": "stdout",
     "output_type": "stream",
     "text": [
      "['contentwords' 'functionwords' 'nouns' 'nounsverbs' 'nounsverbsadj'\n",
      " 'original' 'random-nouns' 'sentenceshuffle_passage'\n",
      " 'sentenceshuffle_random' 'sentenceshuffle_random-topic-criteria'\n",
      " 'sentenceshuffle_random-topic-length-criteria' 'sentenceshuffle_topic']\n"
     ]
    },
    {
     "data": {
      "image/png": "[encoded data removed]",
      "text/plain": [
       "<Figure size 432x288 with 1 Axes>"
      ]
     },
     "metadata": {
      "needs_background": "light"
     },
     "output_type": "display_data"
    }
   ],
   "source": [
    "main_plot('distilgpt2',categories_dict,scr_perturb=\"perturb\")"
   ]
  },
  {
   "cell_type": "code",
   "execution_count": 16,
   "id": "9bfece6c",
   "metadata": {},
   "outputs": [
    {
     "name": "stdout",
     "output_type": "stream",
     "text": [
      "['backward' 'lowpmi' 'lowpmi-random' 'original' 'random-wl'\n",
      " 'random-wl-samepos' 'scrambled1' 'scrambled3' 'scrambled5' 'scrambled7']\n"
     ]
    },
    {
     "data": {
      "image/png": "[encoded data removed]",
      "text/plain": [
       "<Figure size 432x288 with 1 Axes>"
      ]
     },
     "metadata": {
      "needs_background": "light"
     },
     "output_type": "display_data"
    }
   ],
   "source": [
    "main_plot('distilgpt2-avgtoken',categories_dict,scr_perturb=\"scrambled\")"
   ]
  },
  {
   "cell_type": "code",
   "execution_count": 17,
   "id": "e099e2b4",
   "metadata": {},
   "outputs": [
    {
     "name": "stdout",
     "output_type": "stream",
     "text": [
      "['contentwords' 'functionwords' 'nouns' 'nounsverbs' 'nounsverbsadj'\n",
      " 'original' 'random-nouns' 'sentenceshuffle_passage'\n",
      " 'sentenceshuffle_random' 'sentenceshuffle_random-topic-criteria'\n",
      " 'sentenceshuffle_random-topic-length-criteria' 'sentenceshuffle_topic']\n"
     ]
    },
    {
     "data": {
      "image/png": "[encoded data removed]",
      "text/plain": [
       "<Figure size 432x288 with 1 Axes>"
      ]
     },
     "metadata": {
      "needs_background": "light"
     },
     "output_type": "display_data"
    }
   ],
   "source": [
    "main_plot('distilgpt2-avgtoken',categories_dict,scr_perturb=\"perturb\")"
   ]
  },
  {
   "cell_type": "code",
   "execution_count": 18,
   "id": "1ca819e9",
   "metadata": {},
   "outputs": [
    {
     "name": "stdout",
     "output_type": "stream",
     "text": [
      "['constant-control' 'contentwords' 'functionwords' 'length-control'\n",
      " 'nouns' 'nounsverbs' 'nounsverbsadj' 'original' 'random-nouns'\n",
      " 'random-nouns-controlled' 'sentenceshuffle_passage'\n",
      " 'sentenceshuffle_random' 'sentenceshuffle_random-topic-criteria'\n",
      " 'sentenceshuffle_random-topic-length-criteria' 'sentenceshuffle_topic']\n"
     ]
    },
    {
     "data": {
      "image/png": "[encoded data removed]",
      "text/plain": [
       "<Figure size 432x288 with 1 Axes>"
      ]
     },
     "metadata": {
      "needs_background": "light"
     },
     "output_type": "display_data"
    }
   ],
   "source": [
    "main_plot('gpt2',categories_dict,scr_perturb=\"perturb\")"
   ]
  },
  {
   "cell_type": "code",
   "execution_count": null,
   "id": "8ab8c741",
   "metadata": {},
   "outputs": [],
   "source": [
    "main_plot('gpt2-avgtoken',categories_dict,scr_perturb=\"perturb\")"
   ]
  },
  {
   "cell_type": "code",
   "execution_count": null,
   "id": "1b41032f",
   "metadata": {},
   "outputs": [],
   "source": [
    "main_plot('gpt2',categories_dict,scr_perturb=\"scrambled\")"
   ]
  },
  {
   "cell_type": "code",
   "execution_count": null,
   "id": "84cbbda3",
   "metadata": {},
   "outputs": [],
   "source": [
    "main_plot('gpt2-avgtoken',categories_dict,scr_perturb=\"scrambled\")"
   ]
  },
  {
   "cell_type": "markdown",
   "id": "3c3da4a3",
   "metadata": {},
   "source": [
    "# Loop into subplots"
   ]
  },
  {
   "cell_type": "code",
   "execution_count": null,
   "id": "99edd2a5",
   "metadata": {},
   "outputs": [],
   "source": [
    "import math\n",
    "from matplotlib.gridspec import GridSpec\n",
    "\n",
    "def get_subplots_loop(model_list, scr_perturb=None):\n",
    "    nsubplots = len(model_list)\n",
    "    nrows = math.ceil(nsubplots/2)\n",
    "    colors = sns.color_palette(\"rocket\")\n",
    "    \n",
    "    fig2 = plt.figure(constrained_layout=True, figsize=(15, 6*nrows))\n",
    "    fig2.suptitle('{}'.format(scr_perturb), fontsize=22, y=1.05)\n",
    "    spec2 = GridSpec(ncols=2, nrows=nrows, figure=fig2)\n",
    "    f2_ax = []\n",
    "    \n",
    "    counter = 0\n",
    "    for i in range(nrows):\n",
    "        for j in range(2):\n",
    "            if counter + 1 > nsubplots:\n",
    "                break\n",
    "            else:\n",
    "                print(model_list[counter])\n",
    "                scores_df = get_best_scores_df(model_list[counter],categories_dict,scr_perturb=scr_perturb)\n",
    "                \n",
    "                if only_controlled_random:\n",
    "                    scores_df = scores_df.drop(scores_df[scores_df.condition == \"sentenceshuffle_random\"].index)\n",
    "                    scores_df = scores_df.drop(scores_df[scores_df.condition == \"sentenceshuffle_random-topic-criteria\"].index)\n",
    "                \n",
    "                x_pos = np.arange(len(scores_df))\n",
    "                scores = scores_df['score']\n",
    "                errors = scores_df['error']\n",
    "                conditions = scores_df['condition']\n",
    "                \n",
    "                # abbreviate condition names for perturb\n",
    "                new_conditions = []\n",
    "                for elm in conditions:\n",
    "                    if \"sentenceshuffle_random\" in elm:\n",
    "                        elm = re.sub(\"sentenceshuffle_random\",\"sent_random\",elm)\n",
    "                    if \"topic-length-criteria\" in elm:\n",
    "                        elm = re.sub(\"topic-length-criteria\",\"diffT-sameL\",elm)\n",
    "                    elif \"topic-criteria\" in elm:\n",
    "                        elm = re.sub(\"topic-criteria\",\"diffT\",elm)\n",
    "                    if elm == \"sentenceshuffle_passage\":\n",
    "                        elm = re.sub(\"sentenceshuffle_passage\",\"sent_passage\",elm)\n",
    "                    if elm == \"sentenceshuffle_topic\":\n",
    "                        elm = re.sub(\"sentenceshuffle_topic\",\"sent_topic\",elm)\n",
    "                    if elm == \"random-nouns-controlled\":\n",
    "                        elm = re.sub(\"random-nouns-controlled\",\"random-nouns-contr.\",elm)\n",
    "                    new_conditions.append(elm)\n",
    "                conditions = new_conditions\n",
    "\n",
    "                f2_ax.append(fig2.add_subplot(spec2[i, j]))\n",
    "                \n",
    "                #set colors: 1*original, 2*control, 7* information loss manipulation, rest: sentence meaning manipulation\n",
    "                if scr_perturb == \"perturb\":\n",
    "                    if not 'distilgpt2' in model_list[counter]: #so far only ran conditions for gpt2\n",
    "                        curr_colors = [colors[1]] + [colors[2]]*2 + [colors[3]]*7 + [colors[4]]*(len(conditions)-9)\n",
    "                    else:\n",
    "                        curr_colors = [colors[1]] + [colors[3]]*6 + [colors[4]]*(len(conditions)-7)\n",
    "                elif scr_perturb == \"scrambled\":\n",
    "                    if not 'distilgpt2' in model_list[counter]: #so far only ran conditions for gpt2\n",
    "                    #set colors: 1*original, 2*control, rest: word-order manipulations\n",
    "                        curr_colors = [colors[1]] + [colors[2]]*2 + [colors[1]]*(len(conditions)-2)\n",
    "                    else:\n",
    "                        curr_colors = [colors[1]]*(len(conditions))\n",
    "                elif scr_perturb == \"control\":\n",
    "                    curr_colors = [colors[1]] + [colors[2]]*(len(conditions)-1)\n",
    "                else:\n",
    "                    print(\"scr_perturb condition not defined!\")\n",
    "                f2_ax[-1].bar(x_pos, scores,\n",
    "                       yerr=errors,\n",
    "                       align='center',\n",
    "                       alpha=0.8, #color intensity\n",
    "                       ecolor='black',\n",
    "                       capsize=5, #error-bar width\n",
    "                       color=curr_colors)#colors[1]) #if you put just color=colors, you get the bar plots in different rocket palette colors\n",
    "                f2_ax[-1].set_ylabel('ceiled score',fontsize=12)\n",
    "                f2_ax[-1].set_xticks(x_pos)\n",
    "                f2_ax[-1].set_xticklabels(conditions, rotation=90)\n",
    "                f2_ax[-1].set_ylim([0, 1])\n",
    "                \n",
    "                model_name = model_list[counter]\n",
    "                if len(model_name.split(\"-\")) == 1:\n",
    "                    model_name = model_name + \"-lasttoken\"\n",
    "                f2_ax[-1].set_title('{}'.format(model_name),fontsize=18)\n",
    "                f2_ax[-1].yaxis.grid(True)\n",
    "                counter += 1\n",
    "                \n",
    "    if save:\n",
    "        fig2.savefig(f'fig/match-to-brain_loop_{scr_perturb}.png', bbox_inches='tight', dpi=240)"
   ]
  },
  {
   "cell_type": "code",
   "execution_count": null,
   "id": "718fd89e",
   "metadata": {},
   "outputs": [],
   "source": [
    "get_subplots_loop(['gpt2', 'gpt2-avgtoken'], scr_perturb=\"control\")"
   ]
  },
  {
   "cell_type": "code",
   "execution_count": null,
   "id": "bd3684f7",
   "metadata": {
    "scrolled": false
   },
   "outputs": [],
   "source": [
    "get_subplots_loop(['distilgpt2', 'distilgpt2-avgtoken', 'gpt2', 'gpt2-avgtoken'], scr_perturb=\"perturb\")"
   ]
  },
  {
   "cell_type": "code",
   "execution_count": null,
   "id": "5fb63b61",
   "metadata": {},
   "outputs": [],
   "source": [
    "get_subplots_loop(['distilgpt2', 'distilgpt2-avgtoken', 'gpt2', 'gpt2-avgtoken'], scr_perturb=\"scrambled\")"
   ]
  },
  {
   "cell_type": "code",
   "execution_count": null,
   "id": "eded58a6",
   "metadata": {},
   "outputs": [],
   "source": []
  }
 ],
 "metadata": {
  "kernelspec": {
   "display_name": "Python 3",
   "language": "python",
   "name": "python3"
  },
  "language_info": {
   "codemirror_mode": {
    "name": "ipython",
    "version": 3
   },
   "file_extension": ".py",
   "mimetype": "text/x-python",
   "name": "python",
   "nbconvert_exporter": "python",
   "pygments_lexer": "ipython3",
   "version": "3.6.2"
  }
 },
 "nbformat": 4,
 "nbformat_minor": 5
}
