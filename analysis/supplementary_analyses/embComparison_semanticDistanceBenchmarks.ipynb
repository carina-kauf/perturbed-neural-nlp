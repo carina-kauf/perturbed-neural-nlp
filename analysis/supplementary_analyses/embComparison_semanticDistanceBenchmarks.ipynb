{
 "cells": [
  {
   "cell_type": "code",
   "execution_count": 1,
   "id": "b725d00f",
   "metadata": {},
   "outputs": [],
   "source": [
    "import os\n",
    "import re\n",
    "import pickle\n",
    "import numpy as np\n",
    "import pandas as pd\n",
    "from tqdm.notebook import tqdm\n",
    "import seaborn as sns\n",
    "import matplotlib.pyplot as plt\n",
    "from datetime import date"
   ]
  },
  {
   "cell_type": "code",
   "execution_count": 2,
   "id": "25d0de85",
   "metadata": {},
   "outputs": [],
   "source": [
    "working_dir = \"/om2/user/ckauf/.result_caching/neural_nlp.models.wrapper.core.ActivationsExtractorHelper._from_sentences_stored\""
   ]
  },
  {
   "cell_type": "code",
   "execution_count": 3,
   "id": "02c62e2a",
   "metadata": {},
   "outputs": [],
   "source": [
    "conditions = [\"Original\",\n",
    "              'chatgpt',\n",
    "              'sentenceshuffle_passage',\n",
    "              'sentenceshuffle_topic',\n",
    "              'sentenceshuffle_random']"
   ]
  },
  {
   "cell_type": "code",
   "execution_count": 4,
   "id": "f4c46920",
   "metadata": {},
   "outputs": [],
   "source": [
    "model_identifier = 'gpt2-xl'\n",
    "emb_context = 'Passage'"
   ]
  },
  {
   "cell_type": "code",
   "execution_count": 5,
   "id": "a78044bd",
   "metadata": {},
   "outputs": [],
   "source": [
    "def get_layers(model_identifier, final_only=False):\n",
    "    \"\"\"\n",
    "    input: model_identifier of model of which we want to find the layers\n",
    "    output: np.array of all unique layer identifiers, ordered by position\n",
    "    \"\"\"\n",
    "    for ind, filename in enumerate(os.listdir(working_dir)):\n",
    "        if f\"identifier={model_identifier}\" in filename:\n",
    "            file = os.path.join(working_dir,filename)\n",
    "            with open(file, 'rb') as f:\n",
    "                result = pickle.load(f)\n",
    "            result = result['data']\n",
    "            layer_list = np.unique(result.layer)\n",
    "            #order double-digit layers at end of list\n",
    "            double_digits = [elm for elm in layer_list if 'encoder.h.' in elm and len(elm.split('.h.')[-1]) > 1]\n",
    "            layers = [e for e in layer_list if e not in double_digits] + double_digits\n",
    "            \n",
    "            if final_only:\n",
    "                final_layer = layers[-1]\n",
    "                return final_layer\n",
    "            else:\n",
    "                return layers"
   ]
  },
  {
   "cell_type": "code",
   "execution_count": 6,
   "id": "7fa30e3b",
   "metadata": {},
   "outputs": [],
   "source": [
    "def get_passage_identifier(filename):\n",
    "    \"\"\"\n",
    "    get passage identifier to be used as key for the dictionary.\n",
    "    important step: fill the identifier with 0s for single-digit passage numbers\n",
    "    \"\"\"\n",
    "    passage = filename.split(\"-\")[-1].split(\".\")[0]\n",
    "    number = passage.split(\"sentences\")[-1]\n",
    "    if len(number) == 1:\n",
    "        passage_identifier = passage[:-1] + number.zfill(2)\n",
    "    else:\n",
    "        passage_identifier = passage\n",
    "    return passage_identifier"
   ]
  },
  {
   "cell_type": "code",
   "execution_count": 7,
   "id": "6b9f2dc3",
   "metadata": {},
   "outputs": [],
   "source": [
    "def get_dictionary(model_identifier,layer_identifier=None, emb_context=\"Passage\"):\n",
    "    \"\"\"\n",
    "    input: model identifier\n",
    "    output: populated model dictionary with data of just the selected layer\n",
    "    dictionary structure: passage_identifier --> condition identifier --> data\n",
    "    \"\"\"\n",
    "    \n",
    "    model_dictionary = {}\n",
    "    \n",
    "    #look at last layer by default\n",
    "    if layer_identifier == None:\n",
    "        layer_identifier = get_layers(model_identifier, final_only=True)\n",
    "    else:\n",
    "        layer_identifier = layer_identifier\n",
    "    print(\"This is the layer I'm looking at: \", layer_identifier)\n",
    "    \n",
    "    for filename in tqdm(os.listdir(working_dir)):\n",
    "        if not f\"emb_context={emb_context}\" in filename:\n",
    "            continue\n",
    "        if not model_identifier in filename:\n",
    "            continue\n",
    "        if (any(f'{x}-lasttoken' in filename for x in conditions)):\n",
    "            passage_identifier = get_passage_identifier(filename)\n",
    "\n",
    "            condition = filename.split(\"Pereira2018-\")[1]\n",
    "            condition = condition.split(\"-lasttoken\")[0]\n",
    "\n",
    "            file = os.path.join(working_dir,filename)\n",
    "            with open(file, 'rb') as f:\n",
    "                out = pickle.load(f)\n",
    "            result = out['data']\n",
    "            data = result[{\"neuroid\": [layer == layer_identifier for layer in result[\"layer\"].values]}].data\n",
    "\n",
    "            if not condition in model_dictionary:\n",
    "                model_dictionary[condition] = {}\n",
    "            model_dictionary[condition][passage_identifier] = data\n",
    "    \n",
    "    return model_dictionary"
   ]
  },
  {
   "cell_type": "code",
   "execution_count": 8,
   "id": "8248a92c",
   "metadata": {},
   "outputs": [
    {
     "name": "stderr",
     "output_type": "stream",
     "text": [
      "/om2/user/ckauf/anaconda39/envs/perturbed3.8/lib/python3.8/site-packages/xarray/core/merge.py:17: FutureWarning: The Panel class is removed from pandas. Accessing it from the top-level namespace will also be removed in the next version\n",
      "  PANDAS_TYPES = (pd.Series, pd.DataFrame, pd.Panel)\n"
     ]
    },
    {
     "name": "stdout",
     "output_type": "stream",
     "text": [
      "This is the layer I'm looking at:  encoder.h.47\n"
     ]
    },
    {
     "data": {
      "application/vnd.jupyter.widget-view+json": {
       "model_id": "4513e3d62a324d459e9e92283264ae49",
       "version_major": 2,
       "version_minor": 0
      },
      "text/plain": [
       "  0%|          | 0/65334 [00:00<?, ?it/s]"
      ]
     },
     "metadata": {},
     "output_type": "display_data"
    }
   ],
   "source": [
    "model_dictionary = get_dictionary(model_identifier=model_identifier, emb_context=emb_context)"
   ]
  },
  {
   "cell_type": "code",
   "execution_count": 9,
   "id": "6310f4e4",
   "metadata": {},
   "outputs": [],
   "source": [
    "from scipy import spatial\n",
    "import pandas as pd\n",
    "\n",
    "conds = []\n",
    "cosines = []\n",
    "for cond in [x for x in conditions if x != 'Original']:\n",
    "    original_dict = model_dictionary['Original']\n",
    "    cond_dict = model_dictionary[cond]\n",
    "\n",
    "    for sent_id in original_dict.keys():\n",
    "        for ind in range(len(original_dict[sent_id])):\n",
    "            cos = 1 - spatial.distance.cosine(original_dict[sent_id][ind], cond_dict[sent_id][ind])\n",
    "            cosines.append(cos)\n",
    "            conds.append(cond)\n",
    "\n",
    "cosine_df = pd.DataFrame({\n",
    "    \"condition\" : conds,\n",
    "    \"cosine_similarity\" : cosines\n",
    "})"
   ]
  },
  {
   "cell_type": "code",
   "execution_count": 10,
   "id": "d965c717",
   "metadata": {},
   "outputs": [],
   "source": [
    "cosine_df['condition'] = cosine_df['condition'].replace(\n",
    "        {'chatgpt' : 'Paraphrase',\n",
    "         'sentenceshuffle_passage': 'RandSent\\nFromPassage',\n",
    "         'sentenceshuffle_topic': 'RandSent\\nFromTopic',\n",
    "         'sentenceshuffle_random': 'RandSent'})"
   ]
  },
  {
   "cell_type": "code",
   "execution_count": 11,
   "id": "32b53beb",
   "metadata": {},
   "outputs": [
    {
     "data": {
      "text/html": [
       "<div>\n",
       "<style scoped>\n",
       "    .dataframe tbody tr th:only-of-type {\n",
       "        vertical-align: middle;\n",
       "    }\n",
       "\n",
       "    .dataframe tbody tr th {\n",
       "        vertical-align: top;\n",
       "    }\n",
       "\n",
       "    .dataframe thead th {\n",
       "        text-align: right;\n",
       "    }\n",
       "</style>\n",
       "<table border=\"1\" class=\"dataframe\">\n",
       "  <thead>\n",
       "    <tr style=\"text-align: right;\">\n",
       "      <th></th>\n",
       "      <th>condition</th>\n",
       "      <th>cosine_similarity</th>\n",
       "    </tr>\n",
       "  </thead>\n",
       "  <tbody>\n",
       "    <tr>\n",
       "      <th>0</th>\n",
       "      <td>Paraphrase</td>\n",
       "      <td>0.960791</td>\n",
       "    </tr>\n",
       "    <tr>\n",
       "      <th>1</th>\n",
       "      <td>Paraphrase</td>\n",
       "      <td>0.936067</td>\n",
       "    </tr>\n",
       "    <tr>\n",
       "      <th>2</th>\n",
       "      <td>Paraphrase</td>\n",
       "      <td>0.950616</td>\n",
       "    </tr>\n",
       "    <tr>\n",
       "      <th>3</th>\n",
       "      <td>Paraphrase</td>\n",
       "      <td>0.964149</td>\n",
       "    </tr>\n",
       "    <tr>\n",
       "      <th>4</th>\n",
       "      <td>Paraphrase</td>\n",
       "      <td>0.915003</td>\n",
       "    </tr>\n",
       "  </tbody>\n",
       "</table>\n",
       "</div>"
      ],
      "text/plain": [
       "    condition  cosine_similarity\n",
       "0  Paraphrase           0.960791\n",
       "1  Paraphrase           0.936067\n",
       "2  Paraphrase           0.950616\n",
       "3  Paraphrase           0.964149\n",
       "4  Paraphrase           0.915003"
      ]
     },
     "execution_count": 11,
     "metadata": {},
     "output_type": "execute_result"
    }
   ],
   "source": [
    "cosine_df.head()"
   ]
  },
  {
   "cell_type": "markdown",
   "id": "4ed37907",
   "metadata": {},
   "source": [
    "#### Plot "
   ]
  },
  {
   "cell_type": "code",
   "execution_count": 12,
   "id": "8f069f30",
   "metadata": {},
   "outputs": [
    {
     "data": {
      "image/png": "[encoded data removed]",
      "text/plain": [
       "<Figure size 432x288 with 1 Axes>"
      ]
     },
     "metadata": {
      "needs_background": "light"
     },
     "output_type": "display_data"
    }
   ],
   "source": [
    "ax = sns.violinplot(data=cosine_df, x=\"condition\", y=\"cosine_similarity\", palette = sns.light_palette(\"maroon\", 4, reverse=True)[:3])\n",
    "ax.set(xlabel='', ylabel='cosine similarity (with Original)')\n",
    "# conditions = [\"RandSentFromPassage\", \"RandSentFromTopic\", \"RandSent\"]\n",
    "# positions = list(range(len(conditions)))\n",
    "# ax.set_xticks(positions)\n",
    "# xticknames = [\"\\nFrom\".join(elm.split(\"From\")) for elm in conditions]\n",
    "# ax.set_xticklabels([x for x in xticknames if x], rotation=70, ha=\"right\", rotation_mode=\"anchor\")\n",
    "\n",
    "plt.show()"
   ]
  },
  {
   "cell_type": "markdown",
   "id": "c7794290",
   "metadata": {},
   "source": [
    "#### Distribution stats"
   ]
  },
  {
   "cell_type": "code",
   "execution_count": 13,
   "id": "8f53f4db",
   "metadata": {},
   "outputs": [
    {
     "name": "stdout",
     "output_type": "stream",
     "text": [
      "                          Paraphrase  RandSent\\nFromPassage  \\\n",
      "Paraphrase              1.000000e+00           3.330236e-86   \n",
      "RandSent\\nFromPassage   3.330236e-86           1.000000e+00   \n",
      "RandSent\\nFromTopic    1.212125e-254          1.789089e-122   \n",
      "RandSent                0.000000e+00           0.000000e+00   \n",
      "\n",
      "                       RandSent\\nFromTopic       RandSent  \n",
      "Paraphrase                   1.212125e-254   0.000000e+00  \n",
      "RandSent\\nFromPassage        1.789089e-122   0.000000e+00  \n",
      "RandSent\\nFromTopic           1.000000e+00  6.992878e-109  \n",
      "RandSent                     6.992878e-109   1.000000e+00  \n"
     ]
    },
    {
     "data": {
      "image/png": "[encoded data removed]",
      "text/plain": [
       "<Figure size 432x288 with 2 Axes>"
      ]
     },
     "metadata": {
      "needs_background": "light"
     },
     "output_type": "display_data"
    }
   ],
   "source": [
    "import scikit_posthocs as sp\n",
    "\n",
    "heatmap_args = {'linewidths': 0.25, 'linecolor': '0.5', 'clip_on': False, 'square': True, 'cbar_ax_bbox': [0.95, 0.55, 0.04, 0.3]}\n",
    "\n",
    "ttest = sp.posthoc_ttest(cosine_df, val_col='cosine_similarity', group_col='condition', p_adjust='bonferroni')\n",
    "print(ttest)\n",
    "\n",
    "ax2 = sp.sign_plot(ttest, annot=ttest, fmt='.3f', **heatmap_args)\n",
    "plt.show()"
   ]
  },
  {
   "cell_type": "markdown",
   "id": "bc870a0e",
   "metadata": {},
   "source": [
    "# Merge figures"
   ]
  },
  {
   "cell_type": "code",
   "execution_count": 14,
   "id": "14c8ca67",
   "metadata": {},
   "outputs": [],
   "source": [
    "import matplotlib\n",
    "matplotlib.rcParams['pdf.fonttype'] = 42\n",
    "matplotlib.rcParams['ps.fonttype'] = 42\n",
    "matplotlib.rcParams['svg.fonttype'] = 'none'\n",
    "\n",
    "custom_params = {\"axes.spines.right\": False,\n",
    "                 \"axes.spines.top\": False,\n",
    "                 'ytick.left': True,\n",
    "                 'xtick.bottom': True,\n",
    "                'grid.linestyle': \"\" #gets rid of horizontal lines\n",
    "                }\n",
    "\n",
    "sns.set_theme(font_scale=1.4, style=\"white\", rc=custom_params)"
   ]
  },
  {
   "cell_type": "code",
   "execution_count": null,
   "id": "9edc619a",
   "metadata": {},
   "outputs": [],
   "source": [
    "fig = plt.figure(figsize=(15, 8))\n",
    "ax = fig.add_subplot(121)\n",
    "sns.violinplot(data=cosine_df, x=\"condition\", y=\"cosine_similarity\", palette = sns.light_palette(\"maroon\", 5, reverse=True)[:4])\n",
    "ax.set(xlabel='', ylabel='cosine similarity (with Original)')\n",
    "ax.set_ylim([0, 1.05]) \n",
    "\n",
    "ax = fig.add_subplot(122)\n",
    "sp.sign_plot(ttest, annot=ttest, fmt='.3f', **heatmap_args)\n",
    "\n",
    "plt.savefig('results_paper_revision/SupplementaryInformation/semantic-distance_repSimilarity.svg', dpi=180, bbox_inches=\"tight\")\n",
    "plt.savefig('results_paper_revision/SupplementaryInformation/semantic-distance_repSimilarity.png', dpi=180, bbox_inches=\"tight\")\n",
    "plt.show()\n"
   ]
  },
  {
   "cell_type": "code",
   "execution_count": null,
   "id": "231bfed4",
   "metadata": {},
   "outputs": [],
   "source": []
  }
 ],
 "metadata": {
  "kernelspec": {
   "display_name": "Python 3",
   "language": "python",
   "name": "python3"
  },
  "language_info": {
   "codemirror_mode": {
    "name": "ipython",
    "version": 3
   },
   "file_extension": ".py",
   "mimetype": "text/x-python",
   "name": "python",
   "nbconvert_exporter": "python",
   "pygments_lexer": "ipython3",
   "version": "3.8.13"
  }
 },
 "nbformat": 4,
 "nbformat_minor": 5
}
