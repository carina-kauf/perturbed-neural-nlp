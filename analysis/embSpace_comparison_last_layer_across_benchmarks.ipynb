{
 "cells": [
  {
   "cell_type": "markdown",
   "id": "1464e920",
   "metadata": {},
   "source": [
    "`run with high memory!`"
   ]
  },
  {
   "cell_type": "code",
   "execution_count": 1,
   "id": "b725d00f",
   "metadata": {},
   "outputs": [],
   "source": [
    "import os\n",
    "import re\n",
    "import pickle\n",
    "import numpy as np\n",
    "import pandas as pd\n",
    "from tqdm.notebook import tqdm\n",
    "import seaborn as sns\n",
    "import matplotlib.pyplot as plt\n",
    "from datetime import date"
   ]
  },
  {
   "cell_type": "code",
   "execution_count": 2,
   "id": "58ab3470",
   "metadata": {},
   "outputs": [],
   "source": [
    "import plot_utils"
   ]
  },
  {
   "cell_type": "code",
   "execution_count": 3,
   "id": "25d0de85",
   "metadata": {},
   "outputs": [],
   "source": [
    "working_dir = \"/om2/user/ckauf/.result_caching/neural_nlp.models.wrapper.core.ActivationsExtractorHelper._from_sentences_stored\""
   ]
  },
  {
   "cell_type": "code",
   "execution_count": 4,
   "id": "83b7d6c2",
   "metadata": {},
   "outputs": [],
   "source": [
    "model_identifier = 'gpt2-xl'\n",
    "emb_context = 'Passage'\n",
    "split_coord = \"Sentence\"\n",
    "testonperturbed = True\n",
    "randomnouns = False"
   ]
  },
  {
   "cell_type": "code",
   "execution_count": 5,
   "id": "02c62e2a",
   "metadata": {},
   "outputs": [],
   "source": [
    "\n",
    "CONDMAP = {\n",
    "    'Original': f'original',\n",
    "    #\n",
    "    'Scr1': f'scrambled1',  # different for teston, there teston:scr1\n",
    "    'Scr3': f'scrambled3',\n",
    "    'Scr5': f'scrambled5',\n",
    "    'Scr7': f'scrambled7',\n",
    "    'backward': f'backward',\n",
    "    'lowPMI': f'lowpmi',\n",
    "    'lowPMI-random': f'lowpmi-random',\n",
    "    #\n",
    "    'contentwords': f'contentwords',\n",
    "    'nounsverbsadj': f'nounsverbsadj',\n",
    "    'nounsverbs': f'nounsverbs',\n",
    "    'nouns': f'nouns',\n",
    "    #'randomnouns': f'random-nouns',\n",
    "    'functionwords': f'functionwords',\n",
    "    #\n",
    "    'chatgpt': f'chatgpt',\n",
    "    'sentenceshuffle_passage': f'sent_passage',\n",
    "    'sentenceshuffle_topic': f'sent_topic',\n",
    "    'sentenceshuffle_random': f'sent_random',\n",
    "    #\n",
    "    'random-wl': f'random-wl'\n",
    "}"
   ]
  },
  {
   "cell_type": "code",
   "execution_count": 6,
   "id": "a78044bd",
   "metadata": {},
   "outputs": [],
   "source": [
    "def get_layers(model_identifier, which_layer=\"last\"):\n",
    "    \"\"\"\n",
    "    input: model_identifier of model of which we want to find the layers\n",
    "    output: np.array of all unique layer identifiers, ordered by position\n",
    "    \"\"\"\n",
    "    for ind,filename in enumerate(os.listdir(working_dir)):\n",
    "        if \"identifier=\" + model_identifier in filename:\n",
    "            file = os.path.join(working_dir,filename)\n",
    "            with open(file, 'rb') as f:\n",
    "                result = pickle.load(f)\n",
    "            result = result['data']\n",
    "            layer_list = np.unique(result.layer)\n",
    "            #order double-digit layers at end of list\n",
    "            double_digits = [elm for elm in layer_list if 'encoder.h.' in elm and len(elm.split('.h.')[-1]) > 1]\n",
    "            layers = [e for e in layer_list if e not in double_digits] + double_digits\n",
    "            \n",
    "            if which_layer==\"last\":\n",
    "                final_layer = layers[-1]\n",
    "                return final_layer\n",
    "            else:\n",
    "                return layers\n",
    "            break"
   ]
  },
  {
   "cell_type": "code",
   "execution_count": 7,
   "id": "7fa30e3b",
   "metadata": {},
   "outputs": [],
   "source": [
    "def get_passage_identifier(filename):\n",
    "    \"\"\"\n",
    "    get passage identifier to be used as key for the dictionary.\n",
    "    important step: fill the identifier with 0s for single-digit passage numbers\n",
    "    \"\"\"\n",
    "    passage = filename.split(\"-\")[-1].split(\".\")[0]\n",
    "    number = passage.split(\"sentences\")[-1]\n",
    "    if len(number) == 1:\n",
    "        passage_identifier = passage[:-1] + number.zfill(2)\n",
    "    else:\n",
    "        passage_identifier = passage\n",
    "    return passage_identifier"
   ]
  },
  {
   "cell_type": "code",
   "execution_count": 8,
   "id": "6b9f2dc3",
   "metadata": {},
   "outputs": [],
   "source": [
    "from tqdm.notebook import tqdm\n",
    "\n",
    "def get_dictionary(model_identifier, emb_context=None):\n",
    "    \"\"\"\n",
    "    input: model identifier\n",
    "    output: populated model dictionary with data of just the selected layer (default: last_layer)\n",
    "    dictionary structure: passage_identifier --> condition identifier --> data\n",
    "    \"\"\"\n",
    "    \n",
    "    model_dictionary = model_identifier + \"_dict\"\n",
    "    model_dictionary = {}\n",
    "    \n",
    "    #look at last layer by default\n",
    "    layer_identifier = get_layers(model_identifier, which_layer=\"last\")\n",
    "\n",
    "    print(\"This is the layer I'm looking at: \", layer_identifier)\n",
    "    print(f\"This is the emb_context={emb_context}\")\n",
    "    \n",
    "    for cond in tqdm(CONDMAP.keys()):\n",
    "        print(cond)\n",
    "        for filename in tqdm(os.listdir(working_dir)):\n",
    "            if f\"identifier={model_identifier},stimuli_identifier=Pereira2018-{cond}-lasttoken,emb_context={emb_context}\" in filename:\n",
    "                passage_identifier = get_passage_identifier(filename)\n",
    "\n",
    "                file = os.path.join(working_dir,filename)\n",
    "                with open(file, 'rb') as f:\n",
    "                    out = pickle.load(f)\n",
    "                result = out['data']\n",
    "                data = result[{\"neuroid\": [layer == layer_identifier for layer in result[\"layer\"].values]}]\n",
    "\n",
    "                if not cond in model_dictionary:\n",
    "                    model_dictionary[cond] = {}\n",
    "                model_dictionary[cond][passage_identifier] = data\n",
    "    \n",
    "    return model_dictionary"
   ]
  },
  {
   "cell_type": "code",
   "execution_count": 9,
   "id": "8aa264b1",
   "metadata": {},
   "outputs": [
    {
     "name": "stderr",
     "output_type": "stream",
     "text": [
      "/om2/user/ckauf/anaconda39/envs/perturbed3.8/lib/python3.8/site-packages/xarray/core/merge.py:17: FutureWarning: The Panel class is removed from pandas. Accessing it from the top-level namespace will also be removed in the next version\n",
      "  PANDAS_TYPES = (pd.Series, pd.DataFrame, pd.Panel)\n"
     ]
    },
    {
     "name": "stdout",
     "output_type": "stream",
     "text": [
      "This is the layer I'm looking at:  encoder.h.47\n",
      "This is the emb_context=Passage\n"
     ]
    },
    {
     "data": {
      "application/vnd.jupyter.widget-view+json": {
       "model_id": "3dc046082aad4f4d8a48f0684aff4bad",
       "version_major": 2,
       "version_minor": 0
      },
      "text/plain": [
       "  0%|          | 0/18 [00:00<?, ?it/s]"
      ]
     },
     "metadata": {},
     "output_type": "display_data"
    },
    {
     "name": "stdout",
     "output_type": "stream",
     "text": [
      "Original\n"
     ]
    },
    {
     "data": {
      "application/vnd.jupyter.widget-view+json": {
       "model_id": "1a9f65dd267040038d0988c5bafb3348",
       "version_major": 2,
       "version_minor": 0
      },
      "text/plain": [
       "  0%|          | 0/65334 [00:00<?, ?it/s]"
      ]
     },
     "metadata": {},
     "output_type": "display_data"
    },
    {
     "name": "stdout",
     "output_type": "stream",
     "text": [
      "Scr1\n"
     ]
    },
    {
     "data": {
      "application/vnd.jupyter.widget-view+json": {
       "model_id": "4457d3033331421ab570c09f6d7c1fd0",
       "version_major": 2,
       "version_minor": 0
      },
      "text/plain": [
       "  0%|          | 0/65334 [00:00<?, ?it/s]"
      ]
     },
     "metadata": {},
     "output_type": "display_data"
    },
    {
     "name": "stdout",
     "output_type": "stream",
     "text": [
      "Scr3\n"
     ]
    },
    {
     "data": {
      "application/vnd.jupyter.widget-view+json": {
       "model_id": "680e3615ff9641d6a68fb35123d58a6f",
       "version_major": 2,
       "version_minor": 0
      },
      "text/plain": [
       "  0%|          | 0/65334 [00:00<?, ?it/s]"
      ]
     },
     "metadata": {},
     "output_type": "display_data"
    },
    {
     "name": "stdout",
     "output_type": "stream",
     "text": [
      "Scr5\n"
     ]
    },
    {
     "data": {
      "application/vnd.jupyter.widget-view+json": {
       "model_id": "f08b24c840b84e8da843ae3400c5d0cf",
       "version_major": 2,
       "version_minor": 0
      },
      "text/plain": [
       "  0%|          | 0/65334 [00:00<?, ?it/s]"
      ]
     },
     "metadata": {},
     "output_type": "display_data"
    },
    {
     "name": "stdout",
     "output_type": "stream",
     "text": [
      "Scr7\n"
     ]
    },
    {
     "data": {
      "application/vnd.jupyter.widget-view+json": {
       "model_id": "0ca67f69f3d14ad59704a7f8e3d6e98b",
       "version_major": 2,
       "version_minor": 0
      },
      "text/plain": [
       "  0%|          | 0/65334 [00:00<?, ?it/s]"
      ]
     },
     "metadata": {},
     "output_type": "display_data"
    },
    {
     "name": "stdout",
     "output_type": "stream",
     "text": [
      "backward\n"
     ]
    },
    {
     "data": {
      "application/vnd.jupyter.widget-view+json": {
       "model_id": "9ff644128fb041eca34211a05290e8f2",
       "version_major": 2,
       "version_minor": 0
      },
      "text/plain": [
       "  0%|          | 0/65334 [00:00<?, ?it/s]"
      ]
     },
     "metadata": {},
     "output_type": "display_data"
    },
    {
     "name": "stdout",
     "output_type": "stream",
     "text": [
      "lowPMI\n"
     ]
    },
    {
     "data": {
      "application/vnd.jupyter.widget-view+json": {
       "model_id": "5c68626f252c4785ad94ce11ff8e8ecc",
       "version_major": 2,
       "version_minor": 0
      },
      "text/plain": [
       "  0%|          | 0/65334 [00:00<?, ?it/s]"
      ]
     },
     "metadata": {},
     "output_type": "display_data"
    },
    {
     "name": "stdout",
     "output_type": "stream",
     "text": [
      "lowPMI-random\n"
     ]
    },
    {
     "data": {
      "application/vnd.jupyter.widget-view+json": {
       "model_id": "ddc8a0fe5f8f42009d340c90265d8550",
       "version_major": 2,
       "version_minor": 0
      },
      "text/plain": [
       "  0%|          | 0/65334 [00:00<?, ?it/s]"
      ]
     },
     "metadata": {},
     "output_type": "display_data"
    },
    {
     "name": "stdout",
     "output_type": "stream",
     "text": [
      "contentwords\n"
     ]
    },
    {
     "data": {
      "application/vnd.jupyter.widget-view+json": {
       "model_id": "ce7bac43451742ccbe67b8e9459af20c",
       "version_major": 2,
       "version_minor": 0
      },
      "text/plain": [
       "  0%|          | 0/65334 [00:00<?, ?it/s]"
      ]
     },
     "metadata": {},
     "output_type": "display_data"
    },
    {
     "name": "stdout",
     "output_type": "stream",
     "text": [
      "nounsverbsadj\n"
     ]
    },
    {
     "data": {
      "application/vnd.jupyter.widget-view+json": {
       "model_id": "d01fda6528a44b5ea7355a3eaea67724",
       "version_major": 2,
       "version_minor": 0
      },
      "text/plain": [
       "  0%|          | 0/65334 [00:00<?, ?it/s]"
      ]
     },
     "metadata": {},
     "output_type": "display_data"
    },
    {
     "name": "stdout",
     "output_type": "stream",
     "text": [
      "nounsverbs\n"
     ]
    },
    {
     "data": {
      "application/vnd.jupyter.widget-view+json": {
       "model_id": "e6d62b6be2d9486492c321ae904594ff",
       "version_major": 2,
       "version_minor": 0
      },
      "text/plain": [
       "  0%|          | 0/65334 [00:00<?, ?it/s]"
      ]
     },
     "metadata": {},
     "output_type": "display_data"
    },
    {
     "name": "stdout",
     "output_type": "stream",
     "text": [
      "nouns\n"
     ]
    },
    {
     "data": {
      "application/vnd.jupyter.widget-view+json": {
       "model_id": "bd78f99f2af34fb1b058c9c28268d18b",
       "version_major": 2,
       "version_minor": 0
      },
      "text/plain": [
       "  0%|          | 0/65334 [00:00<?, ?it/s]"
      ]
     },
     "metadata": {},
     "output_type": "display_data"
    },
    {
     "name": "stdout",
     "output_type": "stream",
     "text": [
      "functionwords\n"
     ]
    },
    {
     "data": {
      "application/vnd.jupyter.widget-view+json": {
       "model_id": "ef1ebddc9f2545c5b64cbb622e573fb7",
       "version_major": 2,
       "version_minor": 0
      },
      "text/plain": [
       "  0%|          | 0/65334 [00:00<?, ?it/s]"
      ]
     },
     "metadata": {},
     "output_type": "display_data"
    },
    {
     "name": "stdout",
     "output_type": "stream",
     "text": [
      "chatgpt\n"
     ]
    },
    {
     "data": {
      "application/vnd.jupyter.widget-view+json": {
       "model_id": "d5763235de0c4bef9025245d01bb8243",
       "version_major": 2,
       "version_minor": 0
      },
      "text/plain": [
       "  0%|          | 0/65334 [00:00<?, ?it/s]"
      ]
     },
     "metadata": {},
     "output_type": "display_data"
    },
    {
     "name": "stdout",
     "output_type": "stream",
     "text": [
      "sentenceshuffle_passage\n"
     ]
    },
    {
     "data": {
      "application/vnd.jupyter.widget-view+json": {
       "model_id": "38f5bf0297754020a96286f6748a9697",
       "version_major": 2,
       "version_minor": 0
      },
      "text/plain": [
       "  0%|          | 0/65334 [00:00<?, ?it/s]"
      ]
     },
     "metadata": {},
     "output_type": "display_data"
    },
    {
     "name": "stdout",
     "output_type": "stream",
     "text": [
      "sentenceshuffle_topic\n"
     ]
    },
    {
     "data": {
      "application/vnd.jupyter.widget-view+json": {
       "model_id": "4c2094e8c7a4415da2a37efd46ace3e1",
       "version_major": 2,
       "version_minor": 0
      },
      "text/plain": [
       "  0%|          | 0/65334 [00:00<?, ?it/s]"
      ]
     },
     "metadata": {},
     "output_type": "display_data"
    },
    {
     "name": "stdout",
     "output_type": "stream",
     "text": [
      "sentenceshuffle_random\n"
     ]
    },
    {
     "data": {
      "application/vnd.jupyter.widget-view+json": {
       "model_id": "e7803f67288e486389aa9fb8226082fc",
       "version_major": 2,
       "version_minor": 0
      },
      "text/plain": [
       "  0%|          | 0/65334 [00:00<?, ?it/s]"
      ]
     },
     "metadata": {},
     "output_type": "display_data"
    },
    {
     "name": "stdout",
     "output_type": "stream",
     "text": [
      "random-wl\n"
     ]
    },
    {
     "data": {
      "application/vnd.jupyter.widget-view+json": {
       "model_id": "882fcbda178343fcbb4e4ccbed808490",
       "version_major": 2,
       "version_minor": 0
      },
      "text/plain": [
       "  0%|          | 0/65334 [00:00<?, ?it/s]"
      ]
     },
     "metadata": {},
     "output_type": "display_data"
    }
   ],
   "source": [
    "model_activations_dictionary = get_dictionary(model_identifier=model_identifier, emb_context=emb_context)"
   ]
  },
  {
   "cell_type": "code",
   "execution_count": 10,
   "id": "f4ae4cd3",
   "metadata": {},
   "outputs": [
    {
     "data": {
      "text/plain": [
       "dict_keys(['Original', 'Scr1', 'Scr3', 'Scr5', 'Scr7', 'backward', 'lowPMI', 'lowPMI-random', 'contentwords', 'nounsverbsadj', 'nounsverbs', 'nouns', 'functionwords', 'chatgpt', 'sentenceshuffle_passage', 'sentenceshuffle_topic', 'sentenceshuffle_random', 'random-wl'])"
      ]
     },
     "execution_count": 10,
     "metadata": {},
     "output_type": "execute_result"
    }
   ],
   "source": [
    "model_activations_dictionary.keys()"
   ]
  },
  {
   "cell_type": "code",
   "execution_count": 11,
   "id": "71f9e8f5",
   "metadata": {},
   "outputs": [
    {
     "name": "stdout",
     "output_type": "stream",
     "text": [
      "Same\n"
     ]
    }
   ],
   "source": [
    "assert model_activations_dictionary[\"Original\"].keys() == model_activations_dictionary[\"Scr1\"].keys()\n",
    "print(\"Same\")"
   ]
  },
  {
   "cell_type": "code",
   "execution_count": 12,
   "id": "4fe5206f",
   "metadata": {},
   "outputs": [
    {
     "data": {
      "text/plain": [
       "dict_keys(['243sentences01', '243sentences10', '243sentences11', '243sentences12', '243sentences13', '243sentences14', '243sentences15', '243sentences16', '243sentences17', '243sentences18', '243sentences19', '243sentences02', '243sentences20', '243sentences21', '243sentences22', '243sentences23', '243sentences24', '243sentences25', '243sentences26', '243sentences27', '243sentences28', '243sentences29', '243sentences03', '243sentences30', '243sentences31', '243sentences32', '243sentences33', '243sentences34', '243sentences35', '243sentences36', '243sentences37', '243sentences38', '243sentences39', '243sentences04', '243sentences40', '243sentences41', '243sentences42', '243sentences43', '243sentences44', '243sentences45', '243sentences46', '243sentences47', '243sentences48', '243sentences49', '243sentences05', '243sentences50', '243sentences51', '243sentences52', '243sentences53', '243sentences54', '243sentences55', '243sentences56', '243sentences57', '243sentences58', '243sentences59', '243sentences06', '243sentences60', '243sentences61', '243sentences62', '243sentences63', '243sentences64', '243sentences65', '243sentences66', '243sentences67', '243sentences68', '243sentences69', '243sentences07', '243sentences70', '243sentences71', '243sentences72', '243sentences08', '243sentences09', '384sentences01', '384sentences10', '384sentences11', '384sentences12', '384sentences13', '384sentences14', '384sentences15', '384sentences16', '384sentences17', '384sentences18', '384sentences19', '384sentences02', '384sentences20', '384sentences21', '384sentences22', '384sentences23', '384sentences24', '384sentences25', '384sentences26', '384sentences27', '384sentences28', '384sentences29', '384sentences03', '384sentences30', '384sentences31', '384sentences32', '384sentences33', '384sentences34', '384sentences35', '384sentences36', '384sentences37', '384sentences38', '384sentences39', '384sentences04', '384sentences40', '384sentences41', '384sentences42', '384sentences43', '384sentences44', '384sentences45', '384sentences46', '384sentences47', '384sentences48', '384sentences49', '384sentences05', '384sentences50', '384sentences51', '384sentences52', '384sentences53', '384sentences54', '384sentences55', '384sentences56', '384sentences57', '384sentences58', '384sentences59', '384sentences06', '384sentences60', '384sentences61', '384sentences62', '384sentences63', '384sentences64', '384sentences65', '384sentences66', '384sentences67', '384sentences68', '384sentences69', '384sentences07', '384sentences70', '384sentences71', '384sentences72', '384sentences73', '384sentences74', '384sentences75', '384sentences76', '384sentences77', '384sentences78', '384sentences79', '384sentences08', '384sentences80', '384sentences81', '384sentences82', '384sentences83', '384sentences84', '384sentences85', '384sentences86', '384sentences87', '384sentences88', '384sentences89', '384sentences09', '384sentences90', '384sentences91', '384sentences92', '384sentences93', '384sentences94', '384sentences95', '384sentences96'])"
      ]
     },
     "execution_count": 12,
     "metadata": {},
     "output_type": "execute_result"
    }
   ],
   "source": [
    "model_activations_dictionary[\"Original\"].keys()"
   ]
  },
  {
   "cell_type": "code",
   "execution_count": 13,
   "id": "7c8dd69c",
   "metadata": {},
   "outputs": [
    {
     "name": "stdout",
     "output_type": "stream",
     "text": [
      "168\n",
      "4\n",
      "1600\n"
     ]
    }
   ],
   "source": [
    "print(len(model_activations_dictionary[\"Original\"]))\n",
    "print(len(model_activations_dictionary[\"Original\"][\"243sentences01\"]))\n",
    "print(len(model_activations_dictionary[\"Original\"][\"243sentences01\"][0]))"
   ]
  },
  {
   "cell_type": "code",
   "execution_count": 14,
   "id": "ed8b8ea3",
   "metadata": {},
   "outputs": [],
   "source": [
    "def flatten_array(liste):\n",
    "    liste_flatten = [item for sublist in liste for item in sublist]\n",
    "    return liste_flatten"
   ]
  },
  {
   "cell_type": "code",
   "execution_count": 15,
   "id": "127687f4",
   "metadata": {},
   "outputs": [
    {
     "data": {
      "text/plain": [
       "dict_keys(['Original', 'Scr1', 'Scr3', 'Scr5', 'Scr7', 'backward', 'lowPMI', 'lowPMI-random', 'contentwords', 'nounsverbsadj', 'nounsverbs', 'nouns', 'functionwords', 'chatgpt', 'sentenceshuffle_passage', 'sentenceshuffle_topic', 'sentenceshuffle_random', 'random-wl'])"
      ]
     },
     "execution_count": 15,
     "metadata": {},
     "output_type": "execute_result"
    }
   ],
   "source": [
    "model_activations_dictionary.keys()"
   ]
  },
  {
   "cell_type": "code",
   "execution_count": 16,
   "id": "b39be5ca",
   "metadata": {},
   "outputs": [
    {
     "data": {
      "application/vnd.jupyter.widget-view+json": {
       "model_id": "be33bb7cb51141d7a7ef99cddfd9c888",
       "version_major": 2,
       "version_minor": 0
      },
      "text/plain": [
       "  0%|          | 0/18 [00:00<?, ?it/s]"
      ]
     },
     "metadata": {},
     "output_type": "display_data"
    },
    {
     "name": "stdout",
     "output_type": "stream",
     "text": [
      "Asserted!\n"
     ]
    }
   ],
   "source": [
    "flatten_dict = {}\n",
    "for cond in tqdm(CONDMAP.keys()):\n",
    "    flatten_array_passage = flatten_array(model_activations_dictionary[f\"{cond}\"].values())\n",
    "    flatten_array_activations = np.asarray(flatten_array_passage).flatten()\n",
    "    flatten_dict[cond] = flatten_array_activations\n",
    "flatten_dict.keys()\n",
    "assert len(flatten_dict[\"Original\"]) == (627 * 1600)\n",
    "print(\"Asserted!\")"
   ]
  },
  {
   "cell_type": "code",
   "execution_count": 17,
   "id": "7cfeade4",
   "metadata": {},
   "outputs": [],
   "source": [
    "from scipy import stats\n",
    "def get_correlations_df_dict(flatten_dict):\n",
    "    \n",
    "    correlations_df_dict = {}\n",
    "    for cond in tqdm(CONDMAP.keys()):\n",
    "        orig_column = flatten_dict['Original']\n",
    "        correlation = stats.spearmanr(orig_column,flatten_dict[cond])[0]\n",
    "        correlations_df_dict[cond] = correlation\n",
    "    \n",
    "    return correlations_df_dict"
   ]
  },
  {
   "cell_type": "code",
   "execution_count": 18,
   "id": "15162b0a",
   "metadata": {},
   "outputs": [
    {
     "data": {
      "application/vnd.jupyter.widget-view+json": {
       "model_id": "e6c83029d85e466b9a24ec43d977650e",
       "version_major": 2,
       "version_minor": 0
      },
      "text/plain": [
       "  0%|          | 0/18 [00:00<?, ?it/s]"
      ]
     },
     "metadata": {},
     "output_type": "display_data"
    }
   ],
   "source": [
    "correlations_df_dict = get_correlations_df_dict(flatten_dict)"
   ]
  },
  {
   "cell_type": "code",
   "execution_count": 19,
   "id": "750d7d3c",
   "metadata": {},
   "outputs": [
    {
     "data": {
      "text/plain": [
       "{'Original': 1.0,\n",
       " 'Scr1': 0.95072135522137,\n",
       " 'Scr3': 0.8541157761116305,\n",
       " 'Scr5': 0.8245610766656267,\n",
       " 'Scr7': 0.7757999706627392,\n",
       " 'backward': 0.630838757209612,\n",
       " 'lowPMI': 0.756468583599953,\n",
       " 'lowPMI-random': 0.7043274750502123,\n",
       " 'contentwords': 0.8333127362072131,\n",
       " 'nounsverbsadj': 0.8182833804291413,\n",
       " 'nounsverbs': 0.779039917582166,\n",
       " 'nouns': 0.6562928485025491,\n",
       " 'functionwords': 0.3489911041563458,\n",
       " 'chatgpt': 0.9189251337267267,\n",
       " 'sentenceshuffle_passage': 0.8218812947123574,\n",
       " 'sentenceshuffle_topic': 0.6555425026055645,\n",
       " 'sentenceshuffle_random': 0.46327224413061635,\n",
       " 'random-wl': 0.3913755843707699}"
      ]
     },
     "execution_count": 19,
     "metadata": {},
     "output_type": "execute_result"
    }
   ],
   "source": [
    "correlations_df_dict"
   ]
  },
  {
   "cell_type": "markdown",
   "id": "bce5d8b1",
   "metadata": {},
   "source": [
    "# Plot"
   ]
  },
  {
   "cell_type": "code",
   "execution_count": 20,
   "id": "f7080ab8",
   "metadata": {},
   "outputs": [],
   "source": [
    "CAT2COND , COND2CAT = plot_utils.get_conditions(testonperturbed=False)"
   ]
  },
  {
   "cell_type": "code",
   "execution_count": 21,
   "id": "d007ebdb",
   "metadata": {},
   "outputs": [
    {
     "data": {
      "text/html": [
       "<div>\n",
       "<style scoped>\n",
       "    .dataframe tbody tr th:only-of-type {\n",
       "        vertical-align: middle;\n",
       "    }\n",
       "\n",
       "    .dataframe tbody tr th {\n",
       "        vertical-align: top;\n",
       "    }\n",
       "\n",
       "    .dataframe thead th {\n",
       "        text-align: right;\n",
       "    }\n",
       "</style>\n",
       "<table border=\"1\" class=\"dataframe\">\n",
       "  <thead>\n",
       "    <tr style=\"text-align: right;\">\n",
       "      <th></th>\n",
       "      <th>condition</th>\n",
       "      <th>Spearman correlation</th>\n",
       "      <th>category</th>\n",
       "    </tr>\n",
       "  </thead>\n",
       "  <tbody>\n",
       "    <tr>\n",
       "      <th>0</th>\n",
       "      <td>Original</td>\n",
       "      <td>1.000000</td>\n",
       "      <td>original</td>\n",
       "    </tr>\n",
       "    <tr>\n",
       "      <th>1</th>\n",
       "      <td>1LocalWordSwap</td>\n",
       "      <td>0.950721</td>\n",
       "      <td>word-order</td>\n",
       "    </tr>\n",
       "    <tr>\n",
       "      <th>2</th>\n",
       "      <td>3LocalWordSwaps</td>\n",
       "      <td>0.854116</td>\n",
       "      <td>word-order</td>\n",
       "    </tr>\n",
       "    <tr>\n",
       "      <th>3</th>\n",
       "      <td>5LocalWordSwaps</td>\n",
       "      <td>0.824561</td>\n",
       "      <td>word-order</td>\n",
       "    </tr>\n",
       "    <tr>\n",
       "      <th>4</th>\n",
       "      <td>7LocalWordSwaps</td>\n",
       "      <td>0.775800</td>\n",
       "      <td>word-order</td>\n",
       "    </tr>\n",
       "    <tr>\n",
       "      <th>5</th>\n",
       "      <td>ReverseOrder</td>\n",
       "      <td>0.630839</td>\n",
       "      <td>word-order</td>\n",
       "    </tr>\n",
       "    <tr>\n",
       "      <th>6</th>\n",
       "      <td>LowPMI</td>\n",
       "      <td>0.756469</td>\n",
       "      <td>word-order</td>\n",
       "    </tr>\n",
       "    <tr>\n",
       "      <th>7</th>\n",
       "      <td>LowPMIRand</td>\n",
       "      <td>0.704327</td>\n",
       "      <td>word-order</td>\n",
       "    </tr>\n",
       "    <tr>\n",
       "      <th>8</th>\n",
       "      <td>KeepContentW</td>\n",
       "      <td>0.833313</td>\n",
       "      <td>information-loss</td>\n",
       "    </tr>\n",
       "    <tr>\n",
       "      <th>9</th>\n",
       "      <td>KeepNVAdj</td>\n",
       "      <td>0.818283</td>\n",
       "      <td>information-loss</td>\n",
       "    </tr>\n",
       "    <tr>\n",
       "      <th>10</th>\n",
       "      <td>KeepNV</td>\n",
       "      <td>0.779040</td>\n",
       "      <td>information-loss</td>\n",
       "    </tr>\n",
       "    <tr>\n",
       "      <th>11</th>\n",
       "      <td>KeepN</td>\n",
       "      <td>0.656293</td>\n",
       "      <td>information-loss</td>\n",
       "    </tr>\n",
       "    <tr>\n",
       "      <th>12</th>\n",
       "      <td>KeepFunctionW</td>\n",
       "      <td>0.348991</td>\n",
       "      <td>information-loss</td>\n",
       "    </tr>\n",
       "    <tr>\n",
       "      <th>13</th>\n",
       "      <td>Paraphrase</td>\n",
       "      <td>0.918925</td>\n",
       "      <td>semantic-distance</td>\n",
       "    </tr>\n",
       "    <tr>\n",
       "      <th>14</th>\n",
       "      <td>RandSentFromPassage</td>\n",
       "      <td>0.821881</td>\n",
       "      <td>semantic-distance</td>\n",
       "    </tr>\n",
       "    <tr>\n",
       "      <th>15</th>\n",
       "      <td>RandSentFromTopic</td>\n",
       "      <td>0.655543</td>\n",
       "      <td>semantic-distance</td>\n",
       "    </tr>\n",
       "    <tr>\n",
       "      <th>16</th>\n",
       "      <td>RandSent</td>\n",
       "      <td>0.463272</td>\n",
       "      <td>semantic-distance</td>\n",
       "    </tr>\n",
       "    <tr>\n",
       "      <th>17</th>\n",
       "      <td>RandWordList</td>\n",
       "      <td>0.391376</td>\n",
       "      <td>control</td>\n",
       "    </tr>\n",
       "  </tbody>\n",
       "</table>\n",
       "</div>"
      ],
      "text/plain": [
       "              condition  Spearman correlation           category\n",
       "0              Original              1.000000           original\n",
       "1        1LocalWordSwap              0.950721         word-order\n",
       "2       3LocalWordSwaps              0.854116         word-order\n",
       "3       5LocalWordSwaps              0.824561         word-order\n",
       "4       7LocalWordSwaps              0.775800         word-order\n",
       "5          ReverseOrder              0.630839         word-order\n",
       "6                LowPMI              0.756469         word-order\n",
       "7            LowPMIRand              0.704327         word-order\n",
       "8          KeepContentW              0.833313   information-loss\n",
       "9             KeepNVAdj              0.818283   information-loss\n",
       "10               KeepNV              0.779040   information-loss\n",
       "11                KeepN              0.656293   information-loss\n",
       "12        KeepFunctionW              0.348991   information-loss\n",
       "13           Paraphrase              0.918925  semantic-distance\n",
       "14  RandSentFromPassage              0.821881  semantic-distance\n",
       "15    RandSentFromTopic              0.655543  semantic-distance\n",
       "16             RandSent              0.463272  semantic-distance\n",
       "17         RandWordList              0.391376            control"
      ]
     },
     "execution_count": 21,
     "metadata": {},
     "output_type": "execute_result"
    }
   ],
   "source": [
    "# super ugly - redo!\n",
    "correlations_df = pd.DataFrame.from_dict([correlations_df_dict]).T.reset_index()\n",
    "correlations_df.columns = [\"condition\", \"Spearman correlation\"]\n",
    "#Rename conditions\n",
    "correlations_df['condition'] = correlations_df['condition'].map(CONDMAP)\n",
    "correlations_df['condition'] = correlations_df['condition'].replace(\n",
    "        {'sent_random': 'sentenceshuffle_random',\n",
    "    'sent_passage': 'sentenceshuffle_passage',\n",
    "    'sent_topic': 'sentenceshuffle_topic'})\n",
    "correlations_df['category'] = correlations_df['condition'].map(COND2CAT)\n",
    "#Rename conditions according to new names\n",
    "correlations_df['condition'] = correlations_df['condition'].replace(\n",
    "        {'sentenceshuffle_random': 'sent_random',\n",
    "    'sentenceshuffle_passage': 'sent_passage',\n",
    "    'sentenceshuffle_topic': 'sent_topic'})\n",
    "correlations_df['condition'] = correlations_df['condition'].map(plot_utils.COND2LABEL)\n",
    "correlations_df"
   ]
  },
  {
   "cell_type": "code",
   "execution_count": 22,
   "id": "024a652a",
   "metadata": {},
   "outputs": [],
   "source": [
    "correlations_df.to_csv(\"last_layer_correlations.csv\", index=False)"
   ]
  },
  {
   "cell_type": "code",
   "execution_count": 23,
   "id": "41c5715f",
   "metadata": {},
   "outputs": [],
   "source": [
    "import matplotlib\n",
    "matplotlib.rcParams['pdf.fonttype'] = 42\n",
    "matplotlib.rcParams['ps.fonttype'] = 42\n",
    "matplotlib.rcParams['svg.fonttype'] = 'none'\n",
    "\n",
    "custom_params = {\"axes.spines.right\": False,\n",
    "                 \"axes.spines.top\": False,\n",
    "                 'ytick.left': True,\n",
    "                 'xtick.bottom': True,\n",
    "                'grid.linestyle': \"\", #gets rid of horizontal lines\n",
    "                 # set tick width\n",
    "                'xtick.major.size' : 20,\n",
    "                'xtick.major.width': 4,\n",
    "                'xtick.minor.size' : 10,\n",
    "                'xtick.minor.width' : 2,\n",
    "                'ytick.major.size' : 20,\n",
    "                'ytick.major.width': 4,\n",
    "                'ytick.minor.size' : 10,\n",
    "                'ytick.minor.width' : 2\n",
    "                }\n",
    "\n",
    "sns.set_theme(font_scale=2.5, style=\"white\", rc=custom_params)"
   ]
  },
  {
   "cell_type": "code",
   "execution_count": 24,
   "id": "c70685e4",
   "metadata": {},
   "outputs": [],
   "source": [
    "def func(string):\n",
    "    return \"\\n\".join(string.split(\"From\"))\n",
    "\n",
    "correlations_df['condition'] = correlations_df['condition'].apply(func)"
   ]
  },
  {
   "cell_type": "code",
   "execution_count": 25,
   "id": "baa74534",
   "metadata": {},
   "outputs": [
    {
     "data": {
      "image/png": "[encoded data removed]",
      "text/plain": [
       "<Figure size 1800x720 with 5 Axes>"
      ]
     },
     "metadata": {
      "needs_background": "light"
     },
     "output_type": "display_data"
    }
   ],
   "source": [
    "#get proportions for subplot width\n",
    "categories = CAT2COND.keys()\n",
    "props = [len(correlations_df.loc[correlations_df[\"category\"] == cat])/len(correlations_df) for cat in categories]\n",
    "\n",
    "palette = sns.color_palette('magma')\n",
    "\n",
    "g = sns.FacetGrid(correlations_df, col=\"category\", sharex=False,\n",
    "                  gridspec_kws={\"width_ratios\": props},\n",
    "                  height=10, aspect=0.5)\n",
    "\n",
    "g.map(sns.lineplot, \"condition\", \"Spearman correlation\", alpha=0.8, markersize=14, marker=\"o\", linewidth=2.5, color=palette[0])\n",
    "g.set_xlabels(\"\")\n",
    "g.set_ylabels(\"Spearman's rho\")\n",
    "g.set(ylim=(0, 1.05))\n",
    "g.set_titles(col_template=\"{col_name}\", pad=0.1)\n",
    "g.set_xticklabels(rotation=80)\n",
    "\n",
    "g.fig.tight_layout()\n",
    "\n",
    "plt.savefig(f'results_paper_revision/correlations2brainscore/last-layer-correlations.png', bbox_inches='tight', dpi=300)\n",
    "plt.savefig(f'results_paper_revision/correlations2brainscore/last-layer-correlations.svg', bbox_inches='tight', dpi=300)\n",
    "\n",
    "plt.show()"
   ]
  }
 ],
 "metadata": {
  "kernelspec": {
   "display_name": "Python 3",
   "language": "python",
   "name": "python3"
  },
  "language_info": {
   "codemirror_mode": {
    "name": "ipython",
    "version": 3
   },
   "file_extension": ".py",
   "mimetype": "text/x-python",
   "name": "python",
   "nbconvert_exporter": "python",
   "pygments_lexer": "ipython3",
   "version": "3.8.13"
  }
 },
 "nbformat": 4,
 "nbformat_minor": 5
}
