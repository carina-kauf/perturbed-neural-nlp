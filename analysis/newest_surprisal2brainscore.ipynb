{
 "cells": [
  {
   "cell_type": "markdown",
   "id": "59d74610",
   "metadata": {},
   "source": [
    "`NOTE: this is using decontextualized sentence gpt2-xl surprisals!`\n",
    "    \n",
    "`NOTE: using gpt2 surprisal averaged by number of tokens in the string!`"
   ]
  },
  {
   "cell_type": "code",
   "execution_count": 738,
   "id": "f9a3b01a",
   "metadata": {},
   "outputs": [],
   "source": [
    "import os\n",
    "import re\n",
    "import pickle\n",
    "import numpy as np\n",
    "import pandas as pd\n",
    "from tqdm import tqdm\n",
    "import seaborn as sns\n",
    "import matplotlib.pyplot as plt\n",
    "from datetime import date\n",
    "import copy\n",
    "import json"
   ]
  },
  {
   "cell_type": "code",
   "execution_count": 739,
   "id": "c616c036",
   "metadata": {},
   "outputs": [],
   "source": [
    "import plot_utils\n",
    "import stats_utils"
   ]
  },
  {
   "cell_type": "code",
   "execution_count": 740,
   "id": "c12121e3",
   "metadata": {},
   "outputs": [],
   "source": [
    "save = True"
   ]
  },
  {
   "cell_type": "code",
   "execution_count": 741,
   "id": "9f8ea539",
   "metadata": {},
   "outputs": [],
   "source": [
    "average_surprisals = \"NrTokens\"\n",
    "exclude_randomwl = False\n",
    "exclude_concatenated_control = True"
   ]
  },
  {
   "cell_type": "code",
   "execution_count": 742,
   "id": "3a134768",
   "metadata": {},
   "outputs": [],
   "source": [
    "model_identifier = \"gpt2-xl\"\n",
    "randomnouns=False"
   ]
  },
  {
   "cell_type": "code",
   "execution_count": 743,
   "id": "5194ede5",
   "metadata": {},
   "outputs": [
    {
     "data": {
      "text/plain": [
       "['TrainIntact-TestPerturbed:contextualized',\n",
       " 'TrainIntact-TestPerturbed:decontextualized',\n",
       " 'TrainPerturbed-TestPerturbed:contextualized',\n",
       " 'TrainPerturbed-TestPerturbed:decontextualized',\n",
       " 'TrainPerturbed-TestPerturbed:cv-by-passage']"
      ]
     },
     "execution_count": 743,
     "metadata": {},
     "output_type": "execute_result"
    }
   ],
   "source": [
    "#load configuration\n",
    "with open('configurations.json', 'r') as f:\n",
    "    config = json.load(f)\n",
    "    \n",
    "list(config.keys())"
   ]
  },
  {
   "cell_type": "code",
   "execution_count": 744,
   "id": "b9d5b42f",
   "metadata": {},
   "outputs": [],
   "source": [
    "# get setting\n",
    "approach = \"TrainIntact-TestPerturbed:contextualized\"\n",
    "\n",
    "emb_context=config[approach][\"emb_context\"]\n",
    "split_coord=config[approach][\"split_coord\"]\n",
    "testonperturbed=config[approach][\"testonperturbed\"]"
   ]
  },
  {
   "cell_type": "code",
   "execution_count": 745,
   "id": "446304d2",
   "metadata": {},
   "outputs": [],
   "source": [
    "if testonperturbed:\n",
    "    to_prepend = \"teston:\"\n",
    "else:\n",
    "    to_prepend = \"\""
   ]
  },
  {
   "cell_type": "markdown",
   "id": "37dfb4d7",
   "metadata": {},
   "source": [
    "# Get brainscores"
   ]
  },
  {
   "cell_type": "code",
   "execution_count": 746,
   "id": "fd4cbf22",
   "metadata": {},
   "outputs": [],
   "source": [
    "def flatten_list(xss):\n",
    "    return [x for xs in xss for x in xs]"
   ]
  },
  {
   "cell_type": "code",
   "execution_count": 747,
   "id": "a5d126ba",
   "metadata": {},
   "outputs": [],
   "source": [
    "def get_conditions(testonperturbed=False, randomnouns=False):\n",
    "    \n",
    "    if testonperturbed:\n",
    "        to_prepend = \"teston:\"\n",
    "    else:\n",
    "        to_prepend = \"\"\n",
    "        \n",
    "    original = [f'{to_prepend}original']\n",
    "    \n",
    "    conditions_control = [f'{to_prepend}random-wl',\n",
    "                         f'{to_prepend}concatenated-control']\n",
    "\n",
    "    conditions_scrambled = [f'{to_prepend}scrambled1',\n",
    "                            f'{to_prepend}scrambled3',\n",
    "                            f'{to_prepend}scrambled5',\n",
    "                            f'{to_prepend}scrambled7',\n",
    "                            f'{to_prepend}backward',\n",
    "                            f'{to_prepend}lowpmi',\n",
    "                            f'{to_prepend}lowpmi-random']\n",
    "    \n",
    "    if testonperturbed:\n",
    "        conditions_scrambled = [re.sub(\"scrambled\",\"scr\",elm) for elm in conditions_scrambled]\n",
    "\n",
    "    conditions_perturb_loss = [f'{to_prepend}nouns',\n",
    "                               f'{to_prepend}nounsverbs',\n",
    "                               f'{to_prepend}nounsverbsadj',\n",
    "                               f'{to_prepend}contentwords',\n",
    "                               f'{to_prepend}functionwords']\n",
    "    \n",
    "    if randomnouns:\n",
    "        conditions_perturb_loss += [f'{to_prepend}random-nouns']\n",
    "\n",
    "    conditions_perturb_meaning = [f'{to_prepend}sentenceshuffle_passage',\n",
    "                                  f'{to_prepend}sentenceshuffle_topic',\n",
    "                                  f'{to_prepend}sentenceshuffle_random']\n",
    "\n",
    "\n",
    "    #create CAT2COND\n",
    "    conditions = [original, conditions_scrambled, conditions_perturb_loss, conditions_perturb_meaning, conditions_control]\n",
    "    categories_unique = [\"original\", \"word-order\", \"information-loss\", \"semantic-distance\", \"control\"]\n",
    "    \n",
    "    CAT2COND = dict(zip(categories_unique, conditions)) #dictionary from manipulation category to condition\n",
    "    \n",
    "    #create COND2CAT\n",
    "    categories = [[\"original\"] * len(original),\n",
    "                  [\"word-order\"] * len(conditions_scrambled),\n",
    "                  [\"information-loss\"] * len(conditions_perturb_loss),\n",
    "                  [\"semantic-distance\"] * len(conditions_perturb_meaning),\n",
    "                  [\"control\"] * len(conditions_control)]\n",
    "    \n",
    "    conditions = flatten_list(conditions)\n",
    "    categories = flatten_list(categories)\n",
    "\n",
    "    COND2CAT = dict(zip(conditions, categories))\n",
    "\n",
    "    return CAT2COND, COND2CAT"
   ]
  },
  {
   "cell_type": "code",
   "execution_count": 748,
   "id": "5f73b8da",
   "metadata": {},
   "outputs": [],
   "source": [
    "def get_max_score(matrix):\n",
    "    \"\"\"\n",
    "    input: result = out['data'].values matrix (e.g. for distilgpt2 a matrix of dimensions 7x2)\n",
    "    output: maximum score and associated error for this matrix.\n",
    "    \"\"\"\n",
    "    max_score, error = 0,0\n",
    "    for i in range(len(matrix)):\n",
    "        if matrix[i][0] > max_score:\n",
    "            max_score = matrix[i][0]\n",
    "            error = matrix[i][1]\n",
    "    return max_score, error"
   ]
  },
  {
   "cell_type": "code",
   "execution_count": 749,
   "id": "6cf844a1",
   "metadata": {},
   "outputs": [],
   "source": [
    "#function check\n",
    "def get_best_scores_df(model_identifier, emb_context=\"Passage\", split_coord=\"Sentence\", testonperturbed=False, randomnouns=False):\n",
    "    \"\"\"\n",
    "    input: model_identifier, embedding context, split_coordinate & whether to test on perturbed sentence\n",
    "    output: dataframe containing the maximum score and associated error per condition.\n",
    "    \"\"\"\n",
    "    \n",
    "    working_dir = \"/om2/user/ckauf/.result_caching/neural_nlp.score\"\n",
    "    \n",
    "    CAT2COND, COND2CAT = get_conditions(testonperturbed=testonperturbed, randomnouns=randomnouns)\n",
    "    \n",
    "    conditions, categories = [], []\n",
    "    max_scores, errors = [], []\n",
    "    \n",
    "    for filename in os.listdir(working_dir):\n",
    "        \n",
    "        if os.path.isdir(os.path.join(working_dir,filename)):\n",
    "            continue\n",
    "            \n",
    "        if not testonperturbed:\n",
    "            if \"teston:\" in filename:\n",
    "                continue\n",
    "        else:\n",
    "            if not \"teston:\" in filename:\n",
    "                continue\n",
    "                \n",
    "        if not f\"emb_context={emb_context}\" in filename:\n",
    "            continue\n",
    "                \n",
    "        if not f\"split_coord={split_coord}\" in filename:\n",
    "            continue\n",
    "        \n",
    "        exclude_list = [\"constant-control\", \"length-control\", \"random-nouns\"]\n",
    "        if randomnouns:\n",
    "            exclude_list = [\"constant-control\", \"length-control\"]\n",
    "            \n",
    "        if any(x in filename for x in exclude_list):\n",
    "            continue\n",
    "                        \n",
    "\n",
    "        model_name = filename.split(\",\")[1]\n",
    "        bm = filename.split(\",\")[0]\n",
    "        \n",
    "        if bm == \"benchmark=Pereira2018-encoding\": #exclude old orignial bm in different format\n",
    "            continue\n",
    "        \n",
    "        if \"model=\" + model_identifier == model_name:\n",
    "            \n",
    "            condition = bm.split(\"benchmark=Pereira2018-encoding-\")[-1]\n",
    "                \n",
    "#             print(filename, sys.stdout.flush())\n",
    "            \n",
    "            #clean name\n",
    "            condition = re.sub(\"perturb-\",\"\",condition)\n",
    "            if not any(x in condition for x in [\"1\", \"3\", \"5\", \"7\"]):\n",
    "                condition = re.sub(\"scrambled-\",\"\",condition)\n",
    "            \n",
    "            if testonperturbed:\n",
    "                condition = re.sub(\"scrambled\",\"scr\",condition)\n",
    "                \n",
    "#             print(condition)\n",
    "\n",
    "            #load scores\n",
    "            file = os.path.join(working_dir,filename)\n",
    "            with open(file, 'rb') as f:\n",
    "                out = pickle.load(f)\n",
    "#                 lang_score_matrix = get_lang_score(out)\n",
    "#                 max_score, error = get_max_score(lang_score_matrix)\n",
    "                result = out['data'].values\n",
    "#                 #print(result, '\\n\\n')\n",
    "                max_score, error = get_max_score(result)\n",
    "\n",
    "            conditions.append(condition)\n",
    "            categories.append(COND2CAT[condition])\n",
    "            max_scores.append(max_score)\n",
    "            errors.append(error)\n",
    "\n",
    "                \n",
    "    import pandas as pd\n",
    "    \n",
    "    index = conditions\n",
    "    condition_order = list(COND2CAT.keys())\n",
    "    \n",
    "    df = pd.DataFrame({\n",
    "        'score': max_scores,\n",
    "        'error': errors,\n",
    "        'condition': conditions,\n",
    "        'category': categories})\n",
    "    \n",
    "    df['condition'] = pd.Categorical(df['condition'], categories=condition_order, ordered=True)\n",
    "    scores_df = df.sort_values(by='condition').reset_index(drop=True)\n",
    "    \n",
    "    #clean names\n",
    "    scores_df['condition'] = scores_df['condition'].str.replace(\"teston:\",\"\")\n",
    "    scores_df['condition'] = scores_df['condition'].replace(\n",
    "    {'sentenceshuffle_random': 'sent_random',\n",
    "    'sentenceshuffle_passage': 'sent_passage',\n",
    "    'sentenceshuffle_topic': 'sent_topic',\n",
    "    'scr1': 'scrambled1',\n",
    "    'scr3': 'scrambled3',\n",
    "    'scr5': 'scrambled5',\n",
    "    'scr7': 'scrambled7'}\n",
    "    )\n",
    "    \n",
    "    return scores_df\n",
    "\n",
    "scores_df = get_best_scores_df(model_identifier=model_identifier,\n",
    "                               emb_context=emb_context,\n",
    "                               split_coord=split_coord,\n",
    "                               testonperturbed=testonperturbed,\n",
    "                               randomnouns=randomnouns)\n",
    "\n"
   ]
  },
  {
   "cell_type": "code",
   "execution_count": 750,
   "id": "8d30ecc3",
   "metadata": {},
   "outputs": [
    {
     "data": {
      "text/html": [
       "<div>\n",
       "<style scoped>\n",
       "    .dataframe tbody tr th:only-of-type {\n",
       "        vertical-align: middle;\n",
       "    }\n",
       "\n",
       "    .dataframe tbody tr th {\n",
       "        vertical-align: top;\n",
       "    }\n",
       "\n",
       "    .dataframe thead th {\n",
       "        text-align: right;\n",
       "    }\n",
       "</style>\n",
       "<table border=\"1\" class=\"dataframe\">\n",
       "  <thead>\n",
       "    <tr style=\"text-align: right;\">\n",
       "      <th></th>\n",
       "      <th>score</th>\n",
       "      <th>error</th>\n",
       "      <th>condition</th>\n",
       "      <th>category</th>\n",
       "      <th>delta_brainscore</th>\n",
       "    </tr>\n",
       "  </thead>\n",
       "  <tbody>\n",
       "    <tr>\n",
       "      <th>0</th>\n",
       "      <td>1.107199</td>\n",
       "      <td>0.141840</td>\n",
       "      <td>original</td>\n",
       "      <td>original</td>\n",
       "      <td>0.000000</td>\n",
       "    </tr>\n",
       "    <tr>\n",
       "      <th>1</th>\n",
       "      <td>1.019374</td>\n",
       "      <td>0.120393</td>\n",
       "      <td>scrambled1</td>\n",
       "      <td>word-order</td>\n",
       "      <td>-0.087825</td>\n",
       "    </tr>\n",
       "    <tr>\n",
       "      <th>2</th>\n",
       "      <td>0.924364</td>\n",
       "      <td>0.086006</td>\n",
       "      <td>scrambled3</td>\n",
       "      <td>word-order</td>\n",
       "      <td>-0.182834</td>\n",
       "    </tr>\n",
       "    <tr>\n",
       "      <th>3</th>\n",
       "      <td>0.907545</td>\n",
       "      <td>0.071722</td>\n",
       "      <td>scrambled5</td>\n",
       "      <td>word-order</td>\n",
       "      <td>-0.199654</td>\n",
       "    </tr>\n",
       "    <tr>\n",
       "      <th>4</th>\n",
       "      <td>0.914475</td>\n",
       "      <td>0.099400</td>\n",
       "      <td>scrambled7</td>\n",
       "      <td>word-order</td>\n",
       "      <td>-0.192724</td>\n",
       "    </tr>\n",
       "    <tr>\n",
       "      <th>5</th>\n",
       "      <td>0.835083</td>\n",
       "      <td>0.064965</td>\n",
       "      <td>backward</td>\n",
       "      <td>word-order</td>\n",
       "      <td>-0.272116</td>\n",
       "    </tr>\n",
       "    <tr>\n",
       "      <th>6</th>\n",
       "      <td>0.933212</td>\n",
       "      <td>0.070269</td>\n",
       "      <td>lowpmi</td>\n",
       "      <td>word-order</td>\n",
       "      <td>-0.173986</td>\n",
       "    </tr>\n",
       "    <tr>\n",
       "      <th>7</th>\n",
       "      <td>0.889217</td>\n",
       "      <td>0.093797</td>\n",
       "      <td>lowpmi-random</td>\n",
       "      <td>word-order</td>\n",
       "      <td>-0.217982</td>\n",
       "    </tr>\n",
       "    <tr>\n",
       "      <th>8</th>\n",
       "      <td>0.644818</td>\n",
       "      <td>0.078112</td>\n",
       "      <td>nouns</td>\n",
       "      <td>information-loss</td>\n",
       "      <td>-0.462381</td>\n",
       "    </tr>\n",
       "    <tr>\n",
       "      <th>9</th>\n",
       "      <td>0.808808</td>\n",
       "      <td>0.098496</td>\n",
       "      <td>nounsverbs</td>\n",
       "      <td>information-loss</td>\n",
       "      <td>-0.298390</td>\n",
       "    </tr>\n",
       "    <tr>\n",
       "      <th>10</th>\n",
       "      <td>0.856148</td>\n",
       "      <td>0.055101</td>\n",
       "      <td>nounsverbsadj</td>\n",
       "      <td>information-loss</td>\n",
       "      <td>-0.251051</td>\n",
       "    </tr>\n",
       "    <tr>\n",
       "      <th>11</th>\n",
       "      <td>0.883215</td>\n",
       "      <td>0.111191</td>\n",
       "      <td>contentwords</td>\n",
       "      <td>information-loss</td>\n",
       "      <td>-0.223984</td>\n",
       "    </tr>\n",
       "    <tr>\n",
       "      <th>12</th>\n",
       "      <td>0.185882</td>\n",
       "      <td>0.040856</td>\n",
       "      <td>functionwords</td>\n",
       "      <td>information-loss</td>\n",
       "      <td>-0.921317</td>\n",
       "    </tr>\n",
       "    <tr>\n",
       "      <th>13</th>\n",
       "      <td>0.891967</td>\n",
       "      <td>0.082155</td>\n",
       "      <td>sent_passage</td>\n",
       "      <td>semantic-distance</td>\n",
       "      <td>-0.215231</td>\n",
       "    </tr>\n",
       "    <tr>\n",
       "      <th>14</th>\n",
       "      <td>0.313610</td>\n",
       "      <td>0.131498</td>\n",
       "      <td>sent_topic</td>\n",
       "      <td>semantic-distance</td>\n",
       "      <td>-0.793589</td>\n",
       "    </tr>\n",
       "    <tr>\n",
       "      <th>15</th>\n",
       "      <td>0.068910</td>\n",
       "      <td>0.034226</td>\n",
       "      <td>sent_random</td>\n",
       "      <td>semantic-distance</td>\n",
       "      <td>-1.038288</td>\n",
       "    </tr>\n",
       "    <tr>\n",
       "      <th>16</th>\n",
       "      <td>0.108709</td>\n",
       "      <td>0.070373</td>\n",
       "      <td>random-wl</td>\n",
       "      <td>control</td>\n",
       "      <td>-0.998490</td>\n",
       "    </tr>\n",
       "  </tbody>\n",
       "</table>\n",
       "</div>"
      ],
      "text/plain": [
       "       score     error      condition           category  delta_brainscore\n",
       "0   1.107199  0.141840       original           original          0.000000\n",
       "1   1.019374  0.120393     scrambled1         word-order         -0.087825\n",
       "2   0.924364  0.086006     scrambled3         word-order         -0.182834\n",
       "3   0.907545  0.071722     scrambled5         word-order         -0.199654\n",
       "4   0.914475  0.099400     scrambled7         word-order         -0.192724\n",
       "5   0.835083  0.064965       backward         word-order         -0.272116\n",
       "6   0.933212  0.070269         lowpmi         word-order         -0.173986\n",
       "7   0.889217  0.093797  lowpmi-random         word-order         -0.217982\n",
       "8   0.644818  0.078112          nouns   information-loss         -0.462381\n",
       "9   0.808808  0.098496     nounsverbs   information-loss         -0.298390\n",
       "10  0.856148  0.055101  nounsverbsadj   information-loss         -0.251051\n",
       "11  0.883215  0.111191   contentwords   information-loss         -0.223984\n",
       "12  0.185882  0.040856  functionwords   information-loss         -0.921317\n",
       "13  0.891967  0.082155   sent_passage  semantic-distance         -0.215231\n",
       "14  0.313610  0.131498     sent_topic  semantic-distance         -0.793589\n",
       "15  0.068910  0.034226    sent_random  semantic-distance         -1.038288\n",
       "16  0.108709  0.070373      random-wl            control         -0.998490"
      ]
     },
     "execution_count": 750,
     "metadata": {},
     "output_type": "execute_result"
    }
   ],
   "source": [
    "brainscores = list(scores_df[\"score\"])\n",
    "delta_brainscores = [brainscores[i] - brainscores[0] for i in range(len(brainscores))]\n",
    "scores_df[\"delta_brainscore\"] = delta_brainscores\n",
    "scores_df"
   ]
  },
  {
   "cell_type": "markdown",
   "id": "6f016aae",
   "metadata": {},
   "source": [
    "# Load surprisals"
   ]
  },
  {
   "cell_type": "code",
   "execution_count": 751,
   "id": "e30fd292",
   "metadata": {},
   "outputs": [],
   "source": [
    "surprisal_path = os.path.abspath(\"./gpt2_surprisals/files\")\n",
    "\n",
    "#distilgpt2.perturbed+contentwords.sentence_surp.average.txt\n",
    "#Index\tSentence\tSurprisal\tPPL"
   ]
  },
  {
   "cell_type": "code",
   "execution_count": 752,
   "id": "fefb0001",
   "metadata": {},
   "outputs": [],
   "source": [
    "COND2SET = {\n",
    "'Original' : 'original',\n",
    "    #\n",
    "'Scr1' : 'scrambled',\n",
    "'Scr3' : 'scrambled',\n",
    "'Scr5' : 'scrambled',\n",
    "'Scr7' : 'scrambled',\n",
    "'backward' : 'scrambled',\n",
    "'lowPMI' : 'scrambled',\n",
    "'random' : 'scrambled',\n",
    "'nouns' : 'perturbed',\n",
    "'randomnouns' : 'perturbed',\n",
    "'nounsverbs' : 'perturbed',\n",
    "'nounsverbsadj' : 'perturbed',\n",
    "'contentwords' : 'perturbed',\n",
    "'functionwords' : 'perturbed',\n",
    "    #\n",
    "'sentenceshuffle-random' : 'perturbed',\n",
    "'sentenceshuffle-withinpassage' : 'perturbed',\n",
    "'sentenceshuffle-withintopic' : 'perturbed',\n",
    "'concatenated_control' : 'control'\n",
    "}"
   ]
  },
  {
   "cell_type": "code",
   "execution_count": 753,
   "id": "e7f05bb4",
   "metadata": {},
   "outputs": [],
   "source": [
    "CONDMAP = [ #same name between brainscores and surprisals\n",
    "('Original', f'{to_prepend}original'),\n",
    "    #\n",
    "('Scr1', f'{to_prepend}scr1'),\n",
    "('Scr3', f'{to_prepend}scr3'),\n",
    "('Scr5', f'{to_prepend}scr5'),\n",
    "('Scr7', f'{to_prepend}scr7'),\n",
    "('backward', f'{to_prepend}backward'),\n",
    "('lowPMI', f'{to_prepend}lowpmi'),\n",
    "('random', f'{to_prepend}random-wl'),\n",
    "('nouns', f'{to_prepend}nouns'),\n",
    "('randomnouns', f'{to_prepend}random-nouns'),\n",
    "('nounsverbs', f'{to_prepend}nounsverbs'),\n",
    "('nounsverbsadj', f'{to_prepend}nounsverbsadj'),\n",
    "('contentwords', f'{to_prepend}contentwords'),\n",
    "('functionwords', f'{to_prepend}functionwords'),\n",
    "('concatenated_control', f'{to_prepend}concatenated-control')\n",
    "]"
   ]
  },
  {
   "cell_type": "code",
   "execution_count": 754,
   "id": "b9e97349",
   "metadata": {},
   "outputs": [
    {
     "data": {
      "text/html": [
       "<div>\n",
       "<style scoped>\n",
       "    .dataframe tbody tr th:only-of-type {\n",
       "        vertical-align: middle;\n",
       "    }\n",
       "\n",
       "    .dataframe tbody tr th {\n",
       "        vertical-align: top;\n",
       "    }\n",
       "\n",
       "    .dataframe thead th {\n",
       "        text-align: right;\n",
       "    }\n",
       "</style>\n",
       "<table border=\"1\" class=\"dataframe\">\n",
       "  <thead>\n",
       "    <tr style=\"text-align: right;\">\n",
       "      <th></th>\n",
       "      <th>condition</th>\n",
       "      <th>category</th>\n",
       "      <th>surprisal</th>\n",
       "      <th>delta_surprisal</th>\n",
       "    </tr>\n",
       "  </thead>\n",
       "  <tbody>\n",
       "    <tr>\n",
       "      <th>0</th>\n",
       "      <td>teston:original</td>\n",
       "      <td>original</td>\n",
       "      <td>4.355824</td>\n",
       "      <td>0.000000</td>\n",
       "    </tr>\n",
       "    <tr>\n",
       "      <th>1</th>\n",
       "      <td>teston:scr1</td>\n",
       "      <td>scrambled</td>\n",
       "      <td>5.287545</td>\n",
       "      <td>-0.931720</td>\n",
       "    </tr>\n",
       "    <tr>\n",
       "      <th>2</th>\n",
       "      <td>teston:scr3</td>\n",
       "      <td>scrambled</td>\n",
       "      <td>5.970837</td>\n",
       "      <td>-1.615013</td>\n",
       "    </tr>\n",
       "    <tr>\n",
       "      <th>3</th>\n",
       "      <td>teston:scr5</td>\n",
       "      <td>scrambled</td>\n",
       "      <td>6.324255</td>\n",
       "      <td>-1.968431</td>\n",
       "    </tr>\n",
       "    <tr>\n",
       "      <th>4</th>\n",
       "      <td>teston:scr7</td>\n",
       "      <td>scrambled</td>\n",
       "      <td>7.095926</td>\n",
       "      <td>-2.740101</td>\n",
       "    </tr>\n",
       "    <tr>\n",
       "      <th>5</th>\n",
       "      <td>teston:backward</td>\n",
       "      <td>scrambled</td>\n",
       "      <td>7.501000</td>\n",
       "      <td>-3.145176</td>\n",
       "    </tr>\n",
       "    <tr>\n",
       "      <th>6</th>\n",
       "      <td>teston:lowpmi</td>\n",
       "      <td>scrambled</td>\n",
       "      <td>7.492144</td>\n",
       "      <td>-3.136320</td>\n",
       "    </tr>\n",
       "    <tr>\n",
       "      <th>7</th>\n",
       "      <td>teston:random-wl</td>\n",
       "      <td>scrambled</td>\n",
       "      <td>8.264668</td>\n",
       "      <td>-3.908843</td>\n",
       "    </tr>\n",
       "    <tr>\n",
       "      <th>8</th>\n",
       "      <td>teston:nouns</td>\n",
       "      <td>perturbed</td>\n",
       "      <td>7.902859</td>\n",
       "      <td>-3.547035</td>\n",
       "    </tr>\n",
       "    <tr>\n",
       "      <th>9</th>\n",
       "      <td>teston:random-nouns</td>\n",
       "      <td>perturbed</td>\n",
       "      <td>8.964838</td>\n",
       "      <td>-4.609013</td>\n",
       "    </tr>\n",
       "    <tr>\n",
       "      <th>10</th>\n",
       "      <td>teston:nounsverbs</td>\n",
       "      <td>perturbed</td>\n",
       "      <td>7.467610</td>\n",
       "      <td>-3.111786</td>\n",
       "    </tr>\n",
       "    <tr>\n",
       "      <th>11</th>\n",
       "      <td>teston:nounsverbsadj</td>\n",
       "      <td>perturbed</td>\n",
       "      <td>7.129523</td>\n",
       "      <td>-2.773698</td>\n",
       "    </tr>\n",
       "    <tr>\n",
       "      <th>12</th>\n",
       "      <td>teston:contentwords</td>\n",
       "      <td>perturbed</td>\n",
       "      <td>7.031080</td>\n",
       "      <td>-2.675255</td>\n",
       "    </tr>\n",
       "    <tr>\n",
       "      <th>13</th>\n",
       "      <td>teston:functionwords</td>\n",
       "      <td>perturbed</td>\n",
       "      <td>6.871752</td>\n",
       "      <td>-2.515928</td>\n",
       "    </tr>\n",
       "    <tr>\n",
       "      <th>14</th>\n",
       "      <td>teston:concatenated-control</td>\n",
       "      <td>control</td>\n",
       "      <td>1.126961</td>\n",
       "      <td>3.228864</td>\n",
       "    </tr>\n",
       "  </tbody>\n",
       "</table>\n",
       "</div>"
      ],
      "text/plain": [
       "                      condition   category  surprisal  delta_surprisal\n",
       "0               teston:original   original   4.355824         0.000000\n",
       "1                   teston:scr1  scrambled   5.287545        -0.931720\n",
       "2                   teston:scr3  scrambled   5.970837        -1.615013\n",
       "3                   teston:scr5  scrambled   6.324255        -1.968431\n",
       "4                   teston:scr7  scrambled   7.095926        -2.740101\n",
       "5               teston:backward  scrambled   7.501000        -3.145176\n",
       "6                 teston:lowpmi  scrambled   7.492144        -3.136320\n",
       "7              teston:random-wl  scrambled   8.264668        -3.908843\n",
       "8                  teston:nouns  perturbed   7.902859        -3.547035\n",
       "9           teston:random-nouns  perturbed   8.964838        -4.609013\n",
       "10            teston:nounsverbs  perturbed   7.467610        -3.111786\n",
       "11         teston:nounsverbsadj  perturbed   7.129523        -2.773698\n",
       "12          teston:contentwords  perturbed   7.031080        -2.675255\n",
       "13         teston:functionwords  perturbed   6.871752        -2.515928\n",
       "14  teston:concatenated-control    control   1.126961         3.228864"
      ]
     },
     "execution_count": 754,
     "metadata": {},
     "output_type": "execute_result"
    }
   ],
   "source": [
    "conditions, categories, avg_surprisal = [], [], []\n",
    "for (cond, category) in CONDMAP:\n",
    "    scr_perturb = COND2SET[cond]\n",
    "    if average_surprisals == \"NrTokens\":\n",
    "        filename = f\"{model_identifier}.{scr_perturb}+{cond}.sentence_surp.average.txt\"\n",
    "    elif average_surprisals == \"NrWords\":\n",
    "        filename = f\"{model_identifier}.{scr_perturb}+{cond}.sentence_surp.average_sentlength.txt\"\n",
    "    else:\n",
    "        break\n",
    "    try:\n",
    "        content = pd.read_csv(os.path.join(surprisal_path, filename), sep=\"\\t\")\n",
    "    except:\n",
    "        print(f\"not computed for cond {cond}!\")\n",
    "        continue\n",
    "    avg_surprisal.append(content[\"Surprisal\"].mean())\n",
    "    conditions.append(category)\n",
    "    categories.append(scr_perturb)\n",
    "\n",
    "surprisal_df = pd.DataFrame({\n",
    "    \"condition\" : conditions,\n",
    "    \"category\" : categories,\n",
    "    \"surprisal\" : avg_surprisal\n",
    "})\n",
    "\n",
    "delta_surprisal = [avg_surprisal[0] - avg_surprisal[i] for i in range(len(conditions))]\n",
    "\n",
    "surprisal_df[\"delta_surprisal\"] = delta_surprisal\n",
    "surprisal_df"
   ]
  },
  {
   "cell_type": "code",
   "execution_count": 755,
   "id": "c714ec82",
   "metadata": {},
   "outputs": [
    {
     "data": {
      "text/html": [
       "<div>\n",
       "<style scoped>\n",
       "    .dataframe tbody tr th:only-of-type {\n",
       "        vertical-align: middle;\n",
       "    }\n",
       "\n",
       "    .dataframe tbody tr th {\n",
       "        vertical-align: top;\n",
       "    }\n",
       "\n",
       "    .dataframe thead th {\n",
       "        text-align: right;\n",
       "    }\n",
       "</style>\n",
       "<table border=\"1\" class=\"dataframe\">\n",
       "  <thead>\n",
       "    <tr style=\"text-align: right;\">\n",
       "      <th></th>\n",
       "      <th>condition</th>\n",
       "      <th>surprisal</th>\n",
       "      <th>delta_surprisal</th>\n",
       "    </tr>\n",
       "  </thead>\n",
       "  <tbody>\n",
       "    <tr>\n",
       "      <th>0</th>\n",
       "      <td>original</td>\n",
       "      <td>4.355824</td>\n",
       "      <td>0.000000</td>\n",
       "    </tr>\n",
       "    <tr>\n",
       "      <th>1</th>\n",
       "      <td>scrambled1</td>\n",
       "      <td>5.287545</td>\n",
       "      <td>-0.931720</td>\n",
       "    </tr>\n",
       "    <tr>\n",
       "      <th>2</th>\n",
       "      <td>scrambled3</td>\n",
       "      <td>5.970837</td>\n",
       "      <td>-1.615013</td>\n",
       "    </tr>\n",
       "    <tr>\n",
       "      <th>3</th>\n",
       "      <td>scrambled5</td>\n",
       "      <td>6.324255</td>\n",
       "      <td>-1.968431</td>\n",
       "    </tr>\n",
       "    <tr>\n",
       "      <th>4</th>\n",
       "      <td>scrambled7</td>\n",
       "      <td>7.095926</td>\n",
       "      <td>-2.740101</td>\n",
       "    </tr>\n",
       "    <tr>\n",
       "      <th>5</th>\n",
       "      <td>backward</td>\n",
       "      <td>7.501000</td>\n",
       "      <td>-3.145176</td>\n",
       "    </tr>\n",
       "    <tr>\n",
       "      <th>6</th>\n",
       "      <td>lowpmi</td>\n",
       "      <td>7.492144</td>\n",
       "      <td>-3.136320</td>\n",
       "    </tr>\n",
       "    <tr>\n",
       "      <th>7</th>\n",
       "      <td>random-wl</td>\n",
       "      <td>8.264668</td>\n",
       "      <td>-3.908843</td>\n",
       "    </tr>\n",
       "    <tr>\n",
       "      <th>8</th>\n",
       "      <td>nouns</td>\n",
       "      <td>7.902859</td>\n",
       "      <td>-3.547035</td>\n",
       "    </tr>\n",
       "    <tr>\n",
       "      <th>9</th>\n",
       "      <td>random-nouns</td>\n",
       "      <td>8.964838</td>\n",
       "      <td>-4.609013</td>\n",
       "    </tr>\n",
       "    <tr>\n",
       "      <th>10</th>\n",
       "      <td>nounsverbs</td>\n",
       "      <td>7.467610</td>\n",
       "      <td>-3.111786</td>\n",
       "    </tr>\n",
       "    <tr>\n",
       "      <th>11</th>\n",
       "      <td>nounsverbsadj</td>\n",
       "      <td>7.129523</td>\n",
       "      <td>-2.773698</td>\n",
       "    </tr>\n",
       "    <tr>\n",
       "      <th>12</th>\n",
       "      <td>contentwords</td>\n",
       "      <td>7.031080</td>\n",
       "      <td>-2.675255</td>\n",
       "    </tr>\n",
       "    <tr>\n",
       "      <th>13</th>\n",
       "      <td>functionwords</td>\n",
       "      <td>6.871752</td>\n",
       "      <td>-2.515928</td>\n",
       "    </tr>\n",
       "    <tr>\n",
       "      <th>14</th>\n",
       "      <td>concatenated-control</td>\n",
       "      <td>1.126961</td>\n",
       "      <td>3.228864</td>\n",
       "    </tr>\n",
       "  </tbody>\n",
       "</table>\n",
       "</div>"
      ],
      "text/plain": [
       "               condition  surprisal  delta_surprisal\n",
       "0               original   4.355824         0.000000\n",
       "1             scrambled1   5.287545        -0.931720\n",
       "2             scrambled3   5.970837        -1.615013\n",
       "3             scrambled5   6.324255        -1.968431\n",
       "4             scrambled7   7.095926        -2.740101\n",
       "5               backward   7.501000        -3.145176\n",
       "6                 lowpmi   7.492144        -3.136320\n",
       "7              random-wl   8.264668        -3.908843\n",
       "8                  nouns   7.902859        -3.547035\n",
       "9           random-nouns   8.964838        -4.609013\n",
       "10            nounsverbs   7.467610        -3.111786\n",
       "11         nounsverbsadj   7.129523        -2.773698\n",
       "12          contentwords   7.031080        -2.675255\n",
       "13         functionwords   6.871752        -2.515928\n",
       "14  concatenated-control   1.126961         3.228864"
      ]
     },
     "execution_count": 755,
     "metadata": {},
     "output_type": "execute_result"
    }
   ],
   "source": [
    "#clean names\n",
    "surprisal_df['condition'] = surprisal_df['condition'].str.replace(\"teston:\",\"\")\n",
    "surprisal_df['condition'] = surprisal_df['condition'].replace(\n",
    "{\n",
    "'scr1': 'scrambled1',\n",
    "'scr3': 'scrambled3',\n",
    "'scr5': 'scrambled5',\n",
    "'scr7': 'scrambled7'}\n",
    ")\n",
    "\n",
    "surprisal_df = surprisal_df.drop(columns=['category'])\n",
    "surprisal_df"
   ]
  },
  {
   "cell_type": "markdown",
   "id": "42d6ce3b",
   "metadata": {},
   "source": [
    "# Set up plot df"
   ]
  },
  {
   "cell_type": "code",
   "execution_count": 756,
   "id": "f518d716",
   "metadata": {},
   "outputs": [
    {
     "data": {
      "text/html": [
       "<div>\n",
       "<style scoped>\n",
       "    .dataframe tbody tr th:only-of-type {\n",
       "        vertical-align: middle;\n",
       "    }\n",
       "\n",
       "    .dataframe tbody tr th {\n",
       "        vertical-align: top;\n",
       "    }\n",
       "\n",
       "    .dataframe thead th {\n",
       "        text-align: right;\n",
       "    }\n",
       "</style>\n",
       "<table border=\"1\" class=\"dataframe\">\n",
       "  <thead>\n",
       "    <tr style=\"text-align: right;\">\n",
       "      <th></th>\n",
       "      <th>condition</th>\n",
       "      <th>surprisal</th>\n",
       "      <th>delta_surprisal</th>\n",
       "      <th>score</th>\n",
       "      <th>error</th>\n",
       "      <th>category</th>\n",
       "      <th>delta_brainscore</th>\n",
       "    </tr>\n",
       "  </thead>\n",
       "  <tbody>\n",
       "    <tr>\n",
       "      <th>0</th>\n",
       "      <td>original</td>\n",
       "      <td>4.355824</td>\n",
       "      <td>0.000000</td>\n",
       "      <td>1.107199</td>\n",
       "      <td>0.141840</td>\n",
       "      <td>original</td>\n",
       "      <td>0.000000</td>\n",
       "    </tr>\n",
       "    <tr>\n",
       "      <th>1</th>\n",
       "      <td>scrambled1</td>\n",
       "      <td>5.287545</td>\n",
       "      <td>-0.931720</td>\n",
       "      <td>1.019374</td>\n",
       "      <td>0.120393</td>\n",
       "      <td>word-order</td>\n",
       "      <td>-0.087825</td>\n",
       "    </tr>\n",
       "    <tr>\n",
       "      <th>2</th>\n",
       "      <td>scrambled3</td>\n",
       "      <td>5.970837</td>\n",
       "      <td>-1.615013</td>\n",
       "      <td>0.924364</td>\n",
       "      <td>0.086006</td>\n",
       "      <td>word-order</td>\n",
       "      <td>-0.182834</td>\n",
       "    </tr>\n",
       "    <tr>\n",
       "      <th>3</th>\n",
       "      <td>scrambled5</td>\n",
       "      <td>6.324255</td>\n",
       "      <td>-1.968431</td>\n",
       "      <td>0.907545</td>\n",
       "      <td>0.071722</td>\n",
       "      <td>word-order</td>\n",
       "      <td>-0.199654</td>\n",
       "    </tr>\n",
       "    <tr>\n",
       "      <th>4</th>\n",
       "      <td>scrambled7</td>\n",
       "      <td>7.095926</td>\n",
       "      <td>-2.740101</td>\n",
       "      <td>0.914475</td>\n",
       "      <td>0.099400</td>\n",
       "      <td>word-order</td>\n",
       "      <td>-0.192724</td>\n",
       "    </tr>\n",
       "    <tr>\n",
       "      <th>5</th>\n",
       "      <td>backward</td>\n",
       "      <td>7.501000</td>\n",
       "      <td>-3.145176</td>\n",
       "      <td>0.835083</td>\n",
       "      <td>0.064965</td>\n",
       "      <td>word-order</td>\n",
       "      <td>-0.272116</td>\n",
       "    </tr>\n",
       "    <tr>\n",
       "      <th>6</th>\n",
       "      <td>lowpmi</td>\n",
       "      <td>7.492144</td>\n",
       "      <td>-3.136320</td>\n",
       "      <td>0.933212</td>\n",
       "      <td>0.070269</td>\n",
       "      <td>word-order</td>\n",
       "      <td>-0.173986</td>\n",
       "    </tr>\n",
       "    <tr>\n",
       "      <th>7</th>\n",
       "      <td>random-wl</td>\n",
       "      <td>8.264668</td>\n",
       "      <td>-3.908843</td>\n",
       "      <td>0.108709</td>\n",
       "      <td>0.070373</td>\n",
       "      <td>control</td>\n",
       "      <td>-0.998490</td>\n",
       "    </tr>\n",
       "    <tr>\n",
       "      <th>8</th>\n",
       "      <td>nouns</td>\n",
       "      <td>7.902859</td>\n",
       "      <td>-3.547035</td>\n",
       "      <td>0.644818</td>\n",
       "      <td>0.078112</td>\n",
       "      <td>information-loss</td>\n",
       "      <td>-0.462381</td>\n",
       "    </tr>\n",
       "    <tr>\n",
       "      <th>9</th>\n",
       "      <td>nounsverbs</td>\n",
       "      <td>7.467610</td>\n",
       "      <td>-3.111786</td>\n",
       "      <td>0.808808</td>\n",
       "      <td>0.098496</td>\n",
       "      <td>information-loss</td>\n",
       "      <td>-0.298390</td>\n",
       "    </tr>\n",
       "    <tr>\n",
       "      <th>10</th>\n",
       "      <td>nounsverbsadj</td>\n",
       "      <td>7.129523</td>\n",
       "      <td>-2.773698</td>\n",
       "      <td>0.856148</td>\n",
       "      <td>0.055101</td>\n",
       "      <td>information-loss</td>\n",
       "      <td>-0.251051</td>\n",
       "    </tr>\n",
       "    <tr>\n",
       "      <th>11</th>\n",
       "      <td>contentwords</td>\n",
       "      <td>7.031080</td>\n",
       "      <td>-2.675255</td>\n",
       "      <td>0.883215</td>\n",
       "      <td>0.111191</td>\n",
       "      <td>information-loss</td>\n",
       "      <td>-0.223984</td>\n",
       "    </tr>\n",
       "    <tr>\n",
       "      <th>12</th>\n",
       "      <td>functionwords</td>\n",
       "      <td>6.871752</td>\n",
       "      <td>-2.515928</td>\n",
       "      <td>0.185882</td>\n",
       "      <td>0.040856</td>\n",
       "      <td>information-loss</td>\n",
       "      <td>-0.921317</td>\n",
       "    </tr>\n",
       "  </tbody>\n",
       "</table>\n",
       "</div>"
      ],
      "text/plain": [
       "        condition  surprisal  delta_surprisal     score     error  \\\n",
       "0        original   4.355824         0.000000  1.107199  0.141840   \n",
       "1      scrambled1   5.287545        -0.931720  1.019374  0.120393   \n",
       "2      scrambled3   5.970837        -1.615013  0.924364  0.086006   \n",
       "3      scrambled5   6.324255        -1.968431  0.907545  0.071722   \n",
       "4      scrambled7   7.095926        -2.740101  0.914475  0.099400   \n",
       "5        backward   7.501000        -3.145176  0.835083  0.064965   \n",
       "6          lowpmi   7.492144        -3.136320  0.933212  0.070269   \n",
       "7       random-wl   8.264668        -3.908843  0.108709  0.070373   \n",
       "8           nouns   7.902859        -3.547035  0.644818  0.078112   \n",
       "9      nounsverbs   7.467610        -3.111786  0.808808  0.098496   \n",
       "10  nounsverbsadj   7.129523        -2.773698  0.856148  0.055101   \n",
       "11   contentwords   7.031080        -2.675255  0.883215  0.111191   \n",
       "12  functionwords   6.871752        -2.515928  0.185882  0.040856   \n",
       "\n",
       "            category  delta_brainscore  \n",
       "0           original          0.000000  \n",
       "1         word-order         -0.087825  \n",
       "2         word-order         -0.182834  \n",
       "3         word-order         -0.199654  \n",
       "4         word-order         -0.192724  \n",
       "5         word-order         -0.272116  \n",
       "6         word-order         -0.173986  \n",
       "7            control         -0.998490  \n",
       "8   information-loss         -0.462381  \n",
       "9   information-loss         -0.298390  \n",
       "10  information-loss         -0.251051  \n",
       "11  information-loss         -0.223984  \n",
       "12  information-loss         -0.921317  "
      ]
     },
     "execution_count": 756,
     "metadata": {},
     "output_type": "execute_result"
    }
   ],
   "source": [
    "plot_df = surprisal_df.merge(scores_df, how='inner', on='condition')\n",
    "plot_df"
   ]
  },
  {
   "cell_type": "code",
   "execution_count": 757,
   "id": "9afa5ccb",
   "metadata": {},
   "outputs": [
    {
     "data": {
      "text/html": [
       "<div>\n",
       "<style scoped>\n",
       "    .dataframe tbody tr th:only-of-type {\n",
       "        vertical-align: middle;\n",
       "    }\n",
       "\n",
       "    .dataframe tbody tr th {\n",
       "        vertical-align: top;\n",
       "    }\n",
       "\n",
       "    .dataframe thead th {\n",
       "        text-align: right;\n",
       "    }\n",
       "</style>\n",
       "<table border=\"1\" class=\"dataframe\">\n",
       "  <thead>\n",
       "    <tr style=\"text-align: right;\">\n",
       "      <th></th>\n",
       "      <th>condition</th>\n",
       "      <th>surprisal</th>\n",
       "      <th>delta_surprisal</th>\n",
       "      <th>score</th>\n",
       "      <th>error</th>\n",
       "      <th>category</th>\n",
       "      <th>delta_brainscore</th>\n",
       "    </tr>\n",
       "  </thead>\n",
       "  <tbody>\n",
       "    <tr>\n",
       "      <th>0</th>\n",
       "      <td>Original</td>\n",
       "      <td>4.355824</td>\n",
       "      <td>0.000000</td>\n",
       "      <td>1.107199</td>\n",
       "      <td>0.141840</td>\n",
       "      <td>original</td>\n",
       "      <td>0.000000</td>\n",
       "    </tr>\n",
       "    <tr>\n",
       "      <th>1</th>\n",
       "      <td>1LocalWordSwap</td>\n",
       "      <td>5.287545</td>\n",
       "      <td>-0.931720</td>\n",
       "      <td>1.019374</td>\n",
       "      <td>0.120393</td>\n",
       "      <td>word-order</td>\n",
       "      <td>-0.087825</td>\n",
       "    </tr>\n",
       "    <tr>\n",
       "      <th>2</th>\n",
       "      <td>3LocalWordSwaps</td>\n",
       "      <td>5.970837</td>\n",
       "      <td>-1.615013</td>\n",
       "      <td>0.924364</td>\n",
       "      <td>0.086006</td>\n",
       "      <td>word-order</td>\n",
       "      <td>-0.182834</td>\n",
       "    </tr>\n",
       "    <tr>\n",
       "      <th>3</th>\n",
       "      <td>5LocalWordSwaps</td>\n",
       "      <td>6.324255</td>\n",
       "      <td>-1.968431</td>\n",
       "      <td>0.907545</td>\n",
       "      <td>0.071722</td>\n",
       "      <td>word-order</td>\n",
       "      <td>-0.199654</td>\n",
       "    </tr>\n",
       "    <tr>\n",
       "      <th>4</th>\n",
       "      <td>7LocalWordSwaps</td>\n",
       "      <td>7.095926</td>\n",
       "      <td>-2.740101</td>\n",
       "      <td>0.914475</td>\n",
       "      <td>0.099400</td>\n",
       "      <td>word-order</td>\n",
       "      <td>-0.192724</td>\n",
       "    </tr>\n",
       "    <tr>\n",
       "      <th>5</th>\n",
       "      <td>ReverseOrder</td>\n",
       "      <td>7.501000</td>\n",
       "      <td>-3.145176</td>\n",
       "      <td>0.835083</td>\n",
       "      <td>0.064965</td>\n",
       "      <td>word-order</td>\n",
       "      <td>-0.272116</td>\n",
       "    </tr>\n",
       "    <tr>\n",
       "      <th>6</th>\n",
       "      <td>LowPMI</td>\n",
       "      <td>7.492144</td>\n",
       "      <td>-3.136320</td>\n",
       "      <td>0.933212</td>\n",
       "      <td>0.070269</td>\n",
       "      <td>word-order</td>\n",
       "      <td>-0.173986</td>\n",
       "    </tr>\n",
       "    <tr>\n",
       "      <th>7</th>\n",
       "      <td>RandWordList</td>\n",
       "      <td>8.264668</td>\n",
       "      <td>-3.908843</td>\n",
       "      <td>0.108709</td>\n",
       "      <td>0.070373</td>\n",
       "      <td>control</td>\n",
       "      <td>-0.998490</td>\n",
       "    </tr>\n",
       "    <tr>\n",
       "      <th>8</th>\n",
       "      <td>Nouns</td>\n",
       "      <td>7.902859</td>\n",
       "      <td>-3.547035</td>\n",
       "      <td>0.644818</td>\n",
       "      <td>0.078112</td>\n",
       "      <td>information-loss</td>\n",
       "      <td>-0.462381</td>\n",
       "    </tr>\n",
       "    <tr>\n",
       "      <th>9</th>\n",
       "      <td>NounsVerbs</td>\n",
       "      <td>7.467610</td>\n",
       "      <td>-3.111786</td>\n",
       "      <td>0.808808</td>\n",
       "      <td>0.098496</td>\n",
       "      <td>information-loss</td>\n",
       "      <td>-0.298390</td>\n",
       "    </tr>\n",
       "    <tr>\n",
       "      <th>10</th>\n",
       "      <td>NounsVerbsAdj</td>\n",
       "      <td>7.129523</td>\n",
       "      <td>-2.773698</td>\n",
       "      <td>0.856148</td>\n",
       "      <td>0.055101</td>\n",
       "      <td>information-loss</td>\n",
       "      <td>-0.251051</td>\n",
       "    </tr>\n",
       "    <tr>\n",
       "      <th>11</th>\n",
       "      <td>NounsVerbsAdjAdv</td>\n",
       "      <td>7.031080</td>\n",
       "      <td>-2.675255</td>\n",
       "      <td>0.883215</td>\n",
       "      <td>0.111191</td>\n",
       "      <td>information-loss</td>\n",
       "      <td>-0.223984</td>\n",
       "    </tr>\n",
       "    <tr>\n",
       "      <th>12</th>\n",
       "      <td>FunctionWords</td>\n",
       "      <td>6.871752</td>\n",
       "      <td>-2.515928</td>\n",
       "      <td>0.185882</td>\n",
       "      <td>0.040856</td>\n",
       "      <td>information-loss</td>\n",
       "      <td>-0.921317</td>\n",
       "    </tr>\n",
       "  </tbody>\n",
       "</table>\n",
       "</div>"
      ],
      "text/plain": [
       "           condition  surprisal  delta_surprisal     score     error  \\\n",
       "0           Original   4.355824         0.000000  1.107199  0.141840   \n",
       "1     1LocalWordSwap   5.287545        -0.931720  1.019374  0.120393   \n",
       "2    3LocalWordSwaps   5.970837        -1.615013  0.924364  0.086006   \n",
       "3    5LocalWordSwaps   6.324255        -1.968431  0.907545  0.071722   \n",
       "4    7LocalWordSwaps   7.095926        -2.740101  0.914475  0.099400   \n",
       "5       ReverseOrder   7.501000        -3.145176  0.835083  0.064965   \n",
       "6             LowPMI   7.492144        -3.136320  0.933212  0.070269   \n",
       "7       RandWordList   8.264668        -3.908843  0.108709  0.070373   \n",
       "8              Nouns   7.902859        -3.547035  0.644818  0.078112   \n",
       "9         NounsVerbs   7.467610        -3.111786  0.808808  0.098496   \n",
       "10     NounsVerbsAdj   7.129523        -2.773698  0.856148  0.055101   \n",
       "11  NounsVerbsAdjAdv   7.031080        -2.675255  0.883215  0.111191   \n",
       "12     FunctionWords   6.871752        -2.515928  0.185882  0.040856   \n",
       "\n",
       "            category  delta_brainscore  \n",
       "0           original          0.000000  \n",
       "1         word-order         -0.087825  \n",
       "2         word-order         -0.182834  \n",
       "3         word-order         -0.199654  \n",
       "4         word-order         -0.192724  \n",
       "5         word-order         -0.272116  \n",
       "6         word-order         -0.173986  \n",
       "7            control         -0.998490  \n",
       "8   information-loss         -0.462381  \n",
       "9   information-loss         -0.298390  \n",
       "10  information-loss         -0.251051  \n",
       "11  information-loss         -0.223984  \n",
       "12  information-loss         -0.921317  "
      ]
     },
     "execution_count": 757,
     "metadata": {},
     "output_type": "execute_result"
    }
   ],
   "source": [
    "# rename conditions according to new names:\n",
    "# if testonperturbed:\n",
    "#     plot_df['condition'] = [re.sub(\"teston:\",\"\",elm) for elm in list(plot_df['condition'])]\n",
    "#     plot_df['condition'] = [re.sub(\"scr\",\"scrambled\",elm) for elm in list(plot_df['condition'])]                      \n",
    "plot_df['condition'] = plot_df['condition'].map(plot_utils.COND2LABEL)\n",
    "plot_df"
   ]
  },
  {
   "cell_type": "code",
   "execution_count": null,
   "id": "dba1d284",
   "metadata": {},
   "outputs": [],
   "source": []
  },
  {
   "cell_type": "code",
   "execution_count": 758,
   "id": "1ef382c4",
   "metadata": {},
   "outputs": [],
   "source": [
    "if exclude_randomwl:\n",
    "    plot_df = plot_df[plot_df.condition != \"RandWordList\"]\n",
    "    \n",
    "if exclude_concatenated_control:\n",
    "    plot_df = plot_df[plot_df.condition != \"ConcatenatedControl\"]"
   ]
  },
  {
   "cell_type": "code",
   "execution_count": 759,
   "id": "bba7f443",
   "metadata": {},
   "outputs": [
    {
     "data": {
      "text/plain": [
       "'Correlation: 0.5767630072347961'"
      ]
     },
     "execution_count": 759,
     "metadata": {},
     "output_type": "execute_result"
    }
   ],
   "source": [
    "f\"Correlation: {plot_df['delta_surprisal'].corr(plot_df['delta_brainscore'])}\""
   ]
  },
  {
   "cell_type": "code",
   "execution_count": 760,
   "id": "1781179b",
   "metadata": {
    "scrolled": false
   },
   "outputs": [
    {
     "data": {
      "application/vnd.plotly.v1+json": {
       "config": {
        "plotlyServerURL": "https://plot.ly"
       },
       "data": [
        {
         "hovertemplate": "category=original<br>Difference in average token surprisal to original sentences=%{x}<br>Difference in normalized brain predictivity <br>to original benchmark=%{y}<br>condition=%{text}<extra></extra>",
         "legendgroup": "original",
         "marker": {
          "color": "dimgray",
          "size": 15,
          "symbol": "square"
         },
         "mode": "markers+text",
         "name": "original",
         "orientation": "v",
         "showlegend": true,
         "text": [
          "Original"
         ],
         "textfont": {
          "size": 12
         },
         "textposition": [
          "middle right",
          "middle left",
          "middle right",
          "middle left",
          "middle right",
          "middle left",
          "middle right",
          "middle left",
          "middle right",
          "middle left",
          "middle right",
          "middle left",
          "middle right"
         ],
         "type": "scatter",
         "x": [
          0
         ],
         "xaxis": "x",
         "y": [
          0
         ],
         "yaxis": "y"
        },
        {
         "hovertemplate": "category=information-loss<br>Difference in average token surprisal to original sentences=%{x}<br>Difference in normalized brain predictivity <br>to original benchmark=%{y}<br>condition=%{text}<extra></extra>",
         "legendgroup": "information-loss",
         "marker": {
          "color": "darkgreen",
          "size": 15,
          "symbol": "square"
         },
         "mode": "markers+text",
         "name": "information-loss",
         "orientation": "v",
         "showlegend": true,
         "text": [
          "Nouns",
          "NounsVerbs",
          "NounsVerbsAdj",
          "NounsVerbsAdjAdv",
          "FunctionWords"
         ],
         "textfont": {
          "size": 12
         },
         "textposition": [
          "middle right",
          "middle left",
          "middle right",
          "middle left",
          "middle right",
          "middle left",
          "middle right",
          "middle left",
          "middle right",
          "middle left",
          "middle right",
          "middle left",
          "middle right"
         ],
         "type": "scatter",
         "x": [
          -3.547034930954709,
          -3.1117860426743063,
          -2.7736980534816658,
          -2.6752552214231597,
          -2.5159276748578128
         ],
         "xaxis": "x",
         "y": [
          -0.4623805316806241,
          -0.2983904947856266,
          -0.25105056078106625,
          -0.2239840591992942,
          -0.9213171126533349
         ],
         "yaxis": "y"
        },
        {
         "hovertemplate": "category=word-order<br>Difference in average token surprisal to original sentences=%{x}<br>Difference in normalized brain predictivity <br>to original benchmark=%{y}<br>condition=%{text}<extra></extra>",
         "legendgroup": "word-order",
         "marker": {
          "color": "navy",
          "size": 15,
          "symbol": "square"
         },
         "mode": "markers+text",
         "name": "word-order",
         "orientation": "v",
         "showlegend": true,
         "text": [
          "1LocalWordSwap",
          "3LocalWordSwaps",
          "5LocalWordSwaps",
          "7LocalWordSwaps",
          "ReverseOrder",
          "LowPMI"
         ],
         "textfont": {
          "size": 12
         },
         "textposition": [
          "middle right",
          "middle left",
          "middle right",
          "middle left",
          "middle right",
          "middle left",
          "middle right",
          "middle left",
          "middle right",
          "middle left",
          "middle right",
          "middle left",
          "middle right"
         ],
         "type": "scatter",
         "x": [
          -0.9317200913954009,
          -1.6150125141539258,
          -1.9684309909978737,
          -2.740101360628289,
          -3.145175792764058,
          -3.1363199532887576
         ],
         "xaxis": "x",
         "y": [
          -0.08782455034618075,
          -0.18283422074345357,
          -0.19965398198353912,
          -0.19272360637420383,
          -0.27211557225266436,
          -0.17398618916621666
         ],
         "yaxis": "y"
        },
        {
         "hovertemplate": "category=control<br>Difference in average token surprisal to original sentences=%{x}<br>Difference in normalized brain predictivity <br>to original benchmark=%{y}<br>condition=%{text}<extra></extra>",
         "legendgroup": "control",
         "marker": {
          "color": "lightgray",
          "size": 15,
          "symbol": "square"
         },
         "mode": "markers+text",
         "name": "control",
         "orientation": "v",
         "showlegend": true,
         "text": [
          "RandWordList"
         ],
         "textfont": {
          "size": 12
         },
         "textposition": [
          "middle right",
          "middle left",
          "middle right",
          "middle left",
          "middle right",
          "middle left",
          "middle right",
          "middle left",
          "middle right",
          "middle left",
          "middle right",
          "middle left",
          "middle right"
         ],
         "type": "scatter",
         "x": [
          -3.908843418817961
         ],
         "xaxis": "x",
         "y": [
          -0.9984900789750201
         ],
         "yaxis": "y"
        },
        {
         "hovertemplate": "<b>OLS trendline</b><br>delta_brainscore = 0.159439 * delta_surprisal + 0.0652573<br>R<sup>2</sup>=0.332656<br><br>Difference in average token surprisal to original sentences=%{x}<br>Difference in normalized brain predictivity <br>to original benchmark=%{y} <b>(trend)</b><extra></extra>",
         "legendgroup": "Overall Trendline",
         "line": {
          "color": "#E377C2"
         },
         "marker": {
          "size": 15,
          "symbol": "square"
         },
         "mode": "lines",
         "name": "Overall Trendline",
         "showlegend": true,
         "textfont": {
          "size": 12
         },
         "textposition": [
          "middle right",
          "middle left",
          "middle right",
          "middle left",
          "middle right",
          "middle left",
          "middle right",
          "middle left",
          "middle right",
          "middle left",
          "middle right",
          "middle left",
          "middle right"
         ],
         "type": "scatter",
         "x": [
          -3.908843418817961,
          -3.547034930954709,
          -3.145175792764058,
          -3.1363199532887576,
          -3.1117860426743063,
          -2.7736980534816658,
          -2.740101360628289,
          -2.6752552214231597,
          -2.5159276748578128,
          -1.9684309909978737,
          -1.6150125141539258,
          -0.9317200913954009,
          0
         ],
         "xaxis": "x",
         "y": [
          -0.5579645282712221,
          -0.5002781664096727,
          -0.4362061713054617,
          -0.43479420564490734,
          -0.4308825449374918,
          -0.3769781542450833,
          -0.37162153314219826,
          -0.3612825334310435,
          -0.3358795182614401,
          -0.2485872272218782,
          -0.19223855982554233,
          -0.08329514009183818,
          0.0652573238465569
         ],
         "yaxis": "y"
        }
       ],
       "layout": {
        "annotations": [
         {
          "font": {
           "size": 16
          },
          "showarrow": false,
          "text": "R=0.58, p=0.039",
          "x": -3.408843418817961,
          "y": 0.05,
          "yshift": 10
         }
        ],
        "height": 500,
        "legend": {
         "title": {
          "text": "Manipulation type"
         },
         "tracegroupgap": 0
        },
        "margin": {
         "b": 0,
         "l": 0,
         "r": 0,
         "t": 0
        },
        "template": {
         "data": {
          "bar": [
           {
            "error_x": {
             "color": "rgb(36,36,36)"
            },
            "error_y": {
             "color": "rgb(36,36,36)"
            },
            "marker": {
             "line": {
              "color": "white",
              "width": 0.5
             },
             "pattern": {
              "fillmode": "overlay",
              "size": 10,
              "solidity": 0.2
             }
            },
            "type": "bar"
           }
          ],
          "barpolar": [
           {
            "marker": {
             "line": {
              "color": "white",
              "width": 0.5
             },
             "pattern": {
              "fillmode": "overlay",
              "size": 10,
              "solidity": 0.2
             }
            },
            "type": "barpolar"
           }
          ],
          "carpet": [
           {
            "aaxis": {
             "endlinecolor": "rgb(36,36,36)",
             "gridcolor": "white",
             "linecolor": "white",
             "minorgridcolor": "white",
             "startlinecolor": "rgb(36,36,36)"
            },
            "baxis": {
             "endlinecolor": "rgb(36,36,36)",
             "gridcolor": "white",
             "linecolor": "white",
             "minorgridcolor": "white",
             "startlinecolor": "rgb(36,36,36)"
            },
            "type": "carpet"
           }
          ],
          "choropleth": [
           {
            "colorbar": {
             "outlinewidth": 1,
             "tickcolor": "rgb(36,36,36)",
             "ticks": "outside"
            },
            "type": "choropleth"
           }
          ],
          "contour": [
           {
            "colorbar": {
             "outlinewidth": 1,
             "tickcolor": "rgb(36,36,36)",
             "ticks": "outside"
            },
            "colorscale": [
             [
              0,
              "#440154"
             ],
             [
              0.1111111111111111,
              "#482878"
             ],
             [
              0.2222222222222222,
              "#3e4989"
             ],
             [
              0.3333333333333333,
              "#31688e"
             ],
             [
              0.4444444444444444,
              "#26828e"
             ],
             [
              0.5555555555555556,
              "#1f9e89"
             ],
             [
              0.6666666666666666,
              "#35b779"
             ],
             [
              0.7777777777777778,
              "#6ece58"
             ],
             [
              0.8888888888888888,
              "#b5de2b"
             ],
             [
              1,
              "#fde725"
             ]
            ],
            "type": "contour"
           }
          ],
          "contourcarpet": [
           {
            "colorbar": {
             "outlinewidth": 1,
             "tickcolor": "rgb(36,36,36)",
             "ticks": "outside"
            },
            "type": "contourcarpet"
           }
          ],
          "heatmap": [
           {
            "colorbar": {
             "outlinewidth": 1,
             "tickcolor": "rgb(36,36,36)",
             "ticks": "outside"
            },
            "colorscale": [
             [
              0,
              "#440154"
             ],
             [
              0.1111111111111111,
              "#482878"
             ],
             [
              0.2222222222222222,
              "#3e4989"
             ],
             [
              0.3333333333333333,
              "#31688e"
             ],
             [
              0.4444444444444444,
              "#26828e"
             ],
             [
              0.5555555555555556,
              "#1f9e89"
             ],
             [
              0.6666666666666666,
              "#35b779"
             ],
             [
              0.7777777777777778,
              "#6ece58"
             ],
             [
              0.8888888888888888,
              "#b5de2b"
             ],
             [
              1,
              "#fde725"
             ]
            ],
            "type": "heatmap"
           }
          ],
          "heatmapgl": [
           {
            "colorbar": {
             "outlinewidth": 1,
             "tickcolor": "rgb(36,36,36)",
             "ticks": "outside"
            },
            "colorscale": [
             [
              0,
              "#440154"
             ],
             [
              0.1111111111111111,
              "#482878"
             ],
             [
              0.2222222222222222,
              "#3e4989"
             ],
             [
              0.3333333333333333,
              "#31688e"
             ],
             [
              0.4444444444444444,
              "#26828e"
             ],
             [
              0.5555555555555556,
              "#1f9e89"
             ],
             [
              0.6666666666666666,
              "#35b779"
             ],
             [
              0.7777777777777778,
              "#6ece58"
             ],
             [
              0.8888888888888888,
              "#b5de2b"
             ],
             [
              1,
              "#fde725"
             ]
            ],
            "type": "heatmapgl"
           }
          ],
          "histogram": [
           {
            "marker": {
             "line": {
              "color": "white",
              "width": 0.6
             }
            },
            "type": "histogram"
           }
          ],
          "histogram2d": [
           {
            "colorbar": {
             "outlinewidth": 1,
             "tickcolor": "rgb(36,36,36)",
             "ticks": "outside"
            },
            "colorscale": [
             [
              0,
              "#440154"
             ],
             [
              0.1111111111111111,
              "#482878"
             ],
             [
              0.2222222222222222,
              "#3e4989"
             ],
             [
              0.3333333333333333,
              "#31688e"
             ],
             [
              0.4444444444444444,
              "#26828e"
             ],
             [
              0.5555555555555556,
              "#1f9e89"
             ],
             [
              0.6666666666666666,
              "#35b779"
             ],
             [
              0.7777777777777778,
              "#6ece58"
             ],
             [
              0.8888888888888888,
              "#b5de2b"
             ],
             [
              1,
              "#fde725"
             ]
            ],
            "type": "histogram2d"
           }
          ],
          "histogram2dcontour": [
           {
            "colorbar": {
             "outlinewidth": 1,
             "tickcolor": "rgb(36,36,36)",
             "ticks": "outside"
            },
            "colorscale": [
             [
              0,
              "#440154"
             ],
             [
              0.1111111111111111,
              "#482878"
             ],
             [
              0.2222222222222222,
              "#3e4989"
             ],
             [
              0.3333333333333333,
              "#31688e"
             ],
             [
              0.4444444444444444,
              "#26828e"
             ],
             [
              0.5555555555555556,
              "#1f9e89"
             ],
             [
              0.6666666666666666,
              "#35b779"
             ],
             [
              0.7777777777777778,
              "#6ece58"
             ],
             [
              0.8888888888888888,
              "#b5de2b"
             ],
             [
              1,
              "#fde725"
             ]
            ],
            "type": "histogram2dcontour"
           }
          ],
          "mesh3d": [
           {
            "colorbar": {
             "outlinewidth": 1,
             "tickcolor": "rgb(36,36,36)",
             "ticks": "outside"
            },
            "type": "mesh3d"
           }
          ],
          "parcoords": [
           {
            "line": {
             "colorbar": {
              "outlinewidth": 1,
              "tickcolor": "rgb(36,36,36)",
              "ticks": "outside"
             }
            },
            "type": "parcoords"
           }
          ],
          "pie": [
           {
            "automargin": true,
            "type": "pie"
           }
          ],
          "scatter": [
           {
            "fillpattern": {
             "fillmode": "overlay",
             "size": 10,
             "solidity": 0.2
            },
            "type": "scatter"
           }
          ],
          "scatter3d": [
           {
            "line": {
             "colorbar": {
              "outlinewidth": 1,
              "tickcolor": "rgb(36,36,36)",
              "ticks": "outside"
             }
            },
            "marker": {
             "colorbar": {
              "outlinewidth": 1,
              "tickcolor": "rgb(36,36,36)",
              "ticks": "outside"
             }
            },
            "type": "scatter3d"
           }
          ],
          "scattercarpet": [
           {
            "marker": {
             "colorbar": {
              "outlinewidth": 1,
              "tickcolor": "rgb(36,36,36)",
              "ticks": "outside"
             }
            },
            "type": "scattercarpet"
           }
          ],
          "scattergeo": [
           {
            "marker": {
             "colorbar": {
              "outlinewidth": 1,
              "tickcolor": "rgb(36,36,36)",
              "ticks": "outside"
             }
            },
            "type": "scattergeo"
           }
          ],
          "scattergl": [
           {
            "marker": {
             "colorbar": {
              "outlinewidth": 1,
              "tickcolor": "rgb(36,36,36)",
              "ticks": "outside"
             }
            },
            "type": "scattergl"
           }
          ],
          "scattermapbox": [
           {
            "marker": {
             "colorbar": {
              "outlinewidth": 1,
              "tickcolor": "rgb(36,36,36)",
              "ticks": "outside"
             }
            },
            "type": "scattermapbox"
           }
          ],
          "scatterpolar": [
           {
            "marker": {
             "colorbar": {
              "outlinewidth": 1,
              "tickcolor": "rgb(36,36,36)",
              "ticks": "outside"
             }
            },
            "type": "scatterpolar"
           }
          ],
          "scatterpolargl": [
           {
            "marker": {
             "colorbar": {
              "outlinewidth": 1,
              "tickcolor": "rgb(36,36,36)",
              "ticks": "outside"
             }
            },
            "type": "scatterpolargl"
           }
          ],
          "scatterternary": [
           {
            "marker": {
             "colorbar": {
              "outlinewidth": 1,
              "tickcolor": "rgb(36,36,36)",
              "ticks": "outside"
             }
            },
            "type": "scatterternary"
           }
          ],
          "surface": [
           {
            "colorbar": {
             "outlinewidth": 1,
             "tickcolor": "rgb(36,36,36)",
             "ticks": "outside"
            },
            "colorscale": [
             [
              0,
              "#440154"
             ],
             [
              0.1111111111111111,
              "#482878"
             ],
             [
              0.2222222222222222,
              "#3e4989"
             ],
             [
              0.3333333333333333,
              "#31688e"
             ],
             [
              0.4444444444444444,
              "#26828e"
             ],
             [
              0.5555555555555556,
              "#1f9e89"
             ],
             [
              0.6666666666666666,
              "#35b779"
             ],
             [
              0.7777777777777778,
              "#6ece58"
             ],
             [
              0.8888888888888888,
              "#b5de2b"
             ],
             [
              1,
              "#fde725"
             ]
            ],
            "type": "surface"
           }
          ],
          "table": [
           {
            "cells": {
             "fill": {
              "color": "rgb(237,237,237)"
             },
             "line": {
              "color": "white"
             }
            },
            "header": {
             "fill": {
              "color": "rgb(217,217,217)"
             },
             "line": {
              "color": "white"
             }
            },
            "type": "table"
           }
          ]
         },
         "layout": {
          "annotationdefaults": {
           "arrowhead": 0,
           "arrowwidth": 1
          },
          "autotypenumbers": "strict",
          "coloraxis": {
           "colorbar": {
            "outlinewidth": 1,
            "tickcolor": "rgb(36,36,36)",
            "ticks": "outside"
           }
          },
          "colorscale": {
           "diverging": [
            [
             0,
             "rgb(103,0,31)"
            ],
            [
             0.1,
             "rgb(178,24,43)"
            ],
            [
             0.2,
             "rgb(214,96,77)"
            ],
            [
             0.3,
             "rgb(244,165,130)"
            ],
            [
             0.4,
             "rgb(253,219,199)"
            ],
            [
             0.5,
             "rgb(247,247,247)"
            ],
            [
             0.6,
             "rgb(209,229,240)"
            ],
            [
             0.7,
             "rgb(146,197,222)"
            ],
            [
             0.8,
             "rgb(67,147,195)"
            ],
            [
             0.9,
             "rgb(33,102,172)"
            ],
            [
             1,
             "rgb(5,48,97)"
            ]
           ],
           "sequential": [
            [
             0,
             "#440154"
            ],
            [
             0.1111111111111111,
             "#482878"
            ],
            [
             0.2222222222222222,
             "#3e4989"
            ],
            [
             0.3333333333333333,
             "#31688e"
            ],
            [
             0.4444444444444444,
             "#26828e"
            ],
            [
             0.5555555555555556,
             "#1f9e89"
            ],
            [
             0.6666666666666666,
             "#35b779"
            ],
            [
             0.7777777777777778,
             "#6ece58"
            ],
            [
             0.8888888888888888,
             "#b5de2b"
            ],
            [
             1,
             "#fde725"
            ]
           ],
           "sequentialminus": [
            [
             0,
             "#440154"
            ],
            [
             0.1111111111111111,
             "#482878"
            ],
            [
             0.2222222222222222,
             "#3e4989"
            ],
            [
             0.3333333333333333,
             "#31688e"
            ],
            [
             0.4444444444444444,
             "#26828e"
            ],
            [
             0.5555555555555556,
             "#1f9e89"
            ],
            [
             0.6666666666666666,
             "#35b779"
            ],
            [
             0.7777777777777778,
             "#6ece58"
            ],
            [
             0.8888888888888888,
             "#b5de2b"
            ],
            [
             1,
             "#fde725"
            ]
           ]
          },
          "colorway": [
           "#1F77B4",
           "#FF7F0E",
           "#2CA02C",
           "#D62728",
           "#9467BD",
           "#8C564B",
           "#E377C2",
           "#7F7F7F",
           "#BCBD22",
           "#17BECF"
          ],
          "font": {
           "color": "rgb(36,36,36)"
          },
          "geo": {
           "bgcolor": "white",
           "lakecolor": "white",
           "landcolor": "white",
           "showlakes": true,
           "showland": true,
           "subunitcolor": "white"
          },
          "hoverlabel": {
           "align": "left"
          },
          "hovermode": "closest",
          "mapbox": {
           "style": "light"
          },
          "paper_bgcolor": "white",
          "plot_bgcolor": "white",
          "polar": {
           "angularaxis": {
            "gridcolor": "rgb(232,232,232)",
            "linecolor": "rgb(36,36,36)",
            "showgrid": false,
            "showline": true,
            "ticks": "outside"
           },
           "bgcolor": "white",
           "radialaxis": {
            "gridcolor": "rgb(232,232,232)",
            "linecolor": "rgb(36,36,36)",
            "showgrid": false,
            "showline": true,
            "ticks": "outside"
           }
          },
          "scene": {
           "xaxis": {
            "backgroundcolor": "white",
            "gridcolor": "rgb(232,232,232)",
            "gridwidth": 2,
            "linecolor": "rgb(36,36,36)",
            "showbackground": true,
            "showgrid": false,
            "showline": true,
            "ticks": "outside",
            "zeroline": false,
            "zerolinecolor": "rgb(36,36,36)"
           },
           "yaxis": {
            "backgroundcolor": "white",
            "gridcolor": "rgb(232,232,232)",
            "gridwidth": 2,
            "linecolor": "rgb(36,36,36)",
            "showbackground": true,
            "showgrid": false,
            "showline": true,
            "ticks": "outside",
            "zeroline": false,
            "zerolinecolor": "rgb(36,36,36)"
           },
           "zaxis": {
            "backgroundcolor": "white",
            "gridcolor": "rgb(232,232,232)",
            "gridwidth": 2,
            "linecolor": "rgb(36,36,36)",
            "showbackground": true,
            "showgrid": false,
            "showline": true,
            "ticks": "outside",
            "zeroline": false,
            "zerolinecolor": "rgb(36,36,36)"
           }
          },
          "shapedefaults": {
           "fillcolor": "black",
           "line": {
            "width": 0
           },
           "opacity": 0.3
          },
          "ternary": {
           "aaxis": {
            "gridcolor": "rgb(232,232,232)",
            "linecolor": "rgb(36,36,36)",
            "showgrid": false,
            "showline": true,
            "ticks": "outside"
           },
           "baxis": {
            "gridcolor": "rgb(232,232,232)",
            "linecolor": "rgb(36,36,36)",
            "showgrid": false,
            "showline": true,
            "ticks": "outside"
           },
           "bgcolor": "white",
           "caxis": {
            "gridcolor": "rgb(232,232,232)",
            "linecolor": "rgb(36,36,36)",
            "showgrid": false,
            "showline": true,
            "ticks": "outside"
           }
          },
          "title": {
           "x": 0.05
          },
          "xaxis": {
           "automargin": true,
           "gridcolor": "rgb(232,232,232)",
           "linecolor": "rgb(36,36,36)",
           "showgrid": false,
           "showline": true,
           "ticks": "outside",
           "title": {
            "standoff": 15
           },
           "zeroline": false,
           "zerolinecolor": "rgb(36,36,36)"
          },
          "yaxis": {
           "automargin": true,
           "gridcolor": "rgb(232,232,232)",
           "linecolor": "rgb(36,36,36)",
           "showgrid": false,
           "showline": true,
           "ticks": "outside",
           "title": {
            "standoff": 15
           },
           "zeroline": false,
           "zerolinecolor": "rgb(36,36,36)"
          }
         }
        },
        "width": 780,
        "xaxis": {
         "anchor": "y",
         "domain": [
          0,
          1
         ],
         "range": [
          -4.108843418817961,
          0.6
         ],
         "tickfont": {
          "size": 16
         },
         "ticklen": 10,
         "tickwidth": 3,
         "title": {
          "font": {
           "size": 18
          },
          "text": "Difference in average token surprisal to original sentences"
         }
        },
        "yaxis": {
         "anchor": "x",
         "domain": [
          0,
          1
         ],
         "tickfont": {
          "size": 16
         },
         "ticklen": 10,
         "tickwidth": 3,
         "title": {
          "font": {
           "size": 18
          },
          "text": "Difference in normalized brain predictivity <br>to original benchmark"
         }
        }
       }
      },
      "text/html": [
       "<div>                            <div id=\"6dc8e54e-93e7-4366-a146-f5663f01e920\" class=\"plotly-graph-div\" style=\"height:500px; width:780px;\"></div>            <script type=\"text/javascript\">                require([\"plotly\"], function(Plotly) {                    window.PLOTLYENV=window.PLOTLYENV || {};                                    if (document.getElementById(\"6dc8e54e-93e7-4366-a146-f5663f01e920\")) {                    Plotly.newPlot(                        \"6dc8e54e-93e7-4366-a146-f5663f01e920\",                        [{\"hovertemplate\":\"category=original<br>Difference in average token surprisal to original sentences=%{x}<br>Difference in normalized brain predictivity <br>to original benchmark=%{y}<br>condition=%{text}<extra></extra>\",\"legendgroup\":\"original\",\"marker\":{\"color\":\"dimgray\",\"symbol\":\"square\",\"size\":15},\"mode\":\"markers+text\",\"name\":\"original\",\"orientation\":\"v\",\"showlegend\":true,\"text\":[\"Original\"],\"x\":[0.0],\"xaxis\":\"x\",\"y\":[0.0],\"yaxis\":\"y\",\"type\":\"scatter\",\"textfont\":{\"size\":12},\"textposition\":[\"middle right\",\"middle left\",\"middle right\",\"middle left\",\"middle right\",\"middle left\",\"middle right\",\"middle left\",\"middle right\",\"middle left\",\"middle right\",\"middle left\",\"middle right\"]},{\"hovertemplate\":\"category=information-loss<br>Difference in average token surprisal to original sentences=%{x}<br>Difference in normalized brain predictivity <br>to original benchmark=%{y}<br>condition=%{text}<extra></extra>\",\"legendgroup\":\"information-loss\",\"marker\":{\"color\":\"darkgreen\",\"symbol\":\"square\",\"size\":15},\"mode\":\"markers+text\",\"name\":\"information-loss\",\"orientation\":\"v\",\"showlegend\":true,\"text\":[\"Nouns\",\"NounsVerbs\",\"NounsVerbsAdj\",\"NounsVerbsAdjAdv\",\"FunctionWords\"],\"x\":[-3.547034930954709,-3.1117860426743063,-2.7736980534816658,-2.6752552214231597,-2.5159276748578128],\"xaxis\":\"x\",\"y\":[-0.4623805316806241,-0.2983904947856266,-0.25105056078106625,-0.2239840591992942,-0.9213171126533349],\"yaxis\":\"y\",\"type\":\"scatter\",\"textfont\":{\"size\":12},\"textposition\":[\"middle right\",\"middle left\",\"middle right\",\"middle left\",\"middle right\",\"middle left\",\"middle right\",\"middle left\",\"middle right\",\"middle left\",\"middle right\",\"middle left\",\"middle right\"]},{\"hovertemplate\":\"category=word-order<br>Difference in average token surprisal to original sentences=%{x}<br>Difference in normalized brain predictivity <br>to original benchmark=%{y}<br>condition=%{text}<extra></extra>\",\"legendgroup\":\"word-order\",\"marker\":{\"color\":\"navy\",\"symbol\":\"square\",\"size\":15},\"mode\":\"markers+text\",\"name\":\"word-order\",\"orientation\":\"v\",\"showlegend\":true,\"text\":[\"1LocalWordSwap\",\"3LocalWordSwaps\",\"5LocalWordSwaps\",\"7LocalWordSwaps\",\"ReverseOrder\",\"LowPMI\"],\"x\":[-0.9317200913954009,-1.6150125141539258,-1.9684309909978737,-2.740101360628289,-3.145175792764058,-3.1363199532887576],\"xaxis\":\"x\",\"y\":[-0.08782455034618075,-0.18283422074345357,-0.19965398198353912,-0.19272360637420383,-0.27211557225266436,-0.17398618916621666],\"yaxis\":\"y\",\"type\":\"scatter\",\"textfont\":{\"size\":12},\"textposition\":[\"middle right\",\"middle left\",\"middle right\",\"middle left\",\"middle right\",\"middle left\",\"middle right\",\"middle left\",\"middle right\",\"middle left\",\"middle right\",\"middle left\",\"middle right\"]},{\"hovertemplate\":\"category=control<br>Difference in average token surprisal to original sentences=%{x}<br>Difference in normalized brain predictivity <br>to original benchmark=%{y}<br>condition=%{text}<extra></extra>\",\"legendgroup\":\"control\",\"marker\":{\"color\":\"lightgray\",\"symbol\":\"square\",\"size\":15},\"mode\":\"markers+text\",\"name\":\"control\",\"orientation\":\"v\",\"showlegend\":true,\"text\":[\"RandWordList\"],\"x\":[-3.908843418817961],\"xaxis\":\"x\",\"y\":[-0.9984900789750201],\"yaxis\":\"y\",\"type\":\"scatter\",\"textfont\":{\"size\":12},\"textposition\":[\"middle right\",\"middle left\",\"middle right\",\"middle left\",\"middle right\",\"middle left\",\"middle right\",\"middle left\",\"middle right\",\"middle left\",\"middle right\",\"middle left\",\"middle right\"]},{\"hovertemplate\":\"<b>OLS trendline</b><br>delta_brainscore = 0.159439 * delta_surprisal + 0.0652573<br>R<sup>2</sup>=0.332656<br><br>Difference in average token surprisal to original sentences=%{x}<br>Difference in normalized brain predictivity <br>to original benchmark=%{y} <b>(trend)</b><extra></extra>\",\"legendgroup\":\"Overall Trendline\",\"line\":{\"color\":\"#E377C2\"},\"mode\":\"lines\",\"name\":\"Overall Trendline\",\"showlegend\":true,\"x\":[-3.908843418817961,-3.547034930954709,-3.145175792764058,-3.1363199532887576,-3.1117860426743063,-2.7736980534816658,-2.740101360628289,-2.6752552214231597,-2.5159276748578128,-1.9684309909978737,-1.6150125141539258,-0.9317200913954009,0.0],\"y\":[-0.5579645282712221,-0.5002781664096727,-0.4362061713054617,-0.43479420564490734,-0.4308825449374918,-0.3769781542450833,-0.37162153314219826,-0.3612825334310435,-0.3358795182614401,-0.2485872272218782,-0.19223855982554233,-0.08329514009183818,0.0652573238465569],\"type\":\"scatter\",\"xaxis\":\"x\",\"yaxis\":\"y\",\"marker\":{\"size\":15,\"symbol\":\"square\"},\"textfont\":{\"size\":12},\"textposition\":[\"middle right\",\"middle left\",\"middle right\",\"middle left\",\"middle right\",\"middle left\",\"middle right\",\"middle left\",\"middle right\",\"middle left\",\"middle right\",\"middle left\",\"middle right\"]}],                        {\"template\":{\"data\":{\"barpolar\":[{\"marker\":{\"line\":{\"color\":\"white\",\"width\":0.5},\"pattern\":{\"fillmode\":\"overlay\",\"size\":10,\"solidity\":0.2}},\"type\":\"barpolar\"}],\"bar\":[{\"error_x\":{\"color\":\"rgb(36,36,36)\"},\"error_y\":{\"color\":\"rgb(36,36,36)\"},\"marker\":{\"line\":{\"color\":\"white\",\"width\":0.5},\"pattern\":{\"fillmode\":\"overlay\",\"size\":10,\"solidity\":0.2}},\"type\":\"bar\"}],\"carpet\":[{\"aaxis\":{\"endlinecolor\":\"rgb(36,36,36)\",\"gridcolor\":\"white\",\"linecolor\":\"white\",\"minorgridcolor\":\"white\",\"startlinecolor\":\"rgb(36,36,36)\"},\"baxis\":{\"endlinecolor\":\"rgb(36,36,36)\",\"gridcolor\":\"white\",\"linecolor\":\"white\",\"minorgridcolor\":\"white\",\"startlinecolor\":\"rgb(36,36,36)\"},\"type\":\"carpet\"}],\"choropleth\":[{\"colorbar\":{\"outlinewidth\":1,\"tickcolor\":\"rgb(36,36,36)\",\"ticks\":\"outside\"},\"type\":\"choropleth\"}],\"contourcarpet\":[{\"colorbar\":{\"outlinewidth\":1,\"tickcolor\":\"rgb(36,36,36)\",\"ticks\":\"outside\"},\"type\":\"contourcarpet\"}],\"contour\":[{\"colorbar\":{\"outlinewidth\":1,\"tickcolor\":\"rgb(36,36,36)\",\"ticks\":\"outside\"},\"colorscale\":[[0.0,\"#440154\"],[0.1111111111111111,\"#482878\"],[0.2222222222222222,\"#3e4989\"],[0.3333333333333333,\"#31688e\"],[0.4444444444444444,\"#26828e\"],[0.5555555555555556,\"#1f9e89\"],[0.6666666666666666,\"#35b779\"],[0.7777777777777778,\"#6ece58\"],[0.8888888888888888,\"#b5de2b\"],[1.0,\"#fde725\"]],\"type\":\"contour\"}],\"heatmapgl\":[{\"colorbar\":{\"outlinewidth\":1,\"tickcolor\":\"rgb(36,36,36)\",\"ticks\":\"outside\"},\"colorscale\":[[0.0,\"#440154\"],[0.1111111111111111,\"#482878\"],[0.2222222222222222,\"#3e4989\"],[0.3333333333333333,\"#31688e\"],[0.4444444444444444,\"#26828e\"],[0.5555555555555556,\"#1f9e89\"],[0.6666666666666666,\"#35b779\"],[0.7777777777777778,\"#6ece58\"],[0.8888888888888888,\"#b5de2b\"],[1.0,\"#fde725\"]],\"type\":\"heatmapgl\"}],\"heatmap\":[{\"colorbar\":{\"outlinewidth\":1,\"tickcolor\":\"rgb(36,36,36)\",\"ticks\":\"outside\"},\"colorscale\":[[0.0,\"#440154\"],[0.1111111111111111,\"#482878\"],[0.2222222222222222,\"#3e4989\"],[0.3333333333333333,\"#31688e\"],[0.4444444444444444,\"#26828e\"],[0.5555555555555556,\"#1f9e89\"],[0.6666666666666666,\"#35b779\"],[0.7777777777777778,\"#6ece58\"],[0.8888888888888888,\"#b5de2b\"],[1.0,\"#fde725\"]],\"type\":\"heatmap\"}],\"histogram2dcontour\":[{\"colorbar\":{\"outlinewidth\":1,\"tickcolor\":\"rgb(36,36,36)\",\"ticks\":\"outside\"},\"colorscale\":[[0.0,\"#440154\"],[0.1111111111111111,\"#482878\"],[0.2222222222222222,\"#3e4989\"],[0.3333333333333333,\"#31688e\"],[0.4444444444444444,\"#26828e\"],[0.5555555555555556,\"#1f9e89\"],[0.6666666666666666,\"#35b779\"],[0.7777777777777778,\"#6ece58\"],[0.8888888888888888,\"#b5de2b\"],[1.0,\"#fde725\"]],\"type\":\"histogram2dcontour\"}],\"histogram2d\":[{\"colorbar\":{\"outlinewidth\":1,\"tickcolor\":\"rgb(36,36,36)\",\"ticks\":\"outside\"},\"colorscale\":[[0.0,\"#440154\"],[0.1111111111111111,\"#482878\"],[0.2222222222222222,\"#3e4989\"],[0.3333333333333333,\"#31688e\"],[0.4444444444444444,\"#26828e\"],[0.5555555555555556,\"#1f9e89\"],[0.6666666666666666,\"#35b779\"],[0.7777777777777778,\"#6ece58\"],[0.8888888888888888,\"#b5de2b\"],[1.0,\"#fde725\"]],\"type\":\"histogram2d\"}],\"histogram\":[{\"marker\":{\"line\":{\"color\":\"white\",\"width\":0.6}},\"type\":\"histogram\"}],\"mesh3d\":[{\"colorbar\":{\"outlinewidth\":1,\"tickcolor\":\"rgb(36,36,36)\",\"ticks\":\"outside\"},\"type\":\"mesh3d\"}],\"parcoords\":[{\"line\":{\"colorbar\":{\"outlinewidth\":1,\"tickcolor\":\"rgb(36,36,36)\",\"ticks\":\"outside\"}},\"type\":\"parcoords\"}],\"pie\":[{\"automargin\":true,\"type\":\"pie\"}],\"scatter3d\":[{\"line\":{\"colorbar\":{\"outlinewidth\":1,\"tickcolor\":\"rgb(36,36,36)\",\"ticks\":\"outside\"}},\"marker\":{\"colorbar\":{\"outlinewidth\":1,\"tickcolor\":\"rgb(36,36,36)\",\"ticks\":\"outside\"}},\"type\":\"scatter3d\"}],\"scattercarpet\":[{\"marker\":{\"colorbar\":{\"outlinewidth\":1,\"tickcolor\":\"rgb(36,36,36)\",\"ticks\":\"outside\"}},\"type\":\"scattercarpet\"}],\"scattergeo\":[{\"marker\":{\"colorbar\":{\"outlinewidth\":1,\"tickcolor\":\"rgb(36,36,36)\",\"ticks\":\"outside\"}},\"type\":\"scattergeo\"}],\"scattergl\":[{\"marker\":{\"colorbar\":{\"outlinewidth\":1,\"tickcolor\":\"rgb(36,36,36)\",\"ticks\":\"outside\"}},\"type\":\"scattergl\"}],\"scattermapbox\":[{\"marker\":{\"colorbar\":{\"outlinewidth\":1,\"tickcolor\":\"rgb(36,36,36)\",\"ticks\":\"outside\"}},\"type\":\"scattermapbox\"}],\"scatterpolargl\":[{\"marker\":{\"colorbar\":{\"outlinewidth\":1,\"tickcolor\":\"rgb(36,36,36)\",\"ticks\":\"outside\"}},\"type\":\"scatterpolargl\"}],\"scatterpolar\":[{\"marker\":{\"colorbar\":{\"outlinewidth\":1,\"tickcolor\":\"rgb(36,36,36)\",\"ticks\":\"outside\"}},\"type\":\"scatterpolar\"}],\"scatter\":[{\"fillpattern\":{\"fillmode\":\"overlay\",\"size\":10,\"solidity\":0.2},\"type\":\"scatter\"}],\"scatterternary\":[{\"marker\":{\"colorbar\":{\"outlinewidth\":1,\"tickcolor\":\"rgb(36,36,36)\",\"ticks\":\"outside\"}},\"type\":\"scatterternary\"}],\"surface\":[{\"colorbar\":{\"outlinewidth\":1,\"tickcolor\":\"rgb(36,36,36)\",\"ticks\":\"outside\"},\"colorscale\":[[0.0,\"#440154\"],[0.1111111111111111,\"#482878\"],[0.2222222222222222,\"#3e4989\"],[0.3333333333333333,\"#31688e\"],[0.4444444444444444,\"#26828e\"],[0.5555555555555556,\"#1f9e89\"],[0.6666666666666666,\"#35b779\"],[0.7777777777777778,\"#6ece58\"],[0.8888888888888888,\"#b5de2b\"],[1.0,\"#fde725\"]],\"type\":\"surface\"}],\"table\":[{\"cells\":{\"fill\":{\"color\":\"rgb(237,237,237)\"},\"line\":{\"color\":\"white\"}},\"header\":{\"fill\":{\"color\":\"rgb(217,217,217)\"},\"line\":{\"color\":\"white\"}},\"type\":\"table\"}]},\"layout\":{\"annotationdefaults\":{\"arrowhead\":0,\"arrowwidth\":1},\"autotypenumbers\":\"strict\",\"coloraxis\":{\"colorbar\":{\"outlinewidth\":1,\"tickcolor\":\"rgb(36,36,36)\",\"ticks\":\"outside\"}},\"colorscale\":{\"diverging\":[[0.0,\"rgb(103,0,31)\"],[0.1,\"rgb(178,24,43)\"],[0.2,\"rgb(214,96,77)\"],[0.3,\"rgb(244,165,130)\"],[0.4,\"rgb(253,219,199)\"],[0.5,\"rgb(247,247,247)\"],[0.6,\"rgb(209,229,240)\"],[0.7,\"rgb(146,197,222)\"],[0.8,\"rgb(67,147,195)\"],[0.9,\"rgb(33,102,172)\"],[1.0,\"rgb(5,48,97)\"]],\"sequential\":[[0.0,\"#440154\"],[0.1111111111111111,\"#482878\"],[0.2222222222222222,\"#3e4989\"],[0.3333333333333333,\"#31688e\"],[0.4444444444444444,\"#26828e\"],[0.5555555555555556,\"#1f9e89\"],[0.6666666666666666,\"#35b779\"],[0.7777777777777778,\"#6ece58\"],[0.8888888888888888,\"#b5de2b\"],[1.0,\"#fde725\"]],\"sequentialminus\":[[0.0,\"#440154\"],[0.1111111111111111,\"#482878\"],[0.2222222222222222,\"#3e4989\"],[0.3333333333333333,\"#31688e\"],[0.4444444444444444,\"#26828e\"],[0.5555555555555556,\"#1f9e89\"],[0.6666666666666666,\"#35b779\"],[0.7777777777777778,\"#6ece58\"],[0.8888888888888888,\"#b5de2b\"],[1.0,\"#fde725\"]]},\"colorway\":[\"#1F77B4\",\"#FF7F0E\",\"#2CA02C\",\"#D62728\",\"#9467BD\",\"#8C564B\",\"#E377C2\",\"#7F7F7F\",\"#BCBD22\",\"#17BECF\"],\"font\":{\"color\":\"rgb(36,36,36)\"},\"geo\":{\"bgcolor\":\"white\",\"lakecolor\":\"white\",\"landcolor\":\"white\",\"showlakes\":true,\"showland\":true,\"subunitcolor\":\"white\"},\"hoverlabel\":{\"align\":\"left\"},\"hovermode\":\"closest\",\"mapbox\":{\"style\":\"light\"},\"paper_bgcolor\":\"white\",\"plot_bgcolor\":\"white\",\"polar\":{\"angularaxis\":{\"gridcolor\":\"rgb(232,232,232)\",\"linecolor\":\"rgb(36,36,36)\",\"showgrid\":false,\"showline\":true,\"ticks\":\"outside\"},\"bgcolor\":\"white\",\"radialaxis\":{\"gridcolor\":\"rgb(232,232,232)\",\"linecolor\":\"rgb(36,36,36)\",\"showgrid\":false,\"showline\":true,\"ticks\":\"outside\"}},\"scene\":{\"xaxis\":{\"backgroundcolor\":\"white\",\"gridcolor\":\"rgb(232,232,232)\",\"gridwidth\":2,\"linecolor\":\"rgb(36,36,36)\",\"showbackground\":true,\"showgrid\":false,\"showline\":true,\"ticks\":\"outside\",\"zeroline\":false,\"zerolinecolor\":\"rgb(36,36,36)\"},\"yaxis\":{\"backgroundcolor\":\"white\",\"gridcolor\":\"rgb(232,232,232)\",\"gridwidth\":2,\"linecolor\":\"rgb(36,36,36)\",\"showbackground\":true,\"showgrid\":false,\"showline\":true,\"ticks\":\"outside\",\"zeroline\":false,\"zerolinecolor\":\"rgb(36,36,36)\"},\"zaxis\":{\"backgroundcolor\":\"white\",\"gridcolor\":\"rgb(232,232,232)\",\"gridwidth\":2,\"linecolor\":\"rgb(36,36,36)\",\"showbackground\":true,\"showgrid\":false,\"showline\":true,\"ticks\":\"outside\",\"zeroline\":false,\"zerolinecolor\":\"rgb(36,36,36)\"}},\"shapedefaults\":{\"fillcolor\":\"black\",\"line\":{\"width\":0},\"opacity\":0.3},\"ternary\":{\"aaxis\":{\"gridcolor\":\"rgb(232,232,232)\",\"linecolor\":\"rgb(36,36,36)\",\"showgrid\":false,\"showline\":true,\"ticks\":\"outside\"},\"baxis\":{\"gridcolor\":\"rgb(232,232,232)\",\"linecolor\":\"rgb(36,36,36)\",\"showgrid\":false,\"showline\":true,\"ticks\":\"outside\"},\"bgcolor\":\"white\",\"caxis\":{\"gridcolor\":\"rgb(232,232,232)\",\"linecolor\":\"rgb(36,36,36)\",\"showgrid\":false,\"showline\":true,\"ticks\":\"outside\"}},\"title\":{\"x\":0.05},\"xaxis\":{\"automargin\":true,\"gridcolor\":\"rgb(232,232,232)\",\"linecolor\":\"rgb(36,36,36)\",\"showgrid\":false,\"showline\":true,\"ticks\":\"outside\",\"title\":{\"standoff\":15},\"zeroline\":false,\"zerolinecolor\":\"rgb(36,36,36)\"},\"yaxis\":{\"automargin\":true,\"gridcolor\":\"rgb(232,232,232)\",\"linecolor\":\"rgb(36,36,36)\",\"showgrid\":false,\"showline\":true,\"ticks\":\"outside\",\"title\":{\"standoff\":15},\"zeroline\":false,\"zerolinecolor\":\"rgb(36,36,36)\"}}},\"xaxis\":{\"anchor\":\"y\",\"domain\":[0.0,1.0],\"title\":{\"text\":\"Difference in average token surprisal to original sentences\",\"font\":{\"size\":18}},\"range\":[-4.108843418817961,0.6],\"tickfont\":{\"size\":16},\"ticklen\":10,\"tickwidth\":3},\"yaxis\":{\"anchor\":\"x\",\"domain\":[0.0,1.0],\"title\":{\"text\":\"Difference in normalized brain predictivity <br>to original benchmark\",\"font\":{\"size\":18}},\"tickfont\":{\"size\":16},\"ticklen\":10,\"tickwidth\":3},\"legend\":{\"title\":{\"text\":\"Manipulation type\"},\"tracegroupgap\":0},\"margin\":{\"t\":0,\"l\":0,\"r\":0,\"b\":0},\"height\":500,\"width\":780,\"annotations\":[{\"font\":{\"size\":16},\"showarrow\":false,\"text\":\"R=0.58, p=0.039\",\"x\":-3.408843418817961,\"y\":0.05,\"yshift\":10}]},                        {\"responsive\": true}                    ).then(function(){\n",
       "                            \n",
       "var gd = document.getElementById('6dc8e54e-93e7-4366-a146-f5663f01e920');\n",
       "var x = new MutationObserver(function (mutations, observer) {{\n",
       "        var display = window.getComputedStyle(gd).display;\n",
       "        if (!display || display === 'none') {{\n",
       "            console.log([gd, 'removed!']);\n",
       "            Plotly.purge(gd);\n",
       "            observer.disconnect();\n",
       "        }}\n",
       "}});\n",
       "\n",
       "// Listen for the removal of the full notebook cells\n",
       "var notebookContainer = gd.closest('#notebook-container');\n",
       "if (notebookContainer) {{\n",
       "    x.observe(notebookContainer, {childList: true});\n",
       "}}\n",
       "\n",
       "// Listen for the clearing of the current output cell\n",
       "var outputEl = gd.closest('.output');\n",
       "if (outputEl) {{\n",
       "    x.observe(outputEl, {childList: true});\n",
       "}}\n",
       "\n",
       "                        })                };                });            </script>        </div>"
      ]
     },
     "metadata": {},
     "output_type": "display_data"
    }
   ],
   "source": [
    "import plotly.express as px\n",
    "import scipy as sp\n",
    "\n",
    "#define colors\n",
    "color_discrete_map= {'original': 'dimgray',\n",
    "                     \"word-order\": \"navy\",\n",
    "                     \"information-loss\": 'darkgreen',\n",
    "                     \"control\": \"lightgray\"}\n",
    "\n",
    "fig = px.scatter(plot_df, x=\"delta_surprisal\", y=\"delta_brainscore\",\n",
    "                 trendline=\"ols\", trendline_scope=\"overall\",\n",
    "                 template='simple_white',\n",
    "                category_orders={\"category\": ['original','controls','information-loss', 'sentence-meaning','word-order']},\n",
    "                labels={\n",
    "                     \"delta_surprisal\": \"Difference in average token surprisal to original sentences\",\n",
    "                     \"delta_brainscore\": \"Difference in normalized brain predictivity <br>to original benchmark\"},\n",
    "                color=\"category\",\n",
    "                text='condition',\n",
    "                color_discrete_map=color_discrete_map,\n",
    "                width=780, height=500)\n",
    "\n",
    "fig.update_layout(legend_title_text='Manipulation type')\n",
    "\n",
    "r, p = sp.stats.pearsonr(plot_df['delta_surprisal'], plot_df['delta_brainscore'])\n",
    "fig.update_layout(xaxis_range=[plot_df['delta_surprisal'].min()-0.2,plot_df['delta_surprisal'].max()+0.6])\n",
    "\n",
    "annotation_x = plot_df['delta_surprisal'].min() + 0.5\n",
    "annotation_y = plot_df['delta_brainscore'].max() + 0.05\n",
    "\n",
    "fig.add_annotation(x=annotation_x, y=annotation_y,\n",
    "            text='R={:.2f}, p={:.2g}'.format(r, p),\n",
    "            showarrow=False,\n",
    "            yshift=10, font=dict(size=16))\n",
    "fig.update_traces(marker_size=15)\n",
    "fig.update_traces(marker_symbol=\"square\")\n",
    "fig.update_layout(margin = {'l':0,'r':0,'t':0,'b':0})\n",
    "\n",
    "def improve_text_position(x):\n",
    "    \"\"\" it is more efficient if the x values are sorted \"\"\"\n",
    "    positions = ['middle right', 'middle left']\n",
    "    return [positions[i % len(positions)] for i in range(len(x))]\n",
    "\n",
    "fig.update_traces(textposition=improve_text_position(plot_df['condition']), textfont=dict(size=12))\n",
    "# fig.update_layout(height=500, font=dict(size=12))\n",
    "fig.update_xaxes(tickfont_size=16, ticklen=10, tickwidth=3,titlefont=dict(size=18))\n",
    "fig.update_yaxes(tickfont_size=16, ticklen=10, tickwidth=3,titlefont=dict(size=18))\n",
    "\n",
    "\n",
    "if save:\n",
    "    fig.write_image(f\"results_paper/surprisal2brainscore/surprisal2bs_{approach}.png\", scale=1)\n",
    "    fig.write_image(f\"results_paper/surprisal2brainscore/surprisal2bs_{approach}.svg\")\n",
    "\n",
    "fig.show()"
   ]
  },
  {
   "cell_type": "code",
   "execution_count": 761,
   "id": "2aa5db0a",
   "metadata": {},
   "outputs": [
    {
     "ename": "SyntaxError",
     "evalue": "'break' outside loop (668683560.py, line 1)",
     "output_type": "error",
     "traceback": [
      "\u001b[0;36m  Input \u001b[0;32mIn [761]\u001b[0;36m\u001b[0m\n\u001b[0;31m    break\u001b[0m\n\u001b[0m    ^\u001b[0m\n\u001b[0;31mSyntaxError\u001b[0m\u001b[0;31m:\u001b[0m 'break' outside loop\n"
     ]
    }
   ],
   "source": [
    "break"
   ]
  },
  {
   "cell_type": "markdown",
   "id": "071c88cd",
   "metadata": {},
   "source": [
    "# Sentence length 2 brain score"
   ]
  },
  {
   "cell_type": "code",
   "execution_count": null,
   "id": "715d4dbb",
   "metadata": {},
   "outputs": [],
   "source": [
    "conditions, categories, avg_sentence_length = [], [], []\n",
    "for (cond, category) in CONDMAP:\n",
    "    scr_perturb = COND2SET[cond]\n",
    "    filename = f\"{model_identifier}.{scr_perturb}+{cond}.sentence_surp.average_sentlength.txt\"\n",
    "    content = pd.read_csv(os.path.join(surprisal_path, filename), sep=\"\\t\")\n",
    "    sentences = list(content[\"Sentence\"])\n",
    "    avg_lenth = np.mean([len(x.split()) for x in sentences])\n",
    "    avg_sentence_length.append(avg_lenth)\n",
    "    conditions.append(category)\n",
    "    categories.append(scr_perturb)\n",
    "\n",
    "length_df = pd.DataFrame({\n",
    "    \"condition\" : conditions,\n",
    "    \"category\" : categories,\n",
    "    \"avg_sentence_length\" : avg_sentence_length\n",
    "})\n",
    "\n",
    "delta_length = [avg_sentence_length[i] - avg_sentence_length[0] for i in range(len(conditions))]\n",
    "\n",
    "length_df[\"delta_length\"] = delta_length\n",
    "length_df"
   ]
  },
  {
   "cell_type": "code",
   "execution_count": null,
   "id": "3001090c",
   "metadata": {},
   "outputs": [],
   "source": [
    "#clean names\n",
    "length_df['condition'] = length_df['condition'].str.replace(\"teston:\",\"\")\n",
    "length_df['condition'] = length_df['condition'].replace(\n",
    "{\n",
    "'scr1': 'scrambled1',\n",
    "'scr3': 'scrambled3',\n",
    "'scr5': 'scrambled5',\n",
    "'scr7': 'scrambled7'}\n",
    ")\n",
    "\n",
    "length_df = length_df.drop(columns=['category'])\n",
    "length_df"
   ]
  },
  {
   "cell_type": "code",
   "execution_count": null,
   "id": "59e7a4f0",
   "metadata": {},
   "outputs": [],
   "source": [
    "plot_df = length_df.merge(scores_df, how='inner', on='condition')\n",
    "plot_df"
   ]
  },
  {
   "cell_type": "code",
   "execution_count": null,
   "id": "dce064c6",
   "metadata": {},
   "outputs": [],
   "source": [
    "import plotly.express as px\n",
    "import scipy as sp\n",
    "\n",
    "#define colors\n",
    "color_discrete_map= {'original': 'dimgray',\n",
    "                     \"word-order\": \"navy\",\n",
    "                     \"information-loss\": 'darkgreen',\n",
    "                     \"control\": \"lightgray\"}\n",
    "\n",
    "fig = px.scatter(plot_df, x=\"delta_length\", y=\"delta_brainscore\",\n",
    "#                 size=\"error\",\n",
    "                 trendline=\"ols\", template='simple_white',\n",
    "                category_orders={\"category\": ['original','controls','information-loss', 'sentence-meaning','word-order']},\n",
    "                labels={\n",
    "                     \"delta_length\": \"\\u0394 sentence length\",\n",
    "                     \"delta_brainscore\": \"\\u0394 normalized predictivity\"},\n",
    "                color=\"category\",\n",
    "                text='condition',\n",
    "                color_discrete_map=color_discrete_map,\n",
    "                width=780, height=500)\n",
    "                #symbol=\"category\")\n",
    "fig.update_layout(legend_title_text='Manipulation type')\n",
    "\n",
    "r, p = sp.stats.pearsonr(plot_df['delta_length'], plot_df['delta_brainscore'])\n",
    "\n",
    "fig.add_annotation(x=0, y=0.05,\n",
    "            text='<b> Overall Pearson r={:.2f}, p={:.2g}'.format(r, p),\n",
    "            showarrow=False,\n",
    "            yshift=10)\n",
    "fig.update_traces(marker_size=15)\n",
    "fig.update_traces(marker_symbol=\"square\")\n",
    "fig.update_layout(margin = {'l':0,'r':0,'t':0,'b':0})\n",
    "\n",
    "def improve_text_position(x):\n",
    "    \"\"\" it is more efficient if the x values are sorted \"\"\"\n",
    "    positions = ['middle right']#, 'middle left']\n",
    "    return [positions[i % len(positions)] for i in range(len(x))]\n",
    "\n",
    "fig.update_traces(textposition=improve_text_position(plot_df['condition']))\n",
    "\n",
    "\n",
    "# if save:\n",
    "#     fig.write_image(\"results_paper/figure2.png\", scale=1)\n",
    "#     fig.write_image(\"results_paper/figure2.svg\")\n",
    "\n",
    "fig.show()"
   ]
  },
  {
   "cell_type": "code",
   "execution_count": null,
   "id": "b687e055",
   "metadata": {},
   "outputs": [],
   "source": []
  },
  {
   "cell_type": "code",
   "execution_count": null,
   "id": "a14312dc",
   "metadata": {},
   "outputs": [],
   "source": []
  }
 ],
 "metadata": {
  "kernelspec": {
   "display_name": "Python 3",
   "language": "python",
   "name": "python3"
  },
  "language_info": {
   "codemirror_mode": {
    "name": "ipython",
    "version": 3
   },
   "file_extension": ".py",
   "mimetype": "text/x-python",
   "name": "python",
   "nbconvert_exporter": "python",
   "pygments_lexer": "ipython3",
   "version": "3.8.13"
  }
 },
 "nbformat": 4,
 "nbformat_minor": 5
}
