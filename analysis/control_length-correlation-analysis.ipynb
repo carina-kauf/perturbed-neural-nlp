{
 "cells": [
  {
   "cell_type": "markdown",
   "id": "5bea4744",
   "metadata": {},
   "source": [
    "# Notebook to investigate the correlation between the length of the original and the lengths of the perturbed datasets"
   ]
  },
  {
   "cell_type": "markdown",
   "id": "07b8b3eb",
   "metadata": {},
   "source": [
    "Results at a glance:\n",
    "* `Original vs. function words -- r-value: 0.7508324004278204 | p-value: 1.1099252616465896e-114`\n",
    "\n",
    "* `Original vs. nouns -- r-value: 0.5562589894292461 | p-value: 3.240352455751456e-52`\n",
    "\n",
    "* `Function words vs. nouns -- r-value: 0.31260540640127554 | p-value: 1.1130064445581949e-15`"
   ]
  },
  {
   "cell_type": "code",
   "execution_count": 1,
   "id": "b5eef6ac",
   "metadata": {},
   "outputs": [],
   "source": [
    "save = False #currently notebook is not set up to save any figures anyways."
   ]
  },
  {
   "cell_type": "code",
   "execution_count": 2,
   "id": "9a6d260a",
   "metadata": {},
   "outputs": [],
   "source": [
    "from os.path import abspath\n",
    "import os\n",
    "import pickle\n",
    "import pandas as pd\n",
    "import seaborn as sns\n",
    "import numpy as np\n",
    "from scipy.stats import linregress\n",
    "from scipy.stats import pearsonr"
   ]
  },
  {
   "cell_type": "code",
   "execution_count": 3,
   "id": "a6556636",
   "metadata": {},
   "outputs": [
    {
     "name": "stdout",
     "output_type": "stream",
     "text": [
      "/rdma/vast-rdma/vast/cpl/ckauf/perturbed-neural-nlp/analysis\n"
     ]
    }
   ],
   "source": [
    "print(os.getcwd())"
   ]
  },
  {
   "cell_type": "code",
   "execution_count": 4,
   "id": "c98ef7b2",
   "metadata": {},
   "outputs": [
    {
     "name": "stdout",
     "output_type": "stream",
     "text": [
      "/rdma/vast-rdma/vast/cpl/ckauf/perturbed-neural-nlp/ressources/scrambled_stimuli_dfs\n"
     ]
    }
   ],
   "source": [
    "savedir = abspath('../ressources/scrambled_stimuli_dfs')\n",
    "print(savedir)"
   ]
  },
  {
   "cell_type": "markdown",
   "id": "ecd903f1",
   "metadata": {},
   "source": [
    "# Load datasets & within-dataset length stats"
   ]
  },
  {
   "cell_type": "markdown",
   "id": "836555ca",
   "metadata": {},
   "source": [
    "### Original"
   ]
  },
  {
   "cell_type": "code",
   "execution_count": 5,
   "id": "6c4d162f",
   "metadata": {},
   "outputs": [
    {
     "name": "stdout",
     "output_type": "stream",
     "text": [
      "Loading lookup from /om2/user/ckauf/anaconda/envs/perturbedenv/lib/python3.6/site-packages/brainio_collection/lookup.csv\n",
      "/rdma/vast-rdma/vast/cpl/ckauf/perturbed-neural-nlp/neural_nlp/../ressources/stimuli\n",
      "\n",
      "\n",
      " We're running in the NEW version of the implementations.py script.\n",
      "\n",
      "\n"
     ]
    },
    {
     "name": "stderr",
     "output_type": "stream",
     "text": [
      "/om2/user/ckauf/anaconda/envs/perturbedenv/lib/python3.6/site-packages/brainio_base/assemblies.py:224: FutureWarning: The inplace argument has been deprecated and will be removed in a future version of xarray.\n",
      "  xr_data.set_index(append=True, inplace=True, **coords_d)\n"
     ]
    },
    {
     "data": {
      "text/html": [
       "<div>\n",
       "<style scoped>\n",
       "    .dataframe tbody tr th:only-of-type {\n",
       "        vertical-align: middle;\n",
       "    }\n",
       "\n",
       "    .dataframe tbody tr th {\n",
       "        vertical-align: top;\n",
       "    }\n",
       "\n",
       "    .dataframe thead th {\n",
       "        text-align: right;\n",
       "    }\n",
       "</style>\n",
       "<table border=\"1\" class=\"dataframe\">\n",
       "  <thead>\n",
       "    <tr style=\"text-align: right;\">\n",
       "      <th></th>\n",
       "      <th>sentence</th>\n",
       "      <th>sentence_num</th>\n",
       "      <th>stimulus_id</th>\n",
       "      <th>experiment</th>\n",
       "      <th>story</th>\n",
       "      <th>passage_index</th>\n",
       "      <th>passage_label</th>\n",
       "      <th>passage_category</th>\n",
       "    </tr>\n",
       "  </thead>\n",
       "  <tbody>\n",
       "    <tr>\n",
       "      <th>0</th>\n",
       "      <td>beekeeping encourages the conservation of loca...</td>\n",
       "      <td>0</td>\n",
       "      <td>243sentences.0</td>\n",
       "      <td>243sentences</td>\n",
       "      <td>243sentences.beekeeping</td>\n",
       "      <td>1</td>\n",
       "      <td>beekeeping</td>\n",
       "      <td>beekeeping</td>\n",
       "    </tr>\n",
       "    <tr>\n",
       "      <th>1</th>\n",
       "      <td>it is in every beekeeper's interest to conserv...</td>\n",
       "      <td>1</td>\n",
       "      <td>243sentences.1</td>\n",
       "      <td>243sentences</td>\n",
       "      <td>243sentences.beekeeping</td>\n",
       "      <td>1</td>\n",
       "      <td>beekeeping</td>\n",
       "      <td>beekeeping</td>\n",
       "    </tr>\n",
       "    <tr>\n",
       "      <th>2</th>\n",
       "      <td>as a passive form of agriculture it does not r...</td>\n",
       "      <td>2</td>\n",
       "      <td>243sentences.2</td>\n",
       "      <td>243sentences</td>\n",
       "      <td>243sentences.beekeeping</td>\n",
       "      <td>1</td>\n",
       "      <td>beekeeping</td>\n",
       "      <td>beekeeping</td>\n",
       "    </tr>\n",
       "    <tr>\n",
       "      <th>3</th>\n",
       "      <td>beekeepers also discourage the use of pesticid...</td>\n",
       "      <td>3</td>\n",
       "      <td>243sentences.3</td>\n",
       "      <td>243sentences</td>\n",
       "      <td>243sentences.beekeeping</td>\n",
       "      <td>1</td>\n",
       "      <td>beekeeping</td>\n",
       "      <td>beekeeping</td>\n",
       "    </tr>\n",
       "    <tr>\n",
       "      <th>4</th>\n",
       "      <td>artisanal beekeepers go to extremes for their ...</td>\n",
       "      <td>4</td>\n",
       "      <td>243sentences.4</td>\n",
       "      <td>243sentences</td>\n",
       "      <td>243sentences.beekeeping</td>\n",
       "      <td>2</td>\n",
       "      <td>beekeeping</td>\n",
       "      <td>beekeeping</td>\n",
       "    </tr>\n",
       "  </tbody>\n",
       "</table>\n",
       "</div>"
      ],
      "text/plain": [
       "                                            sentence  sentence_num  \\\n",
       "0  beekeeping encourages the conservation of loca...             0   \n",
       "1  it is in every beekeeper's interest to conserv...             1   \n",
       "2  as a passive form of agriculture it does not r...             2   \n",
       "3  beekeepers also discourage the use of pesticid...             3   \n",
       "4  artisanal beekeepers go to extremes for their ...             4   \n",
       "\n",
       "      stimulus_id    experiment                    story  passage_index  \\\n",
       "0  243sentences.0  243sentences  243sentences.beekeeping              1   \n",
       "1  243sentences.1  243sentences  243sentences.beekeeping              1   \n",
       "2  243sentences.2  243sentences  243sentences.beekeeping              1   \n",
       "3  243sentences.3  243sentences  243sentences.beekeeping              1   \n",
       "4  243sentences.4  243sentences  243sentences.beekeeping              2   \n",
       "\n",
       "  passage_label passage_category  \n",
       "0    beekeeping       beekeeping  \n",
       "1    beekeeping       beekeeping  \n",
       "2    beekeeping       beekeeping  \n",
       "3    beekeeping       beekeeping  \n",
       "4    beekeeping       beekeeping  "
      ]
     },
     "execution_count": 5,
     "metadata": {},
     "output_type": "execute_result"
    }
   ],
   "source": [
    "with open(os.path.join(savedir, \"stimuli_Original.pkl\"), \"rb\") as f:\n",
    "    df_original = pickle.load(f)\n",
    "original_sentences = list(df_original[\"sentence\"])\n",
    "df_original.head()"
   ]
  },
  {
   "cell_type": "code",
   "execution_count": 6,
   "id": "d4263d98",
   "metadata": {},
   "outputs": [
    {
     "name": "stdout",
     "output_type": "stream",
     "text": [
      "Original | [7, 13, 20, 15, 15, 10, 11, 16, 15, 11]\n",
      "\n",
      "Min: 5\n",
      "Max: 20\n",
      "Mean: 12.328548644338118\n",
      "Median: 12.0\n",
      "Std: 2.526516150448879\n"
     ]
    }
   ],
   "source": [
    "original_lengths = [len(elm.split()) for elm in original_sentences]\n",
    "print(f\"Original | {original_lengths[:10]}\\n\")\n",
    "print(f\"Min: {np.min(original_lengths)}\\nMax: {np.max(original_lengths)}\\nMean: {np.mean(original_lengths)}\\nMedian: {np.median(original_lengths)}\\nStd: {np.std(original_lengths)}\" )"
   ]
  },
  {
   "cell_type": "markdown",
   "id": "768b6831",
   "metadata": {},
   "source": [
    "### Function words"
   ]
  },
  {
   "cell_type": "code",
   "execution_count": 7,
   "id": "daca6f78",
   "metadata": {},
   "outputs": [
    {
     "data": {
      "text/html": [
       "<div>\n",
       "<style scoped>\n",
       "    .dataframe tbody tr th:only-of-type {\n",
       "        vertical-align: middle;\n",
       "    }\n",
       "\n",
       "    .dataframe tbody tr th {\n",
       "        vertical-align: top;\n",
       "    }\n",
       "\n",
       "    .dataframe thead th {\n",
       "        text-align: right;\n",
       "    }\n",
       "</style>\n",
       "<table border=\"1\" class=\"dataframe\">\n",
       "  <thead>\n",
       "    <tr style=\"text-align: right;\">\n",
       "      <th></th>\n",
       "      <th>sentence</th>\n",
       "      <th>sentence_num</th>\n",
       "      <th>stimulus_id</th>\n",
       "      <th>experiment</th>\n",
       "      <th>story</th>\n",
       "      <th>passage_index</th>\n",
       "      <th>passage_label</th>\n",
       "      <th>passage_category</th>\n",
       "    </tr>\n",
       "  </thead>\n",
       "  <tbody>\n",
       "    <tr>\n",
       "      <th>0</th>\n",
       "      <td>the of.</td>\n",
       "      <td>0</td>\n",
       "      <td>243sentences.0</td>\n",
       "      <td>243sentences</td>\n",
       "      <td>243sentences.beekeeping</td>\n",
       "      <td>1</td>\n",
       "      <td>beekeeping</td>\n",
       "      <td>beekeeping</td>\n",
       "    </tr>\n",
       "    <tr>\n",
       "      <th>1</th>\n",
       "      <td>in every to that.</td>\n",
       "      <td>1</td>\n",
       "      <td>243sentences.1</td>\n",
       "      <td>243sentences</td>\n",
       "      <td>243sentences.beekeeping</td>\n",
       "      <td>1</td>\n",
       "      <td>beekeeping</td>\n",
       "      <td>beekeeping</td>\n",
       "    </tr>\n",
       "    <tr>\n",
       "      <th>2</th>\n",
       "      <td>as a of that to for.</td>\n",
       "      <td>2</td>\n",
       "      <td>243sentences.2</td>\n",
       "      <td>243sentences</td>\n",
       "      <td>243sentences.beekeeping</td>\n",
       "      <td>1</td>\n",
       "      <td>beekeeping</td>\n",
       "      <td>beekeeping</td>\n",
       "    </tr>\n",
       "    <tr>\n",
       "      <th>3</th>\n",
       "      <td>the of on because could the.</td>\n",
       "      <td>3</td>\n",
       "      <td>243sentences.3</td>\n",
       "      <td>243sentences</td>\n",
       "      <td>243sentences.beekeeping</td>\n",
       "      <td>1</td>\n",
       "      <td>beekeeping</td>\n",
       "      <td>beekeeping</td>\n",
       "    </tr>\n",
       "    <tr>\n",
       "      <th>4</th>\n",
       "      <td>to for but worth the.</td>\n",
       "      <td>4</td>\n",
       "      <td>243sentences.4</td>\n",
       "      <td>243sentences</td>\n",
       "      <td>243sentences.beekeeping</td>\n",
       "      <td>2</td>\n",
       "      <td>beekeeping</td>\n",
       "      <td>beekeeping</td>\n",
       "    </tr>\n",
       "  </tbody>\n",
       "</table>\n",
       "</div>"
      ],
      "text/plain": [
       "                       sentence  sentence_num     stimulus_id    experiment  \\\n",
       "0                       the of.             0  243sentences.0  243sentences   \n",
       "1             in every to that.             1  243sentences.1  243sentences   \n",
       "2          as a of that to for.             2  243sentences.2  243sentences   \n",
       "3  the of on because could the.             3  243sentences.3  243sentences   \n",
       "4         to for but worth the.             4  243sentences.4  243sentences   \n",
       "\n",
       "                     story  passage_index passage_label passage_category  \n",
       "0  243sentences.beekeeping              1    beekeeping       beekeeping  \n",
       "1  243sentences.beekeeping              1    beekeeping       beekeeping  \n",
       "2  243sentences.beekeeping              1    beekeeping       beekeeping  \n",
       "3  243sentences.beekeeping              1    beekeeping       beekeeping  \n",
       "4  243sentences.beekeeping              2    beekeeping       beekeeping  "
      ]
     },
     "execution_count": 7,
     "metadata": {},
     "output_type": "execute_result"
    }
   ],
   "source": [
    "with open(os.path.join(savedir, \"stimuli_functionwords.pkl\"), \"rb\") as f:\n",
    "    df_fn = pickle.load(f)\n",
    "fn_sentences = list(df_fn[\"sentence\"])\n",
    "df_fn.head()"
   ]
  },
  {
   "cell_type": "code",
   "execution_count": 8,
   "id": "70b52b2b",
   "metadata": {},
   "outputs": [
    {
     "name": "stdout",
     "output_type": "stream",
     "text": [
      "Function words | [2, 4, 6, 6, 5, 3, 3, 5, 7, 3]\n",
      "\n",
      "Min: 1\n",
      "Max: 10\n",
      "Mean: 4.130781499202552\n",
      "Median: 4.0\n",
      "Std: 1.621858227513163\n"
     ]
    }
   ],
   "source": [
    "fn_lengths = [len(elm.split()) for elm in fn_sentences]\n",
    "print(f\"Function words | {fn_lengths[:10]}\\n\")\n",
    "print(f\"Min: {np.min(fn_lengths)}\\nMax: {np.max(fn_lengths)}\\nMean: {np.mean(fn_lengths)}\\nMedian: {np.median(fn_lengths)}\\nStd: {np.std(fn_lengths)}\")"
   ]
  },
  {
   "cell_type": "markdown",
   "id": "9addb308",
   "metadata": {},
   "source": [
    "### Nouns"
   ]
  },
  {
   "cell_type": "code",
   "execution_count": 9,
   "id": "13048ac6",
   "metadata": {},
   "outputs": [
    {
     "data": {
      "text/html": [
       "<div>\n",
       "<style scoped>\n",
       "    .dataframe tbody tr th:only-of-type {\n",
       "        vertical-align: middle;\n",
       "    }\n",
       "\n",
       "    .dataframe tbody tr th {\n",
       "        vertical-align: top;\n",
       "    }\n",
       "\n",
       "    .dataframe thead th {\n",
       "        text-align: right;\n",
       "    }\n",
       "</style>\n",
       "<table border=\"1\" class=\"dataframe\">\n",
       "  <thead>\n",
       "    <tr style=\"text-align: right;\">\n",
       "      <th></th>\n",
       "      <th>sentence</th>\n",
       "      <th>sentence_num</th>\n",
       "      <th>stimulus_id</th>\n",
       "      <th>experiment</th>\n",
       "      <th>story</th>\n",
       "      <th>passage_index</th>\n",
       "      <th>passage_label</th>\n",
       "      <th>passage_category</th>\n",
       "    </tr>\n",
       "  </thead>\n",
       "  <tbody>\n",
       "    <tr>\n",
       "      <th>0</th>\n",
       "      <td>conservation habitats.</td>\n",
       "      <td>0</td>\n",
       "      <td>243sentences.0</td>\n",
       "      <td>243sentences</td>\n",
       "      <td>243sentences.beekeeping</td>\n",
       "      <td>1</td>\n",
       "      <td>beekeeping</td>\n",
       "      <td>beekeeping</td>\n",
       "    </tr>\n",
       "    <tr>\n",
       "      <th>1</th>\n",
       "      <td>it beekeeper's interest plants pollen.</td>\n",
       "      <td>1</td>\n",
       "      <td>243sentences.1</td>\n",
       "      <td>243sentences</td>\n",
       "      <td>243sentences.beekeeping</td>\n",
       "      <td>1</td>\n",
       "      <td>beekeeping</td>\n",
       "      <td>beekeeping</td>\n",
       "    </tr>\n",
       "    <tr>\n",
       "      <th>2</th>\n",
       "      <td>form agriculture it vegetation way crops.</td>\n",
       "      <td>2</td>\n",
       "      <td>243sentences.2</td>\n",
       "      <td>243sentences</td>\n",
       "      <td>243sentences.beekeeping</td>\n",
       "      <td>1</td>\n",
       "      <td>beekeeping</td>\n",
       "      <td>beekeeping</td>\n",
       "    </tr>\n",
       "    <tr>\n",
       "      <th>3</th>\n",
       "      <td>beekeepers use pesticides crops they honeybees.</td>\n",
       "      <td>3</td>\n",
       "      <td>243sentences.3</td>\n",
       "      <td>243sentences</td>\n",
       "      <td>243sentences.beekeeping</td>\n",
       "      <td>1</td>\n",
       "      <td>beekeeping</td>\n",
       "      <td>beekeeping</td>\n",
       "    </tr>\n",
       "    <tr>\n",
       "      <th>4</th>\n",
       "      <td>beekeepers their craft their product effort.</td>\n",
       "      <td>4</td>\n",
       "      <td>243sentences.4</td>\n",
       "      <td>243sentences</td>\n",
       "      <td>243sentences.beekeeping</td>\n",
       "      <td>2</td>\n",
       "      <td>beekeeping</td>\n",
       "      <td>beekeeping</td>\n",
       "    </tr>\n",
       "  </tbody>\n",
       "</table>\n",
       "</div>"
      ],
      "text/plain": [
       "                                          sentence  sentence_num  \\\n",
       "0                           conservation habitats.             0   \n",
       "1           it beekeeper's interest plants pollen.             1   \n",
       "2        form agriculture it vegetation way crops.             2   \n",
       "3  beekeepers use pesticides crops they honeybees.             3   \n",
       "4     beekeepers their craft their product effort.             4   \n",
       "\n",
       "      stimulus_id    experiment                    story  passage_index  \\\n",
       "0  243sentences.0  243sentences  243sentences.beekeeping              1   \n",
       "1  243sentences.1  243sentences  243sentences.beekeeping              1   \n",
       "2  243sentences.2  243sentences  243sentences.beekeeping              1   \n",
       "3  243sentences.3  243sentences  243sentences.beekeeping              1   \n",
       "4  243sentences.4  243sentences  243sentences.beekeeping              2   \n",
       "\n",
       "  passage_label passage_category  \n",
       "0    beekeeping       beekeeping  \n",
       "1    beekeeping       beekeeping  \n",
       "2    beekeeping       beekeeping  \n",
       "3    beekeeping       beekeeping  \n",
       "4    beekeeping       beekeeping  "
      ]
     },
     "execution_count": 9,
     "metadata": {},
     "output_type": "execute_result"
    }
   ],
   "source": [
    "with open(os.path.join(savedir, \"stimuli_nouns.pkl\"), \"rb\") as f:\n",
    "    df_nouns = pickle.load(f)\n",
    "nouns_sentences = list(df_nouns[\"sentence\"])\n",
    "df_nouns.head()"
   ]
  },
  {
   "cell_type": "code",
   "execution_count": 10,
   "id": "d08258da",
   "metadata": {},
   "outputs": [
    {
     "name": "stdout",
     "output_type": "stream",
     "text": [
      "Nouns | [2, 5, 6, 6, 6, 5, 5, 5, 4, 6]\n",
      "\n",
      "Min: 1\n",
      "Max: 9\n",
      "Mean: 4.347687400318979\n",
      "Median: 4.0\n",
      "Std: 1.2566912752512462\n"
     ]
    }
   ],
   "source": [
    "nouns_lengths = [len(elm.split()) for elm in nouns_sentences]\n",
    "print(f\"Nouns | {nouns_lengths[:10]}\\n\")\n",
    "print(f\"Min: {np.min(nouns_lengths)}\\nMax: {np.max(nouns_lengths)}\\nMean: {np.mean(nouns_lengths)}\\nMedian: {np.median(nouns_lengths)}\\nStd: {np.std(nouns_lengths)}\")"
   ]
  },
  {
   "cell_type": "markdown",
   "id": "39afb866",
   "metadata": {},
   "source": [
    "# Correlation analyses"
   ]
  },
  {
   "cell_type": "markdown",
   "id": "52965696",
   "metadata": {},
   "source": [
    "### Original vs. function words"
   ]
  },
  {
   "cell_type": "code",
   "execution_count": 11,
   "id": "0679859e",
   "metadata": {},
   "outputs": [
    {
     "data": {
      "image/png": "[encoded data removed]",
      "text/plain": [
       "<Figure size 432x288 with 1 Axes>"
      ]
     },
     "metadata": {},
     "output_type": "display_data"
    }
   ],
   "source": [
    "sns.set_style('darkgrid')\n",
    "plot_df = pd.DataFrame({\n",
    "    \"original_lengths\" : original_lengths,\n",
    "    \"fnwords_lengths\" : fn_lengths\n",
    "})\n",
    "ax = sns.scatterplot(data=plot_df, x=\"original_lengths\", y=\"fnwords_lengths\")"
   ]
  },
  {
   "cell_type": "code",
   "execution_count": 12,
   "id": "5f120c06",
   "metadata": {},
   "outputs": [
    {
     "data": {
      "image/png": "[encoded data removed]",
      "text/plain": [
       "<Figure size 432x288 with 1 Axes>"
      ]
     },
     "metadata": {},
     "output_type": "display_data"
    }
   ],
   "source": [
    "ax2 = sns.violinplot(x=\"original_lengths\", y=\"fnwords_lengths\", data=plot_df)"
   ]
  },
  {
   "cell_type": "markdown",
   "id": "029cba2f",
   "metadata": {},
   "source": [
    "#### Stats"
   ]
  },
  {
   "cell_type": "code",
   "execution_count": 13,
   "id": "76de2897",
   "metadata": {},
   "outputs": [
    {
     "name": "stdout",
     "output_type": "stream",
     "text": [
      "r-value: 0.7508324004278204 | p-value: 1.1099252616465896e-114\n",
      "\n",
      "LinregressResult(slope=0.48198532429763635, intercept=-1.8113980172579414, rvalue=0.7508324004278211, pvalue=1.1099252616468282e-114, stderr=0.01695972759870034)\n"
     ]
    }
   ],
   "source": [
    "rvalue, pvalue = pearsonr(original_lengths, fn_lengths)\n",
    "print(f\"r-value: {rvalue} | p-value: {pvalue}\\n\") # (Pearson’s correlation coefficient, 2-tailed p-value)\n",
    "\n",
    "print(linregress(original_lengths, fn_lengths))\n",
    "# slope : slope of the regression line\n",
    "# intercept : intercept of the regression line\n",
    "# r-value : correlation coefficient\n",
    "# p-value : two-sided p-value for a hypothesis test whose null hypothesis is that the slope is zero\n",
    "# stderr : Standard error of the estimate"
   ]
  },
  {
   "cell_type": "markdown",
   "id": "8b4b9fc5",
   "metadata": {},
   "source": [
    "### Original vs. nouns"
   ]
  },
  {
   "cell_type": "code",
   "execution_count": 14,
   "id": "332e47a3",
   "metadata": {},
   "outputs": [
    {
     "data": {
      "image/png": "[encoded data removed]",
      "text/plain": [
       "<Figure size 432x288 with 1 Axes>"
      ]
     },
     "metadata": {},
     "output_type": "display_data"
    }
   ],
   "source": [
    "plot_df = pd.DataFrame({\n",
    "    \"original_lengths\" : original_lengths,\n",
    "    \"nouns_lengths\" : nouns_lengths\n",
    "})\n",
    "ax = sns.scatterplot(data=plot_df, x=\"original_lengths\", y=\"nouns_lengths\")"
   ]
  },
  {
   "cell_type": "code",
   "execution_count": 15,
   "id": "e3c4838c",
   "metadata": {},
   "outputs": [
    {
     "data": {
      "image/png": "[encoded data removed]",
      "text/plain": [
       "<Figure size 432x288 with 1 Axes>"
      ]
     },
     "metadata": {},
     "output_type": "display_data"
    }
   ],
   "source": [
    "ax2 = sns.violinplot(x=\"original_lengths\", y=\"nouns_lengths\", data=plot_df)"
   ]
  },
  {
   "cell_type": "markdown",
   "id": "b125abf6",
   "metadata": {},
   "source": [
    "#### Stats"
   ]
  },
  {
   "cell_type": "code",
   "execution_count": 16,
   "id": "5e7ef282",
   "metadata": {},
   "outputs": [
    {
     "name": "stdout",
     "output_type": "stream",
     "text": [
      "r-value: 0.5562589894292461 | p-value: 3.240352455751456e-52\n",
      "\n",
      "LinregressResult(slope=0.2766836929467525, intercept=0.9365790327298296, rvalue=0.5562589894292457, pvalue=3.2403524557549643e-52, stderr=0.016533782989469954)\n"
     ]
    }
   ],
   "source": [
    "rvalue, pvalue = pearsonr(original_lengths, nouns_lengths)\n",
    "print(f\"r-value: {rvalue} | p-value: {pvalue}\\n\") # (Pearson’s correlation coefficient, 2-tailed p-value)\n",
    "\n",
    "print(linregress(original_lengths, nouns_lengths))"
   ]
  },
  {
   "cell_type": "markdown",
   "id": "8575cb90",
   "metadata": {},
   "source": [
    "### Function words vs. nouns"
   ]
  },
  {
   "cell_type": "code",
   "execution_count": 17,
   "id": "e1862b32",
   "metadata": {},
   "outputs": [
    {
     "data": {
      "image/png": "[encoded data removed]",
      "text/plain": [
       "<Figure size 432x288 with 1 Axes>"
      ]
     },
     "metadata": {},
     "output_type": "display_data"
    }
   ],
   "source": [
    "plot_df = pd.DataFrame({\n",
    "    \"fnwords_lengths\" : fn_lengths,\n",
    "    \"nouns_lengths\" : nouns_lengths\n",
    "})\n",
    "ax = sns.scatterplot(data=plot_df, x=\"fnwords_lengths\", y=\"nouns_lengths\")"
   ]
  },
  {
   "cell_type": "code",
   "execution_count": 18,
   "id": "8db81ccb",
   "metadata": {},
   "outputs": [
    {
     "data": {
      "image/png": "[encoded data removed]",
      "text/plain": [
       "<Figure size 432x288 with 1 Axes>"
      ]
     },
     "metadata": {},
     "output_type": "display_data"
    }
   ],
   "source": [
    "ax2 = sns.violinplot(x=\"fnwords_lengths\", y=\"nouns_lengths\", data=plot_df)"
   ]
  },
  {
   "cell_type": "markdown",
   "id": "8fb78ffb",
   "metadata": {},
   "source": [
    "#### Stats"
   ]
  },
  {
   "cell_type": "code",
   "execution_count": 19,
   "id": "767a28a7",
   "metadata": {},
   "outputs": [
    {
     "name": "stdout",
     "output_type": "stream",
     "text": [
      "r-value: 0.31260540640127554 | p-value: 1.1130064445581949e-15\n",
      "\n",
      "LinregressResult(slope=0.2422212251086941, intercept=3.347124444925809, rvalue=0.31260540640127554, pvalue=1.1130064445590882e-15, stderr=0.029440545543875738)\n"
     ]
    }
   ],
   "source": [
    "rvalue, pvalue = pearsonr(fn_lengths, nouns_lengths)\n",
    "print(f\"r-value: {rvalue} | p-value: {pvalue}\\n\") # (Pearson’s correlation coefficient, 2-tailed p-value)\n",
    "\n",
    "print(linregress(fn_lengths, nouns_lengths))"
   ]
  }
 ],
 "metadata": {
  "kernelspec": {
   "display_name": "Python 3",
   "language": "python",
   "name": "python3"
  },
  "language_info": {
   "codemirror_mode": {
    "name": "ipython",
    "version": 3
   },
   "file_extension": ".py",
   "mimetype": "text/x-python",
   "name": "python",
   "nbconvert_exporter": "python",
   "pygments_lexer": "ipython3",
   "version": "3.6.2"
  }
 },
 "nbformat": 4,
 "nbformat_minor": 5
}
