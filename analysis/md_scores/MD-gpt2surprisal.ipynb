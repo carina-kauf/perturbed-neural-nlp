{
 "cells": [
  {
   "cell_type": "code",
   "execution_count": 55,
   "id": "3561f56e",
   "metadata": {},
   "outputs": [],
   "source": [
    "import os\n",
    "import re\n",
    "import pickle\n",
    "import numpy as np\n",
    "import pandas as pd\n",
    "from tqdm import tqdm\n",
    "import seaborn as sns\n",
    "import matplotlib.pyplot as plt\n",
    "from datetime import date"
   ]
  },
  {
   "cell_type": "code",
   "execution_count": 56,
   "id": "f2dc0a9b",
   "metadata": {},
   "outputs": [],
   "source": [
    "save = False"
   ]
  },
  {
   "cell_type": "code",
   "execution_count": 57,
   "id": "3fbe3ba6",
   "metadata": {},
   "outputs": [],
   "source": [
    "working_dir = \"/om2/user/ckauf/.result_caching/neural_nlp.score\""
   ]
  },
  {
   "cell_type": "code",
   "execution_count": 58,
   "id": "4c84e790",
   "metadata": {},
   "outputs": [],
   "source": [
    "categories = ['original',\n",
    "            'scrambled1',\n",
    "            'scrambled3',\n",
    "            'scrambled5',\n",
    "            'scrambled7',\n",
    "            'backward',\n",
    "            'lowpmi',\n",
    "            'lowpmi-random',\n",
    "            'random-wl',\n",
    "            'nouns',\n",
    "            'nounsverbs',\n",
    "            'nounsverbsadj',\n",
    "            'contentwords',\n",
    "            'random-nouns',\n",
    "            'functionwords',\n",
    "            'sentenceshuffle_passage',\n",
    "            'sentenceshuffle_topic',\n",
    "            'sentenceshuffle_random']"
   ]
  },
  {
   "cell_type": "code",
   "execution_count": 59,
   "id": "5130b8dd",
   "metadata": {},
   "outputs": [],
   "source": [
    "def get_max_score(matrix):\n",
    "    \"\"\"\n",
    "    input: result = out['data'].values matrix (e.g. for distilgpt2 a matrix of dimensions 7x2)\n",
    "    output: maximum score and associated error for this matrix.\n",
    "    \"\"\"\n",
    "    max_score, error = 0,0\n",
    "    for i in range(len(matrix)):\n",
    "        if matrix[i][0] > max_score:\n",
    "            max_score = matrix[i][0]\n",
    "            error = matrix[i][1]\n",
    "    return max_score, error"
   ]
  },
  {
   "cell_type": "code",
   "execution_count": 60,
   "id": "c0b73b91",
   "metadata": {},
   "outputs": [],
   "source": [
    "from brainio_base.assemblies import DataAssembly, merge_data_arrays\n",
    "from brainscore.metrics import Score\n",
    "\n",
    "from scipy.stats import median_abs_deviation\n",
    "\n",
    "def aggregate_neuroid_scores(neuroid_scores, subject_column):\n",
    "    subject_scores = neuroid_scores.groupby(subject_column).median()\n",
    "    center = subject_scores.median(subject_column)\n",
    "    subject_values = np.nan_to_num(subject_scores.values, nan=0)  # mad cannot deal with all-nan in one axis, treat as 0\n",
    "    subject_axis = subject_scores.dims.index(subject_scores[subject_column].dims[0])\n",
    "    error = median_absolute_deviation(subject_values, axis=subject_axis)\n",
    "    score = Score([center, error], coords={'aggregation': ['center', 'error']}, dims=['aggregation'])\n",
    "    score.attrs['raw'] = neuroid_scores\n",
    "    score.attrs['description'] = \"score aggregated by taking median of neuroids per subject, \" \\\n",
    "                                 \"then median of subject scores\"\n",
    "    return score"
   ]
  },
  {
   "cell_type": "code",
   "execution_count": 61,
   "id": "2e469f02",
   "metadata": {},
   "outputs": [],
   "source": [
    "#aggregation from pipeline\n",
    "from brainscore.metrics.transformations import  apply_aggregate\n",
    "\n",
    "def get_md_score(content_of_picklefile):\n",
    "    md_score_matrix = []\n",
    "    all_raw_scores = content_of_picklefile[\"data\"].raw.raw.raw\n",
    "    \n",
    "    # same as https://github.com/carina-kauf/perturbed-neural-nlp/blob/master/neural_nlp/benchmarks/neural.py#L173\n",
    "    raw_neuroids = apply_aggregate(lambda values: values.mean('split').mean('experiment'), all_raw_scores)\n",
    "    md_neuroids = raw_neuroids.sel(atlas='MD', _apply_raw=False)\n",
    "    layers = list(md_neuroids.layer.data)\n",
    "    \n",
    "    for layer in layers:\n",
    "        md_neuroids.sel(layer=layer)\n",
    "        score = aggregate_neuroid_scores(md_neuroids.sel(layer=layer), \"subject\")\n",
    "#         print(f\"{layer} | Score: {score.data}\")\n",
    "        md_score_matrix.append(score.data)\n",
    "    return md_score_matrix"
   ]
  },
  {
   "cell_type": "code",
   "execution_count": 62,
   "id": "d57ebd43",
   "metadata": {},
   "outputs": [],
   "source": [
    "def get_best_scores_df(model_identifier, categories,\n",
    "                       emb_context=\"Sentence\", split_coord=\"Sentence\",\n",
    "                       testonperturbed=False):\n",
    "    \"\"\"\n",
    "    input: model_identifier\n",
    "    output: dictionary containing the maximum score and associated error per condition.\n",
    "            structure of dictionary: condition --> {score --> max_score, error --> associated error}\n",
    "    \"\"\"\n",
    "    conditions = []\n",
    "    max_scores = []\n",
    "    errors = []\n",
    "    \n",
    "    for filename in os.listdir(working_dir):\n",
    "        if os.path.isdir(os.path.join(working_dir,filename)):\n",
    "            continue\n",
    "            \n",
    "        if not testonperturbed:\n",
    "            if \"teston:\" in filename:\n",
    "                continue\n",
    "        else:\n",
    "            if not \"teston:\" in filename:\n",
    "                continue\n",
    "                \n",
    "        if not f\"emb_context={emb_context}\" in filename:\n",
    "            continue\n",
    "                \n",
    "        if not f\"split_coord={split_coord}\" in filename:\n",
    "            continue            \n",
    "                \n",
    "        include_condition = False\n",
    "        model_name = filename.split(\",\")[1]\n",
    "        if \"model=\" + model_identifier == model_name:\n",
    "            \n",
    "            if any(x in filename for x in [\"encoding-scrambled\", \"encoding-perturb\"]):\n",
    "\n",
    "                condition = filename.split(\",\")[0].split(\"Pereira2018-encoding-\")[-1]\n",
    "                \n",
    "                condition = re.sub(\"perturb-\",\"\",condition)\n",
    "                condition = re.sub(\"scrambled-\",\"\",condition)\n",
    "\n",
    "                file = os.path.join(working_dir,filename)\n",
    "                with open(file, 'rb') as f:\n",
    "                    out = pickle.load(f)\n",
    "                result = out['data'].values\n",
    "                md_score_matrix = get_md_score(out)\n",
    "#                 print(md_score_matrix, '\\n\\n')\n",
    "                max_score, error = get_max_score(md_score_matrix)\n",
    "                \n",
    "                conditions.append(condition)\n",
    "                max_scores.append(max_score)\n",
    "                errors.append(error)\n",
    "                \n",
    "    import pandas as pd\n",
    "    index = conditions\n",
    "    df = pd.DataFrame({'score': max_scores,\n",
    "    'error': errors, 'condition': conditions})\n",
    "    df['condition'] = pd.Categorical(df['condition'], categories=categories)\n",
    "    scores_df = df.sort_values(by='condition')\n",
    "    return scores_df"
   ]
  },
  {
   "cell_type": "code",
   "execution_count": 63,
   "id": "90024a67",
   "metadata": {},
   "outputs": [
    {
     "name": "stderr",
     "output_type": "stream",
     "text": [
      "/om2/user/ckauf/anaconda39/envs/perturbed3.8/lib/python3.8/site-packages/xarray/core/nanops.py:159: RuntimeWarning:\n",
      "\n",
      "Mean of empty slice\n",
      "\n",
      "/tmp/ipykernel_38278/3851150132.py:11: DeprecationWarning:\n",
      "\n",
      "`median_absolute_deviation` is deprecated, use `median_abs_deviation` instead!\n",
      "\n",
      "To preserve the existing default behavior, use\n",
      "`scipy.stats.median_abs_deviation(..., scale=1/1.4826)`.\n",
      "The value 1.4826 is not numerically precise for scaling\n",
      "with a normal distribution. For a numerically precise value, use\n",
      "`scipy.stats.median_abs_deviation(..., scale='normal')`.\n",
      "\n",
      "\n",
      "/om2/user/ckauf/anaconda39/envs/perturbed3.8/lib/python3.8/site-packages/xarray/core/dataarray.py:219: FutureWarning:\n",
      "\n",
      "The Panel class is removed from pandas. Accessing it from the top-level namespace will also be removed in the next version\n",
      "\n"
     ]
    },
    {
     "data": {
      "text/html": [
       "<div>\n",
       "<style scoped>\n",
       "    .dataframe tbody tr th:only-of-type {\n",
       "        vertical-align: middle;\n",
       "    }\n",
       "\n",
       "    .dataframe tbody tr th {\n",
       "        vertical-align: top;\n",
       "    }\n",
       "\n",
       "    .dataframe thead th {\n",
       "        text-align: right;\n",
       "    }\n",
       "</style>\n",
       "<table border=\"1\" class=\"dataframe\">\n",
       "  <thead>\n",
       "    <tr style=\"text-align: right;\">\n",
       "      <th></th>\n",
       "      <th>score</th>\n",
       "      <th>error</th>\n",
       "      <th>condition</th>\n",
       "    </tr>\n",
       "  </thead>\n",
       "  <tbody>\n",
       "    <tr>\n",
       "      <th>11</th>\n",
       "      <td>0.114158</td>\n",
       "      <td>0.014108</td>\n",
       "      <td>original</td>\n",
       "    </tr>\n",
       "    <tr>\n",
       "      <th>13</th>\n",
       "      <td>0.109468</td>\n",
       "      <td>0.027480</td>\n",
       "      <td>scrambled1</td>\n",
       "    </tr>\n",
       "    <tr>\n",
       "      <th>14</th>\n",
       "      <td>0.127899</td>\n",
       "      <td>0.031377</td>\n",
       "      <td>scrambled3</td>\n",
       "    </tr>\n",
       "    <tr>\n",
       "      <th>15</th>\n",
       "      <td>0.131302</td>\n",
       "      <td>0.032750</td>\n",
       "      <td>scrambled5</td>\n",
       "    </tr>\n",
       "    <tr>\n",
       "      <th>16</th>\n",
       "      <td>0.122949</td>\n",
       "      <td>0.014808</td>\n",
       "      <td>scrambled7</td>\n",
       "    </tr>\n",
       "    <tr>\n",
       "      <th>8</th>\n",
       "      <td>0.091858</td>\n",
       "      <td>0.026818</td>\n",
       "      <td>backward</td>\n",
       "    </tr>\n",
       "    <tr>\n",
       "      <th>9</th>\n",
       "      <td>0.108806</td>\n",
       "      <td>0.019992</td>\n",
       "      <td>lowpmi</td>\n",
       "    </tr>\n",
       "    <tr>\n",
       "      <th>10</th>\n",
       "      <td>0.105702</td>\n",
       "      <td>0.027290</td>\n",
       "      <td>lowpmi-random</td>\n",
       "    </tr>\n",
       "    <tr>\n",
       "      <th>12</th>\n",
       "      <td>0.022733</td>\n",
       "      <td>0.009398</td>\n",
       "      <td>random-wl</td>\n",
       "    </tr>\n",
       "    <tr>\n",
       "      <th>2</th>\n",
       "      <td>0.088090</td>\n",
       "      <td>0.040039</td>\n",
       "      <td>nouns</td>\n",
       "    </tr>\n",
       "    <tr>\n",
       "      <th>3</th>\n",
       "      <td>0.093371</td>\n",
       "      <td>0.041543</td>\n",
       "      <td>nounsverbs</td>\n",
       "    </tr>\n",
       "    <tr>\n",
       "      <th>4</th>\n",
       "      <td>0.106439</td>\n",
       "      <td>0.026397</td>\n",
       "      <td>nounsverbsadj</td>\n",
       "    </tr>\n",
       "    <tr>\n",
       "      <th>0</th>\n",
       "      <td>0.103189</td>\n",
       "      <td>0.021178</td>\n",
       "      <td>contentwords</td>\n",
       "    </tr>\n",
       "    <tr>\n",
       "      <th>1</th>\n",
       "      <td>0.006877</td>\n",
       "      <td>0.010085</td>\n",
       "      <td>functionwords</td>\n",
       "    </tr>\n",
       "    <tr>\n",
       "      <th>5</th>\n",
       "      <td>0.102694</td>\n",
       "      <td>0.022048</td>\n",
       "      <td>sentenceshuffle_passage</td>\n",
       "    </tr>\n",
       "    <tr>\n",
       "      <th>7</th>\n",
       "      <td>0.042146</td>\n",
       "      <td>0.041960</td>\n",
       "      <td>sentenceshuffle_topic</td>\n",
       "    </tr>\n",
       "    <tr>\n",
       "      <th>6</th>\n",
       "      <td>0.017912</td>\n",
       "      <td>0.044025</td>\n",
       "      <td>sentenceshuffle_random</td>\n",
       "    </tr>\n",
       "  </tbody>\n",
       "</table>\n",
       "</div>"
      ],
      "text/plain": [
       "       score     error                condition\n",
       "11  0.114158  0.014108                 original\n",
       "13  0.109468  0.027480               scrambled1\n",
       "14  0.127899  0.031377               scrambled3\n",
       "15  0.131302  0.032750               scrambled5\n",
       "16  0.122949  0.014808               scrambled7\n",
       "8   0.091858  0.026818                 backward\n",
       "9   0.108806  0.019992                   lowpmi\n",
       "10  0.105702  0.027290            lowpmi-random\n",
       "12  0.022733  0.009398                random-wl\n",
       "2   0.088090  0.040039                    nouns\n",
       "3   0.093371  0.041543               nounsverbs\n",
       "4   0.106439  0.026397            nounsverbsadj\n",
       "0   0.103189  0.021178             contentwords\n",
       "1   0.006877  0.010085            functionwords\n",
       "5   0.102694  0.022048  sentenceshuffle_passage\n",
       "7   0.042146  0.041960    sentenceshuffle_topic\n",
       "6   0.017912  0.044025   sentenceshuffle_random"
      ]
     },
     "execution_count": 63,
     "metadata": {},
     "output_type": "execute_result"
    }
   ],
   "source": [
    "#function check\n",
    "scores_df = get_best_scores_df(model_identifier=\"distilgpt2\",categories=categories)\n",
    "scores_df"
   ]
  },
  {
   "cell_type": "code",
   "execution_count": 64,
   "id": "bf6be427",
   "metadata": {},
   "outputs": [
    {
     "data": {
      "text/html": [
       "<div>\n",
       "<style scoped>\n",
       "    .dataframe tbody tr th:only-of-type {\n",
       "        vertical-align: middle;\n",
       "    }\n",
       "\n",
       "    .dataframe tbody tr th {\n",
       "        vertical-align: top;\n",
       "    }\n",
       "\n",
       "    .dataframe thead th {\n",
       "        text-align: right;\n",
       "    }\n",
       "</style>\n",
       "<table border=\"1\" class=\"dataframe\">\n",
       "  <thead>\n",
       "    <tr style=\"text-align: right;\">\n",
       "      <th></th>\n",
       "      <th>score</th>\n",
       "      <th>error</th>\n",
       "      <th>condition</th>\n",
       "      <th>delta_brainscore</th>\n",
       "    </tr>\n",
       "  </thead>\n",
       "  <tbody>\n",
       "    <tr>\n",
       "      <th>11</th>\n",
       "      <td>0.114158</td>\n",
       "      <td>0.014108</td>\n",
       "      <td>original</td>\n",
       "      <td>0.000000</td>\n",
       "    </tr>\n",
       "    <tr>\n",
       "      <th>13</th>\n",
       "      <td>0.109468</td>\n",
       "      <td>0.027480</td>\n",
       "      <td>scrambled1</td>\n",
       "      <td>-0.004690</td>\n",
       "    </tr>\n",
       "    <tr>\n",
       "      <th>14</th>\n",
       "      <td>0.127899</td>\n",
       "      <td>0.031377</td>\n",
       "      <td>scrambled3</td>\n",
       "      <td>0.013741</td>\n",
       "    </tr>\n",
       "    <tr>\n",
       "      <th>15</th>\n",
       "      <td>0.131302</td>\n",
       "      <td>0.032750</td>\n",
       "      <td>scrambled5</td>\n",
       "      <td>0.017144</td>\n",
       "    </tr>\n",
       "    <tr>\n",
       "      <th>16</th>\n",
       "      <td>0.122949</td>\n",
       "      <td>0.014808</td>\n",
       "      <td>scrambled7</td>\n",
       "      <td>0.008791</td>\n",
       "    </tr>\n",
       "  </tbody>\n",
       "</table>\n",
       "</div>"
      ],
      "text/plain": [
       "       score     error   condition  delta_brainscore\n",
       "11  0.114158  0.014108    original          0.000000\n",
       "13  0.109468  0.027480  scrambled1         -0.004690\n",
       "14  0.127899  0.031377  scrambled3          0.013741\n",
       "15  0.131302  0.032750  scrambled5          0.017144\n",
       "16  0.122949  0.014808  scrambled7          0.008791"
      ]
     },
     "execution_count": 64,
     "metadata": {},
     "output_type": "execute_result"
    }
   ],
   "source": [
    "brainscores = list(scores_df[\"score\"])\n",
    "delta_brainscores = [brainscores[i] - brainscores[0] for i in range(len(brainscores))]\n",
    "scores_df[\"delta_brainscore\"] = delta_brainscores\n",
    "scores_df.head()"
   ]
  },
  {
   "cell_type": "code",
   "execution_count": 65,
   "id": "7a88b9ab",
   "metadata": {},
   "outputs": [],
   "source": [
    "surprisal_path = os.path.abspath(\"../gpt2_surprisals/files\")\n",
    "\n",
    "#distilgpt2.perturbed+contentwords.sentence_surp.average.txt\n",
    "#Index\tSentence\tSurprisal\tPPL"
   ]
  },
  {
   "cell_type": "code",
   "execution_count": 66,
   "id": "1fd514b1",
   "metadata": {},
   "outputs": [],
   "source": [
    "COND2SET = {\n",
    "'Original' : 'original',\n",
    "    #\n",
    "'Scr1' : 'scrambled',\n",
    "'Scr3' : 'scrambled',\n",
    "'Scr5' : 'scrambled',\n",
    "'Scr7' : 'scrambled',\n",
    "'backward' : 'scrambled',\n",
    "'lowPMI' : 'scrambled',\n",
    "'random' : 'scrambled',\n",
    "'nouns' : 'perturbed',\n",
    "'randomnouns' : 'perturbed',\n",
    "'nounsverbs' : 'perturbed',\n",
    "'nounsverbsadj' : 'perturbed',\n",
    "'contentwords' : 'perturbed',\n",
    "'functionwords' : 'perturbed',\n",
    "    #\n",
    "'sentenceshuffle-random' : 'perturbed',\n",
    "'sentenceshuffle-withinpassage' : 'perturbed',\n",
    "'sentenceshuffle-withintopic' : 'perturbed'\n",
    "}"
   ]
  },
  {
   "cell_type": "code",
   "execution_count": 67,
   "id": "59eb5e66",
   "metadata": {},
   "outputs": [],
   "source": [
    "CONDMAP = [ #same name between brainscores and surprisals\n",
    "('Original', 'original'),\n",
    "    #\n",
    "('Scr1', 'scrambled1'),\n",
    "('Scr3', 'scrambled3'),\n",
    "('Scr5', 'scrambled5'),\n",
    "('Scr7', 'scrambled7'),\n",
    "('backward', 'backward'),\n",
    "('lowPMI', 'lowpmi'),\n",
    "('random', 'random-wl'),\n",
    "('nouns', 'nouns'),\n",
    "('randomnouns', 'random-nouns'),\n",
    "('nounsverbs', 'nounsverbs'),\n",
    "('nounsverbsadj', 'nounsverbsadj'),\n",
    "('contentwords', 'contentwords'),\n",
    "('functionwords', 'functionwords')\n",
    "]"
   ]
  },
  {
   "cell_type": "code",
   "execution_count": 68,
   "id": "75f5dc34",
   "metadata": {},
   "outputs": [],
   "source": [
    "model_identifier = \"distilgpt2\""
   ]
  },
  {
   "cell_type": "code",
   "execution_count": 69,
   "id": "a5b4313f",
   "metadata": {},
   "outputs": [
    {
     "name": "stdout",
     "output_type": "stream",
     "text": [
      "Original\n",
      "Scr1\n",
      "Scr3\n",
      "Scr5\n",
      "Scr7\n",
      "backward\n",
      "lowPMI\n",
      "random\n",
      "nouns\n",
      "randomnouns\n",
      "nounsverbs\n",
      "nounsverbsadj\n",
      "contentwords\n",
      "functionwords\n"
     ]
    },
    {
     "data": {
      "text/html": [
       "<div>\n",
       "<style scoped>\n",
       "    .dataframe tbody tr th:only-of-type {\n",
       "        vertical-align: middle;\n",
       "    }\n",
       "\n",
       "    .dataframe tbody tr th {\n",
       "        vertical-align: top;\n",
       "    }\n",
       "\n",
       "    .dataframe thead th {\n",
       "        text-align: right;\n",
       "    }\n",
       "</style>\n",
       "<table border=\"1\" class=\"dataframe\">\n",
       "  <thead>\n",
       "    <tr style=\"text-align: right;\">\n",
       "      <th></th>\n",
       "      <th>condition</th>\n",
       "      <th>category</th>\n",
       "      <th>distilgpt2_surprisal</th>\n",
       "      <th>delta_surprisal</th>\n",
       "    </tr>\n",
       "  </thead>\n",
       "  <tbody>\n",
       "    <tr>\n",
       "      <th>0</th>\n",
       "      <td>original</td>\n",
       "      <td>original</td>\n",
       "      <td>6.320380</td>\n",
       "      <td>0.000000</td>\n",
       "    </tr>\n",
       "    <tr>\n",
       "      <th>1</th>\n",
       "      <td>scrambled1</td>\n",
       "      <td>scrambled</td>\n",
       "      <td>7.356871</td>\n",
       "      <td>-1.036491</td>\n",
       "    </tr>\n",
       "    <tr>\n",
       "      <th>2</th>\n",
       "      <td>scrambled3</td>\n",
       "      <td>scrambled</td>\n",
       "      <td>8.034630</td>\n",
       "      <td>-1.714250</td>\n",
       "    </tr>\n",
       "    <tr>\n",
       "      <th>3</th>\n",
       "      <td>scrambled5</td>\n",
       "      <td>scrambled</td>\n",
       "      <td>8.447436</td>\n",
       "      <td>-2.127056</td>\n",
       "    </tr>\n",
       "    <tr>\n",
       "      <th>4</th>\n",
       "      <td>scrambled7</td>\n",
       "      <td>scrambled</td>\n",
       "      <td>9.452005</td>\n",
       "      <td>-3.131625</td>\n",
       "    </tr>\n",
       "  </tbody>\n",
       "</table>\n",
       "</div>"
      ],
      "text/plain": [
       "    condition   category  distilgpt2_surprisal  delta_surprisal\n",
       "0    original   original              6.320380         0.000000\n",
       "1  scrambled1  scrambled              7.356871        -1.036491\n",
       "2  scrambled3  scrambled              8.034630        -1.714250\n",
       "3  scrambled5  scrambled              8.447436        -2.127056\n",
       "4  scrambled7  scrambled              9.452005        -3.131625"
      ]
     },
     "execution_count": 69,
     "metadata": {},
     "output_type": "execute_result"
    }
   ],
   "source": [
    "conditions, categories, avg_surprisal = [], [], []\n",
    "for (cond, category) in CONDMAP:\n",
    "    print(cond)\n",
    "    scr_perturb = COND2SET[cond]\n",
    "    computed = True\n",
    "    filename = f\"{model_identifier}.{scr_perturb}+{cond}.sentence_surp.average_sentlength.txt\"\n",
    "    try:\n",
    "        content = pd.read_csv(os.path.join(surprisal_path, filename), sep=\"\\t\")\n",
    "        avg_surprisal.append(content[\"Surprisal\"].mean())\n",
    "        conditions.append(category)\n",
    "        categories.append(scr_perturb)\n",
    "    except:\n",
    "        print(f\"Ignoring condition {cond}\")\n",
    "surprisal_df = pd.DataFrame({\n",
    "    \"condition\" : conditions,\n",
    "    \"category\" : categories,\n",
    "    \"distilgpt2_surprisal\" : avg_surprisal\n",
    "})\n",
    "\n",
    "delta_surprisal = [avg_surprisal[0] - avg_surprisal[i] for i in range(len(conditions))]\n",
    "\n",
    "surprisal_df[\"delta_surprisal\"] = delta_surprisal\n",
    "surprisal_df.head()"
   ]
  },
  {
   "cell_type": "code",
   "execution_count": 70,
   "id": "06c82d4d",
   "metadata": {},
   "outputs": [
    {
     "data": {
      "text/html": [
       "<div>\n",
       "<style scoped>\n",
       "    .dataframe tbody tr th:only-of-type {\n",
       "        vertical-align: middle;\n",
       "    }\n",
       "\n",
       "    .dataframe tbody tr th {\n",
       "        vertical-align: top;\n",
       "    }\n",
       "\n",
       "    .dataframe thead th {\n",
       "        text-align: right;\n",
       "    }\n",
       "</style>\n",
       "<table border=\"1\" class=\"dataframe\">\n",
       "  <thead>\n",
       "    <tr style=\"text-align: right;\">\n",
       "      <th></th>\n",
       "      <th>condition</th>\n",
       "      <th>category</th>\n",
       "      <th>distilgpt2_surprisal</th>\n",
       "      <th>delta_surprisal</th>\n",
       "      <th>score</th>\n",
       "      <th>error</th>\n",
       "      <th>delta_brainscore</th>\n",
       "    </tr>\n",
       "  </thead>\n",
       "  <tbody>\n",
       "    <tr>\n",
       "      <th>0</th>\n",
       "      <td>original</td>\n",
       "      <td>original</td>\n",
       "      <td>6.320380</td>\n",
       "      <td>0.000000</td>\n",
       "      <td>0.114158</td>\n",
       "      <td>0.014108</td>\n",
       "      <td>0.000000</td>\n",
       "    </tr>\n",
       "    <tr>\n",
       "      <th>1</th>\n",
       "      <td>scrambled1</td>\n",
       "      <td>scrambled</td>\n",
       "      <td>7.356871</td>\n",
       "      <td>-1.036491</td>\n",
       "      <td>0.109468</td>\n",
       "      <td>0.027480</td>\n",
       "      <td>-0.004690</td>\n",
       "    </tr>\n",
       "    <tr>\n",
       "      <th>2</th>\n",
       "      <td>scrambled3</td>\n",
       "      <td>scrambled</td>\n",
       "      <td>8.034630</td>\n",
       "      <td>-1.714250</td>\n",
       "      <td>0.127899</td>\n",
       "      <td>0.031377</td>\n",
       "      <td>0.013741</td>\n",
       "    </tr>\n",
       "    <tr>\n",
       "      <th>3</th>\n",
       "      <td>scrambled5</td>\n",
       "      <td>scrambled</td>\n",
       "      <td>8.447436</td>\n",
       "      <td>-2.127056</td>\n",
       "      <td>0.131302</td>\n",
       "      <td>0.032750</td>\n",
       "      <td>0.017144</td>\n",
       "    </tr>\n",
       "    <tr>\n",
       "      <th>4</th>\n",
       "      <td>scrambled7</td>\n",
       "      <td>scrambled</td>\n",
       "      <td>9.452005</td>\n",
       "      <td>-3.131625</td>\n",
       "      <td>0.122949</td>\n",
       "      <td>0.014808</td>\n",
       "      <td>0.008791</td>\n",
       "    </tr>\n",
       "    <tr>\n",
       "      <th>5</th>\n",
       "      <td>backward</td>\n",
       "      <td>scrambled</td>\n",
       "      <td>10.457505</td>\n",
       "      <td>-4.137125</td>\n",
       "      <td>0.091858</td>\n",
       "      <td>0.026818</td>\n",
       "      <td>-0.022300</td>\n",
       "    </tr>\n",
       "    <tr>\n",
       "      <th>6</th>\n",
       "      <td>lowpmi</td>\n",
       "      <td>scrambled</td>\n",
       "      <td>10.303523</td>\n",
       "      <td>-3.983143</td>\n",
       "      <td>0.108806</td>\n",
       "      <td>0.019992</td>\n",
       "      <td>-0.005352</td>\n",
       "    </tr>\n",
       "    <tr>\n",
       "      <th>7</th>\n",
       "      <td>random-wl</td>\n",
       "      <td>scrambled</td>\n",
       "      <td>11.098599</td>\n",
       "      <td>-4.778219</td>\n",
       "      <td>0.022733</td>\n",
       "      <td>0.009398</td>\n",
       "      <td>-0.091425</td>\n",
       "    </tr>\n",
       "    <tr>\n",
       "      <th>8</th>\n",
       "      <td>nouns</td>\n",
       "      <td>perturbed</td>\n",
       "      <td>14.699303</td>\n",
       "      <td>-8.378923</td>\n",
       "      <td>0.088090</td>\n",
       "      <td>0.040039</td>\n",
       "      <td>-0.026068</td>\n",
       "    </tr>\n",
       "    <tr>\n",
       "      <th>9</th>\n",
       "      <td>nounsverbs</td>\n",
       "      <td>perturbed</td>\n",
       "      <td>11.983525</td>\n",
       "      <td>-5.663145</td>\n",
       "      <td>0.093371</td>\n",
       "      <td>0.041543</td>\n",
       "      <td>-0.020787</td>\n",
       "    </tr>\n",
       "    <tr>\n",
       "      <th>10</th>\n",
       "      <td>nounsverbsadj</td>\n",
       "      <td>perturbed</td>\n",
       "      <td>11.153696</td>\n",
       "      <td>-4.833316</td>\n",
       "      <td>0.106439</td>\n",
       "      <td>0.026397</td>\n",
       "      <td>-0.007719</td>\n",
       "    </tr>\n",
       "    <tr>\n",
       "      <th>11</th>\n",
       "      <td>contentwords</td>\n",
       "      <td>perturbed</td>\n",
       "      <td>10.881341</td>\n",
       "      <td>-4.560962</td>\n",
       "      <td>0.103189</td>\n",
       "      <td>0.021178</td>\n",
       "      <td>-0.010969</td>\n",
       "    </tr>\n",
       "    <tr>\n",
       "      <th>12</th>\n",
       "      <td>functionwords</td>\n",
       "      <td>perturbed</td>\n",
       "      <td>12.082964</td>\n",
       "      <td>-5.762585</td>\n",
       "      <td>0.006877</td>\n",
       "      <td>0.010085</td>\n",
       "      <td>-0.107281</td>\n",
       "    </tr>\n",
       "  </tbody>\n",
       "</table>\n",
       "</div>"
      ],
      "text/plain": [
       "        condition   category  distilgpt2_surprisal  delta_surprisal     score  \\\n",
       "0        original   original              6.320380         0.000000  0.114158   \n",
       "1      scrambled1  scrambled              7.356871        -1.036491  0.109468   \n",
       "2      scrambled3  scrambled              8.034630        -1.714250  0.127899   \n",
       "3      scrambled5  scrambled              8.447436        -2.127056  0.131302   \n",
       "4      scrambled7  scrambled              9.452005        -3.131625  0.122949   \n",
       "5        backward  scrambled             10.457505        -4.137125  0.091858   \n",
       "6          lowpmi  scrambled             10.303523        -3.983143  0.108806   \n",
       "7       random-wl  scrambled             11.098599        -4.778219  0.022733   \n",
       "8           nouns  perturbed             14.699303        -8.378923  0.088090   \n",
       "9      nounsverbs  perturbed             11.983525        -5.663145  0.093371   \n",
       "10  nounsverbsadj  perturbed             11.153696        -4.833316  0.106439   \n",
       "11   contentwords  perturbed             10.881341        -4.560962  0.103189   \n",
       "12  functionwords  perturbed             12.082964        -5.762585  0.006877   \n",
       "\n",
       "       error  delta_brainscore  \n",
       "0   0.014108          0.000000  \n",
       "1   0.027480         -0.004690  \n",
       "2   0.031377          0.013741  \n",
       "3   0.032750          0.017144  \n",
       "4   0.014808          0.008791  \n",
       "5   0.026818         -0.022300  \n",
       "6   0.019992         -0.005352  \n",
       "7   0.009398         -0.091425  \n",
       "8   0.040039         -0.026068  \n",
       "9   0.041543         -0.020787  \n",
       "10  0.026397         -0.007719  \n",
       "11  0.021178         -0.010969  \n",
       "12  0.010085         -0.107281  "
      ]
     },
     "execution_count": 70,
     "metadata": {},
     "output_type": "execute_result"
    }
   ],
   "source": [
    "plot_df = surprisal_df.merge(scores_df, how='inner', on='condition')\n",
    "plot_df"
   ]
  },
  {
   "cell_type": "code",
   "execution_count": 71,
   "id": "edc2e554",
   "metadata": {},
   "outputs": [
    {
     "name": "stdout",
     "output_type": "stream",
     "text": [
      "Correlation: 0.508369743733939\n"
     ]
    },
    {
     "data": {
      "image/png": "[encoded data removed]",
      "text/plain": [
       "<Figure size 432x288 with 1 Axes>"
      ]
     },
     "metadata": {
      "needs_background": "light"
     },
     "output_type": "display_data"
    }
   ],
   "source": [
    "print(f\"Correlation: {plot_df['delta_surprisal'].corr(plot_df['delta_brainscore'])}\")\n",
    "sns.regplot(x=\"delta_surprisal\", y=\"delta_brainscore\", data=plot_df)\n",
    "plt.show()"
   ]
  },
  {
   "cell_type": "code",
   "execution_count": 72,
   "id": "622790a9",
   "metadata": {},
   "outputs": [
    {
     "data": {
      "application/vnd.plotly.v1+json": {
       "config": {
        "plotlyServerURL": "https://plot.ly"
       },
       "data": [
        {
         "customdata": [
          [
           "original"
          ]
         ],
         "hovertemplate": "category=original<br>delta_surprisal=%{x}<br>delta_brainscore=%{y}<br>error=%{marker.size}<br>condition=%{customdata[0]}<extra></extra>",
         "legendgroup": "original",
         "marker": {
          "color": "#636efa",
          "size": [
           0.014108128340897638
          ],
          "sizemode": "area",
          "sizeref": 0.00010385778259258426,
          "symbol": "circle"
         },
         "mode": "markers",
         "name": "original",
         "orientation": "v",
         "showlegend": true,
         "type": "scatter",
         "x": [
          0
         ],
         "xaxis": "x",
         "y": [
          0
         ],
         "yaxis": "y"
        },
        {
         "hovertemplate": "category=original<extra></extra>",
         "legendgroup": "original",
         "marker": {
          "color": "#636efa",
          "symbol": "circle"
         },
         "mode": "lines",
         "name": "original",
         "showlegend": false,
         "type": "scatter",
         "xaxis": "x",
         "yaxis": "y"
        },
        {
         "customdata": [
          [
           "scrambled1"
          ],
          [
           "scrambled3"
          ],
          [
           "scrambled5"
          ],
          [
           "scrambled7"
          ],
          [
           "backward"
          ],
          [
           "lowpmi"
          ],
          [
           "random-wl"
          ]
         ],
         "hovertemplate": "category=scrambled<br>delta_surprisal=%{x}<br>delta_brainscore=%{y}<br>error=%{marker.size}<br>condition=%{customdata[0]}<extra></extra>",
         "legendgroup": "scrambled",
         "marker": {
          "color": "#EF553B",
          "size": [
           0.027480477056372406,
           0.03137697219149187,
           0.0327504171122044,
           0.014808349941720087,
           0.02681793008807833,
           0.01999174764423606,
           0.0093981843205503
          ],
          "sizemode": "area",
          "sizeref": 0.00010385778259258426,
          "symbol": "circle"
         },
         "mode": "markers",
         "name": "scrambled",
         "orientation": "v",
         "showlegend": true,
         "type": "scatter",
         "x": [
          -1.0364911758566615,
          -1.7142498301533182,
          -2.1270561056691326,
          -3.131624882600467,
          -4.137124909418193,
          -3.9831434051325223,
          -4.77821887959833
         ],
         "xaxis": "x",
         "y": [
          -0.004690402166464075,
          0.013741187971805874,
          0.017144421781761343,
          0.008790783073695282,
          -0.02230037464028352,
          -0.0053516565465124705,
          -0.09142534977458971
         ],
         "yaxis": "y"
        },
        {
         "hovertemplate": "<b>OLS trendline</b><br>delta_brainscore = 0.0184968 * delta_surprisal + 0.0432341<br>R<sup>2</sup>=0.473703<br><br>category=scrambled<br>delta_surprisal=%{x}<br>delta_brainscore=%{y} <b>(trend)</b><extra></extra>",
         "legendgroup": "scrambled",
         "marker": {
          "color": "#EF553B",
          "symbol": "circle"
         },
         "mode": "lines",
         "name": "scrambled",
         "showlegend": false,
         "type": "scatter",
         "x": [
          -4.77821887959833,
          -4.137124909418193,
          -3.9831434051325223,
          -3.131624882600467,
          -2.1270561056691326,
          -1.7142498301533182,
          -1.0364911758566615
         ],
         "xaxis": "x",
         "y": [
          -0.04514781961356368,
          -0.03328960971746581,
          -0.030441439117103855,
          -0.014691040828748343,
          0.0038903028837356662,
          0.011525912777426421,
          0.024062303315132358
         ],
         "yaxis": "y"
        },
        {
         "customdata": [
          [
           "nouns"
          ],
          [
           "nounsverbs"
          ],
          [
           "nounsverbsadj"
          ],
          [
           "contentwords"
          ],
          [
           "functionwords"
          ]
         ],
         "hovertemplate": "category=perturbed<br>delta_surprisal=%{x}<br>delta_brainscore=%{y}<br>error=%{marker.size}<br>condition=%{customdata[0]}<extra></extra>",
         "legendgroup": "perturbed",
         "marker": {
          "color": "#00cc96",
          "size": [
           0.04003924178001509,
           0.0415431130370337,
           0.02639720680247495,
           0.02117784472566421,
           0.010084823839703076
          ],
          "sizemode": "area",
          "sizeref": 0.00010385778259258426,
          "symbol": "circle"
         },
         "mode": "markers",
         "name": "perturbed",
         "orientation": "v",
         "showlegend": true,
         "type": "scatter",
         "x": [
          -8.378922893062217,
          -5.663145182598217,
          -4.833315843889086,
          -4.560961507420866,
          -5.762584607163585
         ],
         "xaxis": "x",
         "y": [
          -0.026068401231526622,
          -0.02078730074308327,
          -0.0077186804769805994,
          -0.010968824627468371,
          -0.10728080961309909
         ],
         "yaxis": "y"
        },
        {
         "hovertemplate": "<b>OLS trendline</b><br>delta_brainscore = 0.00355219 * delta_surprisal + -0.0138208<br>R<sup>2</sup>=0.016879<br><br>category=perturbed<br>delta_surprisal=%{x}<br>delta_brainscore=%{y} <b>(trend)</b><extra></extra>",
         "legendgroup": "perturbed",
         "marker": {
          "color": "#00cc96",
          "symbol": "circle"
         },
         "mode": "lines",
         "name": "perturbed",
         "showlegend": false,
         "type": "scatter",
         "x": [
          -8.378922893062217,
          -5.762584607163585,
          -5.663145182598217,
          -4.833315843889086,
          -4.560961507420866
         ],
         "xaxis": "x",
         "y": [
          -0.04358430815141046,
          -0.034290569050549856,
          -0.03393734100155052,
          -0.030989626857026803,
          -0.030022171631620326
         ],
         "yaxis": "y"
        }
       ],
       "layout": {
        "legend": {
         "itemsizing": "constant",
         "title": {
          "text": "category"
         },
         "tracegroupgap": 0
        },
        "margin": {
         "t": 60
        },
        "template": {
         "data": {
          "bar": [
           {
            "error_x": {
             "color": "#2a3f5f"
            },
            "error_y": {
             "color": "#2a3f5f"
            },
            "marker": {
             "line": {
              "color": "#E5ECF6",
              "width": 0.5
             },
             "pattern": {
              "fillmode": "overlay",
              "size": 10,
              "solidity": 0.2
             }
            },
            "type": "bar"
           }
          ],
          "barpolar": [
           {
            "marker": {
             "line": {
              "color": "#E5ECF6",
              "width": 0.5
             },
             "pattern": {
              "fillmode": "overlay",
              "size": 10,
              "solidity": 0.2
             }
            },
            "type": "barpolar"
           }
          ],
          "carpet": [
           {
            "aaxis": {
             "endlinecolor": "#2a3f5f",
             "gridcolor": "white",
             "linecolor": "white",
             "minorgridcolor": "white",
             "startlinecolor": "#2a3f5f"
            },
            "baxis": {
             "endlinecolor": "#2a3f5f",
             "gridcolor": "white",
             "linecolor": "white",
             "minorgridcolor": "white",
             "startlinecolor": "#2a3f5f"
            },
            "type": "carpet"
           }
          ],
          "choropleth": [
           {
            "colorbar": {
             "outlinewidth": 0,
             "ticks": ""
            },
            "type": "choropleth"
           }
          ],
          "contour": [
           {
            "colorbar": {
             "outlinewidth": 0,
             "ticks": ""
            },
            "colorscale": [
             [
              0,
              "#0d0887"
             ],
             [
              0.1111111111111111,
              "#46039f"
             ],
             [
              0.2222222222222222,
              "#7201a8"
             ],
             [
              0.3333333333333333,
              "#9c179e"
             ],
             [
              0.4444444444444444,
              "#bd3786"
             ],
             [
              0.5555555555555556,
              "#d8576b"
             ],
             [
              0.6666666666666666,
              "#ed7953"
             ],
             [
              0.7777777777777778,
              "#fb9f3a"
             ],
             [
              0.8888888888888888,
              "#fdca26"
             ],
             [
              1,
              "#f0f921"
             ]
            ],
            "type": "contour"
           }
          ],
          "contourcarpet": [
           {
            "colorbar": {
             "outlinewidth": 0,
             "ticks": ""
            },
            "type": "contourcarpet"
           }
          ],
          "heatmap": [
           {
            "colorbar": {
             "outlinewidth": 0,
             "ticks": ""
            },
            "colorscale": [
             [
              0,
              "#0d0887"
             ],
             [
              0.1111111111111111,
              "#46039f"
             ],
             [
              0.2222222222222222,
              "#7201a8"
             ],
             [
              0.3333333333333333,
              "#9c179e"
             ],
             [
              0.4444444444444444,
              "#bd3786"
             ],
             [
              0.5555555555555556,
              "#d8576b"
             ],
             [
              0.6666666666666666,
              "#ed7953"
             ],
             [
              0.7777777777777778,
              "#fb9f3a"
             ],
             [
              0.8888888888888888,
              "#fdca26"
             ],
             [
              1,
              "#f0f921"
             ]
            ],
            "type": "heatmap"
           }
          ],
          "heatmapgl": [
           {
            "colorbar": {
             "outlinewidth": 0,
             "ticks": ""
            },
            "colorscale": [
             [
              0,
              "#0d0887"
             ],
             [
              0.1111111111111111,
              "#46039f"
             ],
             [
              0.2222222222222222,
              "#7201a8"
             ],
             [
              0.3333333333333333,
              "#9c179e"
             ],
             [
              0.4444444444444444,
              "#bd3786"
             ],
             [
              0.5555555555555556,
              "#d8576b"
             ],
             [
              0.6666666666666666,
              "#ed7953"
             ],
             [
              0.7777777777777778,
              "#fb9f3a"
             ],
             [
              0.8888888888888888,
              "#fdca26"
             ],
             [
              1,
              "#f0f921"
             ]
            ],
            "type": "heatmapgl"
           }
          ],
          "histogram": [
           {
            "marker": {
             "pattern": {
              "fillmode": "overlay",
              "size": 10,
              "solidity": 0.2
             }
            },
            "type": "histogram"
           }
          ],
          "histogram2d": [
           {
            "colorbar": {
             "outlinewidth": 0,
             "ticks": ""
            },
            "colorscale": [
             [
              0,
              "#0d0887"
             ],
             [
              0.1111111111111111,
              "#46039f"
             ],
             [
              0.2222222222222222,
              "#7201a8"
             ],
             [
              0.3333333333333333,
              "#9c179e"
             ],
             [
              0.4444444444444444,
              "#bd3786"
             ],
             [
              0.5555555555555556,
              "#d8576b"
             ],
             [
              0.6666666666666666,
              "#ed7953"
             ],
             [
              0.7777777777777778,
              "#fb9f3a"
             ],
             [
              0.8888888888888888,
              "#fdca26"
             ],
             [
              1,
              "#f0f921"
             ]
            ],
            "type": "histogram2d"
           }
          ],
          "histogram2dcontour": [
           {
            "colorbar": {
             "outlinewidth": 0,
             "ticks": ""
            },
            "colorscale": [
             [
              0,
              "#0d0887"
             ],
             [
              0.1111111111111111,
              "#46039f"
             ],
             [
              0.2222222222222222,
              "#7201a8"
             ],
             [
              0.3333333333333333,
              "#9c179e"
             ],
             [
              0.4444444444444444,
              "#bd3786"
             ],
             [
              0.5555555555555556,
              "#d8576b"
             ],
             [
              0.6666666666666666,
              "#ed7953"
             ],
             [
              0.7777777777777778,
              "#fb9f3a"
             ],
             [
              0.8888888888888888,
              "#fdca26"
             ],
             [
              1,
              "#f0f921"
             ]
            ],
            "type": "histogram2dcontour"
           }
          ],
          "mesh3d": [
           {
            "colorbar": {
             "outlinewidth": 0,
             "ticks": ""
            },
            "type": "mesh3d"
           }
          ],
          "parcoords": [
           {
            "line": {
             "colorbar": {
              "outlinewidth": 0,
              "ticks": ""
             }
            },
            "type": "parcoords"
           }
          ],
          "pie": [
           {
            "automargin": true,
            "type": "pie"
           }
          ],
          "scatter": [
           {
            "fillpattern": {
             "fillmode": "overlay",
             "size": 10,
             "solidity": 0.2
            },
            "type": "scatter"
           }
          ],
          "scatter3d": [
           {
            "line": {
             "colorbar": {
              "outlinewidth": 0,
              "ticks": ""
             }
            },
            "marker": {
             "colorbar": {
              "outlinewidth": 0,
              "ticks": ""
             }
            },
            "type": "scatter3d"
           }
          ],
          "scattercarpet": [
           {
            "marker": {
             "colorbar": {
              "outlinewidth": 0,
              "ticks": ""
             }
            },
            "type": "scattercarpet"
           }
          ],
          "scattergeo": [
           {
            "marker": {
             "colorbar": {
              "outlinewidth": 0,
              "ticks": ""
             }
            },
            "type": "scattergeo"
           }
          ],
          "scattergl": [
           {
            "marker": {
             "colorbar": {
              "outlinewidth": 0,
              "ticks": ""
             }
            },
            "type": "scattergl"
           }
          ],
          "scattermapbox": [
           {
            "marker": {
             "colorbar": {
              "outlinewidth": 0,
              "ticks": ""
             }
            },
            "type": "scattermapbox"
           }
          ],
          "scatterpolar": [
           {
            "marker": {
             "colorbar": {
              "outlinewidth": 0,
              "ticks": ""
             }
            },
            "type": "scatterpolar"
           }
          ],
          "scatterpolargl": [
           {
            "marker": {
             "colorbar": {
              "outlinewidth": 0,
              "ticks": ""
             }
            },
            "type": "scatterpolargl"
           }
          ],
          "scatterternary": [
           {
            "marker": {
             "colorbar": {
              "outlinewidth": 0,
              "ticks": ""
             }
            },
            "type": "scatterternary"
           }
          ],
          "surface": [
           {
            "colorbar": {
             "outlinewidth": 0,
             "ticks": ""
            },
            "colorscale": [
             [
              0,
              "#0d0887"
             ],
             [
              0.1111111111111111,
              "#46039f"
             ],
             [
              0.2222222222222222,
              "#7201a8"
             ],
             [
              0.3333333333333333,
              "#9c179e"
             ],
             [
              0.4444444444444444,
              "#bd3786"
             ],
             [
              0.5555555555555556,
              "#d8576b"
             ],
             [
              0.6666666666666666,
              "#ed7953"
             ],
             [
              0.7777777777777778,
              "#fb9f3a"
             ],
             [
              0.8888888888888888,
              "#fdca26"
             ],
             [
              1,
              "#f0f921"
             ]
            ],
            "type": "surface"
           }
          ],
          "table": [
           {
            "cells": {
             "fill": {
              "color": "#EBF0F8"
             },
             "line": {
              "color": "white"
             }
            },
            "header": {
             "fill": {
              "color": "#C8D4E3"
             },
             "line": {
              "color": "white"
             }
            },
            "type": "table"
           }
          ]
         },
         "layout": {
          "annotationdefaults": {
           "arrowcolor": "#2a3f5f",
           "arrowhead": 0,
           "arrowwidth": 1
          },
          "autotypenumbers": "strict",
          "coloraxis": {
           "colorbar": {
            "outlinewidth": 0,
            "ticks": ""
           }
          },
          "colorscale": {
           "diverging": [
            [
             0,
             "#8e0152"
            ],
            [
             0.1,
             "#c51b7d"
            ],
            [
             0.2,
             "#de77ae"
            ],
            [
             0.3,
             "#f1b6da"
            ],
            [
             0.4,
             "#fde0ef"
            ],
            [
             0.5,
             "#f7f7f7"
            ],
            [
             0.6,
             "#e6f5d0"
            ],
            [
             0.7,
             "#b8e186"
            ],
            [
             0.8,
             "#7fbc41"
            ],
            [
             0.9,
             "#4d9221"
            ],
            [
             1,
             "#276419"
            ]
           ],
           "sequential": [
            [
             0,
             "#0d0887"
            ],
            [
             0.1111111111111111,
             "#46039f"
            ],
            [
             0.2222222222222222,
             "#7201a8"
            ],
            [
             0.3333333333333333,
             "#9c179e"
            ],
            [
             0.4444444444444444,
             "#bd3786"
            ],
            [
             0.5555555555555556,
             "#d8576b"
            ],
            [
             0.6666666666666666,
             "#ed7953"
            ],
            [
             0.7777777777777778,
             "#fb9f3a"
            ],
            [
             0.8888888888888888,
             "#fdca26"
            ],
            [
             1,
             "#f0f921"
            ]
           ],
           "sequentialminus": [
            [
             0,
             "#0d0887"
            ],
            [
             0.1111111111111111,
             "#46039f"
            ],
            [
             0.2222222222222222,
             "#7201a8"
            ],
            [
             0.3333333333333333,
             "#9c179e"
            ],
            [
             0.4444444444444444,
             "#bd3786"
            ],
            [
             0.5555555555555556,
             "#d8576b"
            ],
            [
             0.6666666666666666,
             "#ed7953"
            ],
            [
             0.7777777777777778,
             "#fb9f3a"
            ],
            [
             0.8888888888888888,
             "#fdca26"
            ],
            [
             1,
             "#f0f921"
            ]
           ]
          },
          "colorway": [
           "#636efa",
           "#EF553B",
           "#00cc96",
           "#ab63fa",
           "#FFA15A",
           "#19d3f3",
           "#FF6692",
           "#B6E880",
           "#FF97FF",
           "#FECB52"
          ],
          "font": {
           "color": "#2a3f5f"
          },
          "geo": {
           "bgcolor": "white",
           "lakecolor": "white",
           "landcolor": "#E5ECF6",
           "showlakes": true,
           "showland": true,
           "subunitcolor": "white"
          },
          "hoverlabel": {
           "align": "left"
          },
          "hovermode": "closest",
          "mapbox": {
           "style": "light"
          },
          "paper_bgcolor": "white",
          "plot_bgcolor": "#E5ECF6",
          "polar": {
           "angularaxis": {
            "gridcolor": "white",
            "linecolor": "white",
            "ticks": ""
           },
           "bgcolor": "#E5ECF6",
           "radialaxis": {
            "gridcolor": "white",
            "linecolor": "white",
            "ticks": ""
           }
          },
          "scene": {
           "xaxis": {
            "backgroundcolor": "#E5ECF6",
            "gridcolor": "white",
            "gridwidth": 2,
            "linecolor": "white",
            "showbackground": true,
            "ticks": "",
            "zerolinecolor": "white"
           },
           "yaxis": {
            "backgroundcolor": "#E5ECF6",
            "gridcolor": "white",
            "gridwidth": 2,
            "linecolor": "white",
            "showbackground": true,
            "ticks": "",
            "zerolinecolor": "white"
           },
           "zaxis": {
            "backgroundcolor": "#E5ECF6",
            "gridcolor": "white",
            "gridwidth": 2,
            "linecolor": "white",
            "showbackground": true,
            "ticks": "",
            "zerolinecolor": "white"
           }
          },
          "shapedefaults": {
           "line": {
            "color": "#2a3f5f"
           }
          },
          "ternary": {
           "aaxis": {
            "gridcolor": "white",
            "linecolor": "white",
            "ticks": ""
           },
           "baxis": {
            "gridcolor": "white",
            "linecolor": "white",
            "ticks": ""
           },
           "bgcolor": "#E5ECF6",
           "caxis": {
            "gridcolor": "white",
            "linecolor": "white",
            "ticks": ""
           }
          },
          "title": {
           "x": 0.05
          },
          "xaxis": {
           "automargin": true,
           "gridcolor": "white",
           "linecolor": "white",
           "ticks": "",
           "title": {
            "standoff": 15
           },
           "zerolinecolor": "white",
           "zerolinewidth": 2
          },
          "yaxis": {
           "automargin": true,
           "gridcolor": "white",
           "linecolor": "white",
           "ticks": "",
           "title": {
            "standoff": 15
           },
           "zerolinecolor": "white",
           "zerolinewidth": 2
          }
         }
        },
        "xaxis": {
         "anchor": "y",
         "domain": [
          0,
          1
         ],
         "title": {
          "text": "delta_surprisal"
         }
        },
        "yaxis": {
         "anchor": "x",
         "domain": [
          0,
          1
         ],
         "title": {
          "text": "delta_brainscore"
         }
        }
       }
      },
      "text/html": [
       "<div>                            <div id=\"a8d93afe-e43c-4dfd-91ff-42b4c7080e61\" class=\"plotly-graph-div\" style=\"height:525px; width:100%;\"></div>            <script type=\"text/javascript\">                require([\"plotly\"], function(Plotly) {                    window.PLOTLYENV=window.PLOTLYENV || {};                                    if (document.getElementById(\"a8d93afe-e43c-4dfd-91ff-42b4c7080e61\")) {                    Plotly.newPlot(                        \"a8d93afe-e43c-4dfd-91ff-42b4c7080e61\",                        [{\"customdata\":[[\"original\"]],\"hovertemplate\":\"category=original<br>delta_surprisal=%{x}<br>delta_brainscore=%{y}<br>error=%{marker.size}<br>condition=%{customdata[0]}<extra></extra>\",\"legendgroup\":\"original\",\"marker\":{\"color\":\"#636efa\",\"size\":[0.014108128340897638],\"sizemode\":\"area\",\"sizeref\":0.00010385778259258426,\"symbol\":\"circle\"},\"mode\":\"markers\",\"name\":\"original\",\"orientation\":\"v\",\"showlegend\":true,\"x\":[0.0],\"xaxis\":\"x\",\"y\":[0.0],\"yaxis\":\"y\",\"type\":\"scatter\"},{\"hovertemplate\":\"category=original<extra></extra>\",\"legendgroup\":\"original\",\"marker\":{\"color\":\"#636efa\",\"symbol\":\"circle\"},\"mode\":\"lines\",\"name\":\"original\",\"showlegend\":false,\"xaxis\":\"x\",\"yaxis\":\"y\",\"type\":\"scatter\"},{\"customdata\":[[\"scrambled1\"],[\"scrambled3\"],[\"scrambled5\"],[\"scrambled7\"],[\"backward\"],[\"lowpmi\"],[\"random-wl\"]],\"hovertemplate\":\"category=scrambled<br>delta_surprisal=%{x}<br>delta_brainscore=%{y}<br>error=%{marker.size}<br>condition=%{customdata[0]}<extra></extra>\",\"legendgroup\":\"scrambled\",\"marker\":{\"color\":\"#EF553B\",\"size\":[0.027480477056372406,0.03137697219149187,0.0327504171122044,0.014808349941720087,0.02681793008807833,0.01999174764423606,0.0093981843205503],\"sizemode\":\"area\",\"sizeref\":0.00010385778259258426,\"symbol\":\"circle\"},\"mode\":\"markers\",\"name\":\"scrambled\",\"orientation\":\"v\",\"showlegend\":true,\"x\":[-1.0364911758566615,-1.7142498301533182,-2.1270561056691326,-3.131624882600467,-4.137124909418193,-3.9831434051325223,-4.77821887959833],\"xaxis\":\"x\",\"y\":[-0.004690402166464075,0.013741187971805874,0.017144421781761343,0.008790783073695282,-0.02230037464028352,-0.0053516565465124705,-0.09142534977458971],\"yaxis\":\"y\",\"type\":\"scatter\"},{\"hovertemplate\":\"<b>OLS trendline</b><br>delta_brainscore = 0.0184968 * delta_surprisal + 0.0432341<br>R<sup>2</sup>=0.473703<br><br>category=scrambled<br>delta_surprisal=%{x}<br>delta_brainscore=%{y} <b>(trend)</b><extra></extra>\",\"legendgroup\":\"scrambled\",\"marker\":{\"color\":\"#EF553B\",\"symbol\":\"circle\"},\"mode\":\"lines\",\"name\":\"scrambled\",\"showlegend\":false,\"x\":[-4.77821887959833,-4.137124909418193,-3.9831434051325223,-3.131624882600467,-2.1270561056691326,-1.7142498301533182,-1.0364911758566615],\"xaxis\":\"x\",\"y\":[-0.04514781961356368,-0.03328960971746581,-0.030441439117103855,-0.014691040828748343,0.0038903028837356662,0.011525912777426421,0.024062303315132358],\"yaxis\":\"y\",\"type\":\"scatter\"},{\"customdata\":[[\"nouns\"],[\"nounsverbs\"],[\"nounsverbsadj\"],[\"contentwords\"],[\"functionwords\"]],\"hovertemplate\":\"category=perturbed<br>delta_surprisal=%{x}<br>delta_brainscore=%{y}<br>error=%{marker.size}<br>condition=%{customdata[0]}<extra></extra>\",\"legendgroup\":\"perturbed\",\"marker\":{\"color\":\"#00cc96\",\"size\":[0.04003924178001509,0.0415431130370337,0.02639720680247495,0.02117784472566421,0.010084823839703076],\"sizemode\":\"area\",\"sizeref\":0.00010385778259258426,\"symbol\":\"circle\"},\"mode\":\"markers\",\"name\":\"perturbed\",\"orientation\":\"v\",\"showlegend\":true,\"x\":[-8.378922893062217,-5.663145182598217,-4.833315843889086,-4.560961507420866,-5.762584607163585],\"xaxis\":\"x\",\"y\":[-0.026068401231526622,-0.02078730074308327,-0.0077186804769805994,-0.010968824627468371,-0.10728080961309909],\"yaxis\":\"y\",\"type\":\"scatter\"},{\"hovertemplate\":\"<b>OLS trendline</b><br>delta_brainscore = 0.00355219 * delta_surprisal + -0.0138208<br>R<sup>2</sup>=0.016879<br><br>category=perturbed<br>delta_surprisal=%{x}<br>delta_brainscore=%{y} <b>(trend)</b><extra></extra>\",\"legendgroup\":\"perturbed\",\"marker\":{\"color\":\"#00cc96\",\"symbol\":\"circle\"},\"mode\":\"lines\",\"name\":\"perturbed\",\"showlegend\":false,\"x\":[-8.378922893062217,-5.762584607163585,-5.663145182598217,-4.833315843889086,-4.560961507420866],\"xaxis\":\"x\",\"y\":[-0.04358430815141046,-0.034290569050549856,-0.03393734100155052,-0.030989626857026803,-0.030022171631620326],\"yaxis\":\"y\",\"type\":\"scatter\"}],                        {\"template\":{\"data\":{\"histogram2dcontour\":[{\"type\":\"histogram2dcontour\",\"colorbar\":{\"outlinewidth\":0,\"ticks\":\"\"},\"colorscale\":[[0.0,\"#0d0887\"],[0.1111111111111111,\"#46039f\"],[0.2222222222222222,\"#7201a8\"],[0.3333333333333333,\"#9c179e\"],[0.4444444444444444,\"#bd3786\"],[0.5555555555555556,\"#d8576b\"],[0.6666666666666666,\"#ed7953\"],[0.7777777777777778,\"#fb9f3a\"],[0.8888888888888888,\"#fdca26\"],[1.0,\"#f0f921\"]]}],\"choropleth\":[{\"type\":\"choropleth\",\"colorbar\":{\"outlinewidth\":0,\"ticks\":\"\"}}],\"histogram2d\":[{\"type\":\"histogram2d\",\"colorbar\":{\"outlinewidth\":0,\"ticks\":\"\"},\"colorscale\":[[0.0,\"#0d0887\"],[0.1111111111111111,\"#46039f\"],[0.2222222222222222,\"#7201a8\"],[0.3333333333333333,\"#9c179e\"],[0.4444444444444444,\"#bd3786\"],[0.5555555555555556,\"#d8576b\"],[0.6666666666666666,\"#ed7953\"],[0.7777777777777778,\"#fb9f3a\"],[0.8888888888888888,\"#fdca26\"],[1.0,\"#f0f921\"]]}],\"heatmap\":[{\"type\":\"heatmap\",\"colorbar\":{\"outlinewidth\":0,\"ticks\":\"\"},\"colorscale\":[[0.0,\"#0d0887\"],[0.1111111111111111,\"#46039f\"],[0.2222222222222222,\"#7201a8\"],[0.3333333333333333,\"#9c179e\"],[0.4444444444444444,\"#bd3786\"],[0.5555555555555556,\"#d8576b\"],[0.6666666666666666,\"#ed7953\"],[0.7777777777777778,\"#fb9f3a\"],[0.8888888888888888,\"#fdca26\"],[1.0,\"#f0f921\"]]}],\"heatmapgl\":[{\"type\":\"heatmapgl\",\"colorbar\":{\"outlinewidth\":0,\"ticks\":\"\"},\"colorscale\":[[0.0,\"#0d0887\"],[0.1111111111111111,\"#46039f\"],[0.2222222222222222,\"#7201a8\"],[0.3333333333333333,\"#9c179e\"],[0.4444444444444444,\"#bd3786\"],[0.5555555555555556,\"#d8576b\"],[0.6666666666666666,\"#ed7953\"],[0.7777777777777778,\"#fb9f3a\"],[0.8888888888888888,\"#fdca26\"],[1.0,\"#f0f921\"]]}],\"contourcarpet\":[{\"type\":\"contourcarpet\",\"colorbar\":{\"outlinewidth\":0,\"ticks\":\"\"}}],\"contour\":[{\"type\":\"contour\",\"colorbar\":{\"outlinewidth\":0,\"ticks\":\"\"},\"colorscale\":[[0.0,\"#0d0887\"],[0.1111111111111111,\"#46039f\"],[0.2222222222222222,\"#7201a8\"],[0.3333333333333333,\"#9c179e\"],[0.4444444444444444,\"#bd3786\"],[0.5555555555555556,\"#d8576b\"],[0.6666666666666666,\"#ed7953\"],[0.7777777777777778,\"#fb9f3a\"],[0.8888888888888888,\"#fdca26\"],[1.0,\"#f0f921\"]]}],\"surface\":[{\"type\":\"surface\",\"colorbar\":{\"outlinewidth\":0,\"ticks\":\"\"},\"colorscale\":[[0.0,\"#0d0887\"],[0.1111111111111111,\"#46039f\"],[0.2222222222222222,\"#7201a8\"],[0.3333333333333333,\"#9c179e\"],[0.4444444444444444,\"#bd3786\"],[0.5555555555555556,\"#d8576b\"],[0.6666666666666666,\"#ed7953\"],[0.7777777777777778,\"#fb9f3a\"],[0.8888888888888888,\"#fdca26\"],[1.0,\"#f0f921\"]]}],\"mesh3d\":[{\"type\":\"mesh3d\",\"colorbar\":{\"outlinewidth\":0,\"ticks\":\"\"}}],\"scatter\":[{\"fillpattern\":{\"fillmode\":\"overlay\",\"size\":10,\"solidity\":0.2},\"type\":\"scatter\"}],\"parcoords\":[{\"type\":\"parcoords\",\"line\":{\"colorbar\":{\"outlinewidth\":0,\"ticks\":\"\"}}}],\"scatterpolargl\":[{\"type\":\"scatterpolargl\",\"marker\":{\"colorbar\":{\"outlinewidth\":0,\"ticks\":\"\"}}}],\"bar\":[{\"error_x\":{\"color\":\"#2a3f5f\"},\"error_y\":{\"color\":\"#2a3f5f\"},\"marker\":{\"line\":{\"color\":\"#E5ECF6\",\"width\":0.5},\"pattern\":{\"fillmode\":\"overlay\",\"size\":10,\"solidity\":0.2}},\"type\":\"bar\"}],\"scattergeo\":[{\"type\":\"scattergeo\",\"marker\":{\"colorbar\":{\"outlinewidth\":0,\"ticks\":\"\"}}}],\"scatterpolar\":[{\"type\":\"scatterpolar\",\"marker\":{\"colorbar\":{\"outlinewidth\":0,\"ticks\":\"\"}}}],\"histogram\":[{\"marker\":{\"pattern\":{\"fillmode\":\"overlay\",\"size\":10,\"solidity\":0.2}},\"type\":\"histogram\"}],\"scattergl\":[{\"type\":\"scattergl\",\"marker\":{\"colorbar\":{\"outlinewidth\":0,\"ticks\":\"\"}}}],\"scatter3d\":[{\"type\":\"scatter3d\",\"line\":{\"colorbar\":{\"outlinewidth\":0,\"ticks\":\"\"}},\"marker\":{\"colorbar\":{\"outlinewidth\":0,\"ticks\":\"\"}}}],\"scattermapbox\":[{\"type\":\"scattermapbox\",\"marker\":{\"colorbar\":{\"outlinewidth\":0,\"ticks\":\"\"}}}],\"scatterternary\":[{\"type\":\"scatterternary\",\"marker\":{\"colorbar\":{\"outlinewidth\":0,\"ticks\":\"\"}}}],\"scattercarpet\":[{\"type\":\"scattercarpet\",\"marker\":{\"colorbar\":{\"outlinewidth\":0,\"ticks\":\"\"}}}],\"carpet\":[{\"aaxis\":{\"endlinecolor\":\"#2a3f5f\",\"gridcolor\":\"white\",\"linecolor\":\"white\",\"minorgridcolor\":\"white\",\"startlinecolor\":\"#2a3f5f\"},\"baxis\":{\"endlinecolor\":\"#2a3f5f\",\"gridcolor\":\"white\",\"linecolor\":\"white\",\"minorgridcolor\":\"white\",\"startlinecolor\":\"#2a3f5f\"},\"type\":\"carpet\"}],\"table\":[{\"cells\":{\"fill\":{\"color\":\"#EBF0F8\"},\"line\":{\"color\":\"white\"}},\"header\":{\"fill\":{\"color\":\"#C8D4E3\"},\"line\":{\"color\":\"white\"}},\"type\":\"table\"}],\"barpolar\":[{\"marker\":{\"line\":{\"color\":\"#E5ECF6\",\"width\":0.5},\"pattern\":{\"fillmode\":\"overlay\",\"size\":10,\"solidity\":0.2}},\"type\":\"barpolar\"}],\"pie\":[{\"automargin\":true,\"type\":\"pie\"}]},\"layout\":{\"autotypenumbers\":\"strict\",\"colorway\":[\"#636efa\",\"#EF553B\",\"#00cc96\",\"#ab63fa\",\"#FFA15A\",\"#19d3f3\",\"#FF6692\",\"#B6E880\",\"#FF97FF\",\"#FECB52\"],\"font\":{\"color\":\"#2a3f5f\"},\"hovermode\":\"closest\",\"hoverlabel\":{\"align\":\"left\"},\"paper_bgcolor\":\"white\",\"plot_bgcolor\":\"#E5ECF6\",\"polar\":{\"bgcolor\":\"#E5ECF6\",\"angularaxis\":{\"gridcolor\":\"white\",\"linecolor\":\"white\",\"ticks\":\"\"},\"radialaxis\":{\"gridcolor\":\"white\",\"linecolor\":\"white\",\"ticks\":\"\"}},\"ternary\":{\"bgcolor\":\"#E5ECF6\",\"aaxis\":{\"gridcolor\":\"white\",\"linecolor\":\"white\",\"ticks\":\"\"},\"baxis\":{\"gridcolor\":\"white\",\"linecolor\":\"white\",\"ticks\":\"\"},\"caxis\":{\"gridcolor\":\"white\",\"linecolor\":\"white\",\"ticks\":\"\"}},\"coloraxis\":{\"colorbar\":{\"outlinewidth\":0,\"ticks\":\"\"}},\"colorscale\":{\"sequential\":[[0.0,\"#0d0887\"],[0.1111111111111111,\"#46039f\"],[0.2222222222222222,\"#7201a8\"],[0.3333333333333333,\"#9c179e\"],[0.4444444444444444,\"#bd3786\"],[0.5555555555555556,\"#d8576b\"],[0.6666666666666666,\"#ed7953\"],[0.7777777777777778,\"#fb9f3a\"],[0.8888888888888888,\"#fdca26\"],[1.0,\"#f0f921\"]],\"sequentialminus\":[[0.0,\"#0d0887\"],[0.1111111111111111,\"#46039f\"],[0.2222222222222222,\"#7201a8\"],[0.3333333333333333,\"#9c179e\"],[0.4444444444444444,\"#bd3786\"],[0.5555555555555556,\"#d8576b\"],[0.6666666666666666,\"#ed7953\"],[0.7777777777777778,\"#fb9f3a\"],[0.8888888888888888,\"#fdca26\"],[1.0,\"#f0f921\"]],\"diverging\":[[0,\"#8e0152\"],[0.1,\"#c51b7d\"],[0.2,\"#de77ae\"],[0.3,\"#f1b6da\"],[0.4,\"#fde0ef\"],[0.5,\"#f7f7f7\"],[0.6,\"#e6f5d0\"],[0.7,\"#b8e186\"],[0.8,\"#7fbc41\"],[0.9,\"#4d9221\"],[1,\"#276419\"]]},\"xaxis\":{\"gridcolor\":\"white\",\"linecolor\":\"white\",\"ticks\":\"\",\"title\":{\"standoff\":15},\"zerolinecolor\":\"white\",\"automargin\":true,\"zerolinewidth\":2},\"yaxis\":{\"gridcolor\":\"white\",\"linecolor\":\"white\",\"ticks\":\"\",\"title\":{\"standoff\":15},\"zerolinecolor\":\"white\",\"automargin\":true,\"zerolinewidth\":2},\"scene\":{\"xaxis\":{\"backgroundcolor\":\"#E5ECF6\",\"gridcolor\":\"white\",\"linecolor\":\"white\",\"showbackground\":true,\"ticks\":\"\",\"zerolinecolor\":\"white\",\"gridwidth\":2},\"yaxis\":{\"backgroundcolor\":\"#E5ECF6\",\"gridcolor\":\"white\",\"linecolor\":\"white\",\"showbackground\":true,\"ticks\":\"\",\"zerolinecolor\":\"white\",\"gridwidth\":2},\"zaxis\":{\"backgroundcolor\":\"#E5ECF6\",\"gridcolor\":\"white\",\"linecolor\":\"white\",\"showbackground\":true,\"ticks\":\"\",\"zerolinecolor\":\"white\",\"gridwidth\":2}},\"shapedefaults\":{\"line\":{\"color\":\"#2a3f5f\"}},\"annotationdefaults\":{\"arrowcolor\":\"#2a3f5f\",\"arrowhead\":0,\"arrowwidth\":1},\"geo\":{\"bgcolor\":\"white\",\"landcolor\":\"#E5ECF6\",\"subunitcolor\":\"white\",\"showland\":true,\"showlakes\":true,\"lakecolor\":\"white\"},\"title\":{\"x\":0.05},\"mapbox\":{\"style\":\"light\"}}},\"xaxis\":{\"anchor\":\"y\",\"domain\":[0.0,1.0],\"title\":{\"text\":\"delta_surprisal\"}},\"yaxis\":{\"anchor\":\"x\",\"domain\":[0.0,1.0],\"title\":{\"text\":\"delta_brainscore\"}},\"legend\":{\"title\":{\"text\":\"category\"},\"tracegroupgap\":0,\"itemsizing\":\"constant\"},\"margin\":{\"t\":60}},                        {\"responsive\": true}                    ).then(function(){\n",
       "                            \n",
       "var gd = document.getElementById('a8d93afe-e43c-4dfd-91ff-42b4c7080e61');\n",
       "var x = new MutationObserver(function (mutations, observer) {{\n",
       "        var display = window.getComputedStyle(gd).display;\n",
       "        if (!display || display === 'none') {{\n",
       "            console.log([gd, 'removed!']);\n",
       "            Plotly.purge(gd);\n",
       "            observer.disconnect();\n",
       "        }}\n",
       "}});\n",
       "\n",
       "// Listen for the removal of the full notebook cells\n",
       "var notebookContainer = gd.closest('#notebook-container');\n",
       "if (notebookContainer) {{\n",
       "    x.observe(notebookContainer, {childList: true});\n",
       "}}\n",
       "\n",
       "// Listen for the clearing of the current output cell\n",
       "var outputEl = gd.closest('.output');\n",
       "if (outputEl) {{\n",
       "    x.observe(outputEl, {childList: true});\n",
       "}}\n",
       "\n",
       "                        })                };                });            </script>        </div>"
      ]
     },
     "metadata": {},
     "output_type": "display_data"
    }
   ],
   "source": [
    "import plotly.express as px\n",
    "fig = px.scatter(plot_df, x=\"delta_surprisal\", y=\"delta_brainscore\", color=\"category\", hover_data=[\"condition\"],\n",
    "                size=\"error\", trendline=\"ols\")\n",
    "fig.show()"
   ]
  },
  {
   "cell_type": "code",
   "execution_count": null,
   "id": "2cd09fb2",
   "metadata": {},
   "outputs": [],
   "source": []
  }
 ],
 "metadata": {
  "kernelspec": {
   "display_name": "Python 3",
   "language": "python",
   "name": "python3"
  },
  "language_info": {
   "codemirror_mode": {
    "name": "ipython",
    "version": 3
   },
   "file_extension": ".py",
   "mimetype": "text/x-python",
   "name": "python",
   "nbconvert_exporter": "python",
   "pygments_lexer": "ipython3",
   "version": "3.8.13"
  }
 },
 "nbformat": 4,
 "nbformat_minor": 5
}
