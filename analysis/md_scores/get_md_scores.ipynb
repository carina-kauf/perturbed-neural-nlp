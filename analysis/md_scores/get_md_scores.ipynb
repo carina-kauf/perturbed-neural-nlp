{
 "cells": [
  {
   "cell_type": "code",
   "execution_count": 1,
   "id": "5ea7d302",
   "metadata": {},
   "outputs": [
    {
     "name": "stdout",
     "output_type": "stream",
     "text": [
      "Loading lookup from /usr/local/Caskroom/miniforge/base/envs/perturbed-nnlp/lib/python3.6/site-packages/brainio_collection/lookup.csv\n"
     ]
    },
    {
     "data": {
      "text/plain": [
       "{'data': <xarray.Score (layer: 7, aggregation: 2)>\n",
       " array([[0.001805, 0.026412],\n",
       "        [0.512346, 0.064765],\n",
       "        [0.542876, 0.133199],\n",
       "        [0.533012, 0.158152],\n",
       "        [0.611863, 0.207171],\n",
       "        [0.713166, 0.065233],\n",
       "        [0.800951, 0.127054]])\n",
       " Coordinates:\n",
       "   * layer        (layer) object 'drop' 'encoder.h.0' ... 'encoder.h.5'\n",
       "   * aggregation  (aggregation) <U6 'center' 'error'\n",
       " Attributes:\n",
       "     raw:          <xarray.Score (layer: 7, aggregation: 2)>\\narray([[0.000575...\n",
       "     ceiling:      <xarray.Score (aggregation: 3)>\\narray([0.318567, 0.012958,...\n",
       "     description:  ceiling-normalized score\n",
       "     model:        distilgpt2\n",
       "     benchmark:    Pereira2018-encoding}"
      ]
     },
     "execution_count": 1,
     "metadata": {},
     "output_type": "execute_result"
    }
   ],
   "source": [
    "import pickle\n",
    "\n",
    "with open(\"benchmark=Pereira2018-encoding,model=distilgpt2,subsample=None.pkl\", \"rb\") as f:\n",
    "    content = pickle.load(f)\n",
    "\n",
    "content"
   ]
  },
  {
   "cell_type": "code",
   "execution_count": 2,
   "id": "a41dc9f1",
   "metadata": {},
   "outputs": [],
   "source": [
    "# all_raw_scores = content[\"data\"].raw # this gives the unceiled but aggregated language scores"
   ]
  },
  {
   "cell_type": "code",
   "execution_count": 3,
   "id": "34a8a649",
   "metadata": {},
   "outputs": [],
   "source": [
    "# test_all_raw_scores = content[\"data\"].raw.raw # this gives the unceiled, unaggregated language scores"
   ]
  },
  {
   "cell_type": "code",
   "execution_count": 4,
   "id": "d644bc82",
   "metadata": {},
   "outputs": [],
   "source": [
    "all_raw_scores = content[\"data\"].raw.raw.raw # this gives the unceiled, unaggregated scores for all atlases"
   ]
  },
  {
   "cell_type": "code",
   "execution_count": 5,
   "id": "7d88431d",
   "metadata": {},
   "outputs": [
    {
     "data": {
      "text/plain": [
       "(7, 2, 5, 102880)"
      ]
     },
     "execution_count": 5,
     "metadata": {},
     "output_type": "execute_result"
    }
   ],
   "source": [
    "import numpy as np\n",
    "np.shape(all_raw_scores)\n",
    "# 7 = layers\n",
    "# 2 = experiments\n",
    "# 5 = cross-val splits\n",
    "# 102880 = neuroids"
   ]
  },
  {
   "cell_type": "code",
   "execution_count": 6,
   "id": "44c416ef",
   "metadata": {},
   "outputs": [
    {
     "data": {
      "text/plain": [
       "<xarray.Score (layer: 7, experiment: 2, split: 5, neuroid: 102880)>\n",
       "array([[[[-0.193684, ...,  0.191894],\n",
       "         ...,\n",
       "         [-0.131249, ..., -0.01662 ]],\n",
       "\n",
       "        [[ 0.014729, ...,  0.015859],\n",
       "         ...,\n",
       "         [ 0.09216 , ..., -0.065168]]],\n",
       "\n",
       "\n",
       "       ...,\n",
       "\n",
       "\n",
       "       [[[ 0.344274, ...,  0.165047],\n",
       "         ...,\n",
       "         [ 0.423848, ...,  0.304018]],\n",
       "\n",
       "        [[ 0.285605, ...,  0.064886],\n",
       "         ...,\n",
       "         [ 0.251307, ...,  0.162485]]]])\n",
       "Coordinates:\n",
       "  * layer            (layer) object 'drop' 'encoder.h.0' ... 'encoder.h.5'\n",
       "  * experiment       (experiment) object '243sentences' '384sentences'\n",
       "  * neuroid          (neuroid) MultiIndex\n",
       "  - subject          (neuroid) object '018' '018' '018' ... '018' '018' '018'\n",
       "  - voxel_num        (neuroid) int64 28 29 31 32 38 42 ... 152 153 154 159 160\n",
       "  - filter_strategy  (neuroid) object '' '' '' '' '' '' '' ... '' '' '' '' '' ''\n",
       "  - atlas_selection  (neuroid) object 'from90to100prcnt' ... 'from90to100prcnt'\n",
       "  - roi              (neuroid) object 'LH_AntTemp' 'LH_AntTemp' ... 'LH_AntTemp'\n",
       "  - indices_in_3d    (neuroid) int64 72505 72506 72584 ... 87754 87831 87832\n",
       "  - col_to_coord_1   (neuroid) int64 62 63 62 63 63 63 63 ... 65 62 63 64 62 63\n",
       "  - col_to_coord_2   (neuroid) int64 63 63 64 64 65 66 63 ... 65 66 66 66 67 67\n",
       "  - col_to_coord_3   (neuroid) int64 10 10 10 10 10 10 11 ... 12 12 12 12 12 12\n",
       "  - neuroid_id       (neuroid) object '018.28' '018.29' ... '018.159' '018.160'\n",
       "  - atlas            (neuroid) object 'language' 'language' ... 'language'\n",
       "  * split            (split) int64 0 1 2 3 4"
      ]
     },
     "execution_count": 6,
     "metadata": {},
     "output_type": "execute_result"
    }
   ],
   "source": [
    "all_raw_scores"
   ]
  },
  {
   "cell_type": "code",
   "execution_count": 7,
   "id": "03d1ed0b",
   "metadata": {},
   "outputs": [
    {
     "name": "stderr",
     "output_type": "stream",
     "text": [
      "/usr/local/Caskroom/miniforge/base/envs/perturbed-nnlp/lib/python3.6/site-packages/xarray/core/nanops.py:159: RuntimeWarning: Mean of empty slice\n",
      "  return np.nanmean(a, axis=axis, dtype=dtype)\n"
     ]
    },
    {
     "data": {
      "text/plain": [
       "<xarray.Score (layer: 7, neuroid: 102880)>\n",
       "array([[-0.024056,  0.019942,  0.000935, ..., -0.002977, -0.041293, -0.026874],\n",
       "       [ 0.188483,  0.165412,  0.209014, ...,  0.073372,  0.137351,  0.113955],\n",
       "       [ 0.128264,  0.121818,  0.090112, ...,  0.113405,  0.101418,  0.104901],\n",
       "       ...,\n",
       "       [ 0.240067,  0.211276,  0.189139, ...,  0.189913,  0.210865,  0.217992],\n",
       "       [ 0.199024,  0.215913,  0.205953, ...,  0.210164,  0.196784,  0.222444],\n",
       "       [ 0.277848,  0.270639,  0.294908, ...,  0.202854,  0.224837,  0.239107]])\n",
       "Coordinates:\n",
       "  * layer            (layer) object 'drop' 'encoder.h.0' ... 'encoder.h.5'\n",
       "  * neuroid          (neuroid) MultiIndex\n",
       "  - subject          (neuroid) object '018' '018' '018' ... '018' '018' '018'\n",
       "  - voxel_num        (neuroid) int64 28 29 31 32 38 42 ... 152 153 154 159 160\n",
       "  - filter_strategy  (neuroid) object '' '' '' '' '' '' '' ... '' '' '' '' '' ''\n",
       "  - atlas_selection  (neuroid) object 'from90to100prcnt' ... 'from90to100prcnt'\n",
       "  - roi              (neuroid) object 'LH_AntTemp' 'LH_AntTemp' ... 'LH_AntTemp'\n",
       "  - indices_in_3d    (neuroid) int64 72505 72506 72584 ... 87754 87831 87832\n",
       "  - col_to_coord_1   (neuroid) int64 62 63 62 63 63 63 63 ... 65 62 63 64 62 63\n",
       "  - col_to_coord_2   (neuroid) int64 63 63 64 64 65 66 63 ... 65 66 66 66 67 67\n",
       "  - col_to_coord_3   (neuroid) int64 10 10 10 10 10 10 11 ... 12 12 12 12 12 12\n",
       "  - neuroid_id       (neuroid) object '018.28' '018.29' ... '018.159' '018.160'\n",
       "  - atlas            (neuroid) object 'language' 'language' ... 'language'\n",
       "Attributes:\n",
       "    raw:      <xarray.Score (layer: 7, experiment: 2, split: 5, neuroid: 1028..."
      ]
     },
     "execution_count": 7,
     "metadata": {},
     "output_type": "execute_result"
    }
   ],
   "source": [
    "#aggregation from pipeline\n",
    "from brainscore.metrics.transformations import  apply_aggregate\n",
    "# https://github.com/carina-kauf/perturbed-neural-nlp/blob/master/neural_nlp/benchmarks/neural.py#L173\n",
    "raw_neuroids = apply_aggregate(lambda values: values.mean('split').mean('experiment'), all_raw_scores)\n",
    "raw_neuroids"
   ]
  },
  {
   "cell_type": "code",
   "execution_count": 8,
   "id": "9697c6bf",
   "metadata": {},
   "outputs": [],
   "source": [
    "# #old with Greta\n",
    "# avg_scores_over_folds = all_raw_scores.mean(axis=2)\n",
    "# avg_scores_over_folds"
   ]
  },
  {
   "cell_type": "code",
   "execution_count": 9,
   "id": "2fa637be",
   "metadata": {},
   "outputs": [
    {
     "data": {
      "text/plain": [
       "<xarray.Score (layer: 7, neuroid: 13517)>\n",
       "array([[-0.024056,  0.019942,  0.000935, ...,  0.015881,  0.014986,  0.024248],\n",
       "       [ 0.188483,  0.165412,  0.209014, ...,  0.094655,  0.099072,  0.186072],\n",
       "       [ 0.128264,  0.121818,  0.090112, ...,  0.112316,  0.118214,  0.171203],\n",
       "       ...,\n",
       "       [ 0.240067,  0.211276,  0.189139, ...,  0.154961,  0.125806,  0.323611],\n",
       "       [ 0.199024,  0.215913,  0.205953, ...,  0.210484,  0.203453,  0.389707],\n",
       "       [ 0.277848,  0.270639,  0.294908, ...,  0.238168,  0.223364,  0.35344 ]])\n",
       "Coordinates:\n",
       "  * layer            (layer) object 'drop' 'encoder.h.0' ... 'encoder.h.5'\n",
       "  * neuroid          (neuroid) MultiIndex\n",
       "  - subject          (neuroid) object '018' '018' '018' ... '018' '018' '018'\n",
       "  - voxel_num        (neuroid) int64 28 29 31 32 38 42 ... 152 153 154 159 160\n",
       "  - filter_strategy  (neuroid) object '' '' '' '' '' '' '' ... '' '' '' '' '' ''\n",
       "  - atlas_selection  (neuroid) object 'from90to100prcnt' ... 'from90to100prcnt'\n",
       "  - roi              (neuroid) object 'LH_AntTemp' 'LH_AntTemp' ... 'LH_AntTemp'\n",
       "  - indices_in_3d    (neuroid) int64 72505 72506 72584 ... 87754 87831 87832\n",
       "  - col_to_coord_1   (neuroid) int64 62 63 62 63 63 63 63 ... 65 62 63 64 62 63\n",
       "  - col_to_coord_2   (neuroid) int64 63 63 64 64 65 66 63 ... 65 66 66 66 67 67\n",
       "  - col_to_coord_3   (neuroid) int64 10 10 10 10 10 10 11 ... 12 12 12 12 12 12\n",
       "  - neuroid_id       (neuroid) object '018.28' '018.29' ... '018.159' '018.160'\n",
       "Attributes:\n",
       "    raw:      <xarray.Score (layer: 7, experiment: 2, split: 5, neuroid: 1028..."
      ]
     },
     "execution_count": 9,
     "metadata": {},
     "output_type": "execute_result"
    }
   ],
   "source": [
    "language_neuroids = raw_neuroids.sel(atlas='language', _apply_raw=False)\n",
    "language_neuroids"
   ]
  },
  {
   "cell_type": "code",
   "execution_count": 10,
   "id": "a07b65c5",
   "metadata": {},
   "outputs": [],
   "source": [
    "# import xarray\n",
    "# xarray.DataArray.equals(test_all_raw_scores, language_neuroids)\n",
    "# >> True"
   ]
  },
  {
   "cell_type": "markdown",
   "id": "db887a46",
   "metadata": {},
   "source": [
    "# Get MD scores"
   ]
  },
  {
   "cell_type": "code",
   "execution_count": 11,
   "id": "1d365f54",
   "metadata": {},
   "outputs": [
    {
     "data": {
      "text/plain": [
       "<xarray.Score (layer: 7, neuroid: 29845)>\n",
       "array([[ 0.008169, -0.018107,  0.018264, ..., -0.002977, -0.041293, -0.026874],\n",
       "       [ 0.138259,  0.101357,  0.155139, ...,  0.073372,  0.137351,  0.113955],\n",
       "       [ 0.162599,  0.157011,  0.192888, ...,  0.113405,  0.101418,  0.104901],\n",
       "       ...,\n",
       "       [ 0.221473,  0.195824,  0.230805, ...,  0.189913,  0.210865,  0.217992],\n",
       "       [ 0.307069,  0.229747,  0.243876, ...,  0.210164,  0.196784,  0.222444],\n",
       "       [ 0.267572,  0.248221,  0.267752, ...,  0.202854,  0.224837,  0.239107]])\n",
       "Coordinates:\n",
       "  * layer            (layer) object 'drop' 'encoder.h.0' ... 'encoder.h.5'\n",
       "  * neuroid          (neuroid) MultiIndex\n",
       "  - subject          (neuroid) object '018' '018' '018' ... '018' '018' '018'\n",
       "  - voxel_num        (neuroid) int64 3159 3160 3161 3175 ... 3833 3834 3844 3845\n",
       "  - filter_strategy  (neuroid) object 'HminusE' 'HminusE' ... 'HminusE'\n",
       "  - atlas_selection  (neuroid) object 'from90to100prcnt' ... 'from90to100prcnt'\n",
       "  - roi              (neuroid) object 'LH_insula' 'LH_insula' ... 'LH_insula'\n",
       "  - indices_in_3d    (neuroid) int64 170304 170305 170306 ... 178200 178201\n",
       "  - col_to_coord_1   (neuroid) int64 59 60 61 59 56 55 56 ... 56 54 55 56 55 56\n",
       "  - col_to_coord_2   (neuroid) int64 66 66 66 67 68 69 69 ... 69 70 70 70 71 71\n",
       "  - col_to_coord_3   (neuroid) int64 23 23 23 23 23 23 23 ... 24 24 24 24 24 24\n",
       "  - neuroid_id       (neuroid) object '018.3159' '018.3160' ... '018.3845'\n",
       "Attributes:\n",
       "    raw:      <xarray.Score (layer: 7, experiment: 2, split: 5, neuroid: 1028..."
      ]
     },
     "execution_count": 11,
     "metadata": {},
     "output_type": "execute_result"
    }
   ],
   "source": [
    "md_neuroids = raw_neuroids.sel(atlas='MD', _apply_raw=False)\n",
    "md_neuroids"
   ]
  },
  {
   "cell_type": "code",
   "execution_count": 12,
   "id": "649c6ebb",
   "metadata": {},
   "outputs": [
    {
     "data": {
      "text/plain": [
       "['drop',\n",
       " 'encoder.h.0',\n",
       " 'encoder.h.1',\n",
       " 'encoder.h.2',\n",
       " 'encoder.h.3',\n",
       " 'encoder.h.4',\n",
       " 'encoder.h.5']"
      ]
     },
     "execution_count": 12,
     "metadata": {},
     "output_type": "execute_result"
    }
   ],
   "source": [
    "layers = list(md_neuroids.layer.data)\n",
    "layers"
   ]
  },
  {
   "cell_type": "code",
   "execution_count": 13,
   "id": "1fdf67ec",
   "metadata": {},
   "outputs": [
    {
     "data": {
      "text/plain": [
       "<xarray.Score (neuroid: 29845)>\n",
       "array([ 0.008169, -0.018107,  0.018264, ..., -0.002977, -0.041293, -0.026874])\n",
       "Coordinates:\n",
       "    layer            <U4 'drop'\n",
       "  * neuroid          (neuroid) MultiIndex\n",
       "  - subject          (neuroid) object '018' '018' '018' ... '018' '018' '018'\n",
       "  - voxel_num        (neuroid) int64 3159 3160 3161 3175 ... 3833 3834 3844 3845\n",
       "  - filter_strategy  (neuroid) object 'HminusE' 'HminusE' ... 'HminusE'\n",
       "  - atlas_selection  (neuroid) object 'from90to100prcnt' ... 'from90to100prcnt'\n",
       "  - roi              (neuroid) object 'LH_insula' 'LH_insula' ... 'LH_insula'\n",
       "  - indices_in_3d    (neuroid) int64 170304 170305 170306 ... 178200 178201\n",
       "  - col_to_coord_1   (neuroid) int64 59 60 61 59 56 55 56 ... 56 54 55 56 55 56\n",
       "  - col_to_coord_2   (neuroid) int64 66 66 66 67 68 69 69 ... 69 70 70 70 71 71\n",
       "  - col_to_coord_3   (neuroid) int64 23 23 23 23 23 23 23 ... 24 24 24 24 24 24\n",
       "  - neuroid_id       (neuroid) object '018.3159' '018.3160' ... '018.3845'\n",
       "Attributes:\n",
       "    raw:      <xarray.Score (experiment: 2, split: 5, neuroid: 102880)>\\narra..."
      ]
     },
     "execution_count": 13,
     "metadata": {},
     "output_type": "execute_result"
    }
   ],
   "source": [
    "test = md_neuroids.sel(layer='drop')\n",
    "test"
   ]
  },
  {
   "cell_type": "code",
   "execution_count": 14,
   "id": "dbabd94a",
   "metadata": {},
   "outputs": [],
   "source": [
    "from brainio_base.assemblies import DataAssembly, merge_data_arrays\n",
    "from brainscore.metrics import Score"
   ]
  },
  {
   "cell_type": "code",
   "execution_count": 15,
   "id": "8322a71d",
   "metadata": {},
   "outputs": [],
   "source": [
    "from scipy.stats import median_absolute_deviation\n",
    "\n",
    "def aggregate_neuroid_scores(neuroid_scores, subject_column):\n",
    "    subject_scores = neuroid_scores.groupby(subject_column).median()\n",
    "    center = subject_scores.median(subject_column)\n",
    "    subject_values = np.nan_to_num(subject_scores.values, nan=0)  # mad cannot deal with all-nan in one axis, treat as 0\n",
    "    subject_axis = subject_scores.dims.index(subject_scores[subject_column].dims[0])\n",
    "    error = median_absolute_deviation(subject_values, axis=subject_axis)\n",
    "    score = Score([center, error], coords={'aggregation': ['center', 'error']}, dims=['aggregation'])\n",
    "    score.attrs['raw'] = neuroid_scores\n",
    "    score.attrs['description'] = \"score aggregated by taking median of neuroids per subject, \" \\\n",
    "                                 \"then median of subject scores\"\n",
    "    return score"
   ]
  },
  {
   "cell_type": "code",
   "execution_count": 16,
   "id": "6e525817",
   "metadata": {},
   "outputs": [
    {
     "name": "stdout",
     "output_type": "stream",
     "text": [
      "drop | Score: [0.00585957 0.02262233]\n",
      "encoder.h.0 | Score: [0.12298596 0.03137098]\n",
      "encoder.h.1 | Score: [0.14446792 0.01864211]\n",
      "encoder.h.2 | Score: [0.1392752  0.02350483]\n",
      "encoder.h.3 | Score: [0.17672698 0.02005617]\n",
      "encoder.h.4 | Score: [0.20776767 0.03274536]\n",
      "encoder.h.5 | Score: [0.23402109 0.01722397]\n"
     ]
    }
   ],
   "source": [
    "for layer in layers:\n",
    "    md_neuroids.sel(layer=layer)\n",
    "    score = aggregate_neuroid_scores(md_neuroids.sel(layer=layer), \"subject\")\n",
    "    print(f\"{layer} | Score: {score.data}\")"
   ]
  },
  {
   "cell_type": "code",
   "execution_count": 17,
   "id": "8109a43b",
   "metadata": {},
   "outputs": [],
   "source": [
    "# #old with Greta\n",
    "# grouped = md_neuroids.groupby(\"subject\").median()\n",
    "# grouped\n",
    "# final_score = grouped.median()\n",
    "# final_score.item()\n",
    "# final_score = grouped.median()\n",
    "# final_score.item()\n",
    "# >> 0.1572379546863542"
   ]
  },
  {
   "cell_type": "code",
   "execution_count": null,
   "id": "b8fc6726",
   "metadata": {},
   "outputs": [],
   "source": []
  }
 ],
 "metadata": {
  "kernelspec": {
   "display_name": "Python 3",
   "language": "python",
   "name": "python3"
  },
  "language_info": {
   "codemirror_mode": {
    "name": "ipython",
    "version": 3
   },
   "file_extension": ".py",
   "mimetype": "text/x-python",
   "name": "python",
   "nbconvert_exporter": "python",
   "pygments_lexer": "ipython3",
   "version": "3.8.13"
  }
 },
 "nbformat": 4,
 "nbformat_minor": 5
}
