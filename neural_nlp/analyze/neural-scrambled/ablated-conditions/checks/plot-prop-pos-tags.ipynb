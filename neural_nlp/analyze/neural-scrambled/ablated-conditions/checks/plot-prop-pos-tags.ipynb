{
 "cells": [
  {
   "cell_type": "code",
   "execution_count": 1,
   "metadata": {},
   "outputs": [],
   "source": [
    "import os\n",
    "import pickle\n",
    "import pandas as pd\n",
    "import numpy as np"
   ]
  },
  {
   "cell_type": "code",
   "execution_count": 2,
   "metadata": {},
   "outputs": [
    {
     "name": "stdout",
     "output_type": "stream",
     "text": [
      "stimuli_lowpmi_finalperiod.pkl\n",
      "stimuli_every_other_word_random.pkl\n",
      "stimuli_nouns_delete50percent.pkl\n",
      "stimuli_Scr1.pkl\n",
      "stimuli_lowPMI.pkl\n",
      "stimuli_Scr3.pkl\n",
      "stimuli_passageshuffle.pkl\n",
      "stimuli_Scr7.pkl\n",
      "investigate-pickle-files.ipynb\n",
      ".ipynb_checkpoints\n",
      "stimuli_random.pkl\n",
      "stimuli_nopunctuation.pkl\n",
      "stimuli_Scr5.pkl\n",
      "stimuli_Original.pkl\n",
      "stimuli_random_lowPMI.pkl\n",
      "stimuli_nounsverbs.pkl\n",
      "stimuli_backward.pkl\n",
      "stimuli_functionwords.pkl\n",
      "stimuli_randomnouns.pkl\n",
      "stimuli_randomsentenceshuffle.pkl\n",
      "stimuli_verbs.pkl\n",
      "stimuli_contentwords.pkl\n",
      "stimuli_nouns.pkl\n",
      "stimuli_nounsverbsadj.pkl\n"
     ]
    }
   ],
   "source": [
    "df_dir = '/om/user/ckauf/neural-nlp/ressources/scrambled-stimuli-dfs'\n",
    "for filename in os.listdir(df_dir):\n",
    "    print(filename)"
   ]
  },
  {
   "cell_type": "code",
   "execution_count": 3,
   "metadata": {},
   "outputs": [
    {
     "name": "stderr",
     "output_type": "stream",
     "text": [
      "/om/user/ckauf/.conda/envs/brainmodeling/lib/python3.6/site-packages/brainio_base/assemblies.py:213: FutureWarning: The inplace argument has been deprecated and will be removed in a future version of xarray.\n",
      "  xr_data.set_index(append=True, inplace=True, **coords_d)\n"
     ]
    },
    {
     "name": "stdout",
     "output_type": "stream",
     "text": [
      "['beekeeping encourages the conservation of local habitats', \"it is in every beekeeper's interest to conserve local plants that produce pollen\", 'as a passive form of agriculture it does not require that native vegetation be cleared to make way for crops']\n",
      "[7, 13, 20]\n"
     ]
    },
    {
     "name": "stderr",
     "output_type": "stream",
     "text": [
      "/om/user/ckauf/.conda/envs/brainmodeling/lib/python3.6/site-packages/tensorboard/compat/tensorflow_stub/dtypes.py:541: FutureWarning: Passing (type, 1) or '1type' as a synonym of type is deprecated; in a future version of numpy, it will be understood as (type, (1,)) / '(1,)type'.\n",
      "  _np_qint8 = np.dtype([(\"qint8\", np.int8, 1)])\n",
      "/om/user/ckauf/.conda/envs/brainmodeling/lib/python3.6/site-packages/tensorboard/compat/tensorflow_stub/dtypes.py:542: FutureWarning: Passing (type, 1) or '1type' as a synonym of type is deprecated; in a future version of numpy, it will be understood as (type, (1,)) / '(1,)type'.\n",
      "  _np_quint8 = np.dtype([(\"quint8\", np.uint8, 1)])\n",
      "/om/user/ckauf/.conda/envs/brainmodeling/lib/python3.6/site-packages/tensorboard/compat/tensorflow_stub/dtypes.py:543: FutureWarning: Passing (type, 1) or '1type' as a synonym of type is deprecated; in a future version of numpy, it will be understood as (type, (1,)) / '(1,)type'.\n",
      "  _np_qint16 = np.dtype([(\"qint16\", np.int16, 1)])\n",
      "/om/user/ckauf/.conda/envs/brainmodeling/lib/python3.6/site-packages/tensorboard/compat/tensorflow_stub/dtypes.py:544: FutureWarning: Passing (type, 1) or '1type' as a synonym of type is deprecated; in a future version of numpy, it will be understood as (type, (1,)) / '(1,)type'.\n",
      "  _np_quint16 = np.dtype([(\"quint16\", np.uint16, 1)])\n",
      "/om/user/ckauf/.conda/envs/brainmodeling/lib/python3.6/site-packages/tensorboard/compat/tensorflow_stub/dtypes.py:545: FutureWarning: Passing (type, 1) or '1type' as a synonym of type is deprecated; in a future version of numpy, it will be understood as (type, (1,)) / '(1,)type'.\n",
      "  _np_qint32 = np.dtype([(\"qint32\", np.int32, 1)])\n",
      "/om/user/ckauf/.conda/envs/brainmodeling/lib/python3.6/site-packages/tensorboard/compat/tensorflow_stub/dtypes.py:550: FutureWarning: Passing (type, 1) or '1type' as a synonym of type is deprecated; in a future version of numpy, it will be understood as (type, (1,)) / '(1,)type'.\n",
      "  np_resource = np.dtype([(\"resource\", np.ubyte, 1)])\n"
     ]
    }
   ],
   "source": [
    "with open(os.path.join(df_dir,\"stimuli_Original.pkl\"), \"rb\") as f:\n",
    "    df = pickle.load(f)\n",
    "\n",
    "orig_sentences = list(df[\"sentence\"])\n",
    "orig_sentences_l = [len(sent.split()) for sent in orig_sentences]\n",
    "print(orig_sentences[:3])\n",
    "print(orig_sentences_l[:3])"
   ]
  },
  {
   "cell_type": "code",
   "execution_count": 4,
   "metadata": {},
   "outputs": [
    {
     "name": "stdout",
     "output_type": "stream",
     "text": [
      "0.3620498876055707\n",
      "0.5019628319574991\n",
      "0.5917561498903063\n",
      "0.6306157684336984\n"
     ]
    }
   ],
   "source": [
    "conditions = [\"nouns\",\"nounsverbs\",\"nounsverbsadj\",\"contentwords\"] #\"verbs\" is 14% (also nounsverbs - nouns :P)\n",
    "proportion_pos = []\n",
    "for cond in conditions:\n",
    "    fname = f\"stimuli_{cond}.pkl\"\n",
    "    \n",
    "    with open(os.path.join(df_dir,fname), \"rb\") as f:\n",
    "        pos_df = pickle.load(f)\n",
    "        pos_sentences = list(pos_df[\"sentence\"])\n",
    "    \n",
    "    pos_sentences_l = [len(sent.split()) for sent in pos_sentences]\n",
    "    curr_proportion = np.mean([pos_sentences_l[ind]/orig_sentences_l[ind] for ind in range(len(pos_sentences))])\n",
    "    print(curr_proportion)\n",
    "    proportion_pos.append(curr_proportion)\n",
    "    "
   ]
  },
  {
   "cell_type": "code",
   "execution_count": 10,
   "metadata": {},
   "outputs": [
    {
     "data": {
      "image/png": "[encoded data removed]",
      "text/plain": [
       "<Figure size 432x288 with 1 Axes>"
      ]
     },
     "metadata": {
      "needs_background": "light"
     },
     "output_type": "display_data"
    }
   ],
   "source": [
    "import seaborn as sns\n",
    "import matplotlib.pyplot as plt\n",
    "\n",
    "plot_df = pd.DataFrame({\n",
    "    \"conditions\" : conditions,\n",
    "    \"avg. POS proportion\": proportion_pos\n",
    "})\n",
    "plt.title(\"Average POS proportion for conditions across dataset\")\n",
    "sns.barplot(x=\"conditions\", y=\"avg. POS proportion\", data=plot_df)\n",
    "plt.show()"
   ]
  },
  {
   "cell_type": "code",
   "execution_count": null,
   "metadata": {},
   "outputs": [],
   "source": []
  }
 ],
 "metadata": {
  "kernelspec": {
   "display_name": "Python 3",
   "language": "python",
   "name": "python3"
  },
  "language_info": {
   "codemirror_mode": {
    "name": "ipython",
    "version": 3
   },
   "file_extension": ".py",
   "mimetype": "text/x-python",
   "name": "python",
   "nbconvert_exporter": "python",
   "pygments_lexer": "ipython3",
   "version": "3.6.2"
  }
 },
 "nbformat": 4,
 "nbformat_minor": 2
}
