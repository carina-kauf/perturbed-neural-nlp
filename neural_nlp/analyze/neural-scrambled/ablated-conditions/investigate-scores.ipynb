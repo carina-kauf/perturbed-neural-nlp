{
 "cells": [
  {
   "cell_type": "code",
   "execution_count": 3,
   "metadata": {},
   "outputs": [],
   "source": [
    "import os\n",
    "import numpy as np\n",
    "import pickle\n",
    "import pandas as pd"
   ]
  },
  {
   "cell_type": "code",
   "execution_count": 4,
   "metadata": {},
   "outputs": [
    {
     "data": {
      "text/plain": [
       "{'data': <xarray.Score (layer: 7, aggregation: 2)>\n",
       " array([[0.027873, 0.056556],\n",
       "        [0.301125, 0.112333],\n",
       "        [0.339348, 0.132698],\n",
       "        [0.326258, 0.112573],\n",
       "        [0.355289, 0.140901],\n",
       "        [0.474327, 0.122303],\n",
       "        [0.626163, 0.161234]])\n",
       " Coordinates:\n",
       "   * layer        (layer) object 'drop' 'encoder.h.0' ... 'encoder.h.5'\n",
       "   * aggregation  (aggregation) <U6 'center' 'error'\n",
       " Attributes:\n",
       "     raw:          <xarray.Score (layer: 7, aggregation: 2)>\\narray([[0.008879...\n",
       "     ceiling:      <xarray.Score (aggregation: 3)>\\narray([0.318567, 0.012958,...\n",
       "     description:  ceiling-normalized score\n",
       "     model:        distilgpt2\n",
       "     benchmark:    Pereira2018-encoding-ablation-nouns}"
      ]
     },
     "execution_count": 4,
     "metadata": {},
     "output_type": "execute_result"
    }
   ],
   "source": [
    "filepath = '/om2/user/ckauf/.result_caching/neural_nlp.score/'\n",
    "filename = 'benchmark=Pereira2018-encoding-ablation-nouns,model=distilgpt2,subsample=None.pkl'\n",
    "\n",
    "with open(os.path.join(filepath,filename), 'rb') as f:\n",
    "    score = pickle.load(f)\n",
    "score"
   ]
  },
  {
   "cell_type": "code",
   "execution_count": 5,
   "metadata": {},
   "outputs": [
    {
     "data": {
      "text/plain": [
       "{'data': <xarray.Score (layer: 7, aggregation: 2)>\n",
       " array([[0.017986, 0.053266],\n",
       "        [0.242382, 0.098416],\n",
       "        [0.223671, 0.126549],\n",
       "        [0.261688, 0.150214],\n",
       "        [0.278405, 0.175883],\n",
       "        [0.37947 , 0.163328],\n",
       "        [0.445486, 0.141692]])\n",
       " Coordinates:\n",
       "   * layer        (layer) object 'drop' 'encoder.h.0' ... 'encoder.h.5'\n",
       "   * aggregation  (aggregation) <U6 'center' 'error'\n",
       " Attributes:\n",
       "     raw:          <xarray.Score (layer: 7, aggregation: 2)>\\narray([[0.00573 ...\n",
       "     ceiling:      <xarray.Score (aggregation: 3)>\\narray([0.318567, 0.012958,...\n",
       "     description:  ceiling-normalized score\n",
       "     model:        distilgpt2\n",
       "     benchmark:    Pereira2018-encoding-scrambled-original}"
      ]
     },
     "execution_count": 5,
     "metadata": {},
     "output_type": "execute_result"
    }
   ],
   "source": [
    "filename = 'benchmark=Pereira2018-encoding-scrambled-original,model=distilgpt2,subsample=None.pkl'\n",
    "\n",
    "with open(os.path.join(filepath,filename), 'rb') as f:\n",
    "    score = pickle.load(f)\n",
    "score"
   ]
  },
  {
   "cell_type": "code",
   "execution_count": 6,
   "metadata": {},
   "outputs": [
    {
     "data": {
      "text/plain": [
       "{'data': <xarray.Score (layer: 7, aggregation: 2)>\n",
       " array([[0.016583, 0.085925],\n",
       "        [0.548441, 0.063597],\n",
       "        [0.615049, 0.135957],\n",
       "        [0.548156, 0.1102  ],\n",
       "        [0.677802, 0.16454 ],\n",
       "        [0.834165, 0.113426],\n",
       "        [0.927702, 0.115135]])\n",
       " Coordinates:\n",
       "   * layer        (layer) object 'drop' 'encoder.h.0' ... 'encoder.h.5'\n",
       "   * aggregation  (aggregation) <U6 'center' 'error'\n",
       " Attributes:\n",
       "     raw:          <xarray.Score (layer: 7, aggregation: 2)>\\narray([[0.005283...\n",
       "     ceiling:      <xarray.Score (aggregation: 3)>\\narray([0.318567, 0.012958,...\n",
       "     description:  ceiling-normalized score\n",
       "     model:        distilgpt2\n",
       "     benchmark:    Pereira2018-encoding}"
      ]
     },
     "execution_count": 6,
     "metadata": {},
     "output_type": "execute_result"
    }
   ],
   "source": [
    "\n",
    "filename = 'benchmark=Pereira2018-encoding,model=distilgpt2,subsample=None.pkl'\n",
    "\n",
    "with open(os.path.join(filepath,filename), 'rb') as f:\n",
    "    score = pickle.load(f)\n",
    "score"
   ]
  },
  {
   "cell_type": "code",
   "execution_count": null,
   "metadata": {},
   "outputs": [],
   "source": []
  },
  {
   "cell_type": "code",
   "execution_count": null,
   "metadata": {},
   "outputs": [],
   "source": []
  }
 ],
 "metadata": {
  "kernelspec": {
   "display_name": "Python 3",
   "language": "python",
   "name": "python3"
  },
  "language_info": {
   "codemirror_mode": {
    "name": "ipython",
    "version": 3
   },
   "file_extension": ".py",
   "mimetype": "text/x-python",
   "name": "python",
   "nbconvert_exporter": "python",
   "pygments_lexer": "ipython3",
   "version": "3.6.2"
  }
 },
 "nbformat": 4,
 "nbformat_minor": 2
}
