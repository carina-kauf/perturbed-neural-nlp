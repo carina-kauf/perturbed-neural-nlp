{
 "cells": [
  {
   "cell_type": "code",
   "execution_count": 1,
   "metadata": {},
   "outputs": [],
   "source": [
    "import os\n",
    "import re\n",
    "import pickle\n",
    "import numpy as np\n",
    "import pandas as pd\n",
    "from tqdm import tqdm\n",
    "import seaborn as sns\n",
    "import matplotlib.pyplot as plt"
   ]
  },
  {
   "cell_type": "code",
   "execution_count": 2,
   "metadata": {},
   "outputs": [],
   "source": [
    "working_dir = \"/om2/user/ckauf/.result_caching/neural_nlp.score\""
   ]
  },
  {
   "cell_type": "code",
   "execution_count": 3,
   "metadata": {},
   "outputs": [],
   "source": [
    "#the below were all run with the old passage grouping\n",
    "filenames = [\n",
    "    \"benchmark=Pereira2018-encoding,model=distilgpt2,subsample=None.pkl\",\n",
    "    \"benchmark=Pereira2018-encoding,model=gpt2,subsample=None.pkl\",\n",
    "    \"benchmark=Pereira2018-encoding-ablation-nopunctuation,model=gpt2,subsample=None.pkl\",\n",
    "    \"benchmark=Pereira2018-encoding,model=distilgpt2-avgtoken,subsample=None.pkl\",\n",
    "    \"benchmark=Pereira2018-encoding-scrambled-original,model=distilgpt2,subsample=None.pkl\",\n",
    "    \"benchmark=Pereira2018-encoding-scrambled-original,model=distilgpt2-avgtoken,subsample=None.pkl\",\n",
    "    \"benchmark=Pereira2018-encoding,model=gpt2-avgtoken,subsample=None.pkl\",\n",
    "    \"benchmark=Pereira2018-encoding-scrambled-lowpmi,model=distilgpt2,subsample=None.pkl\",\n",
    "    \"benchmark=Pereira2018-encoding-scrambled-lowpmi-finalperiod,model=distilgpt2,subsample=None.pkl\"\n",
    "]\n",
    "\n",
    "mycategories = [\n",
    "    \"encoding\",\n",
    "    \"encoding-scrambled-original\",\n",
    "    \"encoding-scrambled-lowpmi\",\n",
    "    \"encoding-scrambled-lowpmi-finalperiod\",\n",
    "    \"encoding-ablation-nopunctuation\"\n",
    "]"
   ]
  },
  {
   "cell_type": "code",
   "execution_count": 4,
   "metadata": {},
   "outputs": [],
   "source": [
    "#not used currently\n",
    "def get_max_score(matrix):\n",
    "    \"\"\"\n",
    "    input: result = out['data'].values matrix (e.g. for distilgpt2 a matrix of dimensions 7x2)\n",
    "    output: maximum score and associated error for this matrix.\n",
    "    \"\"\"\n",
    "    max_score, error = 0,0\n",
    "    for i in range(len(matrix)):\n",
    "        if matrix[i][0] > max_score:\n",
    "            max_score = matrix[i][0]\n",
    "            error = matrix[i][1]\n",
    "    return max_score, error"
   ]
  },
  {
   "cell_type": "code",
   "execution_count": 5,
   "metadata": {},
   "outputs": [],
   "source": [
    "#not used currently\n",
    "def get_best_score_dict(model_identifier):\n",
    "    \"\"\"\n",
    "    input: model_identifier\n",
    "    output: dictionary containing the maximum score and associated error per condition.\n",
    "            structure of dictionary: condition --> {score --> max_score, error --> associated error}\n",
    "    \"\"\"\n",
    "    score_dict = {}\n",
    "    for filename in os.listdir(working_dir):\n",
    "        model_name = filename.split(\",\")[1]\n",
    "        if \"model=\" + model_identifier == model_name:\n",
    "            if (\"ablation\" in filename) or (\"encoding-scrambled-original\" in filename):\n",
    "                condition = filename.split(\",\")[0].split(\"Pereira2018-\")[-1]\n",
    "                print(condition)\n",
    "                if not condition in score_dict:\n",
    "                    score_dict[condition] = {}\n",
    "                file = os.path.join(working_dir,filename)\n",
    "                with open(file, 'rb') as f:\n",
    "                    out = pickle.load(f)\n",
    "                result = out['data'].values\n",
    "                #print(result, '\\n\\n')\n",
    "                max_score, error = get_max_score(result)\n",
    "                score_dict[condition]['score'] = max_score\n",
    "                score_dict[condition]['error'] = error\n",
    "    return score_dict"
   ]
  },
  {
   "cell_type": "code",
   "execution_count": 6,
   "metadata": {},
   "outputs": [],
   "source": [
    "def get_last_scores_df(model_identifier):\n",
    "    \"\"\"\n",
    "    input: model_identifier\n",
    "    output: dictionary containing the last score and associated error per condition.\n",
    "            structure of dictionary: condition --> {score --> max_score, error --> associated error}\n",
    "    \"\"\"\n",
    "    conditions = []\n",
    "    last_scores = []\n",
    "    errors = []\n",
    "    for filename in filenames:\n",
    "        #print(filename)\n",
    "        model_name = filename.split(\",\")[1]\n",
    "        if \"model=\" + model_identifier == model_name:\n",
    "            condition = filename.split(\",\")[0].split(\"Pereira2018-\")[-1]\n",
    "            #condition = re.sub(\"ablation-\",\"\",condition)\n",
    "            #condition = re.sub(\"scrambled-\",\"\",condition)\n",
    "            print(condition)\n",
    "\n",
    "            file = os.path.join(working_dir,filename)\n",
    "            with open(file, 'rb') as f:\n",
    "                out = pickle.load(f)\n",
    "            result = out['data'].values\n",
    "            #print(result, '\\n\\n')\n",
    "            last_score, error = last_score, error = result[-1][0], result[-1][1]\n",
    "            conditions.append(condition)\n",
    "            last_scores.append(last_score)\n",
    "            errors.append(error)\n",
    "    import pandas as pd\n",
    "    index = conditions\n",
    "    df = pd.DataFrame({'score': last_scores,\n",
    "    'error': errors, 'condition': conditions})\n",
    "    df['condition'] = pd.Categorical(df['condition'], categories=mycategories)\n",
    "    scores_df = df.sort_values(by='condition')\n",
    "    return scores_df"
   ]
  },
  {
   "cell_type": "code",
   "execution_count": 7,
   "metadata": {},
   "outputs": [
    {
     "name": "stdout",
     "output_type": "stream",
     "text": [
      "encoding\n",
      "encoding-scrambled-original\n",
      "encoding-scrambled-lowpmi\n",
      "encoding-scrambled-lowpmi-finalperiod\n"
     ]
    }
   ],
   "source": [
    "scores_df = get_last_scores_df('distilgpt2')"
   ]
  },
  {
   "cell_type": "markdown",
   "metadata": {},
   "source": [
    "### Quick sanity check"
   ]
  },
  {
   "cell_type": "code",
   "execution_count": 8,
   "metadata": {},
   "outputs": [
    {
     "data": {
      "text/html": [
       "<div>\n",
       "<style scoped>\n",
       "    .dataframe tbody tr th:only-of-type {\n",
       "        vertical-align: middle;\n",
       "    }\n",
       "\n",
       "    .dataframe tbody tr th {\n",
       "        vertical-align: top;\n",
       "    }\n",
       "\n",
       "    .dataframe thead th {\n",
       "        text-align: right;\n",
       "    }\n",
       "</style>\n",
       "<table border=\"1\" class=\"dataframe\">\n",
       "  <thead>\n",
       "    <tr style=\"text-align: right;\">\n",
       "      <th></th>\n",
       "      <th>score</th>\n",
       "      <th>error</th>\n",
       "      <th>condition</th>\n",
       "    </tr>\n",
       "  </thead>\n",
       "  <tbody>\n",
       "    <tr>\n",
       "      <th>0</th>\n",
       "      <td>0.805972</td>\n",
       "      <td>0.123458</td>\n",
       "      <td>encoding</td>\n",
       "    </tr>\n",
       "    <tr>\n",
       "      <th>1</th>\n",
       "      <td>0.445486</td>\n",
       "      <td>0.141692</td>\n",
       "      <td>encoding-scrambled-original</td>\n",
       "    </tr>\n",
       "    <tr>\n",
       "      <th>2</th>\n",
       "      <td>0.524488</td>\n",
       "      <td>0.097553</td>\n",
       "      <td>encoding-scrambled-lowpmi</td>\n",
       "    </tr>\n",
       "    <tr>\n",
       "      <th>3</th>\n",
       "      <td>0.524488</td>\n",
       "      <td>0.097553</td>\n",
       "      <td>encoding-scrambled-lowpmi-finalperiod</td>\n",
       "    </tr>\n",
       "  </tbody>\n",
       "</table>\n",
       "</div>"
      ],
      "text/plain": [
       "      score     error                              condition\n",
       "0  0.805972  0.123458                               encoding\n",
       "1  0.445486  0.141692            encoding-scrambled-original\n",
       "2  0.524488  0.097553              encoding-scrambled-lowpmi\n",
       "3  0.524488  0.097553  encoding-scrambled-lowpmi-finalperiod"
      ]
     },
     "execution_count": 8,
     "metadata": {},
     "output_type": "execute_result"
    }
   ],
   "source": [
    "scores_df"
   ]
  },
  {
   "cell_type": "code",
   "execution_count": 9,
   "metadata": {},
   "outputs": [],
   "source": [
    "def bar_plot(model_identifier,get_last_scores_df):\n",
    "    colors = sns.color_palette(\"rocket\")\n",
    "    x_pos = np.arange(len(get_last_scores_df))\n",
    "    scores = get_last_scores_df['score']\n",
    "    errors = get_last_scores_df['error']\n",
    "    conditions = get_last_scores_df['condition']\n",
    "    fig, ax = plt.subplots()\n",
    "    ax.bar(x_pos, scores,\n",
    "       yerr=errors,\n",
    "       align='center',\n",
    "       alpha=0.8, #color intensity\n",
    "       ecolor='black',\n",
    "       capsize=5, #error bar width\n",
    "       color=colors[1]) #if you put just color=colors, you get the bar plots in different rocket palette colors\n",
    "    ax.set_ylabel('ceiled score',fontsize=12)\n",
    "    ax.set_xticks(x_pos)\n",
    "    ax.set_xticklabels(conditions, rotation=60)\n",
    "    \n",
    "    if len(model_identifier.split(\"-\")) == 1:\n",
    "        model_identifier += \"-lasttoken\"\n",
    "    ax.set_title('{}'.format(model_identifier),fontsize=18)\n",
    "    ax.yaxis.grid(True)\n",
    "    ax.set_ylim([0,1])\n",
    "    \n",
    "    if not os.path.isdir(\"fig/checks\"):\n",
    "        os.mkdir(\"fig/checks\")\n",
    "    savename = 'fig/checks/2021-08-13-match-to-brain-perturbed-{}.png'.format(model_identifier)\n",
    "    plt.savefig(savename, bbox_inches='tight', dpi=240)\n",
    "    plt.show()"
   ]
  },
  {
   "cell_type": "code",
   "execution_count": 10,
   "metadata": {},
   "outputs": [],
   "source": [
    "def main_plot(model_identifier):\n",
    "    scores_df = get_last_scores_df(model_identifier)\n",
    "    bar_plot(model_identifier,scores_df)"
   ]
  },
  {
   "cell_type": "markdown",
   "metadata": {},
   "source": [
    "# Ready to plot!"
   ]
  },
  {
   "cell_type": "code",
   "execution_count": 11,
   "metadata": {},
   "outputs": [
    {
     "name": "stdout",
     "output_type": "stream",
     "text": [
      "encoding\n",
      "encoding-scrambled-original\n",
      "encoding-scrambled-lowpmi\n",
      "encoding-scrambled-lowpmi-finalperiod\n"
     ]
    },
    {
     "data": {
      "image/png": "[encoded data removed]",
      "text/plain": [
       "<Figure size 432x288 with 1 Axes>"
      ]
     },
     "metadata": {
      "needs_background": "light"
     },
     "output_type": "display_data"
    }
   ],
   "source": [
    "main_plot('distilgpt2')"
   ]
  },
  {
   "cell_type": "code",
   "execution_count": 12,
   "metadata": {},
   "outputs": [
    {
     "name": "stdout",
     "output_type": "stream",
     "text": [
      "encoding\n",
      "encoding-scrambled-original\n"
     ]
    },
    {
     "data": {
      "image/png": "[encoded data removed]",
      "text/plain": [
       "<Figure size 432x288 with 1 Axes>"
      ]
     },
     "metadata": {
      "needs_background": "light"
     },
     "output_type": "display_data"
    }
   ],
   "source": [
    "main_plot('distilgpt2-avgtoken')"
   ]
  },
  {
   "cell_type": "code",
   "execution_count": 13,
   "metadata": {},
   "outputs": [
    {
     "name": "stdout",
     "output_type": "stream",
     "text": [
      "encoding\n",
      "encoding-ablation-nopunctuation\n"
     ]
    },
    {
     "data": {
      "image/png": "[encoded data removed]",
      "text/plain": [
       "<Figure size 432x288 with 1 Axes>"
      ]
     },
     "metadata": {
      "needs_background": "light"
     },
     "output_type": "display_data"
    }
   ],
   "source": [
    "main_plot('gpt2')"
   ]
  },
  {
   "cell_type": "code",
   "execution_count": 14,
   "metadata": {},
   "outputs": [
    {
     "name": "stdout",
     "output_type": "stream",
     "text": [
      "encoding\n"
     ]
    },
    {
     "data": {
      "image/png": "[encoded data removed]",
      "text/plain": [
       "<Figure size 432x288 with 1 Axes>"
      ]
     },
     "metadata": {
      "needs_background": "light"
     },
     "output_type": "display_data"
    }
   ],
   "source": [
    "main_plot('gpt2-avgtoken')"
   ]
  },
  {
   "cell_type": "markdown",
   "metadata": {},
   "source": [
    "# Loop to create subplots"
   ]
  },
  {
   "cell_type": "code",
   "execution_count": 15,
   "metadata": {},
   "outputs": [],
   "source": [
    "import math\n",
    "from matplotlib.gridspec import GridSpec\n",
    "\n",
    "def get_subplots_loop(model_list):\n",
    "    nsubplots = len(model_list)\n",
    "    nrows = math.ceil(nsubplots/2)\n",
    "    colors = sns.color_palette(\"rocket\")\n",
    "    \n",
    "    fig2 = plt.figure(constrained_layout=True, figsize=(15, 4*nrows))\n",
    "    #fig2.suptitle('Last-layer score across scrambling conditions', fontsize=22, y=1.05)\n",
    "    spec2 = GridSpec(ncols=2, nrows=nrows, figure=fig2)\n",
    "    f2_ax = []\n",
    "    \n",
    "    counter = 0\n",
    "    for i in range(nrows):\n",
    "        for j in range(2):\n",
    "            if counter + 1 > nsubplots:\n",
    "                break\n",
    "            else:\n",
    "                print(model_list[counter])\n",
    "                scores_df = get_last_scores_df(model_list[counter])\n",
    "                x_pos = np.arange(len(scores_df))\n",
    "                scores = scores_df['score']\n",
    "                errors = scores_df['error']\n",
    "                conditions = scores_df['condition']\n",
    "\n",
    "                f2_ax.append(fig2.add_subplot(spec2[i, j]))\n",
    "                f2_ax[-1].bar(x_pos, scores,\n",
    "                       yerr=errors,\n",
    "                       align='center',\n",
    "                       alpha=0.8, #color intensity\n",
    "                       ecolor='black',\n",
    "                       capsize=5, #error-bar width\n",
    "                       color=colors[1]) #if you put just color=colors, you get the bar plots in different rocket palette colors\n",
    "                f2_ax[-1].set_ylabel('ceiled score',fontsize=12)\n",
    "                f2_ax[-1].set_xticks(x_pos)\n",
    "                f2_ax[-1].set_xticklabels(conditions, rotation=60)\n",
    "                f2_ax[-1].set_ylim([0, 1])\n",
    "                \n",
    "                model_name = model_list[counter]\n",
    "                if len(model_name.split(\"-\")) == 1:\n",
    "                    model_name = model_name + \"-lasttoken\"\n",
    "                f2_ax[-1].set_title('{}'.format(model_name),fontsize=18)\n",
    "                f2_ax[-1].yaxis.grid(True)\n",
    "                counter += 1\n",
    "    fig2.savefig('fig/checks/2021-08-13.png', bbox_inches='tight', dpi=240)"
   ]
  },
  {
   "cell_type": "code",
   "execution_count": 16,
   "metadata": {},
   "outputs": [
    {
     "name": "stdout",
     "output_type": "stream",
     "text": [
      "distilgpt2\n",
      "encoding\n",
      "encoding-scrambled-original\n",
      "encoding-scrambled-lowpmi\n",
      "encoding-scrambled-lowpmi-finalperiod\n",
      "distilgpt2-avgtoken\n",
      "encoding\n",
      "encoding-scrambled-original\n"
     ]
    },
    {
     "data": {
      "image/png": "[encoded data removed]",
      "text/plain": [
       "<Figure size 1080x288 with 2 Axes>"
      ]
     },
     "metadata": {
      "needs_background": "light"
     },
     "output_type": "display_data"
    }
   ],
   "source": [
    "get_subplots_loop(['distilgpt2', 'distilgpt2-avgtoken'])"
   ]
  },
  {
   "cell_type": "code",
   "execution_count": 17,
   "metadata": {},
   "outputs": [
    {
     "name": "stdout",
     "output_type": "stream",
     "text": [
      "gpt2\n",
      "encoding\n",
      "encoding-ablation-nopunctuation\n",
      "gpt2-avgtoken\n",
      "encoding\n"
     ]
    },
    {
     "data": {
      "image/png": "[encoded data removed]",
      "text/plain": [
       "<Figure size 1080x288 with 2 Axes>"
      ]
     },
     "metadata": {
      "needs_background": "light"
     },
     "output_type": "display_data"
    }
   ],
   "source": [
    "get_subplots_loop(['gpt2', 'gpt2-avgtoken'])"
   ]
  },
  {
   "cell_type": "markdown",
   "metadata": {},
   "source": [
    "_____________________________\n",
    "_____________________________\n",
    "# Lineplot over layers"
   ]
  },
  {
   "cell_type": "code",
   "execution_count": 18,
   "metadata": {},
   "outputs": [],
   "source": [
    "def get_score_dict(model_identifier):\n",
    "    \"\"\"\n",
    "    input: model_identifier\n",
    "    output: dictionary containing the maximum score and associated error per condition.\n",
    "            structure of dictionary: condition --> {score --> list of scores across layers,\n",
    "                                                    error --> list of associated errors}\n",
    "    \"\"\"\n",
    "    score_dict = {}\n",
    "    for filename in os.listdir(working_dir):\n",
    "        model_name = filename.split(\",\")[1]\n",
    "        if \"model=\" + model_identifier == model_name:\n",
    "            if (\"ablation\" in filename) or (\"encoding-scrambled-original\" in filename):\n",
    "                condition = filename.split(\",\")[0].split(\"Pereira2018-encoding-\")[-1]\n",
    "                if \"-\" in condition:\n",
    "                    condition = condition.split(\"-\")[1]\n",
    "                print(condition)\n",
    "                if not condition in score_dict:\n",
    "                    score_dict[condition] = {}\n",
    "                file = os.path.join(working_dir,filename)\n",
    "                with open(file, 'rb') as f:\n",
    "                    out = pickle.load(f)\n",
    "                result = out['data'].values\n",
    "                #print(out['data'].layer) # sanity check which confirms order of layers is correct despite single-digit\n",
    "                #names in e.g.g, gpt2, (i.e.: drop, encoder.h.0, encoder.h.1, ..., encoder.h.10, encoder.h.11)\n",
    "                scores = [result[i][0] for i in range(len(result))]\n",
    "                errors = [result[i][1] for i in range(len(result))]\n",
    "                score_dict[condition]['score'] = scores\n",
    "                score_dict[condition]['error'] = errors\n",
    "    ordered_score_dict = reorder_df(score_dict)\n",
    "    return ordered_score_dict"
   ]
  },
  {
   "cell_type": "code",
   "execution_count": 19,
   "metadata": {},
   "outputs": [],
   "source": [
    "def reorder_df(dictionary):\n",
    "    #desired_order_list = ['original', 'nouns', 'nounsverbs', 'nounsverbsadj', 'functionwords', 'passageshuffle']\n",
    "    desired_order_list = mycategories\n",
    "    reordered_dict = {k: dictionary[k] for k in desired_order_list}\n",
    "    return reordered_dict"
   ]
  },
  {
   "cell_type": "code",
   "execution_count": 20,
   "metadata": {},
   "outputs": [],
   "source": [
    "#distilgpt2_score_dict = get_score_dict('distilgpt2')"
   ]
  },
  {
   "cell_type": "code",
   "execution_count": 21,
   "metadata": {},
   "outputs": [],
   "source": [
    "#print(distilgpt2_score_dict.keys())"
   ]
  },
  {
   "cell_type": "code",
   "execution_count": 22,
   "metadata": {},
   "outputs": [],
   "source": [
    "#print(distilgpt2_score_dict['scrambled7'])"
   ]
  },
  {
   "cell_type": "code",
   "execution_count": 23,
   "metadata": {},
   "outputs": [],
   "source": [
    "working_dir2 = \"/om2/user/ckauf/.result_caching/neural_nlp.models.wrapper.core.ActivationsExtractorHelper._from_sentences_stored\"\n",
    "def get_all_layers(model_identifier):\n",
    "    \"\"\"\n",
    "    input: model_identifier of model of which we want to find the layers\n",
    "    output: np.array of all unique layer identifiers, ordered by position\n",
    "    \"\"\"\n",
    "    for ind,filename in enumerate(os.listdir(working_dir2)):\n",
    "        if \"identifier=\" + model_identifier in filename:\n",
    "            file = os.path.join(working_dir2,filename)\n",
    "            with open(file, 'rb') as f:\n",
    "                result = pickle.load(f)\n",
    "            result = result['data']\n",
    "            layer_list = np.unique(result.layer)\n",
    "            #order double-digit layers at end of list\n",
    "            double_digits = []\n",
    "            if model_identifier in ['gpt2','distilgpt2']:\n",
    "                double_digits = [elm for elm in layer_list if 'encoder.h.' in elm and len(elm.split('.h.')[-1]) > 1]\n",
    "            if model_identifier == 'albert-xxlarge-v2':\n",
    "                double_digits = [elm for elm in layer_list if 'encoder.albert_layer_groups.' in elm and len(elm.split('.albert_layer_groups.')[-1]) > 1]\n",
    "            if model_identifier == 'xlnet-large-cased':\n",
    "                double_digits = [elm for elm in layer_list if 'encoder.layer.' in elm and len(elm.split('.layer.')[-1]) > 1]\n",
    "            if model_identifier == 'bert-large-uncased-whole-word-masking':\n",
    "                shortened_names = ['.'.join(elm.split(\".\")[:-1]) for elm in layer_list if '.layer.' in elm]\n",
    "                layer_list = [layer_list[0]] + shortened_names\n",
    "                double_digits = [elm for elm in layer_list if '.layer.' in elm and len(elm.split('.layer.')[-1]) > 1]\n",
    "            layers = [e for e in layer_list if e not in double_digits] + double_digits\n",
    "            #shorten layer names\n",
    "            if model_identifier == 'lm_1b':\n",
    "                layers = [layer.split('/')[1] for layer in layers]\n",
    "            if 'albert' in model_identifier:\n",
    "                layers = [re.sub('.albert_layer_groups.','.h.', layer) for layer in layers]\n",
    "            return layers\n",
    "            break"
   ]
  },
  {
   "cell_type": "code",
   "execution_count": 24,
   "metadata": {},
   "outputs": [],
   "source": [
    "#get_all_layers('lm_1b')"
   ]
  },
  {
   "cell_type": "code",
   "execution_count": 25,
   "metadata": {},
   "outputs": [],
   "source": [
    "def get_layerplot(model_identifier):\n",
    "    #line_colors = sns.color_palette(\"rocket\") + sns.color_palette(\"GnBu_d\")\n",
    "    line_colors = sns.color_palette(\"rocket\") + sns.color_palette(\"GnBu_d\") + [sns.color_palette(\"PRGn\", 10)[2]] + [sns.color_palette(\"PuOr\", 10)[0]]\n",
    "    if model_identifier in ['xlnet-large-cased','bert-large-uncased-whole-word-masking']:\n",
    "        line_colors = sns.color_palette(\"rocket\") + sns.color_palette(\"GnBu_d\") + sns.color_palette(\"PRGn\", 10) + sns.color_palette(\"YlOrBr\", 10)\n",
    "    layers = get_all_layers(model_identifier)\n",
    "    score_dict = get_score_dict(model_identifier)\n",
    "    print(score_dict['original'].keys())\n",
    "        \n",
    "    fig, ax = plt.subplots()\n",
    "    \n",
    "    x = np.array(layers)\n",
    "    counter = 0\n",
    "    for key,value in score_dict.items():\n",
    "        ax.plot(x,np.array(score_dict[key]['score']), '-o',color=line_colors[counter])\n",
    "        counter += 1\n",
    "\n",
    "    conditions = list(score_dict.keys())\n",
    "\n",
    "    ax.set_title('Layer neural score evolution across conditions')\n",
    "    ax.legend(conditions, bbox_to_anchor=(1.05, 1), loc='upper left')\n",
    "    ax.yaxis.set_label_text('ceiled score')\n",
    "    ax.set_ylim([0,1])\n",
    "    plt.xticks(rotation= 90)"
   ]
  },
  {
   "cell_type": "code",
   "execution_count": 26,
   "metadata": {},
   "outputs": [
    {
     "name": "stdout",
     "output_type": "stream",
     "text": [
      "contentwords\n",
      "functionwords\n",
      "functionwords\n",
      "nouns\n",
      "nouns\n",
      "nounsverbs\n",
      "nounsverbsadj\n",
      "passageshuffle\n",
      "random\n",
      "random\n",
      "original\n",
      "original\n"
     ]
    },
    {
     "ename": "KeyError",
     "evalue": "'encoding'",
     "output_type": "error",
     "traceback": [
      "\u001b[0;31m---------------------------------------------------------------------------\u001b[0m",
      "\u001b[0;31mKeyError\u001b[0m                                  Traceback (most recent call last)",
      "\u001b[0;32m<ipython-input-26-5e093d407823>\u001b[0m in \u001b[0;36m<module>\u001b[0;34m\u001b[0m\n\u001b[0;32m----> 1\u001b[0;31m \u001b[0mget_layerplot\u001b[0m\u001b[0;34m(\u001b[0m\u001b[0;34m'distilgpt2'\u001b[0m\u001b[0;34m)\u001b[0m\u001b[0;34m\u001b[0m\u001b[0m\n\u001b[0m",
      "\u001b[0;32m<ipython-input-25-2119c3d745df>\u001b[0m in \u001b[0;36mget_layerplot\u001b[0;34m(model_identifier)\u001b[0m\n\u001b[1;32m      5\u001b[0m         \u001b[0mline_colors\u001b[0m \u001b[0;34m=\u001b[0m \u001b[0msns\u001b[0m\u001b[0;34m.\u001b[0m\u001b[0mcolor_palette\u001b[0m\u001b[0;34m(\u001b[0m\u001b[0;34m\"rocket\"\u001b[0m\u001b[0;34m)\u001b[0m \u001b[0;34m+\u001b[0m \u001b[0msns\u001b[0m\u001b[0;34m.\u001b[0m\u001b[0mcolor_palette\u001b[0m\u001b[0;34m(\u001b[0m\u001b[0;34m\"GnBu_d\"\u001b[0m\u001b[0;34m)\u001b[0m \u001b[0;34m+\u001b[0m \u001b[0msns\u001b[0m\u001b[0;34m.\u001b[0m\u001b[0mcolor_palette\u001b[0m\u001b[0;34m(\u001b[0m\u001b[0;34m\"PRGn\"\u001b[0m\u001b[0;34m,\u001b[0m \u001b[0;36m10\u001b[0m\u001b[0;34m)\u001b[0m \u001b[0;34m+\u001b[0m \u001b[0msns\u001b[0m\u001b[0;34m.\u001b[0m\u001b[0mcolor_palette\u001b[0m\u001b[0;34m(\u001b[0m\u001b[0;34m\"YlOrBr\"\u001b[0m\u001b[0;34m,\u001b[0m \u001b[0;36m10\u001b[0m\u001b[0;34m)\u001b[0m\u001b[0;34m\u001b[0m\u001b[0m\n\u001b[1;32m      6\u001b[0m     \u001b[0mlayers\u001b[0m \u001b[0;34m=\u001b[0m \u001b[0mget_all_layers\u001b[0m\u001b[0;34m(\u001b[0m\u001b[0mmodel_identifier\u001b[0m\u001b[0;34m)\u001b[0m\u001b[0;34m\u001b[0m\u001b[0m\n\u001b[0;32m----> 7\u001b[0;31m     \u001b[0mscore_dict\u001b[0m \u001b[0;34m=\u001b[0m \u001b[0mget_score_dict\u001b[0m\u001b[0;34m(\u001b[0m\u001b[0mmodel_identifier\u001b[0m\u001b[0;34m)\u001b[0m\u001b[0;34m\u001b[0m\u001b[0m\n\u001b[0m\u001b[1;32m      8\u001b[0m     \u001b[0mprint\u001b[0m\u001b[0;34m(\u001b[0m\u001b[0mscore_dict\u001b[0m\u001b[0;34m[\u001b[0m\u001b[0;34m'original'\u001b[0m\u001b[0;34m]\u001b[0m\u001b[0;34m.\u001b[0m\u001b[0mkeys\u001b[0m\u001b[0;34m(\u001b[0m\u001b[0;34m)\u001b[0m\u001b[0;34m)\u001b[0m\u001b[0;34m\u001b[0m\u001b[0m\n\u001b[1;32m      9\u001b[0m \u001b[0;34m\u001b[0m\u001b[0m\n",
      "\u001b[0;32m<ipython-input-18-2c99318a77f9>\u001b[0m in \u001b[0;36mget_score_dict\u001b[0;34m(model_identifier)\u001b[0m\n\u001b[1;32m     27\u001b[0m                 \u001b[0mscore_dict\u001b[0m\u001b[0;34m[\u001b[0m\u001b[0mcondition\u001b[0m\u001b[0;34m]\u001b[0m\u001b[0;34m[\u001b[0m\u001b[0;34m'score'\u001b[0m\u001b[0;34m]\u001b[0m \u001b[0;34m=\u001b[0m \u001b[0mscores\u001b[0m\u001b[0;34m\u001b[0m\u001b[0m\n\u001b[1;32m     28\u001b[0m                 \u001b[0mscore_dict\u001b[0m\u001b[0;34m[\u001b[0m\u001b[0mcondition\u001b[0m\u001b[0;34m]\u001b[0m\u001b[0;34m[\u001b[0m\u001b[0;34m'error'\u001b[0m\u001b[0;34m]\u001b[0m \u001b[0;34m=\u001b[0m \u001b[0merrors\u001b[0m\u001b[0;34m\u001b[0m\u001b[0m\n\u001b[0;32m---> 29\u001b[0;31m     \u001b[0mordered_score_dict\u001b[0m \u001b[0;34m=\u001b[0m \u001b[0mreorder_df\u001b[0m\u001b[0;34m(\u001b[0m\u001b[0mscore_dict\u001b[0m\u001b[0;34m)\u001b[0m\u001b[0;34m\u001b[0m\u001b[0m\n\u001b[0m\u001b[1;32m     30\u001b[0m     \u001b[0;32mreturn\u001b[0m \u001b[0mordered_score_dict\u001b[0m\u001b[0;34m\u001b[0m\u001b[0m\n",
      "\u001b[0;32m<ipython-input-19-ba3c60a5f04f>\u001b[0m in \u001b[0;36mreorder_df\u001b[0;34m(dictionary)\u001b[0m\n\u001b[1;32m      2\u001b[0m     \u001b[0;31m#desired_order_list = ['original', 'nouns', 'nounsverbs', 'nounsverbsadj', 'functionwords', 'passageshuffle']\u001b[0m\u001b[0;34m\u001b[0m\u001b[0;34m\u001b[0m\u001b[0m\n\u001b[1;32m      3\u001b[0m     \u001b[0mdesired_order_list\u001b[0m \u001b[0;34m=\u001b[0m \u001b[0mmycategories\u001b[0m\u001b[0;34m\u001b[0m\u001b[0m\n\u001b[0;32m----> 4\u001b[0;31m     \u001b[0mreordered_dict\u001b[0m \u001b[0;34m=\u001b[0m \u001b[0;34m{\u001b[0m\u001b[0mk\u001b[0m\u001b[0;34m:\u001b[0m \u001b[0mdictionary\u001b[0m\u001b[0;34m[\u001b[0m\u001b[0mk\u001b[0m\u001b[0;34m]\u001b[0m \u001b[0;32mfor\u001b[0m \u001b[0mk\u001b[0m \u001b[0;32min\u001b[0m \u001b[0mdesired_order_list\u001b[0m\u001b[0;34m}\u001b[0m\u001b[0;34m\u001b[0m\u001b[0m\n\u001b[0m\u001b[1;32m      5\u001b[0m     \u001b[0;32mreturn\u001b[0m \u001b[0mreordered_dict\u001b[0m\u001b[0;34m\u001b[0m\u001b[0m\n",
      "\u001b[0;32m<ipython-input-19-ba3c60a5f04f>\u001b[0m in \u001b[0;36m<dictcomp>\u001b[0;34m(.0)\u001b[0m\n\u001b[1;32m      2\u001b[0m     \u001b[0;31m#desired_order_list = ['original', 'nouns', 'nounsverbs', 'nounsverbsadj', 'functionwords', 'passageshuffle']\u001b[0m\u001b[0;34m\u001b[0m\u001b[0;34m\u001b[0m\u001b[0m\n\u001b[1;32m      3\u001b[0m     \u001b[0mdesired_order_list\u001b[0m \u001b[0;34m=\u001b[0m \u001b[0mmycategories\u001b[0m\u001b[0;34m\u001b[0m\u001b[0m\n\u001b[0;32m----> 4\u001b[0;31m     \u001b[0mreordered_dict\u001b[0m \u001b[0;34m=\u001b[0m \u001b[0;34m{\u001b[0m\u001b[0mk\u001b[0m\u001b[0;34m:\u001b[0m \u001b[0mdictionary\u001b[0m\u001b[0;34m[\u001b[0m\u001b[0mk\u001b[0m\u001b[0;34m]\u001b[0m \u001b[0;32mfor\u001b[0m \u001b[0mk\u001b[0m \u001b[0;32min\u001b[0m \u001b[0mdesired_order_list\u001b[0m\u001b[0;34m}\u001b[0m\u001b[0;34m\u001b[0m\u001b[0m\n\u001b[0m\u001b[1;32m      5\u001b[0m     \u001b[0;32mreturn\u001b[0m \u001b[0mreordered_dict\u001b[0m\u001b[0;34m\u001b[0m\u001b[0m\n",
      "\u001b[0;31mKeyError\u001b[0m: 'encoding'"
     ]
    }
   ],
   "source": [
    "get_layerplot('distilgpt2')"
   ]
  },
  {
   "cell_type": "code",
   "execution_count": null,
   "metadata": {},
   "outputs": [],
   "source": [
    "#print(get_all_layers('gpt2'))"
   ]
  },
  {
   "cell_type": "code",
   "execution_count": null,
   "metadata": {},
   "outputs": [],
   "source": [
    "get_layerplot('distilgpt2-avgtoken')"
   ]
  },
  {
   "cell_type": "code",
   "execution_count": null,
   "metadata": {},
   "outputs": [],
   "source": [
    "#print(get_all_layers('albert-xxlarge-v2'))"
   ]
  },
  {
   "cell_type": "code",
   "execution_count": null,
   "metadata": {},
   "outputs": [],
   "source": [
    "#get_layerplot('albert-xxlarge-v2')"
   ]
  },
  {
   "cell_type": "code",
   "execution_count": null,
   "metadata": {},
   "outputs": [],
   "source": [
    "#print(get_all_layers('distilbert-base-uncased'))"
   ]
  },
  {
   "cell_type": "code",
   "execution_count": null,
   "metadata": {},
   "outputs": [],
   "source": [
    "#get_layerplot('distilbert-base-uncased')"
   ]
  },
  {
   "cell_type": "code",
   "execution_count": null,
   "metadata": {},
   "outputs": [],
   "source": [
    "#print(get_all_layers('bert-large-uncased-whole-word-masking'))"
   ]
  },
  {
   "cell_type": "code",
   "execution_count": null,
   "metadata": {},
   "outputs": [],
   "source": [
    "#get_layerplot('bert-large-uncased-whole-word-masking')"
   ]
  },
  {
   "cell_type": "markdown",
   "metadata": {},
   "source": [
    "## Loop models into subplots"
   ]
  },
  {
   "cell_type": "code",
   "execution_count": null,
   "metadata": {},
   "outputs": [],
   "source": [
    "import math\n",
    "from matplotlib.gridspec import GridSpec\n",
    "\n",
    "def get_lineplots_loop(model_list,error_shading=True):\n",
    "    nsubplots = len(model_list)\n",
    "    nrows = math.ceil(nsubplots/2)\n",
    "    #line_colors = sns.color_palette(\"rocket\") + [sns.color_palette(\"PRGn\", 10)[2]] + [sns.color_palette(\"PuOr\", 10)[0]]\n",
    "    #line_colors = sns.color_palette(\"rocket\") + sns.color_palette(\"GnBu_d\") + [sns.color_palette(\"PRGn\", 10)[2]] + [sns.color_palette(\"PuOr\", 10)[0]]\n",
    "    #if model_identifier in ['xlnet-large-cased','bert-large-uncased-whole-word-masking']:\n",
    "    line_colors = sns.color_palette(\"rocket\") + sns.color_palette(\"GnBu_d\") + sns.color_palette(\"PRGn\", 10) + sns.color_palette(\"YlOrBr\", 10)\n",
    "        \n",
    "    fig2 = plt.figure(constrained_layout=True, figsize=(15, 5*nrows))\n",
    "    fig2.suptitle('Score evolution of layers over scrambling conditions', fontsize=22, y=1.05)\n",
    "    spec2 = GridSpec(ncols=2, nrows=nrows, figure=fig2)\n",
    "    f2_ax = []\n",
    "    \n",
    "    model_counter = 0\n",
    "    for i in range(nrows):\n",
    "        for j in range(2):\n",
    "            if model_counter + 1 > nsubplots:\n",
    "                break\n",
    "            else:\n",
    "                print(model_list[model_counter])\n",
    "                layers = get_all_layers(model_list[model_counter])\n",
    "                score_dict = get_score_dict(model_list[model_counter])\n",
    "                f2_ax.append(fig2.add_subplot(spec2[i, j]))\n",
    "                \n",
    "                counter = 0\n",
    "                x = np.array(layers)\n",
    "                for key,value in score_dict.items():\n",
    "                    f2_ax[-1].plot(x,np.array(score_dict[key]['score']), '-o',color=line_colors[counter])\n",
    "                    if error_shading==True:\n",
    "                        f2_ax[-1].fill_between(x,np.array(score_dict[key]['score'])-np.array(score_dict[key]['error']), np.array(score_dict[key]['score'])+np.array(score_dict[key]['error']),facecolor=line_colors[counter],alpha=0.05)\n",
    "                    counter += 1\n",
    "\n",
    "                conditions = list(score_dict.keys())\n",
    "\n",
    "                f2_ax[-1].set_title('{}'.format(model_list[model_counter]),fontsize=18)\n",
    "                f2_ax[-1].yaxis.set_label_text('ceiled score')\n",
    "                f2_ax[-1].set_ylim([0, 1])\n",
    "                plt.xticks(rotation= 90)\n",
    "                #if model_counter == 0:\n",
    "                    #f2_ax[-1].legend(conditions, loc='lower right')\n",
    "                model_counter += 1\n",
    "    #fig2.legend(conditions, loc='lower right')\n",
    "    fig2.legend(conditions, bbox_to_anchor=(1.05, 1), loc='upper left')\n",
    "    if error_shading==True:\n",
    "        fig2.savefig('fig/2021-08-13-match-to-brain-evolution-error-shading.png', bbox_inches='tight')\n",
    "    else:\n",
    "        fig2.savefig('fig/2021-08-13-match-to-brain-evolution.png', bbox_inches='tight', dpi=240)"
   ]
  },
  {
   "cell_type": "code",
   "execution_count": null,
   "metadata": {
    "scrolled": false
   },
   "outputs": [],
   "source": [
    "#get_lineplots_loop(['glove','lm_1b','skip-thoughts','albert-xxlarge-v2','bert-large-uncased-whole-word-masking', 'xlnet-large-cased', 'distilgpt2', 'gpt2'])\n",
    "#bert-large-uncased-whole-word-masking lowpmi condition missing"
   ]
  },
  {
   "cell_type": "code",
   "execution_count": null,
   "metadata": {},
   "outputs": [],
   "source": [
    "get_lineplots_loop(['distilgpt2', 'distilgpt2-avgtoken'],error_shading=True)"
   ]
  },
  {
   "cell_type": "code",
   "execution_count": null,
   "metadata": {},
   "outputs": [],
   "source": [
    "get_lineplots_loop(['distilgpt2', 'distilgpt2-avgtoken'],error_shading=False)"
   ]
  },
  {
   "cell_type": "code",
   "execution_count": null,
   "metadata": {},
   "outputs": [],
   "source": [
    "get_lineplots_loop(['gpt2', 'gpt2-avgtoken'],error_shading=False)"
   ]
  },
  {
   "cell_type": "code",
   "execution_count": null,
   "metadata": {},
   "outputs": [],
   "source": []
  }
 ],
 "metadata": {
  "kernelspec": {
   "display_name": "Python 3",
   "language": "python",
   "name": "python3"
  },
  "language_info": {
   "codemirror_mode": {
    "name": "ipython",
    "version": 3
   },
   "file_extension": ".py",
   "mimetype": "text/x-python",
   "name": "python",
   "nbconvert_exporter": "python",
   "pygments_lexer": "ipython3",
   "version": "3.6.2"
  }
 },
 "nbformat": 4,
 "nbformat_minor": 2
}
